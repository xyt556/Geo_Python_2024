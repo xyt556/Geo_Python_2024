{
 "cells": [
  {
   "cell_type": "markdown",
   "id": "cc726fd8",
   "metadata": {},
   "source": [
    "# About the Author\n",
    "\n",
    "Dr. Qiusheng Wu is a faculty member of the Department of Geography & Sustainability at the University of Tennessee, Knoxville. He is also an Amazon Visiting Academic and a Google Developer Expert (GDE) for Earth Engine. His research interests are focused on Geographic Information Science (GIS), remote sensing, and environmental modeling. More specifically, he is interested in applying geospatial big data, machine learning, and cloud computing to study environmental change, especially surface water and wetland inundation dynamics. Dr. Wu is an advocate of open science and reproducible research. He has developed several open-source packages for interactive mapping and geospatial analysis, such as [geemap](https://geemap.org), [leafmap](https://leafmap.org), [geospatial](https://geospatial.gishub.org), [pygis](https://pygis.gishub.org), [lidar](https://lidar.gishub.org), and [WhiteboxTools frontends](https://giswqs.github.io/whitebox-frontends/). More information about his open-source projects can be found on GitHub (<https://github.com/giswqs>). Additionally, Dr. Wu has shared his GIS and mapping expertise through hundreds of videos on his YouTube channel at <https://youtube.com/@giswqs>."
   ]
  },
  {
   "cell_type": "code",
   "execution_count": null,
   "id": "2e2d70c7-23a0-476b-a446-b383e157a037",
   "metadata": {},
   "outputs": [],
   "source": []
  },
  {
   "cell_type": "code",
   "execution_count": null,
   "id": "52f82e9f-8f3c-4d94-9265-7e1f7877cb34",
   "metadata": {},
   "outputs": [],
   "source": []
  }
 ],
 "metadata": {
  "kernelspec": {
   "display_name": "Python 3 (ipykernel)",
   "language": "python",
   "name": "python3"
  },
  "language_info": {
   "codemirror_mode": {
    "name": "ipython",
    "version": 3
   },
   "file_extension": ".py",
   "mimetype": "text/x-python",
   "name": "python",
   "nbconvert_exporter": "python",
   "pygments_lexer": "ipython3",
   "version": "3.10.11"
  }
 },
 "nbformat": 4,
 "nbformat_minor": 5
}
