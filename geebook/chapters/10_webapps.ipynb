{
 "cells": [
  {
   "cell_type": "markdown",
   "id": "622f6e0e",
   "metadata": {},
   "source": [
    "# Building Interactive Web Apps\n",
    "\n",
    "```{contents}\n",
    ":local:\n",
    ":depth: 2\n",
    "```\n",
    "\n",
    "## Introduction\n",
    "\n",
    "## Technical requirements\n",
    "\n",
    "```bash\n",
    "conda install -n base mamba -c conda-forge\n",
    "mamba create -n gee -c conda-forge geemap pygis\n",
    "```\n",
    "\n",
    "```bash\n",
    "conda activate gee\n",
    "jupyter lab\n",
    "```"
   ]
  },
  {
   "cell_type": "code",
   "execution_count": null,
   "id": "d42f136a",
   "metadata": {},
   "outputs": [],
   "source": [
    "# %pip install pygis"
   ]
  },
  {
   "cell_type": "code",
   "execution_count": 2,
   "id": "15188b21",
   "metadata": {
    "tags": []
   },
   "outputs": [],
   "source": [
    "import ee\n",
    "import geemap\n",
    "geemap.set_proxy(port='10792')"
   ]
  },
  {
   "cell_type": "code",
   "execution_count": 3,
   "id": "109abf02",
   "metadata": {
    "tags": []
   },
   "outputs": [],
   "source": [
    "geemap.ee_initialize()"
   ]
  },
  {
   "cell_type": "markdown",
   "id": "f1d84789",
   "metadata": {},
   "source": [
    "## Building an Earth Engine App using JavaScript\n",
    "\n",
    "```javascript\n",
    "// Get an NLCD image by year.\n",
    "var getNLCD = function (year) {\n",
    "  // Import the NLCD collection.\n",
    "  var dataset = ee.ImageCollection(\"USGS/NLCD_RELEASES/2019_REL/NLCD\");\n",
    "\n",
    "  // Filter the collection by year.\n",
    "  var nlcd = dataset.filter(ee.Filter.eq(\"system:index\", year)).first();\n",
    "\n",
    "  // Select the land cover band.\n",
    "  var landcover = nlcd.select(\"landcover\");\n",
    "  return ui.Map.Layer(landcover, {}, year);\n",
    "};\n",
    "```\n",
    "\n",
    "```javascript\n",
    "// Create a dictionary with each year as the key\n",
    "// and its corresponding NLCD image layer as the value.\n",
    "var images = {\n",
    "  2001: getNLCD(\"2001\"),\n",
    "  2004: getNLCD(\"2004\"),\n",
    "  2006: getNLCD(\"2006\"),\n",
    "  2008: getNLCD(\"2008\"),\n",
    "  2011: getNLCD(\"2011\"),\n",
    "  2013: getNLCD(\"2013\"),\n",
    "  2016: getNLCD(\"2016\"),\n",
    "  2019: getNLCD(\"2019\"),\n",
    "};\n",
    "```\n",
    "\n",
    "```javascript\n",
    "// Create the left map, and have it display the first layer.\n",
    "var leftMap = ui.Map();\n",
    "leftMap.setControlVisibility(false);\n",
    "var leftSelector = addLayerSelector(leftMap, 0, \"top-left\");\n",
    "\n",
    "// Create the right map, and have it display the last layer.\n",
    "var rightMap = ui.Map();\n",
    "rightMap.setControlVisibility(true);\n",
    "var rightSelector = addLayerSelector(rightMap, 7, \"top-right\");\n",
    "\n",
    "// Adds a layer selection widget to the given map, to allow users to\n",
    "// change which image is displayed in the associated map.\n",
    "function addLayerSelector(mapToChange, defaultValue, position) {\n",
    "  var label = ui.Label(\"Select a year:\");\n",
    "\n",
    "  // This function changes the given map to show the selected image.\n",
    "  function updateMap(selection) {\n",
    "    // mapToChange.layers().set(0, ui.Map.Layer(images[selection]));\n",
    "    mapToChange.layers().set(0, images[selection]);\n",
    "  }\n",
    "\n",
    "  // Configure a selection dropdown to allow the user to choose\n",
    "  // between images, and set the map to update when a user\n",
    "  // makes a selection.\n",
    "  var select = ui.Select({ items: Object.keys(images), onChange: updateMap });\n",
    "  select.setValue(Object.keys(images)[defaultValue], true);\n",
    "\n",
    "  var controlPanel = ui.Panel({\n",
    "    widgets: [label, select],\n",
    "    style: { position: position },\n",
    "  });\n",
    "\n",
    "  mapToChange.add(controlPanel);\n",
    "}\n",
    "```\n",
    "\n",
    "```javascript\n",
    "// Set the legend title.\n",
    "var title = \"NLCD Land Cover Classification\";\n",
    "\n",
    "// Set the legend position.\n",
    "var position = \"bottom-right\";\n",
    "\n",
    "// Define a dictionary that will be used to make a legend\n",
    "var dict = {\n",
    "  names: [\n",
    "    \"11 Open Water\",\n",
    "    \"12 Perennial Ice/Snow\",\n",
    "    \"21 Developed, Open Space\",\n",
    "    \"22 Developed, Low Intensity\",\n",
    "    \"23 Developed, Medium Intensity\",\n",
    "    \"24 Developed, High Intensity\",\n",
    "    \"31 Barren Land (Rock/Sand/Clay)\",\n",
    "    \"41 Deciduous Forest\",\n",
    "    \"42 Evergreen Forest\",\n",
    "    \"43 Mixed Forest\",\n",
    "    \"51 Dwarf Scrub\",\n",
    "    \"52 Shrub/Scrub\",\n",
    "    \"71 Grassland/Herbaceous\",\n",
    "    \"72 Sedge/Herbaceous\",\n",
    "    \"73 Lichens\",\n",
    "    \"74 Moss\",\n",
    "    \"81 Pasture/Hay\",\n",
    "    \"82 Cultivated Crops\",\n",
    "    \"90 Woody Wetlands\",\n",
    "    \"95 Emergent Herbaceous Wetlands\",\n",
    "  ],\n",
    "\n",
    "  colors: [\n",
    "    \"#466b9f\",\n",
    "    \"#d1def8\",\n",
    "    \"#dec5c5\",\n",
    "    \"#d99282\",\n",
    "    \"#eb0000\",\n",
    "    \"#ab0000\",\n",
    "    \"#b3ac9f\",\n",
    "    \"#68ab5f\",\n",
    "    \"#1c5f2c\",\n",
    "    \"#b5c58f\",\n",
    "    \"#af963c\",\n",
    "    \"#ccb879\",\n",
    "    \"#dfdfc2\",\n",
    "    \"#d1d182\",\n",
    "    \"#a3cc51\",\n",
    "    \"#82ba9e\",\n",
    "    \"#dcd939\",\n",
    "    \"#ab6c28\",\n",
    "    \"#b8d9eb\",\n",
    "    \"#6c9fb8\",\n",
    "  ],\n",
    "};\n",
    "```\n",
    "\n",
    "```javascript\n",
    "// Create a panel to hold the legend widget.\n",
    "var legend = ui.Panel({\n",
    "  style: {\n",
    "    position: position,\n",
    "    padding: \"8px 15px\",\n",
    "  },\n",
    "});\n",
    "\n",
    "// Function to generate the legend.\n",
    "function addCategoricalLegend(panel, dict, title) {\n",
    "  // Create and add the legend title.\n",
    "  var legendTitle = ui.Label({\n",
    "    value: title,\n",
    "    style: {\n",
    "      fontWeight: \"bold\",\n",
    "      fontSize: \"18px\",\n",
    "      margin: \"0 0 4px 0\",\n",
    "      padding: \"0\",\n",
    "    },\n",
    "  });\n",
    "  panel.add(legendTitle);\n",
    "\n",
    "  var loading = ui.Label(\"Loading legend...\", { margin: \"2px 0 4px 0\" });\n",
    "  panel.add(loading);\n",
    "\n",
    "  // Creates and styles 1 row of the legend.\n",
    "  var makeRow = function (color, name) {\n",
    "    // Create the label that is actually the colored box.\n",
    "    var colorBox = ui.Label({\n",
    "      style: {\n",
    "        backgroundColor: color,\n",
    "        // Use padding to give the box height and width.\n",
    "        padding: \"8px\",\n",
    "        margin: \"0 0 4px 0\",\n",
    "      },\n",
    "    });\n",
    "\n",
    "    // Create the label filled with the description text.\n",
    "    var description = ui.Label({\n",
    "      value: name,\n",
    "      style: { margin: \"0 0 4px 6px\" },\n",
    "    });\n",
    "\n",
    "    return ui.Panel({\n",
    "      widgets: [colorBox, description],\n",
    "      layout: ui.Panel.Layout.Flow(\"horizontal\"),\n",
    "    });\n",
    "  };\n",
    "\n",
    "  // Get the list of palette colors and class names from the image.\n",
    "  var palette = dict.colors;\n",
    "  var names = dict.names;\n",
    "  loading.style().set(\"shown\", false);\n",
    "\n",
    "  for (var i = 0; i < names.length; i++) {\n",
    "    panel.add(makeRow(palette[i], names[i]));\n",
    "  }\n",
    "\n",
    "  rightMap.add(panel);\n",
    "}\n",
    "\n",
    "addCategoricalLegend(legend, dict, title);\n",
    "```\n",
    "\n",
    "```javascript\n",
    "// Create a SplitPanel to hold the adjacent, linked maps.\n",
    "var splitPanel = ui.SplitPanel({\n",
    "  firstPanel: leftMap,\n",
    "  secondPanel: rightMap,\n",
    "  wipe: true,\n",
    "  style: { stretch: \"both\" },\n",
    "});\n",
    "\n",
    "// Set the SplitPanel as the only thing in the UI root.\n",
    "ui.root.widgets().reset([splitPanel]);\n",
    "var linker = ui.Map.Linker([leftMap, rightMap]);\n",
    "leftMap.setCenter(-100, 40, 4);\n",
    "```\n",
    "\n",
    "## Publishing an Earth Engine App from the Code Editor\n",
    "\n",
    "## Developing an Earth Engine App using geemap\n",
    "\n",
    "```bash\n",
    "conda create -n gee python\n",
    "conda activate gee\n",
    "conda install mamba\n",
    "mamba install -c conda-forge geospatial\n",
    "```\n",
    "\n",
    "```bash\n",
    "conda activate gee\n",
    "jupyter notebook\n",
    "```"
   ]
  },
  {
   "cell_type": "code",
   "execution_count": 1,
   "id": "4cba1dc6",
   "metadata": {
    "tags": []
   },
   "outputs": [],
   "source": [
    "import ee\n",
    "import geemap"
   ]
  },
  {
   "cell_type": "code",
   "execution_count": 4,
   "id": "f9d6be96",
   "metadata": {
    "tags": []
   },
   "outputs": [
    {
     "data": {
      "application/vnd.jupyter.widget-view+json": {
       "model_id": "36a7e68eba9b41bd8129eeca07137dab",
       "version_major": 2,
       "version_minor": 0
      },
      "text/plain": [
       "Map(center=[40, -100], controls=(WidgetControl(options=['position', 'transparent_bg'], widget=HBox(children=(T…"
      ]
     },
     "execution_count": 4,
     "metadata": {},
     "output_type": "execute_result"
    }
   ],
   "source": [
    "Map = geemap.Map(center=[40, -100], zoom=4)\n",
    "Map"
   ]
  },
  {
   "cell_type": "code",
   "execution_count": 5,
   "id": "87e77ca9",
   "metadata": {
    "tags": []
   },
   "outputs": [
    {
     "data": {
      "application/vnd.jupyter.widget-view+json": {
       "model_id": "36a7e68eba9b41bd8129eeca07137dab",
       "version_major": 2,
       "version_minor": 0
      },
      "text/plain": [
       "Map(bottom=1851.0, center=[40, -100], controls=(WidgetControl(options=['position', 'transparent_bg'], widget=H…"
      ]
     },
     "execution_count": 5,
     "metadata": {},
     "output_type": "execute_result"
    }
   ],
   "source": [
    "# Import the NLCD collection\n",
    "dataset = ee.ImageCollection('USGS/NLCD_RELEASES/2019_REL/NLCD')\n",
    "\n",
    "# Filter the collection to the 2019 product\n",
    "nlcd2019 = dataset.filter(ee.Filter.eq('system:index', '2019')).first()\n",
    "\n",
    "# Select the land cover band\n",
    "landcover = nlcd2019.select('landcover')\n",
    "\n",
    "# Display land cover on the map\n",
    "Map.addLayer(landcover, {}, 'NLCD 2019')\n",
    "Map"
   ]
  },
  {
   "cell_type": "code",
   "execution_count": 6,
   "id": "6a2d45a1",
   "metadata": {
    "tags": []
   },
   "outputs": [],
   "source": [
    "title = 'NLCD Land Cover Classification'\n",
    "Map.add_legend(title=title, builtin_legend='NLCD')"
   ]
  },
  {
   "cell_type": "code",
   "execution_count": 7,
   "id": "23311208",
   "metadata": {
    "tags": []
   },
   "outputs": [],
   "source": [
    "legend_dict = {\n",
    "    '11 Open Water': '466b9f',\n",
    "    '12 Perennial Ice/Snow': 'd1def8',\n",
    "    '21 Developed, Open Space': 'dec5c5',\n",
    "    '22 Developed, Low Intensity': 'd99282',\n",
    "    '23 Developed, Medium Intensity': 'eb0000',\n",
    "    '24 Developed High Intensity': 'ab0000',\n",
    "    '31 Barren Land (Rock/Sand/Clay)': 'b3ac9f',\n",
    "    '41 Deciduous Forest': '68ab5f',\n",
    "    '42 Evergreen Forest': '1c5f2c',\n",
    "    '43 Mixed Forest': 'b5c58f',\n",
    "    '51 Dwarf Scrub': 'af963c',\n",
    "    '52 Shrub/Scrub': 'ccb879',\n",
    "    '71 Grassland/Herbaceous': 'dfdfc2',\n",
    "    '72 Sedge/Herbaceous': 'd1d182',\n",
    "    '73 Lichens': 'a3cc51',\n",
    "    '74 Moss': '82ba9e',\n",
    "    '81 Pasture/Hay': 'dcd939',\n",
    "    '82 Cultivated Crops': 'ab6c28',\n",
    "    '90 Woody Wetlands': 'b8d9eb',\n",
    "    '95 Emergent Herbaceous Wetlands': '6c9fb8',\n",
    "}\n",
    "title = 'NLCD Land Cover Classification'\n",
    "Map.add_legend(title=title, legend_dict=legend_dict)"
   ]
  },
  {
   "cell_type": "code",
   "execution_count": 8,
   "id": "b84c2fd3",
   "metadata": {
    "tags": []
   },
   "outputs": [
    {
     "data": {
      "text/plain": [
       "['USGS/NLCD_RELEASES/2019_REL/NLCD/2001',\n",
       " 'USGS/NLCD_RELEASES/2019_REL/NLCD/2004',\n",
       " 'USGS/NLCD_RELEASES/2019_REL/NLCD/2006',\n",
       " 'USGS/NLCD_RELEASES/2019_REL/NLCD/2008',\n",
       " 'USGS/NLCD_RELEASES/2019_REL/NLCD/2011',\n",
       " 'USGS/NLCD_RELEASES/2019_REL/NLCD/2013',\n",
       " 'USGS/NLCD_RELEASES/2019_REL/NLCD/2016',\n",
       " 'USGS/NLCD_RELEASES/2019_REL/NLCD/2019']"
      ]
     },
     "execution_count": 8,
     "metadata": {},
     "output_type": "execute_result"
    }
   ],
   "source": [
    "dataset.aggregate_array(\"system:id\").getInfo()"
   ]
  },
  {
   "cell_type": "code",
   "execution_count": 9,
   "id": "b322ce3e",
   "metadata": {
    "tags": []
   },
   "outputs": [],
   "source": [
    "years = ['2001', '2004', '2006', '2008', '2011', '2013', '2016', '2019']"
   ]
  },
  {
   "cell_type": "code",
   "execution_count": 11,
   "id": "8929c5c7",
   "metadata": {
    "tags": []
   },
   "outputs": [],
   "source": [
    "# Get an NLCD image by year\n",
    "def getNLCD(year): # Import the NLCD collection.\n",
    "    dataset = ee.ImageCollection('USGS/NLCD_RELEASES/2019_REL/NLCD')\n",
    "\n",
    "    # Filter the collection by year.\n",
    "    nlcd = dataset.filter(ee.Filter.eq('system:index', year)).first()\n",
    "\n",
    "    # Select the land cover band.\n",
    "    landcover = nlcd.select('landcover')\n",
    "    return landcover"
   ]
  },
  {
   "cell_type": "code",
   "execution_count": 12,
   "id": "63562c79",
   "metadata": {
    "tags": []
   },
   "outputs": [],
   "source": [
    "# Create an NLCD image collection for the selected years\n",
    "collection = ee.ImageCollection(ee.List(years).map(lambda year: getNLCD(year)))"
   ]
  },
  {
   "cell_type": "code",
   "execution_count": 13,
   "id": "67cae2f3",
   "metadata": {
    "tags": []
   },
   "outputs": [
    {
     "data": {
      "text/plain": [
       "['USGS/NLCD_RELEASES/2019_REL/NLCD/2001',\n",
       " 'USGS/NLCD_RELEASES/2019_REL/NLCD/2004',\n",
       " 'USGS/NLCD_RELEASES/2019_REL/NLCD/2006',\n",
       " 'USGS/NLCD_RELEASES/2019_REL/NLCD/2008',\n",
       " 'USGS/NLCD_RELEASES/2019_REL/NLCD/2011',\n",
       " 'USGS/NLCD_RELEASES/2019_REL/NLCD/2013',\n",
       " 'USGS/NLCD_RELEASES/2019_REL/NLCD/2016',\n",
       " 'USGS/NLCD_RELEASES/2019_REL/NLCD/2019']"
      ]
     },
     "execution_count": 13,
     "metadata": {},
     "output_type": "execute_result"
    }
   ],
   "source": [
    "collection.aggregate_array('system:id').getInfo()"
   ]
  },
  {
   "cell_type": "code",
   "execution_count": 14,
   "id": "45c691c2",
   "metadata": {
    "tags": []
   },
   "outputs": [
    {
     "data": {
      "text/plain": [
       "['NLCD 2001',\n",
       " 'NLCD 2004',\n",
       " 'NLCD 2006',\n",
       " 'NLCD 2008',\n",
       " 'NLCD 2011',\n",
       " 'NLCD 2013',\n",
       " 'NLCD 2016',\n",
       " 'NLCD 2019']"
      ]
     },
     "execution_count": 14,
     "metadata": {},
     "output_type": "execute_result"
    }
   ],
   "source": [
    "labels = [f'NLCD {year}' for year in years]\n",
    "labels"
   ]
  },
  {
   "cell_type": "code",
   "execution_count": 15,
   "id": "ceeda441",
   "metadata": {
    "tags": []
   },
   "outputs": [
    {
     "data": {
      "application/vnd.jupyter.widget-view+json": {
       "model_id": "36a7e68eba9b41bd8129eeca07137dab",
       "version_major": 2,
       "version_minor": 0
      },
      "text/plain": [
       "Map(bottom=1851.0, center=[40, -100], controls=(WidgetControl(options=['position', 'transparent_bg'], widget=D…"
      ]
     },
     "execution_count": 15,
     "metadata": {},
     "output_type": "execute_result"
    }
   ],
   "source": [
    "Map.ts_inspector(\n",
    "    left_ts=collection, right_ts=collection, left_names=labels, right_names=labels\n",
    ")\n",
    "Map"
   ]
  },
  {
   "cell_type": "markdown",
   "id": "2fda5b6d",
   "metadata": {},
   "source": [
    "## Publishing an Earth Engine App using a local web server\n",
    "\n",
    "```bash\n",
    "cd /path/to/ngrok/dir\n",
    "conda activate gee\n",
    "voila --no-browser nlcd_app.ipynb\n",
    "```\n",
    "\n",
    "```bash\n",
    "cd /path/to/ngrok/dir\n",
    "ngrok http 8866\n",
    "```\n",
    "\n",
    "```bash\n",
    "voila --no-browser --strip_sources=False nlcd_app.ipynb\n",
    "```\n",
    "\n",
    "```bash\n",
    "ngrok http -auth=\"username:password\" 8866\n",
    "```\n",
    "\n",
    "## Publishing an Earth Engine App using cloud platforms\n",
    "\n",
    "```bash\n",
    "web: voila --port=$PORT --no-browser --strip_sources=True --enable_nbextensions=True --MappingKernelManager.cull_interval=60 --MappingKernelManager.cull_idle_timeout=120 notebooks/\n",
    "```\n",
    "\n",
    "## Building an Earth Engine App Using Streamlit\n",
    "\n",
    "```bash\n",
    "conda activate gee\n",
    "mamba install -c conda-forge streamlit\n",
    "```\n",
    "\n",
    "```bash\n",
    "streamlit hello\n",
    "```\n",
    "\n",
    "```bash\n",
    "git config --global user.name \"Firstname Lastname\"\n",
    "git config --global user.email user@example.com\n",
    "```\n",
    "\n",
    "```bash\n",
    "git clone https://github.com/USERNAME/geemap-apps.git\n",
    "```"
   ]
  },
  {
   "cell_type": "code",
   "execution_count": 17,
   "id": "faccad1b",
   "metadata": {
    "tags": []
   },
   "outputs": [],
   "source": [
    "import ee\n",
    "import streamlit as st\n",
    "import geemap.foliumap as geemap"
   ]
  },
  {
   "cell_type": "markdown",
   "id": "0d446cef-e5d5-4fb4-a53f-31b769967067",
   "metadata": {},
   "source": [
    "Streamlit 是一个基于 Python 的 Web 应用程序框架，致力于以更高效、更灵活的方式可视化数据，并分析结果。它是一个开源库，可以帮助数据科学家和学者在短时间内开发机器学习 (ML) 可视化仪表板¹³。只需几行代码，我们就可以构建并部署强大的数据应用程序³。\n",
    "\n",
    "Streamlit 的特色包括：API简单明了，易上手；无须学习前端知识（html、css、javascript）；支持markdown和html文本的渲染²。\n",
    "\n",
    "\n",
    "(1) Streamlit库入门级教程（一）——基本介绍和使用方式_晨风默语的博客-CSDN博客. https://bing.com/search?q=streamlit+%e4%b8%ad%e6%96%87%e4%bb%8b%e7%bb%8d.\n",
    "\n",
    "(2) Streamlit库入门级教程（一）——基本介绍和使用方式_晨风默语的博客-CSDN博客. https://blog.csdn.net/weixin_52005740/article/details/125683122.\n",
    "\n",
    "(3) Streamlit 简明指南（一） - 知乎 - 知乎专栏. https://zhuanlan.zhihu.com/p/397129447.\n",
    "\n",
    "(4) Streamlit API中文手册 | 学习软件编程. http://blog.hubwiz.com/2019/11/07/streamlit-manual/.\n",
    "\n",
    "(5) 一个傻瓜式构建可视化 web的 Python 神器 -- streamlit 教程 - 知乎. https://zhuanlan.zhihu.com/p/448912854."
   ]
  },
  {
   "cell_type": "code",
   "execution_count": 18,
   "id": "1bb16f0d",
   "metadata": {
    "tags": []
   },
   "outputs": [],
   "source": [
    "# Get an NLCD image by year.\n",
    "def getNLCD(year):\n",
    "    # Import the NLCD collection.\n",
    "    dataset = ee.ImageCollection(\"USGS/NLCD_RELEASES/2019_REL/NLCD\")\n",
    "\n",
    "    # Filter the collection by year.\n",
    "    nlcd = dataset.filter(ee.Filter.eq(\"system:index\", year)).first()\n",
    "\n",
    "    # Select the land cover band.\n",
    "    landcover = nlcd.select(\"landcover\")\n",
    "    return landcover"
   ]
  },
  {
   "cell_type": "code",
   "execution_count": 19,
   "id": "089d39f0",
   "metadata": {
    "tags": []
   },
   "outputs": [],
   "source": [
    "# The main app.\n",
    "def app():\n",
    "\n",
    "    st.header(\"National Land Cover Database (NLCD)\")\n",
    "\n",
    "    # Create a layout containing two columns\n",
    "    row1_col1, row1_col2 = st.columns([3, 1])\n",
    "\n",
    "    # Create an interactive map\n",
    "    Map = geemap.Map()\n",
    "\n",
    "    # Select the eight NLCD epochs after 2000.\n",
    "    years = [\"2001\", \"2004\", \"2006\", \"2008\", \"2011\", \"2013\", \"2016\", \"2019\"]\n",
    "\n",
    "    # Add a dropdown list and checkbox to the second column.\n",
    "    with row1_col2:\n",
    "        selected_year = st.multiselect(\"Select a year\", years)\n",
    "        add_legend = st.checkbox(\"Show legend\")\n",
    "\n",
    "    # Add selected NLCD image to the map based on the selected year.\n",
    "    if selected_year:\n",
    "        for year in selected_year:\n",
    "            Map.addLayer(getNLCD(year), {}, \"NLCD \" + year)\n",
    "\n",
    "        if add_legend:\n",
    "            Map.add_legend(title=\"NLCD Land Cover\", builtin_legend=\"NLCD\")\n",
    "        with row1_col1:\n",
    "            Map.to_streamlit(height=600)\n",
    "\n",
    "    else:\n",
    "        with row1_col1:\n",
    "            Map.to_streamlit(height=600)"
   ]
  },
  {
   "cell_type": "code",
   "execution_count": 20,
   "id": "4065fc87",
   "metadata": {
    "tags": []
   },
   "outputs": [
    {
     "ename": "ModuleNotFoundError",
     "evalue": "No module named 'apps'",
     "output_type": "error",
     "traceback": [
      "\u001b[1;31m---------------------------------------------------------------------------\u001b[0m",
      "\u001b[1;31mModuleNotFoundError\u001b[0m                       Traceback (most recent call last)",
      "Cell \u001b[1;32mIn[20], line 1\u001b[0m\n\u001b[1;32m----> 1\u001b[0m \u001b[38;5;28;01mfrom\u001b[39;00m \u001b[38;5;21;01mapps\u001b[39;00m \u001b[38;5;28;01mimport\u001b[39;00m home, basemaps, customize, datasets, opacity, nlcd\n",
      "\u001b[1;31mModuleNotFoundError\u001b[0m: No module named 'apps'"
     ]
    }
   ],
   "source": [
    "from apps import home, basemaps, customize, datasets, opacity, nlcd"
   ]
  },
  {
   "cell_type": "code",
   "execution_count": null,
   "id": "c631fa5e",
   "metadata": {
    "tags": []
   },
   "outputs": [],
   "source": [
    "apps.add_app(\"NLCD\", nlcd.app)"
   ]
  },
  {
   "cell_type": "markdown",
   "id": "df2a278f",
   "metadata": {},
   "source": [
    "```bash\n",
    "conda activate gee\n",
    "streamlit run app.py\n",
    "```\n",
    "\n",
    "## Conclusions"
   ]
  }
 ],
 "metadata": {
  "kernelspec": {
   "display_name": "Python 3 (ipykernel)",
   "language": "python",
   "name": "python3"
  },
  "language_info": {
   "codemirror_mode": {
    "name": "ipython",
    "version": 3
   },
   "file_extension": ".py",
   "mimetype": "text/x-python",
   "name": "python",
   "nbconvert_exporter": "python",
   "pygments_lexer": "ipython3",
   "version": "3.10.11"
  }
 },
 "nbformat": 4,
 "nbformat_minor": 5
}
