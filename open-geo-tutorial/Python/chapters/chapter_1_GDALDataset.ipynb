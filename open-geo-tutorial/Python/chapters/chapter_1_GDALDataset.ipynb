{
 "cells": [
  {
   "cell_type": "markdown",
   "metadata": {
    "id": "AdYz6MeIPr9e"
   },
   "source": [
    "Chris Holden (ceholden@gmail.com) - https://github.com/ceholden\n",
    "\n",
    "\n",
    "Chapter 1: Exploring the GDALDataset class\n",
    "=========================================="
   ]
  },
  {
   "cell_type": "markdown",
   "metadata": {
    "id": "DwOJAN0_Pr9h"
   },
   "source": [
    "## 介绍\n",
    "GDAL栅格库最基本的组件之一是一个“[类](https://en.wikipedia.org/wiki/Class_(computer_programming))”或一个对象，它存储了一个人可能想要的关于栅格图像的所有信息。这个类，`GDALDataset`，将一个栅格文件的信息与一些人可能想要对一个栅格图像执行的操作结合起来，比如从一个图像中读取。一个类存储的信息通常被称为“[属性](https://en.wikipedia.org/wiki/Property_(programming))”或特征，而一个类可以执行的操作被称为“[方法](https://en.wikipedia.org/wiki/Method_(computer_programming))”。\n",
    "\n",
    "如果您来自另一种语言，并想了解Python中面向对象编程的概述，请参阅[Python关于类的教程](https://docs.python.org/3/tutorial/classes.html)或[LearnPython类教程](http://www.learnpython.org/en/Classes_and_Objects)。\n",
    "\n",
    "对于那些希望得到GDAL“应用程序编程接口”([API](http://en.wikipedia.org/wiki/Application_programming_interface))的详细、完整的参考的人，您可以在这里找到C和Python API：\n",
    "\n",
    "- [C API](http://gdal.org/python/osgeo.gdal.Dataset-class.html)\n",
    "- [Python API](http://gdal.org/python/osgeo.gdal.Dataset-class.html)\n",
    "\n",
    "\n",
    "一些类方法包括：\n",
    "\n",
    "- `GetDriver`\n",
    "- `GetRasterBand`\n",
    "- `GetGeoTransform`\n",
    "- `GetProjection`\n",
    "- `GetSubDatasets`\n",
    "\n",
    "这些类方法是所谓的“获取器”方法，它们允许您访问类属性（记住：类属性只是属于类的变量）。当您调用类方法`GetDriver`时，GDAL数据集将返回负责处理该栅格文件格式的输入和输出操作的图像格式驱动程序（例如，ENVI驱动程序，GeoTIFF驱动程序，HDF驱动程序）。类似地，`GetGeoTransform`方法将返回可以用于在像素坐标和投影坐标之间进行转换的变换。\n",
    "\n",
    "\n",
    "(1) Google Translate. https://translate.google.com/.\n",
    "(2) DeepL Translate: The world's most accurate translator. https://www.deepl.com/en/translator/l/en/zh.\n",
    "(3) PONS translations | Best English-Chinese translations online. https://en.pons.com/translate/english-chinese.\n",
    "(4) Translate English to Chinese (Simplified): Free Online Translation. https://www.translate.com/english-chinese_simplified."
   ]
  },
  {
   "cell_type": "markdown",
   "metadata": {
    "id": "EDee6q_PPr9n"
   },
   "source": [
    "## Python中的模块导入\n",
    "\n",
    "现在我们已经看到了一些GDALDataset对象如何封装了许多与光栅图像概念相关的思想，让我们看看我们如何在Python中实现这些思想。\n",
    "\n",
    "在我们开始之前，我们需要告诉Python我们将使用GDAL Python包中的函数、类和变量。这个的技术说法是我们需要将GDAL模块导入到我们的[命名空间](http://en.wikipedia.org/wiki/Namespace)中（参见Python关于`module`系统的文档[这里](https://docs.python.org/2/tutorial/modules.html)）。\n",
    "\n",
    "我们将使用一些`import`语句来做到这一点："
   ]
  },
  {
   "cell_type": "code",
   "execution_count": 1,
   "metadata": {
    "colab": {
     "base_uri": "https://localhost:8080/"
    },
    "executionInfo": {
     "elapsed": 1319,
     "status": "ok",
     "timestamp": 1709451458636,
     "user": {
      "displayName": "Yantao Xi",
      "userId": "10121209186205112367"
     },
     "user_tz": -480
    },
    "id": "Zw0o1I6dPr9o",
    "outputId": "d6794585-164d-40e2-a698-4001b5728dbe",
    "tags": []
   },
   "outputs": [
    {
     "name": "stdout",
     "output_type": "stream",
     "text": [
      "GDAL's version is: 3.4.3\n",
      "<module 'osgeo.gdal' from 'D:\\\\Geo_Python_2024\\\\envi\\\\lib\\\\site-packages\\\\osgeo\\\\gdal.py'>\n"
     ]
    }
   ],
   "source": [
    "# Import the Python 3 print function\n",
    "from __future__ import print_function\n",
    "\n",
    "# Import the \"gdal\" submodule from within the \"osgeo\" module\n",
    "from osgeo import gdal\n",
    "\n",
    "# We can check which version we're running by printing the \"__version__\" variable\n",
    "print(\"GDAL's version is: \" + gdal.__version__)\n",
    "print(gdal)"
   ]
  },
  {
   "cell_type": "markdown",
   "metadata": {
    "id": "76NS-I2gPr9p"
   },
   "source": [
    "Once we import the `gdal` submodule, Python will know where to look on our system for the code that implements the GDAL API. When we want to access classes, variables, or functions within the `gdal` submodule, we will need to reference the full path, which includes the `gdal` reference:"
   ]
  },
  {
   "cell_type": "code",
   "execution_count": 2,
   "metadata": {
    "colab": {
     "base_uri": "https://localhost:8080/",
     "height": 203
    },
    "executionInfo": {
     "elapsed": 7,
     "status": "error",
     "timestamp": 1709451462836,
     "user": {
      "displayName": "Yantao Xi",
      "userId": "10121209186205112367"
     },
     "user_tz": -480
    },
    "id": "9G2rMtFSPr9q",
    "outputId": "abca2c13-742d-4384-d60d-7b6f43ba493a",
    "tags": []
   },
   "outputs": [
    {
     "name": "stdout",
     "output_type": "stream",
     "text": [
      "1\n"
     ]
    },
    {
     "ename": "NameError",
     "evalue": "name 'GDT_Byte' is not defined",
     "output_type": "error",
     "traceback": [
      "\u001b[1;31m---------------------------------------------------------------------------\u001b[0m",
      "\u001b[1;31mNameError\u001b[0m                                 Traceback (most recent call last)",
      "Cell \u001b[1;32mIn[2], line 8\u001b[0m\n\u001b[0;32m      6\u001b[0m \u001b[38;5;28mprint\u001b[39m(gdal\u001b[38;5;241m.\u001b[39mGDT_Byte)\n\u001b[0;32m      7\u001b[0m \u001b[38;5;66;03m# Doesn't work\u001b[39;00m\n\u001b[1;32m----> 8\u001b[0m \u001b[38;5;28mprint\u001b[39m(\u001b[43mGDT_Byte\u001b[49m)\n",
      "\u001b[1;31mNameError\u001b[0m: name 'GDT_Byte' is not defined"
     ]
    }
   ],
   "source": [
    "# Let's print out the value of the GDAL Byte data type (GDT_Byte)\n",
    "#     the number printed out is how GDAL keeps track of the various data types\n",
    "#     this variable, which has a fixed numeric value, is what's called an enumerated type, or enum\n",
    "\n",
    "# Works\n",
    "print(gdal.GDT_Byte)\n",
    "# Doesn't work\n",
    "print(GDT_Byte)"
   ]
  },
  {
   "cell_type": "markdown",
   "metadata": {
    "id": "A3MS651CPr9r"
   },
   "source": [
    "数据类型`GDT_Byte`不存在于*全局*命名空间中。我们需要告诉Python在哪里查找它。\n",
    "\n",
    "在简要介绍了Python的命名空间设置以及它如何应用于GDAL之后，让我们看一些例子：\n",
    "\n",
    "### 例子\n",
    "#### 打开一幅图像\n",
    "当我们在GDAL中打开一幅图像时，我们创建了一个GDALDataset对象。顾名思义，我们可以使用`gdal`中的\"Open\"函数来打开一幅图像。\n",
    "\n",
    "我们将使用本章提供的一个示例图像。这个图像是一个Landsat 7图像的子集，包含了这个传感器上的7个波段，按照波长的顺序重新排列（例如，Landsat 7的第二个SWIR通道在我们的堆栈中位于热通道之前）。这个图像的最后一个波段是一个来自Fmask的云和云影掩码。\n"
   ]
  },
  {
   "cell_type": "code",
   "execution_count": 5,
   "metadata": {
    "colab": {
     "base_uri": "https://localhost:8080/"
    },
    "executionInfo": {
     "elapsed": 1031,
     "status": "ok",
     "timestamp": 1709451661691,
     "user": {
      "displayName": "Yantao Xi",
      "userId": "10121209186205112367"
     },
     "user_tz": -480
    },
    "id": "Tr-Q_O6VPr9t",
    "outputId": "3e5e922c-2aca-4224-8d91-a6f93df8e54c",
    "tags": []
   },
   "outputs": [
    {
     "name": "stdout",
     "output_type": "stream",
     "text": [
      "<osgeo.gdal.Dataset; proxy of <Swig Object of type 'GDALDatasetShadow *' at 0x0000024D5EDE8D20> >\n"
     ]
    }
   ],
   "source": [
    "# Open a GDAL dataset\n",
    "dataset = gdal.Open('../../example/LE70220491999322EDC01_stack.gtif', gdal.GA_ReadOnly)\n",
    "\n",
    "print(dataset)"
   ]
  },
  {
   "cell_type": "markdown",
   "metadata": {
    "id": "Q_kgIRSPPr9u"
   },
   "source": [
    "Now that we have this dataset open, let's explore some of its capabilities.\n",
    "\n",
    "#### Image attributes"
   ]
  },
  {
   "cell_type": "code",
   "execution_count": 7,
   "metadata": {
    "colab": {
     "base_uri": "https://localhost:8080/"
    },
    "executionInfo": {
     "elapsed": 579,
     "status": "ok",
     "timestamp": 1709451669986,
     "user": {
      "displayName": "Yantao Xi",
      "userId": "10121209186205112367"
     },
     "user_tz": -480
    },
    "id": "hxGGuOlRPr9v",
    "outputId": "af8990ab-eba3-4395-d06e-0b4244c132c5",
    "tags": []
   },
   "outputs": [
    {
     "name": "stdout",
     "output_type": "stream",
     "text": [
      "图像波段数：8\n",
      "\n",
      "图像尺寸为：250 行 x 250 列\n",
      "\n",
      "栅格数据集描述: ../../example/LE70220491999322EDC01_stack.gtif\n",
      "栅格数据集元数据:\n",
      "{'AREA_OR_POINT': 'Area', 'Band_1': 'band 1 reflectance', 'Band_2': 'band 2 reflectance', 'Band_3': 'band 3 reflectance', 'Band_4': 'band 4 reflectance', 'Band_5': 'band 5 reflectance', 'Band_6': 'band 7 reflectance', 'Band_7': 'band 6 temperature', 'Band_8': 'Band 8'}\n",
      "\n",
      "\n",
      "栅格数据集驱动程序: GTiff\n",
      "\n",
      "图像投影:\n",
      "PROJCS[\"WGS 84 / UTM zone 15N\",GEOGCS[\"WGS 84\",DATUM[\"WGS_1984\",SPHEROID[\"WGS 84\",6378137,298.257223563,AUTHORITY[\"EPSG\",\"7030\"]],AUTHORITY[\"EPSG\",\"6326\"]],PRIMEM[\"Greenwich\",0,AUTHORITY[\"EPSG\",\"8901\"]],UNIT[\"degree\",0.0174532925199433,AUTHORITY[\"EPSG\",\"9122\"]],AUTHORITY[\"EPSG\",\"4326\"]],PROJECTION[\"Transverse_Mercator\"],PARAMETER[\"latitude_of_origin\",0],PARAMETER[\"central_meridian\",-93],PARAMETER[\"scale_factor\",0.9996],PARAMETER[\"false_easting\",500000],PARAMETER[\"false_northing\",0],UNIT[\"metre\",1,AUTHORITY[\"EPSG\",\"9001\"]],AXIS[\"Easting\",EAST],AXIS[\"Northing\",NORTH],AUTHORITY[\"EPSG\",\"32615\"]]\n",
      "\n",
      "图像地理转换: (462405.0, 30.0, 0.0, 1741815.0, 0.0, -30.0)\n",
      "\n"
     ]
    }
   ],
   "source": [
    "# 图像属性\n",
    "\n",
    "# 图像有多少个波段？\n",
    "num_bands = dataset.RasterCount\n",
    "print('图像波段数：{n}\\n'.format(n=num_bands))\n",
    "\n",
    "# 有多少行和列？\n",
    "rows = dataset.RasterYSize\n",
    "cols = dataset.RasterXSize\n",
    "print('图像尺寸为：{r} 行 x {c} 列\\n'.format(r=rows, c=cols))\n",
    "\n",
    "# 栅格数据集是否有描述或元数据？\n",
    "desc = dataset.GetDescription()\n",
    "metadata = dataset.GetMetadata()\n",
    "\n",
    "print('栅格数据集描述: {desc}'.format(desc=desc))\n",
    "print('栅格数据集元数据:')\n",
    "print(metadata)\n",
    "print('\\n')\n",
    "\n",
    "# 使用了哪个驱动程序打开了栅格数据集？\n",
    "driver = dataset.GetDriver()\n",
    "print('栅格数据集驱动程序: {d}\\n'.format(d=driver.ShortName))\n",
    "\n",
    "# 栅格数据集的投影是什么？\n",
    "proj = dataset.GetProjection()\n",
    "print('图像投影:')\n",
    "print(proj + '\\n')\n",
    "\n",
    "# 栅格数据集的“地理转换”是什么？\n",
    "gt = dataset.GetGeoTransform()\n",
    "print('图像地理转换: {gt}\\n'.format(gt=gt))\n"
   ]
  },
  {
   "cell_type": "markdown",
   "metadata": {},
   "source": [
    "这段代码会打印出栅格数据集的地理转换信息，该信息描述了栅格数据的空间参考信息以及像素在地理坐标系统中的位置和分辨率。通常，地理转换信息由6个值组成：\n",
    "\n",
    "1. 左上角x坐标\n",
    "2. 水平像素分辨率\n",
    "3. x轴的旋转（通常为0，表示正北方向）\n",
    "4. 左上角y坐标\n",
    "5. y轴的旋转（通常为0，表示正北方向）\n",
    "6. 垂直像素分辨率（通常为负值，因为像素通常是从上到下编号）\n",
    "\n",
    "这些值一起描述了栅格数据在地理空间中的位置和取样方式。例如，左上角的x和y坐标给出了栅格数据的起始位置，分辨率定义了每个像素在地理坐标中代表的距离，而旋转参数则描述了数据集的旋转或倾斜。"
   ]
  },
  {
   "cell_type": "markdown",
   "metadata": {
    "id": "PrX63Oo8Pr9w"
   },
   "source": [
    "\n",
    "我们获得的前几个信息都很简单明了——栅格的大小、波段数、描述、元数据和栅格的文件格式。\n",
    "\n",
    "图像的投影是以一种被称为\"通用文本\"的格式表示的。关于特定投影的更多信息，以及投影描述格式之间的格式转换（例如，proj4字符串、WKT、ESRI WKT、JSON等），请参见[空间参考]。\n",
    "\n",
    "\n",
    "我们访问的最后一个信息是一种叫做\"地理变换\"的东西。这组6个数字提供了从像素坐标到投影坐标的转换所需的所有信息。在这个例子中，第一个数字（462405）和第四个数字（1741815）是栅格左上角像素的左上角。栅格在x和y方向上的像素大小分别列为第二个（30）和第六个（-30）数字。由于我们的栅格是正北方向的，所以第三个和第五个数字是0。关于GDAL数据模型的更多信息，请[访问这个网页]\n"
   ]
  },
  {
   "cell_type": "markdown",
   "metadata": {
    "id": "QovcNu5HPr9x"
   },
   "source": [
    "#### 图像栅格波段\n",
    "\n",
    "我们创建的 GDALDataset 对象包含了许多有用的信息，但它并不直接用于读取栅格图像。相反，我们需要使用 `GetRasterBand` 方法逐个访问栅格的波段：\n",
    "\n",
    "(1) GDALDataset C++ API — GDAL documentation. https://gdal.org/api/gdaldataset_cpp.html.\n",
    "(2) GDAL Python Tutorial: Reading and Writing Raster Datasets. https://opensourceoptions.com/gdal-python-tutorial-reading-and-writing-raster-datasets/.\n",
    "(3) org.gdal.gdal.Dataset.GetRasterBand java code examples | Tabnine. https://www.tabnine.com/code/java/methods/org.gdal.gdal.Dataset/GetRasterBand.\n",
    "(4) Fastest way to extract all bands from raster at once (python/gdal). https://stackoverflow.com/questions/47461386/fastest-way-to-extract-all-bands-from-raster-at-once-python-gdal.\n",
    "(5) Raster API tutorial — GDAL documentation. https://gdal.org/tutorials/raster_api_tut.html."
   ]
  },
  {
   "cell_type": "code",
   "execution_count": 9,
   "metadata": {
    "colab": {
     "base_uri": "https://localhost:8080/"
    },
    "executionInfo": {
     "elapsed": 3,
     "status": "ok",
     "timestamp": 1709451678049,
     "user": {
      "displayName": "Yantao Xi",
      "userId": "10121209186205112367"
     },
     "user_tz": -480
    },
    "id": "R8y8DJj1Pr9y",
    "outputId": "3b359045-8cea-40f3-c3f8-6c94cffc3b66",
    "tags": []
   },
   "outputs": [
    {
     "name": "stdout",
     "output_type": "stream",
     "text": [
      "<osgeo.gdal.Band; proxy of <Swig Object of type 'GDALRasterBandShadow *' at 0x0000024D60233BA0> >\n"
     ]
    }
   ],
   "source": [
    "# Open the blue band in our image\n",
    "blue = dataset.GetRasterBand(1)\n",
    "\n",
    "print(blue)"
   ]
  },
  {
   "cell_type": "markdown",
   "metadata": {
    "id": "DUS-tk3EPr9y"
   },
   "source": [
    "根据我们的 GDALDataset 指南，让我们探讨一下 GDALRasterBand 的一些属性和方法：\n",
    "\n",
    "1. **GetBand(int band_num)**: 通过波段索引获取特定波段。例如，`GetBand(1)` 将返回第一个波段。\n",
    "\n",
    "2. **ReadAsArray(xoff, yoff, xsize, ysize)**: 从栅格波段中读取数据作为 NumPy 数组。参数 `xoff` 和 `yoff` 是左上角像素的偏移量，`xsize` 和 `ysize` 是要读取的像素数。\n",
    "\n",
    "3. **GetStatistics(approx_ok=True, force=False)**: 获取波段的统计信息，如最小值、最大值、平均值和标准差。设置 `approx_ok` 为 `True` 可以加快计算，但可能不够精确。\n",
    "\n",
    "4. **ComputeRasterMinMax(force=False)**: 计算波段的最小值和最大值。如果 `force` 设置为 `True`，则强制重新计算。\n",
    "\n",
    "5. **GetHistogram(min_val, max_val, num_buckets, include_out_of_range=False, approx_ok=True)**: 获取波段的直方图。参数 `min_val` 和 `max_val` 是直方图的值范围，`num_buckets` 是直方图的桶数。\n",
    "\n",
    "6. **GetColorTable()**: 获取颜色表（如果存在）。颜色表用于将像素值映射到颜色。\n",
    "\n",
    "7. **SetNoDataValue(nodata_value)**: 设置波段的无数据值。无数据值通常用于表示缺失或无效的像素。\n",
    "\n",
    "这些方法和属性将帮助您在处理栅格数据时更好地理解和操作波段。如果您有其他问题或需要更多详细信息，请随时告知！"
   ]
  },
  {
   "cell_type": "code",
   "execution_count": 10,
   "metadata": {
    "colab": {
     "base_uri": "https://localhost:8080/"
    },
    "executionInfo": {
     "elapsed": 421,
     "status": "ok",
     "timestamp": 1709451683581,
     "user": {
      "displayName": "Yantao Xi",
      "userId": "10121209186205112367"
     },
     "user_tz": -480
    },
    "id": "MQGLlsB3Pr9z",
    "outputId": "64207f3d-75f5-4c4c-d260-02b77f15c666",
    "tags": []
   },
   "outputs": [
    {
     "name": "stdout",
     "output_type": "stream",
     "text": [
      "波段数据类型: 3\n",
      "波段数据类型: Int16\n",
      "波段数据类型大小: 16 字节\n",
      "\n",
      "波段范围: 1810.0 - 198.0\n",
      "波段均值、标准差: 439.015984, 139.7168287663\n",
      "\n"
     ]
    }
   ],
   "source": [
    "# 获取波段的数据类型\n",
    "datatype = blue.DataType\n",
    "print('波段数据类型: {dt}'.format(dt=blue.DataType))\n",
    "\n",
    "# 如果您还记得我们讨论过的枚举类型，我们打印的这个“3”对我们来说有一个更有用的定义\n",
    "datatype_name = gdal.GetDataTypeName(blue.DataType)\n",
    "print('波段数据类型: {dt}'.format(dt=datatype_name))\n",
    "\n",
    "# 我们还可以询问这种数据类型占用了多少空间\n",
    "bytes = gdal.GetDataTypeSize(blue.DataType)\n",
    "print('波段数据类型大小: {b} 字节\\n'.format(b=bytes))\n",
    "\n",
    "# 那么波段的统计信息呢？\n",
    "band_max, band_min, band_mean, band_stddev = blue.GetStatistics(0, 1)\n",
    "print('波段范围: {minimum} - {maximum}'.format(maximum=band_max,\n",
    "                                             minimum=band_min))\n",
    "print('波段均值、标准差: {m}, {s}\\n'.format(m=band_mean, s=band_stddev))\n"
   ]
  },
  {
   "cell_type": "markdown",
   "metadata": {
    "id": "yIg4VXlnPr9z"
   },
   "source": [
    "请注意，我们不需要将图像读入 Python 的内存中来计算这些统计数据 - GDAL 已经为我们完成了所有这些工作。\n",
    "\n",
    "然而，对于大多数应用程序，我们需要使用 GDAL 将栅格波段读入内存。当我们将栅格波段加载到内存中时，我们将其读入一个 [NumPy](http://www.numpy.org/) 的二维数组。NumPy 是“用于 Python 科学计算的基本包”，因为它允许我们以非常高效的方式表示数据。\n",
    "\n",
    "NumPy 数组是科学 Python 套件的基石或构建块。熟悉一下：\n",
    "\n",
    "+ [NumPy 适用于 MATLAB 用户](http://wiki.scipy.org/NumPy_for_Matlab_Users)\n",
    "+ [NumPy 教程](http://wiki.scipy.org/Tentative_NumPy_Tutorial)\n",
    "+ [NumPy API 参考手册](http://docs.scipy.org/doc/numpy/reference/)\n",
    "\n",
    "就像我们使用 `import` 将 GDAL 中的例程和数据类型提供给我们一样，我们将加载 NumPy。当我们导入 NumPy 时，我们还会给它一个别名，以便我们不必每次使用它时都输入 `numpy`。\n",
    "\n",
    "(1) NumPy reference — NumPy v1.26 Manual. https://numpy.org/doc/stable/reference/.\n",
    "(2) NumPy documentation — NumPy v1.26 Manual. https://numpy.org/doc/stable/.\n",
    "(3) NumPy Reference — NumPy v1.10 Manual - SciPy.org. https://docs.scipy.org/doc/numpy-1.10.1/reference/index.html.\n",
    "(4) NumPy Reference — NumPy v1.15 Manual - SciPy.org. https://docs.scipy.org/doc/numpy-1.15.1/reference/.\n",
    "(5) NumPy - Learn. https://numpy.org/learn/.\n",
    "(6) NumPy Tutorial. https://www.tutorialspoint.com/numpy/index.htm.\n",
    "(7) NumPy Tutorial - W3Schools. https://www.w3schools.com/python/numpy/default.asp.\n",
    "(8) NumPy: the absolute basics for beginners — NumPy v1.26 Manual. https://numpy.org/doc/stable/user/absolute_beginners.html."
   ]
  },
  {
   "cell_type": "code",
   "execution_count": 14,
   "metadata": {
    "colab": {
     "base_uri": "https://localhost:8080/"
    },
    "executionInfo": {
     "elapsed": 408,
     "status": "ok",
     "timestamp": 1709451688453,
     "user": {
      "displayName": "Yantao Xi",
      "userId": "10121209186205112367"
     },
     "user_tz": -480
    },
    "id": "EFnoNLcCPr9z",
    "outputId": "45155ad4-1946-41ec-969a-341d18493406",
    "tags": []
   },
   "outputs": [
    {
     "name": "stdout",
     "output_type": "stream",
     "text": [
      "1.24.3\n",
      "1.24.3\n"
     ]
    }
   ],
   "source": [
    "# No alias\n",
    "import numpy\n",
    "print(numpy.__version__)\n",
    "\n",
    "# Alias or rename to \"np\" -- a very common practice\n",
    "import numpy as np\n",
    "print(np.__version__)"
   ]
  },
  {
   "cell_type": "markdown",
   "metadata": {
    "id": "ibuYnjilPr90"
   },
   "source": [
    "In order to read our band into one of these wonderful `np.array` objects, we will use the `ReadAsArray` method from our `GDALRasterBand` object为了将我们的波段读入这些出色的 `np.array` 对象之一，我们将使用 `GDALRasterBand` 对象的 `ReadAsArray` 方法：\n",
    "```python\n",
    "# 获取波段数据\n",
    "blue_data = blue.ReadAsArray()\n",
    "\n",
    "# 打印波段数据的形状\n",
    "print(f\"波段数据形状：{blue_data.shape}\")\n",
    "\n",
    "# 打印波段数据的前几行\n",
    "print(\"波段数据的前几行：\")\n",
    "print(blue_data[:5, :])\n",
    "```\n",
    "这将读取蓝色波段的数据并存储在名为 `blue_data` 的 NumPy 数组中。您可以根据需要进一步处理和分析这些数据。\n",
    "\n",
    "(1) GDALRasterBand C++ API — GDAL documentation. https://gdal.org/api/gdalrasterband_cpp.html.\n",
    "(2) python gdal ReadAsArray 按块读取栅格 - CSDN博客. https://blog.csdn.net/dou3516/article/details/104986509.\n",
    "(3) Reading data from raster band with Java and GDAL?. https://gis.stackexchange.com/questions/35583/reading-data-from-raster-band-with-java-and-gdal.\n",
    "(4) Raster API tutorial — GDAL documentation. https://gdal.org/tutorials/raster_api_tut.html.\n",
    "(5) raster - Optimizing Python GDAL ReadAsArray - Geographic Information .... https://gis.stackexchange.com/questions/172666/optimizing-python-gdal-readasarray."
   ]
  },
  {
   "cell_type": "code",
   "execution_count": 15,
   "metadata": {
    "colab": {
     "base_uri": "https://localhost:8080/"
    },
    "executionInfo": {
     "elapsed": 3,
     "status": "ok",
     "timestamp": 1709451691422,
     "user": {
      "displayName": "Yantao Xi",
      "userId": "10121209186205112367"
     },
     "user_tz": -480
    },
    "id": "g2zL1zYVPr90",
    "outputId": "f20e8fa8-9adc-4dee-f787-b890eaeec461",
    "tags": []
   },
   "outputs": [
    {
     "name": "stdout",
     "output_type": "stream",
     "text": [
      "Help on method ReadAsArray in module osgeo.gdal:\n",
      "\n",
      "ReadAsArray(xoff=0, yoff=0, win_xsize=None, win_ysize=None, buf_xsize=None, buf_ysize=None, buf_type=None, buf_obj=None, resample_alg=0, callback=None, callback_data=None) method of osgeo.gdal.Band instance\n",
      "    Reading a chunk of a GDAL band into a numpy array. The optional (buf_xsize,buf_ysize,buf_type)\n",
      "    parameters should generally not be specified if buf_obj is specified. The array is returned\n",
      "\n"
     ]
    }
   ],
   "source": [
    "help(blue.ReadAsArray)"
   ]
  },
  {
   "cell_type": "markdown",
   "metadata": {
    "id": "5vX_dUMWPr91"
   },
   "source": [
    "`ReadAsArray` 方法接受参数，允许我们使用 X 和 Y 偏移量以及大小来指定栅格波段图像的子集。当您要处理大型图像或使用有限的内存时，请记住这种能力。在这些情况下，如果一次读取整个数据集，您将耗尽内存。相反，一次读取一定数量的列和行的块，执行计算并存储输出，然后处理剩余的图像。\n",
    "\n",
    "现在，我们将只读取整个图像：\n",
    "```python\n",
    "# 获取波段数据\n",
    "blue_data = blue.ReadAsArray()\n",
    "\n",
    "# 打印波段数据的形状\n",
    "print(f\"波段数据形状：{blue_data.shape}\")\n",
    "\n",
    "# 打印波段数据的前几行\n",
    "print(\"波段数据的前几行：\")\n",
    "print(blue_data[:5, :])\n",
    "```\n",
    "这将读取蓝色波段的数据并存储在名为 `blue_data` 的 NumPy 数组中。您可以根据需要进一步处理和分析这些数据。\n",
    "\n",
    "(1) GDALRasterBand C++ API — GDAL documentation. https://gdal.org/api/gdalrasterband_cpp.html.\n",
    "(2) python gdal ReadAsArray 按块读取栅格 - CSDN博客. https://blog.csdn.net/dou3516/article/details/104986509.\n",
    "(3) Reading data from raster band with Java and GDAL?. https://gis.stackexchange.com/questions/35583/reading-data-from-raster-band-with-java-and-gdal.\n",
    "(4) Raster API tutorial — GDAL documentation. https://gdal.org/tutorials/raster_api_tut.html.\n",
    "(5) raster - Optimizing Python GDAL ReadAsArray - Geographic Information .... https://gis.stackexchange.com/questions/172666/optimizing-python-gdal-readasarray.\n",
    "(6) NumPy reference — NumPy v1.26 Manual. https://numpy.org/doc/stable/reference/.\n",
    "(7) NumPy documentation — NumPy v1.26 Manual. https://numpy.org/doc/stable/.\n",
    "(8) NumPy Reference — NumPy v1.10 Manual - SciPy.org. https://docs.scipy.org/doc/numpy-1.10.1/reference/index.html.\n",
    "(9) NumPy Reference — NumPy v1.15 Manual - SciPy.org. https://docs.scipy.org/doc/numpy-1.15.1/reference/.\n",
    "(10) NumPy - Learn. https://numpy.org/learn/.\n",
    "(11) NumPy Tutorial. https://www.tutorialspoint.com/numpy/index.htm.\n",
    "(12) NumPy Tutorial - W3Schools. https://www.w3schools.com/python/numpy/default.asp.\n",
    "(13) NumPy: the absolute basics for beginners — NumPy v1.26 Manual. https://numpy.org/doc/stable/user/absolute_beginners.html."
   ]
  },
  {
   "cell_type": "code",
   "execution_count": 16,
   "metadata": {
    "colab": {
     "base_uri": "https://localhost:8080/"
    },
    "executionInfo": {
     "elapsed": 448,
     "status": "ok",
     "timestamp": 1709451697281,
     "user": {
      "displayName": "Yantao Xi",
      "userId": "10121209186205112367"
     },
     "user_tz": -480
    },
    "id": "ptjwN_Q5Pr92",
    "outputId": "29ba98de-fadf-44dd-962f-ca5747374488",
    "tags": []
   },
   "outputs": [
    {
     "name": "stdout",
     "output_type": "stream",
     "text": [
      "[[569 526 569 ... 311 289 311]\n",
      " [568 589 568 ... 267 332 332]\n",
      " [546 525 589 ... 311 311 311]\n",
      " ...\n",
      " [499 543 478 ... 306 349 372]\n",
      " [520 520 543 ... 328 372 393]\n",
      " [543 564 543 ... 393 414 436]]\n",
      "\n",
      "Blue band mean is: 439.015984\n",
      "Size is: (250, 250)\n"
     ]
    }
   ],
   "source": [
    "blue_data = blue.ReadAsArray()\n",
    "\n",
    "print(blue_data)\n",
    "print()\n",
    "print('Blue band mean is: {m}'.format(m=blue_data.mean()))\n",
    "print('Size is: {sz}'.format(sz=blue_data.shape))"
   ]
  },
  {
   "cell_type": "markdown",
   "metadata": {
    "id": "CTkKAF_vPr92"
   },
   "source": [
    "将数据读入 NumPy 数组后，我们可以将其打印到控制台，甚至对其进行统计。除了帮助我们高效存储大量数据外，NumPy 还可以帮助我们进行一些基本的线性代数、数值运算和汇总统计。\n",
    "\n",
    "假设我们想将所有波段读入一个三维（nrow x ncol x nband）数据集。我们将从初始化一个三维数组开始。接下来，我们将循环遍历栅格图像数据集中的所有波段，并将它们读入我们新分配的三维数组中：\n",
    "```python\n",
    "import numpy as np\n",
    "\n",
    "# 假设我们有三个波段，每个波段的数据形状为 (nrow, ncol)\n",
    "nrow, ncol = 100, 100\n",
    "nband = 3\n",
    "\n",
    "# 初始化一个三维数组，形状为 (nrow, ncol, nband)\n",
    "all_bands_data = np.zeros((nrow, ncol, nband))\n",
    "\n",
    "# 假设我们有一个 GDALDataset 对象，其中包含了三个波段的数据\n",
    "# 这里用 blue_data、green_data、red_data 代替实际的波段数据\n",
    "blue_data = np.random.rand(nrow, ncol)\n",
    "green_data = np.random.rand(nrow, ncol)\n",
    "red_data = np.random.rand(nrow, ncol)\n",
    "\n",
    "# 将波段数据读入三维数组\n",
    "all_bands_data[:, :, 0] = blue_data\n",
    "all_bands_data[:, :, 1] = green_data\n",
    "all_bands_data[:, :, 2] = red_data\n",
    "\n",
    "# 打印三维数组的形状\n",
    "print(f\"三维数组形状：{all_bands_data.shape}\")\n",
    "\n",
    "# 打印三维数组的前几行\n",
    "print(\"三维数组的前几行：\")\n",
    "print(all_bands_data[:5, :, :])\n",
    "```\n",
    "这将创建一个三维数组 `all_bands_data`，其中包含了三个波段的数据。您可以根据需要进一步处理和分析这些数据。\n",
    "\n",
    "(1) NumPy - Learn. https://numpy.org/learn/.\n",
    "(2) NumPy Tutorial. https://www.tutorialspoint.com/numpy/index.htm.\n",
    "(3) NumPy Tutorial - W3Schools. https://www.w3schools.com/python/numpy/default.asp.\n",
    "(4) NumPy: the absolute basics for beginners — NumPy v1.26 Manual. https://numpy.org/doc/stable/user/absolute_beginners.html.\n",
    "(5) NumPy reference — NumPy v1.26 Manual. https://numpy.org/doc/stable/reference/.\n",
    "(6) NumPy documentation — NumPy v1.26 Manual. https://numpy.org/doc/stable/.\n",
    "(7) NumPy Reference — NumPy v1.10 Manual - SciPy.org. https://docs.scipy.org/doc/numpy-1.10.1/reference/index.html.\n",
    "(8) NumPy Reference — NumPy v1.15 Manual - SciPy.org. https://docs.scipy.org/doc/numpy-1.15.1/reference/."
   ]
  },
  {
   "cell_type": "code",
   "execution_count": 17,
   "metadata": {
    "colab": {
     "base_uri": "https://localhost:8080/"
    },
    "executionInfo": {
     "elapsed": 614,
     "status": "ok",
     "timestamp": 1709451700294,
     "user": {
      "displayName": "Yantao Xi",
      "userId": "10121209186205112367"
     },
     "user_tz": -480
    },
    "id": "WWalNGl5Pr93",
    "outputId": "fcc3f422-30fe-43df-bfe3-033259669901",
    "tags": []
   },
   "outputs": [
    {
     "name": "stdout",
     "output_type": "stream",
     "text": [
      "[[[ 569.  886.  758. ...  988. 2686.    0.]\n",
      "  [ 526.  886.  758. ...  988. 2686.    0.]\n",
      "  [ 569.  798.  776. ...  961. 2686.    0.]\n",
      "  ...\n",
      "  [ 311.  452.  356. ...  780. 2487.    0.]\n",
      "  [ 289.  452.  297. ...  647. 2487.    0.]\n",
      "  [ 311.  430.  337. ...  674. 2436.    0.]]\n",
      "\n",
      " [[ 568.  886.  815. ... 1014. 2686.    0.]\n",
      "  [ 589.  929.  853. ... 1014. 2686.    0.]\n",
      "  [ 568.  907.  910. ... 1014. 2686.    0.]\n",
      "  ...\n",
      "  [ 267.  430.  318. ...  674. 2487.    0.]\n",
      "  [ 332.  452.  337. ...  594. 2487.    0.]\n",
      "  [ 332.  452.  395. ...  727. 2487.    0.]]\n",
      "\n",
      " [[ 546.  864.  834. ...  988. 2637.    0.]\n",
      "  [ 525.  886.  834. ...  988. 2637.    0.]\n",
      "  [ 589.  928.  891. ...  988. 2637.    0.]\n",
      "  ...\n",
      "  [ 311.  452.  356. ...  727. 2487.    0.]\n",
      "  [ 311.  475.  395. ...  727. 2487.    0.]\n",
      "  [ 311.  475.  356. ...  753. 2487.    0.]]\n",
      "\n",
      " ...\n",
      "\n",
      " [[ 499.  851.  766. ... 1124. 2785.    0.]\n",
      "  [ 543.  829.  747. ... 1387. 2735.    0.]\n",
      "  [ 478.  829.  766. ... 1414. 2735.    0.]\n",
      "  ...\n",
      "  [ 306.  473.  336. ...  753. 2537.    0.]\n",
      "  [ 349.  494.  375. ...  753. 2537.    0.]\n",
      "  [ 372.  584.  454. ...  780. 2587.    0.]]\n",
      "\n",
      " [[ 520.  829.  766. ... 1283. 2785.    0.]\n",
      "  [ 520.  829.  786. ... 1387. 2785.    0.]\n",
      "  [ 543.  829.  805. ... 1361. 2785.    0.]\n",
      "  ...\n",
      "  [ 328.  473.  336. ...  568. 2587.    0.]\n",
      "  [ 372.  628.  433. ... 1045. 2587.    0.]\n",
      "  [ 393.  628.  512. ... 1018. 2587.    0.]]\n",
      "\n",
      " [[ 543.  829.  825. ... 1440. 2785.    0.]\n",
      "  [ 564.  851.  863. ... 1467. 2785.    0.]\n",
      "  [ 543.  829.  766. ... 1387. 2785.    0.]\n",
      "  ...\n",
      "  [ 393.  607.  551. ... 1230. 2686.    0.]\n",
      "  [ 414.  673.  572. ... 1440. 2686.    0.]\n",
      "  [ 436.  628.  493. ... 1045. 2637.    0.]]]\n",
      "float64\n"
     ]
    }
   ],
   "source": [
    "# Initialize a 3d array -- use the size properties of our image for portability!\n",
    "image = np.zeros((dataset.RasterYSize, dataset.RasterXSize, dataset.RasterCount))\n",
    "\n",
    "# Loop over all bands in dataset\n",
    "for b in range(dataset.RasterCount):\n",
    "    # Remember, GDAL index is on 1, but Python is on 0 -- so we add 1 for our GDAL calls\n",
    "    band = dataset.GetRasterBand(b + 1)\n",
    "\n",
    "    # Read in the band's data into the third dimension of our array\n",
    "    image[:, :, b] = band.ReadAsArray()\n",
    "\n",
    "print(image)\n",
    "print(image.dtype)"
   ]
  },
  {
   "cell_type": "markdown",
   "metadata": {
    "id": "scNcaO2oPr93"
   },
   "source": [
    "One minor tweak we can make is to ensure that we read our GDAL image into a NumPy array of a matching datatype. GDAL has a function which can make this `GDAL` <-> `NumPy` translation for us:"
   ]
  },
  {
   "cell_type": "code",
   "execution_count": 18,
   "metadata": {
    "colab": {
     "base_uri": "https://localhost:8080/"
    },
    "executionInfo": {
     "elapsed": 3,
     "status": "ok",
     "timestamp": 1709451704455,
     "user": {
      "displayName": "Yantao Xi",
      "userId": "10121209186205112367"
     },
     "user_tz": -480
    },
    "id": "qdLedqQhPr93",
    "outputId": "c465c31a-5c18-43c4-9d56-f786598cdb06",
    "tags": []
   },
   "outputs": [
    {
     "data": {
      "text/plain": [
       "3"
      ]
     },
     "execution_count": 18,
     "metadata": {},
     "output_type": "execute_result"
    }
   ],
   "source": [
    "dataset.GetRasterBand(1).DataType"
   ]
  },
  {
   "cell_type": "code",
   "execution_count": 19,
   "metadata": {
    "colab": {
     "base_uri": "https://localhost:8080/"
    },
    "executionInfo": {
     "elapsed": 3,
     "status": "ok",
     "timestamp": 1709451708251,
     "user": {
      "displayName": "Yantao Xi",
      "userId": "10121209186205112367"
     },
     "user_tz": -480
    },
    "id": "o8osgjKMPr94",
    "outputId": "1be9459d-2c6c-4783-a6a3-0608769a32d7",
    "tags": []
   },
   "outputs": [
    {
     "name": "stdout",
     "output_type": "stream",
     "text": [
      "Compare datatypes: \n",
      "    when unspecified: float64\n",
      "    when specified: int16\n"
     ]
    }
   ],
   "source": [
    "from osgeo import gdal_array\n",
    "\n",
    "# DataType is a property of the individual raster bands\n",
    "image_datatype = dataset.GetRasterBand(1).DataType\n",
    "\n",
    "# Allocate our array, but in a more efficient way\n",
    "image_correct = np.zeros((dataset.RasterYSize, dataset.RasterXSize, dataset.RasterCount),\n",
    "                 dtype=gdal_array.GDALTypeCodeToNumericTypeCode(image_datatype))\n",
    "\n",
    "# Loop over all bands in dataset\n",
    "for b in range(dataset.RasterCount):\n",
    "    # Remember, GDAL index is on 1, but Python is on 0 -- so we add 1 for our GDAL calls\n",
    "    band = dataset.GetRasterBand(b + 1)\n",
    "\n",
    "    # Read in the band's data into the third dimension of our array\n",
    "    image_correct[:, :, b] = band.ReadAsArray()\n",
    "\n",
    "print(\"Compare datatypes: \")\n",
    "print(\"    when unspecified: {dt}\".format(dt=image.dtype))\n",
    "print(\"    when specified: {dt}\".format(dt=image_correct.dtype))"
   ]
  },
  {
   "cell_type": "markdown",
   "metadata": {
    "id": "l_zNWbhVPr94"
   },
   "source": [
    "这样做效率更高 - 我们节省了 4 倍的内存！\n",
    "\n",
    "在进入下一章之前，最后一个需要理解的关键概念是如何在 Python 中释放内存。\n",
    "\n",
    "为了关闭您的 GDAL 数据集并表示您的 NumPy 数组可以被释放，您可以将它们设置为 `None`：\n",
    "```python\n",
    "# 关闭 GDAL 数据集\n",
    "dataset = None\n",
    "\n",
    "# 释放 NumPy 数组\n",
    "all_bands_data = None\n",
    "blue_data = None\n",
    "green_data = None\n",
    "red_data = None\n",
    "```\n",
    "\n",
    "这将确保您的内存得到适当的释放，以便在处理大型数据集时不会出现内存问题。"
   ]
  },
  {
   "cell_type": "code",
   "execution_count": 21,
   "metadata": {
    "executionInfo": {
     "elapsed": 413,
     "status": "ok",
     "timestamp": 1709451712831,
     "user": {
      "displayName": "Yantao Xi",
      "userId": "10121209186205112367"
     },
     "user_tz": -480
    },
    "id": "-LtjUz7HPr94",
    "tags": []
   },
   "outputs": [],
   "source": [
    "dataset = None\n",
    "\n",
    "image = None\n",
    "image_correct = None"
   ]
  },
  {
   "cell_type": "markdown",
   "metadata": {
    "id": "P5dFT67oPr95"
   },
   "source": [
    "下一章（[网页链接](chapter_2_indices.html)或[Notebook链接](chapter_2_indices.ipynb)）将运用这些知识来计算归一化植被指数（NDVI）。"
   ]
  },
  {
   "cell_type": "code",
   "execution_count": null,
   "metadata": {},
   "outputs": [],
   "source": []
  }
 ],
 "metadata": {
  "colab": {
   "provenance": []
  },
  "kernelspec": {
   "display_name": "Python 3 (ipykernel)",
   "language": "python",
   "name": "python3"
  },
  "language_info": {
   "codemirror_mode": {
    "name": "ipython",
    "version": 3
   },
   "file_extension": ".py",
   "mimetype": "text/x-python",
   "name": "python",
   "nbconvert_exporter": "python",
   "pygments_lexer": "ipython3",
   "version": "3.10.7"
  }
 },
 "nbformat": 4,
 "nbformat_minor": 4
}
