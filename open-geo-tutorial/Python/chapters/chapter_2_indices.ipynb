{
 "cells": [
  {
   "cell_type": "markdown",
   "metadata": {},
   "source": [
    "Chris Holden (ceholden@gmail.com) - https://github.com/ceholden\n",
    "\n",
    "Chapter 2: Your first remote sensing vegetation index\n",
    "====================================================="
   ]
  },
  {
   "cell_type": "markdown",
   "metadata": {},
   "source": [
    "## 介绍\n",
    "既然我们可以将数据读入计算机，那么让我们来计算一些植被指数。\n",
    "\n",
    "[归一化植被指数（NDVI）](http://en.wikipedia.org/wiki/NDVI) 是如此普遍，甚至有一个维基百科条目。如果您是来学习如何使用 GDAL 和 Python 进行遥感图像处理的，我猜您对这一部分不需要任何介绍。如果您需要复习，请访问 [NDVI 的维基百科链接](http://en.wikipedia.org/wiki/NDVI)。\n",
    "\n",
    "\n",
    "(1) What is NDVI (Normalized Difference Vegetation Index)?. https://gisgeography.com/ndvi-normalized-difference-vegetation-index/.\n",
    "(2) Normalized difference vegetation index - Wikipedia. https://en.wikipedia.org/wiki/Normalized_difference_vegetation_index.\n",
    "(3) Landsat Normalized Difference Vegetation Index. https://www.usgs.gov/landsat-missions/landsat-normalized-difference-vegetation-index."
   ]
  },
  {
   "cell_type": "markdown",
   "metadata": {},
   "source": [
    "这一章非常直接。我们已经看到了如何将图像读入 NumPy 数组中 - 这一章将通过展示如何在 NumPy 对象上进行简单计算来扩展这些工具。\n",
    "\n",
    "让我们回顾一下之前的代码，打开图像并读取数据：\n",
    "```python\n",
    "import gdal\n",
    "import numpy as np\n",
    "\n",
    "# 打开图像文件\n",
    "image_path = \"path/to/your/image.tif\"\n",
    "dataset = gdal.Open(image_path, gdal.GA_ReadOnly)\n",
    "\n",
    "# 获取蓝色波段\n",
    "blue = dataset.GetRasterBand(1)\n",
    "\n",
    "# 获取波段数据\n",
    "blue_data = blue.ReadAsArray()\n",
    "\n",
    "# 打印波段数据的形状\n",
    "print(f\"波段数据形状：{blue_data.shape}\")\n",
    "\n",
    "# 打印波段数据的前几行\n",
    "print(\"波段数据的前几行：\")\n",
    "print(blue_data[:5, :])\n",
    "```\n",
    "这将读取蓝色波段的数据并存储在名为 `blue_data` 的 NumPy 数组中。您可以根据需要进一步处理和分析这些数据。"
   ]
  },
  {
   "cell_type": "code",
   "execution_count": 1,
   "metadata": {
    "collapsed": false,
    "jupyter": {
     "outputs_hidden": false
    },
    "tags": []
   },
   "outputs": [
    {
     "name": "stdout",
     "output_type": "stream",
     "text": [
      "红色波段均值: 589.379808\n",
      "近红外波段均值: 3442.297712\n"
     ]
    }
   ],
   "source": [
    "# 导入 Python 3 的 print 函数\n",
    "from __future__ import print_function\n",
    "\n",
    "# 从 \"osgeo\" 模块中导入 \"gdal\" 和 \"gdal_array\" 子模块\n",
    "from osgeo import gdal\n",
    "from osgeo import gdal_array\n",
    "\n",
    "# 导入 NumPy 模块\n",
    "import numpy as np\n",
    "\n",
    "# 打开一个 GDAL 数据集\n",
    "dataset = gdal.Open('../../example/LE70220491999322EDC01_stack.gtif', gdal.GA_ReadOnly)\n",
    "\n",
    "# 使用第一个波段的数据类型来分配我们的数组\n",
    "image_datatype = dataset.GetRasterBand(1).DataType\n",
    "\n",
    "image = np.zeros((dataset.RasterYSize, dataset.RasterXSize, dataset.RasterCount),\n",
    "                 dtype=gdal_array.GDALTypeCodeToNumericTypeCode(image_datatype))\n",
    "\n",
    "# 循环遍历数据集中的所有波段\n",
    "for b in range(dataset.RasterCount):\n",
    "    # 注意，GDAL 的索引是从 1 开始的，而 Python 的索引是从 0 开始的 -- 因此我们在 GDAL 调用中要加 1\n",
    "    band = dataset.GetRasterBand(b + 1)\n",
    "    \n",
    "    # 将波段的数据读取到我们数组的第三维中\n",
    "    image[:, :, b] = band.ReadAsArray()\n",
    "    \n",
    "\n",
    "print('红色波段均值: {r}'.format(r=image[:, :, 2].mean()))\n",
    "print('近红外波段均值: {nir}'.format(nir=image[:, :, 3].mean()))\n"
   ]
  },
  {
   "cell_type": "markdown",
   "metadata": {},
   "source": [
    "即使是对整个图像进行简单的均值统计，我们也可以看到红色波段和近红外（NIR）波段之间的对比。\n",
    "\n",
    "## 归一化植被指数（NDVI）\n",
    "\n",
    "要计算 NDVI，我们可以在 Python 中使用标准的算术运算符，因为 NumPy 中的这些操作是矢量化的。就像 MATLAB、R 和其他高级语言一样，**永远不要**循环遍历 NumPy 数组，除非您可以避免这样做。"
   ]
  },
  {
   "cell_type": "code",
   "execution_count": 3,
   "metadata": {
    "collapsed": false,
    "jupyter": {
     "outputs_hidden": false
    },
    "tags": []
   },
   "outputs": [
    {
     "name": "stdout",
     "output_type": "stream",
     "text": [
      "[[0.71390828 0.71079741 0.69352291 ... 0.79392185 0.81408451 0.79165379]\n",
      " [0.68064263 0.6787194  0.6643924  ... 0.81387182 0.79880597 0.77389811]\n",
      " [0.66904762 0.67268446 0.66332892 ... 0.78495923 0.78278801 0.81253291]\n",
      " ...\n",
      " [0.68301262 0.68593651 0.67145614 ... 0.81065089 0.78050922 0.76519266]\n",
      " [0.67341718 0.6622986  0.65331611 ... 0.80436681 0.77483099 0.75      ]\n",
      " [0.63973799 0.62396514 0.66731813 ... 0.7094648  0.70005244 0.74574523]]\n",
      "0.9046013008913515\n"
     ]
    }
   ],
   "source": [
    "b_red = 2\n",
    "b_nir = 3\n",
    "\n",
    "ndvi = (image[:, :, b_nir] - image[:, :, b_red]) / (image[:, :, b_red] + image[:, :, b_nir])\n",
    "\n",
    "print(ndvi)\n",
    "print(ndvi.max())"
   ]
  },
  {
   "cell_type": "markdown",
   "metadata": {},
   "source": [
    "#### 注意：Python 2\n",
    "\n",
    "在 Python 2 中，整数除以整数会产生一个整数，即使除法本应产生一个浮点数。Python 3 改变了这种行为，但如果我们在 Python 2 中运行 NDVI 计算，我们将得到所有 NDVI 值都等于 0，因为我们的输入图像是整数数据类型（int16）。有关更多信息，请参阅 [NumPy 中除法的文档](http://docs.scipy.org/doc/numpy/reference/generated/numpy.divide.html)。\n",
    "\n",
    "虽然在 Python 3 中我们不一定需要更改任何内容，但为了清晰起见，明确指定涉及计算的数据类型通常是有用的。此外，我们通常希望使用 Python 3 编写的代码也能在 Python 2 中运行。\n",
    "\n",
    "为了确保我们使用浮点数执行计算，我们可以将计算的分子或分母转换为浮点数：\n",
    "```python\n",
    "# Calculate NDVI\n",
    "red_band = image[:, :, 2]\n",
    "nir_band = image[:, :, 3]\n",
    "\n",
    "# Ensure division is performed using floating point numbers\n",
    "ndvi = (nir_band.astype(float) - red_band.astype(float)) / (nir_band + red_band)\n",
    "\n",
    "# Print NDVI statistics\n",
    "print('NDVI mean: {ndvi_mean}'.format(ndvi_mean=ndvi.mean()))\n",
    "print('NDVI min: {ndvi_min}'.format(ndvi_min=ndvi.min()))\n",
    "print('NDVI max: {ndvi_max}'.format(ndvi_max=ndvi.max()))\n",
    "```\n",
    "这将计算 NDVI 并打印统计信息。如果您有其他问题或需要更多帮助，请随时告知！"
   ]
  },
  {
   "cell_type": "code",
   "execution_count": 4,
   "metadata": {
    "collapsed": false,
    "jupyter": {
     "outputs_hidden": false
    },
    "tags": []
   },
   "outputs": [
    {
     "name": "stdout",
     "output_type": "stream",
     "text": [
      "NDVI matrix: \n",
      "[[0.71390828 0.71079741 0.69352291 ... 0.79392185 0.81408451 0.79165379]\n",
      " [0.68064263 0.6787194  0.6643924  ... 0.81387182 0.79880597 0.77389811]\n",
      " [0.66904762 0.67268446 0.66332892 ... 0.78495923 0.78278801 0.81253291]\n",
      " ...\n",
      " [0.68301262 0.68593651 0.67145614 ... 0.81065089 0.78050922 0.76519266]\n",
      " [0.67341718 0.6622986  0.65331611 ... 0.80436681 0.77483099 0.75      ]\n",
      " [0.63973799 0.62396514 0.66731813 ... 0.7094648  0.70005244 0.74574523]]\n",
      "\n",
      "Max NDVI: 0.9046013008913515\n",
      "Mean NDVI: 0.7088133953809207\n",
      "Median NDVI: 0.7319195214790647\n",
      "Min NDVI: 0.09470304975922954\n"
     ]
    }
   ],
   "source": [
    "ndvi = (image[:, :, b_nir] - image[:, :, b_red]) / \\\n",
    "        (image[:, :, b_nir] + image[:, :, b_red]).astype(np.float64)\n",
    "\n",
    "print('NDVI matrix: ')\n",
    "print(ndvi)\n",
    "\n",
    "print('\\nMax NDVI: {m}'.format(m=ndvi.max()))\n",
    "print('Mean NDVI: {m}'.format(m=ndvi.mean()))\n",
    "print('Median NDVI: {m}'.format(m=np.median(ndvi)))\n",
    "print('Min NDVI: {m}'.format(m=ndvi.min()))"
   ]
  },
  {
   "cell_type": "markdown",
   "metadata": {},
   "source": [
    "这看起来是正确的。\n",
    "\n",
    "说到“看起来正确”，下一章（[网页链接](chapter_3_visualization.html)或[Notebook链接](chapter_3_visualization.ipynb)）将演示如何使用实际的图表来可视化您的结果！"
   ]
  }
 ],
 "metadata": {
  "kernelspec": {
   "display_name": "Python 3 (ipykernel)",
   "language": "python",
   "name": "python3"
  },
  "language_info": {
   "codemirror_mode": {
    "name": "ipython",
    "version": 3
   },
   "file_extension": ".py",
   "mimetype": "text/x-python",
   "name": "python",
   "nbconvert_exporter": "python",
   "pygments_lexer": "ipython3",
   "version": "3.10.7"
  }
 },
 "nbformat": 4,
 "nbformat_minor": 4
}
