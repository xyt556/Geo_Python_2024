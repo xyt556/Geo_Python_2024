{
 "cells": [
  {
   "cell_type": "markdown",
   "metadata": {},
   "source": [
    "介绍\n",
    "====\n",
    "\n",
    "本教程介绍了使用开源软件（Python中的GDAL）进行基本的遥感和GIS方法。"
   ]
  },
  {
   "cell_type": "markdown",
   "metadata": {},
   "source": [
    "## 为什么选择Python？\n",
    "- 易于学习\n",
    "    - Python是一种解释型、动态类型的语言，不需要太多的样板代码就可以开始做有用的事情\n",
    "    - 在将代码放入脚本之前，可以在Python的解释器（读取-求值-打印循环）中测试您的代码\n",
    "    - 非常易读，比C/Java/R/MATLAB更接近人类的思维\n",
    "    \n",
    "- Python是一种具有大型标准库的实际编程语言\n",
    "    - 已经存在并且健壮的文件操作、命令行参数解析、网络访问和解析等工具\n",
    "    - Python已经在其他科学社区和科学之外的领域广泛使用，例如网络服务器、桌面应用程序和服务器管理\n",
    "    \n",
    "- 科学Python提供了非常完善的文档和易于使用的接口，可以使用预先存在的数值方法\n",
    "    - 线性代数、分类算法、回归方法等已经作为Fortran或C代码发布了几十年\n",
    "    - SciPy、NumPy和SciKits等库封装和扩展了这些预先存在的代码，形成了一个易于使用的包\n",
    "    - Python提供了许多工具来内省对象，Python的代码惯例使得访问文档变得容易（例如，输入`?np.random.randint`来访问NumPy随机数生成器的文档字符串（docstring）\n",
    "    \n",
    "- 庞大的社区，有无数的博客、StackOverflow、Github等上的例子\n",
    "\n",
    "- 为QGIS开发Python插件\n",
    "\n",
    "- 在QGIS或ArcMap中编写分析脚本\n",
    "\n",
    "- 许多GDAL工具用Python编写\n",
    "    - 作为示例代码和强烈推荐非常有用\n",
    "\n",
    "- 免费"
   ]
  },
  {
   "cell_type": "markdown",
   "metadata": {},
   "source": [
    "## Chapters\n",
    "1. [Exploring the GDALDataset class](chapter_1_GDALDataset.ipynb)\n",
    "2. [Your first remote sensing vegetation index](chapter_2_indices.ipynb)\n",
    "3. [Plotting and visualizing your data with `matplotlib`](chapter_3_visualization.ipynb)\n",
    "4. [Importing and using vector data -- the OGR library](chapter_4_vector.ipynb)\n",
    "5. [Classification of land cover](chapter_5_classification.ipynb)\n",
    "6. [The spatial dimension - filters and segmentation](chapter_6_spatial.ipynb)"
   ]
  },
  {
   "cell_type": "markdown",
   "metadata": {},
   "source": [
    "## Other resources\n",
    "There are many resources for doing remote sensing and GIS with Python on the web, but here are some of the better ones:\n",
    "- [Chris Garrard's course material from Utah State University](http://www.gis.usu.edu/~chrisg/python/2009/)\n",
    "- [Python GDAL/OGR cookbook](http://pcjericks.github.io/py-gdalogr-cookbook/)\n",
    "- [GDAL API tutorial](http://www.gdal.org/gdal_tutorial.html)\n",
    "- [Python API for GDAL](http://gdal.org/python/)"
   ]
  },
  {
   "cell_type": "markdown",
   "metadata": {},
   "source": [
    "#### Note on Python 2 vs Python 3\n",
    "\n",
    "This tutorial will try to target either Python 2.7 or Python 3.4 and 3.5. To ensure you're using a compatible version of Python, you can run the following:\n",
    "\n",
    "    python --version\n",
    "    \n",
    "at the command line.\n",
    "\n",
    "Python 3 has many great new features (more informative stack traces, better unicode handling, `asyncio`, matrix algebra notation using `@`, and more) and is the future of the language. Unfortunately, some scientific packages (QGIS, for example) have not yet completed the transition away from Python 2. Unless you have good reason to use Python 2 (like if you're writing a QGIS plugin in Python), the general concensus is to recommend using Python 3."
   ]
  }
 ],
 "metadata": {
  "kernelspec": {
   "display_name": "Python 3 (ipykernel)",
   "language": "python",
   "name": "python3"
  },
  "language_info": {
   "codemirror_mode": {
    "name": "ipython",
    "version": 3
   },
   "file_extension": ".py",
   "mimetype": "text/x-python",
   "name": "python",
   "nbconvert_exporter": "python",
   "pygments_lexer": "ipython3",
   "version": "3.10.7"
  }
 },
 "nbformat": 4,
 "nbformat_minor": 4
}
