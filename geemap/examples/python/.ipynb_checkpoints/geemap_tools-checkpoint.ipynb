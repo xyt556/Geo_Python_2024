{
 "cells": [
  {
   "cell_type": "code",
   "execution_count": 4,
   "id": "ebf61457-0345-4f46-9964-0b45c8a05761",
   "metadata": {
    "tags": []
   },
   "outputs": [
    {
     "name": "stdout",
     "output_type": "stream",
     "text": [
      "Converting Earth Engine JavaScripts to Python scripts...\n",
      "\n",
      "Processing 1/5: E:\\Geo_Data\\geemap\\examples\\python\\geemap\\ClippedComposite.js\n",
      "Processing 2/5: E:\\Geo_Data\\geemap\\examples\\python\\geemap\\FromName.js\n",
      "Processing 3/5: E:\\Geo_Data\\geemap\\examples\\python\\geemap\\ModisQaBands.js\n",
      "Processing 4/5: E:\\Geo_Data\\geemap\\examples\\python\\geemap\\NormalizedDifference.js\n",
      "Processing 5/5: E:\\Geo_Data\\geemap\\examples\\python\\geemap\\QualityMosaic.js\n",
      "Python脚本保存至:E:\\Geo_Data\\geemap\\examples\\python\\geemap\n",
      "Converting Earth Engine Python scripts to Jupyter notebooks ...\n",
      "\n",
      "Processing 1/5: E:\\Geo_Data\\geemap\\examples\\python\\geemap\\ClippedComposite_geemap.py\n",
      "\n",
      "Processing 2/5: E:\\Geo_Data\\geemap\\examples\\python\\geemap\\FromName_geemap.py\n",
      "\n",
      "Processing 3/5: E:\\Geo_Data\\geemap\\examples\\python\\geemap\\ModisQaBands_geemap.py\n",
      "\n",
      "Processing 4/5: E:\\Geo_Data\\geemap\\examples\\python\\geemap\\NormalizedDifference_geemap.py\n",
      "\n",
      "Processing 5/5: E:\\Geo_Data\\geemap\\examples\\python\\geemap\\QualityMosaic_geemap.py\n",
      "\n",
      "Executing Earth Engine Jupyter notebooks ...\n",
      "\n"
     ]
    }
   ],
   "source": [
    "# %load earthengine_js_to_ipynb \n",
    "import os\n",
    "from geemap.conversion import *\n",
    "\n",
    "# 获取当前目录  \n",
    "current_dir = os.getcwd()\n",
    "\n",
    "# 在当前目录下创建geemap文件夹\n",
    "work_dir = os.path.join(current_dir, \"geemap\")  \n",
    "if not os.path.exists(work_dir):\n",
    "    os.mkdir(work_dir)\n",
    "    \n",
    "# 获取Earth Engine JavaScript示例。geemap包文件夹中有5个示例。\n",
    "# 将js_dir更改为包含您自己的Earth Engine JavaScript的文件夹,\n",
    "# 例如js_dir = '/path/to/your/js/folder'\n",
    "js_dir = get_js_examples(out_dir=work_dir) \n",
    "\n",
    "# 递归地将文件夹中的所有Earth Engine JavaScript转换为Python脚本。\n",
    "js_to_python_dir(in_dir=js_dir, out_dir=js_dir, use_qgis=True)\n",
    "print(\"Python脚本保存至:{}\".format(js_dir))\n",
    "\n",
    "# 递归地将文件夹中的所有Earth Engine Python脚本转换为Jupyter笔记本。\n",
    "nb_template = get_nb_template()  # 从包文件夹获取笔记本模板。\n",
    "py_to_ipynb_dir(js_dir, nb_template)\n",
    "\n",
    "# 递归地执行文件夹中的所有Jupyter笔记本,并保存输出单元。\n",
    "execute_notebook_dir(in_dir=js_dir) \n"
   ]
  },
  {
   "cell_type": "code",
   "execution_count": 6,
   "id": "777f9797-cde3-4f31-a7b2-a738da3d2fac",
   "metadata": {
    "tags": []
   },
   "outputs": [],
   "source": [
    "# %load earthengine_py_to_ipynb.py \n",
    "\"\"\"该示例展示了如何将GitHub存储库中的所有Earth Engine Python脚本转换为Jupyter笔记本。\"\"\"\n",
    "import os \n",
    "from geemap.conversion import * \n",
    "import subprocess \n",
    "try: \n",
    "    from git import Repo \n",
    "except ImportError: \n",
    "    print(\"gitpython包未安装。正在安装 ...\") \n",
    "    subprocess.check_call([\"python\", \"-m\", \"pip\", \"install\", \"gitpython\"]) \n",
    "    from git import Repo\n",
    "git_url = \"https://github.com/giswqs/qgis-earthengine-examples\" \n",
    "out_repo_name = \"earthengine-py-notebooks\" \n",
    "\n",
    "# 创建一个临时工作目录\n",
    "work_dir = os.path.join(os.path.expanduser(\"~\"), \"geemap\") \n",
    "if not os.path.exists(work_dir): \n",
    "    os.makedirs(work_dir) \n",
    "out_dir = os.path.join(work_dir, out_repo_name) \n",
    "repo_name = git_url.split(\"/\")[-1] \n",
    "repo_dir = os.path.join(work_dir, repo_name) \n",
    "if not os.path.exists(repo_dir): \n",
    "    Repo.clone_from(git_url, repo_dir) \n",
    "\n",
    "# 递归地将文件夹中的所有Earth Engine Python脚本转换为Jupyter笔记本。\n",
    "nb_template = get_nb_template()  # 从包文件夹获取笔记本模板。\n",
    "py_to_ipynb_dir( \n",
    "    repo_dir, \n",
    "    nb_template, \n",
    "    out_dir, \n",
    "    github_username=\"giswqs\", \n",
    "    github_repo=out_repo_name, \n",
    ") \n",
    "# execute_notebook_dir(out_dir) "
   ]
  },
  {
   "cell_type": "code",
   "execution_count": 8,
   "id": "d8d1e75c-4b25-45f6-ac68-272ff0591ac1",
   "metadata": {},
   "outputs": [],
   "source": [
    "# %load geemap_and_earthengine.py \n",
    "import ee \n",
    "import geemap \n",
    "try: \n",
    "    ee.Initialize() \n",
    "except Exception as e: \n",
    "    ee.Authenticate() \n",
    "    ee.Initialize() \n",
    "# 创建一个交互地图 \n",
    "Map = geemap.Map(center=(40, -100), zoom=4) \n",
    "Map \n",
    "# 添加Earth Engine数据集 \n",
    "image = ee.Image(\"USGS/SRTMGL1_003\") \n",
    "# 设置可视化参数。 \n",
    "vis_params = { \n",
    "    \"min\": 0, \n",
    "    \"max\": 4000, \n",
    "    \"palette\": [\"006633\", \"E5FFCC\", \"662A00\", \"D8D8D8\", \"F5F5F5\"], \n",
    "} \n",
    "# 打印珠穆朗玛峰的海拔高度。 \n",
    "xy = ee.Geometry.Point([86.9250, 27.9881]) \n",
    "elev = image.sample(xy, 30).first().get(\"elevation\").getInfo() \n",
    "print(\"珠穆朗玛峰海拔(米):\", elev) \n",
    "# 将Earth Engine图层添加到Map \n",
    "Map.addLayer(image, vis_params, \"SRTM DEM\", True, 0.5) \n",
    "Map.addLayer(xy, {\"color\": \"red\"}, \"Mount Everest\")\n",
    "# 设置地图的中心点 \n",
    "Map.centerObject(ee_object=xy, zoom=13) \n",
    "Map.setCenter(lon=-100, lat=40, zoom=4) "
   ]
  },
  {
   "cell_type": "code",
   "execution_count": 9,
   "id": "1cf4b8b8-05eb-408e-83aa-22499a6dce61",
   "metadata": {
    "tags": []
   },
   "outputs": [],
   "source": [
    "# %load javascript_to_python.py \n",
    "import os \n",
    "from geemap.conversion import * \n",
    "\n",
    "# 创建一个临时工作目录 \n",
    "work_dir = os.path.join(os.path.expanduser(\"~\"), \"geemap\")\n",
    "\n",
    "# 获取Earth Engine JavaScript示例。geemap包文件夹中有5个示例。 \n",
    "# 将js_dir更改为包含Earth Engine JavaScript的自己的文件夹,例如js_dir = '/path/to/your/js/folder' \n",
    "js_dir = get_js_examples(out_dir=work_dir) \n",
    "\n",
    "# 递归地将文件夹中的所有Earth Engine JavaScript转换为Python脚本。 \n",
    "js_to_python_dir(in_dir=js_dir, out_dir=js_dir, use_qgis=True)\n",
    "print(\"Python脚本保存位置: {}\".format(js_dir))\n",
    "\n",
    "# 递归地将文件夹中的所有Earth Engine Python脚本转换为Jupyter笔记本。 \n",
    "nb_template = get_nb_template()  # 从包文件夹获取笔记本模板。 \n",
    "py_to_ipynb_dir(js_dir, nb_template) \n",
    "\n",
    "# 递归执行文件夹中的所有Jupyter笔记本,并保存输出单元格。 \n",
    "execute_notebook_dir(in_dir=js_dir)"
   ]
  }
 ],
 "metadata": {
  "kernelspec": {
   "display_name": "Python 3 (ipykernel)",
   "language": "python",
   "name": "python3"
  },
  "language_info": {
   "codemirror_mode": {
    "name": "ipython",
    "version": 3
   },
   "file_extension": ".py",
   "mimetype": "text/x-python",
   "name": "python",
   "nbconvert_exporter": "python",
   "pygments_lexer": "ipython3",
   "version": "3.10.11"
  }
 },
 "nbformat": 4,
 "nbformat_minor": 5
}
