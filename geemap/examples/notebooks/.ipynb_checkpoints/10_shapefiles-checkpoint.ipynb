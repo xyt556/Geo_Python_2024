{
 "cells": [
  {
   "cell_type": "markdown",
   "id": "6ea0a6fb",
   "metadata": {},
   "source": [
    "<a href=\"https://githubtocolab.com/gee-community/geemap/blob/master/examples/notebooks/10_shapefiles.ipynb\" target=\"_parent\"><img src=\"https://colab.research.google.com/assets/colab-badge.svg\" alt=\"Open in Colab\"/></a>\n",
    "\n",
    "Uncomment the following line to install [geemap](https://geemap.org) if needed."
   ]
  },
  {
   "cell_type": "code",
   "execution_count": 1,
   "id": "37ca7725",
   "metadata": {},
   "outputs": [],
   "source": [
    "# !pip install geemap"
   ]
  },
  {
   "cell_type": "code",
   "execution_count": 1,
   "id": "baec282c",
   "metadata": {
    "pycharm": {
     "is_executing": true
    },
    "tags": []
   },
   "outputs": [],
   "source": [
    "import geemap\n",
    "# geemap.set_proxy(port='4780')\n",
    "geemap.set_proxy(port='10792')"
   ]
  },
  {
   "cell_type": "code",
   "execution_count": 2,
   "id": "5e2a7b70",
   "metadata": {
    "tags": []
   },
   "outputs": [
    {
     "data": {
      "application/vnd.jupyter.widget-view+json": {
       "model_id": "7862c30830904f5a8186d374788dfa98",
       "version_major": 2,
       "version_minor": 0
      },
      "text/plain": [
       "Output(layout=Layout(width='815px'))"
      ]
     },
     "metadata": {},
     "output_type": "display_data"
    }
   ],
   "source": [
    "geemap.show_youtube('OlNlqfj4uHo')"
   ]
  },
  {
   "cell_type": "code",
   "execution_count": 3,
   "id": "cb143c4d",
   "metadata": {
    "scrolled": true,
    "tags": []
   },
   "outputs": [
    {
     "data": {
      "application/vnd.jupyter.widget-view+json": {
       "model_id": "7439e69f57934323b057038e25724bf4",
       "version_major": 2,
       "version_minor": 0
      },
      "text/plain": [
       "Map(center=[20, 0], controls=(WidgetControl(options=['position', 'transparent_bg'], widget=HBox(children=(Togg…"
      ]
     },
     "execution_count": 3,
     "metadata": {},
     "output_type": "execute_result"
    }
   ],
   "source": [
    "Map = geemap.Map()\n",
    "Map"
   ]
  },
  {
   "cell_type": "code",
   "execution_count": 10,
   "id": "1d916b35-7b5e-45a9-ae3e-cbd35d0e31d7",
   "metadata": {
    "tags": []
   },
   "outputs": [
    {
     "data": {
      "text/html": [
       "<div><style>:root {\n",
       "  --font-color-primary: var(--jp-content-font-color0, rgba(0, 0, 0, 1));\n",
       "  --font-color-secondary: var(--jp-content-font-color2, rgba(0, 0, 0, 0.6));\n",
       "  --font-color-accent: rgba(123, 31, 162, 1);\n",
       "  --border-color: var(--jp-border-color2, #e0e0e0);\n",
       "  --background-color: var(--jp-layout-color0, white);\n",
       "  --background-color-row-even: var(--jp-layout-color1, white);\n",
       "  --background-color-row-odd: var(--jp-layout-color2, #eeeeee);\n",
       "}\n",
       "\n",
       "html[theme=\"dark\"],\n",
       "body[data-theme=\"dark\"],\n",
       "body.vscode-dark {\n",
       "  --font-color-primary: rgba(255, 255, 255, 1);\n",
       "  --font-color-secondary: rgba(255, 255, 255, 0.6);\n",
       "  --font-color-accent: rgb(173, 132, 190);\n",
       "  --border-color: #2e2e2e;\n",
       "  --background-color: #111111;\n",
       "  --background-color-row-even: #111111;\n",
       "  --background-color-row-odd: #313131;\n",
       "}\n",
       "\n",
       ".ee {\n",
       "  padding: 1em;\n",
       "  line-height: 1.5em;\n",
       "  min-width: 300px;\n",
       "  max-width: 1200px;\n",
       "  overflow-y: scroll;\n",
       "  max-height: 600px;\n",
       "  border: 1px solid var(--border-color);\n",
       "  font-family: monospace;\n",
       "}\n",
       "\n",
       ".ee li {\n",
       "  list-style-type: none;\n",
       "}\n",
       "\n",
       ".ee ul {\n",
       "  padding-left: 1.5em !important;\n",
       "  margin: 0;\n",
       "}\n",
       "\n",
       ".ee > ul {\n",
       "  padding-left: 0 !important;\n",
       "}\n",
       "\n",
       ".ee-open,\n",
       ".ee-shut {\n",
       "  color: var(--font-color-secondary);\n",
       "  cursor: pointer;\n",
       "  margin: 0;\n",
       "}\n",
       "\n",
       ".ee-open:hover,\n",
       ".ee-shut:hover {\n",
       "  color: var(--font-color-primary);\n",
       "}\n",
       "\n",
       ".ee-k {\n",
       "  color: var(--font-color-accent);\n",
       "  margin-right: 6px;\n",
       "}\n",
       "\n",
       ".ee-v {\n",
       "  color: var(--font-color-primary);\n",
       "}\n",
       "\n",
       ".ee-toggle {\n",
       "  display: none;\n",
       "}\n",
       "\n",
       ".ee-shut + ul {\n",
       "  display: none;\n",
       "}\n",
       "\n",
       ".ee-open + ul {\n",
       "  display: block;\n",
       "}\n",
       "\n",
       ".ee-shut::before {\n",
       "  display: inline-block;\n",
       "  content: \"▼\";\n",
       "  margin-right: 6px;\n",
       "  transform: rotate(-90deg);\n",
       "  transition: transform 0.2s;\n",
       "}\n",
       "\n",
       ".ee-open::before {\n",
       "  transform: rotate(0deg);\n",
       "  display: inline-block;\n",
       "  content: \"▼\";\n",
       "  margin-right: 6px;\n",
       "  transition: transform 0.2s;\n",
       "}\n",
       "</style><div class='ee'><ul><li><label class='ee-shut'>FeatureCollection (1 element, 26 columns)<input type='checkbox' class='ee-toggle'></label><ul><li><span class='ee-k'>type:</span><span class='ee-v'>FeatureCollection</span></li><li><label class='ee-shut'>columns: Object (26 properties)<input type='checkbox' class='ee-toggle'></label><ul><li><span class='ee-k'>Name:</span><span class='ee-v'>Object</span></li><li><span class='ee-k'>address:</span><span class='ee-v'>Object</span></li><li><span class='ee-k'>admincode:</span><span class='ee-v'>Object</span></li><li><span class='ee-k'>airpt_code:</span><span class='ee-v'>Object</span></li><li><span class='ee-k'>chaincode:</span><span class='ee-v'>Object</span></li><li><span class='ee-k'>data_src:</span><span class='ee-v'>Object</span></li><li><span class='ee-k'>display_x:</span><span class='ee-v'>Object</span></li><li><span class='ee-k'>display_y:</span><span class='ee-v'>Object</span></li><li><span class='ee-k'>food_type:</span><span class='ee-v'>Object</span></li><li><span class='ee-k'>gml_id:</span><span class='ee-v'>String</span></li><li><span class='ee-k'>importance:</span><span class='ee-v'>Object</span></li><li><span class='ee-k'>kind:</span><span class='ee-v'>Object</span></li><li><span class='ee-k'>linkid:</span><span class='ee-v'>Object</span></li><li><span class='ee-k'>mapid:</span><span class='ee-v'>Object</span></li><li><span class='ee-k'>mesh_id:</span><span class='ee-v'>Object</span></li><li><span class='ee-k'>open_24h:</span><span class='ee-v'>Object</span></li><li><span class='ee-k'>pid:</span><span class='ee-v'>Object</span></li><li><span class='ee-k'>poi_id:</span><span class='ee-v'>Object</span></li><li><span class='ee-k'>prior_auth:</span><span class='ee-v'>Object</span></li><li><span class='ee-k'>pyname:</span><span class='ee-v'>Object</span></li><li><span class='ee-k'>side:</span><span class='ee-v'>Object</span></li><li><span class='ee-k'>system:index:</span><span class='ee-v'>String</span></li><li><span class='ee-k'>tel_type:</span><span class='ee-v'>Object</span></li><li><span class='ee-k'>telephone:</span><span class='ee-v'>Object</span></li><li><span class='ee-k'>vadmincode:</span><span class='ee-v'>Object</span></li><li><span class='ee-k'>zipcode:</span><span class='ee-v'>Object</span></li></ul></li><li><label class='ee-shut'>features: List (1 element)<input type='checkbox' class='ee-toggle'></label><ul><li><label class='ee-shut'>0: Feature (Polygon, 25 properties)<input type='checkbox' class='ee-toggle'></label><ul><li><span class='ee-k'>type:</span><span class='ee-v'>Feature</span></li><li><span class='ee-k'>id:</span><span class='ee-v'>0</span></li><li><label class='ee-shut'>geometry: Polygon (124 vertices)<input type='checkbox' class='ee-toggle'></label><ul><li><span class='ee-k'>type:</span><span class='ee-v'>Polygon</span></li><li><label class='ee-shut'>coordinates: List (1 element)<input type='checkbox' class='ee-toggle'></label><ul><li><label class='ee-shut'>0: List (124 elements)<input type='checkbox' class='ee-toggle'></label><ul><li><label class='ee-shut'>0: [117.23005494650147, 34.21155533070192]<input type='checkbox' class='ee-toggle'></label><ul><li><span class='ee-k'>0:</span><span class='ee-v'>117.23005494650147</span></li><li><span class='ee-k'>1:</span><span class='ee-v'>34.21155533070192</span></li></ul></li><li><label class='ee-shut'>1: [117.22896414000004, 34.21102126000099]<input type='checkbox' class='ee-toggle'></label><ul><li><span class='ee-k'>0:</span><span class='ee-v'>117.22896414000004</span></li><li><span class='ee-k'>1:</span><span class='ee-v'>34.21102126000099</span></li></ul></li><li><label class='ee-shut'>2: [117.22695466000003, 34.210105390001]<input type='checkbox' class='ee-toggle'></label><ul><li><span class='ee-k'>0:</span><span class='ee-v'>117.22695466000003</span></li><li><span class='ee-k'>1:</span><span class='ee-v'>34.210105390001</span></li></ul></li><li><label class='ee-shut'>3: [117.22482790000002, 34.209831070001]<input type='checkbox' class='ee-toggle'></label><ul><li><span class='ee-k'>0:</span><span class='ee-v'>117.22482790000002</span></li><li><span class='ee-k'>1:</span><span class='ee-v'>34.209831070001</span></li></ul></li><li><label class='ee-shut'>4: [117.22124635728063, 34.20599500757178]<input type='checkbox' class='ee-toggle'></label><ul><li><span class='ee-k'>0:</span><span class='ee-v'>117.22124635728063</span></li><li><span class='ee-k'>1:</span><span class='ee-v'>34.20599500757178</span></li></ul></li><li><label class='ee-shut'>5: [117.22057517000003, 34.205851750000996]<input type='checkbox' class='ee-toggle'></label><ul><li><span class='ee-k'>0:</span><span class='ee-v'>117.22057517000003</span></li><li><span class='ee-k'>1:</span><span class='ee-v'>34.205851750000996</span></li></ul></li><li><label class='ee-shut'>6: [117.22059969811751, 34.20530239404895]<input type='checkbox' class='ee-toggle'></label><ul><li><span class='ee-k'>0:</span><span class='ee-v'>117.22059969811751</span></li><li><span class='ee-k'>1:</span><span class='ee-v'>34.20530239404895</span></li></ul></li><li><label class='ee-shut'>7: [117.21935852726558, 34.20397302029958]<input type='checkbox' class='ee-toggle'></label><ul><li><span class='ee-k'>0:</span><span class='ee-v'>117.21935852726558</span></li><li><span class='ee-k'>1:</span><span class='ee-v'>34.20397302029958</span></li></ul></li><li><label class='ee-shut'>8: [117.21842417000002, 34.20395880000099]<input type='checkbox' class='ee-toggle'></label><ul><li><span class='ee-k'>0:</span><span class='ee-v'>117.21842417000002</span></li><li><span class='ee-k'>1:</span><span class='ee-v'>34.20395880000099</span></li></ul></li><li><label class='ee-shut'>9: [117.2184139993354, 34.20296137018389]<input type='checkbox' class='ee-toggle'></label><ul><li><span class='ee-k'>0:</span><span class='ee-v'>117.2184139993354</span></li><li><span class='ee-k'>1:</span><span class='ee-v'>34.20296137018389</span></li></ul></li><li><label class='ee-shut'>10: [117.2180566361514, 34.20257861124701]<input type='checkbox' class='ee-toggle'></label><ul><li><span class='ee-k'>0:</span><span class='ee-v'>117.2180566361514</span></li><li><span class='ee-k'>1:</span><span class='ee-v'>34.20257861124701</span></li></ul></li><li><label class='ee-shut'>11: [117.21650017000003, 34.202546830001]<input type='checkbox' class='ee-toggle'></label><ul><li><span class='ee-k'>0:</span><span class='ee-v'>117.21650017000003</span></li><li><span class='ee-k'>1:</span><span class='ee-v'>34.202546830001</span></li></ul></li><li><label class='ee-shut'>12: [117.21649917000002, 34.20209284000101]<input type='checkbox' class='ee-toggle'></label><ul><li><span class='ee-k'>0:</span><span class='ee-v'>117.21649917000002</span></li><li><span class='ee-k'>1:</span><span class='ee-v'>34.20209284000101</span></li></ul></li><li><label class='ee-shut'>13: [117.20655717000002, 34.201541860000994]<input type='checkbox' class='ee-toggle'></label><ul><li><span class='ee-k'>0:</span><span class='ee-v'>117.20655717000002</span></li><li><span class='ee-k'>1:</span><span class='ee-v'>34.201541860000994</span></li></ul></li><li><label class='ee-shut'>14: [117.20630017000002, 34.20152786000101]<input type='checkbox' class='ee-toggle'></label><ul><li><span class='ee-k'>0:</span><span class='ee-v'>117.20630017000002</span></li><li><span class='ee-k'>1:</span><span class='ee-v'>34.20152786000101</span></li></ul></li><li><label class='ee-shut'>15: [117.20639917000004, 34.202814830000996]<input type='checkbox' class='ee-toggle'></label><ul><li><span class='ee-k'>0:</span><span class='ee-v'>117.20639917000004</span></li><li><span class='ee-k'>1:</span><span class='ee-v'>34.202814830000996</span></li></ul></li><li><label class='ee-shut'>16: [117.20410517000002, 34.203068820001]<input type='checkbox' class='ee-toggle'></label><ul><li><span class='ee-k'>0:</span><span class='ee-v'>117.20410517000002</span></li><li><span class='ee-k'>1:</span><span class='ee-v'>34.203068820001</span></li></ul></li><li><label class='ee-shut'>17: [117.20380617000001, 34.202368840000986]<input type='checkbox' class='ee-toggle'></label><ul><li><span class='ee-k'>0:</span><span class='ee-v'>117.20380617000001</span></li><li><span class='ee-k'>1:</span><span class='ee-v'>34.202368840000986</span></li></ul></li><li><label class='ee-shut'>18: [117.20176017000004, 34.202272840000994]<input type='checkbox' class='ee-toggle'></label><ul><li><span class='ee-k'>0:</span><span class='ee-v'>117.20176017000004</span></li><li><span class='ee-k'>1:</span><span class='ee-v'>34.202272840000994</span></li></ul></li><li><label class='ee-shut'>19: [117.20106217000003, 34.202722830000994]<input type='checkbox' class='ee-toggle'></label><ul><li><span class='ee-k'>0:</span><span class='ee-v'>117.20106217000003</span></li><li><span class='ee-k'>1:</span><span class='ee-v'>34.202722830000994</span></li></ul></li><li><label class='ee-shut'>20: [117.19981517000004, 34.202724830000996]<input type='checkbox' class='ee-toggle'></label><ul><li><span class='ee-k'>0:</span><span class='ee-v'>117.19981517000004</span></li><li><span class='ee-k'>1:</span><span class='ee-v'>34.202724830000996</span></li></ul></li><li><label class='ee-shut'>21: [117.19926717000003, 34.202875820001]<input type='checkbox' class='ee-toggle'></label><ul><li><span class='ee-k'>0:</span><span class='ee-v'>117.19926717000003</span></li><li><span class='ee-k'>1:</span><span class='ee-v'>34.202875820001</span></li></ul></li><li><label class='ee-shut'>22: [117.19741217000002, 34.203027820001004]<input type='checkbox' class='ee-toggle'></label><ul><li><span class='ee-k'>0:</span><span class='ee-v'>117.19741217000002</span></li><li><span class='ee-k'>1:</span><span class='ee-v'>34.203027820001004</span></li></ul></li><li><label class='ee-shut'>23: [117.19677317000004, 34.203079820001]<input type='checkbox' class='ee-toggle'></label><ul><li><span class='ee-k'>0:</span><span class='ee-v'>117.19677317000004</span></li><li><span class='ee-k'>1:</span><span class='ee-v'>34.203079820001</span></li></ul></li><li><label class='ee-shut'>24: [117.19592517000002, 34.20088287000099]<input type='checkbox' class='ee-toggle'></label><ul><li><span class='ee-k'>0:</span><span class='ee-v'>117.19592517000002</span></li><li><span class='ee-k'>1:</span><span class='ee-v'>34.20088287000099</span></li></ul></li><li><label class='ee-shut'>25: [117.19579717000002, 34.20092287000101]<input type='checkbox' class='ee-toggle'></label><ul><li><span class='ee-k'>0:</span><span class='ee-v'>117.19579717000002</span></li><li><span class='ee-k'>1:</span><span class='ee-v'>34.20092287000101</span></li></ul></li><li><label class='ee-shut'>26: [117.19447917000002, 34.201334860001005]<input type='checkbox' class='ee-toggle'></label><ul><li><span class='ee-k'>0:</span><span class='ee-v'>117.19447917000002</span></li><li><span class='ee-k'>1:</span><span class='ee-v'>34.201334860001005</span></li></ul></li><li><label class='ee-shut'>27: [117.19308217000003, 34.201387860001006]<input type='checkbox' class='ee-toggle'></label><ul><li><span class='ee-k'>0:</span><span class='ee-v'>117.19308217000003</span></li><li><span class='ee-k'>1:</span><span class='ee-v'>34.201387860001006</span></li></ul></li><li><label class='ee-shut'>28: [117.19293663333139, 34.20025504352725]<input type='checkbox' class='ee-toggle'></label><ul><li><span class='ee-k'>0:</span><span class='ee-v'>117.19293663333139</span></li><li><span class='ee-k'>1:</span><span class='ee-v'>34.20025504352725</span></li></ul></li><li><label class='ee-shut'>29: [117.1917375530634, 34.200250057337506]<input type='checkbox' class='ee-toggle'></label><ul><li><span class='ee-k'>0:</span><span class='ee-v'>117.1917375530634</span></li><li><span class='ee-k'>1:</span><span class='ee-v'>34.200250057337506</span></li></ul></li><li><label class='ee-shut'>30: [117.19178617000001, 34.200589880001]<input type='checkbox' class='ee-toggle'></label><ul><li><span class='ee-k'>0:</span><span class='ee-v'>117.19178617000001</span></li><li><span class='ee-k'>1:</span><span class='ee-v'>34.200589880001</span></li></ul></li><li><label class='ee-shut'>31: [117.19153717000002, 34.201539860000985]<input type='checkbox' class='ee-toggle'></label><ul><li><span class='ee-k'>0:</span><span class='ee-v'>117.19153717000002</span></li><li><span class='ee-k'>1:</span><span class='ee-v'>34.201539860000985</span></li></ul></li><li><label class='ee-shut'>32: [117.18919817000004, 34.20184285000099]<input type='checkbox' class='ee-toggle'></label><ul><li><span class='ee-k'>0:</span><span class='ee-v'>117.18919817000004</span></li><li><span class='ee-k'>1:</span><span class='ee-v'>34.20184285000099</span></li></ul></li><li><label class='ee-shut'>33: [117.18834517000002, 34.201995850001005]<input type='checkbox' class='ee-toggle'></label><ul><li><span class='ee-k'>0:</span><span class='ee-v'>117.18834517000002</span></li><li><span class='ee-k'>1:</span><span class='ee-v'>34.201995850001005</span></li></ul></li><li><label class='ee-shut'>34: [117.18847617000003, 34.202619830001]<input type='checkbox' class='ee-toggle'></label><ul><li><span class='ee-k'>0:</span><span class='ee-v'>117.18847617000003</span></li><li><span class='ee-k'>1:</span><span class='ee-v'>34.202619830001</span></li></ul></li><li><label class='ee-shut'>35: [117.18898117000005, 34.205410760000994]<input type='checkbox' class='ee-toggle'></label><ul><li><span class='ee-k'>0:</span><span class='ee-v'>117.18898117000005</span></li><li><span class='ee-k'>1:</span><span class='ee-v'>34.205410760000994</span></li></ul></li><li><label class='ee-shut'>36: [117.18793217000001, 34.20562676000101]<input type='checkbox' class='ee-toggle'></label><ul><li><span class='ee-k'>0:</span><span class='ee-v'>117.18793217000001</span></li><li><span class='ee-k'>1:</span><span class='ee-v'>34.20562676000101</span></li></ul></li><li><label class='ee-shut'>37: [117.18803617000002, 34.206144740000994]<input type='checkbox' class='ee-toggle'></label><ul><li><span class='ee-k'>0:</span><span class='ee-v'>117.18803617000002</span></li><li><span class='ee-k'>1:</span><span class='ee-v'>34.206144740000994</span></li></ul></li><li><label class='ee-shut'>38: [117.18472517000001, 34.20627474000101]<input type='checkbox' class='ee-toggle'></label><ul><li><span class='ee-k'>0:</span><span class='ee-v'>117.18472517000001</span></li><li><span class='ee-k'>1:</span><span class='ee-v'>34.20627474000101</span></li></ul></li><li><label class='ee-shut'>39: [117.18480617000002, 34.207417710001]<input type='checkbox' class='ee-toggle'></label><ul><li><span class='ee-k'>0:</span><span class='ee-v'>117.18480617000002</span></li><li><span class='ee-k'>1:</span><span class='ee-v'>34.207417710001</span></li></ul></li><li><label class='ee-shut'>40: [117.18414417000002, 34.20741971000101]<input type='checkbox' class='ee-toggle'></label><ul><li><span class='ee-k'>0:</span><span class='ee-v'>117.18414417000002</span></li><li><span class='ee-k'>1:</span><span class='ee-v'>34.20741971000101</span></li></ul></li><li><label class='ee-shut'>41: [117.18406617000002, 34.207746710001]<input type='checkbox' class='ee-toggle'></label><ul><li><span class='ee-k'>0:</span><span class='ee-v'>117.18406617000002</span></li><li><span class='ee-k'>1:</span><span class='ee-v'>34.207746710001</span></li></ul></li><li><label class='ee-shut'>42: [117.18396917000003, 34.209782660001]<input type='checkbox' class='ee-toggle'></label><ul><li><span class='ee-k'>0:</span><span class='ee-v'>117.18396917000003</span></li><li><span class='ee-k'>1:</span><span class='ee-v'>34.209782660001</span></li></ul></li><li><label class='ee-shut'>43: [117.18372517000002, 34.21109662000099]<input type='checkbox' class='ee-toggle'></label><ul><li><span class='ee-k'>0:</span><span class='ee-v'>117.18372517000002</span></li><li><span class='ee-k'>1:</span><span class='ee-v'>34.21109662000099</span></li></ul></li><li><label class='ee-shut'>44: [117.18346917000002, 34.211104620000995]<input type='checkbox' class='ee-toggle'></label><ul><li><span class='ee-k'>0:</span><span class='ee-v'>117.18346917000002</span></li><li><span class='ee-k'>1:</span><span class='ee-v'>34.211104620000995</span></li></ul></li><li><label class='ee-shut'>45: [117.18236217000003, 34.211134620001005]<input type='checkbox' class='ee-toggle'></label><ul><li><span class='ee-k'>0:</span><span class='ee-v'>117.18236217000003</span></li><li><span class='ee-k'>1:</span><span class='ee-v'>34.211134620001005</span></li></ul></li><li><label class='ee-shut'>46: [117.18237317000002, 34.209729660001]<input type='checkbox' class='ee-toggle'></label><ul><li><span class='ee-k'>0:</span><span class='ee-v'>117.18237317000002</span></li><li><span class='ee-k'>1:</span><span class='ee-v'>34.209729660001</span></li></ul></li><li><label class='ee-shut'>47: [117.18085217000001, 34.209742660001]<input type='checkbox' class='ee-toggle'></label><ul><li><span class='ee-k'>0:</span><span class='ee-v'>117.18085217000001</span></li><li><span class='ee-k'>1:</span><span class='ee-v'>34.209742660001</span></li></ul></li><li><label class='ee-shut'>48: [117.18087017000003, 34.21119262000099]<input type='checkbox' class='ee-toggle'></label><ul><li><span class='ee-k'>0:</span><span class='ee-v'>117.18087017000003</span></li><li><span class='ee-k'>1:</span><span class='ee-v'>34.21119262000099</span></li></ul></li><li><label class='ee-shut'>49: [117.18013017000003, 34.211357620000996]<input type='checkbox' class='ee-toggle'></label><ul><li><span class='ee-k'>0:</span><span class='ee-v'>117.18013017000003</span></li><li><span class='ee-k'>1:</span><span class='ee-v'>34.211357620000996</span></li></ul></li><li><label class='ee-shut'>50: [117.17967317000003, 34.211281620000996]<input type='checkbox' class='ee-toggle'></label><ul><li><span class='ee-k'>0:</span><span class='ee-v'>117.17967317000003</span></li><li><span class='ee-k'>1:</span><span class='ee-v'>34.211281620000996</span></li></ul></li><li><label class='ee-shut'>51: [117.17665217000003, 34.211627610000996]<input type='checkbox' class='ee-toggle'></label><ul><li><span class='ee-k'>0:</span><span class='ee-v'>117.17665217000003</span></li><li><span class='ee-k'>1:</span><span class='ee-v'>34.211627610000996</span></li></ul></li><li><label class='ee-shut'>52: [117.17582317000003, 34.21160961000099]<input type='checkbox' class='ee-toggle'></label><ul><li><span class='ee-k'>0:</span><span class='ee-v'>117.17582317000003</span></li><li><span class='ee-k'>1:</span><span class='ee-v'>34.21160961000099</span></li></ul></li><li><label class='ee-shut'>53: [117.17484717000004, 34.211440610001006]<input type='checkbox' class='ee-toggle'></label><ul><li><span class='ee-k'>0:</span><span class='ee-v'>117.17484717000004</span></li><li><span class='ee-k'>1:</span><span class='ee-v'>34.211440610001006</span></li></ul></li><li><label class='ee-shut'>54: [117.17262717000003, 34.210745630001]<input type='checkbox' class='ee-toggle'></label><ul><li><span class='ee-k'>0:</span><span class='ee-v'>117.17262717000003</span></li><li><span class='ee-k'>1:</span><span class='ee-v'>34.210745630001</span></li></ul></li><li><label class='ee-shut'>55: [117.17259717000005, 34.210484640001]<input type='checkbox' class='ee-toggle'></label><ul><li><span class='ee-k'>0:</span><span class='ee-v'>117.17259717000005</span></li><li><span class='ee-k'>1:</span><span class='ee-v'>34.210484640001</span></li></ul></li><li><label class='ee-shut'>56: [117.17244517000003, 34.210162650001]<input type='checkbox' class='ee-toggle'></label><ul><li><span class='ee-k'>0:</span><span class='ee-v'>117.17244517000003</span></li><li><span class='ee-k'>1:</span><span class='ee-v'>34.210162650001</span></li></ul></li><li><label class='ee-shut'>57: [117.17212017000004, 34.20971866000101]<input type='checkbox' class='ee-toggle'></label><ul><li><span class='ee-k'>0:</span><span class='ee-v'>117.17212017000004</span></li><li><span class='ee-k'>1:</span><span class='ee-v'>34.20971866000101</span></li></ul></li><li><label class='ee-shut'>58: [117.17184317000003, 34.208779680001]<input type='checkbox' class='ee-toggle'></label><ul><li><span class='ee-k'>0:</span><span class='ee-v'>117.17184317000003</span></li><li><span class='ee-k'>1:</span><span class='ee-v'>34.208779680001</span></li></ul></li><li><label class='ee-shut'>59: [117.17298617000003, 34.208592680001]<input type='checkbox' class='ee-toggle'></label><ul><li><span class='ee-k'>0:</span><span class='ee-v'>117.17298617000003</span></li><li><span class='ee-k'>1:</span><span class='ee-v'>34.208592680001</span></li></ul></li><li><label class='ee-shut'>60: [117.17446356686095, 34.20844045022688]<input type='checkbox' class='ee-toggle'></label><ul><li><span class='ee-k'>0:</span><span class='ee-v'>117.17446356686095</span></li><li><span class='ee-k'>1:</span><span class='ee-v'>34.20844045022688</span></li></ul></li><li><label class='ee-shut'>61: [117.17278540000002, 34.206977500000995]<input type='checkbox' class='ee-toggle'></label><ul><li><span class='ee-k'>0:</span><span class='ee-v'>117.17278540000002</span></li><li><span class='ee-k'>1:</span><span class='ee-v'>34.206977500000995</span></li></ul></li><li><label class='ee-shut'>62: [117.17017709000002, 34.204146620001]<input type='checkbox' class='ee-toggle'></label><ul><li><span class='ee-k'>0:</span><span class='ee-v'>117.17017709000002</span></li><li><span class='ee-k'>1:</span><span class='ee-v'>34.204146620001</span></li></ul></li><li><label class='ee-shut'>63: [117.16882589000001, 34.20219376000099]<input type='checkbox' class='ee-toggle'></label><ul><li><span class='ee-k'>0:</span><span class='ee-v'>117.16882589000001</span></li><li><span class='ee-k'>1:</span><span class='ee-v'>34.20219376000099</span></li></ul></li><li><label class='ee-shut'>64: [117.16728452714489, 34.20033499091881]<input type='checkbox' class='ee-toggle'></label><ul><li><span class='ee-k'>0:</span><span class='ee-v'>117.16728452714489</span></li><li><span class='ee-k'>1:</span><span class='ee-v'>34.20033499091881</span></li></ul></li><li><label class='ee-shut'>65: [117.16670517000003, 34.20098687000099]<input type='checkbox' class='ee-toggle'></label><ul><li><span class='ee-k'>0:</span><span class='ee-v'>117.16670517000003</span></li><li><span class='ee-k'>1:</span><span class='ee-v'>34.20098687000099</span></li></ul></li><li><label class='ee-shut'>66: [117.16466017000003, 34.20103187000099]<input type='checkbox' class='ee-toggle'></label><ul><li><span class='ee-k'>0:</span><span class='ee-v'>117.16466017000003</span></li><li><span class='ee-k'>1:</span><span class='ee-v'>34.20103187000099</span></li></ul></li><li><label class='ee-shut'>67: [117.16421217000001, 34.20104187000099]<input type='checkbox' class='ee-toggle'></label><ul><li><span class='ee-k'>0:</span><span class='ee-v'>117.16421217000001</span></li><li><span class='ee-k'>1:</span><span class='ee-v'>34.20104187000099</span></li></ul></li><li><label class='ee-shut'>68: [117.16381317000001, 34.201541860000994]<input type='checkbox' class='ee-toggle'></label><ul><li><span class='ee-k'>0:</span><span class='ee-v'>117.16381317000001</span></li><li><span class='ee-k'>1:</span><span class='ee-v'>34.201541860000994</span></li></ul></li><li><label class='ee-shut'>69: [117.16380717000001, 34.201549860000995]<input type='checkbox' class='ee-toggle'></label><ul><li><span class='ee-k'>0:</span><span class='ee-v'>117.16380717000001</span></li><li><span class='ee-k'>1:</span><span class='ee-v'>34.201549860000995</span></li></ul></li><li><label class='ee-shut'>70: [117.16564517000003, 34.20412979000099]<input type='checkbox' class='ee-toggle'></label><ul><li><span class='ee-k'>0:</span><span class='ee-v'>117.16564517000003</span></li><li><span class='ee-k'>1:</span><span class='ee-v'>34.20412979000099</span></li></ul></li><li><label class='ee-shut'>71: [117.16674617000001, 34.205957750001]<input type='checkbox' class='ee-toggle'></label><ul><li><span class='ee-k'>0:</span><span class='ee-v'>117.16674617000001</span></li><li><span class='ee-k'>1:</span><span class='ee-v'>34.205957750001</span></li></ul></li><li><label class='ee-shut'>72: [117.16705317000003, 34.20698072000099]<input type='checkbox' class='ee-toggle'></label><ul><li><span class='ee-k'>0:</span><span class='ee-v'>117.16705317000003</span></li><li><span class='ee-k'>1:</span><span class='ee-v'>34.20698072000099</span></li></ul></li><li><label class='ee-shut'>73: [117.16715217000001, 34.20904267000099]<input type='checkbox' class='ee-toggle'></label><ul><li><span class='ee-k'>0:</span><span class='ee-v'>117.16715217000001</span></li><li><span class='ee-k'>1:</span><span class='ee-v'>34.20904267000099</span></li></ul></li><li><label class='ee-shut'>74: [117.16714417000003, 34.21044864000101]<input type='checkbox' class='ee-toggle'></label><ul><li><span class='ee-k'>0:</span><span class='ee-v'>117.16714417000003</span></li><li><span class='ee-k'>1:</span><span class='ee-v'>34.21044864000101</span></li></ul></li><li><label class='ee-shut'>75: [117.16706317000003, 34.21083963000099]<input type='checkbox' class='ee-toggle'></label><ul><li><span class='ee-k'>0:</span><span class='ee-v'>117.16706317000003</span></li><li><span class='ee-k'>1:</span><span class='ee-v'>34.21083963000099</span></li></ul></li><li><label class='ee-shut'>76: [117.17238917000003, 34.21155461000101]<input type='checkbox' class='ee-toggle'></label><ul><li><span class='ee-k'>0:</span><span class='ee-v'>117.17238917000003</span></li><li><span class='ee-k'>1:</span><span class='ee-v'>34.21155461000101</span></li></ul></li><li><label class='ee-shut'>77: [117.17237817000004, 34.213269570000996]<input type='checkbox' class='ee-toggle'></label><ul><li><span class='ee-k'>0:</span><span class='ee-v'>117.17237817000004</span></li><li><span class='ee-k'>1:</span><span class='ee-v'>34.213269570000996</span></li></ul></li><li><label class='ee-shut'>78: [117.17155117000003, 34.213726560001]<input type='checkbox' class='ee-toggle'></label><ul><li><span class='ee-k'>0:</span><span class='ee-v'>117.17155117000003</span></li><li><span class='ee-k'>1:</span><span class='ee-v'>34.213726560001</span></li></ul></li><li><label class='ee-shut'>79: [117.17112017000002, 34.214163550001004]<input type='checkbox' class='ee-toggle'></label><ul><li><span class='ee-k'>0:</span><span class='ee-v'>117.17112017000002</span></li><li><span class='ee-k'>1:</span><span class='ee-v'>34.214163550001004</span></li></ul></li><li><label class='ee-shut'>80: [117.17098917000001, 34.214467540000996]<input type='checkbox' class='ee-toggle'></label><ul><li><span class='ee-k'>0:</span><span class='ee-v'>117.17098917000001</span></li><li><span class='ee-k'>1:</span><span class='ee-v'>34.214467540000996</span></li></ul></li><li><label class='ee-shut'>81: [117.17098417000003, 34.21502253000101]<input type='checkbox' class='ee-toggle'></label><ul><li><span class='ee-k'>0:</span><span class='ee-v'>117.17098417000003</span></li><li><span class='ee-k'>1:</span><span class='ee-v'>34.21502253000101</span></li></ul></li><li><label class='ee-shut'>82: [117.17105917000004, 34.215325520001]<input type='checkbox' class='ee-toggle'></label><ul><li><span class='ee-k'>0:</span><span class='ee-v'>117.17105917000004</span></li><li><span class='ee-k'>1:</span><span class='ee-v'>34.215325520001</span></li></ul></li><li><label class='ee-shut'>83: [117.17102117000002, 34.21596550000101]<input type='checkbox' class='ee-toggle'></label><ul><li><span class='ee-k'>0:</span><span class='ee-v'>117.17102117000002</span></li><li><span class='ee-k'>1:</span><span class='ee-v'>34.21596550000101</span></li></ul></li><li><label class='ee-shut'>84: [117.16903517000003, 34.216009500001]<input type='checkbox' class='ee-toggle'></label><ul><li><span class='ee-k'>0:</span><span class='ee-v'>117.16903517000003</span></li><li><span class='ee-k'>1:</span><span class='ee-v'>34.216009500001</span></li></ul></li><li><label class='ee-shut'>85: [117.16902817000002, 34.215659510001004]<input type='checkbox' class='ee-toggle'></label><ul><li><span class='ee-k'>0:</span><span class='ee-v'>117.16902817000002</span></li><li><span class='ee-k'>1:</span><span class='ee-v'>34.215659510001004</span></li></ul></li><li><label class='ee-shut'>86: [117.16707117000003, 34.21611650000098]<input type='checkbox' class='ee-toggle'></label><ul><li><span class='ee-k'>0:</span><span class='ee-v'>117.16707117000003</span></li><li><span class='ee-k'>1:</span><span class='ee-v'>34.21611650000098</span></li></ul></li><li><label class='ee-shut'>87: [117.16730617000003, 34.21686448000099]<input type='checkbox' class='ee-toggle'></label><ul><li><span class='ee-k'>0:</span><span class='ee-v'>117.16730617000003</span></li><li><span class='ee-k'>1:</span><span class='ee-v'>34.21686448000099</span></li></ul></li><li><label class='ee-shut'>88: [117.16591717000001, 34.21700348000101]<input type='checkbox' class='ee-toggle'></label><ul><li><span class='ee-k'>0:</span><span class='ee-v'>117.16591717000001</span></li><li><span class='ee-k'>1:</span><span class='ee-v'>34.21700348000101</span></li></ul></li><li><label class='ee-shut'>89: [117.16645417000002, 34.219231420001]<input type='checkbox' class='ee-toggle'></label><ul><li><span class='ee-k'>0:</span><span class='ee-v'>117.16645417000002</span></li><li><span class='ee-k'>1:</span><span class='ee-v'>34.219231420001</span></li></ul></li><li><label class='ee-shut'>90: [117.17480617000002, 34.216455490000996]<input type='checkbox' class='ee-toggle'></label><ul><li><span class='ee-k'>0:</span><span class='ee-v'>117.17480617000002</span></li><li><span class='ee-k'>1:</span><span class='ee-v'>34.216455490000996</span></li></ul></li><li><label class='ee-shut'>91: [117.17649717000005, 34.216241500001004]<input type='checkbox' class='ee-toggle'></label><ul><li><span class='ee-k'>0:</span><span class='ee-v'>117.17649717000005</span></li><li><span class='ee-k'>1:</span><span class='ee-v'>34.216241500001004</span></li></ul></li><li><label class='ee-shut'>92: [117.17957217000004, 34.21624050000099]<input type='checkbox' class='ee-toggle'></label><ul><li><span class='ee-k'>0:</span><span class='ee-v'>117.17957217000004</span></li><li><span class='ee-k'>1:</span><span class='ee-v'>34.21624050000099</span></li></ul></li><li><label class='ee-shut'>93: [117.18333517000003, 34.216239500000995]<input type='checkbox' class='ee-toggle'></label><ul><li><span class='ee-k'>0:</span><span class='ee-v'>117.18333517000003</span></li><li><span class='ee-k'>1:</span><span class='ee-v'>34.216239500000995</span></li></ul></li><li><label class='ee-shut'>94: [117.18335617000001, 34.216749480001]<input type='checkbox' class='ee-toggle'></label><ul><li><span class='ee-k'>0:</span><span class='ee-v'>117.18335617000001</span></li><li><span class='ee-k'>1:</span><span class='ee-v'>34.216749480001</span></li></ul></li><li><label class='ee-shut'>95: [117.18465817000002, 34.21754047000101]<input type='checkbox' class='ee-toggle'></label><ul><li><span class='ee-k'>0:</span><span class='ee-v'>117.18465817000002</span></li><li><span class='ee-k'>1:</span><span class='ee-v'>34.21754047000101</span></li></ul></li><li><label class='ee-shut'>96: [117.18625117000003, 34.217585460001]<input type='checkbox' class='ee-toggle'></label><ul><li><span class='ee-k'>0:</span><span class='ee-v'>117.18625117000003</span></li><li><span class='ee-k'>1:</span><span class='ee-v'>34.217585460001</span></li></ul></li><li><label class='ee-shut'>97: [117.18864217000002, 34.217538470001]<input type='checkbox' class='ee-toggle'></label><ul><li><span class='ee-k'>0:</span><span class='ee-v'>117.18864217000002</span></li><li><span class='ee-k'>1:</span><span class='ee-v'>34.217538470001</span></li></ul></li><li><label class='ee-shut'>98: [117.18865317000002, 34.218133450001]<input type='checkbox' class='ee-toggle'></label><ul><li><span class='ee-k'>0:</span><span class='ee-v'>117.18865317000002</span></li><li><span class='ee-k'>1:</span><span class='ee-v'>34.218133450001</span></li></ul></li><li><label class='ee-shut'>99: [117.18998717000002, 34.218116450001]<input type='checkbox' class='ee-toggle'></label><ul><li><span class='ee-k'>0:</span><span class='ee-v'>117.18998717000002</span></li><li><span class='ee-k'>1:</span><span class='ee-v'>34.218116450001</span></li></ul></li><li><label class='ee-shut'>100: [117.19033917000002, 34.21804145000099]<input type='checkbox' class='ee-toggle'></label><ul><li><span class='ee-k'>0:</span><span class='ee-v'>117.19033917000002</span></li><li><span class='ee-k'>1:</span><span class='ee-v'>34.21804145000099</span></li></ul></li><li><label class='ee-shut'>101: [117.19078117000001, 34.217739460001]<input type='checkbox' class='ee-toggle'></label><ul><li><span class='ee-k'>0:</span><span class='ee-v'>117.19078117000001</span></li><li><span class='ee-k'>1:</span><span class='ee-v'>34.217739460001</span></li></ul></li><li><label class='ee-shut'>102: [117.19000917000001, 34.216229500000985]<input type='checkbox' class='ee-toggle'></label><ul><li><span class='ee-k'>0:</span><span class='ee-v'>117.19000917000001</span></li><li><span class='ee-k'>1:</span><span class='ee-v'>34.216229500000985</span></li></ul></li><li><label class='ee-shut'>103: [117.19823717000003, 34.216437490000985]<input type='checkbox' class='ee-toggle'></label><ul><li><span class='ee-k'>0:</span><span class='ee-v'>117.19823717000003</span></li><li><span class='ee-k'>1:</span><span class='ee-v'>34.216437490000985</span></li></ul></li><li><label class='ee-shut'>104: [117.20065717000003, 34.216420490001]<input type='checkbox' class='ee-toggle'></label><ul><li><span class='ee-k'>0:</span><span class='ee-v'>117.20065717000003</span></li><li><span class='ee-k'>1:</span><span class='ee-v'>34.216420490001</span></li></ul></li><li><label class='ee-shut'>105: [117.20260717000002, 34.21646649000101]<input type='checkbox' class='ee-toggle'></label><ul><li><span class='ee-k'>0:</span><span class='ee-v'>117.20260717000002</span></li><li><span class='ee-k'>1:</span><span class='ee-v'>34.21646649000101</span></li></ul></li><li><label class='ee-shut'>106: [117.20347817000001, 34.219208420000996]<input type='checkbox' class='ee-toggle'></label><ul><li><span class='ee-k'>0:</span><span class='ee-v'>117.20347817000001</span></li><li><span class='ee-k'>1:</span><span class='ee-v'>34.219208420000996</span></li></ul></li><li><label class='ee-shut'>107: [117.20599117000002, 34.218898430001]<input type='checkbox' class='ee-toggle'></label><ul><li><span class='ee-k'>0:</span><span class='ee-v'>117.20599117000002</span></li><li><span class='ee-k'>1:</span><span class='ee-v'>34.218898430001</span></li></ul></li><li><label class='ee-shut'>108: [117.20603717000003, 34.217861460001]<input type='checkbox' class='ee-toggle'></label><ul><li><span class='ee-k'>0:</span><span class='ee-v'>117.20603717000003</span></li><li><span class='ee-k'>1:</span><span class='ee-v'>34.217861460001</span></li></ul></li><li><label class='ee-shut'>109: [117.20653617000004, 34.21679748000099]<input type='checkbox' class='ee-toggle'></label><ul><li><span class='ee-k'>0:</span><span class='ee-v'>117.20653617000004</span></li><li><span class='ee-k'>1:</span><span class='ee-v'>34.21679748000099</span></li></ul></li><li><label class='ee-shut'>110: [117.20650517000001, 34.216413490000996]<input type='checkbox' class='ee-toggle'></label><ul><li><span class='ee-k'>0:</span><span class='ee-v'>117.20650517000001</span></li><li><span class='ee-k'>1:</span><span class='ee-v'>34.216413490000996</span></li></ul></li><li><label class='ee-shut'>111: [117.21356917000001, 34.21628250000099]<input type='checkbox' class='ee-toggle'></label><ul><li><span class='ee-k'>0:</span><span class='ee-v'>117.21356917000001</span></li><li><span class='ee-k'>1:</span><span class='ee-v'>34.21628250000099</span></li></ul></li><li><label class='ee-shut'>112: [117.21778617000002, 34.216140500001]<input type='checkbox' class='ee-toggle'></label><ul><li><span class='ee-k'>0:</span><span class='ee-v'>117.21778617000002</span></li><li><span class='ee-k'>1:</span><span class='ee-v'>34.216140500001</span></li></ul></li><li><label class='ee-shut'>113: [117.21930817000003, 34.215922510001]<input type='checkbox' class='ee-toggle'></label><ul><li><span class='ee-k'>0:</span><span class='ee-v'>117.21930817000003</span></li><li><span class='ee-k'>1:</span><span class='ee-v'>34.215922510001</span></li></ul></li><li><label class='ee-shut'>114: [117.22239717000001, 34.215657510001]<input type='checkbox' class='ee-toggle'></label><ul><li><span class='ee-k'>0:</span><span class='ee-v'>117.22239717000001</span></li><li><span class='ee-k'>1:</span><span class='ee-v'>34.215657510001</span></li></ul></li><li><label class='ee-shut'>115: [117.22853817000002, 34.215024530000996]<input type='checkbox' class='ee-toggle'></label><ul><li><span class='ee-k'>0:</span><span class='ee-v'>117.22853817000002</span></li><li><span class='ee-k'>1:</span><span class='ee-v'>34.215024530000996</span></li></ul></li><li><label class='ee-shut'>116: [117.22922517000003, 34.214712530001]<input type='checkbox' class='ee-toggle'></label><ul><li><span class='ee-k'>0:</span><span class='ee-v'>117.22922517000003</span></li><li><span class='ee-k'>1:</span><span class='ee-v'>34.214712530001</span></li></ul></li><li><label class='ee-shut'>117: [117.22971817000003, 34.214073550001004]<input type='checkbox' class='ee-toggle'></label><ul><li><span class='ee-k'>0:</span><span class='ee-v'>117.22971817000003</span></li><li><span class='ee-k'>1:</span><span class='ee-v'>34.214073550001004</span></li></ul></li><li><label class='ee-shut'>118: [117.23105217000004, 34.21378256000099]<input type='checkbox' class='ee-toggle'></label><ul><li><span class='ee-k'>0:</span><span class='ee-v'>117.23105217000004</span></li><li><span class='ee-k'>1:</span><span class='ee-v'>34.21378256000099</span></li></ul></li><li><label class='ee-shut'>119: [117.22835317000002, 34.21363256000101]<input type='checkbox' class='ee-toggle'></label><ul><li><span class='ee-k'>0:</span><span class='ee-v'>117.22835317000002</span></li><li><span class='ee-k'>1:</span><span class='ee-v'>34.21363256000101</span></li></ul></li><li><label class='ee-shut'>120: [117.22816817000003, 34.213028580000994]<input type='checkbox' class='ee-toggle'></label><ul><li><span class='ee-k'>0:</span><span class='ee-v'>117.22816817000003</span></li><li><span class='ee-k'>1:</span><span class='ee-v'>34.213028580000994</span></li></ul></li><li><label class='ee-shut'>121: [117.22927217000002, 34.212498590001005]<input type='checkbox' class='ee-toggle'></label><ul><li><span class='ee-k'>0:</span><span class='ee-v'>117.22927217000002</span></li><li><span class='ee-k'>1:</span><span class='ee-v'>34.212498590001005</span></li></ul></li><li><label class='ee-shut'>122: [117.22990917000001, 34.21179461000099]<input type='checkbox' class='ee-toggle'></label><ul><li><span class='ee-k'>0:</span><span class='ee-v'>117.22990917000001</span></li><li><span class='ee-k'>1:</span><span class='ee-v'>34.21179461000099</span></li></ul></li><li><label class='ee-shut'>123: [117.23005494650147, 34.21155533070192]<input type='checkbox' class='ee-toggle'></label><ul><li><span class='ee-k'>0:</span><span class='ee-v'>117.23005494650147</span></li><li><span class='ee-k'>1:</span><span class='ee-v'>34.21155533070192</span></li></ul></li></ul></li></ul></li><li><span class='ee-k'>geodesic:</span><span class='ee-v'>False</span></li></ul></li><li><label class='ee-shut'>properties: Object (25 properties)<input type='checkbox' class='ee-toggle'></label><ul><li><span class='ee-k'>Name:</span><span class='ee-v'>None</span></li><li><span class='ee-k'>address:</span><span class='ee-v'>None</span></li><li><span class='ee-k'>admincode:</span><span class='ee-v'>None</span></li><li><span class='ee-k'>airpt_code:</span><span class='ee-v'>None</span></li><li><span class='ee-k'>chaincode:</span><span class='ee-v'>None</span></li><li><span class='ee-k'>data_src:</span><span class='ee-v'>None</span></li><li><span class='ee-k'>display_x:</span><span class='ee-v'>None</span></li><li><span class='ee-k'>display_y:</span><span class='ee-v'>None</span></li><li><span class='ee-k'>food_type:</span><span class='ee-v'>None</span></li><li><span class='ee-k'>gml_id:</span><span class='ee-v'>layer_county_boundary_pg.1262</span></li><li><span class='ee-k'>importance:</span><span class='ee-v'>None</span></li><li><span class='ee-k'>kind:</span><span class='ee-v'>None</span></li><li><span class='ee-k'>linkid:</span><span class='ee-v'>None</span></li><li><span class='ee-k'>mapid:</span><span class='ee-v'>None</span></li><li><span class='ee-k'>mesh_id:</span><span class='ee-v'>None</span></li><li><span class='ee-k'>open_24h:</span><span class='ee-v'>None</span></li><li><span class='ee-k'>pid:</span><span class='ee-v'>None</span></li><li><span class='ee-k'>poi_id:</span><span class='ee-v'>None</span></li><li><span class='ee-k'>prior_auth:</span><span class='ee-v'>None</span></li><li><span class='ee-k'>pyname:</span><span class='ee-v'>None</span></li><li><span class='ee-k'>side:</span><span class='ee-v'>None</span></li><li><span class='ee-k'>tel_type:</span><span class='ee-v'>None</span></li><li><span class='ee-k'>telephone:</span><span class='ee-v'>None</span></li><li><span class='ee-k'>vadmincode:</span><span class='ee-v'>None</span></li><li><span class='ee-k'>zipcode:</span><span class='ee-v'>None</span></li></ul></li></ul></li></ul></li></ul></li></ul></div><script>function toggleHeader() {\n",
       "    const parent = this.parentElement;\n",
       "    parent.className = parent.className === \"ee-open\" ? \"ee-shut\" : \"ee-open\";\n",
       "}\n",
       "\n",
       "for (let c of document.getElementsByClassName(\"ee-toggle\")) {\n",
       "    c.onclick = toggleHeader;\n",
       "}</script></div>"
      ],
      "text/plain": [
       "<ee.featurecollection.FeatureCollection at 0x16e039d75b0>"
      ]
     },
     "execution_count": 10,
     "metadata": {},
     "output_type": "execute_result"
    }
   ],
   "source": [
    "xz_shp = r\"E:\\Geo_Data\\数据处理\\shp\\polygon.shp\"\n",
    "xz = geemap.shp_to_ee(xz_shp)\n",
    "xz"
   ]
  },
  {
   "cell_type": "code",
   "execution_count": 11,
   "id": "cb72a67e-9891-4a2e-8cd5-818553b0cc12",
   "metadata": {
    "tags": []
   },
   "outputs": [
    {
     "data": {
      "application/vnd.jupyter.widget-view+json": {
       "model_id": "7439e69f57934323b057038e25724bf4",
       "version_major": 2,
       "version_minor": 0
      },
      "text/plain": [
       "Map(bottom=209509.0, center=[34.129426361612204, 117.16654955092233], controls=(WidgetControl(options=['positi…"
      ]
     },
     "execution_count": 11,
     "metadata": {},
     "output_type": "execute_result"
    }
   ],
   "source": [
    "# Map.centerObject(xz_shp,8)\n",
    "\n",
    "Map.addLayer(xz, {}, 'xz')\n",
    "Map"
   ]
  },
  {
   "cell_type": "code",
   "execution_count": null,
   "id": "82b5d5fd",
   "metadata": {
    "tags": []
   },
   "outputs": [],
   "source": [
    "states_shp = '../data/us_states.shp'\n",
    "states = geemap.shp_to_ee(states_shp)\n",
    "Map.addLayer(states, {}, 'US States')"
   ]
  },
  {
   "cell_type": "code",
   "execution_count": null,
   "id": "7ae94666",
   "metadata": {},
   "outputs": [],
   "source": [
    "cities_shp = '../data/us_cities.shp'\n",
    "cities = geemap.shp_to_ee(cities_shp)\n",
    "Map.addLayer(cities, {}, 'US Cities')"
   ]
  },
  {
   "cell_type": "code",
   "execution_count": 13,
   "id": "6f4c1e6e",
   "metadata": {},
   "outputs": [
    {
     "name": "stdout",
     "output_type": "stream",
     "text": [
      "Generating URL ...\n",
      "Downloading data from https://earthengine.googleapis.com/v1alpha/projects/earthengine-legacy/tables/40d527e5c715003166920237844bb748-3a61604ea7cce6bc4a1130e5f6fd759e:getFeatures\n",
      "Please wait ...\n",
      "Data downloaded to E:\\Geo_Data\\geemap\\examples\\data\\xz.shp\n"
     ]
    }
   ],
   "source": [
    "geemap.ee_to_shp(xz, filename='../data/xz.shp')\n"
   ]
  },
  {
   "cell_type": "code",
   "execution_count": 15,
   "id": "843e96a8",
   "metadata": {},
   "outputs": [
    {
     "name": "stdout",
     "output_type": "stream",
     "text": [
      "Generating URL ...\n",
      "Downloading data from https://earthengine.googleapis.com/v1alpha/projects/earthengine-legacy/tables/f38c7179a0f0ff62d15922a795226e33-9bead1722f3a65b562137e1a75b1ec0f:getFeatures\n",
      "Please wait ...\n",
      "Data downloaded to E:\\Geo_Data\\geemap\\examples\\data\\xz.csv\n"
     ]
    }
   ],
   "source": [
    "geemap.ee_export_vector(xz, filename='../data/xz.csv')"
   ]
  },
  {
   "cell_type": "code",
   "execution_count": 16,
   "id": "0b80d315",
   "metadata": {},
   "outputs": [
    {
     "name": "stdout",
     "output_type": "stream",
     "text": [
      "Generating URL ...\n",
      "Downloading data from https://earthengine.googleapis.com/v1alpha/projects/earthengine-legacy/tables/f7dc447edb47000c47eab5ae4f30ee75-e1ba7160c3fc6a7f5f13a890c9a572d3:getFeatures\n",
      "Please wait ...\n",
      "Data downloaded to E:\\Geo_Data\\geemap\\examples\\data\\states.kml\n"
     ]
    }
   ],
   "source": [
    "geemap.ee_export_vector(xz, filename='../data/states.kml')"
   ]
  },
  {
   "cell_type": "code",
   "execution_count": 17,
   "id": "0259813f",
   "metadata": {},
   "outputs": [
    {
     "name": "stdout",
     "output_type": "stream",
     "text": [
      "Generating URL ...\n",
      "Downloading data from https://earthengine.googleapis.com/v1alpha/projects/earthengine-legacy/tables/bab2c94fd461728039f3019ae1821041-4d82e4afaf6dc7524043576ce116b237:getFeatures\n",
      "Please wait ...\n",
      "Data downloaded to E:\\Geo_Data\\geemap\\examples\\data\\states.kmz\n"
     ]
    }
   ],
   "source": [
    "geemap.ee_export_vector(xz, filename='../data/states.kmz')"
   ]
  },
  {
   "cell_type": "code",
   "execution_count": null,
   "id": "ea3ef247",
   "metadata": {},
   "outputs": [],
   "source": []
  }
 ],
 "metadata": {
  "kernelspec": {
   "display_name": "Python 3 (ipykernel)",
   "language": "python",
   "name": "python3"
  },
  "language_info": {
   "codemirror_mode": {
    "name": "ipython",
    "version": 3
   },
   "file_extension": ".py",
   "mimetype": "text/x-python",
   "name": "python",
   "nbconvert_exporter": "python",
   "pygments_lexer": "ipython3",
   "version": "3.10.11"
  }
 },
 "nbformat": 4,
 "nbformat_minor": 5
}
