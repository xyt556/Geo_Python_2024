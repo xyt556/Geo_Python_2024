{
 "cells": [
  {
   "cell_type": "markdown",
   "id": "475fdd6c",
   "metadata": {},
   "source": [
    "<a href=\"https://githubtocolab.com/gee-community/geemap/blob/master/examples/notebooks/15_convert_js_to_py.ipynb\" target=\"_parent\"><img src=\"https://colab.research.google.com/assets/colab-badge.svg\" alt=\"Open in Colab\"/></a>\n",
    "\n",
    "Uncomment the following line to install [geemap](https://geemap.org) if needed."
   ]
  },
  {
   "cell_type": "code",
   "execution_count": null,
   "id": "aef8f1ee",
   "metadata": {},
   "outputs": [],
   "source": [
    "# !pip install geemap"
   ]
  },
  {
   "cell_type": "code",
   "execution_count": 1,
   "id": "200a09a7",
   "metadata": {
    "tags": []
   },
   "outputs": [],
   "source": [
    "import ee\n",
    "import geemap\n",
    "geemap.set_proxy(port='4780')"
   ]
  },
  {
   "cell_type": "code",
   "execution_count": 2,
   "id": "98cbdafa",
   "metadata": {
    "tags": []
   },
   "outputs": [
    {
     "data": {
      "application/vnd.jupyter.widget-view+json": {
       "model_id": "2d6c632e50ac42c58edd1d1de213ff5c",
       "version_major": 2,
       "version_minor": 0
      },
      "text/plain": [
       "Output(layout=Layout(width='815px'))"
      ]
     },
     "metadata": {},
     "output_type": "display_data"
    }
   ],
   "source": [
    "geemap.show_youtube('nAzZjKKd4w0')"
   ]
  },
  {
   "cell_type": "markdown",
   "id": "d1b87595",
   "metadata": {},
   "source": [
    "You can simply copy and paste your GEE JavaScripts into a code block wrapped with trip quotes and pass it to a variable. \n",
    "\n",
    "For example, you can grap GEE JavaScripts from [GEE Documentation](https://developers.google.com/earth-engine/image_visualization)."
   ]
  },
  {
   "cell_type": "code",
   "execution_count": 3,
   "id": "34158593",
   "metadata": {
    "tags": []
   },
   "outputs": [],
   "source": [
    "js_snippet = \"\"\"\n",
    "// Load an image.\n",
    "var image = ee.Image('LANDSAT/LC08/C01/T1_TOA/LC08_044034_20140318');\n",
    "\n",
    "// Define the visualization parameters.\n",
    "var vizParams = {\n",
    "  bands: ['B5', 'B4', 'B3'],\n",
    "  min: 0,\n",
    "  max: 0.5,\n",
    "  gamma: [0.95, 1.1, 1]\n",
    "};\n",
    "\n",
    "// Center the map and display the image.\n",
    "Map.setCenter(-122.1899, 37.5010, 10); // San Francisco Bay\n",
    "Map.addLayer(image, vizParams, 'false color composite');\n",
    "\n",
    "\"\"\""
   ]
  },
  {
   "cell_type": "code",
   "execution_count": 4,
   "id": "95469f30",
   "metadata": {
    "tags": []
   },
   "outputs": [],
   "source": [
    "geemap.js_snippet_to_py(\n",
    "    js_snippet, add_new_cell=True, import_ee=True, import_geemap=True, show_map=True\n",
    ")"
   ]
  },
  {
   "cell_type": "code",
   "execution_count": null,
   "id": "b271aa13-9679-4287-9fb0-1c6d8af49e99",
   "metadata": {},
   "outputs": [],
   "source": [
    "import ee\n",
    "import geemap"
   ]
  },
  {
   "cell_type": "code",
   "execution_count": null,
   "id": "376a8396-5fe2-42f8-a287-27d1d6b2aea3",
   "metadata": {},
   "outputs": [],
   "source": [
    "Map = geemap.Map()\n",
    "import geemap\n",
    "\n",
    "Map = geemap.Map()\n",
    "\n",
    "# Load an image.\n",
    "image = ee.Image('LANDSAT/LC08/C01/T1_TOA/LC08_044034_20140318')\n",
    "\n",
    "# Define the visualization parameters.\n",
    "vizParams = {\n",
    "  'bands': ['B5', 'B4', 'B3'],\n",
    "  'min': 0,\n",
    "  'max': 0.5,\n",
    "  'gamma': [0.95, 1.1, 1]\n",
    "}\n",
    "\n",
    "# Center the map and display the image.\n",
    "Map.setCenter(-122.1899, 37.5010, 10); # San Francisco Bay\n",
    "Map.addLayer(image, vizParams, 'False color composite')\n",
    "\n",
    "Map"
   ]
  },
  {
   "cell_type": "code",
   "execution_count": 4,
   "id": "a1347172-5946-4f56-9215-b7221aba0143",
   "metadata": {
    "tags": []
   },
   "outputs": [
    {
     "data": {
      "application/vnd.jupyter.widget-view+json": {
       "model_id": "e0ae11cdb84c436fbd54c36393ec8d4b",
       "version_major": 2,
       "version_minor": 0
      },
      "text/plain": [
       "Map(center=[37.501, -122.1899], controls=(WidgetControl(options=['position', 'transparent_bg'], widget=HBox(ch…"
      ]
     },
     "execution_count": 4,
     "metadata": {},
     "output_type": "execute_result"
    }
   ],
   "source": [
    "# import ee\n",
    "import geemap\n",
    "\n",
    "Map = geemap.Map()\n",
    "import geemap\n",
    "\n",
    "Map = geemap.Map()\n",
    "\n",
    "# Load an image.\n",
    "image = ee.Image('LANDSAT/LC08/C01/T1_TOA/LC08_044034_20140318')\n",
    "\n",
    "# Define the visualization parameters.\n",
    "vizParams = {\n",
    "  'bands': ['B5', 'B4', 'B3'],\n",
    "  'min': 0,\n",
    "  'max': 0.5,\n",
    "  'gamma': [0.95, 1.1, 1]\n",
    "}\n",
    "\n",
    "# Center the map and display the image.\n",
    "Map.setCenter(-122.1899, 37.5010, 10); # San Francisco Bay\n",
    "Map.addLayer(image, vizParams, 'False color composite')\n",
    "\n",
    "Map"
   ]
  },
  {
   "cell_type": "code",
   "execution_count": null,
   "id": "df618b71-3e5f-4745-9db1-17988b4f2573",
   "metadata": {},
   "outputs": [],
   "source": []
  },
  {
   "cell_type": "code",
   "execution_count": 6,
   "id": "87145aec",
   "metadata": {
    "tags": []
   },
   "outputs": [],
   "source": [
    "js_snippet = \"\"\"\n",
    "\n",
    "// Load an image.\n",
    "var image = ee.Image('LANDSAT/LC08/C01/T1_TOA/LC08_044034_20140318');\n",
    "\n",
    "// Create an NDWI image, define visualization parameters and display.\n",
    "var ndwi = image.normalizedDifference(['B3', 'B5']);\n",
    "var ndwiViz = {min: 0.5, max: 1, palette: ['00FFFF', '0000FF']};\n",
    "Map.addLayer(ndwi, ndwiViz, 'NDWI', false);\n",
    "\n",
    "\"\"\""
   ]
  },
  {
   "cell_type": "code",
   "execution_count": 7,
   "id": "0bb2b1e1",
   "metadata": {
    "tags": []
   },
   "outputs": [],
   "source": [
    "geemap.js_snippet_to_py(js_snippet)"
   ]
  },
  {
   "cell_type": "code",
   "execution_count": 5,
   "id": "d731f011-2bfd-49c3-b07d-8775f552d720",
   "metadata": {},
   "outputs": [
    {
     "data": {
      "application/vnd.jupyter.widget-view+json": {
       "model_id": "e0ae11cdb84c436fbd54c36393ec8d4b",
       "version_major": 2,
       "version_minor": 0
      },
      "text/plain": [
       "Map(bottom=101876.0, center=[37.501, -122.1899], controls=(WidgetControl(options=['position', 'transparent_bg'…"
      ]
     },
     "execution_count": 5,
     "metadata": {},
     "output_type": "execute_result"
    }
   ],
   "source": [
    "# import ee\n",
    "import geemap\n",
    "\n",
    "# Load an image.\n",
    "image = ee.Image('LANDSAT/LC08/C01/T1_TOA/LC08_044034_20140318')\n",
    "\n",
    "# Create an NDWI image, define visualization parameters and display.\n",
    "ndwi = image.normalizedDifference(['B3', 'B5'])\n",
    "ndwiViz = {'min': 0.5, 'max': 1, 'palette': ['00FFFF', '0000FF']}\n",
    "Map.addLayer(ndwi, ndwiViz, 'NDWI', False)\n",
    "\n",
    "Map"
   ]
  },
  {
   "cell_type": "code",
   "execution_count": 6,
   "id": "9b6280ff-b435-4bef-8d14-bece02392855",
   "metadata": {},
   "outputs": [
    {
     "data": {
      "application/vnd.jupyter.widget-view+json": {
       "model_id": "e0ae11cdb84c436fbd54c36393ec8d4b",
       "version_major": 2,
       "version_minor": 0
      },
      "text/plain": [
       "Map(bottom=101876.0, center=[37.501, -122.1899], controls=(WidgetControl(options=['position', 'transparent_bg'…"
      ]
     },
     "execution_count": 6,
     "metadata": {},
     "output_type": "execute_result"
    }
   ],
   "source": [
    "# import ee\n",
    "import geemap\n",
    "\n",
    "# Load an image.\n",
    "image = ee.Image('LANDSAT/LC08/C01/T1_TOA/LC08_044034_20140318')\n",
    "\n",
    "# Create an NDWI image, define visualization parameters and display.\n",
    "ndwi = image.normalizedDifference(['B3', 'B5'])\n",
    "ndwiViz = {'min': 0.5, 'max': 1, 'palette': ['00FFFF', '0000FF']}\n",
    "Map.addLayer(ndwi, ndwiViz, 'NDWI', False)\n",
    "\n",
    "Map"
   ]
  },
  {
   "cell_type": "code",
   "execution_count": 9,
   "id": "8a900494",
   "metadata": {
    "tags": []
   },
   "outputs": [],
   "source": [
    "js_snippet = \"\"\"\n",
    "\n",
    "// Load 2012 MODIS land cover and select the IGBP classification.\n",
    "var cover = ee.Image('MODIS/051/MCD12Q1/2012_01_01')\n",
    "  .select('Land_Cover_Type_1');\n",
    "\n",
    "// Define a palette for the 18 distinct land cover classes.\n",
    "var igbpPalette = [\n",
    "  'aec3d4', // water\n",
    "  '152106', '225129', '369b47', '30eb5b', '387242', // forest\n",
    "  '6a2325', 'c3aa69', 'b76031', 'd9903d', '91af40',  // shrub, grass\n",
    "  '111149', // wetlands\n",
    "  'cdb33b', // croplands\n",
    "  'cc0013', // urban\n",
    "  '33280d', // crop mosaic\n",
    "  'd7cdcc', // snow and ice\n",
    "  'f7e084', // barren\n",
    "  '6f6f6f'  // tundra\n",
    "];\n",
    "\n",
    "// Specify the min and max labels and the color palette matching the labels.\n",
    "Map.setCenter(-99.229, 40.413, 5);\n",
    "Map.addLayer(cover,\n",
    "             {min: 0, max: 17, palette: igbpPalette},\n",
    "             'IGBP classification');\n",
    "\n",
    "\"\"\""
   ]
  },
  {
   "cell_type": "code",
   "execution_count": 10,
   "id": "3156c9a5",
   "metadata": {
    "tags": []
   },
   "outputs": [],
   "source": [
    "geemap.js_snippet_to_py(js_snippet)"
   ]
  },
  {
   "cell_type": "code",
   "execution_count": null,
   "id": "24750a30-f2ac-4707-8476-f8cc8ef79221",
   "metadata": {},
   "outputs": [],
   "source": [
    "import ee\n",
    "\n",
    "# Load 2012 MODIS land cover and select the IGBP classification.\n",
    "cover = ee.Image('MODIS/051/MCD12Q1/2012_01_01') \\\n",
    "  .select('Land_Cover_Type_1')\n",
    "\n",
    "# Define a palette for the 18 distinct land cover classes.\n",
    "igbpPalette = [\n",
    "  'aec3d4', # water\n",
    "  '152106', '225129', '369b47', '30eb5b', '387242', # forest\n",
    "  '6a2325', 'c3aa69', 'b76031', 'd9903d', '91af40',  # shrub, grass\n",
    "  '111149', # wetlands\n",
    "  'cdb33b', # croplands\n",
    "  'cc0013', # urban\n",
    "  '33280d', # crop mosaic\n",
    "  'd7cdcc', # snow and ice\n",
    "  'f7e084', # barren\n",
    "  '6f6f6f'  # tundra\n",
    "]\n",
    "\n",
    "# Specify the min and max labels and the color palette matching the labels.\n",
    "Map.setCenter(-99.229, 40.413, 5)\n",
    "Map.addLayer(cover,\n",
    "             {'min': 0, 'max': 17, 'palette': igbpPalette},\n",
    "             'IGBP classification')\n",
    "\n",
    "Map"
   ]
  },
  {
   "cell_type": "code",
   "execution_count": 11,
   "id": "59323877-43b4-4daf-ad87-45b36f1f43da",
   "metadata": {
    "tags": []
   },
   "outputs": [
    {
     "data": {
      "application/vnd.jupyter.widget-view+json": {
       "model_id": "099316c67c1b474bb3dceaeb96b19246",
       "version_major": 2,
       "version_minor": 0
      },
      "text/plain": [
       "Map(center=[40.413, -99.229], controls=(WidgetControl(options=['position', 'transparent_bg'], widget=HBox(chil…"
      ]
     },
     "execution_count": 11,
     "metadata": {},
     "output_type": "execute_result"
    }
   ],
   "source": [
    "import ee\n",
    "\n",
    "# Load 2012 MODIS land cover and select the IGBP classification.\n",
    "cover = ee.Image('MODIS/051/MCD12Q1/2012_01_01') \\\n",
    "  .select('Land_Cover_Type_1')\n",
    "\n",
    "# Define a palette for the 18 distinct land cover classes.\n",
    "igbpPalette = [\n",
    "  'aec3d4', # water\n",
    "  '152106', '225129', '369b47', '30eb5b', '387242', # forest\n",
    "  '6a2325', 'c3aa69', 'b76031', 'd9903d', '91af40',  # shrub, grass\n",
    "  '111149', # wetlands\n",
    "  'cdb33b', # croplands\n",
    "  'cc0013', # urban\n",
    "  '33280d', # crop mosaic\n",
    "  'd7cdcc', # snow and ice\n",
    "  'f7e084', # barren\n",
    "  '6f6f6f'  # tundra\n",
    "]\n",
    "\n",
    "# Specify the min and max labels and the color palette matching the labels.\n",
    "Map.setCenter(-99.229, 40.413, 5)\n",
    "Map.addLayer(cover,\n",
    "             {'min': 0, 'max': 17, 'palette': igbpPalette},\n",
    "             'IGBP classification')\n",
    "\n",
    "Map"
   ]
  },
  {
   "cell_type": "code",
   "execution_count": null,
   "id": "d0d5086d-68ac-466a-a64a-e8bb21bd4364",
   "metadata": {},
   "outputs": [],
   "source": []
  },
  {
   "cell_type": "code",
   "execution_count": null,
   "id": "3e3dfab7-bc6a-4bb7-9caf-11d4def875fa",
   "metadata": {},
   "outputs": [],
   "source": []
  },
  {
   "cell_type": "code",
   "execution_count": 12,
   "id": "6e543457-e0b5-47c0-a093-7a2e6cce25ad",
   "metadata": {
    "tags": []
   },
   "outputs": [],
   "source": [
    "js_snippet = \"\"\"\n",
    "\n",
    "/**\n",
    " * @license\n",
    " * Copyright 2019 The Google Earth Engine Community Authors\n",
    " *\n",
    " * Licensed under the Apache License, Version 2.0 (the \"License\");\n",
    " * you may not use this file except in compliance with the License.\n",
    " * You may obtain a copy of the License at\n",
    " *\n",
    " *     http://www.apache.org/licenses/LICENSE-2.0\n",
    " *\n",
    " * Unless required by applicable law or agreed to in writing, software\n",
    " * distributed under the License is distributed on an \"AS IS\" BASIS,\n",
    " * WITHOUT WARRANTIES OR CONDITIONS OF ANY KIND, either express or implied.\n",
    " * See the License for the specific language governing permissions and\n",
    " * limitations under the License.\n",
    " */\n",
    "\n",
    "// Enter a country name and set parameters for forest definition.\n",
    "// County name must match an entry in Large Scale International Boundary (LSIB) dataset.\n",
    "var country = 'Bolivia'; // selected country (e.g. Bolivia)\n",
    "var cc = ee.Number(10); // canopy cover percentage (e.g. 10%)\n",
    "// minimum forest size in pixels (e.g. 6 pixels, approximately 0.5 ha in this example)\n",
    "var pixels = ee.Number(6);\n",
    "// minimum mapping area for tree loss (usually same as the minimum forest area)\n",
    "var lossPixels = ee.Number(6);\n",
    "// Load country features from Large Scale International Boundary (LSIB) dataset.\n",
    "var countries = ee.FeatureCollection('USDOS/LSIB_SIMPLE/2017');\n",
    "var selected = countries.filter(ee.Filter.eq('country_na', ee.String(\n",
    "    country)));\n",
    "// Center the map to the selected country.\n",
    "Map.centerObject(selected, 14);\n",
    "\n",
    "print('Country: ', country);\n",
    "print('Minimum canopy cover (%):', cc);\n",
    "print('Minimum forest area (pixel): ', pixels);\n",
    "print('Minimum mapping unit for tree loss (pixel): ', pixels);\n",
    "\n",
    "// Use Global Forest Change (GFC) dataset to estimate forest area in year 2000.\n",
    "var gfc2018 = ee.Image('UMD/hansen/global_forest_change_2018_v1_6');\n",
    "\n",
    "// Select 'treecover2000'.\n",
    "var canopyCover = gfc2018.select(['treecover2000']);\n",
    "Map.addLayer(canopyCover.selfMask(), {\n",
    "    palette: ['#F3DE8A'],\n",
    "    min: 1,\n",
    "    max: 100\n",
    "}, 'tree cover: all trees 2000 (yellow)', false);\n",
    "\n",
    "// Extract canopy cover that meets the minimum canopy cover percentage.\n",
    "var canopyCover10 = canopyCover.gte(cc).selfMask();\n",
    "Map.addLayer(canopyCover10, {\n",
    "    palette: ['#EB7F00'],\n",
    "    max: 100\n",
    "}, 'tree cover: >= min canopy cover % (orange)', false);\n",
    "\n",
    "// Use connectedPixelCount() to get contiguous area.\n",
    "var contArea = canopyCover10.connectedPixelCount();\n",
    "// Apply the minimum area requirement.\n",
    "var minArea = contArea.gte(pixels).selfMask();\n",
    "\n",
    "// Reproject with scale defined as data source's nominal scale to\n",
    "// ensure pixel resolution used by the above connectedPixelCount()\n",
    "// call is not determined by the Map's zoom level.\n",
    "var prj = gfc2018.projection();\n",
    "var scale = prj.nominalScale();\n",
    "Map.addLayer(minArea.reproject(prj.atScale(scale)), {\n",
    "    palette: ['#96ED89']\n",
    "}, 'tree cover: >= min canopy cover & area (light green)');\n",
    "\n",
    "// Calculate the derived tree area for the selected country.\n",
    "// Convert to hectare from square metres by dividing by 10,000.\n",
    "var forestArea = minArea.multiply(ee.Image.pixelArea()).divide(10000);\n",
    "var forestSize = forestArea.reduceRegion({\n",
    "    reducer: ee.Reducer.sum(),\n",
    "    geometry: selected.geometry(),\n",
    "    scale: 30,\n",
    "    maxPixels: 1e13\n",
    "});\n",
    "print('Year 2000 tree cover (ha) \\nmeeting minimum canopy cover and \\nforest area thresholds \\n ',\n",
    "    forestSize.get('treecover2000'));\n",
    "\n",
    "// Export the result, in case the country is large.\n",
    "var featureCollection = ee.FeatureCollection([ee.Feature(null,\n",
    "    forestSize)]);\n",
    "\n",
    "Export.table.toDrive({\n",
    "    collection: featureCollection,\n",
    "    description: 'forest_area_2000_' + country,\n",
    "    fileFormat: 'CSV'\n",
    "});\n",
    "\n",
    "// Check the actual minimum area size used for this estimate.\n",
    "// Adjust the number of pixels if necessary.\n",
    "var pixelCount = minArea.reduceRegion({\n",
    "    reducer: ee.Reducer.count(),\n",
    "    geometry: selected.geometry(),\n",
    "    scale: 30,\n",
    "    maxPixels: 1e13\n",
    "});\n",
    "var onePixel = forestSize.getNumber('treecover2000')\n",
    "    .divide(pixelCount\n",
    "        .getNumber('treecover2000'));\n",
    "var minAreaUsed = onePixel.multiply(pixels);\n",
    "print('Minimum forest area used (ha)\\n ', minAreaUsed);\n",
    "\n",
    "// Export the result if not printed.\n",
    "var featureCollection = ee.FeatureCollection([ee.Feature(null, {\n",
    "    result: minAreaUsed\n",
    "})]);\n",
    "\n",
    "Export.table.toDrive({\n",
    "    collection: featureCollection,\n",
    "    description: 'min_area_used_' + country,\n",
    "    fileFormat: 'CSV'\n",
    "});\n",
    "\n",
    "// Estimate tree loss.\n",
    "var treeLoss = gfc2018.select(['lossyear']);\n",
    "var treeLoss01 = treeLoss.eq(1).selfMask(); // tree loss in year 2001\n",
    "Map.addLayer(treeLoss01, {\n",
    "    palette: ['#000000']\n",
    "}, 'loss: all tree loss 2001 (black)', false);\n",
    "\n",
    "// Select the tree loss within the derived tree cover (>= canopy cover and area requirements).\n",
    "var treecoverLoss01 = minArea.and(treeLoss01).rename('loss2001')\n",
    "    .selfMask();\n",
    "Map.addLayer(treecoverLoss01, {\n",
    "    palette: ['#9768D1']\n",
    "}, 'loss: inside tree cover (purple)', false);\n",
    "\n",
    "// Create connectedPixelCount() to get contiguous area.\n",
    "var contLoss = treecoverLoss01.connectedPixelCount();\n",
    "// Apply the minimum area requirement.\n",
    "var minLoss = contLoss.gte(lossPixels).selfMask();\n",
    "\n",
    "// Display the results in the map.\n",
    "// The areas less than the threshold are shown in brown.\n",
    "Map.addLayer(minLoss.reproject(prj.atScale(scale)), {\n",
    "    min: 0,\n",
    "    palette: ['FF0000']\n",
    "}, 'loss: inside tree cover & >= min area (red)');\n",
    "\n",
    "// Calculate loss area in hectare.\n",
    "var lossArea = minLoss.multiply(ee.Image.pixelArea()).divide(10000);\n",
    "var lossSize = lossArea.reduceRegion({\n",
    "    reducer: ee.Reducer.sum(),\n",
    "    geometry: selected.geometry(),\n",
    "    scale: 30,\n",
    "    maxPixels: 1e13\n",
    "});\n",
    "print('Year 2001 tree loss (ha) \\nmeeting minimum canopy cover and \\nforest area thresholds \\n ',\n",
    "    lossSize.get('loss2001'));\n",
    "\n",
    "// If the country is large, you may need to export the result.\n",
    "var featureCollection = ee.FeatureCollection([ee.Feature(null,\n",
    "    lossSize)]);\n",
    "\n",
    "Export.table.toDrive({\n",
    "    collection: featureCollection,\n",
    "    description: 'loss_area_2001_' + country,\n",
    "    fileFormat: 'CSV'\n",
    "});\n",
    "\n",
    "// Calculate the subsequent tree cover (tree cover 2000 minus loss 2001)\n",
    "// Unmask the derived loss.\n",
    "var minLossUnmask = minLoss.unmask();\n",
    "// Switch the binary value of the loss (0, 1) to (1, 0).\n",
    "var notLoss = minLossUnmask.select('loss2001').eq(0);\n",
    "// Combine the derived tree cover and not-loss with 'and'.\n",
    "var treecoverLoss01 = minArea.and(notLoss).selfMask();\n",
    "// Apply the minimum area requirement in order to qualify as a forest.\n",
    "var contArea01 = treecoverLoss01.connectedPixelCount();\n",
    "var minArea01 = contArea01.gte(pixels);\n",
    "Map.addLayer(minArea01.reproject(prj.atScale(scale)), {\n",
    "    palette: ['#168039']\n",
    "}, 'tree cover 2001 (gain not considered) (dark green)');\n",
    "\n",
    "// Calculate the tree cover in hectare.\n",
    "var forestArea01 = minArea01.multiply(ee.Image.pixelArea()).divide(\n",
    "    10000);\n",
    "var forestSize01 = forestArea01.reduceRegion({\n",
    "    reducer: ee.Reducer.sum(),\n",
    "    geometry: selected.geometry(),\n",
    "    scale: 30,\n",
    "    maxPixels: 1e13\n",
    "});\n",
    "print('Year 2001 tree cover (ha) \\nmeeting minimum canopy cover and \\nforest area thresholds \\n ',\n",
    "    forestSize01.get('treecover2000'));\n",
    "\n",
    "var featureCollection = ee.FeatureCollection([ee.Feature(null,\n",
    "    forestSize01)]);\n",
    "\n",
    "Export.table.toDrive({\n",
    "    collection: featureCollection,\n",
    "    description: 'forest_area_2001_' + country,\n",
    "    fileFormat: 'CSV'\n",
    "});\n",
    "\n",
    "// Display the selected country area.\n",
    "Map.addLayer(selected.draw({\n",
    "    color: '#000000',\n",
    "    strokeWidth: 5\n",
    "}), {\n",
    "    opacity: 0.3\n",
    "}, 'selected country', false);\n",
    "\n",
    "\"\"\""
   ]
  },
  {
   "cell_type": "code",
   "execution_count": 13,
   "id": "65e082b4-942f-4eb5-ac3e-3ded085e61bb",
   "metadata": {
    "tags": []
   },
   "outputs": [],
   "source": [
    "geemap.js_snippet_to_py(js_snippet)"
   ]
  },
  {
   "cell_type": "code",
   "execution_count": 26,
   "id": "ea2a13cc-9135-4eb3-86d7-e88ef9770b9c",
   "metadata": {
    "tags": []
   },
   "outputs": [
    {
     "name": "stdout",
     "output_type": "stream",
     "text": [
      "Country:  Bolivia\n",
      "Minimum canopy cover (%): ee.Number({\n",
      "  \"constantValue\": 10\n",
      "})\n",
      "Minimum forest area (pixel):  ee.Number({\n",
      "  \"constantValue\": 6\n",
      "})\n",
      "Minimum mapping unit for tree loss (pixel):  ee.Number({\n",
      "  \"constantValue\": 6\n",
      "})\n"
     ]
    },
    {
     "data": {
      "application/vnd.jupyter.widget-view+json": {
       "model_id": "099316c67c1b474bb3dceaeb96b19246",
       "version_major": 2,
       "version_minor": 0
      },
      "text/plain": [
       "Map(bottom=2294670.0, center=[-16.68638579132066, -64.67577878939099], controls=(WidgetControl(options=['posit…"
      ]
     },
     "execution_count": 26,
     "metadata": {},
     "output_type": "execute_result"
    }
   ],
   "source": [
    "import ee\n",
    "\n",
    "#*\n",
    " # @license\n",
    " # Copyright 2019 The Google Earth Engine Community Authors\n",
    " #\n",
    " # Licensed under the Apache License, Version 2.0 (the \"License\")\n",
    " # you may not use this file except in compliance with the License.\n",
    " # You may obtain a copy of the License at\n",
    " #\n",
    " #     http:#www.apache.Org/licenses/LICENSE-2.0\n",
    " #\n",
    " # Unless required by applicable law or agreed to in writing, software\n",
    " # distributed under the License is distributed on an \"AS IS\" BASIS,\n",
    " # WITHOUT WARRANTIES OR CONDITIONS OF ANY KIND, either express or implied.\n",
    " # See the License for the specific language governing permissions and\n",
    " # limitations under the License.\n",
    " #\n",
    "\n",
    "# Enter a country name and set parameters for forest definition.\n",
    "# County name must match an entry in Large Scale International Boundary (LSIB) dataset.\n",
    "\n",
    "geometry = ee.Geometry.Polygon(\n",
    "        [[[-61.75674957599114, -6.619675642981527],\n",
    "          [-61.75674957599114, -15.748720779459873],\n",
    "          [-50.59464020099114, -15.748720779459873],\n",
    "          [-50.59464020099114, -6.619675642981527]]]);\n",
    "country = 'Bolivia'; # selected country (e.g. Bolivia)\n",
    "cc = ee.Number(10); # canopy cover percentage (e.g. 10%)\n",
    "# minimum forest size in pixels (e.g. 6 pixels, approximately 0.5 ha in this example)\n",
    "pixels = ee.Number(6)\n",
    "# minimum mapping area for tree loss (usually same as the minimum forest area)\n",
    "lossPixels = ee.Number(6)\n",
    "# Load country features from Large Scale International Boundary (LSIB) dataset.\n",
    "countries = ee.FeatureCollection('USDOS/LSIB_SIMPLE/2017')\n",
    "selected = countries.filter(ee.Filter.eq('country_na', ee.String(\n",
    "    country)))\n",
    "# Center the map to the selected country.\n",
    "Map.centerObject(selected, 14)\n",
    "\n",
    "print('Country: ', country)\n",
    "print('Minimum canopy cover (%):', cc)\n",
    "print('Minimum forest area (pixel): ', pixels)\n",
    "print('Minimum mapping unit for tree loss (pixel): ', pixels)\n",
    "Map"
   ]
  },
  {
   "cell_type": "code",
   "execution_count": 24,
   "id": "0f4be0ed-2b78-4fd4-8b68-6bae02bac04b",
   "metadata": {
    "tags": []
   },
   "outputs": [
    {
     "name": "stdout",
     "output_type": "stream",
     "text": [
      "Country:  Bolivia\n",
      "Minimum canopy cover (%): ee.Number({\n",
      "  \"constantValue\": 10\n",
      "})\n",
      "Minimum forest area (pixel):  ee.Number({\n",
      "  \"constantValue\": 6\n",
      "})\n",
      "Minimum mapping unit for tree loss (pixel):  ee.Number({\n",
      "  \"constantValue\": 6\n",
      "})\n"
     ]
    },
    {
     "ename": "EEException",
     "evalue": "Invalid argument for ee.Reducer(): ({'reducer': <ee.Reducer object at 0x000002229EFAAEC0>, 'geometry': ee.Geometry({\n  \"functionInvocationValue\": {\n    \"functionName\": \"Collection.geometry\",\n    \"arguments\": {\n      \"collection\": {\n        \"functionInvocationValue\": {\n          \"functionName\": \"Collection.filter\",\n          \"arguments\": {\n            \"collection\": {\n              \"functionInvocationValue\": {\n                \"functionName\": \"Collection.loadTable\",\n                \"arguments\": {\n                  \"tableId\": {\n                    \"constantValue\": \"USDOS/LSIB_SIMPLE/2017\"\n                  }\n                }\n              }\n            },\n            \"filter\": {\n              \"functionInvocationValue\": {\n                \"functionName\": \"Filter.equals\",\n                \"arguments\": {\n                  \"leftField\": {\n                    \"constantValue\": \"country_na\"\n                  },\n                  \"rightValue\": {\n                    \"constantValue\": \"Bolivia\"\n                  }\n                }\n              }\n            }\n          }\n        }\n      }\n    }\n  }\n}), 'scale': 30, 'maxPixels': 10000000000000.0},).  Must be a ComputedObject.",
     "output_type": "error",
     "traceback": [
      "\u001b[1;31m---------------------------------------------------------------------------\u001b[0m",
      "\u001b[1;31mEEException\u001b[0m                               Traceback (most recent call last)",
      "Cell \u001b[1;32mIn[24], line 81\u001b[0m\n\u001b[0;32m     78\u001b[0m \u001b[38;5;66;03m# Calculate the derived tree area for the selected country.\u001b[39;00m\n\u001b[0;32m     79\u001b[0m \u001b[38;5;66;03m# Convert to hectare from square metres by dividing by 10,000.\u001b[39;00m\n\u001b[0;32m     80\u001b[0m forestArea \u001b[38;5;241m=\u001b[39m minArea\u001b[38;5;241m.\u001b[39mmultiply(ee\u001b[38;5;241m.\u001b[39mImage\u001b[38;5;241m.\u001b[39mpixelArea())\u001b[38;5;241m.\u001b[39mdivide(\u001b[38;5;241m10000\u001b[39m)\n\u001b[1;32m---> 81\u001b[0m forestSize \u001b[38;5;241m=\u001b[39m \u001b[43mforestArea\u001b[49m\u001b[38;5;241;43m.\u001b[39;49m\u001b[43mreduceRegion\u001b[49m\u001b[43m(\u001b[49m\u001b[43m{\u001b[49m\n\u001b[0;32m     82\u001b[0m \u001b[43m    \u001b[49m\u001b[38;5;124;43m'\u001b[39;49m\u001b[38;5;124;43mreducer\u001b[39;49m\u001b[38;5;124;43m'\u001b[39;49m\u001b[43m:\u001b[49m\u001b[43m \u001b[49m\u001b[43mee\u001b[49m\u001b[38;5;241;43m.\u001b[39;49m\u001b[43mReducer\u001b[49m\u001b[38;5;241;43m.\u001b[39;49m\u001b[43msum\u001b[49m\u001b[43m(\u001b[49m\u001b[43m)\u001b[49m\u001b[43m,\u001b[49m\n\u001b[0;32m     83\u001b[0m \u001b[43m    \u001b[49m\u001b[38;5;124;43m'\u001b[39;49m\u001b[38;5;124;43mgeometry\u001b[39;49m\u001b[38;5;124;43m'\u001b[39;49m\u001b[43m:\u001b[49m\u001b[43m \u001b[49m\u001b[43mselected\u001b[49m\u001b[38;5;241;43m.\u001b[39;49m\u001b[43mgeometry\u001b[49m\u001b[43m(\u001b[49m\u001b[43m)\u001b[49m\u001b[43m,\u001b[49m\n\u001b[0;32m     84\u001b[0m \u001b[43m    \u001b[49m\u001b[38;5;124;43m'\u001b[39;49m\u001b[38;5;124;43mscale\u001b[39;49m\u001b[38;5;124;43m'\u001b[39;49m\u001b[43m:\u001b[49m\u001b[43m \u001b[49m\u001b[38;5;241;43m30\u001b[39;49m\u001b[43m,\u001b[49m\n\u001b[0;32m     85\u001b[0m \u001b[43m    \u001b[49m\u001b[38;5;124;43m'\u001b[39;49m\u001b[38;5;124;43mmaxPixels\u001b[39;49m\u001b[38;5;124;43m'\u001b[39;49m\u001b[43m:\u001b[49m\u001b[43m \u001b[49m\u001b[38;5;241;43m1e13\u001b[39;49m\n\u001b[0;32m     86\u001b[0m \u001b[43m}\u001b[49m\u001b[43m)\u001b[49m\n\u001b[0;32m     87\u001b[0m \u001b[38;5;28mprint\u001b[39m(\u001b[38;5;124m'\u001b[39m\u001b[38;5;124mYear 2000 tree cover (ha) \u001b[39m\u001b[38;5;130;01m\\n\u001b[39;00m\u001b[38;5;124mmeeting minimum canopy cover and \u001b[39m\u001b[38;5;130;01m\\n\u001b[39;00m\u001b[38;5;124mforest area thresholds \u001b[39m\u001b[38;5;130;01m\\n\u001b[39;00m\u001b[38;5;124m \u001b[39m\u001b[38;5;124m'\u001b[39m,\n\u001b[0;32m     88\u001b[0m     forestSize\u001b[38;5;241m.\u001b[39mget(\u001b[38;5;124m'\u001b[39m\u001b[38;5;124mtreecover2000\u001b[39m\u001b[38;5;124m'\u001b[39m))\n\u001b[0;32m     90\u001b[0m \u001b[38;5;66;03m# Export the result, in case the country is large.\u001b[39;00m\n",
      "File \u001b[1;32mE:\\Geo_Data\\venv\\lib\\site-packages\\ee\\apifunction.py:205\u001b[0m, in \u001b[0;36mApiFunction.importApi.<locals>.MakeBoundFunction.<locals>.<lambda>\u001b[1;34m(*args, **kwargs)\u001b[0m\n\u001b[0;32m    203\u001b[0m \u001b[38;5;28;01mdef\u001b[39;00m \u001b[38;5;21mMakeBoundFunction\u001b[39m(func):\n\u001b[0;32m    204\u001b[0m   \u001b[38;5;66;03m# We need the lambda to capture \"func\" from the enclosing scope.\u001b[39;00m\n\u001b[1;32m--> 205\u001b[0m   \u001b[38;5;28;01mreturn\u001b[39;00m \u001b[38;5;28;01mlambda\u001b[39;00m \u001b[38;5;241m*\u001b[39margs, \u001b[38;5;241m*\u001b[39m\u001b[38;5;241m*\u001b[39mkwargs: func\u001b[38;5;241m.\u001b[39mcall(\u001b[38;5;241m*\u001b[39margs, \u001b[38;5;241m*\u001b[39m\u001b[38;5;241m*\u001b[39mkwargs)\n",
      "File \u001b[1;32mE:\\Geo_Data\\venv\\lib\\site-packages\\ee\\function.py:67\u001b[0m, in \u001b[0;36mFunction.call\u001b[1;34m(self, *args, **kwargs)\u001b[0m\n\u001b[0;32m     55\u001b[0m \u001b[38;5;28;01mdef\u001b[39;00m \u001b[38;5;21mcall\u001b[39m(\u001b[38;5;28mself\u001b[39m, \u001b[38;5;241m*\u001b[39margs, \u001b[38;5;241m*\u001b[39m\u001b[38;5;241m*\u001b[39mkwargs):\n\u001b[0;32m     56\u001b[0m \u001b[38;5;250m  \u001b[39m\u001b[38;5;124;03m\"\"\"Calls the function with the given positional and keyword arguments.\u001b[39;00m\n\u001b[0;32m     57\u001b[0m \n\u001b[0;32m     58\u001b[0m \u001b[38;5;124;03m  Args:\u001b[39;00m\n\u001b[1;32m   (...)\u001b[0m\n\u001b[0;32m     65\u001b[0m \u001b[38;5;124;03m    to that type.\u001b[39;00m\n\u001b[0;32m     66\u001b[0m \u001b[38;5;124;03m  \"\"\"\u001b[39;00m\n\u001b[1;32m---> 67\u001b[0m   \u001b[38;5;28;01mreturn\u001b[39;00m \u001b[38;5;28;43mself\u001b[39;49m\u001b[38;5;241;43m.\u001b[39;49m\u001b[43mapply\u001b[49m\u001b[43m(\u001b[49m\u001b[38;5;28;43mself\u001b[39;49m\u001b[38;5;241;43m.\u001b[39;49m\u001b[43mnameArgs\u001b[49m\u001b[43m(\u001b[49m\u001b[43margs\u001b[49m\u001b[43m,\u001b[49m\u001b[43m \u001b[49m\u001b[43mkwargs\u001b[49m\u001b[43m)\u001b[49m\u001b[43m)\u001b[49m\n",
      "File \u001b[1;32mE:\\Geo_Data\\venv\\lib\\site-packages\\ee\\function.py:80\u001b[0m, in \u001b[0;36mFunction.apply\u001b[1;34m(self, named_args)\u001b[0m\n\u001b[0;32m     69\u001b[0m \u001b[38;5;28;01mdef\u001b[39;00m \u001b[38;5;21mapply\u001b[39m(\u001b[38;5;28mself\u001b[39m, named_args):\n\u001b[0;32m     70\u001b[0m \u001b[38;5;250m  \u001b[39m\u001b[38;5;124;03m\"\"\"Calls the function with a dictionary of named arguments.\u001b[39;00m\n\u001b[0;32m     71\u001b[0m \n\u001b[0;32m     72\u001b[0m \u001b[38;5;124;03m  Args:\u001b[39;00m\n\u001b[1;32m   (...)\u001b[0m\n\u001b[0;32m     78\u001b[0m \u001b[38;5;124;03m    to that type.\u001b[39;00m\n\u001b[0;32m     79\u001b[0m \u001b[38;5;124;03m  \"\"\"\u001b[39;00m\n\u001b[1;32m---> 80\u001b[0m   result \u001b[38;5;241m=\u001b[39m computedobject\u001b[38;5;241m.\u001b[39mComputedObject(\u001b[38;5;28mself\u001b[39m, \u001b[38;5;28;43mself\u001b[39;49m\u001b[38;5;241;43m.\u001b[39;49m\u001b[43mpromoteArgs\u001b[49m\u001b[43m(\u001b[49m\u001b[43mnamed_args\u001b[49m\u001b[43m)\u001b[49m)\n\u001b[0;32m     81\u001b[0m   \u001b[38;5;28;01mreturn\u001b[39;00m Function\u001b[38;5;241m.\u001b[39m_promoter(result, \u001b[38;5;28mself\u001b[39m\u001b[38;5;241m.\u001b[39mgetReturnType())\n",
      "File \u001b[1;32mE:\\Geo_Data\\venv\\lib\\site-packages\\ee\\function.py:107\u001b[0m, in \u001b[0;36mFunction.promoteArgs\u001b[1;34m(self, args)\u001b[0m\n\u001b[0;32m    105\u001b[0m name \u001b[38;5;241m=\u001b[39m spec[\u001b[38;5;124m'\u001b[39m\u001b[38;5;124mname\u001b[39m\u001b[38;5;124m'\u001b[39m]\n\u001b[0;32m    106\u001b[0m \u001b[38;5;28;01mif\u001b[39;00m name \u001b[38;5;129;01min\u001b[39;00m args:\n\u001b[1;32m--> 107\u001b[0m   promoted_args[name] \u001b[38;5;241m=\u001b[39m \u001b[43mFunction\u001b[49m\u001b[38;5;241;43m.\u001b[39;49m\u001b[43m_promoter\u001b[49m\u001b[43m(\u001b[49m\u001b[43margs\u001b[49m\u001b[43m[\u001b[49m\u001b[43mname\u001b[49m\u001b[43m]\u001b[49m\u001b[43m,\u001b[49m\u001b[43m \u001b[49m\u001b[43mspec\u001b[49m\u001b[43m[\u001b[49m\u001b[38;5;124;43m'\u001b[39;49m\u001b[38;5;124;43mtype\u001b[39;49m\u001b[38;5;124;43m'\u001b[39;49m\u001b[43m]\u001b[49m\u001b[43m)\u001b[49m\n\u001b[0;32m    108\u001b[0m \u001b[38;5;28;01melif\u001b[39;00m \u001b[38;5;129;01mnot\u001b[39;00m spec\u001b[38;5;241m.\u001b[39mget(\u001b[38;5;124m'\u001b[39m\u001b[38;5;124moptional\u001b[39m\u001b[38;5;124m'\u001b[39m):\n\u001b[0;32m    109\u001b[0m   \u001b[38;5;28;01mraise\u001b[39;00m ee_exception\u001b[38;5;241m.\u001b[39mEEException(\n\u001b[0;32m    110\u001b[0m       \u001b[38;5;124m'\u001b[39m\u001b[38;5;124mRequired argument (\u001b[39m\u001b[38;5;132;01m%s\u001b[39;00m\u001b[38;5;124m) missing to function: \u001b[39m\u001b[38;5;132;01m%s\u001b[39;00m\u001b[38;5;124m'\u001b[39m\n\u001b[0;32m    111\u001b[0m       \u001b[38;5;241m%\u001b[39m (name, \u001b[38;5;28mself\u001b[39m\u001b[38;5;241m.\u001b[39mname))\n",
      "File \u001b[1;32mE:\\Geo_Data\\venv\\lib\\site-packages\\ee\\__init__.py:298\u001b[0m, in \u001b[0;36m_Promote\u001b[1;34m(arg, klass)\u001b[0m\n\u001b[0;32m    295\u001b[0m       \u001b[38;5;28;01mraise\u001b[39;00m EEException(\u001b[38;5;124m'\u001b[39m\u001b[38;5;124mUnknown algorithm: \u001b[39m\u001b[38;5;132;01m{0}\u001b[39;00m\u001b[38;5;124m.\u001b[39m\u001b[38;5;132;01m{1}\u001b[39;00m\u001b[38;5;124m'\u001b[39m\u001b[38;5;241m.\u001b[39mformat(klass, arg))\n\u001b[0;32m    296\u001b[0m   \u001b[38;5;28;01melse\u001b[39;00m:\n\u001b[0;32m    297\u001b[0m     \u001b[38;5;66;03m# Client-side cast.\u001b[39;00m\n\u001b[1;32m--> 298\u001b[0m     \u001b[38;5;28;01mreturn\u001b[39;00m \u001b[38;5;28;43mcls\u001b[39;49m\u001b[43m(\u001b[49m\u001b[43marg\u001b[49m\u001b[43m)\u001b[49m\n\u001b[0;32m    299\u001b[0m \u001b[38;5;28;01melse\u001b[39;00m:\n\u001b[0;32m    300\u001b[0m   \u001b[38;5;28;01mreturn\u001b[39;00m arg\n",
      "File \u001b[1;32mE:\\Geo_Data\\venv\\lib\\site-packages\\ee\\computedobject.py:31\u001b[0m, in \u001b[0;36mComputedObjectMetaclass.__call__\u001b[1;34m(cls, *args, **kwargs)\u001b[0m\n\u001b[0;32m     29\u001b[0m   \u001b[38;5;28;01mreturn\u001b[39;00m args[\u001b[38;5;241m0\u001b[39m]\n\u001b[0;32m     30\u001b[0m \u001b[38;5;28;01melse\u001b[39;00m:\n\u001b[1;32m---> 31\u001b[0m   \u001b[38;5;28;01mreturn\u001b[39;00m \u001b[38;5;28mtype\u001b[39m\u001b[38;5;241m.\u001b[39m\u001b[38;5;21m__call__\u001b[39m(\u001b[38;5;28mcls\u001b[39m, \u001b[38;5;241m*\u001b[39margs, \u001b[38;5;241m*\u001b[39m\u001b[38;5;241m*\u001b[39mkwargs)\n",
      "File \u001b[1;32mE:\\Geo_Data\\venv\\lib\\site-packages\\ee\\__init__.py:412\u001b[0m, in \u001b[0;36m_MakeClass.<locals>.init\u001b[1;34m(self, *args)\u001b[0m\n\u001b[0;32m    408\u001b[0m   \u001b[38;5;28;01mraise\u001b[39;00m EEException(\n\u001b[0;32m    409\u001b[0m       \u001b[38;5;124m'\u001b[39m\u001b[38;5;124mToo many arguments for ee.\u001b[39m\u001b[38;5;132;01m{0}\u001b[39;00m\u001b[38;5;124m(): \u001b[39m\u001b[38;5;132;01m{1}\u001b[39;00m\u001b[38;5;124m'\u001b[39m\u001b[38;5;241m.\u001b[39mformat(name, args))\n\u001b[0;32m    410\u001b[0m \u001b[38;5;28;01melif\u001b[39;00m firstArgIsPrimitive:\n\u001b[0;32m    411\u001b[0m   \u001b[38;5;66;03m# Can't cast a primitive.\u001b[39;00m\n\u001b[1;32m--> 412\u001b[0m   \u001b[38;5;28;01mraise\u001b[39;00m EEException(\n\u001b[0;32m    413\u001b[0m       \u001b[38;5;124m'\u001b[39m\u001b[38;5;124mInvalid argument for ee.\u001b[39m\u001b[38;5;132;01m{0}\u001b[39;00m\u001b[38;5;124m(): \u001b[39m\u001b[38;5;132;01m{1}\u001b[39;00m\u001b[38;5;124m.  \u001b[39m\u001b[38;5;124m'\u001b[39m\n\u001b[0;32m    414\u001b[0m       \u001b[38;5;124m'\u001b[39m\u001b[38;5;124mMust be a ComputedObject.\u001b[39m\u001b[38;5;124m'\u001b[39m\u001b[38;5;241m.\u001b[39mformat(name, args))\n\u001b[0;32m    415\u001b[0m \u001b[38;5;28;01melse\u001b[39;00m:\n\u001b[0;32m    416\u001b[0m   result \u001b[38;5;241m=\u001b[39m args[\u001b[38;5;241m0\u001b[39m]\n",
      "\u001b[1;31mEEException\u001b[0m: Invalid argument for ee.Reducer(): ({'reducer': <ee.Reducer object at 0x000002229EFAAEC0>, 'geometry': ee.Geometry({\n  \"functionInvocationValue\": {\n    \"functionName\": \"Collection.geometry\",\n    \"arguments\": {\n      \"collection\": {\n        \"functionInvocationValue\": {\n          \"functionName\": \"Collection.filter\",\n          \"arguments\": {\n            \"collection\": {\n              \"functionInvocationValue\": {\n                \"functionName\": \"Collection.loadTable\",\n                \"arguments\": {\n                  \"tableId\": {\n                    \"constantValue\": \"USDOS/LSIB_SIMPLE/2017\"\n                  }\n                }\n              }\n            },\n            \"filter\": {\n              \"functionInvocationValue\": {\n                \"functionName\": \"Filter.equals\",\n                \"arguments\": {\n                  \"leftField\": {\n                    \"constantValue\": \"country_na\"\n                  },\n                  \"rightValue\": {\n                    \"constantValue\": \"Bolivia\"\n                  }\n                }\n              }\n            }\n          }\n        }\n      }\n    }\n  }\n}), 'scale': 30, 'maxPixels': 10000000000000.0},).  Must be a ComputedObject."
     ]
    }
   ],
   "source": [
    "# Use Global Forest Change (GFC) dataset to estimate forest area in year 2000.\n",
    "gfc2018 = ee.Image('UMD/hansen/global_forest_change_2018_v1_6')\n",
    "\n",
    "# Select 'treecover2000'.\n",
    "canopyCover = gfc2018.select(['treecover2000'])\n",
    "Map.addLayer(canopyCover.selfMask(), {\n",
    "    'palette': ['#F3DE8A'],\n",
    "    'min': 1,\n",
    "    'max': 100\n",
    "}, 'tree cover: all trees 2000 (yellow)', False)\n",
    "\n",
    "# Extract canopy cover that meets the minimum canopy cover percentage.\n",
    "canopyCover10 = canopyCover.gte(cc).selfMask()\n",
    "Map.addLayer(canopyCover10, {\n",
    "    'palette': ['#EB7F00'],\n",
    "    'max': 100\n",
    "}, 'tree cover: >= min canopy cover % (orange)', False)\n",
    "\n",
    "# Use connectedPixelCount() to get contiguous area.\n",
    "contArea = canopyCover10.connectedPixelCount()\n",
    "# Apply the minimum area requirement.\n",
    "minArea = contArea.gte(pixels).selfMask()\n",
    "\n",
    "# Reproject with scale defined as data source's nominal scale to\n",
    "# ensure pixel resolution used by the above connectedPixelCount()\n",
    "# call is not determined by the Map's zoom level.\n",
    "prj = gfc2018.projection()\n",
    "scale = prj.nominalScale()\n",
    "Map.addLayer(minArea.reproject(prj.atScale(scale)), {\n",
    "    'palette': ['#96ED89']\n",
    "}, 'tree cover: >= min canopy cover & area (light green)')\n",
    "\n",
    "# Calculate the derived tree area for the selected country.\n",
    "# Convert to hectare from square metres by dividing by 10,000.\n",
    "forestArea = minArea.multiply(ee.Image.pixelArea()).divide(10000)\n",
    "forestSize = forestArea.reduceRegion({\n",
    "    'reducer': ee.Reducer.sum(),\n",
    "    'geometry': selected.geometry(),\n",
    "    'scale': 30,\n",
    "    'maxPixels': 1e13\n",
    "})\n",
    "print('Year 2000 tree cover (ha) \\nmeeting minimum canopy cover and \\nforest area thresholds \\n ',\n",
    "    forestSize.get('treecover2000'))\n",
    "\n",
    "# Export the result, in case the country is large.\n",
    "featureCollection = ee.FeatureCollection([ee.Feature(None,\n",
    "    forestSize)])\n",
    "\n",
    "Export.table.toDrive({\n",
    "    'collection': featureCollection,\n",
    "    'description': 'forest_area_2000_' + country,\n",
    "    'fileFormat': 'CSV'\n",
    "})\n",
    "\n",
    "# Check the actual minimum area size used for this estimate.\n",
    "# Adjust the number of pixels if necessary.\n",
    "pixelCount = minArea.reduceRegion({\n",
    "    'reducer': ee.Reducer.count(),\n",
    "    'geometry': selected.geometry(),\n",
    "    'scale': 30,\n",
    "    'maxPixels': 1e13\n",
    "})\n",
    "onePixel = forestSize.getNumber('treecover2000') \\\n",
    "    .divide(pixelCount \\\n",
    "        .getNumber('treecover2000'))\n",
    "minAreaUsed = onePixel.multiply(pixels)\n",
    "print('Minimum forest area used (ha)\\n ', minAreaUsed)\n",
    "\n",
    "# Export the result if not printed.\n",
    "featureCollection = ee.FeatureCollection([ee.Feature(None, {\n",
    "    'result': minAreaUsed\n",
    "})])\n",
    "\n",
    "Export.table.toDrive({\n",
    "    'collection': featureCollection,\n",
    "    'description': 'min_area_used_' + country,\n",
    "    'fileFormat': 'CSV'\n",
    "})\n",
    "\n",
    "# Estimate tree loss.\n",
    "treeLoss = gfc2018.select(['lossyear'])\n",
    "treeLoss01 = treeLoss.eq(1).selfMask(); # tree loss in year 2001\n",
    "Map.addLayer(treeLoss01, {\n",
    "    'palette': ['#000000']\n",
    "}, 'loss: all tree loss 2001 (black)', False)\n",
    "\n",
    "# Select the tree loss within the derived tree cover (>= canopy cover and area requirements).\n",
    "treecoverLoss01 = minArea.And(treeLoss01).rename('loss2001') \\\n",
    "    .selfMask()\n",
    "Map.addLayer(treecoverLoss01, {\n",
    "    'palette': ['#9768D1']\n",
    "}, 'loss: inside tree cover (purple)', False)\n",
    "\n",
    "# Create connectedPixelCount() to get contiguous area.\n",
    "contLoss = treecoverLoss01.connectedPixelCount()\n",
    "# Apply the minimum area requirement.\n",
    "minLoss = contLoss.gte(lossPixels).selfMask()\n",
    "\n",
    "# Display the results in the map.\n",
    "# The areas less than the threshold are shown in brown.\n",
    "Map.addLayer(minLoss.reproject(prj.atScale(scale)), {\n",
    "    'min': 0,\n",
    "    'palette': ['FF0000']\n",
    "}, 'loss: inside tree cover & >= min area (red)')\n",
    "\n",
    "# Calculate loss area in hectare.\n",
    "lossArea = minLoss.multiply(ee.Image.pixelArea()).divide(10000)\n",
    "lossSize = lossArea.reduceRegion({\n",
    "    'reducer': ee.Reducer.sum(),\n",
    "    'geometry': selected.geometry(),\n",
    "    'scale': 30,\n",
    "    'maxPixels': 1e13\n",
    "})\n",
    "print('Year 2000 tree cover (ha) \\nmeeting minimum canopy cover and \\nforest area thresholds \\n ',\n",
    "    forestSize.get('treecover2000'))\n",
    "\n",
    "# If the country is large, you may need to export the result.\n",
    "featureCollection = ee.FeatureCollection([ee.Feature(None,\n",
    "    lossSize)])\n",
    "\n",
    "Export.table.toDrive({\n",
    "    'collection': featureCollection,\n",
    "    'description': 'loss_area_2001_' + country,\n",
    "    'fileFormat': 'CSV'\n",
    "})\n",
    "\n",
    "# Calculate the subsequent tree cover (tree cover 2000 minus loss 2001)\n",
    "# Unmask the derived loss.\n",
    "minLossUnmask = minLoss.unmask()\n",
    "# Switch the binary value of the loss (0, 1) to (1, 0).\n",
    "notLoss = minLossUnmask.select('loss2001').eq(0)\n",
    "# Combine the derived tree cover and not-loss with 'and'.\n",
    "treecoverLoss01 = minArea.And(notLoss).selfMask()\n",
    "# Apply the minimum area requirement in order to qualify as a forest.\n",
    "contArea01 = treecoverLoss01.connectedPixelCount()\n",
    "minArea01 = contArea01.gte(pixels)\n",
    "Map.addLayer(minArea01.reproject(prj.atScale(scale)), {\n",
    "    'palette': ['#168039']\n",
    "}, 'tree cover 2001 (gain not considered) (dark green)')\n",
    "\n",
    "# Calculate the tree cover in hectare.\n",
    "forestArea01 = minArea01.multiply(ee.Image.pixelArea()).divide(\n",
    "    10000)\n",
    "forestSize01 = forestArea01.reduceRegion({\n",
    "    'reducer': ee.Reducer.sum(),\n",
    "    'geometry': selected.geometry(),\n",
    "    'scale': 30,\n",
    "    'maxPixels': 1e13\n",
    "})\n",
    "print('Year 2001 tree cover (ha) \\nmeeting minimum canopy cover and \\nforest area thresholds \\n ',\n",
    "    forestSize01.get('treecover2000'))\n",
    "\n",
    "featureCollection = ee.FeatureCollection([ee.Feature(None,\n",
    "    forestSize01)])\n",
    "\n",
    "Export.table.toDrive({\n",
    "    'collection': featureCollection,\n",
    "    'description': 'forest_area_2001_' + country,\n",
    "    'fileFormat': 'CSV'\n",
    "})\n",
    "\n",
    "# Display the selected country area.\n",
    "Map.addLayer(selected.draw({\n",
    "    'color': '#000000',\n",
    "    'strokeWidth': 5\n",
    "}), {\n",
    "    'opacity': 0.3\n",
    "}, 'selected country', False)\n",
    "\n",
    "Map"
   ]
  },
  {
   "cell_type": "code",
   "execution_count": null,
   "id": "8b187cb8-05c7-4284-a62c-1f3e1d6f1f48",
   "metadata": {},
   "outputs": [],
   "source": []
  },
  {
   "cell_type": "code",
   "execution_count": null,
   "id": "7b61e4e2-a738-429a-bc04-e5d15c75bc3e",
   "metadata": {},
   "outputs": [],
   "source": []
  }
 ],
 "metadata": {
  "kernelspec": {
   "display_name": "Python 3 (ipykernel)",
   "language": "python",
   "name": "python3"
  },
  "language_info": {
   "codemirror_mode": {
    "name": "ipython",
    "version": 3
   },
   "file_extension": ".py",
   "mimetype": "text/x-python",
   "name": "python",
   "nbconvert_exporter": "python",
   "pygments_lexer": "ipython3",
   "version": "3.10.11"
  }
 },
 "nbformat": 4,
 "nbformat_minor": 5
}
