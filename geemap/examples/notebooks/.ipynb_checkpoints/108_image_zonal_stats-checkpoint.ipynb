{
 "cells": [
  {
   "cell_type": "markdown",
   "id": "268ae105",
   "metadata": {},
   "source": [
    "<a href=\"https://githubtocolab.com/gee-community/geemap/blob/master/examples/notebooks/108_image_zonal_stats.ipynb\" target=\"_parent\"><img src=\"https://colab.research.google.com/assets/colab-badge.svg\" alt=\"Open in Colab\"/></a>\n",
    "\n",
    "Uncomment the following line to install [geemap](https://geemap.org) if needed."
   ]
  },
  {
   "cell_type": "code",
   "execution_count": null,
   "id": "99202cc1",
   "metadata": {},
   "outputs": [],
   "source": [
    "# !pip install geemap"
   ]
  },
  {
   "cell_type": "markdown",
   "id": "0a3600f7",
   "metadata": {},
   "source": [
    "Import libraries."
   ]
  },
  {
   "cell_type": "code",
   "execution_count": null,
   "id": "8f499ea5",
   "metadata": {},
   "outputs": [],
   "source": [
    "import ee\n",
    "import geemap\n",
    "import geemap.colormaps as cm\n",
    "geemap.set_proxy(port='10792')"
   ]
  },
  {
   "cell_type": "markdown",
   "id": "482be2ac",
   "metadata": {},
   "source": [
    "Create an interactive map."
   ]
  },
  {
   "cell_type": "code",
   "execution_count": null,
   "id": "89ebe283",
   "metadata": {},
   "outputs": [],
   "source": [
    "Map = geemap.Map(center=[40, -100], zoom=4)\n",
    "Map"
   ]
  },
  {
   "cell_type": "markdown",
   "id": "e1800e4f",
   "metadata": {},
   "source": [
    "Add a DEM to the map."
   ]
  },
  {
   "cell_type": "code",
   "execution_count": null,
   "id": "21a3458f",
   "metadata": {},
   "outputs": [],
   "source": [
    "dem = ee.Image('USGS/3DEP/10m')\n",
    "vis = {'min': 0, 'max': 4000, 'palette': cm.palettes.dem}"
   ]
  },
  {
   "cell_type": "code",
   "execution_count": null,
   "id": "221e2789",
   "metadata": {},
   "outputs": [],
   "source": [
    "Map.addLayer(dem, vis, 'DEM')"
   ]
  },
  {
   "cell_type": "markdown",
   "id": "00a15af7",
   "metadata": {},
   "source": [
    "Add NLCD land cover data and legend to the map."
   ]
  },
  {
   "cell_type": "code",
   "execution_count": null,
   "id": "6768af9b",
   "metadata": {},
   "outputs": [],
   "source": [
    "landcover = ee.Image(\"USGS/NLCD_RELEASES/2019_REL/NLCD/2019\").select('landcover')"
   ]
  },
  {
   "cell_type": "code",
   "execution_count": null,
   "id": "7cee1075",
   "metadata": {},
   "outputs": [],
   "source": [
    "Map.addLayer(landcover, {}, 'NLCD 2019')\n",
    "Map.add_legend(builtin_legend='NLCD')"
   ]
  },
  {
   "cell_type": "markdown",
   "id": "ae59a0d7",
   "metadata": {},
   "source": [
    "Calculate image zonal statistics by zone. In this case, we are going to calculate the mean elevation by each land cover type. The result can be returned as a Panda DataFrame or saved as a CSV."
   ]
  },
  {
   "cell_type": "code",
   "execution_count": null,
   "id": "cfcfa3d0",
   "metadata": {},
   "outputs": [],
   "source": [
    "stats = geemap.image_stats_by_zone(dem, landcover, reducer='MEAN')\n",
    "stats"
   ]
  },
  {
   "cell_type": "markdown",
   "id": "f08e079c",
   "metadata": {},
   "source": [
    "Save the resulting Pandas DataFrame as a CSV."
   ]
  },
  {
   "cell_type": "code",
   "execution_count": null,
   "id": "97c91502",
   "metadata": {},
   "outputs": [],
   "source": [
    "stats.to_csv('mean.csv', index=False)"
   ]
  },
  {
   "cell_type": "markdown",
   "id": "76fa98ae",
   "metadata": {},
   "source": [
    "Calculate the standard deviation of elevation by each land cover type and save the result as a CSV."
   ]
  },
  {
   "cell_type": "code",
   "execution_count": null,
   "id": "fa4db47a",
   "metadata": {},
   "outputs": [],
   "source": [
    "geemap.image_stats_by_zone(dem, landcover, out_csv=\"std.csv\", reducer='STD')"
   ]
  }
 ],
 "metadata": {
  "kernelspec": {
   "display_name": "Python 3 (ipykernel)",
   "language": "python",
   "name": "python3"
  },
  "language_info": {
   "codemirror_mode": {
    "name": "ipython",
    "version": 3
   },
   "file_extension": ".py",
   "mimetype": "text/x-python",
   "name": "python",
   "nbconvert_exporter": "python",
   "pygments_lexer": "ipython3",
   "version": "3.10.11"
  }
 },
 "nbformat": 4,
 "nbformat_minor": 5
}
