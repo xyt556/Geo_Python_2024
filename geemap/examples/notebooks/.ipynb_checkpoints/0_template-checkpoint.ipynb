{
 "cells": [
  {
   "cell_type": "markdown",
   "metadata": {},
   "source": [
    "<table class=\"ee-notebook-buttons\" align=\"left\">\n",
    "    <td><a target=\"_parent\"  href=\"https://github.com/gee-community/geemap/tree/master/tutorials/Template/template.ipynb\"><img width=32px src=\"https://www.tensorflow.org/images/GitHub-Mark-32px.png\" /> View source on GitHub</a></td>\n",
    "    <td><a target=\"_parent\"  href=\"https://nbviewer.jupyter.org/github/gee-community/geemap/blob/master/tutorials/Template/template.ipynb\"><img width=26px src=\"https://upload.wikimedia.org/wikipedia/commons/thumb/3/38/Jupyter_logo.svg/883px-Jupyter_logo.svg.png\" />Notebook Viewer</a></td>\n",
    "    <td><a target=\"_parent\"  href=\"https://colab.research.google.com/github/gee-community/geemap/blob/master/tutorials/Template/template.ipynb\"><img width=26px src=\"https://www.tensorflow.org/images/colab_logo_32px.png\" /> Run in Google Colab</a></td>\n",
    "</table>"
   ]
  },
  {
   "cell_type": "markdown",
   "metadata": {
    "tags": []
   },
   "source": [
    "## Install Earth Engine API and geemap\n",
    "Install the [Earth Engine Python API](https://developers.google.com/earth-engine/python_install) and [geemap](https://github.com/gee-community/geemap). The **geemap** Python package is built upon the [ipyleaflet](https://github.com/jupyter-widgets/ipyleaflet) and [folium](https://github.com/python-visualization/folium) packages and implements several methods for interacting with Earth Engine data layers, such as `Map.addLayer()`, `Map.setCenter()`, and `Map.centerObject()`.\n",
    "The following script checks if the geemap package has been installed. If not, it will install geemap, which automatically installs its [dependencies](https://github.com/gee-community/geemap#dependencies), including earthengine-api, folium, and ipyleaflet.\n",
    "\n",
    "**Important note**: A key difference between folium and ipyleaflet is that ipyleaflet is built upon ipywidgets and allows bidirectional communication between the front-end and the backend enabling the use of the map to capture user input, while folium is meant for displaying static data only ([source](https://blog.jupyter.org/interactive-gis-in-jupyter-with-ipyleaflet-52f9657fa7a)). Note that [Google Colab](https://colab.research.google.com/) currently does not support ipyleaflet ([source](https://github.com/googlecolab/colabtools/issues/60#issuecomment-596225619)). Therefore, if you are using geemap with Google Colab, you should use [`import geemap.foliumap`](https://github.com/gee-community/geemap/blob/master/geemap/foliumap.py). If you are using geemap with [binder](https://mybinder.org/) or a local Jupyter notebook server, you can use [`import geemap`](https://github.com/gee-community/geemap/blob/master/geemap/geemap.py), which provides more functionalities for capturing user input (e.g., mouse-clicking and moving)."
   ]
  },
  {
   "cell_type": "markdown",
   "metadata": {},
   "source": [
    "## 安装 Earth Engine API 和 geemap\n",
    "安装 [Earth Engine Python API](https://developers.google.com/earth-engine/python_install) 和 [geemap](https://github.com/gee-community/geemap)。**geemap** Python 包基于 [ipyleaflet](https://github.com/jupyter-widgets/ipyleaflet) 和 [folium](https://github.com/python-visualization/folium) 包，并实现了多种与 Earth Engine 数据层交互的方法，如 `Map.addLayer()`，`Map.setCenter()` 和 `Map.centerObject()`。\n",
    "以下脚本检查是否已安装 geemap 包。如果没有，它将安装 geemap，该包会自动安装其[依赖项](https://github.com/gee-community/geemap#dependencies)，包括 earthengine-api、folium 和 ipyleaflet。\n",
    "\n",
    "**重要提示**：folium 和 ipyleaflet 之间的一个关键区别在于，ipyleaflet 基于 ipywidgets 并允许前端和后端之间的双向通信，从而使用地图捕获用户输入，而 folium 仅用于显示静态数据（[来源](https://blog.jupyter.org/interactive-gis-in-jupyter-with-ipyleaflet-52f9657fa7a)）。请注意，[Google Colab](https://colab.research.google.com/) 目前不支持 ipyleaflet（[来源](https://github.com/googlecolab/colabtools/issues/60#issuecomment-596225619)）。因此，如果您在 Google Colab 中使用 geemap，则应使用 [`import geemap.foliumap`](https://github.com/gee-community/geemap/blob/master/geemap/foliumap.py)。如果您在 [binder](https://mybinder.org/) 或本地 Jupyter 笔记本服务器中使用 geemap，则可以使用 [`import geemap`](https://github.com/gee-community/geemap/blob/master/geemap/geemap.py)，它为捕获用户输入（例如鼠标点击和移动）提供了更多功能。"
   ]
  },
  {
   "cell_type": "code",
   "execution_count": 2,
   "metadata": {
    "tags": []
   },
   "outputs": [],
   "source": [
    "# Installs geemap package\n",
    "import subprocess\n",
    "\n",
    "try:\n",
    "    import geemap\n",
    "except ImportError:\n",
    "    print('geemap package not installed. Installing ...')\n",
    "    subprocess.check_call([\"python\", '-m', 'pip', 'install', 'geemap'])\n",
    "\n",
    "# Checks whether this notebook is running on Google Colab\n",
    "try:\n",
    "    import google.colab\n",
    "    import geemap.foliumap as emap\n",
    "except:\n",
    "    import geemap as emap\n",
    "\n",
    "# Authenticates and initializes Earth Engine\n",
    "import ee\n",
    "\n",
    "try:\n",
    "    ee.Initialize()\n",
    "except Exception as e:\n",
    "    ee.Authenticate()\n",
    "    ee.Initialize()"
   ]
  },
  {
   "cell_type": "markdown",
   "metadata": {},
   "source": [
    "## Create an interactive map \n",
    "The default basemap is `Google Satellite`. [Additional basemaps](https://github.com/gee-community/geemap/blob/master/geemap/geemap.py#L13) can be added using the `Map.add_basemap()` function. "
   ]
  },
  {
   "cell_type": "markdown",
   "metadata": {},
   "source": [
    "## 创建交互式地图\n",
    "默认底图是 `Google Satellite`。可以使用 `Map.add_basemap()` 函数添加[其他底图](https://github.com/gee-community/geemap/blob/master/geemap/geemap.py#L13)。"
   ]
  },
  {
   "cell_type": "code",
   "execution_count": null,
   "metadata": {
    "tags": []
   },
   "outputs": [],
   "source": [
    "Map = emap.Map(center=[40, -100], zoom=4)\n",
    "Map.add_basemap('ROADMAP')  # Add Google Map\n",
    "Map"
   ]
  },
  {
   "cell_type": "markdown",
   "metadata": {},
   "source": [
    "## Add Earth Engine Python script "
   ]
  },
  {
   "cell_type": "markdown",
   "metadata": {},
   "source": [
    "## 添加 Earth Engine Python 脚本"
   ]
  },
  {
   "cell_type": "code",
   "execution_count": 4,
   "metadata": {
    "tags": []
   },
   "outputs": [
    {
     "name": "stdout",
     "output_type": "stream",
     "text": [
      "Mount Everest elevation (m): 8729\n"
     ]
    }
   ],
   "source": [
    "# Add Earth Engine dataset\n",
    "image = ee.Image('USGS/SRTMGL1_003')\n",
    "\n",
    "# Set visualization parameters.\n",
    "vis_params = {\n",
    "    'min': 0,\n",
    "    'max': 4000,\n",
    "    'palette': ['006633', 'E5FFCC', '662A00', 'D8D8D8', 'F5F5F5'],\n",
    "}\n",
    "\n",
    "# Print the elevation of Mount Everest.\n",
    "xy = ee.Geometry.Point([86.9250, 27.9881])\n",
    "elev = image.sample(xy, 30).first().get('elevation').getInfo()\n",
    "print('Mount Everest elevation (m):', elev)\n",
    "\n",
    "# Add Earth Engine layers to Map\n",
    "Map.addLayer(image, vis_params, 'DEM')\n",
    "Map.addLayer(xy, {'color': 'red'}, 'Mount Everest')\n",
    "\n",
    "# Center the map based on an Earth Engine object or coordinates (longitude, latitude)\n",
    "# Map.centerObject(xy, 4)\n",
    "Map.setCenter(86.9250, 27.9881, 4)"
   ]
  },
  {
   "cell_type": "markdown",
   "metadata": {},
   "source": [
    "`Map.addLayer()` 是一个用于向地图添加 Earth Engine 数据层的方法。它的参数包括：\n",
    "\n",
    "- `ee_object`：要添加到地图上的 Earth Engine 对象。\n",
    "- `vis_params`：可视化参数，用于控制图层的外观。\n",
    "- `name`：图层的名称，将显示在图层控件中。\n",
    "- `shown`：布尔值，指示图层是否默认显示。\n",
    "- `opacity`：图层的不透明度，范围为 0 到 1。\n",
    "\n",
    "例如，要将 Earth Engine 数据层添加到地图上，可以使用以下代码：\n",
    "\n",
    "```python\n",
    "Map.addLayer(ee_object, vis_params, name, shown, opacity)\n",
    "```\n",
    "(1) Usage - geemap. https://geemap.org/usage/ 访问时间 2023/6/3.\n",
    "\n",
    "(2) Map.addLayer | Google Earth Engine | Google for Developers. https://developers.google.com/earth-engine/apidocs/map-addlayer 访问时间 2023/6/3.\n",
    "\n",
    "(3) gee-community/geemap - GitHub. https://github.com/gee-community/geemap 访问时间 2023/6/3."
   ]
  },
  {
   "cell_type": "markdown",
   "metadata": {},
   "source": [
    "`vis_params` 是一个可视化参数字典，用于控制图层的外观。它可以包括以下参数：\n",
    "\n",
    "- `bands`：要映射到 RGB 的三个波段名称的逗号分隔列表。\n",
    "- `min`：要映射到 0 的值。\n",
    "- `max`：要映射到 255 的值。\n",
    "- `gain`：要乘以每个像素值的值。\n",
    "- `bias`：要添加到每个 DN 的值。\n",
    "- `gamma`：伽马校正因子。\n",
    "- `palette`：CSS 样式颜色字符串列表（仅用于单波段图像）。\n",
    "- `opacity`：图层的不透明度，范围为 0 到 1。\n",
    "- `format`：可以是 \"jpg\" 或 \"png\"。\n",
    "\n",
    "例如，下面的代码演示了如何使用参数将 Landsat 8 图像样式化为假彩色复合图：\n",
    "\n",
    "```python\n",
    "// 加载图像。\n",
    "var image = ee.Image('LANDSAT/LC08/C02/T1_TOA/LC08_044034_20140318');\n",
    "\n",
    "// 定义可视化参数。\n",
    "var vizParams = {\n",
    "  bands: ['B5', 'B4', 'B3'],\n",
    "  min: 0,\n",
    "  max: 0.5,\n",
    "  gamma: [0.95, 1.1, 1]\n",
    "};\n",
    "\n",
    "// 居中地图并显示图像。\n",
    "Map.setCenter(-122.1899, 37.5010, 10); // San Francisco Bay\n",
    "Map.addLayer(image, vizParams, 'false color composite');\n",
    "```\n",
    "\n",
    "在此示例中，波段 'B5' 分配给红色，'B4' 分配给绿色，'B3' 分配给蓝色。¹\n",
    "\n",
    "(1) Image Visualization | Google Earth Engine | Google Developers. https://developers.google.com/earth-engine/guides/image_visualization 访问时间 2023/6/3.\n",
    "\n",
    "(2) ui.Map.Layer.setVisParams | Google Earth Engine - Google Developers. https://developers.google.com/earth-engine/apidocs/ui-map-layer-setvisparams 访问时间 2023/6/3.\n",
    "\n",
    "(3) Visualizing Images and Image Bands | Google Earth Engine | Google .... https://developers.google.com/earth-engine/tutorials/tutorial_api_02 访问时间 2023/6/3."
   ]
  },
  {
   "cell_type": "markdown",
   "metadata": {},
   "source": [
    "## Display Earth Engine data layers "
   ]
  },
  {
   "cell_type": "markdown",
   "metadata": {},
   "source": [
    "## 显示 Earth Engine 数据层"
   ]
  },
  {
   "cell_type": "code",
   "execution_count": 5,
   "metadata": {
    "tags": []
   },
   "outputs": [
    {
     "data": {
      "application/vnd.jupyter.widget-view+json": {
       "model_id": "a280940e3c98413e834e99214ddfae06",
       "version_major": 2,
       "version_minor": 0
      },
      "text/plain": [
       "Map(bottom=2016.0, center=[27.9881, 86.925], controls=(WidgetControl(options=['position', 'transparent_bg'], w…"
      ]
     },
     "execution_count": 5,
     "metadata": {},
     "output_type": "execute_result"
    }
   ],
   "source": [
    "Map.addLayerControl()  # This line is not needed for ipyleaflet-based Map.\n",
    "Map"
   ]
  },
  {
   "cell_type": "code",
   "execution_count": null,
   "metadata": {},
   "outputs": [],
   "source": []
  }
 ],
 "metadata": {
  "anaconda-cloud": {},
  "kernelspec": {
   "display_name": "Python 3 (ipykernel)",
   "language": "python",
   "name": "python3"
  },
  "language_info": {
   "codemirror_mode": {
    "name": "ipython",
    "version": 3
   },
   "file_extension": ".py",
   "mimetype": "text/x-python",
   "name": "python",
   "nbconvert_exporter": "python",
   "pygments_lexer": "ipython3",
   "version": "3.10.11"
  }
 },
 "nbformat": 4,
 "nbformat_minor": 4
}
