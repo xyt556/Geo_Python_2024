{
 "cells": [
  {
   "cell_type": "markdown",
   "id": "e70934c1",
   "metadata": {},
   "source": [
    "<a href=\"https://githubtocolab.com/gee-community/geemap/blob/master/examples/notebooks/18_create_landsat_timelapse.ipynb\" target=\"_parent\"><img src=\"https://colab.research.google.com/assets/colab-badge.svg\" alt=\"Open in Colab\"/></a>\n",
    "\n",
    "Uncomment the following line to install [geemap](https://geemap.org) if needed."
   ]
  },
  {
   "cell_type": "code",
   "execution_count": null,
   "id": "71dd5f5d",
   "metadata": {},
   "outputs": [],
   "source": [
    "# !pip install geemap"
   ]
  },
  {
   "cell_type": "code",
   "execution_count": 1,
   "id": "2c3534d5",
   "metadata": {
    "tags": []
   },
   "outputs": [],
   "source": [
    "import geemap\n",
    "geemap.set_proxy(port='4780')"
   ]
  },
  {
   "cell_type": "code",
   "execution_count": 2,
   "id": "3e38aa51",
   "metadata": {
    "tags": []
   },
   "outputs": [
    {
     "data": {
      "application/vnd.jupyter.widget-view+json": {
       "model_id": "0cdae56687f848279bff9d152b8b4fcb",
       "version_major": 2,
       "version_minor": 0
      },
      "text/plain": [
       "Output(layout=Layout(width='815px'))"
      ]
     },
     "metadata": {},
     "output_type": "display_data"
    }
   ],
   "source": [
    "geemap.show_youtube('OwjSJnGWKJs')"
   ]
  },
  {
   "cell_type": "markdown",
   "id": "cefc9e91",
   "metadata": {},
   "source": [
    "## Update the geemap package\n",
    "\n",
    "If you run into errors with this notebook, please uncomment the line below to update the [geemap](https://github.com/gee-community/geemap#installation) package to the latest version from GitHub. \n",
    "Restart the Kernel (Menu -> Kernel -> Restart) to take effect."
   ]
  },
  {
   "cell_type": "code",
   "execution_count": 13,
   "id": "5e29484b",
   "metadata": {
    "tags": []
   },
   "outputs": [],
   "source": [
    "# geemap.update_package()"
   ]
  },
  {
   "cell_type": "markdown",
   "id": "88491074",
   "metadata": {},
   "source": [
    "## Create an interactive map\n",
    "\n",
    "### Use the Drawing tool to draw a rectangle on the map"
   ]
  },
  {
   "cell_type": "code",
   "execution_count": 3,
   "id": "bd041215",
   "metadata": {
    "tags": []
   },
   "outputs": [
    {
     "data": {
      "application/vnd.jupyter.widget-view+json": {
       "model_id": "c2d8a43386c9416a9b43a2a84b914d64",
       "version_major": 2,
       "version_minor": 0
      },
      "text/plain": [
       "Map(center=[20, 0], controls=(WidgetControl(options=['position', 'transparent_bg'], widget=HBox(children=(Togg…"
      ]
     },
     "execution_count": 3,
     "metadata": {},
     "output_type": "execute_result"
    }
   ],
   "source": [
    "Map = geemap.Map()\n",
    "Map"
   ]
  },
  {
   "cell_type": "markdown",
   "id": "23d78c96",
   "metadata": {},
   "source": [
    "## Generate a Landsat timelapse animation"
   ]
  },
  {
   "cell_type": "code",
   "execution_count": 18,
   "id": "a58e3c91",
   "metadata": {
    "tags": []
   },
   "outputs": [],
   "source": [
    "import os\n",
    "\n",
    "out_dir = os.path.join(os.path.expanduser(\"~\"), 'Downloads')\n",
    "if not os.path.exists(out_dir):\n",
    "    os.makedirs(out_dir)"
   ]
  },
  {
   "cell_type": "markdown",
   "id": "194eb73a-efaa-4d9b-9b87-04d03c0421e5",
   "metadata": {},
   "source": [
    "`Map.add_landsat_ts_gif()`是`geemap`库中的一个方法，用于在地图上添加Landsat时间序列动画。该方法接受以下参数：\n",
    "\n",
    "- `roi`：感兴趣区域，可以是一个`ee.Geometry`对象，也可以是一个GeoJSON字符串。\n",
    "- `start_year`：开始年份。\n",
    "- `end_year`：结束年份。\n",
    "- `bands`：要显示的波段列表。\n",
    "- `vis_params`：可视化参数字典。\n",
    "- `cloud_mask`：是否应用云屏蔽。\n",
    "- `speed`：动画播放速度（以毫秒为单位）。\n",
    "\n",
    "此外，该方法还接受许多其他可选参数，用于自定义动画的外观和行为。您可以查看`geemap`库的文档以获取更多信息。"
   ]
  },
  {
   "cell_type": "code",
   "execution_count": 19,
   "id": "a39f762e-0076-4beb-a348-c7175c87b36c",
   "metadata": {
    "tags": []
   },
   "outputs": [],
   "source": [
    "# 自己绘制感兴趣区域\n",
    "roi = Map.draw_last_feature"
   ]
  },
  {
   "cell_type": "code",
   "execution_count": 7,
   "id": "b9273443-ac45-4acf-be78-faa0f88cc17c",
   "metadata": {
    "tags": []
   },
   "outputs": [],
   "source": [
    "# 加载shp文件，创建感兴趣区域\n",
    "xz_shp = r\"E:\\Geo_Data\\数据处理\\shp\\polygon.shp\"\n",
    "xz = geemap.shp_to_ee(xz_shp)\n",
    "# roi = xz.first().geometry() 转为geometry\n",
    "roi =xz\n",
    "\n",
    "Map.centerObject(xz,10)\n",
    "\n",
    "Map.addLayer(xz, {}, 'xz')\n",
    "Map"
   ]
  },
  {
   "cell_type": "code",
   "execution_count": 20,
   "id": "a67cf1a0",
   "metadata": {
    "tags": []
   },
   "outputs": [
    {
     "name": "stdout",
     "output_type": "stream",
     "text": [
      "Generating URL...\n",
      "Downloading GIF image from https://earthengine.googleapis.com/v1alpha/projects/earthengine-legacy/videoThumbnails/9bbbcc653b43fef4b641b3ac30e36b11-150c06d3035386c35920cf2796f8722b:getPixels\n",
      "Please wait ...\n",
      "The GIF image has been saved to: C:\\Users\\xyt55\\AppData\\Local\\Temp\\83860c44-27ba-4dbf-8c98-b0e93b036794.gif\n",
      "ffmpeg is not installed on your computer.\n",
      "Adding GIF to the map ...\n",
      "The timelapse has been added to the map.\n"
     ]
    },
    {
     "data": {
      "application/vnd.jupyter.widget-view+json": {
       "model_id": "29ba544ad0614839afafe344dd3fc619",
       "version_major": 2,
       "version_minor": 0
      },
      "text/plain": [
       "Map(bottom=205111.0, center=[36.591824967731625, 109.45747375488283], controls=(WidgetControl(options=['positi…"
      ]
     },
     "execution_count": 20,
     "metadata": {},
     "output_type": "execute_result"
    }
   ],
   "source": [
    "# 首先在图上绘制感兴趣区域\n",
    "label = 'Landsat timelapse animation'\n",
    "Map.add_landsat_ts_gif(\n",
    "    roi=roi,\n",
    "    label=label,\n",
    "    start_year=1985,\n",
    "    end_year=2022,\n",
    "    bands=['Red', 'Green', 'Blue'],\n",
    "    font_color='white',\n",
    "    frames_per_second=2,\n",
    "    progress_bar_color='blue',\n",
    "    # font= r\"E:\\Geo_Data\\geemap\\geemap\\fonts\\FZYTK.TTF\",\n",
    ")\n",
    "Map"
   ]
  },
  {
   "cell_type": "code",
   "execution_count": null,
   "id": "c9a2a999-803c-4594-b6ba-95b51795449c",
   "metadata": {},
   "outputs": [],
   "source": []
  },
  {
   "cell_type": "code",
   "execution_count": null,
   "id": "195b7616-f7c3-4545-b830-8da87add9c70",
   "metadata": {},
   "outputs": [],
   "source": []
  },
  {
   "cell_type": "code",
   "execution_count": null,
   "id": "d4cb231a-c9ea-44e4-9de2-34e5b4346fcf",
   "metadata": {},
   "outputs": [],
   "source": []
  },
  {
   "cell_type": "markdown",
   "id": "a0b9a1b8",
   "metadata": {},
   "source": [
    "## Create Landsat timeseries"
   ]
  },
  {
   "cell_type": "code",
   "execution_count": null,
   "id": "cdabf9a2",
   "metadata": {
    "tags": []
   },
   "outputs": [],
   "source": [
    "import os\n",
    "import ee\n",
    "import geemap"
   ]
  },
  {
   "cell_type": "code",
   "execution_count": null,
   "id": "606bf2e0",
   "metadata": {
    "tags": []
   },
   "outputs": [],
   "source": [
    "Map = geemap.Map()\n",
    "Map"
   ]
  },
  {
   "cell_type": "markdown",
   "id": "7250377d",
   "metadata": {},
   "source": [
    "You and define an roi or draw a rectangle on the map"
   ]
  },
  {
   "cell_type": "code",
   "execution_count": null,
   "id": "81731ce0",
   "metadata": {
    "tags": []
   },
   "outputs": [],
   "source": [
    "\n",
    "# roi = ee.Geometry.Polygon(\n",
    "#     [\n",
    "#         [\n",
    "#             [-115.471773, 35.892718],\n",
    "#             [-115.471773, 36.409454],\n",
    "#             [-114.271283, 36.409454],\n",
    "#             [-114.271283, 35.892718],\n",
    "#             [-115.471773, 35.892718],\n",
    "#         ]\n",
    "#     ],\n",
    "#     None,\n",
    "#     False,\n",
    "# )"
   ]
  },
  {
   "cell_type": "code",
   "execution_count": null,
   "id": "83278c4c",
   "metadata": {
    "tags": []
   },
   "outputs": [],
   "source": [
    "roi = Map.draw_last_feature"
   ]
  },
  {
   "cell_type": "markdown",
   "id": "4f59389e-f01c-4993-b18e-5601f045354b",
   "metadata": {},
   "source": [
    "`geemap.landsat_timeseries` 是 `geemap` Python 包中的一个函数，它允许您为感兴趣的区域（ROI）创建 Landsat 时间序列 ¹。您可以通过在地图上绘制矩形或定义多边形来定义 ROI ¹。该函数接受多个参数，如 `start_year`、`end_year`、`start_date` 和 `end_date` 来指定时间序列的时间范围 ¹。\n",
    "\n",
    "(1) 18 create landsat timelapse - geemap. https://geemap.org/notebooks/18_create_landsat_timelapse/.\n",
    "\n",
    "(2) 99 landsat 9 - geemap. https://geemap.org/notebooks/99_landsat_9/.\n",
    "\n",
    "(3) geemap. https://geemap.org/."
   ]
  },
  {
   "cell_type": "code",
   "execution_count": null,
   "id": "51cceb74",
   "metadata": {
    "tags": []
   },
   "outputs": [],
   "source": [
    "collection = geemap.landsat_timeseries(\n",
    "    roi=roi, start_year=1985, end_year=2022, start_date='06-10', end_date='09-20'\n",
    ")"
   ]
  },
  {
   "cell_type": "code",
   "execution_count": null,
   "id": "d69b9461",
   "metadata": {
    "tags": []
   },
   "outputs": [],
   "source": [
    "print(collection.size().getInfo())"
   ]
  },
  {
   "cell_type": "code",
   "execution_count": null,
   "id": "35a4a5cd",
   "metadata": {
    "tags": []
   },
   "outputs": [],
   "source": [
    "first_image = collection.first()\n",
    "label = '感兴趣区城市变化'\n",
    "vis = {'bands': ['NIR', 'Red', 'Green'], 'min': 0, 'max': 4000, 'gamma': [1, 1, 1]}\n",
    "\n",
    "Map.addLayer(first_image, vis, 'First image')\n",
    "Map"
   ]
  },
  {
   "cell_type": "markdown",
   "id": "50096d33",
   "metadata": {},
   "source": [
    "## Download ImageCollection as a GIF"
   ]
  },
  {
   "cell_type": "code",
   "execution_count": null,
   "id": "30740497",
   "metadata": {
    "tags": []
   },
   "outputs": [],
   "source": [
    "# Define arguments for animation function parameters.\n",
    "video_args = {\n",
    "    'dimensions': 768,\n",
    "    'region': roi,\n",
    "    'framesPerSecond': 10,\n",
    "    'bands': ['NIR', 'Red', 'Green'],\n",
    "    'min': 0,\n",
    "    'max': 4000,\n",
    "    'gamma': [1, 1, 1],\n",
    "}"
   ]
  },
  {
   "cell_type": "code",
   "execution_count": null,
   "id": "ed3b9efb",
   "metadata": {
    "tags": []
   },
   "outputs": [],
   "source": [
    "work_dir = os.path.join(os.path.expanduser(\"~\"), 'Downloads')\n",
    "if not os.path.exists(work_dir):\n",
    "    os.makedirs(work_dir)\n",
    "out_gif = os.path.join(work_dir, \"landsat_ts.gif\")"
   ]
  },
  {
   "cell_type": "code",
   "execution_count": null,
   "id": "227286ba",
   "metadata": {
    "tags": []
   },
   "outputs": [],
   "source": [
    "geemap.download_ee_video(collection, video_args, out_gif)"
   ]
  },
  {
   "cell_type": "markdown",
   "id": "ba103bbf",
   "metadata": {},
   "source": [
    "## Add animated text to GIF"
   ]
  },
  {
   "cell_type": "code",
   "execution_count": null,
   "id": "5a2a6107",
   "metadata": {
    "tags": []
   },
   "outputs": [],
   "source": [
    "geemap.show_image(out_gif)"
   ]
  },
  {
   "cell_type": "code",
   "execution_count": null,
   "id": "a263b722",
   "metadata": {
    "tags": []
   },
   "outputs": [],
   "source": [
    "texted_gif = os.path.join(work_dir, \"landsat_ts_text.gif\")\n",
    "geemap.add_text_to_gif(\n",
    "    out_gif,\n",
    "    texted_gif,\n",
    "    xy=('3%', '5%'),\n",
    "    text_sequence=1985,\n",
    "    font_size=30,\n",
    "    font_color='#ffffff',\n",
    "    add_progress_bar=False,\n",
    ")"
   ]
  },
  {
   "cell_type": "code",
   "execution_count": null,
   "id": "ecc079e3",
   "metadata": {
    "tags": []
   },
   "outputs": [],
   "source": [
    "label = 'Urban Growth in Las Vegas'\n",
    "geemap.add_text_to_gif(\n",
    "    texted_gif,\n",
    "    texted_gif,\n",
    "    xy=('2%', '88%'),\n",
    "    text_sequence=label,\n",
    "    font_size=30,\n",
    "    font_color='#ffffff',\n",
    "    progress_bar_color='cyan',\n",
    ")"
   ]
  },
  {
   "cell_type": "code",
   "execution_count": null,
   "id": "d276c984",
   "metadata": {
    "tags": []
   },
   "outputs": [],
   "source": [
    "geemap.show_image(texted_gif)"
   ]
  },
  {
   "cell_type": "code",
   "execution_count": null,
   "id": "1a73cc7d-a273-4401-93bc-924625b4bf03",
   "metadata": {},
   "outputs": [],
   "source": []
  },
  {
   "cell_type": "code",
   "execution_count": null,
   "id": "ecf6bf92-7ae6-4f32-acba-33a94a3bbbe6",
   "metadata": {},
   "outputs": [],
   "source": []
  },
  {
   "cell_type": "code",
   "execution_count": null,
   "id": "d65ea016-32ea-4145-868c-5bb2474f8271",
   "metadata": {},
   "outputs": [],
   "source": []
  },
  {
   "cell_type": "code",
   "execution_count": null,
   "id": "31d45c62-e2d1-40ff-b98d-585ff8ad7b80",
   "metadata": {},
   "outputs": [],
   "source": []
  },
  {
   "cell_type": "code",
   "execution_count": 6,
   "id": "2e9f4f37-907f-415b-a5b8-be60a52b862d",
   "metadata": {
    "tags": []
   },
   "outputs": [],
   "source": [
    "import leafmap\n"
   ]
  },
  {
   "cell_type": "code",
   "execution_count": 8,
   "id": "e06ea98f-70b8-459e-89c1-0617b6479130",
   "metadata": {
    "tags": []
   },
   "outputs": [
    {
     "data": {
      "application/vnd.jupyter.widget-view+json": {
       "model_id": "97911114ee7e4034983443cf1e60536d",
       "version_major": 2,
       "version_minor": 0
      },
      "text/plain": [
       "Map(center=[20, 0], controls=(ZoomControl(options=['position', 'zoom_in_text', 'zoom_in_title', 'zoom_out_text…"
      ]
     },
     "execution_count": 8,
     "metadata": {},
     "output_type": "execute_result"
    }
   ],
   "source": [
    "m = leafmap.Map()\n",
    "m"
   ]
  },
  {
   "cell_type": "code",
   "execution_count": null,
   "id": "3cbdc5db-6017-4e07-b931-3b0b90ff5d6d",
   "metadata": {},
   "outputs": [],
   "source": []
  }
 ],
 "metadata": {
  "kernelspec": {
   "display_name": "Python 3 (ipykernel)",
   "language": "python",
   "name": "python3"
  },
  "language_info": {
   "codemirror_mode": {
    "name": "ipython",
    "version": 3
   },
   "file_extension": ".py",
   "mimetype": "text/x-python",
   "name": "python",
   "nbconvert_exporter": "python",
   "pygments_lexer": "ipython3",
   "version": "3.10.11"
  }
 },
 "nbformat": 4,
 "nbformat_minor": 5
}
