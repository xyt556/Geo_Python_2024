{
 "cells": [
  {
   "cell_type": "markdown",
   "id": "50fc899a",
   "metadata": {},
   "source": [
    "[![image](https://colab.research.google.com/assets/colab-badge.svg)](https://githubtocolab.com/gee-community/geemap/blob/master/examples/notebooks/100_numpy_to_cog.ipynb)\n",
    "\n",
    "Create a fresh conda env to run this example if needed.\n",
    "\n",
    "```\n",
    "conda create -n cog python=3.9\n",
    "conda install mamba -c conda-forge\n",
    "mamba install geemap rio-cogeo -c conda-forge\n",
    "```"
   ]
  },
  {
   "cell_type": "code",
   "execution_count": null,
   "id": "821a107b",
   "metadata": {},
   "outputs": [],
   "source": [
    "# !pip install geemap rio-cogeo"
   ]
  },
  {
   "cell_type": "code",
   "execution_count": 1,
   "id": "aa46b467",
   "metadata": {},
   "outputs": [],
   "source": [
    "import geemap\n",
    "geemap.set_proxy(port='4780')"
   ]
  },
  {
   "cell_type": "code",
   "execution_count": 2,
   "id": "e1756fd3",
   "metadata": {},
   "outputs": [],
   "source": [
    "url = 'https://github.com/giswqs/leafmap/raw/master/examples/data/cog.tif'\n",
    "in_cog = 'cog.tif'\n",
    "out_cog = \"ndvi.tif\""
   ]
  },
  {
   "cell_type": "markdown",
   "id": "398a1698",
   "metadata": {},
   "source": [
    "Download a sample dataset."
   ]
  },
  {
   "cell_type": "code",
   "execution_count": 3,
   "id": "641b7c34",
   "metadata": {},
   "outputs": [
    {
     "name": "stdout",
     "output_type": "stream",
     "text": [
      "Downloading https://github.com/giswqs/leafmap/raw/master/examples/data/cog.tif ...\n",
      "Data downloaded to: E:\\Geo_Data\\geemap\\examples\\notebooks\\cog.tif\n"
     ]
    }
   ],
   "source": [
    "geemap.download_from_url(url, in_cog)"
   ]
  },
  {
   "cell_type": "markdown",
   "id": "19cecf66",
   "metadata": {},
   "source": [
    "Convert image to numpy array."
   ]
  },
  {
   "cell_type": "code",
   "execution_count": 4,
   "id": "9f7ce41b",
   "metadata": {},
   "outputs": [],
   "source": [
    "arr = geemap.image_to_numpy(in_cog)"
   ]
  },
  {
   "cell_type": "code",
   "execution_count": 5,
   "id": "07eede24",
   "metadata": {},
   "outputs": [
    {
     "data": {
      "text/plain": [
       "(4, 206, 343)"
      ]
     },
     "execution_count": 5,
     "metadata": {},
     "output_type": "execute_result"
    }
   ],
   "source": [
    "arr.shape"
   ]
  },
  {
   "cell_type": "markdown",
   "id": "cef70331",
   "metadata": {},
   "source": [
    "Computer NDVI."
   ]
  },
  {
   "cell_type": "code",
   "execution_count": 6,
   "id": "3792975b",
   "metadata": {},
   "outputs": [],
   "source": [
    "ndvi = (arr[3] - arr[0]) / (arr[3] + arr[0])"
   ]
  },
  {
   "cell_type": "code",
   "execution_count": 7,
   "id": "d6cfecf6",
   "metadata": {},
   "outputs": [
    {
     "data": {
      "text/plain": [
       "(206, 343)"
      ]
     },
     "execution_count": 7,
     "metadata": {},
     "output_type": "execute_result"
    }
   ],
   "source": [
    "ndvi.shape"
   ]
  },
  {
   "cell_type": "markdown",
   "id": "aa9a0b86",
   "metadata": {},
   "source": [
    "Convert numpy array to COG."
   ]
  },
  {
   "cell_type": "markdown",
   "id": "ab7bd46b-5e2c-42c7-be7b-efdbfddefaed",
   "metadata": {},
   "source": [
    "`rio-cogeo` 是一个用于创建和验证 Cloud Optimized GeoTIFF (COG) 的 Rasterio 插件。它旨在简化 COG 的创建和验证过程，同时遵守 COG 规范并强制执行一些特性，如内部预览和内部切片。\n",
    "\n",
    "要安装 `rio-cogeo`，可以使用 `pip` 命令：\n",
    "\n",
    "```\n",
    "$ pip install -U pip\n",
    "$ pip install rio-cogeo\n",
    "```\n",
    "\n",
    "您也可以从源代码安装：\n",
    "\n",
    "```\n",
    "$ pip install -U pip\n",
    "$ pip install git+https://github.com/cogeotiff/rio-cogeo.git\n",
    "```\n",
    "\n",
    "建议使用 GDAL > 2.3.2 版本。早期版本可能无法正确创建 COG。¹\n",
    "\n",
    "(1) rio-cogeo · PyPI. https://pypi.org/project/rio-cogeo/ 访问时间 2023/6/3.\n",
    "\n",
    "(2) GitHub - cogeotiff/rio-cogeo: Cloud Optimized GeoTIFF creation and .... https://github.com/cogeotiff/rio-cogeo 访问时间 2023/6/3.\n",
    "\n",
    "(3) rio-cogeo | Cloud Optimized GeoTIFF creation and validation plugin .... https://kandi.openweaver.com/python/cogeotiff/rio-cogeo 访问时间 2023/6/3.\n",
    "\n",
    "(4) rio-cogeo 3.3.0 on PyPI - Libraries.io. https://libraries.io/pypi/rio-cogeo 访问时间 2023/6/3."
   ]
  },
  {
   "cell_type": "code",
   "execution_count": 9,
   "id": "04611780",
   "metadata": {},
   "outputs": [],
   "source": [
    "geemap.numpy_to_cog(ndvi, out_cog, profile=in_cog)"
   ]
  },
  {
   "cell_type": "code",
   "execution_count": 10,
   "id": "753037c3",
   "metadata": {},
   "outputs": [
    {
     "data": {
      "application/vnd.jupyter.widget-view+json": {
       "model_id": "3c7c1741dfea401d9eb1ef417582409c",
       "version_major": 2,
       "version_minor": 0
      },
      "text/plain": [
       "Map(center=[20, 0], controls=(WidgetControl(options=['position', 'transparent_bg'], widget=HBox(children=(Togg…"
      ]
     },
     "execution_count": 10,
     "metadata": {},
     "output_type": "execute_result"
    }
   ],
   "source": [
    "m = geemap.Map()\n",
    "m.add_raster(in_cog, band=[4, 1, 2], layer_name=\"Color infrared\")\n",
    "m.add_raster(out_cog, palette=\"Greens\", layer_name=\"NDVI\")\n",
    "m"
   ]
  },
  {
   "cell_type": "markdown",
   "id": "c7594b9c",
   "metadata": {},
   "source": [
    "![](https://i.imgur.com/OVaTyP3.gif)"
   ]
  }
 ],
 "metadata": {
  "kernelspec": {
   "display_name": "Python 3 (ipykernel)",
   "language": "python",
   "name": "python3"
  },
  "language_info": {
   "codemirror_mode": {
    "name": "ipython",
    "version": 3
   },
   "file_extension": ".py",
   "mimetype": "text/x-python",
   "name": "python",
   "nbconvert_exporter": "python",
   "pygments_lexer": "ipython3",
   "version": "3.10.11"
  }
 },
 "nbformat": 4,
 "nbformat_minor": 5
}
