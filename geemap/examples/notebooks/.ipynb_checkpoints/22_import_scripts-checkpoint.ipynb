{
 "cells": [
  {
   "cell_type": "markdown",
   "id": "9ab122f9",
   "metadata": {},
   "source": [
    "<a href=\"https://githubtocolab.com/gee-community/geemap/blob/master/examples/notebooks/22_import_scripts.ipynb\" target=\"_parent\"><img src=\"https://colab.research.google.com/assets/colab-badge.svg\" alt=\"Open in Colab\"/></a>\n",
    "\n",
    "Uncomment the following line to install [geemap](https://geemap.org) if needed."
   ]
  },
  {
   "cell_type": "code",
   "execution_count": null,
   "id": "c002cc5d",
   "metadata": {},
   "outputs": [],
   "source": [
    "# !pip install geemap"
   ]
  },
  {
   "cell_type": "code",
   "execution_count": 1,
   "id": "3832f3f4",
   "metadata": {},
   "outputs": [],
   "source": [
    "import ee\n",
    "import geemap\n",
    "geemap.set_proxy(port='10792')"
   ]
  },
  {
   "cell_type": "code",
   "execution_count": 2,
   "id": "86856520",
   "metadata": {},
   "outputs": [
    {
     "data": {
      "application/vnd.jupyter.widget-view+json": {
       "model_id": "81a61ec0fb11461cafeef8ad2820450d",
       "version_major": 2,
       "version_minor": 0
      },
      "text/plain": [
       "Map(center=[20, 0], controls=(WidgetControl(options=['position', 'transparent_bg'], widget=HBox(children=(Togg…"
      ]
     },
     "execution_count": 2,
     "metadata": {},
     "output_type": "execute_result"
    }
   ],
   "source": [
    "Map = geemap.Map()\n",
    "Map"
   ]
  },
  {
   "cell_type": "code",
   "execution_count": 3,
   "id": "e655ef44",
   "metadata": {},
   "outputs": [
    {
     "data": {
      "application/vnd.jupyter.widget-view+json": {
       "model_id": "1ab6f028ac384f4fb5d57eba40965fbf",
       "version_major": 2,
       "version_minor": 0
      },
      "text/plain": [
       "HBox(children=(VBox(), VBox()))"
      ]
     },
     "metadata": {},
     "output_type": "display_data"
    }
   ],
   "source": [
    "geemap.ee_search()"
   ]
  },
  {
   "cell_type": "code",
   "execution_count": 4,
   "id": "d99a7173-d118-40c7-a903-8e306495bd16",
   "metadata": {},
   "outputs": [
    {
     "data": {
      "application/vnd.jupyter.widget-view+json": {
       "model_id": "b5f1a0c619cc4c9b8a4ca50e181ef908",
       "version_major": 2,
       "version_minor": 0
      },
      "text/plain": [
       "Map(center=[37.562, -122.3], controls=(WidgetControl(options=['position', 'transparent_bg'], widget=HBox(child…"
      ]
     },
     "execution_count": 4,
     "metadata": {},
     "output_type": "execute_result"
    }
   ],
   "source": [
    "import ee \n",
    "import geemap\n",
    "\n",
    "# Create a map centered at (lat, lon).\n",
    "Map = geemap.Map(center=[40, -100], zoom=4)\n",
    "\n",
    "# Define an Array of Tasseled Cap coefficients.\n",
    "coefficients = ee.Array([\n",
    "  [0.3037, 0.2793, 0.4743, 0.5585, 0.5082, 0.1863],\n",
    "  [-0.2848, -0.2435, -0.5436, 0.7243, 0.0840, -0.1800],\n",
    "  [0.1509, 0.1973, 0.3279, 0.3406, -0.7112, -0.4572],\n",
    "  [-0.8242, 0.0849, 0.4392, -0.0580, 0.2012, -0.2768],\n",
    "  [-0.3280, 0.0549, 0.1075, 0.1855, -0.4357, 0.8085],\n",
    "  [0.1084, -0.9022, 0.4120, 0.0573, -0.0251, 0.0238]\n",
    "])\n",
    "\n",
    "# Load a Landsat 5 image, select the bands of interest.\n",
    "image = ee.Image('LANDSAT/LT05/C01/T1_TOA/LT05_044034_20081011') \\\n",
    "  .select(['B1', 'B2', 'B3', 'B4', 'B5', 'B7'])\n",
    "\n",
    "# Make an Array Image, with a 1-D Array per pixel.\n",
    "arrayImage1D = image.toArray()\n",
    "\n",
    "# Make an Array Image with a 2-D Array per pixel, 6x1.\n",
    "arrayImage2D = arrayImage1D.toArray(1)\n",
    "\n",
    "# Do a matrix multiplication: 6x6 times 6x1.\n",
    "componentsImage = ee.Image(coefficients) \\\n",
    "  .matrixMultiply(arrayImage2D) \\\n",
    "  .arrayProject([0]) \\\n",
    "  .arrayFlatten(\n",
    "    [['brightness', 'greenness', 'wetness', 'fourth', 'fifth', 'sixth']])\n",
    "\n",
    "# Display the first three bands of the result and the input imagery.\n",
    "vizParams = {\n",
    "  'bands': ['brightness', 'greenness', 'wetness'],\n",
    "  'min': -0.1, 'max': [0.5, 0.1, 0.1]\n",
    "}\n",
    "Map.setCenter(-122.3, 37.562, 10)\n",
    "Map.addLayer(image, {'bands': ['B4', 'B3', 'B2'], 'min': 0, 'max': 0.5}, 'image')\n",
    "Map.addLayer(componentsImage, vizParams, 'components')\n",
    "\n",
    "\n",
    "# Display the map.\n",
    "Map\n"
   ]
  },
  {
   "cell_type": "code",
   "execution_count": null,
   "id": "a1f412aa-d9f4-47e1-b97c-bb3e08c830aa",
   "metadata": {},
   "outputs": [],
   "source": []
  }
 ],
 "metadata": {
  "kernelspec": {
   "display_name": "Python 3 (ipykernel)",
   "language": "python",
   "name": "python3"
  },
  "language_info": {
   "codemirror_mode": {
    "name": "ipython",
    "version": 3
   },
   "file_extension": ".py",
   "mimetype": "text/x-python",
   "name": "python",
   "nbconvert_exporter": "python",
   "pygments_lexer": "ipython3",
   "version": "3.10.11"
  }
 },
 "nbformat": 4,
 "nbformat_minor": 5
}
