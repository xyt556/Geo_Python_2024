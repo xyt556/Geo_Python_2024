{
 "cells": [
  {
   "cell_type": "markdown",
   "id": "81e202d6",
   "metadata": {},
   "source": [
    "<a href=\"https://githubtocolab.com/gee-community/geemap/blob/master/examples/notebooks/07_geojson.ipynb\" target=\"_parent\"><img src=\"https://colab.research.google.com/assets/colab-badge.svg\" alt=\"Open in Colab\"/></a>\n",
    "\n",
    "Uncomment the following line to install [geemap](https://geemap.org) if needed."
   ]
  },
  {
   "cell_type": "code",
   "execution_count": 2,
   "id": "0b12214b",
   "metadata": {},
   "outputs": [],
   "source": [
    "# !pip install geemap"
   ]
  },
  {
   "cell_type": "code",
   "execution_count": 1,
   "id": "6811ca41",
   "metadata": {
    "ExecuteTime": {
     "end_time": "2023-04-26T10:02:38.150615Z",
     "start_time": "2023-04-26T10:02:36.829676Z"
    },
    "tags": []
   },
   "outputs": [],
   "source": [
    "import geemap\n",
    "import json\n",
    "import os\n",
    "import requests\n",
    "from geemap import geojson_to_ee, ee_to_geojson\n",
    "from ipyleaflet import GeoJSON\n",
    "geemap.set_proxy(port='4780')"
   ]
  },
  {
   "cell_type": "code",
   "execution_count": 2,
   "id": "a124a62a",
   "metadata": {
    "tags": []
   },
   "outputs": [
    {
     "data": {
      "application/vnd.jupyter.widget-view+json": {
       "model_id": "fafc9ebf297746fc8c8260b8b05b055c",
       "version_major": 2,
       "version_minor": 0
      },
      "text/plain": [
       "Output(layout=Layout(width='815px'))"
      ]
     },
     "metadata": {},
     "output_type": "display_data"
    }
   ],
   "source": [
    "geemap.show_youtube('DbK_SRgrCHw')"
   ]
  },
  {
   "cell_type": "code",
   "execution_count": 3,
   "id": "82383e0e",
   "metadata": {
    "tags": []
   },
   "outputs": [
    {
     "data": {
      "application/vnd.jupyter.widget-view+json": {
       "model_id": "8fe3874e7b7347a1977149f2e2d24513",
       "version_major": 2,
       "version_minor": 0
      },
      "text/plain": [
       "Map(center=[20, 0], controls=(WidgetControl(options=['position', 'transparent_bg'], widget=HBox(children=(Togg…"
      ]
     },
     "execution_count": 3,
     "metadata": {},
     "output_type": "execute_result"
    }
   ],
   "source": [
    "Map = geemap.Map()\n",
    "Map"
   ]
  },
  {
   "cell_type": "code",
   "execution_count": 4,
   "id": "6e30919a",
   "metadata": {
    "tags": []
   },
   "outputs": [],
   "source": [
    "file_path = os.path.abspath('../data/us_states.json')  #该路径指向当前工作目录的上一级目录下的 data 文件夹中的 us_states.json 文件。\n",
    "\n",
    "if not os.path.exists(file_path):\n",
    "    url = 'https://github.com/gee-community/geemap/raw/master/examples/data/us_states.json'\n",
    "    r = requests.get(url)\n",
    "    with open(file_path, 'w') as f:\n",
    "        f.write(r.content.decode(\"utf-8\"))\n",
    "\n",
    "with open(file_path) as f:\n",
    "    json_data = json.load(f)"
   ]
  },
  {
   "cell_type": "code",
   "execution_count": 9,
   "id": "7620b171",
   "metadata": {
    "tags": []
   },
   "outputs": [
    {
     "data": {
      "application/vnd.jupyter.widget-view+json": {
       "model_id": "8fe3874e7b7347a1977149f2e2d24513",
       "version_major": 2,
       "version_minor": 0
      },
      "text/plain": [
       "Map(bottom=3482.0, center=[37.23032838760387, -91.91162109375], controls=(WidgetControl(options=['position', '…"
      ]
     },
     "execution_count": 9,
     "metadata": {},
     "output_type": "execute_result"
    }
   ],
   "source": [
    "json_layer = GeoJSON(\n",
    "    data=json_data,\n",
    "    name='US States JSON',\n",
    "    hover_style={'fillColor': 'green', 'fillOpacity': 0.5},\n",
    ")\n",
    "Map.add_layer(json_layer)\n",
    "Map"
   ]
  },
  {
   "cell_type": "code",
   "execution_count": 10,
   "id": "dbb7c5ad",
   "metadata": {
    "tags": []
   },
   "outputs": [],
   "source": [
    "ee_data = geojson_to_ee(json_data)\n",
    "Map.addLayer(ee_data, {}, \"US States EE\")"
   ]
  },
  {
   "cell_type": "code",
   "execution_count": 11,
   "id": "cf870cc2",
   "metadata": {
    "tags": []
   },
   "outputs": [],
   "source": [
    "json_data_2 = ee_to_geojson(ee_data)\n",
    "json_layer_2 = GeoJSON(\n",
    "    data=json_data_2,\n",
    "    name='US States EE JSON',\n",
    "    hover_style={'fillColor': 'red', 'fillOpacity': 0.5},\n",
    ")\n",
    "Map.add_layer(json_layer_2)"
   ]
  },
  {
   "cell_type": "code",
   "execution_count": 12,
   "id": "322adb83",
   "metadata": {
    "tags": []
   },
   "outputs": [],
   "source": [
    "file_path = os.path.abspath('../data/countries.geojson')\n",
    "\n",
    "if not os.path.exists(file_path):\n",
    "    url = 'https://github.com/gee-community/geemap/raw/master/examples/data/countries.geojson'\n",
    "    r = requests.get(url)\n",
    "    with open(file_path, 'w') as f:\n",
    "        f.write(r.content.decode(\"utf-8\"))\n",
    "\n",
    "with open(file_path) as f:\n",
    "    json_data = json.load(f)"
   ]
  },
  {
   "cell_type": "code",
   "execution_count": 9,
   "id": "01a5f924",
   "metadata": {
    "tags": []
   },
   "outputs": [],
   "source": [
    "json_layer = GeoJSON(\n",
    "    data=json_data,\n",
    "    name='Countries',\n",
    "    hover_style={'fillColor': 'red', 'fillOpacity': 0.5},\n",
    ")\n",
    "Map.add_layer(json_layer)"
   ]
  },
  {
   "cell_type": "code",
   "execution_count": 15,
   "id": "94f56d65",
   "metadata": {
    "tags": []
   },
   "outputs": [
    {
     "data": {
      "application/vnd.jupyter.widget-view+json": {
       "model_id": "8fe3874e7b7347a1977149f2e2d24513",
       "version_major": 2,
       "version_minor": 0
      },
      "text/plain": [
       "Map(bottom=619.0, center=[55.973798205076605, -92.98828125], controls=(WidgetControl(options=['position', 'tra…"
      ]
     },
     "execution_count": 15,
     "metadata": {},
     "output_type": "execute_result"
    }
   ],
   "source": [
    "from ipywidgets import Text, HTML\n",
    "from ipyleaflet import WidgetControl, GeoJSON\n",
    "\n",
    "html1 = HTML(\n",
    "    '''\n",
    "    <h4>Country</h4>\n",
    "    Hover over a country\n",
    "'''\n",
    ")\n",
    "html1.layout.margin = '0px 20px 20px 20px'\n",
    "control1 = WidgetControl(widget=html1, position='bottomright')\n",
    "Map.add_control(control1)\n",
    "\n",
    "\n",
    "def update_html(feature, **kwargs):\n",
    "    html1.value = '''\n",
    "        <h4>Country code: <b>{}</b></h4>\n",
    "        Country name: {}\n",
    "    '''.format(\n",
    "        feature['properties']['ISO_A2'], feature['properties']['NAME']\n",
    "    )\n",
    "\n",
    "\n",
    "json_layer.on_hover(update_html)\n",
    "Map"
   ]
  },
  {
   "cell_type": "markdown",
   "id": "3ae6c597-2de2-4f6f-9693-9918a0fc41f9",
   "metadata": {},
   "source": [
    "这段代码使用 `ipywidgets` 和 `ipyleaflet` 库创建了一个交互式地图，它可以在用户将鼠标悬停在国家上时显示该国家的信息。\n",
    "\n",
    "首先，我们创建了一个 `HTML` 小部件，其中包含一些初始文本。然后，我们使用 `WidgetControl` 将该小部件添加到地图的右下角。\n",
    "\n",
    "接下来，我们定义了一个名为 `update_html` 的函数，它接受一个要素作为参数。该函数使用要素的属性更新 `HTML` 小部件的值，以显示国家代码和名称。\n",
    "\n",
    "最后，我们使用 `on_hover` 方法将 `update_html` 函数绑定到 `json_layer` 上。这样，当用户将鼠标悬停在地图上的国家上时，`update_html` 函数将被调用，并更新 `HTML` 小部件的值以显示该国家的信息。"
   ]
  },
  {
   "cell_type": "code",
   "execution_count": null,
   "id": "879e44be-5cb7-457c-aa13-778e2acde899",
   "metadata": {},
   "outputs": [],
   "source": []
  }
 ],
 "metadata": {
  "kernelspec": {
   "display_name": "Python 3 (ipykernel)",
   "language": "python",
   "name": "python3"
  },
  "language_info": {
   "codemirror_mode": {
    "name": "ipython",
    "version": 3
   },
   "file_extension": ".py",
   "mimetype": "text/x-python",
   "name": "python",
   "nbconvert_exporter": "python",
   "pygments_lexer": "ipython3",
   "version": "3.10.11"
  }
 },
 "nbformat": 4,
 "nbformat_minor": 5
}
