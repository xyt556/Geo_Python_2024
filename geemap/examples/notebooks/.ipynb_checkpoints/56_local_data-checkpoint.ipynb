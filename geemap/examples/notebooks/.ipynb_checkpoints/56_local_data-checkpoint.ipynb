{
 "cells": [
  {
   "cell_type": "markdown",
   "id": "c3c4f5b0",
   "metadata": {},
   "source": [
    "<a href=\"https://githubtocolab.com/gee-community/geemap/blob/master/examples/notebooks/56_local_data.ipynb\" target=\"_parent\"><img src=\"https://colab.research.google.com/assets/colab-badge.svg\" alt=\"Open in Colab\"/></a>\n",
    "\n",
    "Uncomment the following line to install [geemap](https://geemap.org) if needed."
   ]
  },
  {
   "cell_type": "markdown",
   "id": "2193f6c8",
   "metadata": {},
   "source": [
    "# How to add local vector and raster data to the map with a few clicks"
   ]
  },
  {
   "cell_type": "code",
   "execution_count": null,
   "id": "f1c240c6",
   "metadata": {},
   "outputs": [],
   "source": [
    "# !pip install geemap"
   ]
  },
  {
   "cell_type": "code",
   "execution_count": null,
   "id": "483d90b1",
   "metadata": {
    "tags": []
   },
   "outputs": [],
   "source": [
    "import os\n",
    "import geemap\n",
    "geemap.set_proxy(port='10792')"
   ]
  },
  {
   "cell_type": "code",
   "execution_count": null,
   "id": "9dc0103d",
   "metadata": {},
   "outputs": [],
   "source": [
    "# geemap.update_package()"
   ]
  },
  {
   "cell_type": "markdown",
   "id": "6f1cea71",
   "metadata": {},
   "source": [
    "## Create an interactive map"
   ]
  },
  {
   "cell_type": "code",
   "execution_count": null,
   "id": "38b8c53c",
   "metadata": {},
   "outputs": [],
   "source": [
    "Map = geemap.Map()\n",
    "Map"
   ]
  },
  {
   "cell_type": "markdown",
   "id": "22a6af9c",
   "metadata": {},
   "source": [
    "## Download sample datasets\n",
    "\n",
    "Note that geemap only supports vector data using WGS84 (EPSG:4326)."
   ]
  },
  {
   "cell_type": "code",
   "execution_count": null,
   "id": "25117d00",
   "metadata": {},
   "outputs": [],
   "source": [
    "out_dir = os.getcwd()"
   ]
  },
  {
   "cell_type": "code",
   "execution_count": null,
   "id": "8d38663a",
   "metadata": {},
   "outputs": [],
   "source": [
    "countries_url = \"https://github.com/giswqs/data/raw/main/world/countries.zip\"\n",
    "us_states_url = (\n",
    "    \"https://raw.githubusercontent.com/giswqs/data/main/us/us_states.geojson\"\n",
    ")\n",
    "dem_url = (\n",
    "    'https://drive.google.com/file/d/1vRkAWQYsLWCi6vcTMk8vLxoXMFbdMFn8/view?usp=sharing'\n",
    ")\n",
    "landsat_url = (\n",
    "    'https://drive.google.com/file/d/1EV38RjNxdwEozjc9m0FcO3LFgAoAX1Uw/view?usp=sharing'\n",
    ")"
   ]
  },
  {
   "cell_type": "code",
   "execution_count": null,
   "id": "8e0da5b0",
   "metadata": {},
   "outputs": [],
   "source": [
    "geemap.download_from_url(countries_url)"
   ]
  },
  {
   "cell_type": "code",
   "execution_count": null,
   "id": "f42a75e8",
   "metadata": {},
   "outputs": [],
   "source": [
    "geemap.download_from_url(us_states_url)"
   ]
  },
  {
   "cell_type": "code",
   "execution_count": null,
   "id": "65807b20",
   "metadata": {},
   "outputs": [],
   "source": [
    "geemap.download_from_gdrive(dem_url, 'dem.tif', unzip=False)"
   ]
  },
  {
   "cell_type": "code",
   "execution_count": null,
   "id": "6bf72080",
   "metadata": {},
   "outputs": [],
   "source": [
    "geemap.download_from_gdrive(landsat_url, 'landsat.tif', unzip=False)"
   ]
  },
  {
   "cell_type": "markdown",
   "id": "a2265a34",
   "metadata": {},
   "source": [
    "## Add data to the map using the toolbar"
   ]
  },
  {
   "cell_type": "code",
   "execution_count": null,
   "id": "605988e6",
   "metadata": {},
   "outputs": [],
   "source": [
    "Map"
   ]
  }
 ],
 "metadata": {
  "kernelspec": {
   "display_name": "Python 3 (ipykernel)",
   "language": "python",
   "name": "python3"
  },
  "language_info": {
   "codemirror_mode": {
    "name": "ipython",
    "version": 3
   },
   "file_extension": ".py",
   "mimetype": "text/x-python",
   "name": "python",
   "nbconvert_exporter": "python",
   "pygments_lexer": "ipython3",
   "version": "3.10.11"
  }
 },
 "nbformat": 4,
 "nbformat_minor": 5
}
