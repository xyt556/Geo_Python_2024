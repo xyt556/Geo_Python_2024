{
 "cells": [
  {
   "cell_type": "code",
   "execution_count": null,
   "metadata": {},
   "outputs": [],
   "source": [
    "import ee\n",
    "import geemap.foliumap as geemap"
   ]
  },
  {
   "cell_type": "code",
   "execution_count": null,
   "metadata": {},
   "outputs": [],
   "source": [
    "Map = geemap.Map()\n",
    "Map.add_basemap(\"HYBRID\")\n",
    "dataset = ee.ImageCollection(\"CIESIN/GPWv411/GPW_Population_Density\").first()\n",
    "raster = dataset.select('population_density')\n",
    "raster_vis = {\n",
    "    \"max\": 1000.0,\n",
    "    \"palette\": [\"ffffe7\", \"FFc869\", \"ffac1d\", \"e17735\", \"f2552c\", \"9f0c21\"],\n",
    "    \"min\": 200.0,\n",
    "}\n",
    "Map.setCenter(79.1, 19.81, 3)\n",
    "Map.addLayer(raster, raster_vis, 'population_density')\n",
    "Map.add_colorbar(\n",
    "    colors=raster_vis[\"palette\"], vmin=raster_vis[\"min\"], vmax=raster_vis[\"max\"]\n",
    ")\n",
    "Map"
   ]
  },
  {
   "cell_type": "code",
   "execution_count": null,
   "metadata": {},
   "outputs": [],
   "source": [
    "Map.publish(name=\"World Population Density\")"
   ]
  }
 ],
 "metadata": {
  "kernelspec": {
   "display_name": "Python 3",
   "language": "python",
   "name": "python3"
  }
 },
 "nbformat": 4,
 "nbformat_minor": 5
}
