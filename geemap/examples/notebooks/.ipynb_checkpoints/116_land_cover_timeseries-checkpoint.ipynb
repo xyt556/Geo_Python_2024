{
 "cells": [
  {
   "cell_type": "markdown",
   "id": "4b200fe8",
   "metadata": {},
   "source": [
    "<a href=\"https://githubtocolab.com/gee-community/geemap/blob/master/examples/notebooks/116_land_cover_timeseries.ipynb\" target=\"_parent\"><img src=\"https://colab.research.google.com/assets/colab-badge.svg\" alt=\"Open in Colab\"/></a>"
   ]
  },
  {
   "cell_type": "code",
   "execution_count": null,
   "id": "1e6b892f",
   "metadata": {},
   "outputs": [],
   "source": [
    "# !pip install geemap"
   ]
  },
  {
   "cell_type": "code",
   "execution_count": 20,
   "id": "2ba7971a",
   "metadata": {
    "tags": []
   },
   "outputs": [],
   "source": [
    "import ee\n",
    "import geemap\n",
    "geemap.set_proxy(port='10792')"
   ]
  },
  {
   "cell_type": "code",
   "execution_count": 24,
   "id": "d143141b",
   "metadata": {
    "tags": []
   },
   "outputs": [
    {
     "data": {
      "application/vnd.jupyter.widget-view+json": {
       "model_id": "cff44394b49445219a700d74bb66fb5d",
       "version_major": 2,
       "version_minor": 0
      },
      "text/plain": [
       "Map(center=[20, 0], controls=(WidgetControl(options=['position', 'transparent_bg'], widget=HBox(children=(Togg…"
      ]
     },
     "execution_count": 24,
     "metadata": {},
     "output_type": "execute_result"
    }
   ],
   "source": [
    "Map = geemap.Map()\n",
    "Map.add_basemap('HYBRID')\n",
    "Map"
   ]
  },
  {
   "cell_type": "code",
   "execution_count": 25,
   "id": "bad59d44",
   "metadata": {
    "tags": []
   },
   "outputs": [],
   "source": [
    "# Set the region of interest by simply drawing a polygon on the map\n",
    "region = Map.user_roi\n",
    "if region is None:\n",
    "    region = ee.Geometry.BBox(-89.7088, 42.9006, -89.0647, 43.2167)\n",
    "\n",
    "Map.centerObject(region)"
   ]
  },
  {
   "cell_type": "code",
   "execution_count": 26,
   "id": "4d54405c",
   "metadata": {
    "tags": []
   },
   "outputs": [],
   "source": [
    "# Set the date range\n",
    "start_date = '2017-01-01'\n",
    "end_date = '2022-12-31'"
   ]
  },
  {
   "cell_type": "markdown",
   "id": "f6ce998f",
   "metadata": {},
   "source": [
    "The `return_type` can be `hillshade`, `visualize`, `class`, or `probability`. If you want to use the resulting images for further analysis, you should use `class`."
   ]
  },
  {
   "cell_type": "markdown",
   "id": "432c615a-30b9-46e9-9ec4-b3d2b67224a5",
   "metadata": {},
   "source": [
    "`geemap.dynamic_world_timeseries()`是`geemap`库中的一个函数，用于创建近实时的全球10米分辨率土地覆盖图¹。它使用Dynamic World数据集，该数据集提供了定期更新的土地覆盖预测时间序列²。\n",
    "\n",
    "您可以使用此函数来监测近实时的景观变化并检测土地表面状态的变化²。您可以查看`geemap`库的文档以获取更多信息。\n",
    "\n",
    "(1) 114 dynamic world - geemap. https://geemap.org/notebooks/114_dynamic_world/.\n",
    "\n",
    "(2) Introduction to Dynamic World (Part 3) - Exploring Time Series. https://developers.google.com/earth-engine/tutorials/community/introduction-to-dynamic-world-pt-3.\n",
    "\n",
    "(3) 20 timeseries inspector - geemap. https://geemap.org/notebooks/20_timeseries_inspector/."
   ]
  },
  {
   "cell_type": "code",
   "execution_count": 27,
   "id": "1e3df220",
   "metadata": {
    "tags": []
   },
   "outputs": [],
   "source": [
    "images = geemap.dynamic_world_timeseries(\n",
    "    region, start_date, end_date, return_type=\"class\"\n",
    ")"
   ]
  },
  {
   "cell_type": "code",
   "execution_count": 28,
   "id": "c37e81d4",
   "metadata": {
    "tags": []
   },
   "outputs": [
    {
     "data": {
      "application/vnd.jupyter.widget-view+json": {
       "model_id": "cff44394b49445219a700d74bb66fb5d",
       "version_major": 2,
       "version_minor": 0
      },
      "text/plain": [
       "Map(bottom=209332.0, center=[34.229970811273084, 117.26806640625001], controls=(WidgetControl(options=['positi…"
      ]
     },
     "execution_count": 28,
     "metadata": {},
     "output_type": "execute_result"
    }
   ],
   "source": [
    "vis_params = {\n",
    "    \"min\": 0,\n",
    "    \"max\": 8,\n",
    "    \"palette\": [\n",
    "        \"#419BDF\",\n",
    "        \"#397D49\",\n",
    "        \"#88B053\",\n",
    "        \"#7A87C6\",\n",
    "        \"#E49635\",\n",
    "        \"#DFC35A\",\n",
    "        \"#C4281B\",\n",
    "        \"#A59B8F\",\n",
    "        \"#B39FE1\",\n",
    "    ],\n",
    "}\n",
    "Map.addLayer(images.first(), vis_params, 'First image')\n",
    "Map.add_legend(title=\"Dynamic World Land Cover\", builtin_legend='Dynamic_World')\n",
    "Map"
   ]
  },
  {
   "cell_type": "code",
   "execution_count": 29,
   "id": "393a2fd3",
   "metadata": {
    "tags": []
   },
   "outputs": [],
   "source": [
    "Map.ts_inspector(images, left_vis=vis_params, date_format='YYYY')"
   ]
  },
  {
   "cell_type": "code",
   "execution_count": 30,
   "id": "27ee321f",
   "metadata": {
    "tags": []
   },
   "outputs": [
    {
     "data": {
      "application/vnd.jupyter.widget-view+json": {
       "model_id": "ed8613b05ba14f2a84669f677e8e1090",
       "version_major": 2,
       "version_minor": 0
      },
      "text/plain": [
       "Map(center=[20, 0], controls=(WidgetControl(options=['position', 'transparent_bg'], widget=Dropdown(layout=Lay…"
      ]
     },
     "execution_count": 30,
     "metadata": {},
     "output_type": "execute_result"
    }
   ],
   "source": [
    "Map = geemap.Map()\n",
    "Map.add_basemap('HYBRID')\n",
    "Map.centerObject(region)\n",
    "\n",
    "images = geemap.dynamic_world_timeseries(\n",
    "    region, start_date, end_date, return_type=\"hillshade\"\n",
    ")\n",
    "Map.ts_inspector(images, date_format='YYYY')\n",
    "Map.add_legend(title=\"Dynamic World Land Cover\", builtin_legend='Dynamic_World')\n",
    "\n",
    "Map"
   ]
  },
  {
   "cell_type": "markdown",
   "id": "a697a980",
   "metadata": {},
   "source": [
    "![](https://i.imgur.com/5DGOuTC.png)"
   ]
  },
  {
   "cell_type": "code",
   "execution_count": null,
   "id": "445bc007-0dde-4a23-8bfe-8860249bb7e0",
   "metadata": {},
   "outputs": [],
   "source": []
  }
 ],
 "metadata": {
  "kernelspec": {
   "display_name": "Python 3 (ipykernel)",
   "language": "python",
   "name": "python3"
  },
  "language_info": {
   "codemirror_mode": {
    "name": "ipython",
    "version": 3
   },
   "file_extension": ".py",
   "mimetype": "text/x-python",
   "name": "python",
   "nbconvert_exporter": "python",
   "pygments_lexer": "ipython3",
   "version": "3.10.11"
  }
 },
 "nbformat": 4,
 "nbformat_minor": 5
}
