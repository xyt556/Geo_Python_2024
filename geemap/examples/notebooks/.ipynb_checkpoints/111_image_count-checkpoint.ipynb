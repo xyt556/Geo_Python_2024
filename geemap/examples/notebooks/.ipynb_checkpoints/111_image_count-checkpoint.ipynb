{
 "cells": [
  {
   "cell_type": "markdown",
   "id": "7bfbea9a",
   "metadata": {},
   "source": [
    "<a href=\"https://githubtocolab.com/gee-community/geemap/blob/master/examples/notebooks/111_image_count.ipynb\" target=\"_parent\"><img src=\"https://colab.research.google.com/assets/colab-badge.svg\" alt=\"Open in Colab\"/></a>\n",
    "\n",
    "Uncomment the following line to install [geemap](https://geemap.org) if needed."
   ]
  },
  {
   "cell_type": "code",
   "execution_count": null,
   "id": "f1c18f0a",
   "metadata": {},
   "outputs": [],
   "source": [
    "# !pip install geemap"
   ]
  },
  {
   "cell_type": "code",
   "execution_count": null,
   "id": "fa1c7f79",
   "metadata": {},
   "outputs": [],
   "source": [
    "import ee\n",
    "import geemap\n",
    "import geemap.colormaps as cm"
   ]
  },
  {
   "cell_type": "markdown",
   "id": "1e9dc256",
   "metadata": {},
   "source": [
    "If run into errors, uncomment the following line to update the package and restart the kernel to take effect."
   ]
  },
  {
   "cell_type": "code",
   "execution_count": null,
   "id": "dc7b3e14",
   "metadata": {},
   "outputs": [],
   "source": [
    "# geemap.update_package()"
   ]
  },
  {
   "cell_type": "code",
   "execution_count": null,
   "id": "47d42908",
   "metadata": {},
   "outputs": [],
   "source": [
    "Map = geemap.Map()\n",
    "Map"
   ]
  },
  {
   "cell_type": "markdown",
   "id": "f2aae1b0",
   "metadata": {},
   "source": [
    "Draw a rectangle/polygon on the map to be used as an Area of Interest (AOI). If no AOI is specified, the entire image collection will be used."
   ]
  },
  {
   "cell_type": "code",
   "execution_count": null,
   "id": "e7b81b2a",
   "metadata": {},
   "outputs": [],
   "source": [
    "region = Map.user_roi"
   ]
  },
  {
   "cell_type": "markdown",
   "id": "8eef8674",
   "metadata": {},
   "source": [
    "Use any Earth Engine collection to filter data, for example, using Landsat 8 Collection 2."
   ]
  },
  {
   "cell_type": "code",
   "execution_count": null,
   "id": "b00b3f64",
   "metadata": {},
   "outputs": [],
   "source": [
    "collection = ee.ImageCollection(\"LANDSAT/LC08/C02/T1_L2\")"
   ]
  },
  {
   "cell_type": "markdown",
   "id": "2e273a62",
   "metadata": {},
   "source": [
    "You can filter the image collection by region and date range. Set `clip=True` if you want to clip the resulting image to the region boundary."
   ]
  },
  {
   "cell_type": "code",
   "execution_count": null,
   "id": "82122206",
   "metadata": {},
   "outputs": [],
   "source": [
    "image = geemap.image_count(\n",
    "    collection, region, start_date='2021-01-01', end_date='2022-01-01', clip=False\n",
    ")"
   ]
  },
  {
   "cell_type": "markdown",
   "id": "8de3f690",
   "metadata": {},
   "source": [
    "Set visualization parameters."
   ]
  },
  {
   "cell_type": "code",
   "execution_count": null,
   "id": "92865c44",
   "metadata": {},
   "outputs": [],
   "source": [
    "vis = {'min': 0, 'max': 60, 'palette': cm.palettes.coolwarm}"
   ]
  },
  {
   "cell_type": "code",
   "execution_count": null,
   "id": "f1cb3c54",
   "metadata": {},
   "outputs": [],
   "source": [
    "Map.addLayer(image, vis, 'Landsat 8 Image Count')"
   ]
  },
  {
   "cell_type": "markdown",
   "id": "ea0ee128",
   "metadata": {},
   "source": [
    "Add country boundaries to the map"
   ]
  },
  {
   "cell_type": "code",
   "execution_count": null,
   "id": "ef1d64d4",
   "metadata": {},
   "outputs": [],
   "source": [
    "countries = ee.FeatureCollection('users/giswqs/public/countries')\n",
    "style = {\"color\": \"00000088\", \"width\": 1, \"fillColor\": \"00000000\"}\n",
    "Map.addLayer(countries.style(**style), {}, \"Countries\")\n",
    "Map.add_colorbar(vis, label='Landsat 8 Image Count')\n",
    "Map"
   ]
  }
 ],
 "metadata": {
  "kernelspec": {
   "display_name": "Python 3 (ipykernel)",
   "language": "python",
   "name": "python3"
  },
  "language_info": {
   "codemirror_mode": {
    "name": "ipython",
    "version": 3
   },
   "file_extension": ".py",
   "mimetype": "text/x-python",
   "name": "python",
   "nbconvert_exporter": "python",
   "pygments_lexer": "ipython3",
   "version": "3.10.11"
  }
 },
 "nbformat": 4,
 "nbformat_minor": 5
}
