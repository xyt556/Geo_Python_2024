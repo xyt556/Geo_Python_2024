{
 "cells": [
  {
   "cell_type": "markdown",
   "id": "77883983",
   "metadata": {},
   "source": [
    "<a href=\"https://githubtocolab.com/gee-community/geemap/blob/master/examples/notebooks/102_blend_hillshade.ipynb\" target=\"_parent\"><img src=\"https://colab.research.google.com/assets/colab-badge.svg\" alt=\"Open in Colab\"/></a>\n",
    "\n",
    "**Creating a shaded relief map by blending DEM and hillshade**\n",
    "\n",
    "Uncomment the following line to install [geemap](https://geemap.org) if needed."
   ]
  },
  {
   "cell_type": "code",
   "execution_count": null,
   "id": "a06e2594",
   "metadata": {},
   "outputs": [],
   "source": [
    "# !pip install geemap"
   ]
  },
  {
   "cell_type": "markdown",
   "id": "ca81645c",
   "metadata": {},
   "source": [
    "Import libraries"
   ]
  },
  {
   "cell_type": "code",
   "execution_count": 1,
   "id": "5bd4bcfa",
   "metadata": {
    "tags": []
   },
   "outputs": [],
   "source": [
    "import ee\n",
    "import geemap\n",
    "import geemap.colormaps as cm\n",
    "geemap.set_proxy(port='4780')"
   ]
  },
  {
   "cell_type": "markdown",
   "id": "df3b5138",
   "metadata": {},
   "source": [
    "Create an interactive map"
   ]
  },
  {
   "cell_type": "code",
   "execution_count": 2,
   "id": "cab27178",
   "metadata": {
    "tags": []
   },
   "outputs": [
    {
     "data": {
      "application/vnd.jupyter.widget-view+json": {
       "model_id": "28ee0a2b83344bb2b369d746653b562b",
       "version_major": 2,
       "version_minor": 0
      },
      "text/plain": [
       "Map(center=[20, 0], controls=(WidgetControl(options=['position', 'transparent_bg'], widget=HBox(children=(Togg…"
      ]
     },
     "execution_count": 2,
     "metadata": {},
     "output_type": "execute_result"
    }
   ],
   "source": [
    "Map = geemap.Map()\n",
    "Map\n"
   ]
  },
  {
   "cell_type": "markdown",
   "id": "27c9210e",
   "metadata": {},
   "source": [
    "Add DEM and hillshade to the map"
   ]
  },
  {
   "cell_type": "code",
   "execution_count": 3,
   "id": "6b0f9619",
   "metadata": {
    "tags": []
   },
   "outputs": [],
   "source": [
    "dem = ee.Image(\"CGIAR/SRTM90_V4\")\n",
    "hillsahde = ee.Terrain.hillshade(dem)"
   ]
  },
  {
   "cell_type": "code",
   "execution_count": 4,
   "id": "bfc26597",
   "metadata": {
    "tags": []
   },
   "outputs": [],
   "source": [
    "vis = {'min': 0, 'max': 6000, 'palette': cm.palettes.dem}"
   ]
  },
  {
   "cell_type": "code",
   "execution_count": 5,
   "id": "0f9a24cd",
   "metadata": {
    "tags": []
   },
   "outputs": [],
   "source": [
    "Map.addLayer(hillsahde, {}, 'Hillshade')\n",
    "Map.addLayer(dem, vis, 'DEM')"
   ]
  },
  {
   "cell_type": "markdown",
   "id": "12700cc0",
   "metadata": {},
   "source": [
    "Create a blended image by blending DEM and hillshade"
   ]
  },
  {
   "cell_type": "code",
   "execution_count": 6,
   "id": "0fa0d6cd",
   "metadata": {
    "tags": []
   },
   "outputs": [],
   "source": [
    "blend = geemap.blend(top_layer=dem, top_vis=vis)"
   ]
  },
  {
   "cell_type": "code",
   "execution_count": 7,
   "id": "db7d8b0c",
   "metadata": {
    "tags": []
   },
   "outputs": [],
   "source": [
    "Map.addLayer(blend, {}, 'Blend')"
   ]
  },
  {
   "cell_type": "markdown",
   "id": "24877603",
   "metadata": {},
   "source": [
    "Add NLCD land cover to the map"
   ]
  },
  {
   "cell_type": "code",
   "execution_count": null,
   "id": "4aaf8d9f",
   "metadata": {},
   "outputs": [],
   "source": [
    "nlcd = ee.Image(\"USGS/NLCD_RELEASES/2019_REL/NLCD/2019\").select('landcover')\n",
    "nlcd_vis = {'bands': ['landcover']}\n",
    "Map.addLayer(nlcd, nlcd_vis, 'NLCD')"
   ]
  },
  {
   "cell_type": "markdown",
   "id": "6e4d0fde",
   "metadata": {},
   "source": [
    "Create a blended image by blending NLCD and DEM."
   ]
  },
  {
   "cell_type": "code",
   "execution_count": null,
   "id": "079554da",
   "metadata": {},
   "outputs": [],
   "source": [
    "result = geemap.blend(nlcd, dem, top_vis=nlcd_vis, expression='a*b')"
   ]
  },
  {
   "cell_type": "code",
   "execution_count": null,
   "id": "f3bc7a80",
   "metadata": {},
   "outputs": [],
   "source": [
    "Map.addLayer(result, {}, 'Blend NLCD')"
   ]
  }
 ],
 "metadata": {
  "kernelspec": {
   "display_name": "Python 3 (ipykernel)",
   "language": "python",
   "name": "python3"
  },
  "language_info": {
   "codemirror_mode": {
    "name": "ipython",
    "version": 3
   },
   "file_extension": ".py",
   "mimetype": "text/x-python",
   "name": "python",
   "nbconvert_exporter": "python",
   "pygments_lexer": "ipython3",
   "version": "3.10.11"
  }
 },
 "nbformat": 4,
 "nbformat_minor": 5
}
