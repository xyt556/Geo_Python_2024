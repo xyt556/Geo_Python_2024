{
 "cells": [
  {
   "cell_type": "markdown",
   "id": "5e05d953",
   "metadata": {},
   "source": [
    "<a href=\"https://githubtocolab.com/gee-community/geemap/blob/master/examples/notebooks/76_osm_to_ee.ipynb\" target=\"_parent\"><img src=\"https://colab.research.google.com/assets/colab-badge.svg\" alt=\"Open in Colab\"/></a>\n",
    "\n",
    "Uncomment the following line to install [geemap](https://geemap.org) if needed."
   ]
  },
  {
   "cell_type": "code",
   "execution_count": null,
   "id": "3f8ed9e8",
   "metadata": {},
   "outputs": [],
   "source": [
    "# %%capture\n",
    "# # optional\n",
    "# ! sudo add-apt-repository -y ppa:ubuntugis/ubuntugis-unstable\n",
    "# ! sudo apt-get update\n",
    "# ! sudo apt-get install libudunits2-dev libgdal-dev libgeos-dev libproj-dev\n",
    "# ! sudo apt-get install libprotobuf-dev protobuf-compiler libv8-dev libjq-dev\n",
    "\n",
    "# # packages\n",
    "# ! pip install geopandas cartopy osmnx geemap"
   ]
  },
  {
   "cell_type": "markdown",
   "id": "dd8b4cee",
   "metadata": {},
   "source": [
    "## Converting OpenStreetMap data to ee.FeatureCollection\n",
    "\n",
    "Credits to [Erik Seras](https://github.com/gee-community/geemap/discussions/503) for making this feature request and providing examples."
   ]
  },
  {
   "cell_type": "code",
   "execution_count": 2,
   "id": "d1f617ca",
   "metadata": {
    "tags": []
   },
   "outputs": [],
   "source": [
    "import geemap\n",
    "geemap.set_proxy(port='4780')"
   ]
  },
  {
   "cell_type": "code",
   "execution_count": 3,
   "id": "ed6d4406",
   "metadata": {},
   "outputs": [],
   "source": [
    "# geemap.update_package()"
   ]
  },
  {
   "cell_type": "code",
   "execution_count": 4,
   "id": "1265190a",
   "metadata": {
    "tags": []
   },
   "outputs": [
    {
     "data": {
      "application/vnd.jupyter.widget-view+json": {
       "model_id": "75e40ae9d0114236a07bbc6163bcd634",
       "version_major": 2,
       "version_minor": 0
      },
      "text/plain": [
       "Map(center=[-12.017854552419402, -76.90458932693818], controls=(WidgetControl(options=['position', 'transparen…"
      ]
     },
     "execution_count": 4,
     "metadata": {},
     "output_type": "execute_result"
    }
   ],
   "source": [
    "Map = geemap.Map()\n",
    "\n",
    "fc = geemap.osm_to_ee(\"Provincia de Lima, Lima, Perú\")\n",
    "Map.addLayer(fc, {}, \"Lima, Peru\")\n",
    "Map.centerObject(fc, 9)\n",
    "\n",
    "Map"
   ]
  },
  {
   "cell_type": "code",
   "execution_count": 5,
   "id": "1900f76b-648d-4aaa-9bf6-9a5fff1f559a",
   "metadata": {
    "tags": []
   },
   "outputs": [
    {
     "data": {
      "application/vnd.jupyter.widget-view+json": {
       "model_id": "c7a3fa20fb584b9b9a786db4a0012b08",
       "version_major": 2,
       "version_minor": 0
      },
      "text/plain": [
       "Map(center=[40.36546643824936, 116.57330991711427], controls=(WidgetControl(options=['position', 'transparent_…"
      ]
     },
     "execution_count": 5,
     "metadata": {},
     "output_type": "execute_result"
    }
   ],
   "source": [
    "Map = geemap.Map()\n",
    "\n",
    "fc = geemap.osm_to_ee(\"北京市\")\n",
    "Map.addLayer(fc, {}, \"北京\")\n",
    "Map.centerObject(fc, 9)\n",
    "\n",
    "Map"
   ]
  },
  {
   "cell_type": "code",
   "execution_count": 6,
   "id": "1e9fcd87-b26e-4dfd-86a8-67cf06bb2646",
   "metadata": {
    "tags": []
   },
   "outputs": [
    {
     "data": {
      "application/vnd.jupyter.widget-view+json": {
       "model_id": "9f58cb23e2eb42e0bea7e6b994b9f56c",
       "version_major": 2,
       "version_minor": 0
      },
      "text/plain": [
       "Map(center=[34.35662948952239, 117.51882964380177], controls=(WidgetControl(options=['position', 'transparent_…"
      ]
     },
     "execution_count": 6,
     "metadata": {},
     "output_type": "execute_result"
    }
   ],
   "source": [
    "Map = geemap.Map()\n",
    "\n",
    "fc = geemap.osm_to_ee(\"徐州市\")\n",
    "Map.addLayer(fc, {}, \"徐州\")\n",
    "Map.centerObject(fc, 9)\n",
    "\n",
    "Map"
   ]
  },
  {
   "cell_type": "code",
   "execution_count": 7,
   "id": "8c5de980",
   "metadata": {},
   "outputs": [
    {
     "data": {
      "text/html": [
       "<div>\n",
       "<style scoped>\n",
       "    .dataframe tbody tr th:only-of-type {\n",
       "        vertical-align: middle;\n",
       "    }\n",
       "\n",
       "    .dataframe tbody tr th {\n",
       "        vertical-align: top;\n",
       "    }\n",
       "\n",
       "    .dataframe thead th {\n",
       "        text-align: right;\n",
       "    }\n",
       "</style>\n",
       "<table border=\"1\" class=\"dataframe\">\n",
       "  <thead>\n",
       "    <tr style=\"text-align: right;\">\n",
       "      <th></th>\n",
       "      <th>geometry</th>\n",
       "      <th>bbox_north</th>\n",
       "      <th>bbox_south</th>\n",
       "      <th>bbox_east</th>\n",
       "      <th>bbox_west</th>\n",
       "      <th>place_id</th>\n",
       "      <th>osm_type</th>\n",
       "      <th>osm_id</th>\n",
       "      <th>lat</th>\n",
       "      <th>lon</th>\n",
       "      <th>display_name</th>\n",
       "      <th>class</th>\n",
       "      <th>type</th>\n",
       "      <th>importance</th>\n",
       "    </tr>\n",
       "  </thead>\n",
       "  <tbody>\n",
       "    <tr>\n",
       "      <th>0</th>\n",
       "      <td>MULTIPOLYGON (((-77.19921 -11.69372, -77.19921...</td>\n",
       "      <td>-11.572436</td>\n",
       "      <td>-12.519932</td>\n",
       "      <td>-76.620824</td>\n",
       "      <td>-77.199213</td>\n",
       "      <td>298381610</td>\n",
       "      <td>relation</td>\n",
       "      <td>1944670</td>\n",
       "      <td>-12.000212</td>\n",
       "      <td>-76.83308</td>\n",
       "      <td>Province of Lima, Lima Metropolitan Area, Lima...</td>\n",
       "      <td>boundary</td>\n",
       "      <td>administrative</td>\n",
       "      <td>0.703484</td>\n",
       "    </tr>\n",
       "  </tbody>\n",
       "</table>\n",
       "</div>"
      ],
      "text/plain": [
       "                                            geometry  bbox_north  bbox_south   \n",
       "0  MULTIPOLYGON (((-77.19921 -11.69372, -77.19921...  -11.572436  -12.519932  \\\n",
       "\n",
       "   bbox_east  bbox_west   place_id  osm_type   osm_id        lat       lon   \n",
       "0 -76.620824 -77.199213  298381610  relation  1944670 -12.000212 -76.83308  \\\n",
       "\n",
       "                                        display_name     class   \n",
       "0  Province of Lima, Lima Metropolitan Area, Lima...  boundary  \\\n",
       "\n",
       "             type  importance  \n",
       "0  administrative    0.703484  "
      ]
     },
     "execution_count": 7,
     "metadata": {},
     "output_type": "execute_result"
    }
   ],
   "source": [
    "geemap.osm_to_geopandas(\"Provincia de Lima, Lima, Perú\")"
   ]
  },
  {
   "cell_type": "code",
   "execution_count": 8,
   "id": "7a38b2bd-a175-49bf-a047-b035dbbc516c",
   "metadata": {},
   "outputs": [
    {
     "data": {
      "text/html": [
       "<div>\n",
       "<style scoped>\n",
       "    .dataframe tbody tr th:only-of-type {\n",
       "        vertical-align: middle;\n",
       "    }\n",
       "\n",
       "    .dataframe tbody tr th {\n",
       "        vertical-align: top;\n",
       "    }\n",
       "\n",
       "    .dataframe thead th {\n",
       "        text-align: right;\n",
       "    }\n",
       "</style>\n",
       "<table border=\"1\" class=\"dataframe\">\n",
       "  <thead>\n",
       "    <tr style=\"text-align: right;\">\n",
       "      <th></th>\n",
       "      <th>geometry</th>\n",
       "      <th>bbox_north</th>\n",
       "      <th>bbox_south</th>\n",
       "      <th>bbox_east</th>\n",
       "      <th>bbox_west</th>\n",
       "      <th>place_id</th>\n",
       "      <th>osm_type</th>\n",
       "      <th>osm_id</th>\n",
       "      <th>lat</th>\n",
       "      <th>lon</th>\n",
       "      <th>display_name</th>\n",
       "      <th>class</th>\n",
       "      <th>type</th>\n",
       "      <th>importance</th>\n",
       "    </tr>\n",
       "  </thead>\n",
       "  <tbody>\n",
       "    <tr>\n",
       "      <th>0</th>\n",
       "      <td>MULTIPOLYGON (((115.41721 39.96842, 115.42060 ...</td>\n",
       "      <td>48.011663</td>\n",
       "      <td>39.17071</td>\n",
       "      <td>123.926664</td>\n",
       "      <td>115.417209</td>\n",
       "      <td>353166503</td>\n",
       "      <td>relation</td>\n",
       "      <td>912940</td>\n",
       "      <td>40.190632</td>\n",
       "      <td>116.412144</td>\n",
       "      <td>Beijing, China</td>\n",
       "      <td>boundary</td>\n",
       "      <td>administrative</td>\n",
       "      <td>0.734401</td>\n",
       "    </tr>\n",
       "  </tbody>\n",
       "</table>\n",
       "</div>"
      ],
      "text/plain": [
       "                                            geometry  bbox_north  bbox_south   \n",
       "0  MULTIPOLYGON (((115.41721 39.96842, 115.42060 ...   48.011663    39.17071  \\\n",
       "\n",
       "    bbox_east   bbox_west   place_id  osm_type  osm_id        lat         lon   \n",
       "0  123.926664  115.417209  353166503  relation  912940  40.190632  116.412144  \\\n",
       "\n",
       "     display_name     class            type  importance  \n",
       "0  Beijing, China  boundary  administrative    0.734401  "
      ]
     },
     "execution_count": 8,
     "metadata": {},
     "output_type": "execute_result"
    }
   ],
   "source": [
    "geemap.osm_to_geopandas(\"北京市\")"
   ]
  },
  {
   "cell_type": "code",
   "execution_count": null,
   "id": "cd089085",
   "metadata": {},
   "outputs": [],
   "source": [
    "# geemap.osm_to_geojson(\"Provincia de Lima, Lima, Perú\")"
   ]
  },
  {
   "cell_type": "code",
   "execution_count": 9,
   "id": "ccc29846",
   "metadata": {},
   "outputs": [
    {
     "data": {
      "application/vnd.jupyter.widget-view+json": {
       "model_id": "41abb23430cc406ea86ec83dd72204db",
       "version_major": 2,
       "version_minor": 0
      },
      "text/plain": [
       "Map(center=[20, 0], controls=(WidgetControl(options=['position', 'transparent_bg'], widget=HBox(children=(Togg…"
      ]
     },
     "execution_count": 9,
     "metadata": {},
     "output_type": "execute_result"
    }
   ],
   "source": [
    "Map = geemap.Map()\n",
    "\n",
    "Map.add_osm(\"Provincia de Lima, Lima, Perú\", layer_name=\"Lima, Peru\")\n",
    "\n",
    "Map"
   ]
  },
  {
   "cell_type": "code",
   "execution_count": 10,
   "id": "6adf95e4",
   "metadata": {},
   "outputs": [
    {
     "ename": "AttributeError",
     "evalue": "'Map' object has no attribute 'zoomToObject'",
     "output_type": "error",
     "traceback": [
      "\u001b[1;31m---------------------------------------------------------------------------\u001b[0m",
      "\u001b[1;31mAttributeError\u001b[0m                            Traceback (most recent call last)",
      "Cell \u001b[1;32mIn[10], line 3\u001b[0m\n\u001b[0;32m      1\u001b[0m Map \u001b[38;5;241m=\u001b[39m geemap\u001b[38;5;241m.\u001b[39mMap()\n\u001b[1;32m----> 3\u001b[0m \u001b[43mMap\u001b[49m\u001b[38;5;241;43m.\u001b[39;49m\u001b[43madd_osm\u001b[49m\u001b[43m(\u001b[49m\u001b[38;5;124;43m\"\u001b[39;49m\u001b[38;5;124;43mProvincia de Lima, Lima, Perú\u001b[39;49m\u001b[38;5;124;43m\"\u001b[39;49m\u001b[43m,\u001b[49m\u001b[43m \u001b[49m\u001b[43mlayer_name\u001b[49m\u001b[38;5;241;43m=\u001b[39;49m\u001b[38;5;124;43m\"\u001b[39;49m\u001b[38;5;124;43mLima, Peru\u001b[39;49m\u001b[38;5;124;43m\"\u001b[39;49m\u001b[43m,\u001b[49m\u001b[43m \u001b[49m\u001b[43mto_ee\u001b[49m\u001b[38;5;241;43m=\u001b[39;49m\u001b[38;5;28;43;01mTrue\u001b[39;49;00m\u001b[43m)\u001b[49m\n\u001b[0;32m      5\u001b[0m Map\n",
      "File \u001b[1;32mE:\\Geo_Data\\venv\\lib\\site-packages\\geemap\\geemap.py:5652\u001b[0m, in \u001b[0;36mMap.add_osm\u001b[1;34m(self, query, layer_name, style, hover_style, style_callback, fill_colors, info_mode, which_result, by_osmid, buffer_dist, to_ee, geodesic)\u001b[0m\n\u001b[0;32m   5650\u001b[0m     fc \u001b[38;5;241m=\u001b[39m geojson_to_ee(geojson, geodesic\u001b[38;5;241m=\u001b[39mgeodesic)\n\u001b[0;32m   5651\u001b[0m     \u001b[38;5;28mself\u001b[39m\u001b[38;5;241m.\u001b[39maddLayer(fc, {}, layer_name)\n\u001b[1;32m-> 5652\u001b[0m     \u001b[38;5;28;43mself\u001b[39;49m\u001b[38;5;241;43m.\u001b[39;49m\u001b[43mzoomToObject\u001b[49m(fc)\n\u001b[0;32m   5653\u001b[0m \u001b[38;5;28;01melse\u001b[39;00m:\n\u001b[0;32m   5654\u001b[0m     \u001b[38;5;28mself\u001b[39m\u001b[38;5;241m.\u001b[39madd_geojson(\n\u001b[0;32m   5655\u001b[0m         geojson,\n\u001b[0;32m   5656\u001b[0m         layer_name\u001b[38;5;241m=\u001b[39mlayer_name,\n\u001b[1;32m   (...)\u001b[0m\n\u001b[0;32m   5661\u001b[0m         info_mode\u001b[38;5;241m=\u001b[39minfo_mode,\n\u001b[0;32m   5662\u001b[0m     )\n",
      "\u001b[1;31mAttributeError\u001b[0m: 'Map' object has no attribute 'zoomToObject'"
     ]
    }
   ],
   "source": [
    "Map = geemap.Map()\n",
    "\n",
    "Map.add_osm(\"Provincia de Lima, Lima, Perú\", layer_name=\"Lima, Peru\", to_ee=True)\n",
    "\n",
    "Map"
   ]
  },
  {
   "cell_type": "code",
   "execution_count": 11,
   "id": "1f86c976",
   "metadata": {},
   "outputs": [
    {
     "ename": "Exception",
     "evalue": "Nominatim could not geocode query \"('京都市, 日本国')\" to polygonal boundaries",
     "output_type": "error",
     "traceback": [
      "\u001b[1;31m---------------------------------------------------------------------------\u001b[0m",
      "\u001b[1;31mValueError\u001b[0m                                Traceback (most recent call last)",
      "File \u001b[1;32mE:\\Geo_Data\\venv\\lib\\site-packages\\geemap\\common.py:9350\u001b[0m, in \u001b[0;36mosm_to_gdf\u001b[1;34m(query, which_result, by_osmid, buffer_dist)\u001b[0m\n\u001b[0;32m   9348\u001b[0m \u001b[38;5;28;01mimport\u001b[39;00m \u001b[38;5;21;01mosmnx\u001b[39;00m \u001b[38;5;28;01mas\u001b[39;00m \u001b[38;5;21;01mox\u001b[39;00m\n\u001b[1;32m-> 9350\u001b[0m gdf \u001b[38;5;241m=\u001b[39m \u001b[43mox\u001b[49m\u001b[38;5;241;43m.\u001b[39;49m\u001b[43mgeocode_to_gdf\u001b[49m\u001b[43m(\u001b[49m\u001b[43mquery\u001b[49m\u001b[43m,\u001b[49m\u001b[43m \u001b[49m\u001b[43mwhich_result\u001b[49m\u001b[43m,\u001b[49m\u001b[43m \u001b[49m\u001b[43mby_osmid\u001b[49m\u001b[43m,\u001b[49m\u001b[43m \u001b[49m\u001b[43mbuffer_dist\u001b[49m\u001b[43m)\u001b[49m\n\u001b[0;32m   9351\u001b[0m \u001b[38;5;28;01mreturn\u001b[39;00m gdf\n",
      "File \u001b[1;32mE:\\Geo_Data\\venv\\lib\\site-packages\\osmnx\\geocoder.py:111\u001b[0m, in \u001b[0;36mgeocode_to_gdf\u001b[1;34m(query, which_result, by_osmid, buffer_dist)\u001b[0m\n\u001b[0;32m    110\u001b[0m \u001b[38;5;28;01mfor\u001b[39;00m q, wr \u001b[38;5;129;01min\u001b[39;00m \u001b[38;5;28mzip\u001b[39m(query, which_result):\n\u001b[1;32m--> 111\u001b[0m     gdf \u001b[38;5;241m=\u001b[39m pd\u001b[38;5;241m.\u001b[39mconcat([gdf, \u001b[43m_geocode_query_to_gdf\u001b[49m\u001b[43m(\u001b[49m\u001b[43mq\u001b[49m\u001b[43m,\u001b[49m\u001b[43m \u001b[49m\u001b[43mwr\u001b[49m\u001b[43m,\u001b[49m\u001b[43m \u001b[49m\u001b[43mby_osmid\u001b[49m\u001b[43m)\u001b[49m])\n\u001b[0;32m    113\u001b[0m \u001b[38;5;66;03m# reset GeoDataFrame index and set its CRS\u001b[39;00m\n",
      "File \u001b[1;32mE:\\Geo_Data\\venv\\lib\\site-packages\\osmnx\\geocoder.py:167\u001b[0m, in \u001b[0;36m_geocode_query_to_gdf\u001b[1;34m(query, which_result, by_osmid)\u001b[0m\n\u001b[0;32m    165\u001b[0m \u001b[38;5;28;01melif\u001b[39;00m which_result \u001b[38;5;129;01mis\u001b[39;00m \u001b[38;5;28;01mNone\u001b[39;00m:\n\u001b[0;32m    166\u001b[0m     \u001b[38;5;66;03m# else, if which_result=None, auto-select the first (Multi)Polygon\u001b[39;00m\n\u001b[1;32m--> 167\u001b[0m     result \u001b[38;5;241m=\u001b[39m \u001b[43m_get_first_polygon\u001b[49m\u001b[43m(\u001b[49m\u001b[43mresults\u001b[49m\u001b[43m,\u001b[49m\u001b[43m \u001b[49m\u001b[43mquery\u001b[49m\u001b[43m)\u001b[49m\n\u001b[0;32m    169\u001b[0m \u001b[38;5;28;01melif\u001b[39;00m \u001b[38;5;28mlen\u001b[39m(results) \u001b[38;5;241m>\u001b[39m\u001b[38;5;241m=\u001b[39m which_result:\n\u001b[0;32m    170\u001b[0m     \u001b[38;5;66;03m# else, if we got at least which_result results, choose that one\u001b[39;00m\n",
      "File \u001b[1;32mE:\\Geo_Data\\venv\\lib\\site-packages\\osmnx\\geocoder.py:231\u001b[0m, in \u001b[0;36m_get_first_polygon\u001b[1;34m(results, query)\u001b[0m\n\u001b[0;32m    230\u001b[0m \u001b[38;5;66;03m# if we never found a polygon, throw an error\u001b[39;00m\n\u001b[1;32m--> 231\u001b[0m \u001b[38;5;28;01mraise\u001b[39;00m \u001b[38;5;167;01mValueError\u001b[39;00m(\u001b[38;5;124mf\u001b[39m\u001b[38;5;124m\"\u001b[39m\u001b[38;5;124mNominatim could not geocode query \u001b[39m\u001b[38;5;132;01m{\u001b[39;00mquery\u001b[38;5;132;01m!r}\u001b[39;00m\u001b[38;5;124m to polygonal boundaries\u001b[39m\u001b[38;5;124m\"\u001b[39m)\n",
      "\u001b[1;31mValueError\u001b[0m: Nominatim could not geocode query \"('京都市, 日本国')\" to polygonal boundaries",
      "\nDuring handling of the above exception, another exception occurred:\n",
      "\u001b[1;31mException\u001b[0m                                 Traceback (most recent call last)",
      "Cell \u001b[1;32mIn[11], line 3\u001b[0m\n\u001b[0;32m      1\u001b[0m Map \u001b[38;5;241m=\u001b[39m geemap\u001b[38;5;241m.\u001b[39mMap()\n\u001b[1;32m----> 3\u001b[0m \u001b[43mMap\u001b[49m\u001b[38;5;241;43m.\u001b[39;49m\u001b[43madd_osm\u001b[49m\u001b[43m(\u001b[49m\u001b[38;5;124;43m\"\u001b[39;49m\u001b[38;5;124;43m(\u001b[39;49m\u001b[38;5;124;43m'\u001b[39;49m\u001b[38;5;124;43m京都市, 日本国\u001b[39;49m\u001b[38;5;124;43m'\u001b[39;49m\u001b[38;5;124;43m)\u001b[39;49m\u001b[38;5;124;43m\"\u001b[39;49m\u001b[43m,\u001b[49m\u001b[43m \u001b[49m\u001b[43mlayer_name\u001b[49m\u001b[38;5;241;43m=\u001b[39;49m\u001b[38;5;124;43m'\u001b[39;49m\u001b[38;5;124;43mKyoto, Japan\u001b[39;49m\u001b[38;5;124;43m'\u001b[39;49m\u001b[43m)\u001b[49m\n\u001b[0;32m      5\u001b[0m Map\n",
      "File \u001b[1;32mE:\\Geo_Data\\venv\\lib\\site-packages\\geemap\\geemap.py:5644\u001b[0m, in \u001b[0;36mMap.add_osm\u001b[1;34m(self, query, layer_name, style, hover_style, style_callback, fill_colors, info_mode, which_result, by_osmid, buffer_dist, to_ee, geodesic)\u001b[0m\n\u001b[0;32m   5611\u001b[0m \u001b[38;5;28;01mdef\u001b[39;00m \u001b[38;5;21madd_osm\u001b[39m(\n\u001b[0;32m   5612\u001b[0m     \u001b[38;5;28mself\u001b[39m,\n\u001b[0;32m   5613\u001b[0m     query,\n\u001b[1;32m   (...)\u001b[0m\n\u001b[0;32m   5624\u001b[0m     geodesic\u001b[38;5;241m=\u001b[39m\u001b[38;5;28;01mTrue\u001b[39;00m,\n\u001b[0;32m   5625\u001b[0m ):\n\u001b[0;32m   5626\u001b[0m \u001b[38;5;250m    \u001b[39m\u001b[38;5;124;03m\"\"\"Adds OSM data to the map.\u001b[39;00m\n\u001b[0;32m   5627\u001b[0m \n\u001b[0;32m   5628\u001b[0m \u001b[38;5;124;03m    Args:\u001b[39;00m\n\u001b[1;32m   (...)\u001b[0m\n\u001b[0;32m   5641\u001b[0m \n\u001b[0;32m   5642\u001b[0m \u001b[38;5;124;03m    \"\"\"\u001b[39;00m\n\u001b[1;32m-> 5644\u001b[0m     gdf \u001b[38;5;241m=\u001b[39m \u001b[43mosm_to_gdf\u001b[49m\u001b[43m(\u001b[49m\n\u001b[0;32m   5645\u001b[0m \u001b[43m        \u001b[49m\u001b[43mquery\u001b[49m\u001b[43m,\u001b[49m\u001b[43m \u001b[49m\u001b[43mwhich_result\u001b[49m\u001b[38;5;241;43m=\u001b[39;49m\u001b[43mwhich_result\u001b[49m\u001b[43m,\u001b[49m\u001b[43m \u001b[49m\u001b[43mby_osmid\u001b[49m\u001b[38;5;241;43m=\u001b[39;49m\u001b[43mby_osmid\u001b[49m\u001b[43m,\u001b[49m\u001b[43m \u001b[49m\u001b[43mbuffer_dist\u001b[49m\u001b[38;5;241;43m=\u001b[39;49m\u001b[43mbuffer_dist\u001b[49m\n\u001b[0;32m   5646\u001b[0m \u001b[43m    \u001b[49m\u001b[43m)\u001b[49m\n\u001b[0;32m   5647\u001b[0m     geojson \u001b[38;5;241m=\u001b[39m gdf\u001b[38;5;241m.\u001b[39m__geo_interface__\n\u001b[0;32m   5649\u001b[0m     \u001b[38;5;28;01mif\u001b[39;00m to_ee:\n",
      "File \u001b[1;32mE:\\Geo_Data\\venv\\lib\\site-packages\\geemap\\common.py:9353\u001b[0m, in \u001b[0;36mosm_to_gdf\u001b[1;34m(query, which_result, by_osmid, buffer_dist)\u001b[0m\n\u001b[0;32m   9351\u001b[0m     \u001b[38;5;28;01mreturn\u001b[39;00m gdf\n\u001b[0;32m   9352\u001b[0m \u001b[38;5;28;01mexcept\u001b[39;00m \u001b[38;5;167;01mException\u001b[39;00m \u001b[38;5;28;01mas\u001b[39;00m e:\n\u001b[1;32m-> 9353\u001b[0m     \u001b[38;5;28;01mraise\u001b[39;00m \u001b[38;5;167;01mException\u001b[39;00m(e)\n",
      "\u001b[1;31mException\u001b[0m: Nominatim could not geocode query \"('京都市, 日本国')\" to polygonal boundaries"
     ]
    }
   ],
   "source": [
    "Map = geemap.Map()\n",
    "\n",
    "Map.add_osm(\"('京都市, 日本国')\", layer_name='Kyoto, Japan')\n",
    "\n",
    "Map"
   ]
  },
  {
   "cell_type": "code",
   "execution_count": 12,
   "id": "d6a32671",
   "metadata": {},
   "outputs": [
    {
     "data": {
      "application/vnd.jupyter.widget-view+json": {
       "model_id": "266cc026abdb4039997dc961b17e5ca0",
       "version_major": 2,
       "version_minor": 0
      },
      "text/plain": [
       "Map(center=[20, 0], controls=(WidgetControl(options=['position', 'transparent_bg'], widget=HBox(children=(Togg…"
      ]
     },
     "execution_count": 12,
     "metadata": {},
     "output_type": "execute_result"
    }
   ],
   "source": [
    "Map = geemap.Map()\n",
    "\n",
    "Map.add_osm(\"Knoxville, Tennessee\", layer_name='Knoxville, TN')\n",
    "\n",
    "Map"
   ]
  },
  {
   "cell_type": "code",
   "execution_count": null,
   "id": "31b82f4f-868b-4c79-a030-63704302d03f",
   "metadata": {},
   "outputs": [],
   "source": []
  }
 ],
 "metadata": {
  "kernelspec": {
   "display_name": "Python 3 (ipykernel)",
   "language": "python",
   "name": "python3"
  },
  "language_info": {
   "codemirror_mode": {
    "name": "ipython",
    "version": 3
   },
   "file_extension": ".py",
   "mimetype": "text/x-python",
   "name": "python",
   "nbconvert_exporter": "python",
   "pygments_lexer": "ipython3",
   "version": "3.10.11"
  }
 },
 "nbformat": 4,
 "nbformat_minor": 5
}
