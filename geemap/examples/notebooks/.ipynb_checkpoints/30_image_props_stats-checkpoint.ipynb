{
 "cells": [
  {
   "cell_type": "markdown",
   "id": "ebcc4ac6",
   "metadata": {},
   "source": [
    "<a href=\"https://githubtocolab.com/gee-community/geemap/blob/master/examples/notebooks/30_image_props_stats.ipynb\" target=\"_parent\"><img src=\"https://colab.research.google.com/assets/colab-badge.svg\" alt=\"Open in Colab\"/></a>\n",
    "\n",
    "Uncomment the following line to install [geemap](https://geemap.org) if needed."
   ]
  },
  {
   "cell_type": "code",
   "execution_count": null,
   "id": "4878f946",
   "metadata": {},
   "outputs": [],
   "source": [
    "# !pip install geemap"
   ]
  },
  {
   "cell_type": "markdown",
   "id": "8713264f",
   "metadata": {},
   "source": [
    "# How to get image basic properties and descriptive statistics"
   ]
  },
  {
   "cell_type": "code",
   "execution_count": 1,
   "id": "accd0223",
   "metadata": {
    "tags": []
   },
   "outputs": [],
   "source": [
    "import ee\n",
    "import geemap\n",
    "geemap.set_proxy(port='10792')"
   ]
  },
  {
   "cell_type": "markdown",
   "id": "b28dd131",
   "metadata": {},
   "source": [
    "## Create an interactive map"
   ]
  },
  {
   "cell_type": "code",
   "execution_count": 2,
   "id": "14005e2f",
   "metadata": {
    "tags": []
   },
   "outputs": [
    {
     "data": {
      "application/vnd.jupyter.widget-view+json": {
       "model_id": "02286a0db0b849fea2bf8849e2058d14",
       "version_major": 2,
       "version_minor": 0
      },
      "text/plain": [
       "Map(center=[20, 0], controls=(WidgetControl(options=['position', 'transparent_bg'], widget=HBox(children=(Togg…"
      ]
     },
     "execution_count": 2,
     "metadata": {},
     "output_type": "execute_result"
    }
   ],
   "source": [
    "Map = geemap.Map()\n",
    "Map"
   ]
  },
  {
   "cell_type": "markdown",
   "id": "cfceb3f5",
   "metadata": {},
   "source": [
    "## Add images to the map"
   ]
  },
  {
   "cell_type": "code",
   "execution_count": 3,
   "id": "524ab118",
   "metadata": {
    "tags": []
   },
   "outputs": [],
   "source": [
    "centroid = ee.Geometry.Point([-122.4439, 37.7538])\n",
    "\n",
    "landsat = ee.ImageCollection('LANDSAT/LC08/C01/T1_SR').filterBounds(centroid).first()\n",
    "\n",
    "landsat_vis = {'min': 0, 'max': 3000, 'bands': ['B5', 'B4', 'B3']}\n",
    "\n",
    "Map.centerObject(centroid, 8)\n",
    "Map.addLayer(landsat, landsat_vis, \"Landsat-8\")"
   ]
  },
  {
   "cell_type": "code",
   "execution_count": 4,
   "id": "dd974ef9",
   "metadata": {
    "tags": []
   },
   "outputs": [],
   "source": [
    "naip = ee.ImageCollection('USDA/NAIP/DOQQ').filterBounds(centroid).first()\n",
    "\n",
    "naip_vis = {'bands': ['N', 'R', 'G']}\n",
    "\n",
    "Map.addLayer(naip, naip_vis, 'NAIP')"
   ]
  },
  {
   "cell_type": "markdown",
   "id": "c9946af2",
   "metadata": {},
   "source": [
    "## Get image property names"
   ]
  },
  {
   "cell_type": "code",
   "execution_count": 5,
   "id": "4ed70a16",
   "metadata": {
    "tags": []
   },
   "outputs": [
    {
     "data": {
      "text/plain": [
       "['IMAGE_QUALITY_TIRS',\n",
       " 'CLOUD_COVER',\n",
       " 'system:id',\n",
       " 'EARTH_SUN_DISTANCE',\n",
       " 'LANDSAT_ID',\n",
       " 'system:footprint',\n",
       " 'system:version',\n",
       " 'CLOUD_COVER_LAND',\n",
       " 'GEOMETRIC_RMSE_MODEL',\n",
       " 'SR_APP_VERSION',\n",
       " 'SATELLITE',\n",
       " 'SOLAR_AZIMUTH_ANGLE',\n",
       " 'IMAGE_QUALITY_OLI',\n",
       " 'system:time_end',\n",
       " 'WRS_PATH',\n",
       " 'system:time_start',\n",
       " 'SENSING_TIME',\n",
       " 'ESPA_VERSION',\n",
       " 'SOLAR_ZENITH_ANGLE',\n",
       " 'WRS_ROW',\n",
       " 'GEOMETRIC_RMSE_MODEL_Y',\n",
       " 'LEVEL1_PRODUCTION_DATE',\n",
       " 'GEOMETRIC_RMSE_MODEL_X',\n",
       " 'system:asset_size',\n",
       " 'PIXEL_QA_VERSION',\n",
       " 'system:index',\n",
       " 'system:bands',\n",
       " 'system:band_names']"
      ]
     },
     "execution_count": 5,
     "metadata": {},
     "output_type": "execute_result"
    }
   ],
   "source": [
    "landsat.propertyNames().getInfo()"
   ]
  },
  {
   "cell_type": "code",
   "execution_count": 6,
   "id": "aab200d5",
   "metadata": {
    "tags": []
   },
   "outputs": [
    {
     "data": {
      "text/plain": [
       "0.05"
      ]
     },
     "execution_count": 6,
     "metadata": {},
     "output_type": "execute_result"
    }
   ],
   "source": [
    "landsat.get('CLOUD_COVER').getInfo()"
   ]
  },
  {
   "cell_type": "code",
   "execution_count": 7,
   "id": "b1e60eb0",
   "metadata": {
    "tags": []
   },
   "outputs": [
    {
     "data": {
      "text/plain": [
       "1365533194757"
      ]
     },
     "execution_count": 7,
     "metadata": {},
     "output_type": "execute_result"
    }
   ],
   "source": [
    "# The number of milliseconds since 1970-01-01T00:00:00Z.\n",
    "landsat.get('system:time_start').getInfo()"
   ]
  },
  {
   "cell_type": "code",
   "execution_count": 8,
   "id": "772a99e7",
   "metadata": {
    "tags": []
   },
   "outputs": [
    {
     "data": {
      "text/plain": [
       "'2013-04-09'"
      ]
     },
     "execution_count": 8,
     "metadata": {},
     "output_type": "execute_result"
    }
   ],
   "source": [
    "ee.Date(landsat.get('system:time_start')).format('YYYY-MM-dd').getInfo()"
   ]
  },
  {
   "cell_type": "markdown",
   "id": "7b9c4e87",
   "metadata": {},
   "source": [
    "## Get image properties all at once"
   ]
  },
  {
   "cell_type": "code",
   "execution_count": 9,
   "id": "f9dc2334",
   "metadata": {
    "tags": []
   },
   "outputs": [
    {
     "data": {
      "text/plain": [
       "{'CLOUD_COVER': 0.05,\n",
       " 'CLOUD_COVER_LAND': 0.06,\n",
       " 'EARTH_SUN_DISTANCE': 1.001791,\n",
       " 'ESPA_VERSION': '2_23_0_1b',\n",
       " 'GEOMETRIC_RMSE_MODEL': 6.678,\n",
       " 'GEOMETRIC_RMSE_MODEL_X': 4.663,\n",
       " 'GEOMETRIC_RMSE_MODEL_Y': 4.78,\n",
       " 'IMAGE_DATE': '2013-04-09',\n",
       " 'IMAGE_QUALITY_OLI': 9,\n",
       " 'IMAGE_QUALITY_TIRS': 9,\n",
       " 'LANDSAT_ID': 'LC08_L1TP_044034_20130409_20170310_01_T1',\n",
       " 'LEVEL1_PRODUCTION_DATE': 1489126619000,\n",
       " 'NOMINAL_SCALE': 30,\n",
       " 'PIXEL_QA_VERSION': 'generate_pixel_qa_1.6.0',\n",
       " 'SATELLITE': 'LANDSAT_8',\n",
       " 'SENSING_TIME': '2013-04-09T18:46:34.7579070Z',\n",
       " 'SOLAR_AZIMUTH_ANGLE': 142.742508,\n",
       " 'SOLAR_ZENITH_ANGLE': 34.973495,\n",
       " 'SR_APP_VERSION': 'LaSRC_1.3.0',\n",
       " 'WRS_PATH': 44,\n",
       " 'WRS_ROW': 34,\n",
       " 'system:asset_size': '558.682087 MB',\n",
       " 'system:band_names': ['B1',\n",
       "  'B2',\n",
       "  'B3',\n",
       "  'B4',\n",
       "  'B5',\n",
       "  'B6',\n",
       "  'B7',\n",
       "  'B10',\n",
       "  'B11',\n",
       "  'sr_aerosol',\n",
       "  'pixel_qa',\n",
       "  'radsat_qa'],\n",
       " 'system:id': 'LANDSAT/LC08/C01/T1_SR/LC08_044034_20130409',\n",
       " 'system:index': 'LC08_044034_20130409',\n",
       " 'system:time_end': '2013-04-09 18:46:34',\n",
       " 'system:time_start': '2013-04-09 18:46:34',\n",
       " 'system:version': 1581684730621653}"
      ]
     },
     "execution_count": 9,
     "metadata": {},
     "output_type": "execute_result"
    }
   ],
   "source": [
    "landsat_props = geemap.image_props(landsat)\n",
    "landsat_props.getInfo()"
   ]
  },
  {
   "cell_type": "code",
   "execution_count": 10,
   "id": "346f5438",
   "metadata": {
    "tags": []
   },
   "outputs": [
    {
     "data": {
      "text/plain": [
       "'2013-04-09'"
      ]
     },
     "execution_count": 10,
     "metadata": {},
     "output_type": "execute_result"
    }
   ],
   "source": [
    "landsat_props.get('IMAGE_DATE').getInfo()"
   ]
  },
  {
   "cell_type": "code",
   "execution_count": 11,
   "id": "da5d95df",
   "metadata": {
    "tags": []
   },
   "outputs": [
    {
     "data": {
      "text/plain": [
       "{'IMAGE_DATE': '2018-08-04',\n",
       " 'NOMINAL_SCALE': 0.6,\n",
       " 'system:asset_size': '507.744814 MB',\n",
       " 'system:band_names': ['R', 'G', 'B', 'N'],\n",
       " 'system:id': 'USDA/NAIP/DOQQ/m_3712213_sw_10_060_20180804_20190209',\n",
       " 'system:index': 'm_3712213_sw_10_060_20180804_20190209',\n",
       " 'system:time_end': '2018-08-04 00:00:00',\n",
       " 'system:time_start': '2018-08-04 00:00:00',\n",
       " 'system:version': 1585606585367435}"
      ]
     },
     "execution_count": 11,
     "metadata": {},
     "output_type": "execute_result"
    }
   ],
   "source": [
    "naip_props = geemap.image_props(naip)\n",
    "naip_props.getInfo()"
   ]
  },
  {
   "cell_type": "code",
   "execution_count": 12,
   "id": "8f5ff508",
   "metadata": {
    "tags": []
   },
   "outputs": [
    {
     "data": {
      "text/plain": [
       "0.6"
      ]
     },
     "execution_count": 12,
     "metadata": {},
     "output_type": "execute_result"
    }
   ],
   "source": [
    "naip_props.get('NOMINAL_SCALE').getInfo()"
   ]
  },
  {
   "cell_type": "markdown",
   "id": "58e341b3",
   "metadata": {},
   "source": [
    "## Get image descriptive statistics\n",
    "\n",
    "Including minimum, maximum, mean, standard deviation, and sum."
   ]
  },
  {
   "cell_type": "code",
   "execution_count": 13,
   "id": "acc48156",
   "metadata": {
    "tags": []
   },
   "outputs": [
    {
     "data": {
      "text/plain": [
       "{'max': {'B1': 7624,\n",
       "  'B10': 3155,\n",
       "  'B11': 3127,\n",
       "  'B2': 8471,\n",
       "  'B3': 9778,\n",
       "  'B4': 10679,\n",
       "  'B5': 11606,\n",
       "  'B6': 13054,\n",
       "  'B7': 12327,\n",
       "  'pixel_qa': 480,\n",
       "  'radsat_qa': 254,\n",
       "  'sr_aerosol': 228},\n",
       " 'mean': {'B1': 373.10984680942875,\n",
       "  'B10': 2933.4637979167583,\n",
       "  'B11': 2916.2783879093463,\n",
       "  'B2': 427.40213139234174,\n",
       "  'B3': 614.9744637045824,\n",
       "  'B4': 591.3781773385491,\n",
       "  'B5': 1954.1344781864761,\n",
       "  'B6': 1472.071307222312,\n",
       "  'B7': 996.8232780577416,\n",
       "  'pixel_qa': 322.8433703241347,\n",
       "  'radsat_qa': 0.00019878780091270898,\n",
       "  'sr_aerosol': 87.74885862483129},\n",
       " 'min': {'B1': -1432,\n",
       "  'B10': 2759,\n",
       "  'B11': 2702,\n",
       "  'B2': -1129,\n",
       "  'B3': -345,\n",
       "  'B4': -403,\n",
       "  'B5': 35,\n",
       "  'B6': 10,\n",
       "  'B7': 5,\n",
       "  'pixel_qa': 322,\n",
       "  'radsat_qa': 0,\n",
       "  'sr_aerosol': 8},\n",
       " 'std': {'B1': 201.9355685609457,\n",
       "  'B10': 67.57460806939051,\n",
       "  'B11': 63.85549758560136,\n",
       "  'B2': 230.81296623126636,\n",
       "  'B3': 296.8097076885089,\n",
       "  'B4': 393.63764571402265,\n",
       "  'B5': 1202.7937141588027,\n",
       "  'B6': 926.420271742664,\n",
       "  'B7': 729.0233711578251,\n",
       "  'pixel_qa': 4.9833065816273345,\n",
       "  'radsat_qa': 0.1664709111036373,\n",
       "  'sr_aerosol': 25.1855827242985},\n",
       " 'sum': {'B1': 1557981451.9372544,\n",
       "  'B10': 12249159935.513742,\n",
       "  'B11': 12177399433.172562,\n",
       "  'B2': 1784687804.2,\n",
       "  'B3': 2567926888.180393,\n",
       "  'B4': 2469396718.560784,\n",
       "  'B5': 8159809497.49804,\n",
       "  'B6': 6146875544.007842,\n",
       "  'B7': 4162399334.5490217,\n",
       "  'pixel_qa': 1347970027.027451,\n",
       "  'radsat_qa': 830,\n",
       "  'sr_aerosol': 366378380.98823535}}"
      ]
     },
     "execution_count": 13,
     "metadata": {},
     "output_type": "execute_result"
    }
   ],
   "source": [
    "landsat_stats = geemap.image_stats(landsat, scale=90)\n",
    "landsat_stats.getInfo()"
   ]
  },
  {
   "cell_type": "code",
   "execution_count": 14,
   "id": "9c4d3c1d",
   "metadata": {
    "tags": []
   },
   "outputs": [
    {
     "data": {
      "text/plain": [
       "{'max': {'B': 233, 'G': 233, 'N': 223, 'R': 229},\n",
       " 'mean': {'B': 114.4638137606029,\n",
       "  'G': 109.69790669773778,\n",
       "  'N': 90.02379690730004,\n",
       "  'R': 98.22685449511252},\n",
       " 'min': {'B': 49, 'G': 33, 'N': 1, 'R': 20},\n",
       " 'std': {'B': 36.49168534887196,\n",
       "  'G': 38.489676683171794,\n",
       "  'N': 46.037770089931975,\n",
       "  'R': 45.42471323713558},\n",
       " 'sum': {'B': 48679172.0627451,\n",
       "  'G': 46652327.05098021,\n",
       "  'N': 38285321.407842256,\n",
       "  'R': 41773917.835293904}}"
      ]
     },
     "execution_count": 14,
     "metadata": {},
     "output_type": "execute_result"
    }
   ],
   "source": [
    "naip_stats = geemap.image_stats(naip, scale=10)\n",
    "naip_stats.getInfo()"
   ]
  },
  {
   "cell_type": "code",
   "execution_count": null,
   "id": "7860b82c-145d-4f09-91ce-0f9106693c90",
   "metadata": {},
   "outputs": [],
   "source": []
  }
 ],
 "metadata": {
  "kernelspec": {
   "display_name": "Python 3 (ipykernel)",
   "language": "python",
   "name": "python3"
  },
  "language_info": {
   "codemirror_mode": {
    "name": "ipython",
    "version": 3
   },
   "file_extension": ".py",
   "mimetype": "text/x-python",
   "name": "python",
   "nbconvert_exporter": "python",
   "pygments_lexer": "ipython3",
   "version": "3.10.11"
  }
 },
 "nbformat": 4,
 "nbformat_minor": 5
}
