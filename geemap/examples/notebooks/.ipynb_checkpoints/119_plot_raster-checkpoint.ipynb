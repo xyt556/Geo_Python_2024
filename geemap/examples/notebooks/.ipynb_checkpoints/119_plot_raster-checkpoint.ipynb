{
 "cells": [
  {
   "cell_type": "markdown",
   "id": "710bed2f",
   "metadata": {},
   "source": [
    "[![image](https://colab.research.google.com/assets/colab-badge.svg)](https://githubtocolab.com/gee-community/geemap/blob/master/examples/notebooks/119_plot_raster.ipynb)\n",
    "[![image](https://mybinder.org/badge_logo.svg)](https://gishub.org/geemap-binder)\n",
    "\n",
    "Uncomment the following line to install [geemap](https://geemap.org) if needed."
   ]
  },
  {
   "cell_type": "code",
   "execution_count": null,
   "id": "902d8b74",
   "metadata": {},
   "outputs": [],
   "source": [
    "# !pip install -U geemap"
   ]
  },
  {
   "cell_type": "code",
   "execution_count": 1,
   "id": "856cf3c0",
   "metadata": {
    "tags": []
   },
   "outputs": [],
   "source": [
    "import os\n",
    "import geemap\n",
    "geemap.set_proxy(port='10792')"
   ]
  },
  {
   "cell_type": "markdown",
   "id": "b8c128ad",
   "metadata": {},
   "source": [
    "Download a sample dataset."
   ]
  },
  {
   "cell_type": "code",
   "execution_count": 2,
   "id": "64fd678b",
   "metadata": {
    "tags": []
   },
   "outputs": [],
   "source": [
    "url = 'https://github.com/giswqs/data/raw/main/raster/srtm90.tif'"
   ]
  },
  {
   "cell_type": "code",
   "execution_count": 5,
   "id": "d07e2f9f",
   "metadata": {
    "tags": []
   },
   "outputs": [],
   "source": [
    "image = './tmp/srtm90.tif'\n",
    "if not os.path.exists(image):\n",
    "    geemap.download_file(url, image)"
   ]
  },
  {
   "cell_type": "code",
   "execution_count": 9,
   "id": "d93e69a1",
   "metadata": {
    "tags": []
   },
   "outputs": [
    {
     "name": "stdout",
     "output_type": "stream",
     "text": [
      "Unexpected exception formatting exception. Falling back to standard exception\n"
     ]
    },
    {
     "name": "stderr",
     "output_type": "stream",
     "text": [
      "Traceback (most recent call last):\n",
      "  File \"E:\\Geo_Data\\venv\\lib\\site-packages\\geemap\\common.py\", line 12800, in plot_raster\n",
      "    import pvxarray\n",
      "ModuleNotFoundError: No module named 'pvxarray'\n",
      "\n",
      "During handling of the above exception, another exception occurred:\n",
      "\n",
      "Traceback (most recent call last):\n",
      "  File \"E:\\Geo_Data\\venv\\lib\\site-packages\\IPython\\core\\interactiveshell.py\", line 3505, in run_code\n",
      "    exec(code_obj, self.user_global_ns, self.user_ns)\n",
      "  File \"C:\\Users\\xyt55\\AppData\\Local\\Temp\\ipykernel_30140\\1343807321.py\", line 1, in <module>\n",
      "    geemap.plot_raster('./tmp/srtm90.tif', cmap='terrain', figsize=(15, 10))\n",
      "  File \"E:\\Geo_Data\\venv\\lib\\site-packages\\geemap\\common.py\", line 12804, in plot_raster\n",
      "    raise ImportError(\n",
      "ImportError: pyxarray and rioxarray are required for plotting. Please install them using 'pip install rioxarray pyvista-xarray'.\n",
      "\n",
      "During handling of the above exception, another exception occurred:\n",
      "\n",
      "Traceback (most recent call last):\n",
      "  File \"E:\\Geo_Data\\venv\\lib\\site-packages\\IPython\\core\\interactiveshell.py\", line 2102, in showtraceback\n",
      "    stb = self.InteractiveTB.structured_traceback(\n",
      "  File \"E:\\Geo_Data\\venv\\lib\\site-packages\\IPython\\core\\ultratb.py\", line 1310, in structured_traceback\n",
      "    return FormattedTB.structured_traceback(\n",
      "  File \"E:\\Geo_Data\\venv\\lib\\site-packages\\IPython\\core\\ultratb.py\", line 1199, in structured_traceback\n",
      "    return VerboseTB.structured_traceback(\n",
      "  File \"E:\\Geo_Data\\venv\\lib\\site-packages\\IPython\\core\\ultratb.py\", line 1071, in structured_traceback\n",
      "    formatted_exceptions += self.format_exception_as_a_whole(etype, evalue, etb, lines_of_context,\n",
      "  File \"E:\\Geo_Data\\venv\\lib\\site-packages\\IPython\\core\\ultratb.py\", line 978, in format_exception_as_a_whole\n",
      "    frames.append(self.format_record(record))\n",
      "  File \"E:\\Geo_Data\\venv\\lib\\site-packages\\IPython\\core\\ultratb.py\", line 851, in format_record\n",
      "    assert False\n",
      "AssertionError\n"
     ]
    }
   ],
   "source": [
    "geemap.plot_raster('./tmp/srtm90.tif', cmap='terrain', figsize=(15, 10))"
   ]
  },
  {
   "cell_type": "code",
   "execution_count": null,
   "id": "93b0cd71-fee1-4484-a3d5-596bfd658ab0",
   "metadata": {},
   "outputs": [],
   "source": []
  },
  {
   "cell_type": "code",
   "execution_count": null,
   "id": "228c6911-c35e-4b89-a276-ef0a115a4835",
   "metadata": {},
   "outputs": [],
   "source": []
  },
  {
   "cell_type": "markdown",
   "id": "f9082102",
   "metadata": {},
   "source": [
    "Plot the raster image in 2D."
   ]
  },
  {
   "cell_type": "markdown",
   "id": "a9ed0909",
   "metadata": {},
   "source": [
    "![](https://i.imgur.com/oDoivba.png)"
   ]
  },
  {
   "cell_type": "markdown",
   "id": "8eccde65",
   "metadata": {},
   "source": [
    "Plot the raster image in 3D."
   ]
  },
  {
   "cell_type": "code",
   "execution_count": 11,
   "id": "c8337cd3",
   "metadata": {
    "tags": []
   },
   "outputs": [
    {
     "name": "stdout",
     "output_type": "stream",
     "text": [
      "Unexpected exception formatting exception. Falling back to standard exception\n"
     ]
    },
    {
     "name": "stderr",
     "output_type": "stream",
     "text": [
      "Traceback (most recent call last):\n",
      "  File \"E:\\Geo_Data\\venv\\lib\\site-packages\\geemap\\common.py\", line 12863, in plot_raster_3d\n",
      "    import pvxarray\n",
      "ModuleNotFoundError: No module named 'pvxarray'\n",
      "\n",
      "During handling of the above exception, another exception occurred:\n",
      "\n",
      "Traceback (most recent call last):\n",
      "  File \"E:\\Geo_Data\\venv\\lib\\site-packages\\IPython\\core\\interactiveshell.py\", line 3505, in run_code\n",
      "    exec(code_obj, self.user_global_ns, self.user_ns)\n",
      "  File \"C:\\Users\\xyt55\\AppData\\Local\\Temp\\ipykernel_30140\\156816535.py\", line 1, in <module>\n",
      "    geemap.plot_raster_3d(r\"E:\\Geo_Data\\geemap\\examples\\notebooks\\tmp\\srtm90.tif\", factor=2, cmap='terrain', background='gray')\n",
      "  File \"E:\\Geo_Data\\venv\\lib\\site-packages\\geemap\\common.py\", line 12868, in plot_raster_3d\n",
      "    raise ImportError(\n",
      "ImportError: pyxarray and rioxarray are required for plotting. Please install them using 'pip install rioxarray pyvista-xarray'.\n",
      "\n",
      "During handling of the above exception, another exception occurred:\n",
      "\n",
      "Traceback (most recent call last):\n",
      "  File \"E:\\Geo_Data\\venv\\lib\\site-packages\\IPython\\core\\interactiveshell.py\", line 2102, in showtraceback\n",
      "    stb = self.InteractiveTB.structured_traceback(\n",
      "  File \"E:\\Geo_Data\\venv\\lib\\site-packages\\IPython\\core\\ultratb.py\", line 1310, in structured_traceback\n",
      "    return FormattedTB.structured_traceback(\n",
      "  File \"E:\\Geo_Data\\venv\\lib\\site-packages\\IPython\\core\\ultratb.py\", line 1199, in structured_traceback\n",
      "    return VerboseTB.structured_traceback(\n",
      "  File \"E:\\Geo_Data\\venv\\lib\\site-packages\\IPython\\core\\ultratb.py\", line 1071, in structured_traceback\n",
      "    formatted_exceptions += self.format_exception_as_a_whole(etype, evalue, etb, lines_of_context,\n",
      "  File \"E:\\Geo_Data\\venv\\lib\\site-packages\\IPython\\core\\ultratb.py\", line 978, in format_exception_as_a_whole\n",
      "    frames.append(self.format_record(record))\n",
      "  File \"E:\\Geo_Data\\venv\\lib\\site-packages\\IPython\\core\\ultratb.py\", line 851, in format_record\n",
      "    assert False\n",
      "AssertionError\n"
     ]
    }
   ],
   "source": [
    "geemap.plot_raster_3d(r\"E:\\Geo_Data\\geemap\\examples\\notebooks\\tmp\\srtm90.tif\", factor=2, cmap='terrain', background='gray')"
   ]
  },
  {
   "cell_type": "markdown",
   "id": "9402b29f",
   "metadata": {},
   "source": [
    "![](https://i.imgur.com/UQDbV2G.gif)"
   ]
  },
  {
   "cell_type": "code",
   "execution_count": null,
   "id": "3e13c74b-c8b7-43cb-aa43-e9ee56e5048f",
   "metadata": {},
   "outputs": [],
   "source": []
  }
 ],
 "metadata": {
  "kernelspec": {
   "display_name": "Python 3 (ipykernel)",
   "language": "python",
   "name": "python3"
  },
  "language_info": {
   "codemirror_mode": {
    "name": "ipython",
    "version": 3
   },
   "file_extension": ".py",
   "mimetype": "text/x-python",
   "name": "python",
   "nbconvert_exporter": "python",
   "pygments_lexer": "ipython3",
   "version": "3.10.11"
  }
 },
 "nbformat": 4,
 "nbformat_minor": 5
}
