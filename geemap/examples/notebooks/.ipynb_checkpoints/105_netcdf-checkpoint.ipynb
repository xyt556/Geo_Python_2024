{
 "cells": [
  {
   "cell_type": "markdown",
   "id": "d766ae47",
   "metadata": {},
   "source": [
    "[![image](https://colab.research.google.com/assets/colab-badge.svg)](https://githubtocolab.com/gee-community/geemap/blob/master/examples/notebooks/105_netcdf.ipynb)\n",
    "[![image](https://mybinder.org/badge_logo.svg)](https://gishub.org/geemap-binder)\n",
    "\n",
    "**Visualizing NetCDF data**\n",
    "\n",
    "Uncomment the following line to install [geemap](https://geemap.org) if needed."
   ]
  },
  {
   "cell_type": "code",
   "execution_count": null,
   "id": "d12de2a0",
   "metadata": {},
   "outputs": [],
   "source": [
    "# !pip install geemap xarray rioxarray netcdf4 localtileserver"
   ]
  },
  {
   "cell_type": "code",
   "execution_count": 10,
   "id": "f84555eb",
   "metadata": {
    "tags": []
   },
   "outputs": [],
   "source": [
    "import geemap\n",
    "geemap.set_proxy(port='10792')"
   ]
  },
  {
   "cell_type": "markdown",
   "id": "82167d9f",
   "metadata": {},
   "source": [
    "Download a sample NetCDF dataset."
   ]
  },
  {
   "cell_type": "code",
   "execution_count": 11,
   "id": "1e8649a2",
   "metadata": {
    "tags": []
   },
   "outputs": [],
   "source": [
    "url = 'https://github.com/giswqs/leafmap/raw/master/examples/data/wind_global.nc'\n",
    "filename = './tmp/wind_global.nc'"
   ]
  },
  {
   "cell_type": "code",
   "execution_count": 12,
   "id": "bb471ecf",
   "metadata": {
    "tags": []
   },
   "outputs": [
    {
     "name": "stdout",
     "output_type": "stream",
     "text": [
      "./tmp/wind_global.nc already exists. Skip downloading. Set overwrite=True to overwrite.\n"
     ]
    },
    {
     "data": {
      "text/plain": [
       "'E:\\\\Geo_Data\\\\geemap\\\\examples\\\\notebooks\\\\tmp\\\\wind_global.nc'"
      ]
     },
     "execution_count": 12,
     "metadata": {},
     "output_type": "execute_result"
    }
   ],
   "source": [
    "geemap.download_file(url, output=filename)"
   ]
  },
  {
   "cell_type": "markdown",
   "id": "5f1f6dec",
   "metadata": {},
   "source": [
    "Read the NetCDF dataset."
   ]
  },
  {
   "cell_type": "code",
   "execution_count": 13,
   "id": "d4ad08e5",
   "metadata": {
    "tags": []
   },
   "outputs": [
    {
     "data": {
      "text/html": [
       "<div><svg style=\"position: absolute; width: 0; height: 0; overflow: hidden\">\n",
       "<defs>\n",
       "<symbol id=\"icon-database\" viewBox=\"0 0 32 32\">\n",
       "<path d=\"M16 0c-8.837 0-16 2.239-16 5v4c0 2.761 7.163 5 16 5s16-2.239 16-5v-4c0-2.761-7.163-5-16-5z\"></path>\n",
       "<path d=\"M16 17c-8.837 0-16-2.239-16-5v6c0 2.761 7.163 5 16 5s16-2.239 16-5v-6c0 2.761-7.163 5-16 5z\"></path>\n",
       "<path d=\"M16 26c-8.837 0-16-2.239-16-5v6c0 2.761 7.163 5 16 5s16-2.239 16-5v-6c0 2.761-7.163 5-16 5z\"></path>\n",
       "</symbol>\n",
       "<symbol id=\"icon-file-text2\" viewBox=\"0 0 32 32\">\n",
       "<path d=\"M28.681 7.159c-0.694-0.947-1.662-2.053-2.724-3.116s-2.169-2.030-3.116-2.724c-1.612-1.182-2.393-1.319-2.841-1.319h-15.5c-1.378 0-2.5 1.121-2.5 2.5v27c0 1.378 1.122 2.5 2.5 2.5h23c1.378 0 2.5-1.122 2.5-2.5v-19.5c0-0.448-0.137-1.23-1.319-2.841zM24.543 5.457c0.959 0.959 1.712 1.825 2.268 2.543h-4.811v-4.811c0.718 0.556 1.584 1.309 2.543 2.268zM28 29.5c0 0.271-0.229 0.5-0.5 0.5h-23c-0.271 0-0.5-0.229-0.5-0.5v-27c0-0.271 0.229-0.5 0.5-0.5 0 0 15.499-0 15.5 0v7c0 0.552 0.448 1 1 1h7v19.5z\"></path>\n",
       "<path d=\"M23 26h-14c-0.552 0-1-0.448-1-1s0.448-1 1-1h14c0.552 0 1 0.448 1 1s-0.448 1-1 1z\"></path>\n",
       "<path d=\"M23 22h-14c-0.552 0-1-0.448-1-1s0.448-1 1-1h14c0.552 0 1 0.448 1 1s-0.448 1-1 1z\"></path>\n",
       "<path d=\"M23 18h-14c-0.552 0-1-0.448-1-1s0.448-1 1-1h14c0.552 0 1 0.448 1 1s-0.448 1-1 1z\"></path>\n",
       "</symbol>\n",
       "</defs>\n",
       "</svg>\n",
       "<style>/* CSS stylesheet for displaying xarray objects in jupyterlab.\n",
       " *\n",
       " */\n",
       "\n",
       ":root {\n",
       "  --xr-font-color0: var(--jp-content-font-color0, rgba(0, 0, 0, 1));\n",
       "  --xr-font-color2: var(--jp-content-font-color2, rgba(0, 0, 0, 0.54));\n",
       "  --xr-font-color3: var(--jp-content-font-color3, rgba(0, 0, 0, 0.38));\n",
       "  --xr-border-color: var(--jp-border-color2, #e0e0e0);\n",
       "  --xr-disabled-color: var(--jp-layout-color3, #bdbdbd);\n",
       "  --xr-background-color: var(--jp-layout-color0, white);\n",
       "  --xr-background-color-row-even: var(--jp-layout-color1, white);\n",
       "  --xr-background-color-row-odd: var(--jp-layout-color2, #eeeeee);\n",
       "}\n",
       "\n",
       "html[theme=dark],\n",
       "body[data-theme=dark],\n",
       "body.vscode-dark {\n",
       "  --xr-font-color0: rgba(255, 255, 255, 1);\n",
       "  --xr-font-color2: rgba(255, 255, 255, 0.54);\n",
       "  --xr-font-color3: rgba(255, 255, 255, 0.38);\n",
       "  --xr-border-color: #1F1F1F;\n",
       "  --xr-disabled-color: #515151;\n",
       "  --xr-background-color: #111111;\n",
       "  --xr-background-color-row-even: #111111;\n",
       "  --xr-background-color-row-odd: #313131;\n",
       "}\n",
       "\n",
       ".xr-wrap {\n",
       "  display: block !important;\n",
       "  min-width: 300px;\n",
       "  max-width: 700px;\n",
       "}\n",
       "\n",
       ".xr-text-repr-fallback {\n",
       "  /* fallback to plain text repr when CSS is not injected (untrusted notebook) */\n",
       "  display: none;\n",
       "}\n",
       "\n",
       ".xr-header {\n",
       "  padding-top: 6px;\n",
       "  padding-bottom: 6px;\n",
       "  margin-bottom: 4px;\n",
       "  border-bottom: solid 1px var(--xr-border-color);\n",
       "}\n",
       "\n",
       ".xr-header > div,\n",
       ".xr-header > ul {\n",
       "  display: inline;\n",
       "  margin-top: 0;\n",
       "  margin-bottom: 0;\n",
       "}\n",
       "\n",
       ".xr-obj-type,\n",
       ".xr-array-name {\n",
       "  margin-left: 2px;\n",
       "  margin-right: 10px;\n",
       "}\n",
       "\n",
       ".xr-obj-type {\n",
       "  color: var(--xr-font-color2);\n",
       "}\n",
       "\n",
       ".xr-sections {\n",
       "  padding-left: 0 !important;\n",
       "  display: grid;\n",
       "  grid-template-columns: 150px auto auto 1fr 20px 20px;\n",
       "}\n",
       "\n",
       ".xr-section-item {\n",
       "  display: contents;\n",
       "}\n",
       "\n",
       ".xr-section-item input {\n",
       "  display: none;\n",
       "}\n",
       "\n",
       ".xr-section-item input + label {\n",
       "  color: var(--xr-disabled-color);\n",
       "}\n",
       "\n",
       ".xr-section-item input:enabled + label {\n",
       "  cursor: pointer;\n",
       "  color: var(--xr-font-color2);\n",
       "}\n",
       "\n",
       ".xr-section-item input:enabled + label:hover {\n",
       "  color: var(--xr-font-color0);\n",
       "}\n",
       "\n",
       ".xr-section-summary {\n",
       "  grid-column: 1;\n",
       "  color: var(--xr-font-color2);\n",
       "  font-weight: 500;\n",
       "}\n",
       "\n",
       ".xr-section-summary > span {\n",
       "  display: inline-block;\n",
       "  padding-left: 0.5em;\n",
       "}\n",
       "\n",
       ".xr-section-summary-in:disabled + label {\n",
       "  color: var(--xr-font-color2);\n",
       "}\n",
       "\n",
       ".xr-section-summary-in + label:before {\n",
       "  display: inline-block;\n",
       "  content: '►';\n",
       "  font-size: 11px;\n",
       "  width: 15px;\n",
       "  text-align: center;\n",
       "}\n",
       "\n",
       ".xr-section-summary-in:disabled + label:before {\n",
       "  color: var(--xr-disabled-color);\n",
       "}\n",
       "\n",
       ".xr-section-summary-in:checked + label:before {\n",
       "  content: '▼';\n",
       "}\n",
       "\n",
       ".xr-section-summary-in:checked + label > span {\n",
       "  display: none;\n",
       "}\n",
       "\n",
       ".xr-section-summary,\n",
       ".xr-section-inline-details {\n",
       "  padding-top: 4px;\n",
       "  padding-bottom: 4px;\n",
       "}\n",
       "\n",
       ".xr-section-inline-details {\n",
       "  grid-column: 2 / -1;\n",
       "}\n",
       "\n",
       ".xr-section-details {\n",
       "  display: none;\n",
       "  grid-column: 1 / -1;\n",
       "  margin-bottom: 5px;\n",
       "}\n",
       "\n",
       ".xr-section-summary-in:checked ~ .xr-section-details {\n",
       "  display: contents;\n",
       "}\n",
       "\n",
       ".xr-array-wrap {\n",
       "  grid-column: 1 / -1;\n",
       "  display: grid;\n",
       "  grid-template-columns: 20px auto;\n",
       "}\n",
       "\n",
       ".xr-array-wrap > label {\n",
       "  grid-column: 1;\n",
       "  vertical-align: top;\n",
       "}\n",
       "\n",
       ".xr-preview {\n",
       "  color: var(--xr-font-color3);\n",
       "}\n",
       "\n",
       ".xr-array-preview,\n",
       ".xr-array-data {\n",
       "  padding: 0 5px !important;\n",
       "  grid-column: 2;\n",
       "}\n",
       "\n",
       ".xr-array-data,\n",
       ".xr-array-in:checked ~ .xr-array-preview {\n",
       "  display: none;\n",
       "}\n",
       "\n",
       ".xr-array-in:checked ~ .xr-array-data,\n",
       ".xr-array-preview {\n",
       "  display: inline-block;\n",
       "}\n",
       "\n",
       ".xr-dim-list {\n",
       "  display: inline-block !important;\n",
       "  list-style: none;\n",
       "  padding: 0 !important;\n",
       "  margin: 0;\n",
       "}\n",
       "\n",
       ".xr-dim-list li {\n",
       "  display: inline-block;\n",
       "  padding: 0;\n",
       "  margin: 0;\n",
       "}\n",
       "\n",
       ".xr-dim-list:before {\n",
       "  content: '(';\n",
       "}\n",
       "\n",
       ".xr-dim-list:after {\n",
       "  content: ')';\n",
       "}\n",
       "\n",
       ".xr-dim-list li:not(:last-child):after {\n",
       "  content: ',';\n",
       "  padding-right: 5px;\n",
       "}\n",
       "\n",
       ".xr-has-index {\n",
       "  font-weight: bold;\n",
       "}\n",
       "\n",
       ".xr-var-list,\n",
       ".xr-var-item {\n",
       "  display: contents;\n",
       "}\n",
       "\n",
       ".xr-var-item > div,\n",
       ".xr-var-item label,\n",
       ".xr-var-item > .xr-var-name span {\n",
       "  background-color: var(--xr-background-color-row-even);\n",
       "  margin-bottom: 0;\n",
       "}\n",
       "\n",
       ".xr-var-item > .xr-var-name:hover span {\n",
       "  padding-right: 5px;\n",
       "}\n",
       "\n",
       ".xr-var-list > li:nth-child(odd) > div,\n",
       ".xr-var-list > li:nth-child(odd) > label,\n",
       ".xr-var-list > li:nth-child(odd) > .xr-var-name span {\n",
       "  background-color: var(--xr-background-color-row-odd);\n",
       "}\n",
       "\n",
       ".xr-var-name {\n",
       "  grid-column: 1;\n",
       "}\n",
       "\n",
       ".xr-var-dims {\n",
       "  grid-column: 2;\n",
       "}\n",
       "\n",
       ".xr-var-dtype {\n",
       "  grid-column: 3;\n",
       "  text-align: right;\n",
       "  color: var(--xr-font-color2);\n",
       "}\n",
       "\n",
       ".xr-var-preview {\n",
       "  grid-column: 4;\n",
       "}\n",
       "\n",
       ".xr-index-preview {\n",
       "  grid-column: 2 / 5;\n",
       "  color: var(--xr-font-color2);\n",
       "}\n",
       "\n",
       ".xr-var-name,\n",
       ".xr-var-dims,\n",
       ".xr-var-dtype,\n",
       ".xr-preview,\n",
       ".xr-attrs dt {\n",
       "  white-space: nowrap;\n",
       "  overflow: hidden;\n",
       "  text-overflow: ellipsis;\n",
       "  padding-right: 10px;\n",
       "}\n",
       "\n",
       ".xr-var-name:hover,\n",
       ".xr-var-dims:hover,\n",
       ".xr-var-dtype:hover,\n",
       ".xr-attrs dt:hover {\n",
       "  overflow: visible;\n",
       "  width: auto;\n",
       "  z-index: 1;\n",
       "}\n",
       "\n",
       ".xr-var-attrs,\n",
       ".xr-var-data,\n",
       ".xr-index-data {\n",
       "  display: none;\n",
       "  background-color: var(--xr-background-color) !important;\n",
       "  padding-bottom: 5px !important;\n",
       "}\n",
       "\n",
       ".xr-var-attrs-in:checked ~ .xr-var-attrs,\n",
       ".xr-var-data-in:checked ~ .xr-var-data,\n",
       ".xr-index-data-in:checked ~ .xr-index-data {\n",
       "  display: block;\n",
       "}\n",
       "\n",
       ".xr-var-data > table {\n",
       "  float: right;\n",
       "}\n",
       "\n",
       ".xr-var-name span,\n",
       ".xr-var-data,\n",
       ".xr-index-name div,\n",
       ".xr-index-data,\n",
       ".xr-attrs {\n",
       "  padding-left: 25px !important;\n",
       "}\n",
       "\n",
       ".xr-attrs,\n",
       ".xr-var-attrs,\n",
       ".xr-var-data,\n",
       ".xr-index-data {\n",
       "  grid-column: 1 / -1;\n",
       "}\n",
       "\n",
       "dl.xr-attrs {\n",
       "  padding: 0;\n",
       "  margin: 0;\n",
       "  display: grid;\n",
       "  grid-template-columns: 125px auto;\n",
       "}\n",
       "\n",
       ".xr-attrs dt,\n",
       ".xr-attrs dd {\n",
       "  padding: 0;\n",
       "  margin: 0;\n",
       "  float: left;\n",
       "  padding-right: 10px;\n",
       "  width: auto;\n",
       "}\n",
       "\n",
       ".xr-attrs dt {\n",
       "  font-weight: normal;\n",
       "  grid-column: 1;\n",
       "}\n",
       "\n",
       ".xr-attrs dt:hover span {\n",
       "  display: inline-block;\n",
       "  background: var(--xr-background-color);\n",
       "  padding-right: 10px;\n",
       "}\n",
       "\n",
       ".xr-attrs dd {\n",
       "  grid-column: 2;\n",
       "  white-space: pre-wrap;\n",
       "  word-break: break-all;\n",
       "}\n",
       "\n",
       ".xr-icon-database,\n",
       ".xr-icon-file-text2,\n",
       ".xr-no-icon {\n",
       "  display: inline-block;\n",
       "  vertical-align: middle;\n",
       "  width: 1em;\n",
       "  height: 1.5em !important;\n",
       "  stroke-width: 0;\n",
       "  stroke: currentColor;\n",
       "  fill: currentColor;\n",
       "}\n",
       "</style><pre class='xr-text-repr-fallback'>&lt;xarray.Dataset&gt;\n",
       "Dimensions:  (lat: 181, lon: 360)\n",
       "Coordinates:\n",
       "  * lat      (lat) float64 90.0 89.0 88.0 87.0 86.0 ... -87.0 -88.0 -89.0 -90.0\n",
       "  * lon      (lon) float64 0.0 1.0 2.0 3.0 4.0 ... 355.0 356.0 357.0 358.0 359.0\n",
       "Data variables:\n",
       "    u_wind   (lat, lon) float64 ...\n",
       "    v_wind   (lat, lon) float64 ...\n",
       "Attributes:\n",
       "    centerName:      US National Weather Service - NCEP(WMC)\n",
       "    disciplineName:  Meteorological products\n",
       "    refTime:         2016-04-30T06:00:00.000Z</pre><div class='xr-wrap' style='display:none'><div class='xr-header'><div class='xr-obj-type'>xarray.Dataset</div></div><ul class='xr-sections'><li class='xr-section-item'><input id='section-d34fcf3f-4fb1-4482-b8d9-9d8f0356f066' class='xr-section-summary-in' type='checkbox' disabled ><label for='section-d34fcf3f-4fb1-4482-b8d9-9d8f0356f066' class='xr-section-summary'  title='Expand/collapse section'>Dimensions:</label><div class='xr-section-inline-details'><ul class='xr-dim-list'><li><span class='xr-has-index'>lat</span>: 181</li><li><span class='xr-has-index'>lon</span>: 360</li></ul></div><div class='xr-section-details'></div></li><li class='xr-section-item'><input id='section-3f7ee27d-163d-4f67-8f65-fb2910fb6b8d' class='xr-section-summary-in' type='checkbox'  checked><label for='section-3f7ee27d-163d-4f67-8f65-fb2910fb6b8d' class='xr-section-summary' >Coordinates: <span>(2)</span></label><div class='xr-section-inline-details'></div><div class='xr-section-details'><ul class='xr-var-list'><li class='xr-var-item'><div class='xr-var-name'><span class='xr-has-index'>lat</span></div><div class='xr-var-dims'>(lat)</div><div class='xr-var-dtype'>float64</div><div class='xr-var-preview xr-preview'>90.0 89.0 88.0 ... -89.0 -90.0</div><input id='attrs-001ad2c8-8e0c-4337-9469-97df6539b944' class='xr-var-attrs-in' type='checkbox' disabled><label for='attrs-001ad2c8-8e0c-4337-9469-97df6539b944' title='Show/Hide attributes'><svg class='icon xr-icon-file-text2'><use xlink:href='#icon-file-text2'></use></svg></label><input id='data-5c525b7c-baf4-4065-b5a0-37a66bcb090f' class='xr-var-data-in' type='checkbox'><label for='data-5c525b7c-baf4-4065-b5a0-37a66bcb090f' title='Show/Hide data repr'><svg class='icon xr-icon-database'><use xlink:href='#icon-database'></use></svg></label><div class='xr-var-attrs'><dl class='xr-attrs'></dl></div><div class='xr-var-data'><pre>array([ 90.,  89.,  88.,  87.,  86.,  85.,  84.,  83.,  82.,  81.,  80.,  79.,\n",
       "        78.,  77.,  76.,  75.,  74.,  73.,  72.,  71.,  70.,  69.,  68.,  67.,\n",
       "        66.,  65.,  64.,  63.,  62.,  61.,  60.,  59.,  58.,  57.,  56.,  55.,\n",
       "        54.,  53.,  52.,  51.,  50.,  49.,  48.,  47.,  46.,  45.,  44.,  43.,\n",
       "        42.,  41.,  40.,  39.,  38.,  37.,  36.,  35.,  34.,  33.,  32.,  31.,\n",
       "        30.,  29.,  28.,  27.,  26.,  25.,  24.,  23.,  22.,  21.,  20.,  19.,\n",
       "        18.,  17.,  16.,  15.,  14.,  13.,  12.,  11.,  10.,   9.,   8.,   7.,\n",
       "         6.,   5.,   4.,   3.,   2.,   1.,   0.,  -1.,  -2.,  -3.,  -4.,  -5.,\n",
       "        -6.,  -7.,  -8.,  -9., -10., -11., -12., -13., -14., -15., -16., -17.,\n",
       "       -18., -19., -20., -21., -22., -23., -24., -25., -26., -27., -28., -29.,\n",
       "       -30., -31., -32., -33., -34., -35., -36., -37., -38., -39., -40., -41.,\n",
       "       -42., -43., -44., -45., -46., -47., -48., -49., -50., -51., -52., -53.,\n",
       "       -54., -55., -56., -57., -58., -59., -60., -61., -62., -63., -64., -65.,\n",
       "       -66., -67., -68., -69., -70., -71., -72., -73., -74., -75., -76., -77.,\n",
       "       -78., -79., -80., -81., -82., -83., -84., -85., -86., -87., -88., -89.,\n",
       "       -90.])</pre></div></li><li class='xr-var-item'><div class='xr-var-name'><span class='xr-has-index'>lon</span></div><div class='xr-var-dims'>(lon)</div><div class='xr-var-dtype'>float64</div><div class='xr-var-preview xr-preview'>0.0 1.0 2.0 ... 357.0 358.0 359.0</div><input id='attrs-59877f45-4877-4334-b17e-27342227bd05' class='xr-var-attrs-in' type='checkbox' disabled><label for='attrs-59877f45-4877-4334-b17e-27342227bd05' title='Show/Hide attributes'><svg class='icon xr-icon-file-text2'><use xlink:href='#icon-file-text2'></use></svg></label><input id='data-6b4b10bb-ac5d-4d46-9f59-4f75c6d63bdc' class='xr-var-data-in' type='checkbox'><label for='data-6b4b10bb-ac5d-4d46-9f59-4f75c6d63bdc' title='Show/Hide data repr'><svg class='icon xr-icon-database'><use xlink:href='#icon-database'></use></svg></label><div class='xr-var-attrs'><dl class='xr-attrs'></dl></div><div class='xr-var-data'><pre>array([  0.,   1.,   2., ..., 357., 358., 359.])</pre></div></li></ul></div></li><li class='xr-section-item'><input id='section-d7c3b534-0ab4-4de6-9c0d-73203d6d1542' class='xr-section-summary-in' type='checkbox'  checked><label for='section-d7c3b534-0ab4-4de6-9c0d-73203d6d1542' class='xr-section-summary' >Data variables: <span>(2)</span></label><div class='xr-section-inline-details'></div><div class='xr-section-details'><ul class='xr-var-list'><li class='xr-var-item'><div class='xr-var-name'><span>u_wind</span></div><div class='xr-var-dims'>(lat, lon)</div><div class='xr-var-dtype'>float64</div><div class='xr-var-preview xr-preview'>...</div><input id='attrs-0935eeb2-3bee-4ff5-9cd1-510059485595' class='xr-var-attrs-in' type='checkbox' disabled><label for='attrs-0935eeb2-3bee-4ff5-9cd1-510059485595' title='Show/Hide attributes'><svg class='icon xr-icon-file-text2'><use xlink:href='#icon-file-text2'></use></svg></label><input id='data-3fbf79e9-73a7-4db5-a1b8-ffbc61612112' class='xr-var-data-in' type='checkbox'><label for='data-3fbf79e9-73a7-4db5-a1b8-ffbc61612112' title='Show/Hide data repr'><svg class='icon xr-icon-database'><use xlink:href='#icon-database'></use></svg></label><div class='xr-var-attrs'><dl class='xr-attrs'></dl></div><div class='xr-var-data'><pre>[65160 values with dtype=float64]</pre></div></li><li class='xr-var-item'><div class='xr-var-name'><span>v_wind</span></div><div class='xr-var-dims'>(lat, lon)</div><div class='xr-var-dtype'>float64</div><div class='xr-var-preview xr-preview'>...</div><input id='attrs-c1da1fca-dccf-44b7-bd9f-55d0b4bd411a' class='xr-var-attrs-in' type='checkbox' disabled><label for='attrs-c1da1fca-dccf-44b7-bd9f-55d0b4bd411a' title='Show/Hide attributes'><svg class='icon xr-icon-file-text2'><use xlink:href='#icon-file-text2'></use></svg></label><input id='data-f52a0e00-d96f-47d0-b8c7-950d36e3a32a' class='xr-var-data-in' type='checkbox'><label for='data-f52a0e00-d96f-47d0-b8c7-950d36e3a32a' title='Show/Hide data repr'><svg class='icon xr-icon-database'><use xlink:href='#icon-database'></use></svg></label><div class='xr-var-attrs'><dl class='xr-attrs'></dl></div><div class='xr-var-data'><pre>[65160 values with dtype=float64]</pre></div></li></ul></div></li><li class='xr-section-item'><input id='section-7f6dd2e6-f46c-4402-a0eb-d382dbdd24f1' class='xr-section-summary-in' type='checkbox'  ><label for='section-7f6dd2e6-f46c-4402-a0eb-d382dbdd24f1' class='xr-section-summary' >Indexes: <span>(2)</span></label><div class='xr-section-inline-details'></div><div class='xr-section-details'><ul class='xr-var-list'><li class='xr-var-item'><div class='xr-index-name'><div>lat</div></div><div class='xr-index-preview'>PandasIndex</div><div></div><input id='index-d4843984-93bf-4680-af98-eab3eeb5f38b' class='xr-index-data-in' type='checkbox'/><label for='index-d4843984-93bf-4680-af98-eab3eeb5f38b' title='Show/Hide index repr'><svg class='icon xr-icon-database'><use xlink:href='#icon-database'></use></svg></label><div class='xr-index-data'><pre>PandasIndex(Float64Index([ 90.0,  89.0,  88.0,  87.0,  86.0,  85.0,  84.0,  83.0,  82.0,\n",
       "               81.0,\n",
       "              ...\n",
       "              -81.0, -82.0, -83.0, -84.0, -85.0, -86.0, -87.0, -88.0, -89.0,\n",
       "              -90.0],\n",
       "             dtype=&#x27;float64&#x27;, name=&#x27;lat&#x27;, length=181))</pre></div></li><li class='xr-var-item'><div class='xr-index-name'><div>lon</div></div><div class='xr-index-preview'>PandasIndex</div><div></div><input id='index-cdb96f41-9c9f-49e0-99b6-bc7a97b16d23' class='xr-index-data-in' type='checkbox'/><label for='index-cdb96f41-9c9f-49e0-99b6-bc7a97b16d23' title='Show/Hide index repr'><svg class='icon xr-icon-database'><use xlink:href='#icon-database'></use></svg></label><div class='xr-index-data'><pre>PandasIndex(Float64Index([  0.0,   1.0,   2.0,   3.0,   4.0,   5.0,   6.0,   7.0,   8.0,\n",
       "                9.0,\n",
       "              ...\n",
       "              350.0, 351.0, 352.0, 353.0, 354.0, 355.0, 356.0, 357.0, 358.0,\n",
       "              359.0],\n",
       "             dtype=&#x27;float64&#x27;, name=&#x27;lon&#x27;, length=360))</pre></div></li></ul></div></li><li class='xr-section-item'><input id='section-68cd24f8-0c31-4c7a-9f68-29eee7eac680' class='xr-section-summary-in' type='checkbox'  checked><label for='section-68cd24f8-0c31-4c7a-9f68-29eee7eac680' class='xr-section-summary' >Attributes: <span>(3)</span></label><div class='xr-section-inline-details'></div><div class='xr-section-details'><dl class='xr-attrs'><dt><span>centerName :</span></dt><dd>US National Weather Service - NCEP(WMC)</dd><dt><span>disciplineName :</span></dt><dd>Meteorological products</dd><dt><span>refTime :</span></dt><dd>2016-04-30T06:00:00.000Z</dd></dl></div></li></ul></div></div>"
      ],
      "text/plain": [
       "<xarray.Dataset>\n",
       "Dimensions:  (lat: 181, lon: 360)\n",
       "Coordinates:\n",
       "  * lat      (lat) float64 90.0 89.0 88.0 87.0 86.0 ... -87.0 -88.0 -89.0 -90.0\n",
       "  * lon      (lon) float64 0.0 1.0 2.0 3.0 4.0 ... 355.0 356.0 357.0 358.0 359.0\n",
       "Data variables:\n",
       "    u_wind   (lat, lon) float64 ...\n",
       "    v_wind   (lat, lon) float64 ...\n",
       "Attributes:\n",
       "    centerName:      US National Weather Service - NCEP(WMC)\n",
       "    disciplineName:  Meteorological products\n",
       "    refTime:         2016-04-30T06:00:00.000Z"
      ]
     },
     "execution_count": 13,
     "metadata": {},
     "output_type": "execute_result"
    }
   ],
   "source": [
    "data = geemap.read_netcdf(filename)\n",
    "data"
   ]
  },
  {
   "cell_type": "markdown",
   "id": "ba224add",
   "metadata": {},
   "source": [
    "Convert the NetCDF dataset to GeoTIFF. Note that the longitude range of the NetCDF dataset is `[0, 360]`. We need to convert it to `[-180, 180]` by setting `shift_lon=True` so that it can be displayed on the map."
   ]
  },
  {
   "cell_type": "markdown",
   "id": "e5abf14d-b2a9-408a-8ce0-16a97b8203e1",
   "metadata": {},
   "source": [
    "`geemap.netcdf_to_tif()`是`geemap`库中的一个函数，用于将NetCDF文件转换为GeoTIFF文件。该函数接受以下参数：\n",
    "\n",
    "- `filename`：NetCDF文件的路径。\n",
    "- `output`：输出GeoTIFF文件的路径。\n",
    "- `variables`：要从NetCDF文件中提取的变量列表。\n",
    "- `shift_lon`：是否将经度从[-180, 180]转换为[0, 360]。\n",
    "- `lat`：纬度维度的名称。\n",
    "- `lon`：经度维度的名称。\n",
    "\n",
    "此外，该函数还接受许多其他可选参数，用于自定义转换过程。您可以查看`geemap`库的文档以获取更多信息。"
   ]
  },
  {
   "cell_type": "code",
   "execution_count": 14,
   "id": "d9a1667e",
   "metadata": {
    "tags": []
   },
   "outputs": [
    {
     "ename": "CPLE_AppDefinedError",
     "evalue": "Deleting E:/Geo_Data/geemap/examples/notebooks/tmp/wind_global.tif failed: Permission denied",
     "output_type": "error",
     "traceback": [
      "\u001b[1;31m---------------------------------------------------------------------------\u001b[0m",
      "\u001b[1;31mCPLE_AppDefinedError\u001b[0m                      Traceback (most recent call last)",
      "Cell \u001b[1;32mIn[14], line 2\u001b[0m\n\u001b[0;32m      1\u001b[0m tif \u001b[38;5;241m=\u001b[39m \u001b[38;5;124m'\u001b[39m\u001b[38;5;124m./tmp/wind_global.tif\u001b[39m\u001b[38;5;124m'\u001b[39m\n\u001b[1;32m----> 2\u001b[0m \u001b[43mgeemap\u001b[49m\u001b[38;5;241;43m.\u001b[39;49m\u001b[43mnetcdf_to_tif\u001b[49m\u001b[43m(\u001b[49m\u001b[43mfilename\u001b[49m\u001b[43m,\u001b[49m\u001b[43m \u001b[49m\u001b[43mtif\u001b[49m\u001b[43m,\u001b[49m\u001b[43m \u001b[49m\u001b[43mvariables\u001b[49m\u001b[38;5;241;43m=\u001b[39;49m\u001b[43m[\u001b[49m\u001b[38;5;124;43m'\u001b[39;49m\u001b[38;5;124;43mu_wind\u001b[39;49m\u001b[38;5;124;43m'\u001b[39;49m\u001b[43m,\u001b[49m\u001b[43m \u001b[49m\u001b[38;5;124;43m'\u001b[39;49m\u001b[38;5;124;43mv_wind\u001b[39;49m\u001b[38;5;124;43m'\u001b[39;49m\u001b[43m]\u001b[49m\u001b[43m,\u001b[49m\u001b[43m \u001b[49m\u001b[43mlat\u001b[49m\u001b[38;5;241;43m=\u001b[39;49m\u001b[38;5;124;43m'\u001b[39;49m\u001b[38;5;124;43mlat\u001b[39;49m\u001b[38;5;124;43m'\u001b[39;49m\u001b[43m,\u001b[49m\u001b[43m \u001b[49m\u001b[43mlon\u001b[49m\u001b[38;5;241;43m=\u001b[39;49m\u001b[38;5;124;43m'\u001b[39;49m\u001b[38;5;124;43mlon\u001b[39;49m\u001b[38;5;124;43m'\u001b[39;49m\u001b[43m,\u001b[49m\u001b[43m \u001b[49m\u001b[43mshift_lon\u001b[49m\u001b[38;5;241;43m=\u001b[39;49m\u001b[38;5;28;43;01mTrue\u001b[39;49;00m\u001b[43m)\u001b[49m\n",
      "File \u001b[1;32mE:\\Geo_Data\\venv\\lib\\site-packages\\geemap\\common.py:11832\u001b[0m, in \u001b[0;36mnetcdf_to_tif\u001b[1;34m(filename, output, variables, shift_lon, lat, lon, return_vars, **kwargs)\u001b[0m\n\u001b[0;32m  11822\u001b[0m \u001b[38;5;28;01mdef\u001b[39;00m \u001b[38;5;21mnetcdf_to_tif\u001b[39m(\n\u001b[0;32m  11823\u001b[0m     filename,\n\u001b[0;32m  11824\u001b[0m     output\u001b[38;5;241m=\u001b[39m\u001b[38;5;28;01mNone\u001b[39;00m,\n\u001b[1;32m   (...)\u001b[0m\n\u001b[0;32m  11830\u001b[0m     \u001b[38;5;241m*\u001b[39m\u001b[38;5;241m*\u001b[39mkwargs,\n\u001b[0;32m  11831\u001b[0m ):\n\u001b[1;32m> 11832\u001b[0m \u001b[38;5;250m    \u001b[39m\u001b[38;5;124;03m\"\"\"Convert a netcdf file to a GeoTIFF file.\u001b[39;00m\n\u001b[0;32m  11833\u001b[0m \n\u001b[0;32m  11834\u001b[0m \u001b[38;5;124;03m    Args:\u001b[39;00m\n\u001b[0;32m  11835\u001b[0m \u001b[38;5;124;03m        filename (str): Path to the netcdf file.\u001b[39;00m\n\u001b[0;32m  11836\u001b[0m \u001b[38;5;124;03m        output (str, optional): Path to the output GeoTIFF file. Defaults to None. If None, the output file will be the same as the input file with the extension changed to .tif.\u001b[39;00m\n\u001b[0;32m  11837\u001b[0m \u001b[38;5;124;03m        variables (str | list, optional): Name of the variable or a list of variables to extract. Defaults to None. If None, all variables will be extracted.\u001b[39;00m\n\u001b[0;32m  11838\u001b[0m \u001b[38;5;124;03m        shift_lon (bool, optional): Flag to shift longitude values from [0, 360] to the range [-180, 180]. Defaults to True.\u001b[39;00m\n\u001b[0;32m  11839\u001b[0m \u001b[38;5;124;03m        lat (str, optional): Name of the latitude variable. Defaults to 'lat'.\u001b[39;00m\n\u001b[0;32m  11840\u001b[0m \u001b[38;5;124;03m        lon (str, optional): Name of the longitude variable. Defaults to 'lon'.\u001b[39;00m\n\u001b[0;32m  11841\u001b[0m \u001b[38;5;124;03m        return_vars (bool, optional): Flag to return all variables. Defaults to False.\u001b[39;00m\n\u001b[0;32m  11842\u001b[0m \n\u001b[0;32m  11843\u001b[0m \u001b[38;5;124;03m    Raises:\u001b[39;00m\n\u001b[0;32m  11844\u001b[0m \u001b[38;5;124;03m        ImportError: If the xarray or rioxarray package is not installed.\u001b[39;00m\n\u001b[0;32m  11845\u001b[0m \u001b[38;5;124;03m        FileNotFoundError: If the netcdf file is not found.\u001b[39;00m\n\u001b[0;32m  11846\u001b[0m \u001b[38;5;124;03m        ValueError: If the variable is not found in the netcdf file.\u001b[39;00m\n\u001b[0;32m  11847\u001b[0m \u001b[38;5;124;03m    \"\"\"\u001b[39;00m\n\u001b[0;32m  11848\u001b[0m     \u001b[38;5;28;01mtry\u001b[39;00m:\n\u001b[0;32m  11849\u001b[0m         \u001b[38;5;28;01mimport\u001b[39;00m \u001b[38;5;21;01mxarray\u001b[39;00m \u001b[38;5;28;01mas\u001b[39;00m \u001b[38;5;21;01mxr\u001b[39;00m\n",
      "File \u001b[1;32mE:\\Geo_Data\\venv\\lib\\site-packages\\rioxarray\\raster_dataset.py:532\u001b[0m, in \u001b[0;36mRasterDataset.to_raster\u001b[1;34m(self, raster_path, driver, dtype, tags, windowed, recalc_transform, lock, compute, **profile_kwargs)\u001b[0m\n\u001b[0;32m    530\u001b[0m     data_array\u001b[38;5;241m.\u001b[39mrio\u001b[38;5;241m.\u001b[39mwrite_crs(\u001b[38;5;28mself\u001b[39m\u001b[38;5;241m.\u001b[39mcrs, inplace\u001b[38;5;241m=\u001b[39m\u001b[38;5;28;01mTrue\u001b[39;00m)\n\u001b[0;32m    531\u001b[0m \u001b[38;5;66;03m# write it to a raster\u001b[39;00m\n\u001b[1;32m--> 532\u001b[0m \u001b[38;5;28;01mreturn\u001b[39;00m data_array\u001b[38;5;241m.\u001b[39mrio\u001b[38;5;241m.\u001b[39mset_spatial_dims(\n\u001b[0;32m    533\u001b[0m     x_dim\u001b[38;5;241m=\u001b[39m\u001b[38;5;28mself\u001b[39m\u001b[38;5;241m.\u001b[39mx_dim,\n\u001b[0;32m    534\u001b[0m     y_dim\u001b[38;5;241m=\u001b[39m\u001b[38;5;28mself\u001b[39m\u001b[38;5;241m.\u001b[39my_dim,\n\u001b[0;32m    535\u001b[0m     inplace\u001b[38;5;241m=\u001b[39m\u001b[38;5;28;01mTrue\u001b[39;00m,\n\u001b[0;32m    536\u001b[0m )\u001b[38;5;241m.\u001b[39mrio\u001b[38;5;241m.\u001b[39mto_raster(\n\u001b[0;32m    537\u001b[0m     raster_path\u001b[38;5;241m=\u001b[39mraster_path,\n\u001b[0;32m    538\u001b[0m     driver\u001b[38;5;241m=\u001b[39mdriver,\n\u001b[0;32m    539\u001b[0m     dtype\u001b[38;5;241m=\u001b[39mdtype,\n\u001b[0;32m    540\u001b[0m     tags\u001b[38;5;241m=\u001b[39mtags,\n\u001b[0;32m    541\u001b[0m     windowed\u001b[38;5;241m=\u001b[39mwindowed,\n\u001b[0;32m    542\u001b[0m     recalc_transform\u001b[38;5;241m=\u001b[39mrecalc_transform,\n\u001b[0;32m    543\u001b[0m     lock\u001b[38;5;241m=\u001b[39mlock,\n\u001b[0;32m    544\u001b[0m     compute\u001b[38;5;241m=\u001b[39mcompute,\n\u001b[0;32m    545\u001b[0m     \u001b[38;5;241m*\u001b[39m\u001b[38;5;241m*\u001b[39mprofile_kwargs,\n\u001b[0;32m    546\u001b[0m )\n",
      "File \u001b[1;32mE:\\Geo_Data\\venv\\lib\\site-packages\\rioxarray\\raster_array.py:1119\u001b[0m, in \u001b[0;36mRasterArray.to_raster\u001b[1;34m(self, raster_path, driver, dtype, tags, windowed, recalc_transform, lock, compute, **profile_kwargs)\u001b[0m\n\u001b[0;32m   1100\u001b[0m out_profile \u001b[38;5;241m=\u001b[39m {\n\u001b[0;32m   1101\u001b[0m     key: value\n\u001b[0;32m   1102\u001b[0m     \u001b[38;5;28;01mfor\u001b[39;00m key, value \u001b[38;5;129;01min\u001b[39;00m out_profile\u001b[38;5;241m.\u001b[39mitems()\n\u001b[1;32m   (...)\u001b[0m\n\u001b[0;32m   1113\u001b[0m     )\n\u001b[0;32m   1114\u001b[0m }\n\u001b[0;32m   1115\u001b[0m rio_nodata \u001b[38;5;241m=\u001b[39m (\n\u001b[0;32m   1116\u001b[0m     \u001b[38;5;28mself\u001b[39m\u001b[38;5;241m.\u001b[39mencoded_nodata \u001b[38;5;28;01mif\u001b[39;00m \u001b[38;5;28mself\u001b[39m\u001b[38;5;241m.\u001b[39mencoded_nodata \u001b[38;5;129;01mis\u001b[39;00m \u001b[38;5;129;01mnot\u001b[39;00m \u001b[38;5;28;01mNone\u001b[39;00m \u001b[38;5;28;01melse\u001b[39;00m \u001b[38;5;28mself\u001b[39m\u001b[38;5;241m.\u001b[39mnodata\n\u001b[0;32m   1117\u001b[0m )\n\u001b[1;32m-> 1119\u001b[0m \u001b[38;5;28;01mreturn\u001b[39;00m RasterioWriter(raster_path\u001b[38;5;241m=\u001b[39mraster_path)\u001b[38;5;241m.\u001b[39mto_raster(\n\u001b[0;32m   1120\u001b[0m     xarray_dataarray\u001b[38;5;241m=\u001b[39m\u001b[38;5;28mself\u001b[39m\u001b[38;5;241m.\u001b[39m_obj,\n\u001b[0;32m   1121\u001b[0m     tags\u001b[38;5;241m=\u001b[39mtags,\n\u001b[0;32m   1122\u001b[0m     driver\u001b[38;5;241m=\u001b[39mdriver,\n\u001b[0;32m   1123\u001b[0m     height\u001b[38;5;241m=\u001b[39m\u001b[38;5;28mint\u001b[39m(\u001b[38;5;28mself\u001b[39m\u001b[38;5;241m.\u001b[39mheight),\n\u001b[0;32m   1124\u001b[0m     width\u001b[38;5;241m=\u001b[39m\u001b[38;5;28mint\u001b[39m(\u001b[38;5;28mself\u001b[39m\u001b[38;5;241m.\u001b[39mwidth),\n\u001b[0;32m   1125\u001b[0m     count\u001b[38;5;241m=\u001b[39m\u001b[38;5;28mint\u001b[39m(\u001b[38;5;28mself\u001b[39m\u001b[38;5;241m.\u001b[39mcount),\n\u001b[0;32m   1126\u001b[0m     dtype\u001b[38;5;241m=\u001b[39mdtype,\n\u001b[0;32m   1127\u001b[0m     crs\u001b[38;5;241m=\u001b[39m\u001b[38;5;28mself\u001b[39m\u001b[38;5;241m.\u001b[39mcrs,\n\u001b[0;32m   1128\u001b[0m     transform\u001b[38;5;241m=\u001b[39m\u001b[38;5;28mself\u001b[39m\u001b[38;5;241m.\u001b[39mtransform(recalc\u001b[38;5;241m=\u001b[39mrecalc_transform),\n\u001b[0;32m   1129\u001b[0m     gcps\u001b[38;5;241m=\u001b[39m\u001b[38;5;28mself\u001b[39m\u001b[38;5;241m.\u001b[39mget_gcps(),\n\u001b[0;32m   1130\u001b[0m     nodata\u001b[38;5;241m=\u001b[39mrio_nodata,\n\u001b[0;32m   1131\u001b[0m     windowed\u001b[38;5;241m=\u001b[39mwindowed,\n\u001b[0;32m   1132\u001b[0m     lock\u001b[38;5;241m=\u001b[39mlock,\n\u001b[0;32m   1133\u001b[0m     compute\u001b[38;5;241m=\u001b[39mcompute,\n\u001b[0;32m   1134\u001b[0m     \u001b[38;5;241m*\u001b[39m\u001b[38;5;241m*\u001b[39mout_profile,\n\u001b[0;32m   1135\u001b[0m )\n",
      "File \u001b[1;32mE:\\Geo_Data\\venv\\lib\\site-packages\\rioxarray\\raster_writer.py:273\u001b[0m, in \u001b[0;36mRasterioWriter.to_raster\u001b[1;34m(self, xarray_dataarray, tags, windowed, lock, compute, **kwargs)\u001b[0m\n\u001b[0;32m    267\u001b[0m \u001b[38;5;28;01mif\u001b[39;00m kwargs[\u001b[38;5;124m\"\u001b[39m\u001b[38;5;124mnodata\u001b[39m\u001b[38;5;124m\"\u001b[39m] \u001b[38;5;129;01mis\u001b[39;00m \u001b[38;5;129;01mnot\u001b[39;00m \u001b[38;5;28;01mNone\u001b[39;00m:\n\u001b[0;32m    268\u001b[0m     \u001b[38;5;66;03m# Ensure dtype of output data matches the expected dtype.\u001b[39;00m\n\u001b[0;32m    269\u001b[0m     \u001b[38;5;66;03m# This check is added here as the dtype of the data is\u001b[39;00m\n\u001b[0;32m    270\u001b[0m     \u001b[38;5;66;03m# converted right before writing.\u001b[39;00m\n\u001b[0;32m    271\u001b[0m     kwargs[\u001b[38;5;124m\"\u001b[39m\u001b[38;5;124mnodata\u001b[39m\u001b[38;5;124m\"\u001b[39m] \u001b[38;5;241m=\u001b[39m _ensure_nodata_dtype(kwargs[\u001b[38;5;124m\"\u001b[39m\u001b[38;5;124mnodata\u001b[39m\u001b[38;5;124m\"\u001b[39m], numpy_dtype)\n\u001b[1;32m--> 273\u001b[0m \u001b[38;5;28;01mwith\u001b[39;00m rasterio\u001b[38;5;241m.\u001b[39mopen(\u001b[38;5;28mself\u001b[39m\u001b[38;5;241m.\u001b[39mraster_path, \u001b[38;5;124m\"\u001b[39m\u001b[38;5;124mw\u001b[39m\u001b[38;5;124m\"\u001b[39m, \u001b[38;5;241m*\u001b[39m\u001b[38;5;241m*\u001b[39mkwargs) \u001b[38;5;28;01mas\u001b[39;00m rds:\n\u001b[0;32m    274\u001b[0m     _write_metatata_to_raster(rds, xarray_dataarray, tags)\n\u001b[0;32m    275\u001b[0m     \u001b[38;5;28;01mif\u001b[39;00m \u001b[38;5;129;01mnot\u001b[39;00m (lock \u001b[38;5;129;01mand\u001b[39;00m is_dask_collection(xarray_dataarray\u001b[38;5;241m.\u001b[39mdata)):\n\u001b[0;32m    276\u001b[0m         \u001b[38;5;66;03m# write data to raster immmediately if not dask array\u001b[39;00m\n",
      "File \u001b[1;32mE:\\Geo_Data\\venv\\lib\\site-packages\\rasterio\\env.py:451\u001b[0m, in \u001b[0;36mensure_env_with_credentials.<locals>.wrapper\u001b[1;34m(*args, **kwds)\u001b[0m\n\u001b[0;32m    448\u001b[0m     session \u001b[38;5;241m=\u001b[39m DummySession()\n\u001b[0;32m    450\u001b[0m \u001b[38;5;28;01mwith\u001b[39;00m env_ctor(session\u001b[38;5;241m=\u001b[39msession):\n\u001b[1;32m--> 451\u001b[0m     \u001b[38;5;28;01mreturn\u001b[39;00m f(\u001b[38;5;241m*\u001b[39margs, \u001b[38;5;241m*\u001b[39m\u001b[38;5;241m*\u001b[39mkwds)\n",
      "File \u001b[1;32mE:\\Geo_Data\\venv\\lib\\site-packages\\rasterio\\__init__.py:331\u001b[0m, in \u001b[0;36mopen\u001b[1;34m(fp, mode, driver, width, height, count, crs, transform, dtype, nodata, sharing, **kwargs)\u001b[0m\n\u001b[0;32m    329\u001b[0m writer \u001b[38;5;241m=\u001b[39m get_writer_for_driver(driver)\n\u001b[0;32m    330\u001b[0m \u001b[38;5;28;01mif\u001b[39;00m writer \u001b[38;5;129;01mis\u001b[39;00m \u001b[38;5;129;01mnot\u001b[39;00m \u001b[38;5;28;01mNone\u001b[39;00m:\n\u001b[1;32m--> 331\u001b[0m     dataset \u001b[38;5;241m=\u001b[39m writer(\n\u001b[0;32m    332\u001b[0m         path,\n\u001b[0;32m    333\u001b[0m         mode,\n\u001b[0;32m    334\u001b[0m         driver\u001b[38;5;241m=\u001b[39mdriver,\n\u001b[0;32m    335\u001b[0m         width\u001b[38;5;241m=\u001b[39mwidth,\n\u001b[0;32m    336\u001b[0m         height\u001b[38;5;241m=\u001b[39mheight,\n\u001b[0;32m    337\u001b[0m         count\u001b[38;5;241m=\u001b[39mcount,\n\u001b[0;32m    338\u001b[0m         crs\u001b[38;5;241m=\u001b[39mcrs,\n\u001b[0;32m    339\u001b[0m         transform\u001b[38;5;241m=\u001b[39mtransform,\n\u001b[0;32m    340\u001b[0m         dtype\u001b[38;5;241m=\u001b[39mdtype,\n\u001b[0;32m    341\u001b[0m         nodata\u001b[38;5;241m=\u001b[39mnodata,\n\u001b[0;32m    342\u001b[0m         sharing\u001b[38;5;241m=\u001b[39msharing,\n\u001b[0;32m    343\u001b[0m         \u001b[38;5;241m*\u001b[39m\u001b[38;5;241m*\u001b[39mkwargs\n\u001b[0;32m    344\u001b[0m     )\n\u001b[0;32m    345\u001b[0m \u001b[38;5;28;01melse\u001b[39;00m:\n\u001b[0;32m    346\u001b[0m     \u001b[38;5;28;01mraise\u001b[39;00m DriverCapabilityError(\n\u001b[0;32m    347\u001b[0m         \u001b[38;5;124m\"\u001b[39m\u001b[38;5;124mWriter does not exist for driver: \u001b[39m\u001b[38;5;132;01m%s\u001b[39;00m\u001b[38;5;124m\"\u001b[39m \u001b[38;5;241m%\u001b[39m \u001b[38;5;28mstr\u001b[39m(driver)\n\u001b[0;32m    348\u001b[0m     )\n",
      "File \u001b[1;32mrasterio\\_io.pyx:1430\u001b[0m, in \u001b[0;36mrasterio._io.DatasetWriterBase.__init__\u001b[1;34m()\u001b[0m\n",
      "File \u001b[1;32mrasterio\\_io.pyx:293\u001b[0m, in \u001b[0;36mrasterio._io._delete_dataset_if_exists\u001b[1;34m()\u001b[0m\n",
      "File \u001b[1;32mrasterio\\_err.pyx:195\u001b[0m, in \u001b[0;36mrasterio._err.exc_wrap_int\u001b[1;34m()\u001b[0m\n",
      "\u001b[1;31mCPLE_AppDefinedError\u001b[0m: Deleting E:/Geo_Data/geemap/examples/notebooks/tmp/wind_global.tif failed: Permission denied"
     ]
    }
   ],
   "source": [
    "tif = './tmp/wind_global.tif'\n",
    "geemap.netcdf_to_tif(filename, tif, variables=['u_wind', 'v_wind'], lat='lat', lon='lon', shift_lon=True)"
   ]
  },
  {
   "cell_type": "markdown",
   "id": "cb9cc816",
   "metadata": {},
   "source": [
    "Add the GeoTIFF to the map. We can also overlay the country boundary on the map."
   ]
  },
  {
   "cell_type": "code",
   "execution_count": null,
   "id": "418a0cf1",
   "metadata": {
    "tags": []
   },
   "outputs": [],
   "source": [
    "geojson = 'https://github.com/giswqs/leafmap/raw/master/examples/data/countries.geojson'"
   ]
  },
  {
   "cell_type": "markdown",
   "id": "8487712f-b489-4157-bcba-23646322d4ab",
   "metadata": {},
   "source": [
    "`Map.add_raster()`是`geemap`库中的一个方法，用于将栅格数据添加到地图上。该方法接受以下参数：\n",
    "\n",
    "- `source`：栅格数据的来源。它可以是一个文件路径，也可以是一个`xarray.DataArray`对象。\n",
    "- `band`：要显示的波段索引列表。\n",
    "- `palette`：颜色调色板名称或颜色列表。\n",
    "- `vmin`：最小值，用于缩放颜色。\n",
    "- `vmax`：最大值，用于缩放颜色。\n",
    "- `nodata`：无数据值。\n",
    "- `attribution`：图层属性。\n",
    "- `layer_name`：图层名称。\n",
    "\n",
    "此外，该方法还接受许多其他可选参数，用于自定义栅格图层的外观和行为。您可以查看`geemap`库的文档以获取更多信息。"
   ]
  },
  {
   "cell_type": "code",
   "execution_count": 15,
   "id": "2d3b5ab6",
   "metadata": {
    "tags": []
   },
   "outputs": [
    {
     "ename": "UnboundLocalError",
     "evalue": "local variable 'tile_layer' referenced before assignment",
     "output_type": "error",
     "traceback": [
      "\u001b[1;31m---------------------------------------------------------------------------\u001b[0m",
      "\u001b[1;31mUnboundLocalError\u001b[0m                         Traceback (most recent call last)",
      "Cell \u001b[1;32mIn[15], line 2\u001b[0m\n\u001b[0;32m      1\u001b[0m m \u001b[38;5;241m=\u001b[39m geemap\u001b[38;5;241m.\u001b[39mMap(layer_ctrl\u001b[38;5;241m=\u001b[39m\u001b[38;5;28;01mTrue\u001b[39;00m)\n\u001b[1;32m----> 2\u001b[0m \u001b[43mm\u001b[49m\u001b[38;5;241;43m.\u001b[39;49m\u001b[43madd_raster\u001b[49m\u001b[43m(\u001b[49m\u001b[43mtif\u001b[49m\u001b[43m,\u001b[49m\u001b[43m \u001b[49m\u001b[43mband\u001b[49m\u001b[38;5;241;43m=\u001b[39;49m\u001b[43m[\u001b[49m\u001b[38;5;241;43m1\u001b[39;49m\u001b[43m]\u001b[49m\u001b[43m,\u001b[49m\u001b[43m \u001b[49m\u001b[43mpalette\u001b[49m\u001b[38;5;241;43m=\u001b[39;49m\u001b[38;5;124;43m'\u001b[39;49m\u001b[38;5;124;43mcoolwarm\u001b[39;49m\u001b[38;5;124;43m'\u001b[39;49m\u001b[43m,\u001b[49m\u001b[43m \u001b[49m\u001b[43mlayer_name\u001b[49m\u001b[38;5;241;43m=\u001b[39;49m\u001b[38;5;124;43m'\u001b[39;49m\u001b[38;5;124;43mu_wind\u001b[39;49m\u001b[38;5;124;43m'\u001b[39;49m\u001b[43m)\u001b[49m\n\u001b[0;32m      3\u001b[0m m\u001b[38;5;241m.\u001b[39madd_geojson(geojson, layer_name\u001b[38;5;241m=\u001b[39m\u001b[38;5;124m'\u001b[39m\u001b[38;5;124mCountries\u001b[39m\u001b[38;5;124m'\u001b[39m)\n\u001b[0;32m      4\u001b[0m m\n",
      "File \u001b[1;32mE:\\Geo_Data\\venv\\lib\\site-packages\\geemap\\geemap.py:3644\u001b[0m, in \u001b[0;36mMap.add_raster\u001b[1;34m(self, source, band, palette, vmin, vmax, nodata, attribution, layer_name, **kwargs)\u001b[0m\n\u001b[0;32m   3641\u001b[0m     \u001b[38;5;28mprint\u001b[39m(\u001b[38;5;124m\"\u001b[39m\u001b[38;5;124mThis add_raster() function is not supported in Colab.\u001b[39m\u001b[38;5;124m\"\u001b[39m)\n\u001b[0;32m   3642\u001b[0m     \u001b[38;5;28;01mreturn\u001b[39;00m\n\u001b[1;32m-> 3644\u001b[0m tile_layer, tile_client \u001b[38;5;241m=\u001b[39m get_local_tile_layer(\n\u001b[0;32m   3645\u001b[0m     source,\n\u001b[0;32m   3646\u001b[0m     band\u001b[38;5;241m=\u001b[39mband,\n\u001b[0;32m   3647\u001b[0m     palette\u001b[38;5;241m=\u001b[39mpalette,\n\u001b[0;32m   3648\u001b[0m     vmin\u001b[38;5;241m=\u001b[39mvmin,\n\u001b[0;32m   3649\u001b[0m     vmax\u001b[38;5;241m=\u001b[39mvmax,\n\u001b[0;32m   3650\u001b[0m     nodata\u001b[38;5;241m=\u001b[39mnodata,\n\u001b[0;32m   3651\u001b[0m     attribution\u001b[38;5;241m=\u001b[39mattribution,\n\u001b[0;32m   3652\u001b[0m     layer_name\u001b[38;5;241m=\u001b[39mlayer_name,\n\u001b[0;32m   3653\u001b[0m     return_client\u001b[38;5;241m=\u001b[39m\u001b[38;5;28;01mTrue\u001b[39;00m,\n\u001b[0;32m   3654\u001b[0m     \u001b[38;5;241m*\u001b[39m\u001b[38;5;241m*\u001b[39mkwargs,\n\u001b[0;32m   3655\u001b[0m )\n\u001b[0;32m   3657\u001b[0m \u001b[38;5;28mself\u001b[39m\u001b[38;5;241m.\u001b[39madd_layer(tile_layer)\n\u001b[0;32m   3659\u001b[0m output \u001b[38;5;241m=\u001b[39m widgets\u001b[38;5;241m.\u001b[39mOutput()\n",
      "File \u001b[1;32mE:\\Geo_Data\\venv\\lib\\site-packages\\geemap\\common.py:10586\u001b[0m, in \u001b[0;36mget_local_tile_layer\u001b[1;34m(source, port, debug, projection, band, palette, vmin, vmax, nodata, attribution, tile_format, layer_name, return_client, **kwargs)\u001b[0m\n\u001b[0;32m  10567\u001b[0m         tile_layer \u001b[38;5;241m=\u001b[39m get_folium_tile_layer(\n\u001b[0;32m  10568\u001b[0m             tile_client,\n\u001b[0;32m  10569\u001b[0m             port\u001b[38;5;241m=\u001b[39mport,\n\u001b[1;32m   (...)\u001b[0m\n\u001b[0;32m  10582\u001b[0m             \u001b[38;5;241m*\u001b[39m\u001b[38;5;241m*\u001b[39mkwargs,\n\u001b[0;32m  10583\u001b[0m         )\n\u001b[0;32m  10585\u001b[0m \u001b[38;5;28;01mif\u001b[39;00m return_client:\n\u001b[1;32m> 10586\u001b[0m     \u001b[38;5;28;01mreturn\u001b[39;00m \u001b[43mtile_layer\u001b[49m, tile_client\n\u001b[0;32m  10587\u001b[0m \u001b[38;5;28;01melse\u001b[39;00m:\n\u001b[0;32m  10588\u001b[0m     \u001b[38;5;28;01mreturn\u001b[39;00m tile_layer\n",
      "\u001b[1;31mUnboundLocalError\u001b[0m: local variable 'tile_layer' referenced before assignment"
     ]
    }
   ],
   "source": [
    "m = geemap.Map(layer_ctrl=True)\n",
    "m.add_raster(tif, band=[1], palette='coolwarm', layer_name='u_wind')\n",
    "m.add_geojson(geojson, layer_name='Countries')\n",
    "m"
   ]
  },
  {
   "cell_type": "markdown",
   "id": "cf1a7492",
   "metadata": {},
   "source": [
    "You can also use the `add_netcdf()` function to add the NetCDF dataset to the map without having to convert it to GeoTIFF explicitly."
   ]
  },
  {
   "cell_type": "code",
   "execution_count": 17,
   "id": "8a41526e",
   "metadata": {
    "tags": []
   },
   "outputs": [
    {
     "ename": "CPLE_AppDefinedError",
     "evalue": "Deleting ./tmp/wind_global.tif failed: Permission denied",
     "output_type": "error",
     "traceback": [
      "\u001b[1;31m---------------------------------------------------------------------------\u001b[0m",
      "\u001b[1;31mCPLE_AppDefinedError\u001b[0m                      Traceback (most recent call last)",
      "Cell \u001b[1;32mIn[17], line 2\u001b[0m\n\u001b[0;32m      1\u001b[0m m \u001b[38;5;241m=\u001b[39m geemap\u001b[38;5;241m.\u001b[39mMap(layer_ctrl\u001b[38;5;241m=\u001b[39m\u001b[38;5;28;01mTrue\u001b[39;00m)\n\u001b[1;32m----> 2\u001b[0m \u001b[43mm\u001b[49m\u001b[38;5;241;43m.\u001b[39;49m\u001b[43madd_netcdf\u001b[49m\u001b[43m(\u001b[49m\n\u001b[0;32m      3\u001b[0m \u001b[43m    \u001b[49m\u001b[43mfilename\u001b[49m\u001b[43m,\u001b[49m\n\u001b[0;32m      4\u001b[0m \u001b[43m    \u001b[49m\u001b[43mvariables\u001b[49m\u001b[38;5;241;43m=\u001b[39;49m\u001b[43m[\u001b[49m\u001b[38;5;124;43m'\u001b[39;49m\u001b[38;5;124;43mv_wind\u001b[39;49m\u001b[38;5;124;43m'\u001b[39;49m\u001b[43m]\u001b[49m\u001b[43m,\u001b[49m\n\u001b[0;32m      5\u001b[0m \u001b[43m    \u001b[49m\u001b[43mpalette\u001b[49m\u001b[38;5;241;43m=\u001b[39;49m\u001b[38;5;124;43m'\u001b[39;49m\u001b[38;5;124;43mcoolwarm\u001b[39;49m\u001b[38;5;124;43m'\u001b[39;49m\u001b[43m,\u001b[49m\n\u001b[0;32m      6\u001b[0m \u001b[43m    \u001b[49m\u001b[43mshift_lon\u001b[49m\u001b[38;5;241;43m=\u001b[39;49m\u001b[38;5;28;43;01mTrue\u001b[39;49;00m\u001b[43m,\u001b[49m\n\u001b[0;32m      7\u001b[0m \u001b[43m    \u001b[49m\u001b[43mlayer_name\u001b[49m\u001b[38;5;241;43m=\u001b[39;49m\u001b[38;5;124;43m'\u001b[39;49m\u001b[38;5;124;43mv_wind\u001b[39;49m\u001b[38;5;124;43m'\u001b[39;49m\u001b[43m,\u001b[49m\n\u001b[0;32m      8\u001b[0m \u001b[43m)\u001b[49m\n\u001b[0;32m      9\u001b[0m m\u001b[38;5;241m.\u001b[39madd_geojson(geojson, layer_name\u001b[38;5;241m=\u001b[39m\u001b[38;5;124m'\u001b[39m\u001b[38;5;124mCountries\u001b[39m\u001b[38;5;124m'\u001b[39m)\n\u001b[0;32m     10\u001b[0m m\n",
      "File \u001b[1;32mE:\\Geo_Data\\venv\\lib\\site-packages\\geemap\\geemap.py:6985\u001b[0m, in \u001b[0;36madd_netcdf\u001b[1;34m(self, filename, variables, palette, vmin, vmax, nodata, attribution, layer_name, shift_lon, lat, lon, **kwargs)\u001b[0m\n\u001b[0;32m   6983\u001b[0m     b \u001b[38;5;241m=\u001b[39m BytesIO()\n\u001b[0;32m   6984\u001b[0m     frame\u001b[38;5;241m.\u001b[39msave(b, \u001b[38;5;28mformat\u001b[39m\u001b[38;5;241m=\u001b[39m\u001b[38;5;124m\"\u001b[39m\u001b[38;5;124mgif\u001b[39m\u001b[38;5;124m\"\u001b[39m)\n\u001b[1;32m-> 6985\u001b[0m     frame \u001b[38;5;241m=\u001b[39m Image\u001b[38;5;241m.\u001b[39mopen(b)\n\u001b[0;32m   6986\u001b[0m     frames\u001b[38;5;241m.\u001b[39mappend(frame)\n\u001b[0;32m   6987\u001b[0m frames[\u001b[38;5;241m0\u001b[39m]\u001b[38;5;241m.\u001b[39msave(\n\u001b[0;32m   6988\u001b[0m     f,\n\u001b[0;32m   6989\u001b[0m     \u001b[38;5;28mformat\u001b[39m\u001b[38;5;241m=\u001b[39m\u001b[38;5;124m\"\u001b[39m\u001b[38;5;124mGIF\u001b[39m\u001b[38;5;124m\"\u001b[39m,\n\u001b[1;32m   (...)\u001b[0m\n\u001b[0;32m   6992\u001b[0m     loop\u001b[38;5;241m=\u001b[39m\u001b[38;5;241m0\u001b[39m,\n\u001b[0;32m   6993\u001b[0m )\n",
      "File \u001b[1;32mE:\\Geo_Data\\venv\\lib\\site-packages\\geemap\\common.py:11830\u001b[0m, in \u001b[0;36mnetcdf_to_tif\u001b[1;34m(filename, output, variables, shift_lon, lat, lon, return_vars, **kwargs)\u001b[0m\n\u001b[0;32m  11818\u001b[0m     \u001b[38;5;28;01mwith\u001b[39;00m rasterio\u001b[38;5;241m.\u001b[39mopen(output, \u001b[38;5;124m\"\u001b[39m\u001b[38;5;124mw\u001b[39m\u001b[38;5;124m\"\u001b[39m, \u001b[38;5;241m*\u001b[39m\u001b[38;5;241m*\u001b[39mout_meta) \u001b[38;5;28;01mas\u001b[39;00m dest:\n\u001b[0;32m  11819\u001b[0m         dest\u001b[38;5;241m.\u001b[39mwrite(out_image)\n\u001b[0;32m  11822\u001b[0m \u001b[38;5;28;01mdef\u001b[39;00m \u001b[38;5;21mnetcdf_to_tif\u001b[39m(\n\u001b[0;32m  11823\u001b[0m     filename,\n\u001b[0;32m  11824\u001b[0m     output\u001b[38;5;241m=\u001b[39m\u001b[38;5;28;01mNone\u001b[39;00m,\n\u001b[0;32m  11825\u001b[0m     variables\u001b[38;5;241m=\u001b[39m\u001b[38;5;28;01mNone\u001b[39;00m,\n\u001b[0;32m  11826\u001b[0m     shift_lon\u001b[38;5;241m=\u001b[39m\u001b[38;5;28;01mTrue\u001b[39;00m,\n\u001b[0;32m  11827\u001b[0m     lat\u001b[38;5;241m=\u001b[39m\u001b[38;5;124m\"\u001b[39m\u001b[38;5;124mlat\u001b[39m\u001b[38;5;124m\"\u001b[39m,\n\u001b[0;32m  11828\u001b[0m     lon\u001b[38;5;241m=\u001b[39m\u001b[38;5;124m\"\u001b[39m\u001b[38;5;124mlon\u001b[39m\u001b[38;5;124m\"\u001b[39m,\n\u001b[0;32m  11829\u001b[0m     return_vars\u001b[38;5;241m=\u001b[39m\u001b[38;5;28;01mFalse\u001b[39;00m,\n\u001b[1;32m> 11830\u001b[0m     \u001b[38;5;241m*\u001b[39m\u001b[38;5;241m*\u001b[39mkwargs,\n\u001b[0;32m  11831\u001b[0m ):\n\u001b[0;32m  11832\u001b[0m \u001b[38;5;250m    \u001b[39m\u001b[38;5;124;03m\"\"\"Convert a netcdf file to a GeoTIFF file.\u001b[39;00m\n\u001b[0;32m  11833\u001b[0m \n\u001b[0;32m  11834\u001b[0m \u001b[38;5;124;03m    Args:\u001b[39;00m\n\u001b[1;32m   (...)\u001b[0m\n\u001b[0;32m  11846\u001b[0m \u001b[38;5;124;03m        ValueError: If the variable is not found in the netcdf file.\u001b[39;00m\n\u001b[0;32m  11847\u001b[0m \u001b[38;5;124;03m    \"\"\"\u001b[39;00m\n\u001b[0;32m  11848\u001b[0m     \u001b[38;5;28;01mtry\u001b[39;00m:\n",
      "File \u001b[1;32mE:\\Geo_Data\\venv\\lib\\site-packages\\rioxarray\\raster_dataset.py:532\u001b[0m, in \u001b[0;36mRasterDataset.to_raster\u001b[1;34m(self, raster_path, driver, dtype, tags, windowed, recalc_transform, lock, compute, **profile_kwargs)\u001b[0m\n\u001b[0;32m    530\u001b[0m     data_array\u001b[38;5;241m.\u001b[39mrio\u001b[38;5;241m.\u001b[39mwrite_crs(\u001b[38;5;28mself\u001b[39m\u001b[38;5;241m.\u001b[39mcrs, inplace\u001b[38;5;241m=\u001b[39m\u001b[38;5;28;01mTrue\u001b[39;00m)\n\u001b[0;32m    531\u001b[0m \u001b[38;5;66;03m# write it to a raster\u001b[39;00m\n\u001b[1;32m--> 532\u001b[0m \u001b[38;5;28;01mreturn\u001b[39;00m data_array\u001b[38;5;241m.\u001b[39mrio\u001b[38;5;241m.\u001b[39mset_spatial_dims(\n\u001b[0;32m    533\u001b[0m     x_dim\u001b[38;5;241m=\u001b[39m\u001b[38;5;28mself\u001b[39m\u001b[38;5;241m.\u001b[39mx_dim,\n\u001b[0;32m    534\u001b[0m     y_dim\u001b[38;5;241m=\u001b[39m\u001b[38;5;28mself\u001b[39m\u001b[38;5;241m.\u001b[39my_dim,\n\u001b[0;32m    535\u001b[0m     inplace\u001b[38;5;241m=\u001b[39m\u001b[38;5;28;01mTrue\u001b[39;00m,\n\u001b[0;32m    536\u001b[0m )\u001b[38;5;241m.\u001b[39mrio\u001b[38;5;241m.\u001b[39mto_raster(\n\u001b[0;32m    537\u001b[0m     raster_path\u001b[38;5;241m=\u001b[39mraster_path,\n\u001b[0;32m    538\u001b[0m     driver\u001b[38;5;241m=\u001b[39mdriver,\n\u001b[0;32m    539\u001b[0m     dtype\u001b[38;5;241m=\u001b[39mdtype,\n\u001b[0;32m    540\u001b[0m     tags\u001b[38;5;241m=\u001b[39mtags,\n\u001b[0;32m    541\u001b[0m     windowed\u001b[38;5;241m=\u001b[39mwindowed,\n\u001b[0;32m    542\u001b[0m     recalc_transform\u001b[38;5;241m=\u001b[39mrecalc_transform,\n\u001b[0;32m    543\u001b[0m     lock\u001b[38;5;241m=\u001b[39mlock,\n\u001b[0;32m    544\u001b[0m     compute\u001b[38;5;241m=\u001b[39mcompute,\n\u001b[0;32m    545\u001b[0m     \u001b[38;5;241m*\u001b[39m\u001b[38;5;241m*\u001b[39mprofile_kwargs,\n\u001b[0;32m    546\u001b[0m )\n",
      "File \u001b[1;32mE:\\Geo_Data\\venv\\lib\\site-packages\\rioxarray\\raster_array.py:1119\u001b[0m, in \u001b[0;36mRasterArray.to_raster\u001b[1;34m(self, raster_path, driver, dtype, tags, windowed, recalc_transform, lock, compute, **profile_kwargs)\u001b[0m\n\u001b[0;32m   1100\u001b[0m out_profile \u001b[38;5;241m=\u001b[39m {\n\u001b[0;32m   1101\u001b[0m     key: value\n\u001b[0;32m   1102\u001b[0m     \u001b[38;5;28;01mfor\u001b[39;00m key, value \u001b[38;5;129;01min\u001b[39;00m out_profile\u001b[38;5;241m.\u001b[39mitems()\n\u001b[1;32m   (...)\u001b[0m\n\u001b[0;32m   1113\u001b[0m     )\n\u001b[0;32m   1114\u001b[0m }\n\u001b[0;32m   1115\u001b[0m rio_nodata \u001b[38;5;241m=\u001b[39m (\n\u001b[0;32m   1116\u001b[0m     \u001b[38;5;28mself\u001b[39m\u001b[38;5;241m.\u001b[39mencoded_nodata \u001b[38;5;28;01mif\u001b[39;00m \u001b[38;5;28mself\u001b[39m\u001b[38;5;241m.\u001b[39mencoded_nodata \u001b[38;5;129;01mis\u001b[39;00m \u001b[38;5;129;01mnot\u001b[39;00m \u001b[38;5;28;01mNone\u001b[39;00m \u001b[38;5;28;01melse\u001b[39;00m \u001b[38;5;28mself\u001b[39m\u001b[38;5;241m.\u001b[39mnodata\n\u001b[0;32m   1117\u001b[0m )\n\u001b[1;32m-> 1119\u001b[0m \u001b[38;5;28;01mreturn\u001b[39;00m RasterioWriter(raster_path\u001b[38;5;241m=\u001b[39mraster_path)\u001b[38;5;241m.\u001b[39mto_raster(\n\u001b[0;32m   1120\u001b[0m     xarray_dataarray\u001b[38;5;241m=\u001b[39m\u001b[38;5;28mself\u001b[39m\u001b[38;5;241m.\u001b[39m_obj,\n\u001b[0;32m   1121\u001b[0m     tags\u001b[38;5;241m=\u001b[39mtags,\n\u001b[0;32m   1122\u001b[0m     driver\u001b[38;5;241m=\u001b[39mdriver,\n\u001b[0;32m   1123\u001b[0m     height\u001b[38;5;241m=\u001b[39m\u001b[38;5;28mint\u001b[39m(\u001b[38;5;28mself\u001b[39m\u001b[38;5;241m.\u001b[39mheight),\n\u001b[0;32m   1124\u001b[0m     width\u001b[38;5;241m=\u001b[39m\u001b[38;5;28mint\u001b[39m(\u001b[38;5;28mself\u001b[39m\u001b[38;5;241m.\u001b[39mwidth),\n\u001b[0;32m   1125\u001b[0m     count\u001b[38;5;241m=\u001b[39m\u001b[38;5;28mint\u001b[39m(\u001b[38;5;28mself\u001b[39m\u001b[38;5;241m.\u001b[39mcount),\n\u001b[0;32m   1126\u001b[0m     dtype\u001b[38;5;241m=\u001b[39mdtype,\n\u001b[0;32m   1127\u001b[0m     crs\u001b[38;5;241m=\u001b[39m\u001b[38;5;28mself\u001b[39m\u001b[38;5;241m.\u001b[39mcrs,\n\u001b[0;32m   1128\u001b[0m     transform\u001b[38;5;241m=\u001b[39m\u001b[38;5;28mself\u001b[39m\u001b[38;5;241m.\u001b[39mtransform(recalc\u001b[38;5;241m=\u001b[39mrecalc_transform),\n\u001b[0;32m   1129\u001b[0m     gcps\u001b[38;5;241m=\u001b[39m\u001b[38;5;28mself\u001b[39m\u001b[38;5;241m.\u001b[39mget_gcps(),\n\u001b[0;32m   1130\u001b[0m     nodata\u001b[38;5;241m=\u001b[39mrio_nodata,\n\u001b[0;32m   1131\u001b[0m     windowed\u001b[38;5;241m=\u001b[39mwindowed,\n\u001b[0;32m   1132\u001b[0m     lock\u001b[38;5;241m=\u001b[39mlock,\n\u001b[0;32m   1133\u001b[0m     compute\u001b[38;5;241m=\u001b[39mcompute,\n\u001b[0;32m   1134\u001b[0m     \u001b[38;5;241m*\u001b[39m\u001b[38;5;241m*\u001b[39mout_profile,\n\u001b[0;32m   1135\u001b[0m )\n",
      "File \u001b[1;32mE:\\Geo_Data\\venv\\lib\\site-packages\\rioxarray\\raster_writer.py:273\u001b[0m, in \u001b[0;36mRasterioWriter.to_raster\u001b[1;34m(self, xarray_dataarray, tags, windowed, lock, compute, **kwargs)\u001b[0m\n\u001b[0;32m    267\u001b[0m \u001b[38;5;28;01mif\u001b[39;00m kwargs[\u001b[38;5;124m\"\u001b[39m\u001b[38;5;124mnodata\u001b[39m\u001b[38;5;124m\"\u001b[39m] \u001b[38;5;129;01mis\u001b[39;00m \u001b[38;5;129;01mnot\u001b[39;00m \u001b[38;5;28;01mNone\u001b[39;00m:\n\u001b[0;32m    268\u001b[0m     \u001b[38;5;66;03m# Ensure dtype of output data matches the expected dtype.\u001b[39;00m\n\u001b[0;32m    269\u001b[0m     \u001b[38;5;66;03m# This check is added here as the dtype of the data is\u001b[39;00m\n\u001b[0;32m    270\u001b[0m     \u001b[38;5;66;03m# converted right before writing.\u001b[39;00m\n\u001b[0;32m    271\u001b[0m     kwargs[\u001b[38;5;124m\"\u001b[39m\u001b[38;5;124mnodata\u001b[39m\u001b[38;5;124m\"\u001b[39m] \u001b[38;5;241m=\u001b[39m _ensure_nodata_dtype(kwargs[\u001b[38;5;124m\"\u001b[39m\u001b[38;5;124mnodata\u001b[39m\u001b[38;5;124m\"\u001b[39m], numpy_dtype)\n\u001b[1;32m--> 273\u001b[0m \u001b[38;5;28;01mwith\u001b[39;00m rasterio\u001b[38;5;241m.\u001b[39mopen(\u001b[38;5;28mself\u001b[39m\u001b[38;5;241m.\u001b[39mraster_path, \u001b[38;5;124m\"\u001b[39m\u001b[38;5;124mw\u001b[39m\u001b[38;5;124m\"\u001b[39m, \u001b[38;5;241m*\u001b[39m\u001b[38;5;241m*\u001b[39mkwargs) \u001b[38;5;28;01mas\u001b[39;00m rds:\n\u001b[0;32m    274\u001b[0m     _write_metatata_to_raster(rds, xarray_dataarray, tags)\n\u001b[0;32m    275\u001b[0m     \u001b[38;5;28;01mif\u001b[39;00m \u001b[38;5;129;01mnot\u001b[39;00m (lock \u001b[38;5;129;01mand\u001b[39;00m is_dask_collection(xarray_dataarray\u001b[38;5;241m.\u001b[39mdata)):\n\u001b[0;32m    276\u001b[0m         \u001b[38;5;66;03m# write data to raster immmediately if not dask array\u001b[39;00m\n",
      "File \u001b[1;32mE:\\Geo_Data\\venv\\lib\\site-packages\\rasterio\\env.py:451\u001b[0m, in \u001b[0;36mensure_env_with_credentials.<locals>.wrapper\u001b[1;34m(*args, **kwds)\u001b[0m\n\u001b[0;32m    448\u001b[0m     session \u001b[38;5;241m=\u001b[39m DummySession()\n\u001b[0;32m    450\u001b[0m \u001b[38;5;28;01mwith\u001b[39;00m env_ctor(session\u001b[38;5;241m=\u001b[39msession):\n\u001b[1;32m--> 451\u001b[0m     \u001b[38;5;28;01mreturn\u001b[39;00m f(\u001b[38;5;241m*\u001b[39margs, \u001b[38;5;241m*\u001b[39m\u001b[38;5;241m*\u001b[39mkwds)\n",
      "File \u001b[1;32mE:\\Geo_Data\\venv\\lib\\site-packages\\rasterio\\__init__.py:331\u001b[0m, in \u001b[0;36mopen\u001b[1;34m(fp, mode, driver, width, height, count, crs, transform, dtype, nodata, sharing, **kwargs)\u001b[0m\n\u001b[0;32m    329\u001b[0m writer \u001b[38;5;241m=\u001b[39m get_writer_for_driver(driver)\n\u001b[0;32m    330\u001b[0m \u001b[38;5;28;01mif\u001b[39;00m writer \u001b[38;5;129;01mis\u001b[39;00m \u001b[38;5;129;01mnot\u001b[39;00m \u001b[38;5;28;01mNone\u001b[39;00m:\n\u001b[1;32m--> 331\u001b[0m     dataset \u001b[38;5;241m=\u001b[39m writer(\n\u001b[0;32m    332\u001b[0m         path,\n\u001b[0;32m    333\u001b[0m         mode,\n\u001b[0;32m    334\u001b[0m         driver\u001b[38;5;241m=\u001b[39mdriver,\n\u001b[0;32m    335\u001b[0m         width\u001b[38;5;241m=\u001b[39mwidth,\n\u001b[0;32m    336\u001b[0m         height\u001b[38;5;241m=\u001b[39mheight,\n\u001b[0;32m    337\u001b[0m         count\u001b[38;5;241m=\u001b[39mcount,\n\u001b[0;32m    338\u001b[0m         crs\u001b[38;5;241m=\u001b[39mcrs,\n\u001b[0;32m    339\u001b[0m         transform\u001b[38;5;241m=\u001b[39mtransform,\n\u001b[0;32m    340\u001b[0m         dtype\u001b[38;5;241m=\u001b[39mdtype,\n\u001b[0;32m    341\u001b[0m         nodata\u001b[38;5;241m=\u001b[39mnodata,\n\u001b[0;32m    342\u001b[0m         sharing\u001b[38;5;241m=\u001b[39msharing,\n\u001b[0;32m    343\u001b[0m         \u001b[38;5;241m*\u001b[39m\u001b[38;5;241m*\u001b[39mkwargs\n\u001b[0;32m    344\u001b[0m     )\n\u001b[0;32m    345\u001b[0m \u001b[38;5;28;01melse\u001b[39;00m:\n\u001b[0;32m    346\u001b[0m     \u001b[38;5;28;01mraise\u001b[39;00m DriverCapabilityError(\n\u001b[0;32m    347\u001b[0m         \u001b[38;5;124m\"\u001b[39m\u001b[38;5;124mWriter does not exist for driver: \u001b[39m\u001b[38;5;132;01m%s\u001b[39;00m\u001b[38;5;124m\"\u001b[39m \u001b[38;5;241m%\u001b[39m \u001b[38;5;28mstr\u001b[39m(driver)\n\u001b[0;32m    348\u001b[0m     )\n",
      "File \u001b[1;32mrasterio\\_io.pyx:1430\u001b[0m, in \u001b[0;36mrasterio._io.DatasetWriterBase.__init__\u001b[1;34m()\u001b[0m\n",
      "File \u001b[1;32mrasterio\\_io.pyx:293\u001b[0m, in \u001b[0;36mrasterio._io._delete_dataset_if_exists\u001b[1;34m()\u001b[0m\n",
      "File \u001b[1;32mrasterio\\_err.pyx:195\u001b[0m, in \u001b[0;36mrasterio._err.exc_wrap_int\u001b[1;34m()\u001b[0m\n",
      "\u001b[1;31mCPLE_AppDefinedError\u001b[0m: Deleting ./tmp/wind_global.tif failed: Permission denied"
     ]
    }
   ],
   "source": [
    "m = geemap.Map(layer_ctrl=True)\n",
    "m.add_netcdf(\n",
    "    filename,\n",
    "    variables=['v_wind'],\n",
    "    palette='coolwarm',\n",
    "    shift_lon=True,\n",
    "    layer_name='v_wind',\n",
    ")\n",
    "m.add_geojson(geojson, layer_name='Countries')\n",
    "m"
   ]
  },
  {
   "cell_type": "markdown",
   "id": "a1ca02f7",
   "metadata": {},
   "source": [
    "Visualizing wind velocity."
   ]
  },
  {
   "cell_type": "code",
   "execution_count": 18,
   "id": "0aa53822",
   "metadata": {
    "tags": []
   },
   "outputs": [
    {
     "data": {
      "application/vnd.jupyter.widget-view+json": {
       "model_id": "3c8c037efa854dcdaa8d24d5a33953c2",
       "version_major": 2,
       "version_minor": 0
      },
      "text/plain": [
       "Map(center=[20, 0], controls=(WidgetControl(options=['position', 'transparent_bg'], widget=HBox(children=(Togg…"
      ]
     },
     "execution_count": 18,
     "metadata": {},
     "output_type": "execute_result"
    }
   ],
   "source": [
    "m = geemap.Map(layer_ctrl=True)\n",
    "m.add_basemap('CartoDB.DarkMatter')\n",
    "m.add_velocity(filename, zonal_speed='u_wind', meridional_speed='v_wind')\n",
    "m"
   ]
  },
  {
   "cell_type": "markdown",
   "id": "85d56630",
   "metadata": {},
   "source": [
    "![](https://i.imgur.com/oL5Mgeu.gif)"
   ]
  }
 ],
 "metadata": {
  "kernelspec": {
   "display_name": "Python 3 (ipykernel)",
   "language": "python",
   "name": "python3"
  },
  "language_info": {
   "codemirror_mode": {
    "name": "ipython",
    "version": 3
   },
   "file_extension": ".py",
   "mimetype": "text/x-python",
   "name": "python",
   "nbconvert_exporter": "python",
   "pygments_lexer": "ipython3",
   "version": "3.10.11"
  }
 },
 "nbformat": 4,
 "nbformat_minor": 5
}
