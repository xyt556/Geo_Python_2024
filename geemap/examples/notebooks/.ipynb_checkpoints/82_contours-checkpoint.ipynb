{
 "cells": [
  {
   "cell_type": "code",
   "execution_count": 1,
   "id": "25fa24e0",
   "metadata": {
    "tags": []
   },
   "outputs": [],
   "source": [
    "import ee\n",
    "import geemap\n",
    "import geemap.colormaps as cm\n",
    "geemap.set_proxy(port='10792')"
   ]
  },
  {
   "cell_type": "code",
   "execution_count": 2,
   "id": "53ef0197",
   "metadata": {
    "tags": []
   },
   "outputs": [],
   "source": [
    "# geemap.update_package()"
   ]
  },
  {
   "cell_type": "code",
   "execution_count": 3,
   "id": "dd05c2b5",
   "metadata": {
    "tags": []
   },
   "outputs": [
    {
     "data": {
      "application/vnd.jupyter.widget-view+json": {
       "model_id": "e061982e1fbe4e10af7afdecbc7f2401",
       "version_major": 2,
       "version_minor": 0
      },
      "text/plain": [
       "Map(center=[20, 0], controls=(WidgetControl(options=['position', 'transparent_bg'], widget=HBox(children=(Togg…"
      ]
     },
     "execution_count": 3,
     "metadata": {},
     "output_type": "execute_result"
    }
   ],
   "source": [
    "Map = geemap.Map()\n",
    "Map"
   ]
  },
  {
   "cell_type": "code",
   "execution_count": 4,
   "id": "4d741c12",
   "metadata": {
    "tags": []
   },
   "outputs": [],
   "source": [
    "image = ee.Image(\"USGS/SRTMGL1_003\")"
   ]
  },
  {
   "cell_type": "code",
   "execution_count": 5,
   "id": "e27e6392",
   "metadata": {
    "tags": []
   },
   "outputs": [],
   "source": [
    "hillshade = ee.Terrain.hillshade(image)"
   ]
  },
  {
   "cell_type": "code",
   "execution_count": 6,
   "id": "b449c593",
   "metadata": {
    "tags": []
   },
   "outputs": [],
   "source": [
    "Map.addLayer(hillshade, {}, \"Hillshade\")"
   ]
  },
  {
   "cell_type": "code",
   "execution_count": 7,
   "id": "eb68d667",
   "metadata": {
    "tags": []
   },
   "outputs": [],
   "source": [
    "Map.addLayer(\n",
    "    image, {'min': 0, \"max\": 5000, \"palette\": cm.palettes.dem}, \"dem\", True, 0.5\n",
    ")"
   ]
  },
  {
   "cell_type": "code",
   "execution_count": 13,
   "id": "eca6d3a0",
   "metadata": {
    "tags": []
   },
   "outputs": [],
   "source": [
    "contours = geemap.create_contours(image, 0, 5000, 10, region=None)\n",
    "# print(contours)\n"
   ]
  },
  {
   "cell_type": "code",
   "execution_count": 11,
   "id": "e1c1667b",
   "metadata": {
    "tags": []
   },
   "outputs": [],
   "source": [
    "Map.addLayer(\n",
    "    contours, {'min': 0, \"max\": 5000, 'palette': cm.palettes.terrain}, 'contours'\n",
    ")"
   ]
  },
  {
   "cell_type": "markdown",
   "id": "8145e940",
   "metadata": {},
   "source": [
    "![](https://i.imgur.com/c9UZ9HP.png)"
   ]
  },
  {
   "cell_type": "code",
   "execution_count": null,
   "id": "64d4f37c-b5d2-47a2-a3d2-c2453b187b10",
   "metadata": {},
   "outputs": [],
   "source": []
  }
 ],
 "metadata": {
  "kernelspec": {
   "display_name": "Python 3 (ipykernel)",
   "language": "python",
   "name": "python3"
  },
  "language_info": {
   "codemirror_mode": {
    "name": "ipython",
    "version": 3
   },
   "file_extension": ".py",
   "mimetype": "text/x-python",
   "name": "python",
   "nbconvert_exporter": "python",
   "pygments_lexer": "ipython3",
   "version": "3.10.11"
  }
 },
 "nbformat": 4,
 "nbformat_minor": 5
}
