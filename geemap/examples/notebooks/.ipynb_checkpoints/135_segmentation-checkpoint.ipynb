{
 "cells": [
  {
   "cell_type": "markdown",
   "id": "09fab325",
   "metadata": {},
   "source": [
    "<a href=\"https://githubtocolab.com/gee-community/geemap/blob/master/examples/notebooks/135_segmentation.ipynb\" target=\"_parent\"><img src=\"https://colab.research.google.com/assets/colab-badge.svg\" alt=\"Open in Colab\"/></a>\n",
    "\n",
    "**Earth Engine Image Segmentation with the Segment Anything Model**\n",
    "\n",
    "Uncomment the following line to install [geemap](https://geemap.org) if needed."
   ]
  },
  {
   "cell_type": "code",
   "execution_count": null,
   "id": "62cf9268",
   "metadata": {},
   "outputs": [],
   "source": [
    "# !pip install -U geemap"
   ]
  },
  {
   "cell_type": "code",
   "execution_count": null,
   "id": "60814ed2",
   "metadata": {},
   "outputs": [],
   "source": [
    "# %pip install segment-geospatial"
   ]
  },
  {
   "cell_type": "markdown",
   "id": "96e53bf2-5ac7-4122-8e87-b276e94169de",
   "metadata": {},
   "source": [
    "samgeo库是一个用于分割地理空间数据的Python包，它使用了Segment Anything Model (SAM) ²。它可以从Tile Map Service (TMS)服务器下载地图瓦片并创建GeoTIFF文件，使用Segment Anything Model (SAM)对GeoTIFF文件进行分割，使用文本提示对遥感图像进行分割，交互式创建前景和背景标记，从矢量数据集加载现有标记，将分割结果保存为常见矢量格式（GeoPackage，Shapefile，GeoJSON），将输入提示保存为GeoJSON文件，在交互式地图上可视化分割结果²。\n",
    "\n",
    "您可以通过PyPI或conda-forge安装samgeo库¹。如果您的计算机上安装了Anaconda或Miniconda，则可以使用以下命令安装segment-geospatial：`conda install -c conda-forge segment-geospatial`。建议为segment-geospatial创建一个新的conda环境。以下命令将创建一个名为geo的新conda环境，并安装segment-geospatial及其依赖项：`conda install -n base mamba -c conda-forge mamba create -n geo segment-geospatial python=3.9 -c conda-forge`¹。\n",
    "\n",
    "(1) segment-geospatial. https://samgeo.gishub.org/.\n",
    "\n",
    "(2) Installation - segment-geospatial. https://samgeo.gishub.org/installation/.\n",
    "\n",
    "(3) samgeo module - segment-geospatial. https://samgeo.gishub.org/samgeo/."
   ]
  },
  {
   "cell_type": "code",
   "execution_count": 1,
   "id": "0c2f522f",
   "metadata": {
    "tags": []
   },
   "outputs": [],
   "source": [
    "import ee\n",
    "import geemap\n",
    "from samgeo import SamGeo"
   ]
  },
  {
   "cell_type": "code",
   "execution_count": null,
   "id": "bdfa1d02",
   "metadata": {
    "tags": []
   },
   "outputs": [],
   "source": [
    "Map = geemap.Map()\n",
    "point = ee.Geometry.Point(-122.259679, 37.871838)\n",
    "collection = (\n",
    "    ee.ImageCollection('USDA/NAIP/DOQQ')\n",
    "    .filterBounds(point)\n",
    "    .filterDate('2008-01-01', '2018-01-01')\n",
    "    .filter(ee.Filter.listContains(\"system:band_names\", \"N\"))\n",
    ")\n",
    "image = collection.first()\n",
    "Map.addLayer(image, {}, 'NAIP')\n",
    "Map.centerObject(point, 16)\n",
    "Map"
   ]
  },
  {
   "cell_type": "code",
   "execution_count": null,
   "id": "49fcba64",
   "metadata": {
    "tags": []
   },
   "outputs": [],
   "source": [
    "bbox = Map.user_roi_coords()\n",
    "if bbox is None:\n",
    "    bbox = [-122.2666, 37.8682, -122.252, 37.8752]"
   ]
  },
  {
   "cell_type": "code",
   "execution_count": null,
   "id": "8b3353c8",
   "metadata": {},
   "outputs": [],
   "source": [
    "geemap.ee_to_geotiff(\n",
    "    image, 'naip.tif', bbox, zoom=17, vis_params={'bands': ['R', 'G', 'B']}\n",
    ")"
   ]
  },
  {
   "cell_type": "code",
   "execution_count": null,
   "id": "8beb0f2c",
   "metadata": {},
   "outputs": [],
   "source": [
    "sam = SamGeo(\n",
    "    model_type=\"vit_h\",\n",
    "    checkpoint=\"sam_vit_h_4b8939.pth\",\n",
    "    device=None,\n",
    "    sam_kwargs=None,\n",
    ")"
   ]
  },
  {
   "cell_type": "code",
   "execution_count": null,
   "id": "9cebaeaf",
   "metadata": {},
   "outputs": [],
   "source": [
    "sam.generate(\"naip.tif\", output=\"masks.tif\", foreground=True, unique=True)"
   ]
  },
  {
   "cell_type": "code",
   "execution_count": null,
   "id": "3567c310",
   "metadata": {},
   "outputs": [],
   "source": [
    "sam.show_masks(cmap=\"binary_r\")"
   ]
  },
  {
   "cell_type": "code",
   "execution_count": null,
   "id": "7e6d5336",
   "metadata": {},
   "outputs": [],
   "source": [
    "sam.show_anns(axis=\"off\", alpha=1, output=\"annotations.tif\")"
   ]
  },
  {
   "cell_type": "code",
   "execution_count": null,
   "id": "8146bf28",
   "metadata": {},
   "outputs": [],
   "source": [
    "Map.add_raster(\"annotations.tif\", alpha=0.5, layer_name=\"Masks\")\n",
    "Map"
   ]
  },
  {
   "cell_type": "code",
   "execution_count": null,
   "id": "20819375",
   "metadata": {},
   "outputs": [],
   "source": [
    "sam.tiff_to_vector(\"masks.tif\", \"masks.shp\")"
   ]
  },
  {
   "cell_type": "code",
   "execution_count": null,
   "id": "fa6bd075",
   "metadata": {},
   "outputs": [],
   "source": [
    "style = {\n",
    "    \"color\": \"#3388ff\",\n",
    "    \"weight\": 2,\n",
    "    \"fillColor\": \"#7c4185\",\n",
    "    \"fillOpacity\": 0.5,\n",
    "}\n",
    "Map.add_vector('masks.shp', layer_name=\"Vector\", style=style)\n",
    "Map"
   ]
  }
 ],
 "metadata": {
  "kernelspec": {
   "display_name": "Python 3 (ipykernel)",
   "language": "python",
   "name": "python3"
  },
  "language_info": {
   "codemirror_mode": {
    "name": "ipython",
    "version": 3
   },
   "file_extension": ".py",
   "mimetype": "text/x-python",
   "name": "python",
   "nbconvert_exporter": "python",
   "pygments_lexer": "ipython3",
   "version": "3.10.11"
  }
 },
 "nbformat": 4,
 "nbformat_minor": 5
}
