{
 "cells": [
  {
   "cell_type": "markdown",
   "id": "14db7b77",
   "metadata": {},
   "source": [
    "<a href=\"https://githubtocolab.com/gee-community/geemap/blob/master/examples/notebooks/36_quality_mosaic.ipynb\" target=\"_parent\"><img src=\"https://colab.research.google.com/assets/colab-badge.svg\" alt=\"Open in Colab\"/></a>\n",
    "\n",
    "Uncomment the following line to install [geemap](https://geemap.org) if needed."
   ]
  },
  {
   "cell_type": "code",
   "execution_count": null,
   "id": "0fdc59af",
   "metadata": {},
   "outputs": [],
   "source": [
    "# !pip install geemap"
   ]
  },
  {
   "cell_type": "markdown",
   "id": "e104c9bc",
   "metadata": {},
   "source": [
    "# How to find out the greenest day of the year"
   ]
  },
  {
   "cell_type": "markdown",
   "id": "dc7624da",
   "metadata": {},
   "source": [
    "## Import libraries"
   ]
  },
  {
   "cell_type": "code",
   "execution_count": 1,
   "id": "0582e595",
   "metadata": {
    "tags": []
   },
   "outputs": [],
   "source": [
    "import ee\n",
    "import geemap\n",
    "geemap.set_proxy(port='10792')"
   ]
  },
  {
   "cell_type": "markdown",
   "id": "3e81353a",
   "metadata": {},
   "source": [
    "## Create an interactive map"
   ]
  },
  {
   "cell_type": "code",
   "execution_count": 2,
   "id": "041361b6",
   "metadata": {
    "tags": []
   },
   "outputs": [
    {
     "data": {
      "application/vnd.jupyter.widget-view+json": {
       "model_id": "eda92d1eb0374a518572fe438ae6bfb8",
       "version_major": 2,
       "version_minor": 0
      },
      "text/plain": [
       "Map(center=[20, 0], controls=(WidgetControl(options=['position', 'transparent_bg'], widget=HBox(children=(Togg…"
      ]
     },
     "execution_count": 2,
     "metadata": {},
     "output_type": "execute_result"
    }
   ],
   "source": [
    "Map = geemap.Map()\n",
    "Map"
   ]
  },
  {
   "cell_type": "markdown",
   "id": "614d00a6",
   "metadata": {},
   "source": [
    "## Define a region of interest (ROI)"
   ]
  },
  {
   "cell_type": "code",
   "execution_count": 3,
   "id": "c40fa3dc",
   "metadata": {
    "tags": []
   },
   "outputs": [],
   "source": [
    "countries = ee.FeatureCollection('users/giswqs/public/countries')\n",
    "Map.addLayer(countries, {}, 'coutries')"
   ]
  },
  {
   "cell_type": "code",
   "execution_count": 7,
   "id": "13ceaa3e",
   "metadata": {
    "tags": []
   },
   "outputs": [],
   "source": [
    "roi = countries.filter(ee.Filter.eq('NAME', 'China'))\n",
    "Map.addLayer(roi, {}, 'roi')"
   ]
  },
  {
   "cell_type": "markdown",
   "id": "3efd2b19",
   "metadata": {},
   "source": [
    "## Filter ImageCollection"
   ]
  },
  {
   "cell_type": "markdown",
   "id": "42975832-0882-408c-90a8-a1be600c7c96",
   "metadata": {},
   "source": [
    "## jsTogeemap\n"
   ]
  },
  {
   "cell_type": "markdown",
   "id": "28ac6579-b6ac-4792-8e77-518d5cfff145",
   "metadata": {},
   "source": []
  },
  {
   "cell_type": "code",
   "execution_count": 14,
   "id": "3680450b-a604-47fd-ad6a-5bb201c87d1f",
   "metadata": {
    "tags": []
   },
   "outputs": [],
   "source": [
    "js_snippet = \"\"\"\n",
    "var dataset = ee.ImageCollection('LANDSAT/LC08/C02/T1_L2')\n",
    "    .filterDate('2021-05-01', '2021-06-01');\n",
    "\n",
    "// Applies scaling factors.\n",
    "function applyScaleFactors(image) {\n",
    "  var opticalBands = image.select('SR_B.').multiply(0.0000275).add(-0.2);\n",
    "  var thermalBands = image.select('ST_B.*').multiply(0.00341802).add(149.0);\n",
    "  return image.addBands(opticalBands, null, true)\n",
    "              .addBands(thermalBands, null, true);\n",
    "}\n",
    "\n",
    "dataset = dataset.map(applyScaleFactors);\n",
    "\n",
    "var visualization = {\n",
    "  bands: ['SR_B4', 'SR_B3', 'SR_B2'],\n",
    "  min: 0.0,\n",
    "  max: 0.3,\n",
    "};\n",
    "\n",
    "Map.setCenter(-114.2579, 38.9275, 8);\n",
    "\n",
    "Map.addLayer(dataset, visualization, 'True Color (432)');\n",
    "\n",
    "\n",
    "\"\"\""
   ]
  },
  {
   "cell_type": "code",
   "execution_count": 15,
   "id": "75404200-d17d-4d80-998b-f57e7f282cc4",
   "metadata": {
    "tags": []
   },
   "outputs": [],
   "source": [
    "geemap.js_snippet_to_py(\n",
    "    js_snippet, add_new_cell=True, import_ee=True, import_geemap=True, show_map=True\n",
    ")"
   ]
  },
  {
   "cell_type": "code",
   "execution_count": null,
   "id": "ce764777-9e7b-41a7-8e4e-da9e0f9df2d8",
   "metadata": {
    "tags": []
   },
   "outputs": [],
   "source": [
    "import ee\n",
    "import geemap\n",
    "\n",
    "Map = geemap.Map()\n",
    "import geemap\n",
    "\n",
    "Map = geemap.Map()\n",
    "\n",
    "dataset = ee.ImageCollection('LANDSAT/LC08/C02/T1_L2') \\\n",
    "    .filterDate('2021-05-01', '2021-06-01')\n",
    "\n",
    "# Applies scaling factors.\n",
    "def applyScaleFactors(image):\n",
    "  opticalBands = image.select('SR_B.').multiply(0.0000275).add(-0.2)\n",
    "  thermalBands = image.select('ST_B.*').multiply(0.00341802).add(149.0)\n",
    "  return image.addBands(opticalBands, None, True) \\\n",
    "              .addBands(thermalBands, None, True)\n",
    "\n",
    "dataset = dataset.map(applyScaleFactors)\n",
    "\n",
    "visualization = {\n",
    "  'bands': ['SR_B4', 'SR_B3', 'SR_B2'],\n",
    "  'min': 0.0,\n",
    "  'max': 0.3,\n",
    "}\n",
    "\n",
    "Map.setCenter(-114.2579, 38.9275, 8)\n",
    "\n",
    "Map.addLayer(dataset, visualization, 'True Color (432)')\n",
    "\n",
    "Map"
   ]
  },
  {
   "cell_type": "code",
   "execution_count": null,
   "id": "317a801e-586d-476e-a2f8-6d1f5f7880a3",
   "metadata": {},
   "outputs": [],
   "source": []
  },
  {
   "cell_type": "code",
   "execution_count": null,
   "id": "2b2ec2b2-55fe-4127-b491-05405318b953",
   "metadata": {},
   "outputs": [],
   "source": []
  },
  {
   "cell_type": "code",
   "execution_count": 9,
   "id": "9ae970c9",
   "metadata": {
    "jupyter": {
     "source_hidden": true
    },
    "tags": []
   },
   "outputs": [],
   "source": [
    "start_date = '2019-01-01'\n",
    "end_date = '2019-12-31'\n",
    "\n",
    "l8 = (\n",
    "    ee.ImageCollection('LANDSAT/LC08/C02/T1_L2')\n",
    "    .filterBounds(roi)\n",
    "    .filterDate(start_date, end_date)\n",
    ")"
   ]
  },
  {
   "cell_type": "code",
   "execution_count": 10,
   "id": "7e910333",
   "metadata": {
    "tags": []
   },
   "outputs": [
    {
     "name": "stdout",
     "output_type": "stream",
     "text": [
      "10773\n"
     ]
    }
   ],
   "source": [
    "print(l8.size().getInfo())"
   ]
  },
  {
   "cell_type": "markdown",
   "id": "bf6132fe",
   "metadata": {
    "tags": []
   },
   "source": [
    "## Create a median composite"
   ]
  },
  {
   "cell_type": "code",
   "execution_count": 20,
   "id": "08ed1804",
   "metadata": {
    "tags": []
   },
   "outputs": [
    {
     "data": {
      "application/vnd.jupyter.widget-view+json": {
       "model_id": "6bf87d9d821a4a9c900638e9ec452116",
       "version_major": 2,
       "version_minor": 0
      },
      "text/plain": [
       "Map(center=[20, 0], controls=(WidgetControl(options=['position', 'transparent_bg'], widget=HBox(children=(Togg…"
      ]
     },
     "execution_count": 20,
     "metadata": {},
     "output_type": "execute_result"
    }
   ],
   "source": [
    "median = l8.median()\n",
    "\n",
    "visParams = {\n",
    "    'bands': ['SR_B4', 'SR_B3', 'SR_B2'],\n",
    "    'min': 0,\n",
    "    'max': 0.3,\n",
    "}\n",
    "\n",
    "\n",
    "def applyScaleFactors(image):\n",
    "  opticalBands = image.select('SR_B.').multiply(0.0000275).add(-0.2)\n",
    "  thermalBands = image.select('ST_B.*').multiply(0.00341802).add(149.0)\n",
    "  return image.addBands(opticalBands, None, True) \\\n",
    "              .addBands(thermalBands, None, True)\n",
    "\n",
    "median1 = applyScaleFactors(median)\n",
    "\n",
    "Map.addLayer(median1, visParams, 'Median1')\n",
    "Map"
   ]
  },
  {
   "cell_type": "markdown",
   "id": "2bfa941d",
   "metadata": {},
   "source": [
    "## Define functions to add time bands"
   ]
  },
  {
   "cell_type": "code",
   "execution_count": 21,
   "id": "2c537581",
   "metadata": {
    "tags": []
   },
   "outputs": [],
   "source": [
    "def addNDVI(image):\n",
    "    ndvi = image.normalizedDifference(['SR_B5', 'SR_B4']).rename('NDVI')\n",
    "    return image.addBands(ndvi)"
   ]
  },
  {
   "cell_type": "code",
   "execution_count": 22,
   "id": "de3157da",
   "metadata": {
    "tags": []
   },
   "outputs": [],
   "source": [
    "def addDate(image):\n",
    "    img_date = ee.Date(image.date())\n",
    "    img_date = ee.Number.parse(img_date.format('YYYYMMdd'))\n",
    "    return image.addBands(ee.Image(img_date).rename('date').toInt())"
   ]
  },
  {
   "cell_type": "code",
   "execution_count": 23,
   "id": "b6f47d27",
   "metadata": {
    "tags": []
   },
   "outputs": [],
   "source": [
    "def addMonth(image):\n",
    "    img_date = ee.Date(image.date())\n",
    "    img_doy = ee.Number.parse(img_date.format('M'))\n",
    "    return image.addBands(ee.Image(img_doy).rename('month').toInt())"
   ]
  },
  {
   "cell_type": "code",
   "execution_count": 24,
   "id": "23619ccb",
   "metadata": {
    "tags": []
   },
   "outputs": [],
   "source": [
    "def addDOY(image):\n",
    "    img_date = ee.Date(image.date())\n",
    "    img_doy = ee.Number.parse(img_date.format('D'))\n",
    "    return image.addBands(ee.Image(img_doy).rename('doy').toInt())"
   ]
  },
  {
   "cell_type": "markdown",
   "id": "60e9c0ca",
   "metadata": {},
   "source": [
    "## Map over an ImageCollection"
   ]
  },
  {
   "cell_type": "code",
   "execution_count": 25,
   "id": "e7fadeec",
   "metadata": {
    "tags": []
   },
   "outputs": [],
   "source": [
    "withNDVI = l8.map(addNDVI).map(addDate).map(addMonth).map(addDOY)"
   ]
  },
  {
   "cell_type": "markdown",
   "id": "075fd57a",
   "metadata": {},
   "source": [
    "## Create a quality mosaic"
   ]
  },
  {
   "cell_type": "code",
   "execution_count": 26,
   "id": "ae6055fa",
   "metadata": {
    "tags": []
   },
   "outputs": [],
   "source": [
    "greenest = withNDVI.qualityMosaic('NDVI')"
   ]
  },
  {
   "cell_type": "code",
   "execution_count": 27,
   "id": "ae78d993",
   "metadata": {
    "tags": []
   },
   "outputs": [
    {
     "data": {
      "text/plain": [
       "['SR_B1',\n",
       " 'SR_B2',\n",
       " 'SR_B3',\n",
       " 'SR_B4',\n",
       " 'SR_B5',\n",
       " 'SR_B6',\n",
       " 'SR_B7',\n",
       " 'SR_QA_AEROSOL',\n",
       " 'ST_B10',\n",
       " 'ST_ATRAN',\n",
       " 'ST_CDIST',\n",
       " 'ST_DRAD',\n",
       " 'ST_EMIS',\n",
       " 'ST_EMSD',\n",
       " 'ST_QA',\n",
       " 'ST_TRAD',\n",
       " 'ST_URAD',\n",
       " 'QA_PIXEL',\n",
       " 'QA_RADSAT',\n",
       " 'NDVI',\n",
       " 'date',\n",
       " 'month',\n",
       " 'doy']"
      ]
     },
     "execution_count": 27,
     "metadata": {},
     "output_type": "execute_result"
    }
   ],
   "source": [
    "greenest.bandNames().getInfo()"
   ]
  },
  {
   "cell_type": "markdown",
   "id": "40fb97f6",
   "metadata": {},
   "source": [
    "## Display the max value band"
   ]
  },
  {
   "cell_type": "code",
   "execution_count": 28,
   "id": "89f484ea",
   "metadata": {
    "tags": []
   },
   "outputs": [],
   "source": [
    "ndvi = greenest.select('NDVI')\n",
    "palette = [\n",
    "    '#d73027',\n",
    "    '#f46d43',\n",
    "    '#fdae61',\n",
    "    '#fee08b',\n",
    "    '#d9ef8b',\n",
    "    '#a6d96a',\n",
    "    '#66bd63',\n",
    "    '#1a9850',\n",
    "]\n",
    "Map.addLayer(ndvi, {'palette': palette}, 'NDVI')"
   ]
  },
  {
   "cell_type": "code",
   "execution_count": 29,
   "id": "ad76fb7f",
   "metadata": {
    "tags": []
   },
   "outputs": [
    {
     "data": {
      "application/vnd.jupyter.widget-view+json": {
       "model_id": "6bf87d9d821a4a9c900638e9ec452116",
       "version_major": 2,
       "version_minor": 0
      },
      "text/plain": [
       "Map(bottom=1211.0, center=[19.407884972237024, 91.45332994134695], controls=(WidgetControl(options=['position'…"
      ]
     },
     "execution_count": 29,
     "metadata": {},
     "output_type": "execute_result"
    }
   ],
   "source": [
    "Map.addLayer(greenest, visParams, 'Greenest pixel')\n",
    "Map"
   ]
  },
  {
   "cell_type": "markdown",
   "id": "9f28637a",
   "metadata": {},
   "source": [
    "## Display time bands"
   ]
  },
  {
   "cell_type": "code",
   "execution_count": 30,
   "id": "d712e45c",
   "metadata": {
    "tags": []
   },
   "outputs": [],
   "source": [
    "Map.addLayer(\n",
    "    greenest.select('month'),\n",
    "    {'palette': ['red', 'blue'], 'min': 1, 'max': 12},\n",
    "    'Greenest month',\n",
    ")"
   ]
  },
  {
   "cell_type": "code",
   "execution_count": 31,
   "id": "fa475c3d",
   "metadata": {
    "tags": []
   },
   "outputs": [],
   "source": [
    "Map.addLayer(\n",
    "    greenest.select('doy'),\n",
    "    {'palette': ['brown', 'green'], 'min': 1, 'max': 365},\n",
    "    'Greenest doy',\n",
    ")"
   ]
  },
  {
   "cell_type": "code",
   "execution_count": null,
   "id": "07ae1a07-2c87-4ec0-8044-5438946033d8",
   "metadata": {},
   "outputs": [],
   "source": []
  }
 ],
 "metadata": {
  "kernelspec": {
   "display_name": "Python 3 (ipykernel)",
   "language": "python",
   "name": "python3"
  },
  "language_info": {
   "codemirror_mode": {
    "name": "ipython",
    "version": 3
   },
   "file_extension": ".py",
   "mimetype": "text/x-python",
   "name": "python",
   "nbconvert_exporter": "python",
   "pygments_lexer": "ipython3",
   "version": "3.10.11"
  }
 },
 "nbformat": 4,
 "nbformat_minor": 5
}
