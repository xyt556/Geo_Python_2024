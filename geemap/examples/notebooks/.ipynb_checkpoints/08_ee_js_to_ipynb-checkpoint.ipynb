{
 "cells": [
  {
   "cell_type": "markdown",
   "id": "67a5ef02",
   "metadata": {},
   "source": [
    "<a href=\"https://githubtocolab.com/gee-community/geemap/blob/master/examples/notebooks/08_ee_js_to_ipynb.ipynb\" target=\"_parent\"><img src=\"https://colab.research.google.com/assets/colab-badge.svg\" alt=\"Open in Colab\"/></a>\n",
    "\n",
    "Uncomment the following line to install [geemap](https://geemap.org) if needed."
   ]
  },
  {
   "cell_type": "code",
   "execution_count": null,
   "id": "8436a62c",
   "metadata": {},
   "outputs": [],
   "source": [
    "# !pip install geemap"
   ]
  },
  {
   "cell_type": "markdown",
   "id": "5b6ca961",
   "metadata": {},
   "source": [
    "## Automatic conversion from Earth Engine JavaScripts to Python scripts\n",
    "\n",
    "### Install Earth Engine API and geemap\n",
    "Install the [Earth Engine Python API](https://developers.google.com/earth-engine/python_install) and [geemap](https://github.com/gee-community/geemap). The **geemap** Python package is built upon the [ipyleaflet](https://github.com/jupyter-widgets/ipyleaflet) and [folium](https://github.com/python-visualization/folium) packages and implements several methods for interacting with Earth Engine data layers, such as `Map.addLayer()`, `Map.setCenter()`, and `Map.centerObject()`.\n",
    "The following script checks if the geemap package has been installed. If not, it will install geemap, which automatically installs its [dependencies](https://github.com/gee-community/geemap#dependencies), including earthengine-api, folium, and ipyleaflet.\n",
    "\n",
    "**Important note**: A key difference between folium and ipyleaflet is that ipyleaflet is built upon ipywidgets and allows bidirectional communication between the front-end and the backend enabling the use of the map to capture user input, while folium is meant for displaying static data only ([source](https://blog.jupyter.org/interactive-gis-in-jupyter-with-ipyleaflet-52f9657fa7a)). Note that [Google Colab](https://colab.research.google.com/) currently does not support ipyleaflet ([source](https://github.com/googlecolab/colabtools/issues/60#issuecomment-596225619)). Therefore, if you are using geemap with Google Colab, you should use [`import geemap.foliumap`](https://github.com/gee-community/geemap/blob/master/geemap/foliumap.py). If you are using geemap with [binder](https://mybinder.org/) or a local Jupyter notebook server, you can use [`import geemap`](https://github.com/gee-community/geemap/blob/master/geemap/geemap.py), which provides more functionalities for capturing user input (e.g., mouse-clicking and moving)."
   ]
  },
  {
   "cell_type": "markdown",
   "id": "a47296d1-8d08-4944-8f81-71f7d10d1239",
   "metadata": {},
   "source": [
    "## 从Earth Engine JavaScript自动转换为Python脚本 \n",
    "### 安装Earth Engine API和geemap \n",
    "安装[Earth Engine Python API](https://developers.google.com/earth-engine/python_install)和[geemap](https://github.com/gee-community/geemap)。**geemap** Python包建立在[ipyleaflet](https://github.com/jupyter-widgets/ipyleaflet)和[folium](https://github.com/python-visualization/folium)包的基础上,实现了与Earth Engine数据层交互的几种方法,例如`Map.addLayer()`、`Map.setCenter()`和`Map.centerObject()`。\n",
    "以下脚本检查是否已安装geemap包。如果没有,它将安装geemap,其会自动安装其[依赖项](https://github.com/gee-community/geemap#dependencies),包括earthengine-api、folium和ipyleaflet。 \n",
    "\n",
    "**重要说明**:folium和ipyleaflet之间的一个关键区别是ipyleaflet建立在ipywidgets之上,它允许前端和后端之间的双向通信,从而使用地图捕获用户输入,而folium仅用于显示静态数据([源](https://blog.jupyter.org/interactive-gis-in-jupyter-with-ipyleaflet-52f9657fa7a))。请注意,[Google Colab](https://colab.research.google.com/)目前不支持ipyleaflet([源](https://github.com/googlecolab/colabtools/issues/60#issuecomment-596225619))。因此,如果您使用Google Colab使用geemap,您应该使用[importgeemap.foliumap](https://github.com/gee-community/geemap/blob/master/geemap/foliumap.py)。如果您使用[binder](https://mybinder.org/)或本地Jupyter notebook服务器使用geemap,您可以使用[importgeemap](https://github.com/gee-community/geemap/blob/master/geemap/geemap.py),它提供更多功能来捕获用户输入(例如,鼠标单击和移动)。"
   ]
  },
  {
   "cell_type": "code",
   "execution_count": null,
   "id": "30d045a7",
   "metadata": {},
   "outputs": [],
   "source": [
    "import geemap"
   ]
  },
  {
   "cell_type": "code",
   "execution_count": null,
   "id": "9c95e71b",
   "metadata": {},
   "outputs": [],
   "source": [
    "geemap.show_youtube('RpIaalFk4H8')"
   ]
  },
  {
   "cell_type": "markdown",
   "id": "558f9ec2",
   "metadata": {},
   "source": [
    "### Convert Earth Engine JavaScripts to Python scripts"
   ]
  },
  {
   "cell_type": "code",
   "execution_count": null,
   "id": "493450c5",
   "metadata": {},
   "outputs": [],
   "source": [
    "import os\n",
    "from geemap.conversion import *\n",
    "\n",
    "# Create a temporary working directory\n",
    "work_dir = os.path.join(os.path.expanduser('~'), 'geemap')\n",
    "# Get Earth Engine JavaScript examples. There are five examples in the geemap package folder.\n",
    "# Change js_dir to your own folder containing your Earth Engine JavaScripts,\n",
    "# such as js_dir = '/path/to/your/js/folder'\n",
    "js_dir = get_js_examples(out_dir=work_dir)\n",
    "\n",
    "# Convert all Earth Engine JavaScripts in a folder recursively to Python scripts.\n",
    "js_to_python_dir(in_dir=js_dir, out_dir=js_dir, use_qgis=True)\n",
    "print(\"Python scripts saved at: {}\".format(js_dir))"
   ]
  },
  {
   "cell_type": "markdown",
   "id": "3edd11c5",
   "metadata": {},
   "source": [
    "### Convert Earth Engine Python scripts to Jupyter Notebooks"
   ]
  },
  {
   "cell_type": "code",
   "execution_count": null,
   "id": "f225c00b",
   "metadata": {},
   "outputs": [],
   "source": [
    "# Convert all Earth Engine Python scripts in a folder recursively to Jupyter notebooks.\n",
    "nb_template = get_nb_template()  # Get the notebook template from the package folder.\n",
    "py_to_ipynb_dir(js_dir, nb_template)\n",
    "\n",
    "# Execute all Jupyter notebooks in a folder recursively and save the output cells.\n",
    "# execute_notebook_dir(in_dir=js_dir)"
   ]
  }
 ],
 "metadata": {
  "kernelspec": {
   "display_name": "Python 3 (ipykernel)",
   "language": "python",
   "name": "python3"
  },
  "language_info": {
   "codemirror_mode": {
    "name": "ipython",
    "version": 3
   },
   "file_extension": ".py",
   "mimetype": "text/x-python",
   "name": "python",
   "nbconvert_exporter": "python",
   "pygments_lexer": "ipython3",
   "version": "3.10.11"
  }
 },
 "nbformat": 4,
 "nbformat_minor": 5
}
