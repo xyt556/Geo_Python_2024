{
    "cells": [
        {
            "cell_type": "markdown",
            "metadata": {},
            "source": [
                "<a href=\"https://githubtocolab.com/gee-community/geemap/blob/master/examples/notebooks/qgis_layer_style_file.ipynb\" target=\"_parent\"><img src=\"https://colab.research.google.com/assets/colab-badge.svg\" alt=\"Open in Colab\"/></a>\n",
                "\n",
                "Uncomment the following line to install [geemap](https://geemap.org) if needed."
            ]
        },
        {
            "cell_type": "code",
            "execution_count": null,
            "metadata": {},
            "outputs": [],
            "source": [
                "# !pip install geemap"
            ]
        },
        {
            "cell_type": "code",
            "execution_count": null,
            "metadata": {},
            "outputs": [],
            "source": [
                "import os\n",
                "import geemap"
            ]
        },
        {
            "cell_type": "markdown",
            "metadata": {},
            "source": [
                "## Create a QGIS Layer Style File for NLCD data"
            ]
        },
        {
            "cell_type": "code",
            "execution_count": null,
            "metadata": {},
            "outputs": [],
            "source": [
                "out_nlcd_qml = os.path.join(os.path.expanduser('~/Downloads'), 'nlcd_style.qml')"
            ]
        },
        {
            "cell_type": "code",
            "execution_count": null,
            "metadata": {},
            "outputs": [],
            "source": [
                "geemap.create_nlcd_qml(out_nlcd_qml)"
            ]
        },
        {
            "cell_type": "markdown",
            "metadata": {},
            "source": [
                "## Create a QGIS Layer Style File from an Earth Engine color table\n",
                "\n",
                "Separated by Tab"
            ]
        },
        {
            "cell_type": "code",
            "execution_count": null,
            "metadata": {},
            "outputs": [],
            "source": [
                "ee_class_table = \"\"\"\n",
                "\n",
                "    Value\tColor\tDescription\n",
                "    0\t1c0dff\tWater\n",
                "    1\t05450a\tEvergreen needleleaf forest\n",
                "    2\t086a10\tEvergreen broadleaf forest\n",
                "    3\t54a708\tDeciduous needleleaf forest\n",
                "    4\t78d203\tDeciduous broadleaf forest\n",
                "    5\t009900\tMixed forest\n",
                "    6\tc6b044\tClosed shrublands\n",
                "    7\tdcd159\tOpen shrublands\n",
                "    8\tdade48\tWoody savannas\n",
                "    9\tfbff13\tSavannas\n",
                "    10\tb6ff05\tGrasslands\n",
                "    11\t27ff87\tPermanent wetlands\n",
                "    12\tc24f44\tCroplands\n",
                "    13\ta5a5a5\tUrban and built-up\n",
                "    14\tff6d4c\tCropland/natural vegetation mosaic\n",
                "    15\t69fff8\tSnow and ice\n",
                "    16\tf9ffa4\tBarren or sparsely vegetated\n",
                "    254\tffffff\tUnclassified\n",
                "\n",
                "\"\"\""
            ]
        },
        {
            "cell_type": "code",
            "execution_count": null,
            "metadata": {},
            "outputs": [],
            "source": [
                "out_qml = os.path.join(os.path.expanduser('~/Downloads'), 'image_style.qml')"
            ]
        },
        {
            "cell_type": "code",
            "execution_count": null,
            "metadata": {},
            "outputs": [],
            "source": [
                "geemap.vis_to_qml(ee_class_table, out_qml)"
            ]
        }
    ],
    "metadata": {
        "kernelspec": {
            "display_name": "Python 3",
            "language": "python",
            "name": "python3"
        }
    },
    "nbformat": 4,
    "nbformat_minor": 5
}