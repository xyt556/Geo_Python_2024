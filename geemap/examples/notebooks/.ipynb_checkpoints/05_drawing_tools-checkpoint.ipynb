{
 "cells": [
  {
   "cell_type": "markdown",
   "id": "6608dd5b",
   "metadata": {},
   "source": [
    "<a href=\"https://githubtocolab.com/gee-community/geemap/blob/master/examples/notebooks/05_drawing_tools.ipynb\" target=\"_parent\"><img src=\"https://colab.research.google.com/assets/colab-badge.svg\" alt=\"Open in Colab\"/></a>\n",
    "\n",
    "Uncomment the following line to install [geemap](https://geemap.org) if needed."
   ]
  },
  {
   "cell_type": "code",
   "execution_count": null,
   "id": "4f63cbba",
   "metadata": {},
   "outputs": [],
   "source": [
    "# !pip install geemap"
   ]
  },
  {
   "cell_type": "code",
   "execution_count": 1,
   "id": "2e38cabb",
   "metadata": {
    "tags": []
   },
   "outputs": [],
   "source": [
    "import ee\n",
    "import geemap\n",
    "geemap.set_proxy(port='4780')"
   ]
  },
  {
   "cell_type": "code",
   "execution_count": 2,
   "id": "5a835bdd",
   "metadata": {
    "tags": []
   },
   "outputs": [
    {
     "data": {
      "application/vnd.jupyter.widget-view+json": {
       "model_id": "ef9f24a0d9d646868e10976ebbf2567b",
       "version_major": 2,
       "version_minor": 0
      },
      "text/plain": [
       "Output(layout=Layout(width='815px'))"
      ]
     },
     "metadata": {},
     "output_type": "display_data"
    }
   ],
   "source": [
    "geemap.show_youtube('N7rK2aV1R4c')"
   ]
  },
  {
   "cell_type": "code",
   "execution_count": 28,
   "id": "e6431bca",
   "metadata": {
    "tags": []
   },
   "outputs": [
    {
     "data": {
      "application/vnd.jupyter.widget-view+json": {
       "model_id": "a302db4025424bdb886b8c0ca8a7abdb",
       "version_major": 2,
       "version_minor": 0
      },
      "text/plain": [
       "Map(center=[20, 0], controls=(WidgetControl(options=['position', 'transparent_bg'], widget=HBox(children=(Togg…"
      ]
     },
     "execution_count": 28,
     "metadata": {},
     "output_type": "execute_result"
    }
   ],
   "source": [
    "Map = geemap.Map()\n",
    "Map"
   ]
  },
  {
   "cell_type": "code",
   "execution_count": 29,
   "id": "7d02a348",
   "metadata": {
    "tags": []
   },
   "outputs": [],
   "source": [
    "# Add Earth Engine dataset\n",
    "image = ee.Image('USGS/SRTMGL1_003')\n",
    "\n",
    "# Set visualization parameters.\n",
    "vis_params = {\n",
    "    'min': 0,\n",
    "    'max': 4000,\n",
    "    'palette': ['006633', 'E5FFCC', '662A00', 'D8D8D8', 'F5F5F5'],\n",
    "}\n",
    "\n",
    "# Add Earth Engine DEM to map\n",
    "Map.addLayer(image, vis_params, 'SRTM DEM')\n",
    "\n",
    "states = ee.FeatureCollection(\"TIGER/2018/States\")\n",
    "Map.addLayer(states, {}, 'US States')"
   ]
  },
  {
   "cell_type": "markdown",
   "id": "76215f62-4cec-4d84-acf8-f23aabaf109f",
   "metadata": {},
   "source": [
    "`Map.draw_features` 是一个属性，它包含了使用地图绘图工具绘制的所有要素。这些要素存储在一个 `ee.FeatureCollection` 对象中，可以用于进一步的分析和处理。\n",
    "\n",
    "例如，下面的代码演示了如何使用 `Map.draw_features` 选择并剪切图像：\n",
    "\n",
    "```python\n",
    "Map.draw_features\n",
    "roi = ee.FeatureCollection(Map.draw_features)\n",
    "selected_states = states.filterBounds(roi)\n",
    "Map.addLayer(selected_states, {}, \"Selected states\")\n",
    "clipped_image = image.clip(selected_states)\n",
    "Map.addLayer(clipped_image, vis_params, 'Clipped image')\n",
    "```\n",
    "\n",
    "在此示例中，我们首先使用地图绘图工具绘制一个区域，然后使用 `Map.draw_features` 获取绘制的要素。接着，我们使用 `filterBounds()` 方法选择与绘制区域相交的州，并将它们添加到地图上。最后，我们使用 `clip()` 方法将图像剪切到所选州的边界，并将剪切后的图像添加到地图上。¹\n",
    "\n",
    "(1) 05 drawing tools - geemap. https://geemap.org/notebooks/05_drawing_tools/ 访问时间 2023/6/3.\n",
    "\n",
    "(2) Usage - geemap. https://geemap.org/usage/ 访问时间 2023/6/3.\n",
    "\n",
    "(3) 00 geemap key features - geemap. https://geemap.org/notebooks/00_geemap_key_features/ 访问时间 2023/6/3."
   ]
  },
  {
   "cell_type": "code",
   "execution_count": 30,
   "id": "7e5c3820",
   "metadata": {
    "tags": []
   },
   "outputs": [
    {
     "data": {
      "text/plain": [
       "[<ee.feature.Feature at 0x2327f173790>]"
      ]
     },
     "execution_count": 30,
     "metadata": {},
     "output_type": "execute_result"
    }
   ],
   "source": [
    "Map.draw_features"
   ]
  },
  {
   "cell_type": "code",
   "execution_count": 31,
   "id": "de3eb761",
   "metadata": {
    "tags": []
   },
   "outputs": [
    {
     "data": {
      "text/html": [
       "<div><style>:root {\n",
       "  --font-color-primary: var(--jp-content-font-color0, rgba(0, 0, 0, 1));\n",
       "  --font-color-secondary: var(--jp-content-font-color2, rgba(0, 0, 0, 0.6));\n",
       "  --font-color-accent: rgba(123, 31, 162, 1);\n",
       "  --border-color: var(--jp-border-color2, #e0e0e0);\n",
       "  --background-color: var(--jp-layout-color0, white);\n",
       "  --background-color-row-even: var(--jp-layout-color1, white);\n",
       "  --background-color-row-odd: var(--jp-layout-color2, #eeeeee);\n",
       "}\n",
       "\n",
       "html[theme=\"dark\"],\n",
       "body[data-theme=\"dark\"],\n",
       "body.vscode-dark {\n",
       "  --font-color-primary: rgba(255, 255, 255, 1);\n",
       "  --font-color-secondary: rgba(255, 255, 255, 0.6);\n",
       "  --font-color-accent: rgb(173, 132, 190);\n",
       "  --border-color: #2e2e2e;\n",
       "  --background-color: #111111;\n",
       "  --background-color-row-even: #111111;\n",
       "  --background-color-row-odd: #313131;\n",
       "}\n",
       "\n",
       ".ee {\n",
       "  padding: 1em;\n",
       "  line-height: 1.5em;\n",
       "  min-width: 300px;\n",
       "  max-width: 1200px;\n",
       "  overflow-y: scroll;\n",
       "  max-height: 600px;\n",
       "  border: 1px solid var(--border-color);\n",
       "  font-family: monospace;\n",
       "}\n",
       "\n",
       ".ee li {\n",
       "  list-style-type: none;\n",
       "}\n",
       "\n",
       ".ee ul {\n",
       "  padding-left: 1.5em !important;\n",
       "  margin: 0;\n",
       "}\n",
       "\n",
       ".ee > ul {\n",
       "  padding-left: 0 !important;\n",
       "}\n",
       "\n",
       ".ee-open,\n",
       ".ee-shut {\n",
       "  color: var(--font-color-secondary);\n",
       "  cursor: pointer;\n",
       "  margin: 0;\n",
       "}\n",
       "\n",
       ".ee-open:hover,\n",
       ".ee-shut:hover {\n",
       "  color: var(--font-color-primary);\n",
       "}\n",
       "\n",
       ".ee-k {\n",
       "  color: var(--font-color-accent);\n",
       "  margin-right: 6px;\n",
       "}\n",
       "\n",
       ".ee-v {\n",
       "  color: var(--font-color-primary);\n",
       "}\n",
       "\n",
       ".ee-toggle {\n",
       "  display: none;\n",
       "}\n",
       "\n",
       ".ee-shut + ul {\n",
       "  display: none;\n",
       "}\n",
       "\n",
       ".ee-open + ul {\n",
       "  display: block;\n",
       "}\n",
       "\n",
       ".ee-shut::before {\n",
       "  display: inline-block;\n",
       "  content: \"▼\";\n",
       "  margin-right: 6px;\n",
       "  transform: rotate(-90deg);\n",
       "  transition: transform 0.2s;\n",
       "}\n",
       "\n",
       ".ee-open::before {\n",
       "  transform: rotate(0deg);\n",
       "  display: inline-block;\n",
       "  content: \"▼\";\n",
       "  margin-right: 6px;\n",
       "  transition: transform 0.2s;\n",
       "}\n",
       "</style><div class='ee'><ul><li><label class='ee-shut'>Feature (Polygon, 0 properties)<input type='checkbox' class='ee-toggle'></label><ul><li><span class='ee-k'>type:</span><span class='ee-v'>Feature</span></li><li><label class='ee-shut'>geometry: Polygon (24 vertices)<input type='checkbox' class='ee-toggle'></label><ul><li><span class='ee-k'>type:</span><span class='ee-v'>Polygon</span></li><li><label class='ee-shut'>coordinates: List (1 element)<input type='checkbox' class='ee-toggle'></label><ul><li><label class='ee-shut'>0: List (24 elements)<input type='checkbox' class='ee-toggle'></label><ul><li><label class='ee-shut'>0: [105.065689, 31.62761929605169]<input type='checkbox' class='ee-toggle'></label><ul><li><span class='ee-k'>0:</span><span class='ee-v'>105.065689</span></li><li><span class='ee-k'>1:</span><span class='ee-v'>31.62761929605169</span></li></ul></li><li><label class='ee-shut'>1: [104.04298964456873, 31.499476220792506]<input type='checkbox' class='ee-toggle'></label><ul><li><span class='ee-k'>0:</span><span class='ee-v'>104.04298964456873</span></li><li><span class='ee-k'>1:</span><span class='ee-v'>31.499476220792506</span></li></ul></li><li><label class='ee-shut'>2: [103.10918804505629, 31.126246218338668]<input type='checkbox' class='ee-toggle'></label><ul><li><span class='ee-k'>0:</span><span class='ee-v'>103.10918804505629</span></li><li><span class='ee-k'>1:</span><span class='ee-v'>31.126246218338668</span></li></ul></li><li><label class='ee-shut'>3: [102.34339511174429, 30.540258113214367]<input type='checkbox' class='ee-toggle'></label><ul><li><span class='ee-k'>0:</span><span class='ee-v'>102.34339511174429</span></li><li><span class='ee-k'>1:</span><span class='ee-v'>30.540258113214367</span></li></ul></li><li><label class='ee-shut'>4: [101.80705584501293, 29.791433202864845]<input type='checkbox' class='ee-toggle'></label><ul><li><span class='ee-k'>0:</span><span class='ee-v'>101.80705584501293</span></li><li><span class='ee-k'>1:</span><span class='ee-v'>29.791433202864845</span></li></ul></li><li><label class='ee-shut'>5: [101.539152019203, 28.942171820487644]<input type='checkbox' class='ee-toggle'></label><ul><li><span class='ee-k'>0:</span><span class='ee-v'>101.539152019203</span></li><li><span class='ee-k'>1:</span><span class='ee-v'>28.942171820487644</span></li></ul></li><li><label class='ee-shut'>6: [101.55463867528228, 28.061507563827533]<input type='checkbox' class='ee-toggle'></label><ul><li><span class='ee-k'>0:</span><span class='ee-v'>101.55463867528228</span></li><li><span class='ee-k'>1:</span><span class='ee-v'>28.061507563827533</span></li></ul></li><li><label class='ee-shut'>7: [101.84548277931236, 27.219265089979423]<input type='checkbox' class='ee-toggle'></label><ul><li><span class='ee-k'>0:</span><span class='ee-v'>101.84548277931236</span></li><li><span class='ee-k'>1:</span><span class='ee-v'>27.219265089979423</span></li></ul></li><li><label class='ee-shut'>8: [102.38337946668521, 26.480719321684393]<input type='checkbox' class='ee-toggle'></label><ul><li><span class='ee-k'>0:</span><span class='ee-v'>102.38337946668521</span></li><li><span class='ee-k'>1:</span><span class='ee-v'>26.480719321684393</span></li></ul></li><li><label class='ee-shut'>9: [103.12334016549799, 25.902025812082094]<input type='checkbox' class='ee-toggle'></label><ul><li><span class='ee-k'>0:</span><span class='ee-v'>103.12334016549799</span></li><li><span class='ee-k'>1:</span><span class='ee-v'>25.902025812082094</span></li></ul></li><li><label class='ee-shut'>10: [104.00764274586109, 25.52654780219767]<input type='checkbox' class='ee-toggle'></label><ul><li><span class='ee-k'>0:</span><span class='ee-v'>104.00764274586109</span></li><li><span class='ee-k'>1:</span><span class='ee-v'>25.52654780219767</span></li></ul></li><li><label class='ee-shut'>11: [104.96990512116234, 25.38214558989816]<input type='checkbox' class='ee-toggle'></label><ul><li><span class='ee-k'>0:</span><span class='ee-v'>104.96990512116234</span></li><li><span class='ee-k'>1:</span><span class='ee-v'>25.38214558989816</span></li></ul></li><li><label class='ee-shut'>12: [105.93920250953231, 25.479479273165275]<input type='checkbox' class='ee-toggle'></label><ul><li><span class='ee-k'>0:</span><span class='ee-v'>105.93920250953231</span></li><li><span class='ee-k'>1:</span><span class='ee-v'>25.479479273165275</span></li></ul></li><li><label class='ee-shut'>13: [106.8442045346075, 25.811366709498916]<input type='checkbox' class='ee-toggle'></label><ul><li><span class='ee-k'>0:</span><span class='ee-v'>106.8442045346075</span></li><li><span class='ee-k'>1:</span><span class='ee-v'>25.811366709498916</span></li></ul></li><li><label class='ee-shut'>14: [107.6173141960118, 26.353215677772145]<input type='checkbox' class='ee-toggle'></label><ul><li><span class='ee-k'>0:</span><span class='ee-v'>107.6173141960118</span></li><li><span class='ee-k'>1:</span><span class='ee-v'>26.353215677772145</span></li></ul></li><li><label class='ee-shut'>15: [108.19879035494101, 27.064517244677756]<input type='checkbox' class='ee-toggle'></label><ul><li><span class='ee-k'>0:</span><span class='ee-v'>108.19879035494101</span></li><li><span class='ee-k'>1:</span><span class='ee-v'>27.064517244677756</span></li></ul></li><li><label class='ee-shut'>16: [108.54083323958608, 27.891361750212507]<input type='checkbox' class='ee-toggle'></label><ul><li><span class='ee-k'>0:</span><span class='ee-v'>108.54083323958608</span></li><li><span class='ee-k'>1:</span><span class='ee-v'>27.891361750212507</span></li></ul></li><li><label class='ee-shut'>17: [108.6115708277478, 28.76992761270675]<input type='checkbox' class='ee-toggle'></label><ul><li><span class='ee-k'>0:</span><span class='ee-v'>108.6115708277478</span></li><li><span class='ee-k'>1:</span><span class='ee-v'>28.76992761270675</span></li></ul></li><li><label class='ee-shut'>18: [108.3987482718264, 29.630882319875163]<input type='checkbox' class='ee-toggle'></label><ul><li><span class='ee-k'>0:</span><span class='ee-v'>108.3987482718264</span></li><li><span class='ee-k'>1:</span><span class='ee-v'>29.630882319875163</span></li></ul></li><li><label class='ee-shut'>19: [107.91267005898335, 30.404587514926]<input type='checkbox' class='ee-toggle'></label><ul><li><span class='ee-k'>0:</span><span class='ee-v'>107.91267005898335</span></li><li><span class='ee-k'>1:</span><span class='ee-v'>30.404587514926</span></li></ul></li><li><label class='ee-shut'>20: [107.18764087337821, 31.026874190713798]<input type='checkbox' class='ee-toggle'></label><ul><li><span class='ee-k'>0:</span><span class='ee-v'>107.18764087337821</span></li><li><span class='ee-k'>1:</span><span class='ee-v'>31.026874190713798</span></li></ul></li><li><label class='ee-shut'>21: [106.28097800311299, 31.444939099130597]<input type='checkbox' class='ee-toggle'></label><ul><li><span class='ee-k'>0:</span><span class='ee-v'>106.28097800311299</span></li><li><span class='ee-k'>1:</span><span class='ee-v'>31.444939099130597</span></li></ul></li><li><label class='ee-shut'>22: [105.26886611009601, 31.622667791494514]<input type='checkbox' class='ee-toggle'></label><ul><li><span class='ee-k'>0:</span><span class='ee-v'>105.26886611009601</span></li><li><span class='ee-k'>1:</span><span class='ee-v'>31.622667791494514</span></li></ul></li><li><label class='ee-shut'>23: [105.065689, 31.62761929605169]<input type='checkbox' class='ee-toggle'></label><ul><li><span class='ee-k'>0:</span><span class='ee-v'>105.065689</span></li><li><span class='ee-k'>1:</span><span class='ee-v'>31.62761929605169</span></li></ul></li></ul></li></ul></li></ul></li><li><label class='ee-shut'>properties: Object (0 properties)<input type='checkbox' class='ee-toggle'></label><ul></ul></li></ul></li></ul></div><script>function toggleHeader() {\n",
       "    const parent = this.parentElement;\n",
       "    parent.className = parent.className === \"ee-open\" ? \"ee-shut\" : \"ee-open\";\n",
       "}\n",
       "\n",
       "for (let c of document.getElementsByClassName(\"ee-toggle\")) {\n",
       "    c.onclick = toggleHeader;\n",
       "}</script></div>"
      ],
      "text/plain": [
       "<ee.feature.Feature at 0x2327f173790>"
      ]
     },
     "execution_count": 31,
     "metadata": {},
     "output_type": "execute_result"
    }
   ],
   "source": [
    "Map.draw_last_feature"
   ]
  },
  {
   "cell_type": "code",
   "execution_count": 32,
   "id": "20622566-e6aa-4234-a296-294f6c66d0af",
   "metadata": {
    "tags": []
   },
   "outputs": [],
   "source": [
    "roi = ee.FeatureCollection(Map.draw_features)"
   ]
  },
  {
   "cell_type": "code",
   "execution_count": 32,
   "id": "cc948e39-f33a-4f46-8186-ded133f0fe8f",
   "metadata": {
    "tags": []
   },
   "outputs": [],
   "source": [
    "# 这里是根据绘制图形过滤州的范围，用州的范围裁剪图形\n",
    "selected_states = states.filterBounds(roi)\n",
    "Map.addLayer(selected_states, {}, \"Selected states\")\n",
    "\n",
    "clipped_image = image.clip(selected_states)\n",
    "Map.addLayer(clipped_image, vis_params, 'Clipped image')"
   ]
  },
  {
   "cell_type": "code",
   "execution_count": 33,
   "id": "c634f77a-f9ea-4def-b787-322a5a6ccc4b",
   "metadata": {},
   "outputs": [],
   "source": [
    "# 根据绘制的区域裁剪图形\n",
    "clipped_image = image.clip(roi)\n",
    "Map.addLayer(clipped_image, vis_params, 'Clipped image')"
   ]
  },
  {
   "cell_type": "code",
   "execution_count": null,
   "id": "60cafa4f-c63b-4021-a499-6d728167e0b4",
   "metadata": {},
   "outputs": [],
   "source": []
  }
 ],
 "metadata": {
  "kernelspec": {
   "display_name": "Python 3 (ipykernel)",
   "language": "python",
   "name": "python3"
  },
  "language_info": {
   "codemirror_mode": {
    "name": "ipython",
    "version": 3
   },
   "file_extension": ".py",
   "mimetype": "text/x-python",
   "name": "python",
   "nbconvert_exporter": "python",
   "pygments_lexer": "ipython3",
   "version": "3.10.11"
  }
 },
 "nbformat": 4,
 "nbformat_minor": 5
}
