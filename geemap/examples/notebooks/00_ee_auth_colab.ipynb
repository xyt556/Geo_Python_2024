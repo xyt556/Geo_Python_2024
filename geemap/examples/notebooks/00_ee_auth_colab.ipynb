{
 "cells": [
  {
   "cell_type": "markdown",
   "metadata": {},
   "source": [
    "<a href=\"https://colab.research.google.com/github/gee-community/geemap/blob/master/examples/notebooks/00_ee_auth_colab.ipynb\" target=\"_parent\"><img src=\"https://colab.research.google.com/assets/colab-badge.svg\" alt=\"Open in Colab\"/></a>\n",
    "\n",
    "\n",
    "## Earth Engine Automatic Authentication on Google Colab\n",
    "\n",
    "### Step 1: Locating the Earth Engine Token\n",
    "\n",
    "1. Locate the Earth Engine token on your computer by navigating to the following file path based on your operating system:\n",
    "\n",
    "    - Windows: C:\\\\Users\\\\USERNAME\\\\.config\\\\earthengine\\\\credentials\n",
    "    - Linux: /home/USERNAME/.config/earthengine/credentials\n",
    "    - MacOS: /Users/USERNAME/.config/earthengine/credentials\n",
    "\n",
    "2. Open the credentials file and copy the entire content to the clipboard.\n",
    "\n",
    "    **Note:** Ensure that you do not share the content of the credentials file with others to prevent unauthorized access to your Earth Engine account.\n",
    "\n",
    "### Step 2: Creating the Secret in Google Colab\n",
    "\n",
    "1. Open your Google Colab notebook and click on the `secrets` tab.\n",
    "2. Create a new secret with the name `EARTHENGINE_TOKEN`.\n",
    "3. Paste the content from the clipboard into the `Value` input box of the created secret.\n",
    "4. Toggle the button on the left to allow notebook access to the secret.\n",
    "\n",
    "![](https://i.imgur.com/Z9R08uU.png)\n",
    "\n",
    "### Step 3: Installing the Required Version of geemap\n",
    "\n",
    "Ensure that you have installed geemap version 0.29.3 or later, as only these versions support the automatic authentication feature."
   ]
  },
  {
   "cell_type": "code",
   "execution_count": 1,
   "metadata": {},
   "outputs": [
    {
     "name": "stdout",
     "output_type": "stream",
     "text": [
      "Requirement already satisfied: geemap in d:\\geo_python_2024\\envi\\lib\\site-packages (0.22.0)\n",
      "Collecting geemap\n",
      "  Downloading geemap-0.31.0-py2.py3-none-any.whl.metadata (14 kB)\n",
      "Requirement already satisfied: bqplot in d:\\geo_python_2024\\envi\\lib\\site-packages (from geemap) (0.12.39)\n",
      "Requirement already satisfied: colour in d:\\geo_python_2024\\envi\\lib\\site-packages (from geemap) (0.1.5)\n",
      "Requirement already satisfied: earthengine-api>=0.1.347 in d:\\geo_python_2024\\envi\\lib\\site-packages (from geemap) (0.1.350)\n",
      "Requirement already satisfied: eerepr>=0.0.4 in d:\\geo_python_2024\\envi\\lib\\site-packages (from geemap) (0.0.4)\n",
      "Requirement already satisfied: folium>=0.13.0 in d:\\geo_python_2024\\envi\\lib\\site-packages (from geemap) (0.14.0)\n",
      "Requirement already satisfied: geocoder in d:\\geo_python_2024\\envi\\lib\\site-packages (from geemap) (1.38.1)\n",
      "Requirement already satisfied: ipyevents in d:\\geo_python_2024\\envi\\lib\\site-packages (from geemap) (2.0.1)\n",
      "Requirement already satisfied: ipyfilechooser>=0.6.0 in d:\\geo_python_2024\\envi\\lib\\site-packages (from geemap) (0.6.0)\n",
      "Requirement already satisfied: ipyleaflet>=0.17.0 in d:\\geo_python_2024\\envi\\lib\\site-packages (from geemap) (0.17.2)\n",
      "Requirement already satisfied: ipytree in d:\\geo_python_2024\\envi\\lib\\site-packages (from geemap) (0.2.2)\n",
      "Requirement already satisfied: matplotlib in d:\\geo_python_2024\\envi\\lib\\site-packages (from geemap) (3.7.1)\n",
      "Requirement already satisfied: numpy in d:\\geo_python_2024\\envi\\lib\\site-packages (from geemap) (1.24.3)\n",
      "Requirement already satisfied: pandas in d:\\geo_python_2024\\envi\\lib\\site-packages (from geemap) (2.2.0)\n",
      "Requirement already satisfied: plotly in d:\\geo_python_2024\\envi\\lib\\site-packages (from geemap) (5.14.1)\n",
      "Requirement already satisfied: pyperclip in d:\\geo_python_2024\\envi\\lib\\site-packages (from geemap) (1.8.2)\n",
      "Requirement already satisfied: pyshp>=2.1.3 in d:\\geo_python_2024\\envi\\lib\\site-packages (from geemap) (2.3.1)\n",
      "Requirement already satisfied: python-box in d:\\geo_python_2024\\envi\\lib\\site-packages (from geemap) (7.0.1)\n",
      "Requirement already satisfied: scooby in d:\\geo_python_2024\\envi\\lib\\site-packages (from geemap) (0.7.1)\n",
      "Requirement already satisfied: google-cloud-storage in d:\\geo_python_2024\\envi\\lib\\site-packages (from earthengine-api>=0.1.347->geemap) (2.8.0)\n",
      "Requirement already satisfied: google-api-python-client>=1.12.1 in d:\\geo_python_2024\\envi\\lib\\site-packages (from earthengine-api>=0.1.347->geemap) (2.86.0)\n",
      "Requirement already satisfied: google-auth>=1.4.1 in d:\\geo_python_2024\\envi\\lib\\site-packages (from earthengine-api>=0.1.347->geemap) (2.17.3)\n",
      "Requirement already satisfied: google-auth-httplib2>=0.0.3 in d:\\geo_python_2024\\envi\\lib\\site-packages (from earthengine-api>=0.1.347->geemap) (0.1.0)\n",
      "Requirement already satisfied: httplib2<1dev,>=0.9.2 in d:\\geo_python_2024\\envi\\lib\\site-packages (from earthengine-api>=0.1.347->geemap) (0.22.0)\n",
      "Requirement already satisfied: requests in d:\\geo_python_2024\\envi\\lib\\site-packages (from earthengine-api>=0.1.347->geemap) (2.28.2)\n",
      "Requirement already satisfied: branca>=0.6.0 in d:\\geo_python_2024\\envi\\lib\\site-packages (from folium>=0.13.0->geemap) (0.6.0)\n",
      "Requirement already satisfied: jinja2>=2.9 in d:\\geo_python_2024\\envi\\lib\\site-packages (from folium>=0.13.0->geemap) (3.1.2)\n",
      "Requirement already satisfied: ipywidgets in d:\\geo_python_2024\\envi\\lib\\site-packages (from ipyfilechooser>=0.6.0->geemap) (8.0.6)\n",
      "Requirement already satisfied: traittypes<3,>=0.2.1 in d:\\geo_python_2024\\envi\\lib\\site-packages (from ipyleaflet>=0.17.0->geemap) (0.2.1)\n",
      "Requirement already satisfied: xyzservices>=2021.8.1 in d:\\geo_python_2024\\envi\\lib\\site-packages (from ipyleaflet>=0.17.0->geemap) (2023.2.0)\n",
      "Requirement already satisfied: traitlets>=4.3.0 in d:\\geo_python_2024\\envi\\lib\\site-packages (from bqplot->geemap) (5.9.0)\n",
      "Requirement already satisfied: python-dateutil>=2.8.2 in d:\\geo_python_2024\\envi\\lib\\site-packages (from pandas->geemap) (2.8.2)\n",
      "Requirement already satisfied: pytz>=2020.1 in d:\\geo_python_2024\\envi\\lib\\site-packages (from pandas->geemap) (2023.3)\n",
      "Requirement already satisfied: tzdata>=2022.7 in d:\\geo_python_2024\\envi\\lib\\site-packages (from pandas->geemap) (2023.3)\n",
      "Requirement already satisfied: click in d:\\geo_python_2024\\envi\\lib\\site-packages (from geocoder->geemap) (8.1.3)\n",
      "Requirement already satisfied: future in d:\\geo_python_2024\\envi\\lib\\site-packages (from geocoder->geemap) (0.18.3)\n",
      "Requirement already satisfied: ratelim in d:\\geo_python_2024\\envi\\lib\\site-packages (from geocoder->geemap) (0.1.6)\n",
      "Requirement already satisfied: six in d:\\geo_python_2024\\envi\\lib\\site-packages (from geocoder->geemap) (1.16.0)\n",
      "Requirement already satisfied: contourpy>=1.0.1 in d:\\geo_python_2024\\envi\\lib\\site-packages (from matplotlib->geemap) (1.0.7)\n",
      "Requirement already satisfied: cycler>=0.10 in d:\\geo_python_2024\\envi\\lib\\site-packages (from matplotlib->geemap) (0.11.0)\n",
      "Requirement already satisfied: fonttools>=4.22.0 in d:\\geo_python_2024\\envi\\lib\\site-packages (from matplotlib->geemap) (4.39.3)\n",
      "Requirement already satisfied: kiwisolver>=1.0.1 in d:\\geo_python_2024\\envi\\lib\\site-packages (from matplotlib->geemap) (1.4.4)\n",
      "Requirement already satisfied: packaging>=20.0 in d:\\geo_python_2024\\envi\\lib\\site-packages (from matplotlib->geemap) (23.1)\n",
      "Requirement already satisfied: pillow>=6.2.0 in d:\\geo_python_2024\\envi\\lib\\site-packages (from matplotlib->geemap) (9.5.0)\n",
      "Requirement already satisfied: pyparsing>=2.3.1 in d:\\geo_python_2024\\envi\\lib\\site-packages (from matplotlib->geemap) (3.0.9)\n",
      "Requirement already satisfied: tenacity>=6.2.0 in d:\\geo_python_2024\\envi\\lib\\site-packages (from plotly->geemap) (8.2.2)\n",
      "Requirement already satisfied: google-api-core!=2.0.*,!=2.1.*,!=2.2.*,!=2.3.0,<3.0.0dev,>=1.31.5 in d:\\geo_python_2024\\envi\\lib\\site-packages (from google-api-python-client>=1.12.1->earthengine-api>=0.1.347->geemap) (2.11.0)\n",
      "Requirement already satisfied: uritemplate<5,>=3.0.1 in d:\\geo_python_2024\\envi\\lib\\site-packages (from google-api-python-client>=1.12.1->earthengine-api>=0.1.347->geemap) (4.1.1)\n",
      "Requirement already satisfied: cachetools<6.0,>=2.0.0 in d:\\geo_python_2024\\envi\\lib\\site-packages (from google-auth>=1.4.1->earthengine-api>=0.1.347->geemap) (5.3.0)\n",
      "Requirement already satisfied: pyasn1-modules>=0.2.1 in d:\\geo_python_2024\\envi\\lib\\site-packages (from google-auth>=1.4.1->earthengine-api>=0.1.347->geemap) (0.3.0)\n",
      "Requirement already satisfied: rsa<5,>=3.1.4 in d:\\geo_python_2024\\envi\\lib\\site-packages (from google-auth>=1.4.1->earthengine-api>=0.1.347->geemap) (4.9)\n",
      "Requirement already satisfied: ipykernel>=4.5.1 in d:\\geo_python_2024\\envi\\lib\\site-packages (from ipywidgets->ipyfilechooser>=0.6.0->geemap) (6.22.0)\n",
      "Requirement already satisfied: ipython>=6.1.0 in d:\\geo_python_2024\\envi\\lib\\site-packages (from ipywidgets->ipyfilechooser>=0.6.0->geemap) (8.12.0)\n",
      "Requirement already satisfied: widgetsnbextension~=4.0.7 in d:\\geo_python_2024\\envi\\lib\\site-packages (from ipywidgets->ipyfilechooser>=0.6.0->geemap) (4.0.7)\n",
      "Requirement already satisfied: jupyterlab-widgets~=3.0.7 in d:\\geo_python_2024\\envi\\lib\\site-packages (from ipywidgets->ipyfilechooser>=0.6.0->geemap) (3.0.7)\n",
      "Requirement already satisfied: MarkupSafe>=2.0 in d:\\geo_python_2024\\envi\\lib\\site-packages (from jinja2>=2.9->folium>=0.13.0->geemap) (2.1.2)\n",
      "Requirement already satisfied: colorama in d:\\geo_python_2024\\envi\\lib\\site-packages (from click->geocoder->geemap) (0.4.6)\n",
      "Requirement already satisfied: google-cloud-core<3.0dev,>=2.3.0 in d:\\geo_python_2024\\envi\\lib\\site-packages (from google-cloud-storage->earthengine-api>=0.1.347->geemap) (2.3.2)\n",
      "Requirement already satisfied: google-resumable-media>=2.3.2 in d:\\geo_python_2024\\envi\\lib\\site-packages (from google-cloud-storage->earthengine-api>=0.1.347->geemap) (2.5.0)\n",
      "Requirement already satisfied: charset-normalizer<4,>=2 in d:\\geo_python_2024\\envi\\lib\\site-packages (from requests->earthengine-api>=0.1.347->geemap) (3.1.0)\n",
      "Requirement already satisfied: idna<4,>=2.5 in d:\\geo_python_2024\\envi\\lib\\site-packages (from requests->earthengine-api>=0.1.347->geemap) (3.4)\n",
      "Requirement already satisfied: urllib3<1.27,>=1.21.1 in d:\\geo_python_2024\\envi\\lib\\site-packages (from requests->earthengine-api>=0.1.347->geemap) (1.26.15)\n",
      "Requirement already satisfied: certifi>=2017.4.17 in d:\\geo_python_2024\\envi\\lib\\site-packages (from requests->earthengine-api>=0.1.347->geemap) (2022.12.7)\n",
      "Requirement already satisfied: decorator in d:\\geo_python_2024\\envi\\lib\\site-packages (from ratelim->geocoder->geemap) (5.1.1)\n",
      "Requirement already satisfied: googleapis-common-protos<2.0dev,>=1.56.2 in d:\\geo_python_2024\\envi\\lib\\site-packages (from google-api-core!=2.0.*,!=2.1.*,!=2.2.*,!=2.3.0,<3.0.0dev,>=1.31.5->google-api-python-client>=1.12.1->earthengine-api>=0.1.347->geemap) (1.59.0)\n",
      "Requirement already satisfied: protobuf!=3.20.0,!=3.20.1,!=4.21.0,!=4.21.1,!=4.21.2,!=4.21.3,!=4.21.4,!=4.21.5,<5.0.0dev,>=3.19.5 in d:\\geo_python_2024\\envi\\lib\\site-packages (from google-api-core!=2.0.*,!=2.1.*,!=2.2.*,!=2.3.0,<3.0.0dev,>=1.31.5->google-api-python-client>=1.12.1->earthengine-api>=0.1.347->geemap) (3.20.3)\n",
      "Requirement already satisfied: google-crc32c<2.0dev,>=1.0 in d:\\geo_python_2024\\envi\\lib\\site-packages (from google-resumable-media>=2.3.2->google-cloud-storage->earthengine-api>=0.1.347->geemap) (1.5.0)\n",
      "Requirement already satisfied: comm>=0.1.1 in d:\\geo_python_2024\\envi\\lib\\site-packages (from ipykernel>=4.5.1->ipywidgets->ipyfilechooser>=0.6.0->geemap) (0.1.3)\n",
      "Requirement already satisfied: debugpy>=1.6.5 in d:\\geo_python_2024\\envi\\lib\\site-packages (from ipykernel>=4.5.1->ipywidgets->ipyfilechooser>=0.6.0->geemap) (1.6.7)\n",
      "Requirement already satisfied: jupyter-client>=6.1.12 in d:\\geo_python_2024\\envi\\lib\\site-packages (from ipykernel>=4.5.1->ipywidgets->ipyfilechooser>=0.6.0->geemap) (8.2.0)\n",
      "Requirement already satisfied: jupyter-core!=5.0.*,>=4.12 in d:\\geo_python_2024\\envi\\lib\\site-packages (from ipykernel>=4.5.1->ipywidgets->ipyfilechooser>=0.6.0->geemap) (5.3.0)\n",
      "Requirement already satisfied: matplotlib-inline>=0.1 in d:\\geo_python_2024\\envi\\lib\\site-packages (from ipykernel>=4.5.1->ipywidgets->ipyfilechooser>=0.6.0->geemap) (0.1.6)\n",
      "Requirement already satisfied: nest-asyncio in d:\\geo_python_2024\\envi\\lib\\site-packages (from ipykernel>=4.5.1->ipywidgets->ipyfilechooser>=0.6.0->geemap) (1.5.6)\n",
      "Requirement already satisfied: psutil in d:\\geo_python_2024\\envi\\lib\\site-packages (from ipykernel>=4.5.1->ipywidgets->ipyfilechooser>=0.6.0->geemap) (5.9.5)\n",
      "Requirement already satisfied: pyzmq>=20 in d:\\geo_python_2024\\envi\\lib\\site-packages (from ipykernel>=4.5.1->ipywidgets->ipyfilechooser>=0.6.0->geemap) (25.0.2)\n",
      "Requirement already satisfied: tornado>=6.1 in d:\\geo_python_2024\\envi\\lib\\site-packages (from ipykernel>=4.5.1->ipywidgets->ipyfilechooser>=0.6.0->geemap) (6.3.1)\n",
      "Requirement already satisfied: backcall in d:\\geo_python_2024\\envi\\lib\\site-packages (from ipython>=6.1.0->ipywidgets->ipyfilechooser>=0.6.0->geemap) (0.2.0)\n",
      "Requirement already satisfied: jedi>=0.16 in d:\\geo_python_2024\\envi\\lib\\site-packages (from ipython>=6.1.0->ipywidgets->ipyfilechooser>=0.6.0->geemap) (0.18.2)\n",
      "Requirement already satisfied: pickleshare in d:\\geo_python_2024\\envi\\lib\\site-packages (from ipython>=6.1.0->ipywidgets->ipyfilechooser>=0.6.0->geemap) (0.7.5)\n",
      "Requirement already satisfied: prompt-toolkit!=3.0.37,<3.1.0,>=3.0.30 in d:\\geo_python_2024\\envi\\lib\\site-packages (from ipython>=6.1.0->ipywidgets->ipyfilechooser>=0.6.0->geemap) (3.0.38)\n",
      "Requirement already satisfied: pygments>=2.4.0 in d:\\geo_python_2024\\envi\\lib\\site-packages (from ipython>=6.1.0->ipywidgets->ipyfilechooser>=0.6.0->geemap) (2.15.1)\n",
      "Requirement already satisfied: stack-data in d:\\geo_python_2024\\envi\\lib\\site-packages (from ipython>=6.1.0->ipywidgets->ipyfilechooser>=0.6.0->geemap) (0.6.2)\n",
      "Requirement already satisfied: pyasn1<0.6.0,>=0.4.6 in d:\\geo_python_2024\\envi\\lib\\site-packages (from pyasn1-modules>=0.2.1->google-auth>=1.4.1->earthengine-api>=0.1.347->geemap) (0.5.0)\n",
      "Requirement already satisfied: parso<0.9.0,>=0.8.0 in d:\\geo_python_2024\\envi\\lib\\site-packages (from jedi>=0.16->ipython>=6.1.0->ipywidgets->ipyfilechooser>=0.6.0->geemap) (0.8.3)\n",
      "Requirement already satisfied: platformdirs>=2.5 in d:\\geo_python_2024\\envi\\lib\\site-packages (from jupyter-core!=5.0.*,>=4.12->ipykernel>=4.5.1->ipywidgets->ipyfilechooser>=0.6.0->geemap) (3.2.0)\n",
      "Requirement already satisfied: pywin32>=300 in d:\\geo_python_2024\\envi\\lib\\site-packages (from jupyter-core!=5.0.*,>=4.12->ipykernel>=4.5.1->ipywidgets->ipyfilechooser>=0.6.0->geemap) (306)\n",
      "Requirement already satisfied: wcwidth in d:\\geo_python_2024\\envi\\lib\\site-packages (from prompt-toolkit!=3.0.37,<3.1.0,>=3.0.30->ipython>=6.1.0->ipywidgets->ipyfilechooser>=0.6.0->geemap) (0.2.6)\n",
      "Requirement already satisfied: executing>=1.2.0 in d:\\geo_python_2024\\envi\\lib\\site-packages (from stack-data->ipython>=6.1.0->ipywidgets->ipyfilechooser>=0.6.0->geemap) (1.2.0)\n",
      "Requirement already satisfied: asttokens>=2.1.0 in d:\\geo_python_2024\\envi\\lib\\site-packages (from stack-data->ipython>=6.1.0->ipywidgets->ipyfilechooser>=0.6.0->geemap) (2.2.1)\n",
      "Requirement already satisfied: pure-eval in d:\\geo_python_2024\\envi\\lib\\site-packages (from stack-data->ipython>=6.1.0->ipywidgets->ipyfilechooser>=0.6.0->geemap) (0.2.2)\n",
      "Downloading geemap-0.31.0-py2.py3-none-any.whl (2.2 MB)\n",
      "   ---------------------------------------- 0.0/2.2 MB ? eta -:--:--\n",
      "   ---------------------------------------- 0.0/2.2 MB ? eta -:--:--\n",
      "    --------------------------------------- 0.0/2.2 MB 640.0 kB/s eta 0:00:04\n",
      "   - -------------------------------------- 0.1/2.2 MB 656.4 kB/s eta 0:00:04\n",
      "   -- ------------------------------------- 0.1/2.2 MB 930.9 kB/s eta 0:00:03\n",
      "   -- ------------------------------------- 0.2/2.2 MB 1.1 MB/s eta 0:00:02\n",
      "   ---- ----------------------------------- 0.3/2.2 MB 1.4 MB/s eta 0:00:02\n",
      "   ------- -------------------------------- 0.4/2.2 MB 1.8 MB/s eta 0:00:01\n",
      "   ---------- ----------------------------- 0.6/2.2 MB 2.5 MB/s eta 0:00:01\n",
      "   -------------------- ------------------- 1.1/2.2 MB 4.0 MB/s eta 0:00:01\n",
      "   ------------------------------ --------- 1.7/2.2 MB 5.1 MB/s eta 0:00:01\n",
      "   ---------------------------------------  2.2/2.2 MB 6.3 MB/s eta 0:00:01\n",
      "   ---------------------------------------- 2.2/2.2 MB 5.8 MB/s eta 0:00:00\n",
      "Installing collected packages: geemap\n",
      "  Attempting uninstall: geemap\n",
      "    Found existing installation: geemap 0.22.0\n",
      "    Uninstalling geemap-0.22.0:\n",
      "      Successfully uninstalled geemap-0.22.0\n",
      "Successfully installed geemap-0.31.0\n",
      "Note: you may need to restart the kernel to use updated packages.\n"
     ]
    }
   ],
   "source": [
    "%pip install -U geemap"
   ]
  },
  {
   "cell_type": "markdown",
   "metadata": {},
   "source": [
    "### Step 4: Automatic Authentication with geemap\n",
    "\n",
    "To automatically authenticate Earth Engine using the EARTHENGINE_TOKEN in your Google Colab notebook, run the following code:"
   ]
  },
  {
   "cell_type": "code",
   "execution_count": 3,
   "metadata": {
    "tags": []
   },
   "outputs": [],
   "source": [
    "import geemap"
   ]
  },
  {
   "cell_type": "code",
   "execution_count": 4,
   "metadata": {
    "tags": []
   },
   "outputs": [
    {
     "data": {
      "text/html": [
       "\n",
       "            <style>\n",
       "                .geemap-dark {\n",
       "                    --jp-widgets-color: white;\n",
       "                    --jp-widgets-label-color: white;\n",
       "                    --jp-ui-font-color1: white;\n",
       "                    --jp-layout-color2: #454545;\n",
       "                    background-color: #383838;\n",
       "                }\n",
       "                    \n",
       "                .geemap-dark .jupyter-button {\n",
       "                    --jp-layout-color3: #383838;\n",
       "                }\n",
       "                \n",
       "                .geemap-colab {\n",
       "                    background-color: var(--colab-primary-surface-color, white);\n",
       "                }\n",
       "                    \n",
       "                .geemap-colab .jupyter-button {\n",
       "                    --jp-layout-color3: var(--colab-primary-surface-color, white);\n",
       "                }\n",
       "            </style>\n",
       "            "
      ],
      "text/plain": [
       "<IPython.core.display.HTML object>"
      ]
     },
     "metadata": {},
     "output_type": "display_data"
    }
   ],
   "source": [
    "geemap.set_proxy(port=4780,ip=\"http://127.0.0.1\",timeout=300)"
   ]
  },
  {
   "cell_type": "code",
   "execution_count": 5,
   "metadata": {
    "tags": []
   },
   "outputs": [
    {
     "data": {
      "text/html": [
       "\n",
       "            <style>\n",
       "                .geemap-dark {\n",
       "                    --jp-widgets-color: white;\n",
       "                    --jp-widgets-label-color: white;\n",
       "                    --jp-ui-font-color1: white;\n",
       "                    --jp-layout-color2: #454545;\n",
       "                    background-color: #383838;\n",
       "                }\n",
       "                    \n",
       "                .geemap-dark .jupyter-button {\n",
       "                    --jp-layout-color3: #383838;\n",
       "                }\n",
       "                \n",
       "                .geemap-colab {\n",
       "                    background-color: var(--colab-primary-surface-color, white);\n",
       "                }\n",
       "                    \n",
       "                .geemap-colab .jupyter-button {\n",
       "                    --jp-layout-color3: var(--colab-primary-surface-color, white);\n",
       "                }\n",
       "            </style>\n",
       "            "
      ],
      "text/plain": [
       "<IPython.core.display.HTML object>"
      ]
     },
     "metadata": {},
     "output_type": "display_data"
    },
    {
     "data": {
      "text/html": [
       "<p>To authorize access needed by Earth Engine, open the following\n",
       "        URL in a web browser and follow the instructions:</p>\n",
       "        <p><a href=https://code.earthengine.google.com/client-auth?scopes=https%3A//www.googleapis.com/auth/earthengine%20https%3A//www.googleapis.com/auth/devstorage.full_control&request_id=R3SG6OJff06gyDKgrxDlrdUS4juFVYpRUK2CK-7Njis&tc=J3q7hUxGKMGwBsKmroLH4sSWt6eJW9CjooQHRYGp0o8&cc=Qbm4R7DnipjZ3JeFtVSVgm12hfmQ9QdWeOGiI2pyziI>https://code.earthengine.google.com/client-auth?scopes=https%3A//www.googleapis.com/auth/earthengine%20https%3A//www.googleapis.com/auth/devstorage.full_control&request_id=R3SG6OJff06gyDKgrxDlrdUS4juFVYpRUK2CK-7Njis&tc=J3q7hUxGKMGwBsKmroLH4sSWt6eJW9CjooQHRYGp0o8&cc=Qbm4R7DnipjZ3JeFtVSVgm12hfmQ9QdWeOGiI2pyziI</a></p>\n",
       "        <p>The authorization workflow will generate a code, which you should paste in the box below.</p>\n",
       "        "
      ],
      "text/plain": [
       "<IPython.core.display.HTML object>"
      ]
     },
     "metadata": {},
     "output_type": "display_data"
    },
    {
     "name": "stdin",
     "output_type": "stream",
     "text": [
      "Enter verification code:  4/1AeaYSHDH7MxFAVQVgb6x4TOD7ErBdHcytV6JdbYXFscg-R9L30kc5MSSA-4\n"
     ]
    },
    {
     "name": "stdout",
     "output_type": "stream",
     "text": [
      "\n",
      "Successfully saved authorization token.\n"
     ]
    },
    {
     "data": {
      "application/vnd.jupyter.widget-view+json": {
       "model_id": "88963d5437924447ae79bdf55cdba278",
       "version_major": 2,
       "version_minor": 0
      },
      "text/plain": [
       "Map(center=[0, 0], controls=(WidgetControl(options=['position', 'transparent_bg'], widget=SearchDataGUI(childr…"
      ]
     },
     "execution_count": 5,
     "metadata": {},
     "output_type": "execute_result"
    }
   ],
   "source": [
    "m = geemap.Map()\n",
    "m"
   ]
  },
  {
   "cell_type": "code",
   "execution_count": null,
   "metadata": {},
   "outputs": [],
   "source": []
  }
 ],
 "metadata": {
  "colab": {
   "provenance": []
  },
  "kernelspec": {
   "display_name": "Python 3 (ipykernel)",
   "language": "python",
   "name": "python3"
  },
  "language_info": {
   "codemirror_mode": {
    "name": "ipython",
    "version": 3
   },
   "file_extension": ".py",
   "mimetype": "text/x-python",
   "name": "python",
   "nbconvert_exporter": "python",
   "pygments_lexer": "ipython3",
   "version": "3.10.7"
  }
 },
 "nbformat": 4,
 "nbformat_minor": 4
}
