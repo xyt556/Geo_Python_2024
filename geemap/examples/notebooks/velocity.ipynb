{
 "cells": [
  {
   "cell_type": "markdown",
   "id": "0",
   "metadata": {},
   "source": [
    "You will need to install the following packages:\n",
    "- `ipyleaflet`\n",
    "- `requests`\n",
    "- `xarray`\n",
    "- `netcdf4`\n",
    "- `geemap`"
   ]
  },
  {
   "cell_type": "code",
   "execution_count": null,
   "id": "1",
   "metadata": {},
   "outputs": [],
   "source": [
    "from ipyleaflet import TileLayer, basemaps\n",
    "from ipyleaflet.velocity import Velocity\n",
    "import xarray as xr\n",
    "import geemap"
   ]
  },
  {
   "cell_type": "code",
   "execution_count": null,
   "id": "2",
   "metadata": {},
   "outputs": [],
   "source": [
    "center = [44.33956524809713, -130.60546875000003]\n",
    "zoom = 3\n",
    "m = geemap.Map(\n",
    "    center=center,\n",
    "    zoom=zoom,\n",
    "    interpolation=\"nearest\",\n",
    "    basemap=basemaps.CartoDB.DarkMatter,\n",
    "    add_google_map=False,\n",
    "    ee_initialize=False,\n",
    ")\n",
    "m"
   ]
  },
  {
   "cell_type": "code",
   "execution_count": null,
   "id": "3",
   "metadata": {},
   "outputs": [],
   "source": [
    "import os\n",
    "\n",
    "if not os.path.exists(\"wind_global.nc\"):\n",
    "    url = \"https://github.com/benbovy/xvelmap/raw/master/notebooks/wind_global.nc\"\n",
    "    import requests\n",
    "\n",
    "    r = requests.get(url)\n",
    "    wind_data = r.content\n",
    "    with open(\"wind_global.nc\", \"wb\") as f:\n",
    "        f.write(wind_data)"
   ]
  },
  {
   "cell_type": "code",
   "execution_count": null,
   "id": "4",
   "metadata": {},
   "outputs": [],
   "source": [
    "ds = xr.open_dataset(\"wind_global.nc\")\n",
    "ds"
   ]
  },
  {
   "cell_type": "code",
   "execution_count": null,
   "id": "5",
   "metadata": {},
   "outputs": [],
   "source": [
    "display_options = {\n",
    "    \"velocityType\": \"Global Wind\",\n",
    "    \"displayPosition\": \"bottomleft\",\n",
    "    \"displayEmptyString\": \"No wind data\",\n",
    "}\n",
    "wind = Velocity(\n",
    "    data=ds,\n",
    "    zonal_speed=\"u_wind\",\n",
    "    meridional_speed=\"v_wind\",\n",
    "    latitude_dimension=\"lat\",\n",
    "    longitude_dimension=\"lon\",\n",
    "    velocity_scale=0.01,\n",
    "    max_velocity=20,\n",
    "    display_options=display_options,\n",
    ")\n",
    "m.add_layer(wind)"
   ]
  },
  {
   "cell_type": "code",
   "execution_count": null,
   "id": "6",
   "metadata": {},
   "outputs": [],
   "source": []
  }
 ],
 "metadata": {
  "kernelspec": {
   "display_name": "Python 3",
   "language": "python",
   "name": "python3"
  }
 },
 "nbformat": 4,
 "nbformat_minor": 5
}
