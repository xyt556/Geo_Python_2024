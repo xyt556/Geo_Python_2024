{
 "cells": [
  {
   "cell_type": "markdown",
   "metadata": {
    "_uuid": "570fb89bb4f7838b1d0fdff70b2935790e5dbdbe"
   },
   "source": [
    "<center>\n",
    "<img src=\"https://habrastorage.org/files/fd4/502/43d/fd450243dd604b81b9713213a247aa20.jpg\">\n",
    "    \n",
    "## [mlcourse.ai](mlcourse.ai) – Open Machine Learning Course \n",
    "\n",
    "<center>Author: [Yury Kashnitskiy](http://yorko.github.io) <br>\n",
    "Translated and edited by [Sergey Isaev](https://www.linkedin.com/in/isvforall/), [Artem Trunov](https://www.linkedin.com/in/datamove/), [Anastasia Manokhina](https://www.linkedin.com/in/anastasiamanokhina/), and [Yuanyuan Pao](https://www.linkedin.com/in/yuanyuanpao/) <br>All content is distributed under the [Creative Commons CC BY-NC-SA 4.0](https://creativecommons.org/licenses/by-nc-sa/4.0/) license."
   ]
  },
  {
   "cell_type": "markdown",
   "metadata": {
    "_uuid": "998fc5f76227ab1df9460a7b05c508304b14b3a6"
   },
   "source": [
    "# <center> Assignment #1 (demo)\n",
    "## <center>  Exploratory data analysis with Pandas\n"
   ]
  },
  {
   "cell_type": "markdown",
   "metadata": {
    "_uuid": "89ef93231815456f4e0bc5dcc00b094aee800993"
   },
   "source": [
    "**In this task you should use Pandas to answer a few questions about the [Adult](https://archive.ics.uci.edu/ml/datasets/Adult) dataset. (You don't have to download the data – it's already here). Choose the answers in the [web-form](https://docs.google.com/forms/d/1uY7MpI2trKx6FLWZte0uVh3ULV4Cm_tDud0VDFGCOKg). This is a demo version of an assignment, so by submitting the form, you'll see a link to the solution .ipynb file.**"
   ]
  },
  {
   "cell_type": "markdown",
   "metadata": {
    "_uuid": "c322301ac858c748f8f80e63cf6f734fc70dde30"
   },
   "source": [
    "Unique values of all features (for more information, please see the links above):\n",
    "- `age`: continuous.\n",
    "- `workclass`: Private, Self-emp-not-inc, Self-emp-inc, Federal-gov, Local-gov, State-gov, Without-pay, Never-worked.\n",
    "- `fnlwgt`: continuous.\n",
    "- `education`: Bachelors, Some-college, 11th, HS-grad, Prof-school, Assoc-acdm, Assoc-voc, 9th, 7th-8th, 12th, Masters, 1st-4th, 10th, Doctorate, 5th-6th, Preschool.\n",
    "- `education-num`: continuous.\n",
    "- `marital-status`: Married-civ-spouse, Divorced, Never-married, Separated, Widowed, Married-spouse-absent, Married-AF-spouse.\n",
    "- `occupation`: Tech-support, Craft-repair, Other-service, Sales, Exec-managerial, Prof-specialty, Handlers-cleaners, Machine-op-inspct, Adm-clerical, Farming-fishing, Transport-moving, Priv-house-serv, Protective-serv, Armed-Forces.\n",
    "- `relationship`: Wife, Own-child, Husband, Not-in-family, Other-relative, Unmarried.\n",
    "- `race`: White, Asian-Pac-Islander, Amer-Indian-Eskimo, Other, Black.\n",
    "- `sex`: Female, Male.\n",
    "- `capital-gain`: continuous.\n",
    "- `capital-loss`: continuous.\n",
    "- `hours-per-week`: continuous.\n",
    "- `native-country`: United-States, Cambodia, England, Puerto-Rico, Canada, Germany, Outlying-US(Guam-USVI-etc), India, Japan, Greece, South, China, Cuba, Iran, Honduras, Philippines, Italy, Poland, Jamaica, Vietnam, Mexico, Portugal, Ireland, France, Dominican-Republic, Laos, Ecuador, Taiwan, Haiti, Columbia, Hungary, Guatemala, Nicaragua, Scotland, Thailand, Yugoslavia, El-Salvador, Trinadad&Tobago, Peru, Hong, Holand-Netherlands.   \n",
    "- `salary`: >50K,<=50K"
   ]
  },
  {
   "cell_type": "code",
   "execution_count": 1,
   "metadata": {
    "ExecuteTime": {
     "end_time": "2023-09-20T21:55:32.703866Z",
     "start_time": "2023-09-20T21:55:32.693127Z"
    },
    "collapsed": false,
    "jupyter": {
     "outputs_hidden": false
    },
    "tags": []
   },
   "outputs": [],
   "source": [
    "import pandas as pd"
   ]
  },
  {
   "cell_type": "code",
   "execution_count": 2,
   "metadata": {
    "ExecuteTime": {
     "end_time": "2023-09-20T21:55:32.781392Z",
     "start_time": "2023-09-20T21:55:32.704868Z"
    },
    "_uuid": "c5119d1b8151029b4ff57735c4279b795ae492a2",
    "tags": []
   },
   "outputs": [
    {
     "data": {
      "text/html": [
       "<div>\n",
       "<style scoped>\n",
       "    .dataframe tbody tr th:only-of-type {\n",
       "        vertical-align: middle;\n",
       "    }\n",
       "\n",
       "    .dataframe tbody tr th {\n",
       "        vertical-align: top;\n",
       "    }\n",
       "\n",
       "    .dataframe thead th {\n",
       "        text-align: right;\n",
       "    }\n",
       "</style>\n",
       "<table border=\"1\" class=\"dataframe\">\n",
       "  <thead>\n",
       "    <tr style=\"text-align: right;\">\n",
       "      <th></th>\n",
       "      <th>age</th>\n",
       "      <th>workclass</th>\n",
       "      <th>fnlwgt</th>\n",
       "      <th>education</th>\n",
       "      <th>education-num</th>\n",
       "      <th>marital-status</th>\n",
       "      <th>occupation</th>\n",
       "      <th>relationship</th>\n",
       "      <th>race</th>\n",
       "      <th>sex</th>\n",
       "      <th>capital-gain</th>\n",
       "      <th>capital-loss</th>\n",
       "      <th>hours-per-week</th>\n",
       "      <th>native-country</th>\n",
       "      <th>salary</th>\n",
       "    </tr>\n",
       "  </thead>\n",
       "  <tbody>\n",
       "    <tr>\n",
       "      <th>0</th>\n",
       "      <td>39</td>\n",
       "      <td>State-gov</td>\n",
       "      <td>77516</td>\n",
       "      <td>Bachelors</td>\n",
       "      <td>13</td>\n",
       "      <td>Never-married</td>\n",
       "      <td>Adm-clerical</td>\n",
       "      <td>Not-in-family</td>\n",
       "      <td>White</td>\n",
       "      <td>Male</td>\n",
       "      <td>2174</td>\n",
       "      <td>0</td>\n",
       "      <td>40</td>\n",
       "      <td>United-States</td>\n",
       "      <td>&lt;=50K</td>\n",
       "    </tr>\n",
       "    <tr>\n",
       "      <th>1</th>\n",
       "      <td>50</td>\n",
       "      <td>Self-emp-not-inc</td>\n",
       "      <td>83311</td>\n",
       "      <td>Bachelors</td>\n",
       "      <td>13</td>\n",
       "      <td>Married-civ-spouse</td>\n",
       "      <td>Exec-managerial</td>\n",
       "      <td>Husband</td>\n",
       "      <td>White</td>\n",
       "      <td>Male</td>\n",
       "      <td>0</td>\n",
       "      <td>0</td>\n",
       "      <td>13</td>\n",
       "      <td>United-States</td>\n",
       "      <td>&lt;=50K</td>\n",
       "    </tr>\n",
       "    <tr>\n",
       "      <th>2</th>\n",
       "      <td>38</td>\n",
       "      <td>Private</td>\n",
       "      <td>215646</td>\n",
       "      <td>HS-grad</td>\n",
       "      <td>9</td>\n",
       "      <td>Divorced</td>\n",
       "      <td>Handlers-cleaners</td>\n",
       "      <td>Not-in-family</td>\n",
       "      <td>White</td>\n",
       "      <td>Male</td>\n",
       "      <td>0</td>\n",
       "      <td>0</td>\n",
       "      <td>40</td>\n",
       "      <td>United-States</td>\n",
       "      <td>&lt;=50K</td>\n",
       "    </tr>\n",
       "    <tr>\n",
       "      <th>3</th>\n",
       "      <td>53</td>\n",
       "      <td>Private</td>\n",
       "      <td>234721</td>\n",
       "      <td>11th</td>\n",
       "      <td>7</td>\n",
       "      <td>Married-civ-spouse</td>\n",
       "      <td>Handlers-cleaners</td>\n",
       "      <td>Husband</td>\n",
       "      <td>Black</td>\n",
       "      <td>Male</td>\n",
       "      <td>0</td>\n",
       "      <td>0</td>\n",
       "      <td>40</td>\n",
       "      <td>United-States</td>\n",
       "      <td>&lt;=50K</td>\n",
       "    </tr>\n",
       "    <tr>\n",
       "      <th>4</th>\n",
       "      <td>28</td>\n",
       "      <td>Private</td>\n",
       "      <td>338409</td>\n",
       "      <td>Bachelors</td>\n",
       "      <td>13</td>\n",
       "      <td>Married-civ-spouse</td>\n",
       "      <td>Prof-specialty</td>\n",
       "      <td>Wife</td>\n",
       "      <td>Black</td>\n",
       "      <td>Female</td>\n",
       "      <td>0</td>\n",
       "      <td>0</td>\n",
       "      <td>40</td>\n",
       "      <td>Cuba</td>\n",
       "      <td>&lt;=50K</td>\n",
       "    </tr>\n",
       "  </tbody>\n",
       "</table>\n",
       "</div>"
      ],
      "text/plain": [
       "   age         workclass  fnlwgt  education  education-num  \\\n",
       "0   39         State-gov   77516  Bachelors             13   \n",
       "1   50  Self-emp-not-inc   83311  Bachelors             13   \n",
       "2   38           Private  215646    HS-grad              9   \n",
       "3   53           Private  234721       11th              7   \n",
       "4   28           Private  338409  Bachelors             13   \n",
       "\n",
       "       marital-status         occupation   relationship   race     sex  \\\n",
       "0       Never-married       Adm-clerical  Not-in-family  White    Male   \n",
       "1  Married-civ-spouse    Exec-managerial        Husband  White    Male   \n",
       "2            Divorced  Handlers-cleaners  Not-in-family  White    Male   \n",
       "3  Married-civ-spouse  Handlers-cleaners        Husband  Black    Male   \n",
       "4  Married-civ-spouse     Prof-specialty           Wife  Black  Female   \n",
       "\n",
       "   capital-gain  capital-loss  hours-per-week native-country salary  \n",
       "0          2174             0              40  United-States  <=50K  \n",
       "1             0             0              13  United-States  <=50K  \n",
       "2             0             0              40  United-States  <=50K  \n",
       "3             0             0              40  United-States  <=50K  \n",
       "4             0             0              40           Cuba  <=50K  "
      ]
     },
     "execution_count": 2,
     "metadata": {},
     "output_type": "execute_result"
    }
   ],
   "source": [
    "data = pd.read_csv('../data/adult.data.csv')\n",
    "data.head()"
   ]
  },
  {
   "cell_type": "markdown",
   "metadata": {
    "_uuid": "6b19853f936853d40971b56f4d298ab55ee78cac"
   },
   "source": [
    "**1. How many men and women (*sex* feature) are represented in this dataset?  这个数据集中代表了多少男性和女性(性别特征)?**\n"
   ]
  },
  {
   "cell_type": "code",
   "execution_count": 3,
   "metadata": {
    "ExecuteTime": {
     "end_time": "2023-09-20T21:55:32.944121Z",
     "start_time": "2023-09-20T21:55:32.783395Z"
    },
    "_uuid": "d32cafcbe966dbdfa40c3017d16d6f8c96bfb3e2",
    "tags": []
   },
   "outputs": [
    {
     "name": "stdout",
     "output_type": "stream",
     "text": [
      "sex\n",
      "Male      21790\n",
      "Female    10771\n",
      "Name: count, dtype: int64\n"
     ]
    }
   ],
   "source": [
    "# You code here\n",
    "# 计算男性和女性的数量\n",
    "gender_counts = data['sex'].value_counts()\n",
    "\n",
    "# 显示结果\n",
    "print(gender_counts)"
   ]
  },
  {
   "cell_type": "markdown",
   "metadata": {
    "_uuid": "4748793234a5d325ea60d13331ecf93e29774523"
   },
   "source": [
    "**2. What is the average age (*age* feature) of women?  女性的平均年龄(年龄特征)是多少?**"
   ]
  },
  {
   "cell_type": "code",
   "execution_count": 4,
   "metadata": {
    "ExecuteTime": {
     "end_time": "2023-09-20T21:55:32.944121Z",
     "start_time": "2023-09-20T21:55:32.846449Z"
    },
    "_uuid": "64f60d928855107d8980875656dcdf3587d91646",
    "tags": []
   },
   "outputs": [
    {
     "name": "stdout",
     "output_type": "stream",
     "text": [
      "36.85823043357163\n"
     ]
    }
   ],
   "source": [
    "# You code here\n",
    "# 计算女性的平均年龄\n",
    "average_age_women = data[data['sex'] == 'Female']['age'].mean()\n",
    "\n",
    "# Display the result\n",
    "print(average_age_women)"
   ]
  },
  {
   "cell_type": "markdown",
   "metadata": {
    "_uuid": "80e87c421c348067e88769c64e554206c51727d1"
   },
   "source": [
    "**3. What is the percentage of German citizens (*native-country* feature)?  德国公民的比例是多少(*原籍国*特征)**"
   ]
  },
  {
   "cell_type": "code",
   "execution_count": 5,
   "metadata": {
    "ExecuteTime": {
     "end_time": "2023-09-20T21:55:32.944121Z",
     "start_time": "2023-09-20T21:55:32.862959Z"
    },
    "_uuid": "ca9807509692638bd945671ed7d8b4a5ad1f3626",
    "tags": []
   },
   "outputs": [
    {
     "name": "stdout",
     "output_type": "stream",
     "text": [
      "0.42074874850281013\n"
     ]
    }
   ],
   "source": [
    "# You code here\n",
    "# 计算德国公民的百分比\n",
    "german_citizens_percentage = (data['native-country'] == 'Germany').mean() * 100\n",
    "\n",
    "# 显示结果\n",
    "print(german_citizens_percentage)"
   ]
  },
  {
   "cell_type": "markdown",
   "metadata": {
    "_uuid": "be9911cf525df4fca2c1d14b8720bc8a82f462e7"
   },
   "source": [
    "**4-5. What are the mean and standard deviation of age for those who earn more than 50K per year (*salary* feature) and those who earn less than 50K per year?  年薪超过5万(*薪水*特征)和年薪低于5万的人年龄的平均值和标准差是多少?**"
   ]
  },
  {
   "cell_type": "code",
   "execution_count": 6,
   "metadata": {
    "ExecuteTime": {
     "end_time": "2023-09-20T21:55:32.945128Z",
     "start_time": "2023-09-20T21:55:32.879476Z"
    },
    "_uuid": "97948f0115f949913d211627151b5605bcd204fd",
    "tags": []
   },
   "outputs": [
    {
     "name": "stdout",
     "output_type": "stream",
     "text": [
      "The mean age of those who earn more than 50K per year is 44.2 years with a standard deviation of 10.5 years.\n",
      "The mean age of those who earn less than 50K per year is 36.8 years with a standard deviation of 14.0 years.\n"
     ]
    }
   ],
   "source": [
    "# You code here\n",
    "# Calculate the mean and standard deviation of age for those who earn more than 50K per year\n",
    "age_high_mean = data[data['salary'] == '>50K']['age'].mean()\n",
    "age_high_std = data[data['salary'] == '>50K']['age'].std()\n",
    "\n",
    "# Calculate the mean and standard deviation of age for those who earn less than 50K per year\n",
    "age_low_mean = data[data['salary'] == '<=50K']['age'].mean()\n",
    "age_low_std = data[data['salary'] == '<=50K']['age'].std()\n",
    "\n",
    "# Display the results\n",
    "print(f'The mean age of those who earn more than 50K per year is {round(age_high_mean, 1)} years with a standard deviation of {round(age_high_std, 1)} years.')\n",
    "print(f'The mean age of those who earn less than 50K per year is {round(age_low_mean, 1)} years with a standard deviation of {round(age_low_std, 1)} years.')"
   ]
  },
  {
   "cell_type": "markdown",
   "metadata": {
    "_uuid": "180c3fe6f8b250b877c1d86866067b80acabdb64"
   },
   "source": [
    "**6. Is it true that people who earn more than 50K have at least high school education? (*education – Bachelors, Prof-school, Assoc-acdm, Assoc-voc, Masters* or *Doctorate* feature)  收入超过5万的人至少有高中学历是真的吗？ （*教育 – 学士、教授学院、Assoc-acdm、Assoc-voc、硕士* 或 *博士* 功能）**"
   ]
  },
  {
   "cell_type": "code",
   "execution_count": 7,
   "metadata": {
    "ExecuteTime": {
     "end_time": "2023-09-20T21:55:33.117823Z",
     "start_time": "2023-09-20T21:55:32.909758Z"
    },
    "_uuid": "58f38ebfa2b0e1418a6a1a680d0743697f9876a2",
    "execution": {
     "iopub.execute_input": "2023-09-20T13:40:57.390862Z",
     "iopub.status.busy": "2023-09-20T13:40:57.390190Z",
     "iopub.status.idle": "2023-09-20T13:40:57.406114Z",
     "shell.execute_reply": "2023-09-20T13:40:57.405077Z",
     "shell.execute_reply.started": "2023-09-20T13:40:57.390495Z"
    }
   },
   "outputs": [
    {
     "name": "stdout",
     "output_type": "stream",
     "text": [
      "False\n"
     ]
    }
   ],
   "source": [
    "# You code here\n",
    "# 判断收入超过 50K 的人群是否至少具备高中以上的教育程度\n",
    "at_least_high_school_education = data[data['salary'] == '>50K']['education'].isin(['Bachelors', 'Prof-school', 'Assoc-acdm', 'Assoc-voc', 'Masters', 'Doctorate']).all()\n",
    "\n",
    "# 显示结果\n",
    "print(at_least_high_school_education)"
   ]
  },
  {
   "cell_type": "markdown",
   "metadata": {
    "_uuid": "87d6bc9ec1c230e66416ce94533ea250368009cc"
   },
   "source": [
    "**7. Display age statistics for each race (*race* feature) and each gender (*sex* feature). Use *groupby()* and *describe()*. Find the maximum age of men of *Amer-Indian-Eskimo* race. 显示每个种族（种族特征）和每个性别（性别特征）的年龄统计数据。 使用groupby() 和describe()。 求美洲-印第安-爱斯基摩人种男性的最大年龄。**"
   ]
  },
  {
   "cell_type": "code",
   "execution_count": 8,
   "metadata": {
    "ExecuteTime": {
     "end_time": "2023-09-20T21:55:33.140339Z",
     "start_time": "2023-09-20T21:55:32.941115Z"
    },
    "_uuid": "a4567b72200b583f7f2ee1583405d636c12169db",
    "execution": {
     "iopub.execute_input": "2023-09-20T13:42:11.652374Z",
     "iopub.status.busy": "2023-09-20T13:42:11.651759Z",
     "iopub.status.idle": "2023-09-20T13:42:11.820309Z",
     "shell.execute_reply": "2023-09-20T13:42:11.819200Z",
     "shell.execute_reply.started": "2023-09-20T13:42:11.652308Z"
    }
   },
   "outputs": [
    {
     "name": "stdout",
     "output_type": "stream",
     "text": [
      "                             count       mean        std   min   25%   50%  \\\n",
      "race               sex                                                       \n",
      "Amer-Indian-Eskimo Female    119.0  37.117647  13.114991  17.0  27.0  36.0   \n",
      "                   Male      192.0  37.208333  12.049563  17.0  28.0  35.0   \n",
      "Asian-Pac-Islander Female    346.0  35.089595  12.300845  17.0  25.0  33.0   \n",
      "                   Male      693.0  39.073593  12.883944  18.0  29.0  37.0   \n",
      "Black              Female   1555.0  37.854019  12.637197  17.0  28.0  37.0   \n",
      "                   Male     1569.0  37.682600  12.882612  17.0  27.0  36.0   \n",
      "Other              Female    109.0  31.678899  11.631599  17.0  23.0  29.0   \n",
      "                   Male      162.0  34.654321  11.355531  17.0  26.0  32.0   \n",
      "White              Female   8642.0  36.811618  14.329093  17.0  25.0  35.0   \n",
      "                   Male    19174.0  39.652498  13.436029  17.0  29.0  38.0   \n",
      "\n",
      "                             75%   max  \n",
      "race               sex                  \n",
      "Amer-Indian-Eskimo Female  46.00  80.0  \n",
      "                   Male    45.00  82.0  \n",
      "Asian-Pac-Islander Female  43.75  75.0  \n",
      "                   Male    46.00  90.0  \n",
      "Black              Female  46.00  90.0  \n",
      "                   Male    46.00  90.0  \n",
      "Other              Female  39.00  74.0  \n",
      "                   Male    42.00  77.0  \n",
      "White              Female  46.00  90.0  \n",
      "                   Male    49.00  90.0  \n",
      "The maximum age of men of Amer-Indian-Eskimo race is 82 years.\n"
     ]
    }
   ],
   "source": [
    "# You code here\n",
    "# Group the data by race and gender, and describe the age column\n",
    "age_statistics = data.groupby(['race', 'sex'])['age'].describe()\n",
    "\n",
    "# Display the age statistics\n",
    "print(age_statistics)\n",
    "\n",
    "# Find the maximum age of men of Amer-Indian-Eskimo race\n",
    "max_age_amer_indian_eskimo_men = data[(data['race'] == 'Amer-Indian-Eskimo') & (data['sex'] == 'Male')]['age'].max()\n",
    "\n",
    "# Display the maximum age of men of Amer-Indian-Eskimo race\n",
    "print(f\"The maximum age of men of Amer-Indian-Eskimo race is {max_age_amer_indian_eskimo_men} years.\")\n"
   ]
  },
  {
   "cell_type": "markdown",
   "metadata": {
    "_uuid": "19411d604b0d4337a4a048a2f0e898541f39ab76"
   },
   "source": [
    "**8. Among whom is the proportion of those who earn a lot (>50K) greater: married or single men (*marital-status* feature)? Consider as married those who have a *marital-status* starting with *Married* (Married-civ-spouse, Married-spouse-absent or Married-AF-spouse), the rest are considered bachelors. 其中谁的收入较高（>5万）的比例更大：已婚男性还是单身男性（婚姻状况特征）？ 婚姻状况以“已婚”开头的人（已婚公民配偶、已婚配偶缺席或已婚AF配偶）被视为已婚，其余的被视为单身汉。**"
   ]
  },
  {
   "cell_type": "code",
   "execution_count": 9,
   "metadata": {
    "ExecuteTime": {
     "end_time": "2023-09-20T21:55:33.176557Z",
     "start_time": "2023-09-20T21:55:33.037749Z"
    },
    "_uuid": "5bb3a8524fcbd794707075ccf6aaf8dd0f30a3dd",
    "execution": {
     "iopub.execute_input": "2023-09-20T13:46:22.791410Z",
     "iopub.status.busy": "2023-09-20T13:46:22.791042Z",
     "iopub.status.idle": "2023-09-20T13:46:22.807069Z",
     "shell.execute_reply": "2023-09-20T13:46:22.805724Z",
     "shell.execute_reply.started": "2023-09-20T13:46:22.791357Z"
    }
   },
   "outputs": [
    {
     "name": "stdout",
     "output_type": "stream",
     "text": [
      "False\n"
     ]
    }
   ],
   "source": [
    "# You code here\n",
    "# 判断收入超过 50K 的人群是否至少具备高中以上的教育程度\n",
    "at_least_high_school_education = data[data['salary'] == '>50K']['education'].isin(['Bachelors', 'Prof-school', 'Assoc-acdm', 'Assoc-voc', 'Masters', 'Doctorate']).all()\n",
    "\n",
    "# 显示结果\n",
    "print(at_least_high_school_education)"
   ]
  },
  {
   "cell_type": "markdown",
   "metadata": {
    "_uuid": "34f2076e7d331b95a23b990372809b709d2c8183"
   },
   "source": [
    "**9. What is the maximum number of hours a person works per week (*hours-per-week* feature)? How many people work such a number of hours, and what is the percentage of those who earn a lot (>50K) among them? 一个人每周最多工作多少小时(*hours-per-week* feature)?有多少人工作这么长时间，其中挣很多钱(>5万)的人占多少比例?**"
   ]
  },
  {
   "cell_type": "code",
   "execution_count": 10,
   "metadata": {
    "ExecuteTime": {
     "end_time": "2023-09-20T21:55:33.177527Z",
     "start_time": "2023-09-20T21:55:33.052258Z"
    },
    "_uuid": "3571468172fc4bcf34e10b3d6ab358d4e41f7ef4",
    "execution": {
     "iopub.execute_input": "2023-09-20T13:50:10.909699Z",
     "iopub.status.busy": "2023-09-20T13:50:10.909357Z",
     "iopub.status.idle": "2023-09-20T13:50:10.928295Z",
     "shell.execute_reply": "2023-09-20T13:50:10.927070Z",
     "shell.execute_reply.started": "2023-09-20T13:50:10.909652Z"
    }
   },
   "outputs": [
    {
     "name": "stdout",
     "output_type": "stream",
     "text": [
      "The maximum number of hours a person works per week is 99.\n",
      "The number of people who work 99 hours per week is 85.\n",
      "The percentage of those who earn more than 50K among them is 29.41%.\n"
     ]
    }
   ],
   "source": [
    "# You code here\n",
    "\n",
    "\n",
    "# 找到每周工作小时数的最大值\n",
    "max_hours_per_week = data['hours-per-week'].max()\n",
    "\n",
    "# 计算工作小时数等于最大值的人数\n",
    "num_people_max_hours = data[data['hours-per-week'] == max_hours_per_week].shape[0]\n",
    "\n",
    "# 计算工作小时数等于最大值且收入超过 50K 的人数\n",
    "num_high_earners_max_hours = data[(data['hours-per-week'] == max_hours_per_week) & (data['salary'] == '>50K')].shape[0]\n",
    "\n",
    "# 计算收入超过 50K 的人数在工作小时数等于最大值的人数中所占的百分比\n",
    "percentage_high_earners_max_hours = (num_high_earners_max_hours / num_people_max_hours) * 100\n",
    "\n",
    "# 显示结果\n",
    "print(f\"The maximum number of hours a person works per week is {max_hours_per_week}.\")\n",
    "print(f\"The number of people who work {max_hours_per_week} hours per week is {num_people_max_hours}.\")\n",
    "print(f\"The percentage of those who earn more than 50K among them is {percentage_high_earners_max_hours:.2f}%.\")\n"
   ]
  },
  {
   "cell_type": "markdown",
   "metadata": {
    "_uuid": "d539d4d137fac1c5ea25bc516188eb657d67e9b4"
   },
   "source": [
    "**10. Count the average time of work (*hours-per-week*) for those who earn a little and a lot (*salary*) for each country (*native-country*). What will these be for Japan? 计算每个国家(原籍国)收入低和收入高的人的平均工作时间(每周小时数)。这些对日本来说会是什么?**"
   ]
  },
  {
   "cell_type": "code",
   "execution_count": 13,
   "metadata": {
    "ExecuteTime": {
     "end_time": "2023-09-20T22:04:15.189841Z",
     "start_time": "2023-09-20T22:04:15.051880Z"
    },
    "_uuid": "75a93411f1e3b519afcc27c026aaa0c67eb526e9",
    "execution": {
     "iopub.execute_input": "2023-09-20T13:52:11.397152Z",
     "iopub.status.busy": "2023-09-20T13:52:11.396705Z",
     "iopub.status.idle": "2023-09-20T13:52:11.720364Z",
     "shell.execute_reply": "2023-09-20T13:52:11.719403Z",
     "shell.execute_reply.started": "2023-09-20T13:52:11.397077Z"
    }
   },
   "outputs": [
    {
     "name": "stdout",
     "output_type": "stream",
     "text": [
      "                        count       mean        std   min    25%   50%   75%  \\\n",
      "native-country salary                                                          \n",
      "?              <=50K    437.0  40.164760  12.817002   1.0  40.00  40.0  45.0   \n",
      "               >50K     146.0  45.547945  10.202827   8.0  40.00  40.0  50.0   \n",
      "Cambodia       <=50K     12.0  41.416667   3.088346  40.0  40.00  40.0  40.5   \n",
      "               >50K       7.0  40.000000   0.000000  40.0  40.00  40.0  40.0   \n",
      "Canada         <=50K     82.0  37.914634  13.012056   8.0  32.75  40.0  40.0   \n",
      "...                       ...        ...        ...   ...    ...   ...   ...   \n",
      "United-States  >50K    7171.0  45.505369  11.025092   1.0  40.00  40.0  50.0   \n",
      "Vietnam        <=50K     62.0  37.193548  12.422664   1.0  40.00  40.0  40.0   \n",
      "               >50K       5.0  39.200000   1.788854  36.0  40.00  40.0  40.0   \n",
      "Yugoslavia     <=50K     10.0  41.600000  11.305849  20.0  40.00  40.0  40.0   \n",
      "               >50K       6.0  49.500000  11.202678  40.0  40.00  46.0  58.0   \n",
      "\n",
      "                        max  \n",
      "native-country salary        \n",
      "?              <=50K   99.0  \n",
      "               >50K    80.0  \n",
      "Cambodia       <=50K   50.0  \n",
      "               >50K    40.0  \n",
      "Canada         <=50K   70.0  \n",
      "...                     ...  \n",
      "United-States  >50K    99.0  \n",
      "Vietnam        <=50K   77.0  \n",
      "               >50K    40.0  \n",
      "Yugoslavia     <=50K   66.0  \n",
      "               >50K    65.0  \n",
      "\n",
      "[82 rows x 8 columns]\n",
      "The average time of work (hours-per-week) for those who earn a little and a lot in Japan:\n",
      "        count       mean        std   min   25%   50%   75%   max\n",
      "salary                                                           \n",
      "<=50K    38.0  41.000000  11.902759  10.0  40.0  40.0  41.5  65.0\n",
      ">50K     24.0  47.958333  16.120414  21.0  40.0  42.5  50.0  99.0\n"
     ]
    }
   ],
   "source": [
    "# You code here\n",
    "\n",
    "\n",
    "# 使用 groupby() 和 describe() 函数计算每个国家的平均工作时间\n",
    "average_hours_per_week = data.groupby(['native-country', 'salary'])['hours-per-week'].describe()\n",
    "\n",
    "# 显示结果\n",
    "print(average_hours_per_week)\n",
    "\n",
    "# 提取日本的平均工作时间\n",
    "average_hours_per_week_japan = average_hours_per_week.loc[('Japan',)]\n",
    "\n",
    "# 显示日本的平均工作时间\n",
    "print(f\"The average time of work (hours-per-week) for those who earn a little and a lot in Japan:\\n{average_hours_per_week_japan}\")"
   ]
  },
  {
   "cell_type": "code",
   "execution_count": null,
   "metadata": {
    "collapsed": false,
    "jupyter": {
     "outputs_hidden": false
    }
   },
   "outputs": [],
   "source": []
  }
 ],
 "metadata": {
  "anaconda-cloud": {},
  "kernelspec": {
   "display_name": "Python 3 (ipykernel)",
   "language": "python",
   "name": "python3"
  },
  "language_info": {
   "codemirror_mode": {
    "name": "ipython",
    "version": 3
   },
   "file_extension": ".py",
   "mimetype": "text/x-python",
   "name": "python",
   "nbconvert_exporter": "python",
   "pygments_lexer": "ipython3",
   "version": "3.10.11"
  }
 },
 "nbformat": 4,
 "nbformat_minor": 4
}
