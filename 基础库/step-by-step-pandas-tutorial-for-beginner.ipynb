{
 "cells": [
  {
   "cell_type": "markdown",
   "metadata": {
    "_uuid": "fdb0a9b3640bb8e12c6ce9ab2b9b64f9b0fbff65"
   },
   "source": [
    "# **Pandas Tutorial** <a id=\"0\"></a>\n",
    "<hr>\n",
    "1. [Overview](#1)\n",
    "2. [Pandas Library About](#2)\n",
    "3. [Import Library](#3)\n",
    "4. [Pandas Data Structure](#4)\n",
    "    * [Series](#5)\n",
    "    * [DataFrame](#6)\n",
    "5. [Import Data](#7)\n",
    "    * [CSV](#8)\n",
    "    * [Excel](#9)\n",
    "    * [Others(json, SQL, html)](#10)\n",
    "6. [Exporting Data](#11)\n",
    "7. [Create Test Objects](#12)\n",
    "8. [Summariza Data](#13)\n",
    "    * [df.info()](#14)\n",
    "    * [df.shape()](#15)\n",
    "    * [df.index](#16)\n",
    "    * [df.columns](#17)\n",
    "    * [df.count()](#18)\n",
    "    * [df.sum()](#19)\n",
    "    * [df.cumsum()](#20)\n",
    "    * [df.min()](#21)\n",
    "    * [df.max()](#22)\n",
    "    * [idxmin()](#23)\n",
    "    * [idxmax()](#24)\n",
    "    * [df.describe()](#25)\n",
    "    * [df.mean()](#26)\n",
    "    * [df.median()](#27)\n",
    "    * [df.quantile([0.25,0.75])](#28)\n",
    "    * [df.var()](#29)\n",
    "    * [df.std()](#30)\n",
    "    * [df.cummax()](#31)\n",
    "    * [df.cummin()](#32)\n",
    "    * [df['columnName'].cumproad()](#33)\n",
    "    * [len(df)](#34)\n",
    "    * [df.isnull()](#35)\n",
    "    * [df.corr()](#81)\n",
    "9. [Pandas with Selection & Filtering](#36)\n",
    "    * [series['index']](#37)\n",
    "    * [df[n:n]](#38)\n",
    "    * [df.iloc[[0],[5]]](#39)\n",
    "    * [df.loc[n:n]](#40)\n",
    "    * [df['columnName']](#41)\n",
    "    * [df['columnName][n]](#42)\n",
    "    * [df['columnName'].nunique()](#43)\n",
    "    * [df['columnName'].unique()](#44)\n",
    "    * [df.columnName](#45)\n",
    "    * [df['columnName'].value_counts(dropna =False)](#46)\n",
    "    * [df.head(n)](#47)\n",
    "    * [df.tail(n)](#48)\n",
    "    * [df.sample(n)](#49)\n",
    "    * [df.sample(frac=0.5)](#50)\n",
    "    * [df.nlargest(n,'columnName')](#51)\n",
    "    * [df.nsmallest(n,'columnName')](#52)\n",
    "    * [df[df.columnName < n]](#53)\n",
    "    * [df[['columnName','columnName']] ](#54)\n",
    "    * [df.loc[:,\"columnName1\":\"columnName2\"]](#55)\n",
    "    * [Create Filter](#56)\n",
    "    * [df.filter(regex = 'code')](#57)\n",
    "    * [np.logical_and](#58)\n",
    "    * [Filtering with &](#59)\n",
    "10. [Sort Data](#60)\n",
    "    * [df.sort_values('columnName')](#61)\n",
    "    * [df.sort_values('columnName', ascending=False)](#62)\n",
    "    * [df.sort_index()](#63)\n",
    "11. [Rename & Defining New & Change Columns](#64)\n",
    "    * [df.rename(columns= {'columnName' : 'newColumnName'})](#65)\n",
    "    * [Defining New Column](#66)\n",
    "    * [Change Index Name](#67)\n",
    "    * [Make all columns lowercase](#68)\n",
    "    * [Make all columns uppercase](#69)\n",
    "12. [Drop Data](#70)\n",
    "    * [df.drop(columns=['columnName'])](#71)\n",
    "    * [Series.drop(['index'])](#72)\n",
    "    * [Drop an observation (row)](#82)\n",
    "    * [Drop a variable (column)](#83)\n",
    "13. [Convert Data Types](#73)\n",
    "    * [df.dtypes](#74)\n",
    "    * [df['columnName'] = df['columnName'].astype('dataType')](#75)\n",
    "    * [pd.melt(frame=dataFrameName,id_vars = 'columnName', value_vars= ['columnName'])](#76)\n",
    "14. [Apply Function](#77)\n",
    "    * [Method 1](#78)\n",
    "    * [Method 2](#79)\n",
    "15. [Utilities Code](#80)"
   ]
  },
  {
   "cell_type": "markdown",
   "metadata": {
    "_uuid": "cffb32e6054a2bfb615322322c108e19d8d69a69"
   },
   "source": [
    "# **Overview** <a id=\"1\"></a>\n",
    "<mark>[Return Contents](#0)\n",
    "<hr>\n",
    "\n",
    "Welcome to my Kernel! In this kernel, I show you Pandas functions and how to use pandas. Why do I this? Because everyone who's just starting out or who's a professional is using the pandas.\n",
    "\n",
    "If you have a question or feedback, do not hesitate to write and if you **like** this kernel, please do not forget to **UPVOTE**."
   ]
  },
  {
   "cell_type": "markdown",
   "metadata": {
    "_uuid": "8851575f447385ce4440ddb0247c64bca54fd46e"
   },
   "source": [
    "# **What is the pandas?** <a id=\"2\"></a>\n",
    "<mark>[Return Contents](#0)\n",
    "<hr>\n",
    "\n",
    "pandas is an open source, BSD-licensed library providing high-performance, easy-to-use data structures and data analysis tools for the Python programming language.\n",
    "\n",
    "pandas is a NumFOCUS sponsored project. This will help ensure the success of development of pandas as a world-class open-source project, and makes it possible to donate to the project."
   ]
  },
  {
   "cell_type": "markdown",
   "metadata": {
    "_uuid": "4f0d13801b0c7e0cac286cb5219ccf2d39047225"
   },
   "source": [
    "# **Import Library** <a id=\"3\"></a>\n",
    "<mark>[Return Contents](#0)\n",
    "<hr>"
   ]
  },
  {
   "cell_type": "code",
   "execution_count": 2,
   "metadata": {
    "ExecuteTime": {
     "end_time": "2023-09-21T11:05:58.335903Z",
     "start_time": "2023-09-21T11:05:58.289792Z"
    },
    "_cell_guid": "b1076dfc-b9ad-4769-8c92-a6c4dae69d19",
    "_uuid": "8f2839f25d086af736a60e9eeb907d3b93b6e0e5"
   },
   "outputs": [],
   "source": [
    "import numpy as np # linear algebra\n",
    "import pandas as pd # import in pandas\n",
    "\n",
    "import os\n",
    "# print(os.listdir(\"../input\"))"
   ]
  },
  {
   "cell_type": "markdown",
   "metadata": {
    "_uuid": "a426ae53d18d45d00983d551db00a7467187d619"
   },
   "source": [
    "# **Pandas Data Structure** <a id=\"4\"></a>\n",
    "<mark>[Return Contents](#0)\n",
    "<hr>\n",
    "\n",
    "Pandas has two types of data structures. These are series and dataframe.\n",
    "\n",
    "### **Series** <a id=\"5\"></a>\n",
    "\n",
    "The series is a one-dimensional labeled array. It can accommodate any type of data in it."
   ]
  },
  {
   "cell_type": "code",
   "execution_count": 3,
   "metadata": {
    "ExecuteTime": {
     "end_time": "2023-09-21T10:57:56.417091Z",
     "start_time": "2023-09-21T10:57:56.386085Z"
    },
    "_uuid": "1263fb3f8afa0fc2b233693bb8b14305be64a868"
   },
   "outputs": [
    {
     "data": {
      "text/plain": [
       "pandas.core.series.Series"
      ]
     },
     "execution_count": 3,
     "metadata": {},
     "output_type": "execute_result"
    }
   ],
   "source": [
    "mySeries = pd.Series([3,-5,7,4], index=['a','b','c','d'])\n",
    "type(mySeries)"
   ]
  },
  {
   "cell_type": "markdown",
   "metadata": {
    "_uuid": "2b73b3f939dde85b87b827c6ce48887598c5f206"
   },
   "source": [
    "### **DataFrame** <a id=\"6\"></a>\n",
    "\n",
    "The dataframe is a two-dimensional data structure. It contains columns."
   ]
  },
  {
   "cell_type": "code",
   "execution_count": 4,
   "metadata": {
    "ExecuteTime": {
     "end_time": "2023-09-21T10:57:59.504185Z",
     "start_time": "2023-09-21T10:57:59.476611Z"
    },
    "_uuid": "5fe39122825e7b4ad3b51dd48fc265326343f289"
   },
   "outputs": [
    {
     "name": "stdout",
     "output_type": "stream",
     "text": [
      "<class 'dict'>\n",
      "<class 'pandas.core.frame.DataFrame'>\n"
     ]
    }
   ],
   "source": [
    "data = {'Country' : ['Belgium', 'India', 'Brazil' ],\n",
    "        'Capital': ['Brussels', 'New Delhi', 'Brassilia'],\n",
    "        'Population': [1234,1234,1234]}\n",
    "datas = pd.DataFrame(data, columns=['Country','Capital','Population'])\n",
    "print(type(data))\n",
    "print(type(datas))"
   ]
  },
  {
   "cell_type": "markdown",
   "metadata": {
    "_uuid": "1316f32ba568af226f868caf2b0e693130a5bb5f"
   },
   "source": [
    "# **Import Library** <a id=\"7\"></a>\n",
    "<mark>[Return Contents](#0)\n",
    "<hr>\n",
    "\n",
    "With pandas, we can open CSV, Excel and SQL databases. I will show you how to use this method for CSV and Excel files only.\n",
    "\n",
    "### **CSV(comma - separated values)** <a id=\"8\"></a>\n",
    "\n",
    "It is very easy to open and read CSV files and to overwrite the CSV file."
   ]
  },
  {
   "cell_type": "code",
   "execution_count": 5,
   "metadata": {
    "ExecuteTime": {
     "end_time": "2023-09-21T11:06:07.769118Z",
     "start_time": "2023-09-21T11:06:07.657038Z"
    },
    "_uuid": "504c6eeb8668b0a46380e5e24f314269284e119d"
   },
   "outputs": [
    {
     "data": {
      "text/plain": [
       "pandas.core.frame.DataFrame"
      ]
     },
     "execution_count": 5,
     "metadata": {},
     "output_type": "execute_result"
    }
   ],
   "source": [
    "df = pd.read_csv('./data/DJIA_table.csv')\n",
    "type(df)\n",
    "# If your Python file is not in the same folder as your CSV file, you should do this as follows.\n",
    "# df = pd.read_csv('/home/desktop/Iris.csv')"
   ]
  },
  {
   "cell_type": "code",
   "execution_count": 6,
   "metadata": {
    "tags": []
   },
   "outputs": [
    {
     "data": {
      "text/html": [
       "<div>\n",
       "<style scoped>\n",
       "    .dataframe tbody tr th:only-of-type {\n",
       "        vertical-align: middle;\n",
       "    }\n",
       "\n",
       "    .dataframe tbody tr th {\n",
       "        vertical-align: top;\n",
       "    }\n",
       "\n",
       "    .dataframe thead th {\n",
       "        text-align: right;\n",
       "    }\n",
       "</style>\n",
       "<table border=\"1\" class=\"dataframe\">\n",
       "  <thead>\n",
       "    <tr style=\"text-align: right;\">\n",
       "      <th></th>\n",
       "      <th>Date</th>\n",
       "      <th>Open</th>\n",
       "      <th>High</th>\n",
       "      <th>Low</th>\n",
       "      <th>Close</th>\n",
       "      <th>Volume</th>\n",
       "      <th>Adj Close</th>\n",
       "    </tr>\n",
       "  </thead>\n",
       "  <tbody>\n",
       "    <tr>\n",
       "      <th>0</th>\n",
       "      <td>2016-07-01</td>\n",
       "      <td>17924.240234</td>\n",
       "      <td>18002.380859</td>\n",
       "      <td>17916.910156</td>\n",
       "      <td>17949.369141</td>\n",
       "      <td>82160000</td>\n",
       "      <td>17949.369141</td>\n",
       "    </tr>\n",
       "    <tr>\n",
       "      <th>1</th>\n",
       "      <td>2016-06-30</td>\n",
       "      <td>17712.759766</td>\n",
       "      <td>17930.609375</td>\n",
       "      <td>17711.800781</td>\n",
       "      <td>17929.990234</td>\n",
       "      <td>133030000</td>\n",
       "      <td>17929.990234</td>\n",
       "    </tr>\n",
       "    <tr>\n",
       "      <th>2</th>\n",
       "      <td>2016-06-29</td>\n",
       "      <td>17456.019531</td>\n",
       "      <td>17704.509766</td>\n",
       "      <td>17456.019531</td>\n",
       "      <td>17694.679688</td>\n",
       "      <td>106380000</td>\n",
       "      <td>17694.679688</td>\n",
       "    </tr>\n",
       "    <tr>\n",
       "      <th>3</th>\n",
       "      <td>2016-06-28</td>\n",
       "      <td>17190.509766</td>\n",
       "      <td>17409.720703</td>\n",
       "      <td>17190.509766</td>\n",
       "      <td>17409.720703</td>\n",
       "      <td>112190000</td>\n",
       "      <td>17409.720703</td>\n",
       "    </tr>\n",
       "    <tr>\n",
       "      <th>4</th>\n",
       "      <td>2016-06-27</td>\n",
       "      <td>17355.210938</td>\n",
       "      <td>17355.210938</td>\n",
       "      <td>17063.080078</td>\n",
       "      <td>17140.240234</td>\n",
       "      <td>138740000</td>\n",
       "      <td>17140.240234</td>\n",
       "    </tr>\n",
       "    <tr>\n",
       "      <th>...</th>\n",
       "      <td>...</td>\n",
       "      <td>...</td>\n",
       "      <td>...</td>\n",
       "      <td>...</td>\n",
       "      <td>...</td>\n",
       "      <td>...</td>\n",
       "      <td>...</td>\n",
       "    </tr>\n",
       "    <tr>\n",
       "      <th>1984</th>\n",
       "      <td>2008-08-14</td>\n",
       "      <td>11532.070312</td>\n",
       "      <td>11718.280273</td>\n",
       "      <td>11450.889648</td>\n",
       "      <td>11615.929688</td>\n",
       "      <td>159790000</td>\n",
       "      <td>11615.929688</td>\n",
       "    </tr>\n",
       "    <tr>\n",
       "      <th>1985</th>\n",
       "      <td>2008-08-13</td>\n",
       "      <td>11632.809570</td>\n",
       "      <td>11633.780273</td>\n",
       "      <td>11453.339844</td>\n",
       "      <td>11532.959961</td>\n",
       "      <td>182550000</td>\n",
       "      <td>11532.959961</td>\n",
       "    </tr>\n",
       "    <tr>\n",
       "      <th>1986</th>\n",
       "      <td>2008-08-12</td>\n",
       "      <td>11781.700195</td>\n",
       "      <td>11782.349609</td>\n",
       "      <td>11601.519531</td>\n",
       "      <td>11642.469727</td>\n",
       "      <td>173590000</td>\n",
       "      <td>11642.469727</td>\n",
       "    </tr>\n",
       "    <tr>\n",
       "      <th>1987</th>\n",
       "      <td>2008-08-11</td>\n",
       "      <td>11729.669922</td>\n",
       "      <td>11867.110352</td>\n",
       "      <td>11675.530273</td>\n",
       "      <td>11782.349609</td>\n",
       "      <td>183190000</td>\n",
       "      <td>11782.349609</td>\n",
       "    </tr>\n",
       "    <tr>\n",
       "      <th>1988</th>\n",
       "      <td>2008-08-08</td>\n",
       "      <td>11432.089844</td>\n",
       "      <td>11759.959961</td>\n",
       "      <td>11388.040039</td>\n",
       "      <td>11734.320312</td>\n",
       "      <td>212830000</td>\n",
       "      <td>11734.320312</td>\n",
       "    </tr>\n",
       "  </tbody>\n",
       "</table>\n",
       "<p>1989 rows × 7 columns</p>\n",
       "</div>"
      ],
      "text/plain": [
       "            Date          Open          High           Low         Close  \\\n",
       "0     2016-07-01  17924.240234  18002.380859  17916.910156  17949.369141   \n",
       "1     2016-06-30  17712.759766  17930.609375  17711.800781  17929.990234   \n",
       "2     2016-06-29  17456.019531  17704.509766  17456.019531  17694.679688   \n",
       "3     2016-06-28  17190.509766  17409.720703  17190.509766  17409.720703   \n",
       "4     2016-06-27  17355.210938  17355.210938  17063.080078  17140.240234   \n",
       "...          ...           ...           ...           ...           ...   \n",
       "1984  2008-08-14  11532.070312  11718.280273  11450.889648  11615.929688   \n",
       "1985  2008-08-13  11632.809570  11633.780273  11453.339844  11532.959961   \n",
       "1986  2008-08-12  11781.700195  11782.349609  11601.519531  11642.469727   \n",
       "1987  2008-08-11  11729.669922  11867.110352  11675.530273  11782.349609   \n",
       "1988  2008-08-08  11432.089844  11759.959961  11388.040039  11734.320312   \n",
       "\n",
       "         Volume     Adj Close  \n",
       "0      82160000  17949.369141  \n",
       "1     133030000  17929.990234  \n",
       "2     106380000  17694.679688  \n",
       "3     112190000  17409.720703  \n",
       "4     138740000  17140.240234  \n",
       "...         ...           ...  \n",
       "1984  159790000  11615.929688  \n",
       "1985  182550000  11532.959961  \n",
       "1986  173590000  11642.469727  \n",
       "1987  183190000  11782.349609  \n",
       "1988  212830000  11734.320312  \n",
       "\n",
       "[1989 rows x 7 columns]"
      ]
     },
     "execution_count": 6,
     "metadata": {},
     "output_type": "execute_result"
    }
   ],
   "source": [
    "df"
   ]
  },
  {
   "cell_type": "markdown",
   "metadata": {
    "_uuid": "644c4eceafba990426b635cd66cb49a4be34de0a"
   },
   "source": [
    "### **Excel** <a id=\"9\"></a>\n",
    "\n",
    "When we want to work with Excel files, we need to type the following code."
   ]
  },
  {
   "cell_type": "code",
   "execution_count": null,
   "metadata": {
    "_uuid": "468b5105d9feffb1d54cb7752cc57a07687e61dc"
   },
   "outputs": [],
   "source": [
    "# pd.read_excel('filename')\n",
    "# pd.to_excel('dir/dataFrame.xlsx', sheet_name='Sheet1')"
   ]
  },
  {
   "cell_type": "markdown",
   "metadata": {
    "_uuid": "91d6e54d29a522606c7c843ff0efc9fb0ddbf2ca"
   },
   "source": [
    "### **Others(json, SQL, table, html)** <a id=\"10\"></a>"
   ]
  },
  {
   "cell_type": "code",
   "execution_count": null,
   "metadata": {
    "_uuid": "5fb0849e539bc6afdfa70fcbcba38b869e74f195"
   },
   "outputs": [],
   "source": [
    "# pd.read_sql(query,connection_object) -> Reads from a SQL table/database\n",
    "# pd.read_table(filename) -> From a delimited text file(like TSV)\n",
    "# pd.read_json(json_string) -> Reads from a json formatted string, URL or file\n",
    "# pd.read_html(url) -> Parses an html URL, string or file and extracts tables to a list of dataframes\n",
    "# pd.read_clipboard() -> Takes the contentes of your clipboard and passes it to read_table()\n",
    "# pd.DataFrame(dict) -> From a dict, keys for columns names, values for data as lists"
   ]
  },
  {
   "cell_type": "markdown",
   "metadata": {
    "_uuid": "caaf40c4674f87d855900e5223f51e2a4dd07cfc"
   },
   "source": [
    "# **Exporting Data** <a id=\"11\"></a>\n",
    "<mark>[Return Contents](#0)\n",
    "<hr>"
   ]
  },
  {
   "cell_type": "code",
   "execution_count": null,
   "metadata": {
    "_uuid": "91ef5e0bc13b063b95ae1e4424c303bd684c02ce"
   },
   "outputs": [],
   "source": [
    "# df.to_csv(filename) -> Writes to a CSV file\n",
    "# df.to_excel(filename) -> Writes on an Excel file\n",
    "# df.to_sql(table_name, connection_object) -> Writes to a SQL table\n",
    "# df.to_json(filename) -> Writes to a file in JSON format\n",
    "# df.to_html(filename) -> Saves as an HTML table\n",
    "# df.to_clipboard() -> Writes to the clipboard"
   ]
  },
  {
   "cell_type": "markdown",
   "metadata": {
    "_uuid": "3b7d9b79a7b22a994648e4fe7cd7cd5622aae105"
   },
   "source": [
    "# **Create Test Objects** <a id=\"12\"></a>\n",
    "<mark>[Return Contents](#0)\n",
    "<hr>"
   ]
  },
  {
   "cell_type": "code",
   "execution_count": 7,
   "metadata": {
    "_uuid": "0cf5537b0c3930da09e825bdf5a0058456c10715"
   },
   "outputs": [
    {
     "data": {
      "text/html": [
       "<div>\n",
       "<style scoped>\n",
       "    .dataframe tbody tr th:only-of-type {\n",
       "        vertical-align: middle;\n",
       "    }\n",
       "\n",
       "    .dataframe tbody tr th {\n",
       "        vertical-align: top;\n",
       "    }\n",
       "\n",
       "    .dataframe thead th {\n",
       "        text-align: right;\n",
       "    }\n",
       "</style>\n",
       "<table border=\"1\" class=\"dataframe\">\n",
       "  <thead>\n",
       "    <tr style=\"text-align: right;\">\n",
       "      <th></th>\n",
       "      <th>0</th>\n",
       "      <th>1</th>\n",
       "      <th>2</th>\n",
       "      <th>3</th>\n",
       "      <th>4</th>\n",
       "    </tr>\n",
       "  </thead>\n",
       "  <tbody>\n",
       "    <tr>\n",
       "      <th>0</th>\n",
       "      <td>0.898672</td>\n",
       "      <td>0.117554</td>\n",
       "      <td>0.019135</td>\n",
       "      <td>0.921251</td>\n",
       "      <td>0.685505</td>\n",
       "    </tr>\n",
       "    <tr>\n",
       "      <th>1</th>\n",
       "      <td>0.306898</td>\n",
       "      <td>0.808991</td>\n",
       "      <td>0.833184</td>\n",
       "      <td>0.341657</td>\n",
       "      <td>0.972816</td>\n",
       "    </tr>\n",
       "    <tr>\n",
       "      <th>2</th>\n",
       "      <td>0.112201</td>\n",
       "      <td>0.478391</td>\n",
       "      <td>0.219103</td>\n",
       "      <td>0.618015</td>\n",
       "      <td>0.251396</td>\n",
       "    </tr>\n",
       "    <tr>\n",
       "      <th>3</th>\n",
       "      <td>0.862642</td>\n",
       "      <td>0.339938</td>\n",
       "      <td>0.350057</td>\n",
       "      <td>0.957073</td>\n",
       "      <td>0.764115</td>\n",
       "    </tr>\n",
       "    <tr>\n",
       "      <th>4</th>\n",
       "      <td>0.649764</td>\n",
       "      <td>0.556749</td>\n",
       "      <td>0.236875</td>\n",
       "      <td>0.007034</td>\n",
       "      <td>0.342898</td>\n",
       "    </tr>\n",
       "    <tr>\n",
       "      <th>5</th>\n",
       "      <td>0.914576</td>\n",
       "      <td>0.055911</td>\n",
       "      <td>0.594981</td>\n",
       "      <td>0.202283</td>\n",
       "      <td>0.475266</td>\n",
       "    </tr>\n",
       "    <tr>\n",
       "      <th>6</th>\n",
       "      <td>0.869722</td>\n",
       "      <td>0.897055</td>\n",
       "      <td>0.377269</td>\n",
       "      <td>0.179183</td>\n",
       "      <td>0.284045</td>\n",
       "    </tr>\n",
       "    <tr>\n",
       "      <th>7</th>\n",
       "      <td>0.161416</td>\n",
       "      <td>0.549142</td>\n",
       "      <td>0.887030</td>\n",
       "      <td>0.194451</td>\n",
       "      <td>0.235421</td>\n",
       "    </tr>\n",
       "    <tr>\n",
       "      <th>8</th>\n",
       "      <td>0.705732</td>\n",
       "      <td>0.667609</td>\n",
       "      <td>0.664538</td>\n",
       "      <td>0.401223</td>\n",
       "      <td>0.469597</td>\n",
       "    </tr>\n",
       "    <tr>\n",
       "      <th>9</th>\n",
       "      <td>0.831154</td>\n",
       "      <td>0.951252</td>\n",
       "      <td>0.047839</td>\n",
       "      <td>0.835101</td>\n",
       "      <td>0.576052</td>\n",
       "    </tr>\n",
       "    <tr>\n",
       "      <th>10</th>\n",
       "      <td>0.429447</td>\n",
       "      <td>0.901740</td>\n",
       "      <td>0.890790</td>\n",
       "      <td>0.913051</td>\n",
       "      <td>0.828964</td>\n",
       "    </tr>\n",
       "    <tr>\n",
       "      <th>11</th>\n",
       "      <td>0.872305</td>\n",
       "      <td>0.441058</td>\n",
       "      <td>0.859875</td>\n",
       "      <td>0.529993</td>\n",
       "      <td>0.764662</td>\n",
       "    </tr>\n",
       "    <tr>\n",
       "      <th>12</th>\n",
       "      <td>0.672834</td>\n",
       "      <td>0.790012</td>\n",
       "      <td>0.783585</td>\n",
       "      <td>0.640058</td>\n",
       "      <td>0.507095</td>\n",
       "    </tr>\n",
       "    <tr>\n",
       "      <th>13</th>\n",
       "      <td>0.140235</td>\n",
       "      <td>0.257737</td>\n",
       "      <td>0.515935</td>\n",
       "      <td>0.986803</td>\n",
       "      <td>0.123303</td>\n",
       "    </tr>\n",
       "    <tr>\n",
       "      <th>14</th>\n",
       "      <td>0.636360</td>\n",
       "      <td>0.921720</td>\n",
       "      <td>0.420860</td>\n",
       "      <td>0.555719</td>\n",
       "      <td>0.146868</td>\n",
       "    </tr>\n",
       "    <tr>\n",
       "      <th>15</th>\n",
       "      <td>0.751530</td>\n",
       "      <td>0.353926</td>\n",
       "      <td>0.189232</td>\n",
       "      <td>0.149460</td>\n",
       "      <td>0.133408</td>\n",
       "    </tr>\n",
       "    <tr>\n",
       "      <th>16</th>\n",
       "      <td>0.471143</td>\n",
       "      <td>0.049616</td>\n",
       "      <td>0.059070</td>\n",
       "      <td>0.323550</td>\n",
       "      <td>0.201157</td>\n",
       "    </tr>\n",
       "    <tr>\n",
       "      <th>17</th>\n",
       "      <td>0.240090</td>\n",
       "      <td>0.266652</td>\n",
       "      <td>0.081463</td>\n",
       "      <td>0.930045</td>\n",
       "      <td>0.472130</td>\n",
       "    </tr>\n",
       "    <tr>\n",
       "      <th>18</th>\n",
       "      <td>0.598001</td>\n",
       "      <td>0.304119</td>\n",
       "      <td>0.137700</td>\n",
       "      <td>0.151924</td>\n",
       "      <td>0.709949</td>\n",
       "    </tr>\n",
       "    <tr>\n",
       "      <th>19</th>\n",
       "      <td>0.141153</td>\n",
       "      <td>0.004321</td>\n",
       "      <td>0.974485</td>\n",
       "      <td>0.627639</td>\n",
       "      <td>0.457692</td>\n",
       "    </tr>\n",
       "  </tbody>\n",
       "</table>\n",
       "</div>"
      ],
      "text/plain": [
       "           0         1         2         3         4\n",
       "0   0.898672  0.117554  0.019135  0.921251  0.685505\n",
       "1   0.306898  0.808991  0.833184  0.341657  0.972816\n",
       "2   0.112201  0.478391  0.219103  0.618015  0.251396\n",
       "3   0.862642  0.339938  0.350057  0.957073  0.764115\n",
       "4   0.649764  0.556749  0.236875  0.007034  0.342898\n",
       "5   0.914576  0.055911  0.594981  0.202283  0.475266\n",
       "6   0.869722  0.897055  0.377269  0.179183  0.284045\n",
       "7   0.161416  0.549142  0.887030  0.194451  0.235421\n",
       "8   0.705732  0.667609  0.664538  0.401223  0.469597\n",
       "9   0.831154  0.951252  0.047839  0.835101  0.576052\n",
       "10  0.429447  0.901740  0.890790  0.913051  0.828964\n",
       "11  0.872305  0.441058  0.859875  0.529993  0.764662\n",
       "12  0.672834  0.790012  0.783585  0.640058  0.507095\n",
       "13  0.140235  0.257737  0.515935  0.986803  0.123303\n",
       "14  0.636360  0.921720  0.420860  0.555719  0.146868\n",
       "15  0.751530  0.353926  0.189232  0.149460  0.133408\n",
       "16  0.471143  0.049616  0.059070  0.323550  0.201157\n",
       "17  0.240090  0.266652  0.081463  0.930045  0.472130\n",
       "18  0.598001  0.304119  0.137700  0.151924  0.709949\n",
       "19  0.141153  0.004321  0.974485  0.627639  0.457692"
      ]
     },
     "execution_count": 7,
     "metadata": {},
     "output_type": "execute_result"
    }
   ],
   "source": [
    "pd.DataFrame(np.random.rand(20,5)) # 5 columns and 20 rows of random floats"
   ]
  },
  {
   "cell_type": "markdown",
   "metadata": {
    "_uuid": "4b6898acc1f32bab20b37fe7b0dee8f47a321301"
   },
   "source": [
    "# **Summarize Data** <a id=\"13\"></a>\n",
    "<mark>[Return Contents](#0)\n",
    "<hr>\n",
    "\n",
    "It's easy to get information about data with pandas. It makes it easier for us. Let's examine the existing functions one by one"
   ]
  },
  {
   "cell_type": "markdown",
   "metadata": {
    "_uuid": "bd615451f4c5670bd4e8fa3f727d1c0f1d82dbed"
   },
   "source": [
    "### **df.info()** <a id=\"14\"></a>\n",
    "This Code provides detailed information about our data.\n",
    "\n",
    "* **RangeIndex:** Specifies how many data there is.\n",
    "* **Data Columns:** Specifies how many columns are found.\n",
    "* **Columns:** Gives information about Columns.\n",
    "* **dtypes:** It says what kind of data you have and how many of these data you have.\n",
    "* **Memory Usage:** It says how much memory usage is.\n",
    "\n",
    "<mark>[Return Contents](#0)\n",
    "<hr>"
   ]
  },
  {
   "cell_type": "code",
   "execution_count": 8,
   "metadata": {
    "ExecuteTime": {
     "end_time": "2023-09-21T11:06:15.352185Z",
     "start_time": "2023-09-21T11:06:15.263640Z"
    },
    "_uuid": "10c546875a26f15d71ae9517d1f165b3e9a70781"
   },
   "outputs": [
    {
     "name": "stdout",
     "output_type": "stream",
     "text": [
      "<class 'pandas.core.frame.DataFrame'>\n",
      "RangeIndex: 1989 entries, 0 to 1988\n",
      "Data columns (total 7 columns):\n",
      " #   Column     Non-Null Count  Dtype  \n",
      "---  ------     --------------  -----  \n",
      " 0   Date       1989 non-null   object \n",
      " 1   Open       1989 non-null   float64\n",
      " 2   High       1989 non-null   float64\n",
      " 3   Low        1989 non-null   float64\n",
      " 4   Close      1989 non-null   float64\n",
      " 5   Volume     1989 non-null   int64  \n",
      " 6   Adj Close  1989 non-null   float64\n",
      "dtypes: float64(5), int64(1), object(1)\n",
      "memory usage: 108.9+ KB\n"
     ]
    }
   ],
   "source": [
    "df.info()"
   ]
  },
  {
   "cell_type": "markdown",
   "metadata": {
    "_uuid": "f885b5ef0f5cde44dc5fbdffac16695503b35fc6"
   },
   "source": [
    "### **df.shape()** <a id=\"15\"></a>\n",
    "This code shows us the number of rows and columns.\n",
    "\n",
    "<mark>[Return Contents](#0)\n",
    "<hr>"
   ]
  },
  {
   "cell_type": "code",
   "execution_count": 9,
   "metadata": {
    "ExecuteTime": {
     "end_time": "2023-09-21T11:06:19.719879Z",
     "start_time": "2023-09-21T11:06:19.644328Z"
    },
    "_uuid": "6a2f6f6ef1d420c6ccdb2d52b1ab531fb1148d24"
   },
   "outputs": [
    {
     "data": {
      "text/plain": [
       "(1989, 7)"
      ]
     },
     "execution_count": 9,
     "metadata": {},
     "output_type": "execute_result"
    }
   ],
   "source": [
    "df.shape"
   ]
  },
  {
   "cell_type": "markdown",
   "metadata": {
    "_uuid": "617ea072afc3ca84a35ccd9b451ea32ead59823f"
   },
   "source": [
    "### **df.index** <a id=\"16\"></a>\n",
    "This code shows the total number of index found.\n",
    "\n",
    "<mark>[Return Contents](#0)\n",
    "<hr>"
   ]
  },
  {
   "cell_type": "code",
   "execution_count": 10,
   "metadata": {
    "ExecuteTime": {
     "end_time": "2023-09-21T11:06:21.126900Z",
     "start_time": "2023-09-21T11:06:21.082391Z"
    },
    "_uuid": "7faf88abf28731ab59c9838c665026b6348ce32d"
   },
   "outputs": [
    {
     "data": {
      "text/plain": [
       "RangeIndex(start=0, stop=1989, step=1)"
      ]
     },
     "execution_count": 10,
     "metadata": {},
     "output_type": "execute_result"
    }
   ],
   "source": [
    "df.index"
   ]
  },
  {
   "cell_type": "markdown",
   "metadata": {
    "_uuid": "35bc3f0f534f3882d7462fa91d51f57e8361327b"
   },
   "source": [
    "### **df.columns** <a id=\"17\"></a>\n",
    "This code shows all the columns contained in the data we have examined.\n",
    "\n",
    "<mark>[Return Contents](#0)\n",
    "<hr>"
   ]
  },
  {
   "cell_type": "code",
   "execution_count": 11,
   "metadata": {
    "ExecuteTime": {
     "end_time": "2023-09-21T11:06:22.866112Z",
     "start_time": "2023-09-21T11:06:22.846084Z"
    },
    "_uuid": "e31b26213b05a838e5376d370e14acba61790a2e"
   },
   "outputs": [
    {
     "data": {
      "text/plain": [
       "Index(['Date', 'Open', 'High', 'Low', 'Close', 'Volume', 'Adj Close'], dtype='object')"
      ]
     },
     "execution_count": 11,
     "metadata": {},
     "output_type": "execute_result"
    }
   ],
   "source": [
    "df.columns"
   ]
  },
  {
   "cell_type": "markdown",
   "metadata": {
    "_uuid": "9c1b1229f876a1791c34337b13b789106d0bcfef"
   },
   "source": [
    "### **df.count()** <a id=\"18\"></a>\n",
    "This code shows us how many pieces of data are in each column.\n",
    "\n",
    "<mark>[Return Contents](#0)\n",
    "<hr>"
   ]
  },
  {
   "cell_type": "code",
   "execution_count": 12,
   "metadata": {
    "ExecuteTime": {
     "end_time": "2023-09-21T11:06:26.959523Z",
     "start_time": "2023-09-21T11:06:26.929522Z"
    },
    "_uuid": "3509654c02ace990c098b9cdef6d43a4d35c2454"
   },
   "outputs": [
    {
     "data": {
      "text/plain": [
       "Date         1989\n",
       "Open         1989\n",
       "High         1989\n",
       "Low          1989\n",
       "Close        1989\n",
       "Volume       1989\n",
       "Adj Close    1989\n",
       "dtype: int64"
      ]
     },
     "execution_count": 12,
     "metadata": {},
     "output_type": "execute_result"
    }
   ],
   "source": [
    "df.count()"
   ]
  },
  {
   "cell_type": "markdown",
   "metadata": {
    "_uuid": "4756f4d3ee72fd0d5a02ff0c48bc27ee0438854a"
   },
   "source": [
    "### **df.sum()** <a id=\"19\"></a>\n",
    "This code shows us the sum of the data in each column.\n",
    "\n",
    "<mark>[Return Contents](#0)\n",
    "<hr>"
   ]
  },
  {
   "cell_type": "code",
   "execution_count": 13,
   "metadata": {
    "ExecuteTime": {
     "end_time": "2023-09-21T11:06:34.671865Z",
     "start_time": "2023-09-21T11:06:34.650868Z"
    },
    "_uuid": "01420020ad3f68adc9ae8000c26101d03009fbef"
   },
   "outputs": [
    {
     "data": {
      "text/plain": [
       "Date         2016-07-012016-06-302016-06-292016-06-282016-0...\n",
       "Open                                           26770181.820295\n",
       "High                                           26933652.010742\n",
       "Low                                            26598761.206535\n",
       "Close                                          26777971.154794\n",
       "Volume                                            323831020000\n",
       "Adj Close                                      26777971.154794\n",
       "dtype: object"
      ]
     },
     "execution_count": 13,
     "metadata": {},
     "output_type": "execute_result"
    }
   ],
   "source": [
    "df.sum()"
   ]
  },
  {
   "cell_type": "markdown",
   "metadata": {
    "_uuid": "b2695908688bf1ab5811768b35209483f6a14ae8"
   },
   "source": [
    "### **df.cumsum()** <a id=\"20\"></a>\n",
    "This code gives us cumulative sum of the data.\n",
    "\n",
    "<mark>[Return Contents](#0)\n",
    "<hr>"
   ]
  },
  {
   "cell_type": "code",
   "execution_count": 14,
   "metadata": {
    "ExecuteTime": {
     "end_time": "2023-09-21T11:06:40.914316Z",
     "start_time": "2023-09-21T11:06:40.809333Z"
    },
    "_uuid": "82827d42ae7bb44b20a5c960135430e497391895"
   },
   "outputs": [
    {
     "data": {
      "text/html": [
       "<div>\n",
       "<style scoped>\n",
       "    .dataframe tbody tr th:only-of-type {\n",
       "        vertical-align: middle;\n",
       "    }\n",
       "\n",
       "    .dataframe tbody tr th {\n",
       "        vertical-align: top;\n",
       "    }\n",
       "\n",
       "    .dataframe thead th {\n",
       "        text-align: right;\n",
       "    }\n",
       "</style>\n",
       "<table border=\"1\" class=\"dataframe\">\n",
       "  <thead>\n",
       "    <tr style=\"text-align: right;\">\n",
       "      <th></th>\n",
       "      <th>Date</th>\n",
       "      <th>Open</th>\n",
       "      <th>High</th>\n",
       "      <th>Low</th>\n",
       "      <th>Close</th>\n",
       "      <th>Volume</th>\n",
       "      <th>Adj Close</th>\n",
       "    </tr>\n",
       "  </thead>\n",
       "  <tbody>\n",
       "    <tr>\n",
       "      <th>0</th>\n",
       "      <td>2016-07-01</td>\n",
       "      <td>17924.240234</td>\n",
       "      <td>18002.380859</td>\n",
       "      <td>17916.910156</td>\n",
       "      <td>17949.369141</td>\n",
       "      <td>82160000</td>\n",
       "      <td>17949.369141</td>\n",
       "    </tr>\n",
       "    <tr>\n",
       "      <th>1</th>\n",
       "      <td>2016-07-012016-06-30</td>\n",
       "      <td>35637.000000</td>\n",
       "      <td>35932.990234</td>\n",
       "      <td>35628.710937</td>\n",
       "      <td>35879.359375</td>\n",
       "      <td>215190000</td>\n",
       "      <td>35879.359375</td>\n",
       "    </tr>\n",
       "    <tr>\n",
       "      <th>2</th>\n",
       "      <td>2016-07-012016-06-302016-06-29</td>\n",
       "      <td>53093.019531</td>\n",
       "      <td>53637.500000</td>\n",
       "      <td>53084.730468</td>\n",
       "      <td>53574.039063</td>\n",
       "      <td>321570000</td>\n",
       "      <td>53574.039063</td>\n",
       "    </tr>\n",
       "    <tr>\n",
       "      <th>3</th>\n",
       "      <td>2016-07-012016-06-302016-06-292016-06-28</td>\n",
       "      <td>70283.529297</td>\n",
       "      <td>71047.220703</td>\n",
       "      <td>70275.240234</td>\n",
       "      <td>70983.759766</td>\n",
       "      <td>433760000</td>\n",
       "      <td>70983.759766</td>\n",
       "    </tr>\n",
       "    <tr>\n",
       "      <th>4</th>\n",
       "      <td>2016-07-012016-06-302016-06-292016-06-282016-0...</td>\n",
       "      <td>87638.740235</td>\n",
       "      <td>88402.431641</td>\n",
       "      <td>87338.320312</td>\n",
       "      <td>88124.000000</td>\n",
       "      <td>572500000</td>\n",
       "      <td>88124.000000</td>\n",
       "    </tr>\n",
       "  </tbody>\n",
       "</table>\n",
       "</div>"
      ],
      "text/plain": [
       "                                                Date          Open  \\\n",
       "0                                         2016-07-01  17924.240234   \n",
       "1                               2016-07-012016-06-30  35637.000000   \n",
       "2                     2016-07-012016-06-302016-06-29  53093.019531   \n",
       "3           2016-07-012016-06-302016-06-292016-06-28  70283.529297   \n",
       "4  2016-07-012016-06-302016-06-292016-06-282016-0...  87638.740235   \n",
       "\n",
       "           High           Low         Close     Volume     Adj Close  \n",
       "0  18002.380859  17916.910156  17949.369141   82160000  17949.369141  \n",
       "1  35932.990234  35628.710937  35879.359375  215190000  35879.359375  \n",
       "2  53637.500000  53084.730468  53574.039063  321570000  53574.039063  \n",
       "3  71047.220703  70275.240234  70983.759766  433760000  70983.759766  \n",
       "4  88402.431641  87338.320312  88124.000000  572500000  88124.000000  "
      ]
     },
     "execution_count": 14,
     "metadata": {},
     "output_type": "execute_result"
    }
   ],
   "source": [
    "df.cumsum().head()"
   ]
  },
  {
   "cell_type": "markdown",
   "metadata": {
    "_uuid": "8a36d94e3e0d961dbd674c808dc14be1a0958371"
   },
   "source": [
    "### **df.min()** <a id=\"21\"></a>\n",
    "This code brings us the smallest of the data.\n",
    "\n",
    "<mark>[Return Contents](#0)\n",
    "<hr>"
   ]
  },
  {
   "cell_type": "code",
   "execution_count": null,
   "metadata": {
    "ExecuteTime": {
     "end_time": "2023-09-21T11:06:48.993052Z",
     "start_time": "2023-09-21T11:06:48.953045Z"
    },
    "_uuid": "dcef4961748e9eb2b0c1311265d5e2c69a8c8e4a"
   },
   "outputs": [],
   "source": [
    "df.min()"
   ]
  },
  {
   "cell_type": "markdown",
   "metadata": {
    "_uuid": "6387ac8877231eeb35e210275d9f0c4fe4bab90b"
   },
   "source": [
    "### **df.max()** <a id=\"22\"></a>\n",
    "This code brings up the largest among the data.\n",
    "\n",
    "<mark>[Return Contents](#0)\n",
    "<hr>"
   ]
  },
  {
   "cell_type": "code",
   "execution_count": null,
   "metadata": {
    "ExecuteTime": {
     "end_time": "2023-09-21T11:06:51.920329Z",
     "start_time": "2023-09-21T11:06:51.898325Z"
    },
    "_uuid": "bce741708b2a6387ccdf7bccf7bc44d37307ad31"
   },
   "outputs": [],
   "source": [
    "df.max()"
   ]
  },
  {
   "cell_type": "markdown",
   "metadata": {
    "_uuid": "88b7dea1b9cc468b0c4344cb6c7f3fb94f3c616e"
   },
   "source": [
    "### **idxmin()**  <a id=\"23\"></a>\n",
    "This code fetches the smallest value in the data. The use on series and dataframe is different.\n",
    "\n",
    "<mark>[Return Contents](#0)\n",
    "<hr>"
   ]
  },
  {
   "cell_type": "code",
   "execution_count": null,
   "metadata": {
    "ExecuteTime": {
     "end_time": "2023-09-21T11:07:14.031876Z",
     "start_time": "2023-09-21T11:07:13.988356Z"
    },
    "_uuid": "9096b7015c2259e4e4a67beb44d55914a59929a4"
   },
   "outputs": [],
   "source": [
    "print(\"df: \",df['Open'].idxmin())\n",
    "print(\"series\", mySeries.idxmin())"
   ]
  },
  {
   "cell_type": "markdown",
   "metadata": {
    "_uuid": "2ad1b3dac499ca9c5e26f1e0f303ef6ea2670e13"
   },
   "source": [
    "### **idxmax()**  <a id=\"24\"></a>\n",
    "This code returns the largest value in the data.\n",
    "\n",
    "<mark>[Return Contents](#0)\n",
    "<hr>"
   ]
  },
  {
   "cell_type": "code",
   "execution_count": null,
   "metadata": {
    "ExecuteTime": {
     "end_time": "2023-09-21T11:07:15.408090Z",
     "start_time": "2023-09-21T11:07:15.371561Z"
    },
    "_uuid": "607b8bea1225ccdaa76a2f70076d5fa438e859ab"
   },
   "outputs": [],
   "source": [
    "print(\"df: \",df['Open'].idxmax())\n",
    "print(\"series: \",mySeries.idxmax())"
   ]
  },
  {
   "cell_type": "markdown",
   "metadata": {
    "_uuid": "97f89c5cc2ca00c8a9848ac77066fee54f935ec3"
   },
   "source": [
    "### **df.describe()**  <a id=\"25\"></a>\n",
    "This Code provides basic statistical information about the data. The numerical column is based.\n",
    "\n",
    "* **count:** vnumber of entries\n",
    "* **mean: **average of entries\n",
    "* **std:** standart deviation\n",
    "* **min:** minimum entry\n",
    "* **25%:** first quantile\n",
    "* **50%:** median or second quantile\n",
    "* **75%:** third quantile\n",
    "* **max:** maximum entry\n",
    "\n",
    "<mark>[Return Contents](#0)\n",
    "<hr>"
   ]
  },
  {
   "cell_type": "code",
   "execution_count": null,
   "metadata": {
    "ExecuteTime": {
     "end_time": "2023-09-21T11:07:16.790215Z",
     "start_time": "2023-09-21T11:07:16.620683Z"
    },
    "_uuid": "f75c57e9f16adc167f8148b2225111056ebbf432"
   },
   "outputs": [],
   "source": [
    "df.describe()"
   ]
  },
  {
   "cell_type": "markdown",
   "metadata": {
    "_uuid": "ee81ed576d22d6e350d59e961697231de83dbd6c"
   },
   "source": [
    "### **df.mean()**  <a id=\"26\"></a>\n",
    "This code returns the mean value for the numeric column.\n",
    "\n",
    "<mark>[Return Contents](#0)\n",
    "<hr>"
   ]
  },
  {
   "cell_type": "code",
   "execution_count": null,
   "metadata": {
    "_uuid": "a48fe07b2e9edf425eea43ee8efc7208451053b8"
   },
   "outputs": [],
   "source": [
    "df.mean()"
   ]
  },
  {
   "cell_type": "markdown",
   "metadata": {
    "_uuid": "9505e713279ca2d4f9ee8e9e8f493fc6fc1dffaf"
   },
   "source": [
    "### **df.median()**  <a id=\"27\"></a>\n",
    "This code returns median for columns with numeric values.\n",
    "\n",
    "<mark>[Return Contents](#0)\n",
    "<hr>"
   ]
  },
  {
   "cell_type": "code",
   "execution_count": null,
   "metadata": {
    "_uuid": "e8f946be9ec391af5cf4cdc720bd86f08b1e11f8"
   },
   "outputs": [],
   "source": [
    "df.median()"
   ]
  },
  {
   "cell_type": "markdown",
   "metadata": {
    "_uuid": "e6ef1d3c59446abef4af4e9a8f9e4c7091268d07"
   },
   "source": [
    "### **df.quantile([0.25,0.75])**  <a id=\"28\"></a>\n",
    "This code calculates the values 0.25 and 0.75 of the columns for each column.\n",
    "\n",
    "<mark>[Return Contents](#0)\n",
    "<hr>"
   ]
  },
  {
   "cell_type": "code",
   "execution_count": null,
   "metadata": {
    "_uuid": "8145c67dde8b9aba6803436d28cc7225445343a3"
   },
   "outputs": [],
   "source": [
    "df.quantile([0.25,0.75])"
   ]
  },
  {
   "cell_type": "markdown",
   "metadata": {
    "_uuid": "aac3a79b56277361df222d188abf5916e158287c"
   },
   "source": [
    "### **df.var()**  <a id=\"29\"></a>\n",
    "This code calculates the variance value for each column with a numeric value.\n",
    "\n",
    "<mark>[Return Contents](#0)\n",
    "<hr>"
   ]
  },
  {
   "cell_type": "code",
   "execution_count": null,
   "metadata": {
    "_uuid": "4d6dc0723b2a02b1a30eba32aee013e618a8c777"
   },
   "outputs": [],
   "source": [
    "df.var()"
   ]
  },
  {
   "cell_type": "markdown",
   "metadata": {
    "_uuid": "9dadcadc50fa2f35d0be27c491706ae64ddb5879"
   },
   "source": [
    "### **df.std()** <a id=\"30\"></a>\n",
    "This code calculates the standard deviation value for each column with numeric value.\n",
    "\n",
    "<mark>[Return Contents](#0)\n",
    "<hr>"
   ]
  },
  {
   "cell_type": "code",
   "execution_count": null,
   "metadata": {
    "_uuid": "dc29b13723a50b444d0892194aa9c131a6969217"
   },
   "outputs": [],
   "source": [
    "df.std()"
   ]
  },
  {
   "cell_type": "markdown",
   "metadata": {
    "_uuid": "9143f758fa6d821ece2efd8389b09b045bf486c2"
   },
   "source": [
    "### **df.cummax()** <a id=\"31\"></a>\n",
    "This code calculates the cumulative max value between the data.\n",
    "\n",
    "<mark>[Return Contents](#0)\n",
    "<hr>"
   ]
  },
  {
   "cell_type": "code",
   "execution_count": null,
   "metadata": {
    "_uuid": "beac65acb14480ea7c2a3b1db839bda1b700aed8"
   },
   "outputs": [],
   "source": [
    "df.cummax()"
   ]
  },
  {
   "cell_type": "markdown",
   "metadata": {
    "_uuid": "3fcc12a897018a10be30af61dd962ce55783ced6"
   },
   "source": [
    "### **df.cummin()** <a id=\"32\"></a>\n",
    "This code returns the cumulative min value of the data.\n",
    "\n",
    "<mark>[Return Contents](#0)\n",
    "<hr>"
   ]
  },
  {
   "cell_type": "code",
   "execution_count": null,
   "metadata": {
    "_uuid": "1f338476139eeea15cb87f2df4b7f6958daa1e14"
   },
   "outputs": [],
   "source": [
    "df.cummin()"
   ]
  },
  {
   "cell_type": "markdown",
   "metadata": {},
   "source": [
    "`df.cummin()` 是一个 pandas 库中的函数，用于返回一个 DataFrame 或 Series，其中每个元素都是原始 DataFrame 或 Series 中该元素及其之前所有元素的累计最小值。例如，如果 `df` 是一个 DataFrame，则 `df.cummin()` 将返回一个 DataFrame，其中每个元素都是原始 DataFrame 中该元素及其之前所有元素的累计最小值。\n",
    "\n",
    "(1) seaborn.displot — seaborn 0.12.2 documentation. https://seaborn.pydata.org/generated/seaborn.displot.html.\n",
    "(2) Seaborn.displot() 方法 - W3Schools. https://m.w3schools.cn/seaborn/seaborn_displot_method.html.\n",
    "(3) 【Seaborn】sns.displot()用法 - 知乎. https://zhuanlan.zhihu.com/p/484375009.\n",
    "(4) Visualizing distributions of data — seaborn 0.12.2 documentation. https://seaborn.pydata.org/tutorial/distributions.html."
   ]
  },
  {
   "cell_type": "markdown",
   "metadata": {},
   "source": [
    "累计最小值是指在一系列数值中，某个位置的元素及其之前的所有元素的最小值。例如，对于数列 [1, 3, -2, 4, -1]，累计最小值序列为 [1, 1, -2, -2, -2]。在这个例子中，第一个元素 1 是原始数列的最小值，第二个元素 3 是原始数列前两个元素的最小值，第三个元素 -2 是原始数列前三个元素的最小值，以此类推。\n",
    "\n",
    "\n",
    "(1) 最小值是什么意思 - 百度知道. https://zhidao.baidu.com/question/331698061.html.\n",
    "(2) Minitab图形 | 概率图—3解释结果 - 知乎 - 知乎专栏. https://zhuanlan.zhihu.com/p/98120465.\n",
    "(3) 为什么国家统计局的本月累计值不等于上月累计值加上本月当期值？ - 知乎. https://www.zhihu.com/question/41099382.\n",
    "(4) 宏观经济分析的累计同比和当月同比，在什么时候用哪一种更好，为什么 ？ - 知乎. https://www.zhihu.com/question/529162418.\n",
    "(5) seaborn.displot — seaborn 0.12.2 documentation. https://seaborn.pydata.org/generated/seaborn.displot.html.\n",
    "(6) Seaborn.displot() 方法 - W3Schools. https://m.w3schools.cn/seaborn/seaborn_displot_method.html.\n",
    "(7) 【Seaborn】sns.displot()用法 - 知乎. https://zhuanlan.zhihu.com/p/484375009.\n",
    "(8) Visualizing distributions of data — seaborn 0.12.2 documentation. https://seaborn.pydata.org/tutorial/distributions.html."
   ]
  },
  {
   "cell_type": "markdown",
   "metadata": {
    "_uuid": "0cd60da3b32d18ebbee2e5c4af63880694ec546a"
   },
   "source": [
    "### **df['columnName'].cumproad()** <a id=\"33\"></a>\n",
    "This code returns the cumulative production of the data.\n",
    "\n",
    "<mark>[Return Contents](#0)\n",
    "<hr>"
   ]
  },
  {
   "cell_type": "code",
   "execution_count": null,
   "metadata": {
    "_uuid": "b1ada72f4fa74e8caf4962f0901b301b110c4ef0"
   },
   "outputs": [],
   "source": [
    "df['Open'].cumprod().head()"
   ]
  },
  {
   "cell_type": "markdown",
   "metadata": {
    "_uuid": "dbbb7f7547fa7499cd81ef2e2ceb6e62e353f193"
   },
   "source": [
    "### **len(df)** <a id=\"34\"></a>\n",
    "This code gives you how many data there is.\n",
    "\n",
    "<mark>[Return Contents](#0)\n",
    "<hr>"
   ]
  },
  {
   "cell_type": "code",
   "execution_count": null,
   "metadata": {
    "_uuid": "e773df58aa59556aea40bbd379b47cb99bfc5629"
   },
   "outputs": [],
   "source": [
    "len(df)"
   ]
  },
  {
   "cell_type": "markdown",
   "metadata": {
    "_uuid": "14ff3ff54a24aa3ad8996f3ef68e119a7b03f8f9"
   },
   "source": [
    "### **df.isnull()** <a id=\"35\"></a>\n",
    "Checks for null values, returns boolean.\n",
    "\n",
    "<mark>[Return Contents](#0)\n",
    "<hr>"
   ]
  },
  {
   "cell_type": "code",
   "execution_count": null,
   "metadata": {
    "_uuid": "d6c4c3ed8f7bd639db1eb3487a5e61aff1651847"
   },
   "outputs": [],
   "source": [
    "df.isnull().head()"
   ]
  },
  {
   "cell_type": "markdown",
   "metadata": {
    "_uuid": "9c2242ccb54b0cccecd0f5ebdfda70f454cb35d7"
   },
   "source": [
    "### **df.corr()** <a id=\"81\"></a>\n",
    "it gives information about the correlation between the data.\n",
    "\n",
    "<mark>[Return Contents](#0)\n",
    "<hr>"
   ]
  },
  {
   "cell_type": "code",
   "execution_count": null,
   "metadata": {
    "_uuid": "7ad15ffbc630aa1ffbeebe5270844112e1c88b18"
   },
   "outputs": [],
   "source": [
    "df.corr()"
   ]
  },
  {
   "cell_type": "markdown",
   "metadata": {
    "_uuid": "37ec533a2bdbadc4271c1eabe3956ca7f112bf11"
   },
   "source": [
    "# **Selection & Filtering** <a id=\"36\"></a>\n",
    "<mark>[Return Contents](#0)\n",
    "<hr>\n",
    "\n",
    "This is how we can choose the data we want with pandas, how we can bring unique data."
   ]
  },
  {
   "cell_type": "markdown",
   "metadata": {
    "_uuid": "cd86aed11ba3388bee1c7038fa653bdd0c40b88c"
   },
   "source": [
    "### **mySeries['b']** <a id=\"37\"></a>\n",
    "This code returns data with a value of B in series.\n",
    "\n",
    "<mark>[Return Contents](#0)\n",
    "<hr>"
   ]
  },
  {
   "cell_type": "code",
   "execution_count": null,
   "metadata": {
    "_uuid": "d296ecf3432c28312feb0784abb4967686f7e0bc"
   },
   "outputs": [],
   "source": [
    "mySeries['b']"
   ]
  },
  {
   "cell_type": "markdown",
   "metadata": {
    "_uuid": "b0276f695b6ee645cf6c65fc15198973b1bf1b2f"
   },
   "source": [
    "### **df[n:n]** <a id=\"38\"></a>\n",
    "This code fetches data from N to N.\n",
    "\n",
    "<mark>[Return Contents](#0)\n",
    "<hr>"
   ]
  },
  {
   "cell_type": "code",
   "execution_count": null,
   "metadata": {
    "_uuid": "68fc73b45d10fbba5dbf09ebcf87621885bf1787"
   },
   "outputs": [],
   "source": [
    "df[1982:]\n",
    "#Or\n",
    "#df[5:7]"
   ]
  },
  {
   "cell_type": "markdown",
   "metadata": {
    "_uuid": "0d16f5649598feb417b990ac8d6e1571a193ef35"
   },
   "source": [
    "### **df.iloc[[n],[n]]** <a id=\"39\"></a>\n",
    "This code brings the data in the N row and N column in the DataFrame.\n",
    "\n",
    "<mark>[Return Contents](#0)\n",
    "<hr>"
   ]
  },
  {
   "cell_type": "code",
   "execution_count": null,
   "metadata": {
    "_uuid": "de6796a0684aac7f6c37c9c9ff3e67308ba20adb"
   },
   "outputs": [],
   "source": [
    "df.iloc[[0],[3]]"
   ]
  },
  {
   "cell_type": "markdown",
   "metadata": {
    "_uuid": "bb3b27a4c73fa3bccaf3457e8a6a8bacdb7f8b88"
   },
   "source": [
    "### **df.loc[n:n]** <a id=\"40\"></a>\n",
    "This code allows us to fetch the data in the range we specify.\n",
    "\n",
    "<mark>[Return Contents](#0)\n",
    "<hr>"
   ]
  },
  {
   "cell_type": "code",
   "execution_count": null,
   "metadata": {
    "_uuid": "e0791dc5f7012b248d6216bc3edfc5af591c50ea"
   },
   "outputs": [],
   "source": [
    "#df.loc[n:]\n",
    "# OR\n",
    "df.loc[5:7]"
   ]
  },
  {
   "cell_type": "markdown",
   "metadata": {
    "_uuid": "5d7dfc275348d58e53436938e96d3233b4d6753e"
   },
   "source": [
    "### **df['columnName']** <a id=\"41\"></a>\n",
    "With this code, we can select and bring any column we want.\n",
    "\n",
    "<mark>[Return Contents](#0)\n",
    "<hr>"
   ]
  },
  {
   "cell_type": "code",
   "execution_count": null,
   "metadata": {
    "_uuid": "da3167e40f0419054bde6e6d168bb22bce24973b"
   },
   "outputs": [],
   "source": [
    "df['Open'].head()\n",
    "# OR\n",
    "# df.Open"
   ]
  },
  {
   "cell_type": "markdown",
   "metadata": {
    "_uuid": "394d9e7a7b3bd7077a490a264ef4d308e035771f"
   },
   "source": [
    "### **df['columnName'][n]** <a id=\"42\"></a>\n",
    "With this code, we can select and return any value of the column we want.\n",
    "\n",
    "<mark>[Return Contents](#0)\n",
    "<hr>"
   ]
  },
  {
   "cell_type": "code",
   "execution_count": null,
   "metadata": {
    "_uuid": "40f514f220034b9d27c8390147c577f69a5c5dac"
   },
   "outputs": [],
   "source": [
    "df['Open'][0]\n",
    "# OR\n",
    "# df.Open[0]\n",
    "# df[\"Open\"][1]\n",
    "# df.loc[1,[\"Open\"]]"
   ]
  },
  {
   "cell_type": "markdown",
   "metadata": {
    "_uuid": "714c9cc591916b1bd88f2bc164a76aa37092ab3e"
   },
   "source": [
    "### **df['columnName'].nunique()** <a id=\"43\"></a>\n",
    "This code shows how many of the data that is in the selected column and does not repeat.\n",
    "\n",
    "<mark>[Return Contents](#0)\n",
    "<hr>"
   ]
  },
  {
   "cell_type": "code",
   "execution_count": null,
   "metadata": {
    "_uuid": "7e5559e6f63e2d975e99666574f110b87a58e74a"
   },
   "outputs": [],
   "source": [
    "df['Open'].nunique()"
   ]
  },
  {
   "cell_type": "markdown",
   "metadata": {
    "_uuid": "1326f2c62207fd3345f16bfc5728b8ddf3988257"
   },
   "source": [
    "### **df['columnName'].unique()** <a id=\"44\"></a>\n",
    "This code shows which of the data in the selected column repeats.\n",
    "\n",
    "<mark>[Return Contents](#0)\n",
    "<hr>"
   ]
  },
  {
   "cell_type": "code",
   "execution_count": null,
   "metadata": {
    "_uuid": "88ffb43d255ad0a471be3a27732e3c5158ba8fd7"
   },
   "outputs": [],
   "source": [
    "df['Open'].unique()\n",
    "# We can write the above code as follows:: df.Open.unique()"
   ]
  },
  {
   "cell_type": "markdown",
   "metadata": {
    "_uuid": "a394405d4c8055ace028e2b360af9a495e3aca79"
   },
   "source": [
    "### **df.columnName** <a id=\"45\"></a>\n",
    "This code is another way to select the column we want.\n",
    "\n",
    "<mark>[Return Contents](#0)\n",
    "<hr>"
   ]
  },
  {
   "cell_type": "code",
   "execution_count": null,
   "metadata": {
    "_uuid": "5fb80a8a47528d73d77d0369d27ad02855a675e6"
   },
   "outputs": [],
   "source": [
    "df.Open.head()"
   ]
  },
  {
   "cell_type": "markdown",
   "metadata": {
    "_uuid": "260398cf0a5fd7774021f5b85aa651d76869fe61"
   },
   "source": [
    "### **df['columnName'].value_counts(dropna =False)** <a id=\"46\"></a>\n",
    "This code counts all of the data in the column we have specified, but does not count the null/none values.\n",
    "\n",
    "<mark>[Return Contents](#0)\n",
    "<hr>"
   ]
  },
  {
   "cell_type": "code",
   "execution_count": null,
   "metadata": {
    "_uuid": "6bed66e2f74a1f00e10fad7cf874b962cb3bdfc8"
   },
   "outputs": [],
   "source": [
    "print(df.Open.value_counts(dropna =True).head())\n",
    "# OR\n",
    "# print(df['Item'].value_counts(dropna =False))"
   ]
  },
  {
   "cell_type": "markdown",
   "metadata": {
    "_uuid": "f9b78c632be9052e8713a529fd74dd59ae769b71"
   },
   "source": [
    "### **df.head(n)** <a id=\"47\"></a>\n",
    "This code optionally brings in the first 5 data. returns the number of data that you type instead of N.\n",
    "\n",
    "<mark>[Return Contents](#0)\n",
    "<hr>"
   ]
  },
  {
   "cell_type": "code",
   "execution_count": null,
   "metadata": {
    "_uuid": "e9751b0512899f2d84eb07d8bd24b45351f564a3"
   },
   "outputs": [],
   "source": [
    "df.head()\n",
    "# OR\n",
    "# df.head(15)"
   ]
  },
  {
   "cell_type": "markdown",
   "metadata": {
    "_uuid": "be2de7201deaea863247067fe5432746c0d04cba"
   },
   "source": [
    "### **df.tail(n)** <a id=\"48\"></a>\n",
    "This code optionally brings 5 data at the end. returns the number of data that you type instead of N.\n",
    "\n",
    "<mark>[Return Contents](#0)\n",
    "<hr>"
   ]
  },
  {
   "cell_type": "code",
   "execution_count": null,
   "metadata": {
    "_uuid": "318f20d9624d31dc6a3f8150523b266da9acfcc5"
   },
   "outputs": [],
   "source": [
    "df.tail()\n",
    "# OR\n",
    "# df.tail(20)"
   ]
  },
  {
   "cell_type": "markdown",
   "metadata": {
    "_uuid": "fb84fc0ec1005c386ca34948dbc31a2f78482524"
   },
   "source": [
    "### **df.sample(n)** <a id=\"49\"></a>\n",
    "This code fetches random n data from the data.\n",
    "\n",
    "<mark>[Return Contents](#0)\n",
    "<hr>"
   ]
  },
  {
   "cell_type": "code",
   "execution_count": null,
   "metadata": {
    "_uuid": "9b7035347af1daf7a0ad44800c58655ec290a5ad"
   },
   "outputs": [],
   "source": [
    "df.sample(5)"
   ]
  },
  {
   "cell_type": "markdown",
   "metadata": {
    "_uuid": "5fc0c9e236247779b6f929004ba980bf2bb3487a"
   },
   "source": [
    "### **df.sample(frac=0.5)** <a id=\"50\"></a>\n",
    "This code selects the fractions of random rows and fetches the data to that extent.\n",
    "\n",
    "<mark>[Return Contents](#0)\n",
    "<hr>"
   ]
  },
  {
   "cell_type": "code",
   "execution_count": null,
   "metadata": {
    "_uuid": "501b38a9b6abe3f5fed9da98a0d4d0fb095fe2c5"
   },
   "outputs": [],
   "source": [
    "df.sample(frac=0.5).head()"
   ]
  },
  {
   "cell_type": "markdown",
   "metadata": {
    "_uuid": "f900885737988b1cb56df881fda6920eaa07381c"
   },
   "source": [
    "### **df.nlargest(n,'columnName')** <a id=\"51\"></a>\n",
    "This code brings N from the column where we have specified the largest data.\n",
    "\n",
    "<mark>[Return Contents](#0)\n",
    "<hr>"
   ]
  },
  {
   "cell_type": "code",
   "execution_count": null,
   "metadata": {
    "_uuid": "2d61d5cb304bf17ef3ec00395152afece27eea42"
   },
   "outputs": [],
   "source": [
    "df.nlargest(5,'Open')"
   ]
  },
  {
   "cell_type": "markdown",
   "metadata": {
    "_uuid": "e925e067c524cabf599b4b4cc36c55332590a4b0"
   },
   "source": [
    "### **df.nsmallest(n,'columnName')** <a id=\"52\"></a>\n",
    "This code brings N from the column where we have specified the smallest data.\n",
    "\n",
    "<mark>[Return Contents](#0)\n",
    "<hr>"
   ]
  },
  {
   "cell_type": "code",
   "execution_count": null,
   "metadata": {
    "_uuid": "1cb8e5e34abb9f9cbdc2963d9b8fdb0c0109c17d"
   },
   "outputs": [],
   "source": [
    "df.nsmallest(3,'Open')"
   ]
  },
  {
   "cell_type": "markdown",
   "metadata": {
    "_uuid": "a51ee840ca8cd0400f2c4d95221158b25133d12f"
   },
   "source": [
    "### **df[df.columnName < 5]** <a id=\"53\"></a>\n",
    "This code returns the column name we have specified, which is less than 5.\n",
    "\n",
    "<mark>[Return Contents](#0)\n",
    "<hr>"
   ]
  },
  {
   "cell_type": "code",
   "execution_count": null,
   "metadata": {
    "_uuid": "52be41ac78b67ca5c95a18199fa7f09f2d2efc4c"
   },
   "outputs": [],
   "source": [
    "df[df.Open > 18281.949219]"
   ]
  },
  {
   "cell_type": "markdown",
   "metadata": {
    "_uuid": "b0ff118b7df06756d55ce9196aa558325e214b23"
   },
   "source": [
    "### **df[['columnName','columnName']]** <a id=\"54\"></a>\n",
    "This code helps us pick and bring any columns we want.\n",
    "\n",
    "<mark>[Return Contents](#0)\n",
    "<hr>"
   ]
  },
  {
   "cell_type": "code",
   "execution_count": null,
   "metadata": {
    "_uuid": "979f91158aaba4a2c287c70096c4f63f289da3e5"
   },
   "outputs": [],
   "source": [
    "df[['High','Low']].head()\n",
    "# df.loc[:,[\"High\",\"Low\"]]"
   ]
  },
  {
   "cell_type": "markdown",
   "metadata": {
    "_uuid": "33045814a6e5e2735bedffbfe5c69184e7e2a68a"
   },
   "source": [
    "### **df.loc[:,\"columnName1\":\"columnName2\"]** <a id=\"55\"></a>\n",
    "This code returns columns from columnname1 to columnname2.\n",
    "\n",
    "<mark>[Return Contents](#0)\n",
    "<hr>"
   ]
  },
  {
   "cell_type": "code",
   "execution_count": null,
   "metadata": {
    "_uuid": "3fef8f90c9972582f593a0af3dae462146bc871d"
   },
   "outputs": [],
   "source": [
    "df.loc[:,\"Date\":\"Close\"].head()\n",
    "# OR\n",
    "# data.loc[:3,\"Date\":\"Close\"]"
   ]
  },
  {
   "cell_type": "markdown",
   "metadata": {
    "_uuid": "09d20f2795a29736a8a444f1f7bd1bdf3bb607d0"
   },
   "source": [
    "### **Create Filter** <a id=\"56\"></a>\n",
    "<mark>[Return Contents](#0)\n",
    "<hr>"
   ]
  },
  {
   "cell_type": "code",
   "execution_count": null,
   "metadata": {
    "_uuid": "920f513014e6ef5a46f13a71c24a0114e3fb9c44"
   },
   "outputs": [],
   "source": [
    "filters = df.Date > '2016-06-27'\n",
    "df[filters]"
   ]
  },
  {
   "cell_type": "markdown",
   "metadata": {
    "_uuid": "efa55b8fad561c2fa5b23cf16ada80388ffb1d89"
   },
   "source": [
    "### **df.filter(regex = 'code')** <a id=\"57\"></a>\n",
    "This code allows regex to filter any data we want.\n",
    "\n",
    "<mark>[Return Contents](#0)\n",
    "<hr>"
   ]
  },
  {
   "cell_type": "code",
   "execution_count": null,
   "metadata": {
    "_uuid": "391f736af8220b16ffe4dd371e7d1701b22af190"
   },
   "outputs": [],
   "source": [
    "df.filter(regex='^L').head()"
   ]
  },
  {
   "cell_type": "markdown",
   "metadata": {
    "_uuid": "98565ee61d70ee8c2684209457d341afd009cd52"
   },
   "source": [
    "### **np.logical_and** <a id=\"58\"></a>\n",
    "Filtering with logical_and. Lets look at the example.\n",
    "\n",
    "<mark>[Return Contents](#0)\n",
    "<hr>"
   ]
  },
  {
   "cell_type": "code",
   "execution_count": null,
   "metadata": {
    "_uuid": "502a7a68ee0e0901db77c9ef66b2b41946936396"
   },
   "outputs": [],
   "source": [
    "df[np.logical_and(df['Open']>18281.949219, df['Date']>'2015-05-20' )]"
   ]
  },
  {
   "cell_type": "markdown",
   "metadata": {
    "_uuid": "be8cc807047dd7037f0013d573c58573649c3097"
   },
   "source": [
    "### **Filtering with &** <a id=\"59\"></a>\n",
    "<mark>[Return Contents](#0)\n",
    "<hr>"
   ]
  },
  {
   "cell_type": "code",
   "execution_count": null,
   "metadata": {
    "_uuid": "48930d97ce2d7aebf9fc44d41ef9a21b21ece804"
   },
   "outputs": [],
   "source": [
    "df[(df['Open']>18281.949219) & (df['Date']>'2015-05-20')]"
   ]
  },
  {
   "cell_type": "markdown",
   "metadata": {
    "_uuid": "9bb0b4f8e2b1b4e5c4d1d54404078201fe64b774"
   },
   "source": [
    "# **Sort Data** <a id=\"60\"></a>\n",
    "\n",
    "<mark>[Return Contents](#0)\n",
    "<hr>\n",
    "\n",
    "### **df.sort_values('columnName')** <a id=\"61\"></a>\n",
    "This code sorts the column we specify in the form of low to high."
   ]
  },
  {
   "cell_type": "code",
   "execution_count": null,
   "metadata": {
    "_uuid": "f15141d1d55decedc9682157f4f02be6ece75be2"
   },
   "outputs": [],
   "source": [
    "df.sort_values('Open').head()"
   ]
  },
  {
   "cell_type": "markdown",
   "metadata": {
    "_uuid": "8816e0ceab950045905c67d7782733690001908c"
   },
   "source": [
    "### **df.sort_values('columnName', ascending=False)** <a id=\"62\"></a>\n",
    "This code is the column we specify in the form of high to low.\n",
    "\n",
    "<mark>[Return Contents](#0)\n",
    "<hr>"
   ]
  },
  {
   "cell_type": "code",
   "execution_count": null,
   "metadata": {
    "_uuid": "13f2b3ac2b4c80f75acdcbdfa08fbcd5c61fd710"
   },
   "outputs": [],
   "source": [
    "df.sort_values('Date', ascending=False).head()"
   ]
  },
  {
   "cell_type": "markdown",
   "metadata": {
    "_uuid": "8cba417bec9ee6ac67ed1e37c2132842e4cfefb9"
   },
   "source": [
    "### **df.sort_index()** <a id=\"63\"></a>\n",
    "This code sorts from small to large according to the DataFrame index.\n",
    "\n",
    "<mark>[Return Contents](#0)\n",
    "<hr>"
   ]
  },
  {
   "cell_type": "code",
   "execution_count": null,
   "metadata": {
    "_uuid": "0317290f54888b03bf983a84382c6f78494a2a25"
   },
   "outputs": [],
   "source": [
    "df.sort_index().head()"
   ]
  },
  {
   "cell_type": "markdown",
   "metadata": {
    "_uuid": "1e10d8a4929a0bd2587d0826dc863d35784bcd68"
   },
   "source": [
    "# **Rename & Defining New & Change Columns** <a id=\"64\"></a>\n",
    "<mark>[Return Contents](#0)\n",
    "<hr>"
   ]
  },
  {
   "cell_type": "markdown",
   "metadata": {
    "_uuid": "e6d2f6146eee2aec07942640be832e6f465f8b13"
   },
   "source": [
    "### **df.rename(columns= {'columnName' : 'newColumnName'})** <a id=\"65\"></a>\n",
    "This code helps us change the column name. The code I wrote below changes the ID value, but as we did not assign the change to the variable DF, it seems to be unchanged as you see below."
   ]
  },
  {
   "cell_type": "code",
   "execution_count": null,
   "metadata": {
    "_uuid": "f9629a7d893e2d06b28cd894755960b330abc5f1"
   },
   "outputs": [],
   "source": [
    "df.rename(columns= {'Adj Close' : 'Adjclose'}).head()\n",
    "# df = df.rename(columns= {'Id' : 'Identif'}, inplace=True) -> True way\n",
    "# inplace= True or False; This meaning, overwrite the data set.\n",
    "# Other Way\n",
    "# df.columns = ['date', 'open', 'high', 'low', 'close', 'volume', 'adjclose']"
   ]
  },
  {
   "cell_type": "markdown",
   "metadata": {
    "_uuid": "589a1f14eb9a14430b16fe7bdbb7f8f75739a672"
   },
   "source": [
    "###  **Defining New Column** <a id=\"66\"></a>\n",
    "Create a new column\n",
    "\n",
    "<mark>[Return Contents](#0)\n",
    "<hr>"
   ]
  },
  {
   "cell_type": "code",
   "execution_count": null,
   "metadata": {
    "_uuid": "6056aa5ff4fbfa729cf28f13fe12693bc2baad24"
   },
   "outputs": [],
   "source": [
    "df[\"Difference\"] = df.High - df.Low\n",
    "df.head()"
   ]
  },
  {
   "cell_type": "markdown",
   "metadata": {
    "_uuid": "1964b6b7fc90407b51aa73cb742abf02880f65cc"
   },
   "source": [
    "### **Change Index Name** <a id=\"67\"></a>\n",
    "Change index name to new index name\n",
    "\n",
    "<mark>[Return Contents](#0)\n",
    "<hr>"
   ]
  },
  {
   "cell_type": "code",
   "execution_count": null,
   "metadata": {
    "_uuid": "ada0dc263126bde102f32891d5a574136ea0796d"
   },
   "outputs": [],
   "source": [
    "print(df.index.name)\n",
    "df.index.name = \"index_name\"\n",
    "df.head()"
   ]
  },
  {
   "cell_type": "markdown",
   "metadata": {
    "_uuid": "15710f63a62ff12196912e9b41919b6157b90dff"
   },
   "source": [
    "### **Make all columns lowercase** <a id=\"68\"></a>\n",
    "<mark>[Return Contents](#0)\n",
    "<hr>"
   ]
  },
  {
   "cell_type": "code",
   "execution_count": null,
   "metadata": {
    "_uuid": "ae9b53e39babf6b99fae1ebc3746ccd41be813b3"
   },
   "outputs": [],
   "source": [
    "#df.columns = map(str.lower(), df.columns)"
   ]
  },
  {
   "cell_type": "markdown",
   "metadata": {
    "_uuid": "5e56335f86a4e3e463151a9e4470bdf71183b863"
   },
   "source": [
    "### **Make all columns uppercase** <a id=\"69\"></a>\n",
    "<mark>[Return Contents](#0)\n",
    "<hr>"
   ]
  },
  {
   "cell_type": "code",
   "execution_count": null,
   "metadata": {
    "_uuid": "7c1800e1b60aadffc1105b77dae3ae98f62b67fa"
   },
   "outputs": [],
   "source": [
    "#df.columns = map(str.upper(), df.columns)"
   ]
  },
  {
   "cell_type": "markdown",
   "metadata": {
    "_uuid": "6b289272d9dff6967d82110f9e71b8cf0754cf1f"
   },
   "source": [
    "# **Drop Data** <a id=\"70\"></a>\n",
    "\n",
    "<mark>[Return Contents](#0)\n",
    "<hr>"
   ]
  },
  {
   "cell_type": "markdown",
   "metadata": {
    "_uuid": "e9ac8aff9d77672a72d8460ccc00612d13fff631"
   },
   "source": [
    "### **df.drop(columns=['columnName'])** <a id=\"71\"></a>\n",
    "This code deletes the column we have specified. But as above, I have to reset the delete to the df variable again."
   ]
  },
  {
   "cell_type": "code",
   "execution_count": null,
   "metadata": {
    "_uuid": "41d2d8fff5ad5d5e1175ec4bc985169bf3872f23"
   },
   "outputs": [],
   "source": [
    "df.drop(columns=['Adj Close']).head()\n",
    "# df = df.drop(columns=['Id']) -> True way\n",
    "# OR\n",
    "# df = df.drop('col', axis=1)\n",
    "# axis = 1 is meaning delete columns\n",
    "# axis = 0 is meaning delete rows"
   ]
  },
  {
   "cell_type": "markdown",
   "metadata": {
    "_uuid": "f80fb6f28d3b1ca5c0e30ebbb40e3c56ba19581c"
   },
   "source": [
    "### **mySeries.drop(['a'])** <a id=\"72\"></a>\n",
    "This code allows us to delete the value specified in the series.\n",
    "\n",
    "<mark>[Return Contents](#0)\n",
    "<hr>"
   ]
  },
  {
   "cell_type": "code",
   "execution_count": null,
   "metadata": {
    "_uuid": "77930a8a0369518c8c5bfcf4c8594adb14ca028c"
   },
   "outputs": [],
   "source": [
    "mySeries.drop(['a'])"
   ]
  },
  {
   "cell_type": "markdown",
   "metadata": {
    "_uuid": "6a472c27b3703d89606949b355c5008ff8981908"
   },
   "source": [
    "### **Drop an observation (row)** <a id=\"82\"></a>\n",
    "\n",
    "<mark>[Return Contents](#0)\n",
    "<hr>"
   ]
  },
  {
   "cell_type": "code",
   "execution_count": null,
   "metadata": {
    "_uuid": "3fb937803e52af8a17314cfd0ccb24e0d87f7423"
   },
   "outputs": [],
   "source": [
    "# df.drop(['2016-07-01', '2016-06-27'])"
   ]
  },
  {
   "cell_type": "markdown",
   "metadata": {
    "_uuid": "24773e44d98f5c9bcb97c7aa8b7109919f8c8d91"
   },
   "source": [
    "### **Drop a variable (column)** <a id=\"83\"></a>\n",
    "\n",
    "<mark>[Return Contents](#0)\n",
    "<hr>\n",
    "Note: axis=1 denotes that we are referring to a column, not a row"
   ]
  },
  {
   "cell_type": "code",
   "execution_count": null,
   "metadata": {
    "_uuid": "3b341838cde86e0bf29cf10acd86c89fd5e3dae9"
   },
   "outputs": [],
   "source": [
    "# df.drop('Volume', axis=1)"
   ]
  },
  {
   "cell_type": "markdown",
   "metadata": {
    "_uuid": "257734e1e5181e1a7983b246b96fd9d48e82c383"
   },
   "source": [
    "# **Convert Data Types** <a id=\"73\"></a>\n",
    "\n",
    "<mark>[Return Contents](#0)\n",
    "<hr>\n",
    "\n",
    "### **df.dtypes** <a id=\"74\"></a>\n",
    "This code shows what data type of columns are. Boolean, int, float, object(String), date and categorical."
   ]
  },
  {
   "cell_type": "code",
   "execution_count": null,
   "metadata": {
    "_uuid": "d02e7c7f166080e52b16976bbf2e823bc341f6c9"
   },
   "outputs": [],
   "source": [
    "df.dtypes"
   ]
  },
  {
   "cell_type": "markdown",
   "metadata": {
    "_uuid": "ca2aa5c9ab554e05194f2d615b951e7bd0dd53a5"
   },
   "source": [
    "### **df['columnName'] = df['columnName'].astype('dataType')** <a id=\"75\"></a>\n",
    "This code convert the column we specify into the data type we specify.\n",
    "\n",
    "<mark>[Return Contents](#0)\n",
    "<hr>"
   ]
  },
  {
   "cell_type": "code",
   "execution_count": null,
   "metadata": {
    "_uuid": "ab77df3bc11b833c288e65de5b14942623323141"
   },
   "outputs": [],
   "source": [
    "df.Date.astype('category').dtypes\n",
    "# OR Convert Datetime\n",
    "# df.Date= pd.to_datetime(df.Date)"
   ]
  },
  {
   "cell_type": "markdown",
   "metadata": {
    "_uuid": "5f6a908930f020091d29630525dea48a6b5047ee"
   },
   "source": [
    "### **pd.melt(frame=dataFrameName,id_vars = 'columnName', value_vars= ['columnName'])** <a id=\"76\"></a>\n",
    "This code is confusing, so lets look at the example.\n",
    "\n",
    "<mark>[Return Contents](#0)\n",
    "<hr>"
   ]
  },
  {
   "cell_type": "code",
   "execution_count": null,
   "metadata": {
    "_uuid": "2a461f5a7096f6c3047c37f77a21a302a4724be3"
   },
   "outputs": [],
   "source": [
    "df_new = df.head()\n",
    "melted = pd.melt(frame=df_new,id_vars = 'Date', value_vars= ['Low'])\n",
    "melted"
   ]
  },
  {
   "cell_type": "markdown",
   "metadata": {
    "_uuid": "019d675c8328676e2a53c936359a83530f2fccf8"
   },
   "source": [
    "# **Apply Function** <a id=\"77\"></a>\n",
    "\n",
    "<mark>[Return Contents](#0)\n",
    "<hr>\n",
    "\n",
    "### **Method 1** <a id=\"78\"></a>"
   ]
  },
  {
   "cell_type": "code",
   "execution_count": null,
   "metadata": {
    "_uuid": "f3d0a47f7f60f42ab74031960962dca9f5c51a90"
   },
   "outputs": [],
   "source": [
    "def examples(x):   #create a function\n",
    "    return x*2\n",
    "\n",
    "df.Open.apply(examples).head()  #use the function with apply() "
   ]
  },
  {
   "cell_type": "markdown",
   "metadata": {
    "_uuid": "45734ddf89edf8ad9075a2222c78448b0e455214"
   },
   "source": [
    "### **Method 2** <a id=\"79\"></a>"
   ]
  },
  {
   "cell_type": "code",
   "execution_count": null,
   "metadata": {
    "_uuid": "6447848a7f2fd2c7a0100317e1c4869260f4c11e"
   },
   "outputs": [],
   "source": [
    "df.Open.apply(lambda x: x*2).head()"
   ]
  },
  {
   "cell_type": "markdown",
   "metadata": {
    "_uuid": "e80845b38f09a29a6b486e8c692c32b4e32b8267",
    "tags": []
   },
   "source": [
    "# **Utilities Code** <a id=\"80\"></a>\n",
    "\n",
    "<mark>[Return Contents](#0)\n",
    "<hr>"
   ]
  },
  {
   "cell_type": "code",
   "execution_count": null,
   "metadata": {
    "_uuid": "5319d80d0d27b4aa0065de122ec43d1715fc9264"
   },
   "outputs": [],
   "source": [
    "# pd.get_option OR pd.set_option\n",
    "# pd.reset_option(\"^display\")\n",
    "\n",
    "# pd.reset_option(\"display.max_rows\")\n",
    "# pd.get_option(\"display.max_rows\")\n",
    "# pd.set_option(\"max_r\",102)                 -> specifies the maximum number of rows to display.\n",
    "# pd.options.display.max_rows = 999          -> specifies the maximum number of rows to display.\n",
    "\n",
    "# pd.get_option(\"display.max_columns\")\n",
    "# pd.options.display.max_columns = 999       -> specifies the maximum number of columns to display.\n",
    "\n",
    "# pd.set_option('display.width', 300)\n",
    "\n",
    "# pd.set_option('display.max_columns', 300)  -> specifies the maximum number of rows to display.\n",
    "# pd.set_option('display.max_colwidth', 500) -> specifies the maximum number of columns to display. \n",
    "\n",
    "# pd.get_option('max_colwidth')\n",
    "# pd.set_option('max_colwidth',40)\n",
    "# pd.reset_option('max_colwidth')\n",
    "\n",
    "# pd.get_option('max_info_columns')\n",
    "# pd.set_option('max_info_columns', 11)\n",
    "# pd.reset_option('max_info_columns')\n",
    "\n",
    "# pd.get_option('max_info_rows')\n",
    "# pd.set_option('max_info_rows', 11)\n",
    "# pd.reset_option('max_info_rows')\n",
    "\n",
    "# pd.set_option('precision',7) -> sets the output display precision in terms of decimal places. This is only a suggestion.\n",
    "# OR\n",
    "# pd.set_option('display.precision',3)\n",
    "\n",
    "# pd.set_option('chop_threshold', 0) -> sets at what level pandas rounds to zero when it displays a Series of DataFrame. This setting does not change the precision at which the number is stored.\n",
    "# pd.reset_option('chop_threshold') "
   ]
  }
 ],
 "metadata": {
  "kernelspec": {
   "display_name": "Python 3 (ipykernel)",
   "language": "python",
   "name": "python3"
  },
  "language_info": {
   "codemirror_mode": {
    "name": "ipython",
    "version": 3
   },
   "file_extension": ".py",
   "mimetype": "text/x-python",
   "name": "python",
   "nbconvert_exporter": "python",
   "pygments_lexer": "ipython3",
   "version": "3.10.7"
  }
 },
 "nbformat": 4,
 "nbformat_minor": 4
}
