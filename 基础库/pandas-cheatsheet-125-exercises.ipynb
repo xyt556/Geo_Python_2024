{
 "cells": [
  {
   "cell_type": "code",
   "execution_count": 2,
   "metadata": {
    "ExecuteTime": {
     "end_time": "2023-09-20T10:17:41.026532Z",
     "start_time": "2023-09-20T10:17:40.915262Z"
    },
    "jupyter": {
     "source_hidden": true
    },
    "tags": []
   },
   "outputs": [],
   "source": [
    "import pandas\n",
    "import pandas as pd\n",
    "import numpy\n",
    "import numpy as np\n",
    "import random as rn\n",
    "import functools\n",
    "import re\n",
    "\n",
    "import warnings\n",
    "warnings.filterwarnings('ignore')"
   ]
  },
  {
   "cell_type": "markdown",
   "metadata": {
    "_cell_guid": "79c7e3d0-c299-4dcb-8224-4455121ee9b0",
    "_uuid": "d629ff2d2480ee46fbb7e2d37f6b5fab8052498a"
   },
   "source": [
    "\n",
    "<a id=\"top\"></a>\n",
    "\n",
    "<div class=\"list-group\" id=\"list-tab\" role=\"tablist\">\n",
    "\n",
    "<font color=\"teal\" size=+1><b>Content List</b></font>\n",
    "    \n",
    "* [1. Check Pandas Version](#1)\n",
    "* [2. Create Numpy Array: Create three columns with Zero values](#2)\n",
    "* [3. iLoc in Pandas : Print first five rows](#3)\n",
    "* [4. Create Random integer between 2 to 10 with 4 items](#4)\n",
    "* [5. Create Random integer between 0 to 100](#5)\n",
    "* [6. Create Random integer between 2 to 10 with 4 columns](#6)\n",
    "* [7. 2D array with random between 0 and 5](#7)\n",
    "* [8. Create Random integer between 0 to 100 with 10 itmes (2 rows, 5 columns)](#8)\n",
    "* [9. 3 rows, 2 columns in pandas](#9)\n",
    "* [10. Fill Random Science and Math Marks](#10)\n",
    "* [11. CSV to DatRaframe (from_csv)](#11)\n",
    "* [12. CSV to Dataframe (from_csv)](#12)\n",
    "* [13. First 4 rows and 2 columns of CSV](#13)\n",
    "* [14. Show even rows and first three columns](#14)\n",
    "* [15. New columns as sum of all](#15)\n",
    "* [16. Delete Rows of one column where the value is less than 50](#16)\n",
    "* [17. Delete with Query](#17)\n",
    "* [18. Skip single row](#18)\n",
    "* [19. Skip multiple rows](#19)\n",
    "* [20. Select Column by Index](#20)\n",
    "* [21. Skip rows](#21)\n",
    "* [22. String to Dataframe](#22)\n",
    "* [23. New columns as max of other columns](#23)\n",
    "* [24. New columns as max of other columns](#24)\n",
    "* [25. New columns as max of other columns](#25)\n",
    "* [26. Fill with average](#26)\n",
    "* [27. New columns as sum of all](#27)\n",
    "* [28. Unicode issue and fix](#28)\n",
    "* [29. Fill with average](#29)\n",
    "* [30. Last 4 rows](#30)\n",
    "* [31. Expanding Apply](#31)\n",
    "* [32. Get 3 and 4th row](#32)\n",
    "* [33. Last 4th to 1st](#33)\n",
    "* [34. iloc position slice](#34)\n",
    "* [35. Loc - iloc - ix - at - iat](#35)\n",
    "* [36. Random data](#36)\n",
    "* [37. Filter with the value comparison](#37)\n",
    "* [38. Filter between 5 and 10 on col 1](#38)\n",
    "* [39. Filter between 15 to 20](#39)\n",
    "* [40. Filter between 15 to 33](#40)\n",
    "* [41. Custom method and xrnage on dataframe](#41)\n",
    "* [42. Set index with date column](#42)\n",
    "* [43. Change columns based on other columns](#43)\n",
    "* [44. Change multiple columns based on one column values](#44)\n",
    "* [45. Pandas Mask](#45)\n",
    "* [46. Check high or low comparing the column against 5](#46)\n",
    "* [47. Student Marks (Pass or Fail)](#47)\n",
    "* [48. Get passed grades](#48)\n",
    "* [49. Students passed in Language and Math](#49)\n",
    "* [50. Students passed in Language and Science](#50)\n",
    "* [51. Loc with Label oriented slicing](#51)\n",
    "* [52. iloc with positional slicing](#52)\n",
    "* [53. Label between numbers](#53)\n",
    "* [54. Stars with names](#54)\n",
    "* [55. Row label selection Age is above 25 and movies above 25](#55)\n",
    "* [56. Stars in in certain ages](#56)\n",
    "* [57. Inverse opeartor !( above one.45 and below two.50 )](#57)\n",
    "* [58. Apply custom function](#58)\n",
    "* [59. Group by single column](#59)\n",
    "* [60. Creating new Columns using Applymap Sides & applymap](#60)\n",
    "* [61. Replacing some values with mean of the rest of a group](#61)\n",
    "* [62. Students passed in Language or Science (any one subject)](#62)\n",
    "* [63. possible errors: TypeError: 'Series' objects are mutable, thus they cannot be hashed](#63)\n",
    "* [64. argsort Select rows with data closest to certain value using argsort](#64)\n",
    "* [65. argsort with stars](#65)\n",
    "* [66. Argsort with actors - young stars (near by 17)](#66)\n",
    "* [67. Binary operators - Stars with - younger than 19 - very young](#67)\n",
    "* [68. Young, Higher Salary, and Higher Position](#68)\n",
    "* [69. Rename columns](#69)\n",
    "* [70. Add a new column](#70)\n",
    "* [71. Drop a column](#71)\n",
    "* [72. Drop multiple columns](#72)\n",
    "* [73. Drop first and last column](#73)\n",
    "* [74. Delete by pop function](#74)\n",
    "* [75. DataFrame.from_items](#75)\n",
    "* [76. Pandas to list](#76)\n",
    "* [77. Pandas rows to list](#77)\n",
    "* [78. Pandas rows to array](#78)\n",
    "* [79. Pandas rows to map](#79)\n",
    "* [80. Pandas rows to map](#80)\n",
    "* [81. Drop duplicates](#81)\n",
    "* [82. Selecting multiple columns](#82)\n",
    "* [83. Selecting multiple columns](#83)\n",
    "* [84. Row and Column Slicing](#84)\n",
    "* [85. Iterating rows](#85)\n",
    "* [86. Iterating tuples](#86)\n",
    "* [87. Iterating rows and columns](#87)\n",
    "* [88. List of Dictionary to Dataframe](#88)\n",
    "* [89. Is Null](#89)\n",
    "* [90. Sum of all nan](#90)\n",
    "* [91. Sum of all nan rowwise](#91)\n",
    "* [92. Sum of all nan as list](#92)\n",
    "* [93. Change the order of columns](#93)\n",
    "* [94. Drop multiple rows](#94)\n",
    "* [95. Drop multiple rows by row name](#95)\n",
    "* [96. Get group](#96)\n",
    "* [97. Get the the odd row](#97)\n",
    "* [98. Get the even columns](#98)\n",
    "* [99. Odd rows and even columns](#99)\n",
    "* [100. Drop duplicates](#100)\n",
    "* [101. Drop all duplicates](#101)\n",
    "* [102. Basic group by](#102)\n",
    "* [103. Missing Data: Make A'th 3rd coulmn Nan](#103)\n",
    "* [104. Reindex](#104)   \n",
    "* [105. Column reset Nan](#105)  \n",
    "* [105. XY](#105)  \n",
    "* [106. XY](#106)  \n",
    "* [107. Match with isin function](#107)  \n",
    "* [108. Finding specific items by using `isin` function](#108)  \n",
    "* [109. Exclude specific matching](#109)  \n",
    "* [110. Apply a custom function on multiple columns](#110)  \n",
    "* [111. iterrows as tuples](#111)  \n",
    "* [112. Dataframe with NaN](#112)  \n",
    "* [113. Simple Dataframe with NaN](#113)  \n",
    "* [114. Pandas and Date with Range](#114)  \n",
    "* [115. Pandas and Numpy Repeat](#115)  \n",
    "* [116. read_sql in Pandas](#116)  \n",
    "* [117. Get a single value by iat](#117)  \n",
    "* [118. Get last n elements](#118)  \n",
    "* [119. Add data one by one by using loc function](#119)  \n",
    "* [120. Convert country in Dataframe](#120)  \n",
    "* [121. Group by multiple columns](#121)  \n",
    "* [122. Compare two dataframes](#122)  \n",
    "* [123. Difference between datetime by only seconds or dates](#123)  \n",
    "* [124. Get dates and delta days in Dataframe](#124)  \n",
    "* [125. Get dates and delta days in Dataframe](#125)  \n",
    "* [126. Date addition with time delta](#126)  \n",
    "* [127. Converting Pandas innner list to numpy array without the word `list`](#127)  \n",
    "* [128. Append series to existing Dataframe](#128)  \n",
    "* [129. Cumulative sum with group by with multiple values](#129)  \n",
    "* [130. Clean URL in Pandas String (remove string after specific item)](#130)  \n",
    "* [131. Find any matching value](#131)      "
   ]
  },
  {
   "cell_type": "code",
   "execution_count": 3,
   "metadata": {
    "ExecuteTime": {
     "end_time": "2023-09-20T10:17:45.232345Z",
     "start_time": "2023-09-20T10:17:45.131834Z"
    },
    "tags": []
   },
   "outputs": [],
   "source": [
    "# for i in range(105, 132):\n",
    "#     print(f'* [{i}. XY](#{i})  ')"
   ]
  },
  {
   "cell_type": "code",
   "execution_count": 4,
   "metadata": {
    "ExecuteTime": {
     "end_time": "2023-09-20T10:17:46.134881Z",
     "start_time": "2023-09-20T10:17:46.039367Z"
    },
    "tags": []
   },
   "outputs": [],
   "source": [
    "import pandas\n",
    "import pandas as pd\n",
    "import numpy\n",
    "import numpy as np\n",
    "import random as rn\n",
    "import functools\n",
    "import re"
   ]
  },
  {
   "cell_type": "markdown",
   "metadata": {},
   "source": [
    "\n",
    "\n"
   ]
  },
  {
   "cell_type": "markdown",
   "metadata": {},
   "source": [
    "<div style=\"\">\n",
    "    <div style=\"float: left; width: 80%;\">\n",
    "        <a id=\"1\"></a>\n",
    "        <font><b>Task 1:</b></font>\n",
    "        <br><br>\n",
    "        Check Pandas Version\n",
    "    </div>\n",
    "    <div style=\"float: right;\">\n",
    "        <a href=\"#top\" class=\"btn btn-primary btn-sm\" role=\"button\" aria-pressed=\"true\" style=\"color:white\" data-toggle=\"popover\" title=\"go to Top\">Go to Top</a>\n",
    "    </div>\n",
    "    <br style=\"clear: left;\" />\n",
    "</div>"
   ]
  },
  {
   "cell_type": "code",
   "execution_count": 5,
   "metadata": {
    "ExecuteTime": {
     "end_time": "2023-09-20T10:17:50.926521Z",
     "start_time": "2023-09-20T10:17:50.831149Z"
    },
    "tags": []
   },
   "outputs": [
    {
     "name": "stdout",
     "output_type": "stream",
     "text": [
      "Task 1:\n",
      "2.1.0\n"
     ]
    }
   ],
   "source": [
    "print('Task 1:')  \n",
    "print(pd.__version__)"
   ]
  },
  {
   "cell_type": "markdown",
   "metadata": {},
   "source": [
    "<div style=\"\">\n",
    "    <div style=\"float: left; width: 80%;\">\n",
    "        <a id=\"2\"></a>\n",
    "        <font><b>Task 2:</b></font>\n",
    "        <br><br>\n",
    "        Create Numpy Array\n",
    "        <br>\n",
    "        Create three columns with Zero values\n",
    "    </div>\n",
    "    <div style=\"float: right;\">\n",
    "        <a href=\"#top\" class=\"btn btn-primary btn-sm\" role=\"button\" aria-pressed=\"true\" style=\"color:white\" data-toggle=\"popover\" title=\"go to Top\">Go to Top</a>\n",
    "    </div>\n",
    "    <br style=\"clear: left;\" />\n",
    "</div>"
   ]
  },
  {
   "cell_type": "code",
   "execution_count": 6,
   "metadata": {
    "ExecuteTime": {
     "end_time": "2023-09-20T10:18:08.692110Z",
     "start_time": "2023-09-20T10:18:08.517433Z"
    },
    "tags": []
   },
   "outputs": [
    {
     "name": "stdout",
     "output_type": "stream",
     "text": [
      "Task 2:\n",
      "[(0, 0., 0.) (0, 0., 0.) (0, 0., 0.) (0, 0., 0.) (0, 0., 0.) (0, 0., 0.)\n",
      " (0, 0., 0.) (0, 0., 0.) (0, 0., 0.) (0, 0., 0.) (0, 0., 0.) (0, 0., 0.)\n",
      " (0, 0., 0.) (0, 0., 0.) (0, 0., 0.) (0, 0., 0.) (0, 0., 0.) (0, 0., 0.)\n",
      " (0, 0., 0.) (0, 0., 0.)]\n",
      "       Col1  Col2  Col3\n",
      "Row1      0   0.0   0.0\n",
      "Row2      0   0.0   0.0\n",
      "Row3      0   0.0   0.0\n",
      "Row4      0   0.0   0.0\n",
      "Row5      0   0.0   0.0\n",
      "Row6      0   0.0   0.0\n",
      "Row7      0   0.0   0.0\n",
      "Row8      0   0.0   0.0\n",
      "Row9      0   0.0   0.0\n",
      "Row10     0   0.0   0.0\n",
      "Row11     0   0.0   0.0\n",
      "Row12     0   0.0   0.0\n",
      "Row13     0   0.0   0.0\n",
      "Row14     0   0.0   0.0\n",
      "Row15     0   0.0   0.0\n",
      "Row16     0   0.0   0.0\n",
      "Row17     0   0.0   0.0\n",
      "Row18     0   0.0   0.0\n",
      "Row19     0   0.0   0.0\n",
      "Row20     0   0.0   0.0\n",
      "    Col1  Col2  Col3\n",
      "0      0   0.0   0.0\n",
      "1      0   0.0   0.0\n",
      "2      0   0.0   0.0\n",
      "3      0   0.0   0.0\n",
      "4      0   0.0   0.0\n",
      "5      0   0.0   0.0\n",
      "6      0   0.0   0.0\n",
      "7      0   0.0   0.0\n",
      "8      0   0.0   0.0\n",
      "9      0   0.0   0.0\n",
      "10     0   0.0   0.0\n",
      "11     0   0.0   0.0\n",
      "12     0   0.0   0.0\n",
      "13     0   0.0   0.0\n",
      "14     0   0.0   0.0\n",
      "15     0   0.0   0.0\n",
      "16     0   0.0   0.0\n",
      "17     0   0.0   0.0\n",
      "18     0   0.0   0.0\n",
      "19     0   0.0   0.0\n"
     ]
    }
   ],
   "source": [
    "# 输出“Task 2:”  \n",
    "print('Task 2:')  \n",
    "  \n",
    "# 定义一个dtype，用于描述数据类型，包含三个字段：'Col1'为32位整数，'Col2'和'Col3'为32位浮点数  \n",
    "dtype = [('Col1','int32'), ('Col2','float32'), ('Col3','float32')]  \n",
    "  \n",
    "# 使用numpy的zeros函数创建一个形状为20的零数组，数组的数据类型为之前定义的dtype  \n",
    "values = numpy.zeros(20, dtype=dtype)  \n",
    "print(values)\n",
    "# 为数组创建一个索引，索引的每个元素是'Row'加上数组元素的索引值  \n",
    "index = ['Row'+str(i) for i in range(1, len(values)+1)]  \n",
    "  \n",
    "# 使用pandas的DataFrame函数将numpy数组转化为数据框，同时给数据框指定了索引  \n",
    "df = pandas.DataFrame(values, index=index)  \n",
    "  \n",
    "# 输出数据框df的内容  \n",
    "print(df)  \n",
    "  \n",
    "# 再次使用pandas的DataFrame函数将numpy数组转化为数据框，这次没有指定索引  \n",
    "df = pandas.DataFrame(values)  \n",
    "  \n",
    "# 输出数据框df的内容  \n",
    "print(df)"
   ]
  },
  {
   "cell_type": "markdown",
   "metadata": {},
   "source": [
    "<div style=\"\">\n",
    "    <div style=\"float: left; width: 80%;\">\n",
    "        <a id=\"3\"></a>\n",
    "        <font><b>Task 3:</b></font>\n",
    "        <br><br>\n",
    "        iLoc in Pandas\n",
    "        <br>\n",
    "        Print first five rows\n",
    "    </div>\n",
    "    <div style=\"float: right;\">\n",
    "        <a href=\"#top\" class=\"btn btn-primary btn-sm\" role=\"button\" aria-pressed=\"true\" style=\"color:white\" data-toggle=\"popover\" title=\"go to Top\">Go to Top</a>\n",
    "    </div>\n",
    "    <br style=\"clear: left;\" />\n",
    "</div>"
   ]
  },
  {
   "cell_type": "code",
   "execution_count": 7,
   "metadata": {
    "ExecuteTime": {
     "end_time": "2023-09-20T08:55:39.495076Z",
     "start_time": "2023-09-20T08:55:39.305546Z"
    },
    "tags": []
   },
   "outputs": [
    {
     "name": "stdout",
     "output_type": "stream",
     "text": [
      "Task 3:\n",
      "          score  length\n",
      "capacity               \n",
      "1            10      30\n",
      "2            20      30\n",
      "3            30      40\n",
      "3            40      30\n"
     ]
    }
   ],
   "source": [
    "print('Task 3:')\n",
    "df = pandas.read_csv('./data/data1.csv', sep=',',header=0,index_col=\"capacity\")\n",
    "print(df.iloc[:4]) # 0 - 4 = 5 values"
   ]
  },
  {
   "cell_type": "code",
   "execution_count": 6,
   "metadata": {
    "ExecuteTime": {
     "end_time": "2023-09-20T08:55:26.729116Z",
     "start_time": "2023-09-20T08:55:26.533532Z"
    },
    "tags": []
   },
   "outputs": [
    {
     "data": {
      "text/plain": [
       "RangeIndex(start=0, stop=20, step=1)"
      ]
     },
     "execution_count": 6,
     "metadata": {},
     "output_type": "execute_result"
    }
   ],
   "source": [
    "df.index"
   ]
  },
  {
   "cell_type": "code",
   "execution_count": 15,
   "metadata": {
    "tags": []
   },
   "outputs": [
    {
     "data": {
      "text/plain": [
       "Index(['score', 'length'], dtype='object')"
      ]
     },
     "execution_count": 15,
     "metadata": {},
     "output_type": "execute_result"
    }
   ],
   "source": [
    "df.columns"
   ]
  },
  {
   "cell_type": "markdown",
   "metadata": {},
   "source": [
    "<div style=\"\">\n",
    "    <div style=\"float: left; width: 80%;\">\n",
    "        <a id=\"4\"></a>\n",
    "        <font><b>Task 4:</b></font>\n",
    "        <br><br>\n",
    "        Create Random integer between 2 to 10 with 4 items\n",
    "    </div>\n",
    "    <div style=\"float: right;\">\n",
    "        <a href=\"#top\" class=\"btn btn-primary btn-sm\" role=\"button\" aria-pressed=\"true\" style=\"color:white\" data-toggle=\"popover\" title=\"go to Top\">Go to Top</a>\n",
    "    </div>\n",
    "    <br style=\"clear: left;\" />\n",
    "</div> "
   ]
  },
  {
   "cell_type": "code",
   "execution_count": 6,
   "metadata": {
    "tags": []
   },
   "outputs": [
    {
     "name": "stdout",
     "output_type": "stream",
     "text": [
      "Task 4:\n",
      "[6 7 7 4]\n"
     ]
    }
   ],
   "source": [
    "print('Task 4:')\n",
    "values = np.random.randint(2, 10, size=4)\n",
    "print(values)"
   ]
  },
  {
   "cell_type": "markdown",
   "metadata": {},
   "source": [
    "<div style=\"\">\n",
    "    <div style=\"float: left; width: 80%;\">\n",
    "        <a id=\"5\"></a>\n",
    "        <font><b>Task 5:</b></font>\n",
    "        <br><br>\n",
    "        Create Random integer between 0 to 100 \n",
    "    </div>\n",
    "    <div style=\"float: right;\">\n",
    "        <a href=\"#top\" class=\"btn btn-primary btn-sm\" role=\"button\" aria-pressed=\"true\" style=\"color:white\" data-toggle=\"popover\" title=\"go to Top\">Go to Top</a>\n",
    "    </div>\n",
    "    <br style=\"clear: left;\" />\n",
    "</div>\n"
   ]
  },
  {
   "cell_type": "code",
   "execution_count": 7,
   "metadata": {
    "tags": []
   },
   "outputs": [
    {
     "name": "stdout",
     "output_type": "stream",
     "text": [
      "Task 5:\n",
      "    x   y\n",
      "0  60  98\n",
      "1  20  78\n",
      "2   1   5\n"
     ]
    }
   ],
   "source": [
    "print('Task 5:')\n",
    "df = pd.DataFrame(np.random.randint(0, 100, size=(3, 2)), columns=list('xy'))\n",
    "print(df)"
   ]
  },
  {
   "cell_type": "markdown",
   "metadata": {},
   "source": [
    "<div style=\"\">\n",
    "    <div style=\"float: left; width: 80%;\">\n",
    "        <a id=\"6\"></a>\n",
    "        <font><b>Task 6:</b></font>\n",
    "        <br><br>\n",
    "        Create Random integer between 2 to 10 with 4 columns\n",
    "    </div>\n",
    "    <div style=\"float: right;\">\n",
    "        <a href=\"#top\" class=\"btn btn-primary btn-sm\" role=\"button\" aria-pressed=\"true\" style=\"color:white\" data-toggle=\"popover\" title=\"go to Top\">Go to Top</a>\n",
    "    </div>\n",
    "    <br style=\"clear: left;\" />\n",
    "</div>"
   ]
  },
  {
   "cell_type": "code",
   "execution_count": 8,
   "metadata": {
    "tags": []
   },
   "outputs": [
    {
     "name": "stdout",
     "output_type": "stream",
     "text": [
      "Task 6:\n",
      "    A   B   C   D\n",
      "0  74  59  94  75\n",
      "1  39  53  76  35\n"
     ]
    }
   ],
   "source": [
    "print('Task 6:')\n",
    "df = pd.DataFrame(np.random.randint(0, 100, size=(2, 4)), columns=['A', 'B', 'C', 'D'])\n",
    "print(df)"
   ]
  },
  {
   "cell_type": "markdown",
   "metadata": {},
   "source": [
    "<div style=\"\">\n",
    "    <div style=\"float: left; width: 80%;\">\n",
    "        <a id=\"7\"></a>\n",
    "        <font><b>Task 7:</b></font>\n",
    "        <br><br>\n",
    "        2D array with random between 0 and 5\n",
    "    </div>\n",
    "    <div style=\"float: right;\">\n",
    "        <a href=\"#top\" class=\"btn btn-primary btn-sm\" role=\"button\" aria-pressed=\"true\" style=\"color:white\" data-toggle=\"popover\" title=\"go to Top\">Go to Top</a>\n",
    "    </div>\n",
    "    <br style=\"clear: left;\" />\n",
    "</div>"
   ]
  },
  {
   "cell_type": "code",
   "execution_count": 9,
   "metadata": {
    "tags": []
   },
   "outputs": [
    {
     "name": "stdout",
     "output_type": "stream",
     "text": [
      "Task 7:\n",
      "[[3 4 1 0]\n",
      " [4 3 2 4]]\n",
      "<class 'numpy.ndarray'>\n"
     ]
    }
   ],
   "source": [
    "print('Task 7:')\n",
    "values = np.random.randint(5, size=(2, 4))\n",
    "print(values)\n",
    "print(type(values))"
   ]
  },
  {
   "cell_type": "markdown",
   "metadata": {},
   "source": [
    "<div style=\"\">\n",
    "    <div style=\"float: left; width: 80%;\">\n",
    "        <a id=\"8\"></a>\n",
    "        <font><b>Task 8:</b></font>\n",
    "        <br><br>\n",
    "        Create Random integer between 0 to 100 with 10 itmes (2 rows, 5 columns)\n",
    "    </div>\n",
    "    <div style=\"float: right;\">\n",
    "        <a href=\"#top\" class=\"btn btn-primary btn-sm\" role=\"button\" aria-pressed=\"true\" style=\"color:white\" data-toggle=\"popover\" title=\"go to Top\">Go to Top</a>\n",
    "    </div>\n",
    "    <br style=\"clear: left;\" />\n",
    "</div>"
   ]
  },
  {
   "cell_type": "code",
   "execution_count": 10,
   "metadata": {
    "tags": []
   },
   "outputs": [
    {
     "name": "stdout",
     "output_type": "stream",
     "text": [
      "Task 8:\n",
      "   Toronto  Ottawa  Calgary  Montreal  Quebec\n",
      "0       76      57       29        95      93\n",
      "1        4      39       13        97      66\n",
      "2       87      26       81        50      63\n"
     ]
    }
   ],
   "source": [
    "print('Task 8:')\n",
    "df = pd.DataFrame(np.random.randint(0, 100, size=(3, 5)), columns=['Toronto', 'Ottawa', 'Calgary', 'Montreal', 'Quebec'])\n",
    "print(df)"
   ]
  },
  {
   "cell_type": "markdown",
   "metadata": {},
   "source": [
    "<div style=\"\">\n",
    "    <div style=\"float: left; width: 80%;\">\n",
    "        <a id=\"9\"></a>\n",
    "        <font><b>Task 9:</b></font>\n",
    "        <br><br>\n",
    "        3 rows, 2 columns in pandas\n",
    "        <br>\n",
    "        1st column = random between 10 to 20\n",
    "        <br>\n",
    "        2nd column = random between 80 and 90\n",
    "        <br>\n",
    "        3rd column = random between 40 and 50 \n",
    "    </div>\n",
    "    <div style=\"float: right;\">\n",
    "        <a href=\"#top\" class=\"btn btn-primary btn-sm\" role=\"button\" aria-pressed=\"true\" style=\"color:white\" data-toggle=\"popover\" title=\"go to Top\">Go to Top</a>\n",
    "    </div>\n",
    "    <br style=\"clear: left;\" />\n",
    "</div>"
   ]
  },
  {
   "cell_type": "code",
   "execution_count": 11,
   "metadata": {
    "tags": []
   },
   "outputs": [
    {
     "name": "stdout",
     "output_type": "stream",
     "text": [
      "Task 9:\n",
      "      One  Two\n",
      "Row1    0    0\n",
      "Row2    0    0\n",
      "Row3    0    0\n"
     ]
    }
   ],
   "source": [
    "print('Task 9:')  \n",
    "dtype = [('One','int32'), ('Two','int32')]\n",
    "values = np.zeros(3, dtype=dtype)\n",
    "index = ['Row'+str(i) for i in range(1, 4)]\n",
    "\n",
    "df = pandas.DataFrame(values, index=index)\n",
    "print(df)"
   ]
  },
  {
   "cell_type": "markdown",
   "metadata": {},
   "source": [
    "<div style=\"\">\n",
    "    <div style=\"float: left; width: 80%;\">\n",
    "        <a id=\"10\"></a>\n",
    "        <font><b>Task 10:</b></font>\n",
    "        <br><br>\n",
    "        Fill Random Science and Math Marks\n",
    "        <br><br>\n",
    "        (has some bugs in it)\n",
    "    </div>\n",
    "    <div style=\"float: right;\">\n",
    "        <a href=\"#top\" class=\"btn btn-primary btn-sm\" role=\"button\" aria-pressed=\"true\" style=\"color:white\" data-toggle=\"popover\" title=\"go to Top\">Go to Top</a>\n",
    "    </div>\n",
    "    <br style=\"clear: left;\" />\n",
    "</div>\n"
   ]
  },
  {
   "cell_type": "code",
   "execution_count": 12,
   "metadata": {
    "tags": []
   },
   "outputs": [
    {
     "name": "stdout",
     "output_type": "stream",
     "text": [
      "Task 10:\n",
      "      Science  Maths\n",
      "Row1        0      0\n",
      "Row2        0      0\n",
      "Row3        0      0\n"
     ]
    }
   ],
   "source": [
    "print('Task 10:')  \n",
    "dtype = [('Science','int32'), ('Maths','int32')]\n",
    "values = np.zeros(3, dtype=dtype)\n",
    "\n",
    "#print(type(dtype))\n",
    "#values = np.random.randint(5, size=(3, 2))\n",
    "#print(values)\n",
    "#index = ['Row'+str(i) for i in range(1, 4)]\n",
    "\n",
    "df = pandas.DataFrame(values, index=index)\n",
    "print(df)"
   ]
  },
  {
   "cell_type": "markdown",
   "metadata": {},
   "source": [
    "<div style=\"\">\n",
    "    <div style=\"float: left; width: 80%;\">\n",
    "        <a id=\"11\"></a>\n",
    "        <font><b>Task 11:</b></font>\n",
    "        <br><br>\n",
    "        CSV to DatRaframe (from_csv)\n",
    "        <br>\n",
    "        Note: from_csv is Deprecated since version 0.21.0: Use pandas.read_csv() instead.\n",
    "    </div>\n",
    "    <div style=\"float: right;\">\n",
    "        <a href=\"#top\" class=\"btn btn-primary btn-sm\" role=\"button\" aria-pressed=\"true\" style=\"color:white\" data-toggle=\"popover\" title=\"go to Top\">Go to Top</a>\n",
    "    </div>\n",
    "    <br style=\"clear: left;\" />\n",
    "</div>"
   ]
  },
  {
   "cell_type": "code",
   "execution_count": 13,
   "metadata": {
    "tags": []
   },
   "outputs": [
    {
     "name": "stdout",
     "output_type": "stream",
     "text": [
      "Task 11:\n",
      "  first_name   last_name             company_name            address  \\\n",
      "0    Aleshia  Tomkiewicz  Alan D Rosenburg Cpa Pc       14 Taylor St   \n",
      "1       Evan   Zigomalas       Cap Gemini America        5 Binney St   \n",
      "2     France     Andrade      Elliott, John W Esq       8 Moor Place   \n",
      "3    Ulysses   Mcwalters           Mcmahan, Ben L      505 Exeter Rd   \n",
      "4     Tyisha      Veness           Champagne Room  5396 Forth Street   \n",
      "\n",
      "                             city           county    postal        phone1  \\\n",
      "0               St. Stephens Ward             Kent   CT2 7PP  01835-703597   \n",
      "1                      Abbey Ward  Buckinghamshire  HP11 2AX  01937-864715   \n",
      "2  East Southbourne and Tuckton W      Bournemouth   BH6 3BE  01347-368222   \n",
      "3              Hawerby cum Beesby     Lincolnshire  DN36 5RP  01912-771311   \n",
      "4      Greets Green and Lyng Ward    West Midlands   B70 9DT  01547-429341   \n",
      "\n",
      "         phone2                       email  \\\n",
      "0  01944-369967     atomkiewicz@hotmail.com   \n",
      "1  01714-737668    evan.zigomalas@gmail.com   \n",
      "2  01935-821636  france.andrade@hotmail.com   \n",
      "3  01302-601380         ulysses@hotmail.com   \n",
      "4  01290-367248   tyisha.veness@hotmail.com   \n",
      "\n",
      "                                    web  \n",
      "0  http://www.alandrosenburgcpapc.co.uk  \n",
      "1     http://www.capgeminiamerica.co.uk  \n",
      "2      http://www.elliottjohnwesq.co.uk  \n",
      "3          http://www.mcmahanbenl.co.uk  \n",
      "4        http://www.champagneroom.co.uk  \n"
     ]
    }
   ],
   "source": [
    "print('Task 11:')  \n",
    "\n",
    "csv = pd.read_csv('uk-500.csv')\n",
    "print(csv.head())"
   ]
  },
  {
   "cell_type": "markdown",
   "metadata": {},
   "source": [
    "<div style=\"\">\n",
    "    <div style=\"float: left; width: 80%;\">\n",
    "        <a id=\"12\"></a>\n",
    "        <font><b>Task 12:</b></font>\n",
    "        <br><br>\n",
    "        CSV to Dataframe (from_csv\n",
    "    </div>\n",
    "    <div style=\"float: right;\">\n",
    "        <a href=\"#top\" class=\"btn btn-primary btn-sm\" role=\"button\" aria-pressed=\"true\" style=\"color:white\" data-toggle=\"popover\" title=\"go to Top\">Go to Top</a>\n",
    "    </div>\n",
    "    <br style=\"clear: left;\" />\n",
    "</div>"
   ]
  },
  {
   "cell_type": "code",
   "execution_count": 18,
   "metadata": {
    "tags": []
   },
   "outputs": [
    {
     "name": "stdout",
     "output_type": "stream",
     "text": [
      "Task 12:\n",
      "  first_name   last_name             company_name            address  \\\n",
      "0    Aleshia  Tomkiewicz  Alan D Rosenburg Cpa Pc       14 Taylor St   \n",
      "1       Evan   Zigomalas       Cap Gemini America        5 Binney St   \n",
      "2     France     Andrade      Elliott, John W Esq       8 Moor Place   \n",
      "3    Ulysses   Mcwalters           Mcmahan, Ben L      505 Exeter Rd   \n",
      "4     Tyisha      Veness           Champagne Room  5396 Forth Street   \n",
      "\n",
      "                             city           county    postal        phone1  \\\n",
      "0               St. Stephens Ward             Kent   CT2 7PP  01835-703597   \n",
      "1                      Abbey Ward  Buckinghamshire  HP11 2AX  01937-864715   \n",
      "2  East Southbourne and Tuckton W      Bournemouth   BH6 3BE  01347-368222   \n",
      "3              Hawerby cum Beesby     Lincolnshire  DN36 5RP  01912-771311   \n",
      "4      Greets Green and Lyng Ward    West Midlands   B70 9DT  01547-429341   \n",
      "\n",
      "         phone2                       email  \\\n",
      "0  01944-369967     atomkiewicz@hotmail.com   \n",
      "1  01714-737668    evan.zigomalas@gmail.com   \n",
      "2  01935-821636  france.andrade@hotmail.com   \n",
      "3  01302-601380         ulysses@hotmail.com   \n",
      "4  01290-367248   tyisha.veness@hotmail.com   \n",
      "\n",
      "                                    web  \n",
      "0  http://www.alandrosenburgcpapc.co.uk  \n",
      "1     http://www.capgeminiamerica.co.uk  \n",
      "2      http://www.elliottjohnwesq.co.uk  \n",
      "3          http://www.mcmahanbenl.co.uk  \n",
      "4        http://www.champagneroom.co.uk  \n"
     ]
    }
   ],
   "source": [
    "print('Task 12:')  \n",
    "#df = df.from_csv(path, header, sep, index_col, parse_dates, encoding, tupleize_cols, infer_datetime_format)\n",
    "df = pd.read_csv('uk-500.csv')\n",
    "print(df.head())"
   ]
  },
  {
   "cell_type": "markdown",
   "metadata": {},
   "source": [
    "<div style=\"\">\n",
    "    <div style=\"float: left; width: 80%;\">\n",
    "        <a id=\"13\"></a>\n",
    "        <font><b>Task 13:</b></font>\n",
    "        <br><br>\n",
    "        First 4 rows and 2 columns of CSV\n",
    "    </div>\n",
    "    <div style=\"float: right;\">\n",
    "        <a href=\"#top\" class=\"btn btn-primary btn-sm\" role=\"button\" aria-pressed=\"true\" style=\"color:white\" data-toggle=\"popover\" title=\"go to Top\">Go to Top</a>\n",
    "    </div>\n",
    "    <br style=\"clear: left;\" />\n",
    "</div>"
   ]
  },
  {
   "cell_type": "code",
   "execution_count": 32,
   "metadata": {
    "tags": []
   },
   "outputs": [
    {
     "name": "stdout",
     "output_type": "stream",
     "text": [
      "Task 13:\n",
      "(9, 1)\n",
      "  capacity,score,length\n",
      "0               1,10,30\n",
      "1               2,20,30\n",
      "2               3,30,40\n",
      "3               3,40,30\n"
     ]
    }
   ],
   "source": [
    "print('Task 13:') \n",
    "df = pandas.read_csv('data1.csv', header=0,sep=',')\n",
    "print(df.shape) \n",
    "#print(df[2:14])\n",
    "print(df.iloc[0:4,0:2])\n",
    "#print(df[df.columns[0]])"
   ]
  },
  {
   "cell_type": "markdown",
   "metadata": {},
   "source": [
    "<div style=\"\">\n",
    "    <div style=\"float: left; width: 80%;\">\n",
    "        <a id=\"14\"></a>\n",
    "        <font><b>Task 14:</b></font>\n",
    "        <br><br>\n",
    "        Show even rows and first three columns\n",
    "    </div>\n",
    "    <div style=\"float: right;\">\n",
    "        <a href=\"#top\" class=\"btn btn-primary btn-sm\" role=\"button\" aria-pressed=\"true\" style=\"color:white\" data-toggle=\"popover\" title=\"go to Top\">Go to Top</a>\n",
    "    </div>\n",
    "    <br style=\"clear: left;\" />\n",
    "</div>"
   ]
  },
  {
   "cell_type": "code",
   "execution_count": 33,
   "metadata": {
    "tags": []
   },
   "outputs": [
    {
     "name": "stdout",
     "output_type": "stream",
     "text": [
      "Task 14:\n",
      "(7, 5)\n",
      "  student  language  science\n",
      "0   kumar        90       56\n",
      "2   sammy        90       23\n",
      "4   peter        30       56\n",
      "6  carrol        50       90\n"
     ]
    }
   ],
   "source": [
    "print('Task 14:') \n",
    "df = pandas.read_csv('abc.csv', sep=',',header=0, encoding = \"utf-8\")\n",
    "print(df.shape)\n",
    "\n",
    "print(df.iloc[::2, 0:3])    #打印出DataFrame的每两行（从第一行开始，步长为2），以及每列的前三个元素。"
   ]
  },
  {
   "cell_type": "markdown",
   "metadata": {},
   "source": [
    "<div style=\"\">\n",
    "    <div style=\"float: left; width: 80%;\">\n",
    "        <a id=\"15\"></a>\n",
    "        <font><b>Task 15:</b></font>\n",
    "        <br><br>\n",
    "        New columns as sum of all\n",
    "    </div>\n",
    "    <div style=\"float: right;\">\n",
    "        <a href=\"#top\" class=\"btn btn-primary btn-sm\" role=\"button\" aria-pressed=\"true\" style=\"color:white\" data-toggle=\"popover\" title=\"go to Top\">Go to Top</a>\n",
    "    </div>\n",
    "    <br style=\"clear: left;\" />\n",
    "</div>"
   ]
  },
  {
   "cell_type": "code",
   "execution_count": 34,
   "metadata": {},
   "outputs": [
    {
     "name": "stdout",
     "output_type": "stream",
     "text": [
      "Task 15:\n",
      "(7, 5)\n",
      "  student  language  science  maths  history\n",
      "0   kumar        90       56     34       34\n",
      "1   kevin        10       34     32       67\n",
      "2   sammy        90       23     12       32\n",
      "3  janice        20       67     90       45\n",
      "4   peter        30       56     45       65\n",
      "5    prem        90       45     45       34\n",
      "6  carrol        50       90     45       23\n",
      "  student  language  science  maths  history  total\n",
      "0   kumar        90       56     34       34    214\n",
      "1   kevin        10       34     32       67    143\n",
      "2   sammy        90       23     12       32    157\n",
      "3  janice        20       67     90       45    222\n",
      "4   peter        30       56     45       65    196\n",
      "5    prem        90       45     45       34    214\n",
      "6  carrol        50       90     45       23    208\n"
     ]
    }
   ],
   "source": [
    "print('Task 15:') \n",
    "df = pandas.read_csv('abc.csv', sep=',', header=0,encoding = \"utf-8\")\n",
    "print(df.shape)\n",
    "print(df) \n",
    "# df['total'] = df.sum(axis=1)\n",
    "df['total'] = df.select_dtypes(include=[np.number]).sum(axis=1)\n",
    "print(df)"
   ]
  },
  {
   "cell_type": "markdown",
   "metadata": {},
   "source": [
    "<div style=\"\">\n",
    "    <div style=\"float: left; width: 80%;\">\n",
    "        <a id=\"16\"></a>\n",
    "        <font><b>Task 16:</b></font>\n",
    "        <br><br>\n",
    "        Delete Rows of one column where the value is less than 50\n",
    "    </div>\n",
    "    <div style=\"float: right;\">\n",
    "        <a href=\"#top\" class=\"btn btn-primary btn-sm\" role=\"button\" aria-pressed=\"true\" style=\"color:white\" data-toggle=\"popover\" title=\"go to Top\">Go to Top</a>\n",
    "    </div>\n",
    "    <br style=\"clear: left;\" />\n",
    "</div>"
   ]
  },
  {
   "cell_type": "code",
   "execution_count": 9,
   "metadata": {
    "ExecuteTime": {
     "end_time": "2023-09-20T08:57:49.276339Z",
     "start_time": "2023-09-20T08:57:49.251337Z"
    },
    "tags": []
   },
   "outputs": [
    {
     "name": "stdout",
     "output_type": "stream",
     "text": [
      "Task 16:\n",
      "(7, 5)\n",
      "  student  language  science  maths  history\n",
      "0   kumar        90       56     34       34\n",
      "1   kevin        10       34     32       67\n",
      "2   sammy        90       23     12       32\n",
      "3  janice        20       67     90       45\n",
      "4   peter        30       56     45       65\n",
      "5    prem        90       45     45       34\n",
      "6  carrol        50       90     45       23\n"
     ]
    }
   ],
   "source": [
    "print('Task 16:') \n",
    "df = pandas.read_csv('./data/abc.csv', sep=',', header=0,encoding = \"utf-8\")\n",
    "print(df.shape)\n",
    "print(df)"
   ]
  },
  {
   "cell_type": "code",
   "execution_count": 35,
   "metadata": {
    "collapsed": false,
    "jupyter": {
     "outputs_hidden": false
    }
   },
   "outputs": [
    {
     "name": "stdout",
     "output_type": "stream",
     "text": [
      "Task 16:\n",
      "(7, 5)\n",
      "  student  language  science  maths  history\n",
      "0   kumar        90       56     34       34\n",
      "1   kevin        10       34     32       67\n",
      "2   sammy        90       23     12       32\n",
      "3  janice        20       67     90       45\n",
      "4   peter        30       56     45       65\n",
      "5    prem        90       45     45       34\n",
      "6  carrol        50       90     45       23\n",
      "  student  language  science  maths  history\n",
      "0   kumar        90       56     34       34\n",
      "3  janice        20       67     90       45\n",
      "4   peter        30       56     45       65\n",
      "6  carrol        50       90     45       23\n"
     ]
    }
   ],
   "source": [
    "\n",
    "df = df[df.science > 50]\n",
    "print(df)"
   ]
  },
  {
   "cell_type": "markdown",
   "metadata": {},
   "source": [
    "<div style=\"\">\n",
    "    <div style=\"float: left; width: 80%;\">\n",
    "        <a id=\"17\"></a>\n",
    "        <font><b>Task 17:</b></font>\n",
    "        <br><br>\n",
    "        Delete with Query\n",
    "        <br>Note: Query doesn't work if your column has space in it\n",
    "    </div>\n",
    "    <div style=\"float: right;\">\n",
    "        <a href=\"#top\" class=\"btn btn-primary btn-sm\" role=\"button\" aria-pressed=\"true\" style=\"color:white\" data-toggle=\"popover\" title=\"go to Top\">Go to Top</a>\n",
    "    </div>\n",
    "    <br style=\"clear: left;\" />\n",
    "</div>"
   ]
  },
  {
   "cell_type": "code",
   "execution_count": 36,
   "metadata": {
    "tags": []
   },
   "outputs": [
    {
     "name": "stdout",
     "output_type": "stream",
     "text": [
      "Task 17:\n",
      "(7, 5)\n",
      "  student  language  science  maths  history\n",
      "0   kumar        90       56     34       34\n",
      "1   kevin        10       34     32       67\n",
      "2   sammy        90       23     12       32\n",
      "3  janice        20       67     90       45\n",
      "4   peter        30       56     45       65\n",
      "5    prem        90       45     45       34\n",
      "6  carrol        50       90     45       23\n",
      "  student  language  science  maths  history\n",
      "0   kumar        90       56     34       34\n",
      "3  janice        20       67     90       45\n",
      "4   peter        30       56     45       65\n",
      "6  carrol        50       90     45       23\n"
     ]
    }
   ],
   "source": [
    "print('Task 17:') \n",
    "df = pandas.read_csv('abc.csv', sep=',', header=0,encoding = \"utf-8\")\n",
    "print(df.shape)\n",
    "print(df) \n",
    "\n",
    "df = df.query('science > 50')\n",
    "print(df)"
   ]
  },
  {
   "cell_type": "markdown",
   "metadata": {},
   "source": [
    "<div style=\"\">\n",
    "    <div style=\"float: left; width: 80%;\">\n",
    "        <a id=\"18\"></a>\n",
    "        <font><b>Task 18:</b></font>\n",
    "        <br><br>\n",
    "        Skip single row\n",
    "    </div>\n",
    "    <div style=\"float: right;\">\n",
    "        <a href=\"#top\" class=\"btn btn-primary btn-sm\" role=\"button\" aria-pressed=\"true\" style=\"color:white\" data-toggle=\"popover\" title=\"go to Top\">Go to Top</a>\n",
    "    </div>\n",
    "    <br style=\"clear: left;\" />\n",
    "</div>"
   ]
  },
  {
   "cell_type": "code",
   "execution_count": 37,
   "metadata": {
    "tags": []
   },
   "outputs": [
    {
     "name": "stdout",
     "output_type": "stream",
     "text": [
      "Task 18:\n",
      "(6, 5)\n",
      "  student  language  science  maths  history\n",
      "0   kumar        90       56     34       34\n",
      "1   sammy        90       23     12       32\n",
      "2  janice        20       67     90       45\n",
      "3   peter        30       56     45       65\n",
      "4    prem        90       45     45       34\n",
      "5  carrol        50       90     45       23\n"
     ]
    }
   ],
   "source": [
    "print('Task 18:') \n",
    "df = pandas.read_csv('abc.csv', sep=',', header=0,encoding = \"utf-8\", skiprows=[2])\n",
    "print(df.shape)\n",
    "print(df)"
   ]
  },
  {
   "cell_type": "markdown",
   "metadata": {},
   "source": [
    "<div style=\"\">\n",
    "    <div style=\"float: left; width: 80%;\">\n",
    "        <a id=\"19\"></a>\n",
    "        <font><b>Task 19:</b></font>\n",
    "        <br><br>\n",
    "        Skip multiple rows\n",
    "    </div>\n",
    "    <div style=\"float: right;\">\n",
    "        <a href=\"#top\" class=\"btn btn-primary btn-sm\" role=\"button\" aria-pressed=\"true\" style=\"color:white\" data-toggle=\"popover\" title=\"go to Top\">Go to Top</a>\n",
    "    </div>\n",
    "    <br style=\"clear: left;\" />\n",
    "</div>"
   ]
  },
  {
   "cell_type": "code",
   "execution_count": 38,
   "metadata": {
    "tags": []
   },
   "outputs": [
    {
     "name": "stdout",
     "output_type": "stream",
     "text": [
      "Task 19:\n",
      "(4, 5)\n",
      "  student  language  science  maths  history\n",
      "0   kevin        10       34     32       67\n",
      "1   sammy        90       23     12       32\n",
      "2  janice        20       67     90       45\n",
      "3    prem        90       45     45       34\n"
     ]
    }
   ],
   "source": [
    "print('Task 19:') \n",
    "df = pandas.read_csv('abc.csv', sep=',', header=0,encoding = \"utf-8\", skiprows=[1, 5, 7])\n",
    "print(df.shape)\n",
    "#print(df) \n",
    "\n",
    "#df = df[df[[1]] > 45]\n",
    "print(df)"
   ]
  },
  {
   "cell_type": "markdown",
   "metadata": {},
   "source": [
    "<div style=\"\">\n",
    "    <div style=\"float: left; width: 80%;\">\n",
    "        <a id=\"20\"></a>\n",
    "        <font><b>Task 20:</b></font>\n",
    "        <br><br>\n",
    "        Select Column by Index\n",
    "        <br>\n",
    "        <br>Note:\n",
    "        <br>df[[1]] doesn't work in Pandas updated version (need to double check)\n",
    "        <br>\n",
    "        New columns as sum of all\n",
    "    </div>\n",
    "    <div style=\"float: right;\">\n",
    "        <a href=\"#top\" class=\"btn btn-primary btn-sm\" role=\"button\" aria-pressed=\"true\" style=\"color:white\" data-toggle=\"popover\" title=\"go to Top\">Go to Top</a>\n",
    "    </div>\n",
    "    <br style=\"clear: left;\" />\n",
    "</div>"
   ]
  },
  {
   "cell_type": "code",
   "execution_count": 39,
   "metadata": {
    "tags": []
   },
   "outputs": [
    {
     "name": "stdout",
     "output_type": "stream",
     "text": [
      "Task 20:\n",
      "(7, 5)\n",
      "  student  language  science  maths  history\n",
      "0   kumar        90       56     34       34\n",
      "1   kevin        10       34     32       67\n",
      "2   sammy        90       23     12       32\n",
      "3  janice        20       67     90       45\n",
      "4   peter        30       56     45       65\n",
      "5    prem        90       45     45       34\n",
      "6  carrol        50       90     45       23\n",
      "<class 'str'>\n"
     ]
    }
   ],
   "source": [
    "# 打印出字符串 'Task 20:'  \n",
    "print('Task 20:')  \n",
    "  \n",
    "# 导入pandas库，并将其重命名为pd，方便后续使用  \n",
    "import pandas as pd  \n",
    "  \n",
    "# 使用pandas的read_csv函数读取名为'abc.csv'的CSV文件，分隔符为逗号，编码方式为utf-8，将读取的数据赋值给df变量  \n",
    "df = pd.read_csv('abc.csv', sep=',',header=0, encoding = \"utf-8\")  \n",
    "  \n",
    "# 打印出df的形状，即行数和列数  \n",
    "print(df.shape)  \n",
    "  \n",
    "# 打印出df的内容  \n",
    "print(df)  \n",
    "  \n",
    "# 判断df的列数是否大于2  \n",
    "if len(df.columns) > 2:  \n",
    "  \n",
    "    # 如果列数大于2，打印出第三列的类型  \n",
    "    print(type(df.columns[2]))  \n",
    "  \n",
    "# 如果df的列数不大于2，即小于等于2  \n",
    "else:  \n",
    "  \n",
    "    # 打印出字符串 'The dataframe does not have at least three columns.'  \n",
    "    print(\"The dataframe does not have at least three columns.\")"
   ]
  },
  {
   "cell_type": "markdown",
   "metadata": {},
   "source": [
    "<div style=\"\">\n",
    "    <div style=\"float: left; width: 80%;\">\n",
    "        <a id=\"21\"></a>\n",
    "        <font><b>Task 21:</b></font>\n",
    "        <br><br>\n",
    "        Skip rows\n",
    "        <br>Note:\n",
    "        <br>df[[1]] doesn't work in Pandas updated version (need to double check)\n",
    "    </div>\n",
    "    <div style=\"float: right;\">\n",
    "        <a href=\"#top\" class=\"btn btn-primary btn-sm\" role=\"button\" aria-pressed=\"true\" style=\"color:white\" data-toggle=\"popover\" title=\"go to Top\">Go to Top</a>\n",
    "    </div>\n",
    "    <br style=\"clear: left;\" />\n",
    "</div>"
   ]
  },
  {
   "cell_type": "code",
   "execution_count": 40,
   "metadata": {
    "tags": []
   },
   "outputs": [
    {
     "name": "stdout",
     "output_type": "stream",
     "text": [
      "Task 21:\n",
      "(7, 5)\n",
      "  student  language  science  maths  history\n",
      "0   kumar        90       56     34       34\n",
      "1   kevin        10       34     32       67\n",
      "2   sammy        90       23     12       32\n",
      "3  janice        20       67     90       45\n",
      "4   peter        30       56     45       65\n",
      "5    prem        90       45     45       34\n",
      "6  carrol        50       90     45       23\n",
      "science\n"
     ]
    }
   ],
   "source": [
    "print('Task 21:') \n",
    "df = pandas.read_csv('abc.csv', sep=',', encoding = \"utf-8\", header=0)\n",
    "print(df.shape)\n",
    "print(df) \n",
    "\n",
    "print(df.columns[2])"
   ]
  },
  {
   "cell_type": "markdown",
   "metadata": {},
   "source": [
    "<div style=\"\">\n",
    "    <div style=\"float: left; width: 80%;\">\n",
    "        <a id=\"22\"></a>\n",
    "        <font><b>Task 22:</b></font>\n",
    "        <br><br>\n",
    "        String to Dataframe\n",
    "        <br>Note:\n",
    "        <br>df[[1]] doesn't work in Pandas updated version (need to double check)\n",
    "    </div>\n",
    "    <div style=\"float: right;\">\n",
    "        <a href=\"#top\" class=\"btn btn-primary btn-sm\" role=\"button\" aria-pressed=\"true\" style=\"color:white\" data-toggle=\"popover\" title=\"go to Top\">Go to Top</a>\n",
    "    </div>\n",
    "    <br style=\"clear: left;\" />\n",
    "</div>"
   ]
  },
  {
   "cell_type": "code",
   "execution_count": 41,
   "metadata": {
    "tags": []
   },
   "outputs": [
    {
     "name": "stdout",
     "output_type": "stream",
     "text": [
      "Task 22:\n",
      "(3, 2)\n",
      "   0  1\n",
      "0  1  2\n",
      "1  3  4\n",
      "2  5  6\n"
     ]
    }
   ],
   "source": [
    "print('Task 22:')\n",
    "from io import StringIO\n",
    "\n",
    "s = \"\"\"\n",
    "        1, 2\n",
    "        3, 4\n",
    "        5, 6\n",
    "    \"\"\"\n",
    "\n",
    "df = pd.read_csv(StringIO(s), header=None)\n",
    "\n",
    "print(df.shape)\n",
    "print(df)"
   ]
  },
  {
   "cell_type": "markdown",
   "metadata": {},
   "source": [
    "<div style=\"\">\n",
    "    <div style=\"float: left; width: 80%;\">\n",
    "        <a id=\"23\"></a>\n",
    "        <font><b>Task 23:</b></font>\n",
    "        <br><br>\n",
    "        New columns as max of other columns\n",
    "        <br>float to int used\n",
    "    </div>\n",
    "    <div style=\"float: right;\">\n",
    "        <a href=\"#top\" class=\"btn btn-primary btn-sm\" role=\"button\" aria-pressed=\"true\" style=\"color:white\" data-toggle=\"popover\" title=\"go to Top\">Go to Top</a>\n",
    "    </div>\n",
    "    <br style=\"clear: left;\" />\n",
    "</div>"
   ]
  },
  {
   "cell_type": "code",
   "execution_count": 56,
   "metadata": {
    "tags": []
   },
   "outputs": [
    {
     "name": "stdout",
     "output_type": "stream",
     "text": [
      "Task 23:\n",
      "(7, 5)\n",
      "  student  language  science  maths  history\n",
      "0   kumar        90       56     34       34\n",
      "1   kevin        10       34     32       67\n",
      "2   sammy        90       23     12       32\n",
      "3  janice        20       67     90       45\n",
      "4   peter        30       56     45       65\n",
      "5    prem        90       45     45       34\n",
      "6  carrol        50       90     45       23\n",
      "  student  language  science  maths  history  sum  max  min  average\n",
      "0   kumar        90       56     34       34  214  214   34       96\n",
      "1   kevin        10       34     32       67  143  143   10       62\n",
      "2   sammy        90       23     12       32  157  157   12       69\n",
      "3  janice        20       67     90       45  222  222   20       98\n",
      "4   peter        30       56     45       65  196  196   30       88\n",
      "5    prem        90       45     45       34  214  214   34       96\n",
      "6  carrol        50       90     45       23  208  208   23       92\n"
     ]
    }
   ],
   "source": [
    "print('Task 23:') \n",
    "df = pandas.read_csv('abc.csv', sep=',',header=0, encoding = \"utf-8\")\n",
    "print(df.shape)\n",
    "print(df)\n",
    "df['sum'] = df.select_dtypes(include=[np.number]).sum(axis=1)\n",
    "df['max'] = df.select_dtypes(include=[np.number]).max(axis=1)\n",
    "df['min'] = df.select_dtypes(include=[np.number]).min(axis=1)\n",
    "df['average'] = df.select_dtypes(include=[np.number]).mean(axis=1).astype(int)\n",
    "print(df)\n",
    "\n",
    "# 这段代码有问题，如何解决"
   ]
  },
  {
   "cell_type": "code",
   "execution_count": 55,
   "metadata": {
    "tags": []
   },
   "outputs": [
    {
     "name": "stdout",
     "output_type": "stream",
     "text": [
      "Task 23:\n",
      "(7, 5)\n",
      "  student  language  science  maths  history\n",
      "0   kumar        90       56     34       34\n",
      "1   kevin        10       34     32       67\n",
      "2   sammy        90       23     12       32\n",
      "3  janice        20       67     90       45\n",
      "4   peter        30       56     45       65\n",
      "5    prem        90       45     45       34\n",
      "6  carrol        50       90     45       23\n",
      "  student  language  science  maths  history  sum  max  min  average\n",
      "0   kumar        90       56     34       34  214   90   34       53\n",
      "1   kevin        10       34     32       67  143   67   10       35\n",
      "2   sammy        90       23     12       32  157   90   12       39\n",
      "3  janice        20       67     90       45  222   90   20       55\n",
      "4   peter        30       56     45       65  196   65   30       49\n",
      "5    prem        90       45     45       34  214   90   34       53\n",
      "6  carrol        50       90     45       23  208   90   23       52\n"
     ]
    }
   ],
   "source": [
    "print('Task 23:') \n",
    "df = pandas.read_csv('abc.csv', sep=',',header=0, encoding = \"utf-8\")\n",
    "print(df.shape)\n",
    "print(df)\n",
    "\n",
    "df['sum'] = df.iloc[:,1:5].select_dtypes(include=[np.number]).sum(axis=1)\n",
    "df['max'] = df.iloc[:,1:5].select_dtypes(include=[np.number]).max(axis=1)\n",
    "df['min'] = df.iloc[:,1:5].select_dtypes(include=[np.number]).min(axis=1)\n",
    "df['average'] = df.iloc[:,1:5].select_dtypes(include=[np.number]).mean(axis=1).astype(int)\n",
    "print(df)\n"
   ]
  },
  {
   "cell_type": "code",
   "execution_count": 50,
   "metadata": {
    "tags": []
   },
   "outputs": [
    {
     "name": "stdout",
     "output_type": "stream",
     "text": [
      "Task 23:\n",
      "(7, 5)\n",
      "  student  language  science  maths  history  sum\n",
      "0   kumar        90       56     34       34  214\n",
      "1   kevin        10       34     32       67  143\n",
      "2   sammy        90       23     12       32  157\n",
      "3  janice        20       67     90       45  222\n",
      "4   peter        30       56     45       65  196\n",
      "5    prem        90       45     45       34  214\n",
      "6  carrol        50       90     45       23  208\n",
      "  student  language  science  maths  history  sum  max  min  average\n",
      "0   kumar        90       56     34       34  214   90   34       53\n",
      "1   kevin        10       34     32       67  143   67   10       35\n",
      "2   sammy        90       23     12       32  157   90   12       39\n",
      "3  janice        20       67     90       45  222   90   20       55\n",
      "4   peter        30       56     45       65  196   65   30       49\n",
      "5    prem        90       45     45       34  214   90   34       53\n",
      "6  carrol        50       90     45       23  208   90   23       52\n"
     ]
    }
   ],
   "source": [
    "print('Task 23:') \n",
    "df = pandas.read_csv('abc.csv', sep=',',header=0, encoding = \"utf-8\")\n",
    "print(df.shape)\n",
    "print(df)\n",
    "\n",
    "df1=df.copy()\n",
    "df['sum'] = df1.select_dtypes(include=[np.number]).sum(axis=1)\n",
    "df['max'] = df1.select_dtypes(include=[np.number]).max(axis=1)\n",
    "df['min'] = df1.select_dtypes(include=[np.number]).min(axis=1)\n",
    "df['average'] = df1.select_dtypes(include=[np.number]).mean(axis=1).astype(int)\n",
    "print(df)\n"
   ]
  },
  {
   "cell_type": "markdown",
   "metadata": {},
   "source": [
    "<div style=\"\">\n",
    "    <div style=\"float: left; width: 80%;\">\n",
    "        <a id=\"24\"></a>\n",
    "        <font><b>Task 24:</b></font>\n",
    "        <br><br>\n",
    "        New columns as max of other columns\n",
    "<br>float to int used\n",
    "<br>Math is considered more, so double the marks for maths\n",
    "    </div>\n",
    "    <div style=\"float: right;\">\n",
    "        <a href=\"#top\" class=\"btn btn-primary btn-sm\" role=\"button\" aria-pressed=\"true\" style=\"color:white\" data-toggle=\"popover\" title=\"go to Top\">Go to Top</a>\n",
    "    </div>\n",
    "    <br style=\"clear: left;\" />\n",
    "</div>"
   ]
  },
  {
   "cell_type": "code",
   "execution_count": 59,
   "metadata": {
    "tags": []
   },
   "outputs": [
    {
     "name": "stdout",
     "output_type": "stream",
     "text": [
      "Task 24:\n",
      "(7, 5)\n",
      "  student  language  science  maths  history  math_special\n",
      "0   kumar        90       56     34       34            45\n",
      "1   kevin        10       34     32       67            31\n",
      "2   sammy        90       23     12       32            25\n",
      "3  janice        20       67     90       45            68\n",
      "4   peter        30       56     45       65            45\n",
      "5    prem        90       45     45       34            47\n",
      "6  carrol        50       90     45       23            53\n"
     ]
    }
   ],
   "source": [
    "# 定义一个函数 apply_math_special，输入参数为 row  \n",
    "def apply_math_special(row):  \n",
    "    # 对 row 中的各列进行特定的计算，并返回计算结果  \n",
    "    return (row.maths * 2 + row.language / 2 + row.history / 3 + row.science) / 4                  \n",
    "  \n",
    "# 打印字符串 'Task 24:'  \n",
    "print('Task 24:')   \n",
    "  \n",
    "# 使用 pandas 的 read_csv 函数读取名为 'abc.csv' 的CSV文件，分隔符为逗号，编码方式为 utf-8，首行为标题行，将读取的数据赋值给 df 变量  \n",
    "df = pandas.read_csv('abc.csv', sep=',',header=0, encoding = \"utf-8\")  \n",
    "  \n",
    "# 打印 df 的形状，即行数和列数  \n",
    "print(df.shape)  \n",
    "  \n",
    "# 使用 pandas 的 apply 函数对 df 的每一行应用 apply_math_special 函数，并将结果赋值给新的列 'math_special'，最后将结果转换为整型  \n",
    "df['math_special'] = df.apply(apply_math_special, axis=1).astype(int)  \n",
    "  \n",
    "# 打印 df 的内容  \n",
    "print(df)"
   ]
  },
  {
   "cell_type": "markdown",
   "metadata": {},
   "source": [
    "<div style=\"\">\n",
    "    <div style=\"float: left; width: 80%;\">\n",
    "        <a id=\"25\"></a>\n",
    "        <font><b>Task 25:</b></font>\n",
    "        <br><br>\n",
    "        New columns as max of other columns\n",
    "<br>35 marks considered as pass \n",
    "<br>If the student fails in math, consider fail\n",
    "<br>If the student passes in language and science, consider as pass\n",
    "    </div>\n",
    "    <div style=\"float: right;\">\n",
    "        <a href=\"#top\" class=\"btn btn-primary btn-sm\" role=\"button\" aria-pressed=\"true\" style=\"color:white\" data-toggle=\"popover\" title=\"go to Top\">Go to Top</a>\n",
    "    </div>\n",
    "    <br style=\"clear: left;\" />\n",
    "</div>"
   ]
  },
  {
   "cell_type": "code",
   "execution_count": 61,
   "metadata": {
    "tags": []
   },
   "outputs": [
    {
     "name": "stdout",
     "output_type": "stream",
     "text": [
      "Task 25:\n",
      "(7, 5)\n",
      "  student  language  science  maths  history pass_one\n",
      "0   kumar        90       56     34       34     Pass\n",
      "1   kevin        10       34     32       67     Fail\n",
      "2   sammy        90       23     12       32     Fail\n",
      "3  janice        20       67     90       45     Pass\n",
      "4   peter        30       56     45       65     Pass\n",
      "5    prem        90       45     45       34     Pass\n",
      "6  carrol        50       90     45       23     Pass\n"
     ]
    }
   ],
   "source": [
    "def pass_one_subject(row):\n",
    "    if(row.maths > 34):\n",
    "        return 'Pass'\n",
    "    if(row.language > 34 and row.science > 34):\n",
    "        return 'Pass'\n",
    "    \n",
    "    return 'Fail'                \n",
    "\n",
    "print('Task 25:') \n",
    "df = pandas.read_csv('abc.csv', sep=',',header=0, encoding = \"utf-8\")\n",
    "print(df.shape)   \n",
    "\n",
    "df['pass_one'] = df.apply(pass_one_subject, axis=1)\n",
    "print(df)"
   ]
  },
  {
   "cell_type": "markdown",
   "metadata": {},
   "source": [
    "<div style=\"\">\n",
    "    <div style=\"float: left; width: 80%;\">\n",
    "        <a id=\"26\"></a>\n",
    "        <font><b>Task 26:</b></font>\n",
    "        <br><br>\n",
    "        Fill with average\n",
    "    </div>\n",
    "    <div style=\"float: right;\">\n",
    "        <a href=\"#top\" class=\"btn btn-primary btn-sm\" role=\"button\" aria-pressed=\"true\" style=\"color:white\" data-toggle=\"popover\" title=\"go to Top\">Go to Top</a>\n",
    "    </div>\n",
    "    <br style=\"clear: left;\" />\n",
    "</div> "
   ]
  },
  {
   "cell_type": "code",
   "execution_count": 66,
   "metadata": {
    "tags": []
   },
   "outputs": [
    {
     "name": "stdout",
     "output_type": "stream",
     "text": [
      "Task 26:\n",
      "(7, 5)\n",
      "  student  language  science  maths  history\n",
      "0   kumar        90     56.0   34.0       34\n",
      "1   kevin        10      NaN   32.0       67\n",
      "2   sammy        90     23.0   12.0       32\n",
      "3  janice        20      NaN   90.0       45\n",
      "4   peter        30     56.0   45.0       65\n",
      "5    prem        90     45.0    NaN       34\n",
      "6  carrol        50     90.0   45.0       23\n",
      "  student  language  science  maths  history\n",
      "0   kumar        90     56.0   34.0       34\n",
      "1   kevin        10     54.0   32.0       67\n",
      "2   sammy        90     23.0   12.0       32\n",
      "3  janice        20     54.0   90.0       45\n",
      "4   peter        30     56.0   45.0       65\n",
      "5    prem        90     45.0   43.0       34\n",
      "6  carrol        50     90.0   45.0       23\n"
     ]
    }
   ],
   "source": [
    "# 打印字符串 'Task 26:'  \n",
    "print('Task 26:')   \n",
    "  \n",
    "# 使用 pandas 的 read_csv 函数读取名为 'abc2.csv' 的CSV文件，分隔符为逗号，编码方式为 utf-8，将读取的数据赋值给 df 变量  \n",
    "df = pandas.read_csv('abc2.csv', sep=',', encoding = \"utf-8\")  \n",
    "  \n",
    "# 打印 df 的形状，即行数和列数  \n",
    "print(df.shape)     \n",
    "  \n",
    "# 打印 df 的内容  \n",
    "print(df)  \n",
    "  \n",
    "# 使用 fillna 函数将 df 中所有数值类型的列的缺失值（NaN）填充为该列的平均值，并将结果赋值回 df，inplace=True 表示直接在原数据框上进行修改，而不返回新的数据框  \n",
    "df.fillna(df.select_dtypes(include=[np.number]).mean(), inplace=True)  \n",
    "  \n",
    "# 打印处理后的 df 的内容  \n",
    "print(df)"
   ]
  },
  {
   "cell_type": "markdown",
   "metadata": {},
   "source": [
    "<div style=\"\">\n",
    "    <div style=\"float: left; width: 80%;\">\n",
    "        <a id=\"27\"></a>\n",
    "        <font><b>Task 27:</b></font>\n",
    "        <br><br>\n",
    "        New columns as sum of all\n",
    "    </div>\n",
    "    <div style=\"float: right;\">\n",
    "        <a href=\"#top\" class=\"btn btn-primary btn-sm\" role=\"button\" aria-pressed=\"true\" style=\"color:white\" data-toggle=\"popover\" title=\"go to Top\">Go to Top</a>\n",
    "    </div>\n",
    "    <br style=\"clear: left;\" />\n",
    "</div> "
   ]
  },
  {
   "cell_type": "code",
   "execution_count": 68,
   "metadata": {
    "tags": []
   },
   "outputs": [
    {
     "name": "stdout",
     "output_type": "stream",
     "text": [
      "Task 27:\n",
      "          0         1         2         3         4\n",
      "0       NaN       NaN       NaN       NaN  0.109663\n",
      "1       NaN       NaN       NaN       NaN  0.340333\n",
      "2       NaN       NaN       NaN       NaN  0.148878\n",
      "3  0.336506  0.056028  0.740738  0.859413  0.890153\n",
      "4  0.485208  0.542732  0.725081  0.534733  0.056027\n",
      "5  0.237063  0.991029  0.177843  0.636491  0.500997\n",
      "6  0.330859  0.463421  0.338698  0.369271  0.202758\n",
      "7  0.415096  0.522446  0.253117  0.660503  0.118541\n",
      "8  0.349383  0.790526  0.483091  0.650124  0.961614\n",
      "9  0.153251  0.939945  0.758381  0.935156  0.410821\n",
      "          0         1         2         3         4       sum\n",
      "0       NaN       NaN       NaN       NaN  0.109663  0.109663\n",
      "1       NaN       NaN       NaN       NaN  0.340333  0.340333\n",
      "2       NaN       NaN       NaN       NaN  0.148878  0.148878\n",
      "3  0.336506  0.056028  0.740738  0.859413  0.890153  2.490304\n",
      "4  0.485208  0.542732  0.725081  0.534733  0.056027  1.315841\n",
      "5  0.237063  0.991029  0.177843  0.636491  0.500997  1.315330\n",
      "6  0.330859  0.463421  0.338698  0.369271  0.202758  0.910728\n",
      "7  0.415096  0.522446  0.253117  0.660503  0.118541  1.032162\n",
      "8  0.349383  0.790526  0.483091  0.650124  0.961614  2.094829\n",
      "9  0.153251  0.939945  0.758381  0.935156  0.410821  2.104358\n"
     ]
    }
   ],
   "source": [
    "print('Task 27:')\n",
    "df = pd.DataFrame(np.random.rand(10, 5))\n",
    "df.iloc[0:3, 0:4] = np.nan # throw in some na values\n",
    "print(df)\n",
    "df.loc[:, 'sum'] = df.iloc[:, 2:].sum(axis=1)\n",
    "print(df)"
   ]
  },
  {
   "cell_type": "markdown",
   "metadata": {},
   "source": [
    "<div style=\"\">\n",
    "    <div style=\"float: left; width: 80%;\">\n",
    "        <a id=\"28\"></a>\n",
    "        <font><b>Task 28:</b></font>\n",
    "        <br><br>\n",
    "        Unicode issue and fix\n",
    "    </div>\n",
    "    <div style=\"float: right;\">\n",
    "        <a href=\"#top\" class=\"btn btn-primary btn-sm\" role=\"button\" aria-pressed=\"true\" style=\"color:white\" data-toggle=\"popover\" title=\"go to Top\">Go to Top</a>\n",
    "    </div>\n",
    "    <br style=\"clear: left;\" />\n",
    "</div> "
   ]
  },
  {
   "cell_type": "code",
   "execution_count": 82,
   "metadata": {
    "tags": []
   },
   "outputs": [
    {
     "name": "stdout",
     "output_type": "stream",
     "text": [
      "Task 28:\n",
      "    ÿþs  Unnamed: 1  Unnamed: 2  Unnamed: 3  Unnamed: 4\n",
      "0   NaN         NaN         NaN         NaN         NaN\n",
      "1   NaN         NaN         NaN         NaN         NaN\n",
      "2   NaN         NaN         NaN         NaN         NaN\n",
      "3   NaN         NaN         NaN         NaN         NaN\n",
      "4   NaN         NaN         NaN         NaN         NaN\n",
      "5   NaN         NaN         NaN         NaN         NaN\n",
      "6   NaN         NaN         NaN         NaN         NaN\n",
      "7   NaN         NaN         NaN         NaN         NaN\n",
      "8   NaN         NaN         NaN         NaN         NaN\n",
      "9   NaN         NaN         NaN         NaN         NaN\n",
      "10  NaN         NaN         NaN         NaN         NaN\n",
      "11  NaN         NaN         NaN         NaN         NaN\n",
      "12  NaN         NaN         NaN         NaN         NaN\n",
      "13  NaN         NaN         NaN         NaN         NaN\n",
      "14  NaN         NaN         NaN         NaN         NaN\n",
      "15  NaN         NaN         NaN         NaN         NaN\n",
      "(16, 5)\n"
     ]
    }
   ],
   "source": [
    "print('Task 28:') \n",
    "df = pandas.read_csv('score.csv', sep=',',header=0, encoding = \"ISO-8859-1\")  # 解码方式不对，读取的信息不对\n",
    "print(df)\n",
    "print(df.shape) "
   ]
  },
  {
   "cell_type": "code",
   "execution_count": 87,
   "metadata": {
    "tags": []
   },
   "outputs": [
    {
     "name": "stdout",
     "output_type": "stream",
     "text": [
      "Task 28:\n",
      "  student  language  science  maths  history\n",
      "0   kumar        90       56     34       34\n",
      "1   kevin        10       34     32       67\n",
      "2   sammy        90       23     12       32\n",
      "3  janice        20       67     90       45\n",
      "4   peter        30       56     45       65\n",
      "5    prem        90       45     45       34\n",
      "6  carrol        50       90     45       23\n",
      "(7, 5)\n"
     ]
    }
   ],
   "source": [
    "# 处理一下数据，另存为utf-8\n",
    "print('Task 28:') \n",
    "df = pandas.read_csv('score1.csv', sep=',',header=0)\n",
    "print(df)\n",
    "print(df.shape) "
   ]
  },
  {
   "cell_type": "markdown",
   "metadata": {},
   "source": [
    "<div style=\"\">\n",
    "    <div style=\"float: left; width: 80%;\">\n",
    "        <a id=\"29\"></a>\n",
    "        <font><b>Task 29:</b></font>\n",
    "        <br><br>\n",
    "        Fill with average\n",
    "    </div>\n",
    "    <div style=\"float: right;\">\n",
    "        <a href=\"#top\" class=\"btn btn-primary btn-sm\" role=\"button\" aria-pressed=\"true\" style=\"color:white\" data-toggle=\"popover\" title=\"go to Top\">Go to Top</a>\n",
    "    </div>\n",
    "    <br style=\"clear: left;\" />\n",
    "</div> "
   ]
  },
  {
   "cell_type": "code",
   "execution_count": 89,
   "metadata": {
    "tags": []
   },
   "outputs": [
    {
     "name": "stdout",
     "output_type": "stream",
     "text": [
      "Task 29:\n",
      "(3, 4)\n",
      "          A         B         C         D\n",
      "0  0.184755  0.168756  0.628764  0.974130\n",
      "1  0.247848       NaN       NaN       NaN\n",
      "2  0.476764  0.535521  0.540612  0.624513\n",
      "          A         B         C         D\n",
      "0  0.184755  0.168756  0.628764  0.974130\n",
      "1  0.247848  0.352139  0.584688  0.799321\n",
      "2  0.476764  0.535521  0.540612  0.624513\n"
     ]
    }
   ],
   "source": [
    "print('Task 29:') \n",
    "df = pd.DataFrame(np.random.rand(3,4), columns=list(\"ABCD\"))\n",
    "df.iloc[1,1:]=np.nan\n",
    "print(df.shape)   \n",
    "print(df)\n",
    "df.fillna(df.mean(), inplace=True)\n",
    "\n",
    "print(df)"
   ]
  },
  {
   "cell_type": "markdown",
   "metadata": {},
   "source": [
    "<div style=\"\">\n",
    "    <div style=\"float: left; width: 80%;\">\n",
    "        <a id=\"30\"></a>\n",
    "        <font><b>Task 30:</b></font>\n",
    "        <br><br>\n",
    "        Last 4 rows\n",
    "    </div>\n",
    "    <div style=\"float: right;\">\n",
    "        <a href=\"#top\" class=\"btn btn-primary btn-sm\" role=\"button\" aria-pressed=\"true\" style=\"color:white\" data-toggle=\"popover\" title=\"go to Top\">Go to Top</a>\n",
    "    </div>\n",
    "    <br style=\"clear: left;\" />\n",
    "</div>"
   ]
  },
  {
   "cell_type": "code",
   "execution_count": 93,
   "metadata": {
    "tags": []
   },
   "outputs": [
    {
     "name": "stdout",
     "output_type": "stream",
     "text": [
      "Task 30:\n",
      "   capacity  score  length\n",
      "5         7     10      23\n",
      "6         3     20      22\n",
      "7         8     20      11\n",
      "8         2     30       2\n"
     ]
    }
   ],
   "source": [
    "print('Task 30:')  \n",
    "df = pandas.read_csv('data1.csv', sep=',') \n",
    "print(df[-4:]) # 后四行"
   ]
  },
  {
   "cell_type": "markdown",
   "metadata": {},
   "source": [
    "<div style=\"\">\n",
    "    <div style=\"float: left; width: 80%;\">\n",
    "        <a id=\"31\"></a>\n",
    "        <font><b>Task 31:</b></font>\n",
    "        <br><br>\n",
    "        Expanding Apply\n",
    "    </div>\n",
    "    <div style=\"float: right;\">\n",
    "        <a href=\"#top\" class=\"btn btn-primary btn-sm\" role=\"button\" aria-pressed=\"true\" style=\"color:white\" data-toggle=\"popover\" title=\"go to Top\">Go to Top</a>\n",
    "    </div>\n",
    "    <br style=\"clear: left;\" />\n",
    "</div> "
   ]
  },
  {
   "cell_type": "code",
   "execution_count": 99,
   "metadata": {
    "tags": []
   },
   "outputs": [
    {
     "name": "stdout",
     "output_type": "stream",
     "text": [
      "Task 31:\n",
      "0    0.01\n",
      "1    0.02\n",
      "2    0.03\n",
      "3    0.04\n",
      "4    0.05\n",
      "dtype: float64\n",
      "0    1.010000\n",
      "1    1.030200\n",
      "2    1.061106\n",
      "3    1.103550\n",
      "4    1.158728\n",
      "dtype: float64\n"
     ]
    }
   ],
   "source": [
    "print('Task 31:')\n",
    "# 创建一个pandas的Series，这个Series包含了从1到5的整数除以100.0，结果是一个浮点数的列表  \n",
    "series1 = pd.Series([i / 100.0 for i in range(1,6)])  \n",
    "  \n",
    "# 打印出series1的值  \n",
    "print(series1)  \n",
    "  \n",
    "# 定义一个函数CumRet，接收两个参数x和y，返回x乘以(1+y)的结果  \n",
    "def CumRet(x,y):  \n",
    "    return x * (1 + y)  \n",
    "\n",
    "y=1\n",
    "# 定义一个函数Red，接收一个参数x，在x上使用functools模块的reduce函数，将CumRet函数连续应用到x的每个元素上，初始值为y  \n",
    "def Red(x):  \n",
    "    return functools.reduce(CumRet,x,y)  \n",
    "  \n",
    "# 对series1进行扩展（expanding），然后对每个扩展窗口应用Red函数，结果保存在s2中  \n",
    "s2 = series1.expanding().apply(Red)  \n",
    "  \n",
    "# 打印出s2的值  \n",
    "print(s2)"
   ]
  },
  {
   "cell_type": "markdown",
   "metadata": {},
   "source": [
    "<div style=\"\">\n",
    "    <div style=\"float: left; width: 80%;\">\n",
    "        <a id=\"32\"></a>\n",
    "        <font><b>Task 32:</b></font>\n",
    "        <br><br>\n",
    "        Get 3 and 4th row\n",
    "    </div>\n",
    "    <div style=\"float: right;\">\n",
    "        <a href=\"#top\" class=\"btn btn-primary btn-sm\" role=\"button\" aria-pressed=\"true\" style=\"color:white\" data-toggle=\"popover\" title=\"go to Top\">Go to Top</a>\n",
    "    </div>\n",
    "    <br style=\"clear: left;\" />\n",
    "</div> "
   ]
  },
  {
   "cell_type": "code",
   "execution_count": 100,
   "metadata": {
    "tags": []
   },
   "outputs": [
    {
     "name": "stdout",
     "output_type": "stream",
     "text": [
      "Task 32:\n",
      "   capacity  score  length\n",
      "2         3     30      40\n",
      "3         3     40      30\n"
     ]
    }
   ],
   "source": [
    "print('Task 32:')  \n",
    "df = pandas.read_csv('data1.csv', sep=',') \n",
    "print(df[2:4])"
   ]
  },
  {
   "cell_type": "markdown",
   "metadata": {},
   "source": [
    "<div style=\"\">\n",
    "    <div style=\"float: left; width: 80%;\">\n",
    "        <a id=\"33\"></a>\n",
    "        <font><b>Task 33:</b></font>\n",
    "        <br><br>\n",
    "        Last 4th to 1st\n",
    "    </div>\n",
    "    <div style=\"float: right;\">\n",
    "        <a href=\"#top\" class=\"btn btn-primary btn-sm\" role=\"button\" aria-pressed=\"true\" style=\"color:white\" data-toggle=\"popover\" title=\"go to Top\">Go to Top</a>\n",
    "    </div>\n",
    "    <br style=\"clear: left;\" />\n",
    "</div> "
   ]
  },
  {
   "cell_type": "code",
   "execution_count": 117,
   "metadata": {
    "tags": []
   },
   "outputs": [
    {
     "name": "stdout",
     "output_type": "stream",
     "text": [
      "Task 33:\n",
      "   capacity  score  length\n",
      "0         1     10      30\n",
      "1         2     20      30\n",
      "2         3     30      40\n",
      "3         3     40      30\n",
      "4         2     30      40\n",
      "5         7     10      23\n",
      "6         3     20      22\n",
      "7         8     20      11\n",
      "8         2     30       2\n"
     ]
    }
   ],
   "source": [
    "print('Task 33:')  \n",
    "df = pandas.read_csv('data1.csv', sep=',') \n",
    "print(df)"
   ]
  },
  {
   "cell_type": "code",
   "execution_count": 119,
   "metadata": {
    "tags": []
   },
   "outputs": [
    {
     "name": "stdout",
     "output_type": "stream",
     "text": [
      "   capacity  score  length\n",
      "5         7     10      23\n",
      "6         3     20      22\n"
     ]
    }
   ],
   "source": [
    "print(df[-4:-2]) #负索引表示从尾部开始计数"
   ]
  },
  {
   "cell_type": "code",
   "execution_count": 120,
   "metadata": {
    "tags": []
   },
   "outputs": [
    {
     "name": "stdout",
     "output_type": "stream",
     "text": [
      "Empty DataFrame\n",
      "Columns: [capacity, score, length]\n",
      "Index: []\n"
     ]
    }
   ],
   "source": [
    "print(df[-4:0]) #负索引表示从尾部开始计数"
   ]
  },
  {
   "cell_type": "code",
   "execution_count": 121,
   "metadata": {
    "tags": []
   },
   "outputs": [
    {
     "name": "stdout",
     "output_type": "stream",
     "text": [
      "   capacity  score  length\n",
      "0         1     10      30\n",
      "1         2     20      30\n",
      "2         3     30      40\n",
      "3         3     40      30\n",
      "4         2     30      40\n"
     ]
    }
   ],
   "source": [
    "print(df[0:-4]) #负索引表示从尾部开始计数"
   ]
  },
  {
   "cell_type": "markdown",
   "metadata": {},
   "source": [
    "<div style=\"\">\n",
    "    <div style=\"float: left; width: 80%;\">\n",
    "        <a id=\"34\"></a>\n",
    "        <font><b>Task 34:</b></font>\n",
    "        <br><br>\n",
    "        iloc position slice\n",
    "    </div>\n",
    "    <div style=\"float: right;\">\n",
    "        <a href=\"#top\" class=\"btn btn-primary btn-sm\" role=\"button\" aria-pressed=\"true\" style=\"color:white\" data-toggle=\"popover\" title=\"go to Top\">Go to Top</a>\n",
    "    </div>\n",
    "    <br style=\"clear: left;\" />\n",
    "</div> "
   ]
  },
  {
   "cell_type": "code",
   "execution_count": 39,
   "metadata": {
    "tags": []
   },
   "outputs": [
    {
     "name": "stdout",
     "output_type": "stream",
     "text": [
      "Task 34:\n",
      "  capacity,score,length\n",
      "1               2,20,30\n",
      "2               3,30,40\n",
      "3               3,40,30\n",
      "4               2,30,40\n",
      "5               7,10,23\n",
      "6               3,20,22\n",
      "7               8,20,11\n",
      "8                2,30,2\n"
     ]
    }
   ],
   "source": [
    "print('Task 34:')  \n",
    "df = pandas.read_csv('data1.csv', sep=';') \n",
    "print(df.iloc[1:9])"
   ]
  },
  {
   "cell_type": "markdown",
   "metadata": {},
   "source": [
    "<div style=\"\">\n",
    "    <div style=\"float: left; width: 80%;\">\n",
    "        <a id=\"35\"></a>\n",
    "        <font><b>Task 35:</b></font>\n",
    "        <br><br>\n",
    "        Loc - iloc - ix - at - iat\n",
    "    </div>\n",
    "    <div style=\"float: right;\">\n",
    "        <a href=\"#top\" class=\"btn btn-primary btn-sm\" role=\"button\" aria-pressed=\"true\" style=\"color:white\" data-toggle=\"popover\" title=\"go to Top\">Go to Top</a>\n",
    "    </div>\n",
    "    <br style=\"clear: left;\" />\n",
    "</div>"
   ]
  },
  {
   "cell_type": "code",
   "execution_count": 124,
   "metadata": {
    "tags": []
   },
   "outputs": [
    {
     "name": "stdout",
     "output_type": "stream",
     "text": [
      "Task 35:\n"
     ]
    },
    {
     "data": {
      "text/html": [
       "<div>\n",
       "<style scoped>\n",
       "    .dataframe tbody tr th:only-of-type {\n",
       "        vertical-align: middle;\n",
       "    }\n",
       "\n",
       "    .dataframe tbody tr th {\n",
       "        vertical-align: top;\n",
       "    }\n",
       "\n",
       "    .dataframe thead th {\n",
       "        text-align: right;\n",
       "    }\n",
       "</style>\n",
       "<table border=\"1\" class=\"dataframe\">\n",
       "  <thead>\n",
       "    <tr style=\"text-align: right;\">\n",
       "      <th></th>\n",
       "      <th>capacity</th>\n",
       "      <th>score</th>\n",
       "      <th>length</th>\n",
       "    </tr>\n",
       "  </thead>\n",
       "  <tbody>\n",
       "    <tr>\n",
       "      <th>0</th>\n",
       "      <td>1</td>\n",
       "      <td>10</td>\n",
       "      <td>30</td>\n",
       "    </tr>\n",
       "    <tr>\n",
       "      <th>1</th>\n",
       "      <td>2</td>\n",
       "      <td>20</td>\n",
       "      <td>30</td>\n",
       "    </tr>\n",
       "    <tr>\n",
       "      <th>2</th>\n",
       "      <td>3</td>\n",
       "      <td>30</td>\n",
       "      <td>40</td>\n",
       "    </tr>\n",
       "    <tr>\n",
       "      <th>3</th>\n",
       "      <td>3</td>\n",
       "      <td>40</td>\n",
       "      <td>30</td>\n",
       "    </tr>\n",
       "    <tr>\n",
       "      <th>4</th>\n",
       "      <td>2</td>\n",
       "      <td>30</td>\n",
       "      <td>40</td>\n",
       "    </tr>\n",
       "    <tr>\n",
       "      <th>5</th>\n",
       "      <td>7</td>\n",
       "      <td>10</td>\n",
       "      <td>23</td>\n",
       "    </tr>\n",
       "    <tr>\n",
       "      <th>6</th>\n",
       "      <td>3</td>\n",
       "      <td>20</td>\n",
       "      <td>22</td>\n",
       "    </tr>\n",
       "    <tr>\n",
       "      <th>7</th>\n",
       "      <td>8</td>\n",
       "      <td>20</td>\n",
       "      <td>11</td>\n",
       "    </tr>\n",
       "    <tr>\n",
       "      <th>8</th>\n",
       "      <td>2</td>\n",
       "      <td>30</td>\n",
       "      <td>2</td>\n",
       "    </tr>\n",
       "  </tbody>\n",
       "</table>\n",
       "</div>"
      ],
      "text/plain": [
       "   capacity  score  length\n",
       "0         1     10      30\n",
       "1         2     20      30\n",
       "2         3     30      40\n",
       "3         3     40      30\n",
       "4         2     30      40\n",
       "5         7     10      23\n",
       "6         3     20      22\n",
       "7         8     20      11\n",
       "8         2     30       2"
      ]
     },
     "execution_count": 124,
     "metadata": {},
     "output_type": "execute_result"
    }
   ],
   "source": [
    "print('Task 35:')  \n",
    "df = pandas.read_csv('data1.csv', sep=',')\n",
    "df\n"
   ]
  },
  {
   "cell_type": "markdown",
   "metadata": {},
   "source": [
    "<div style=\"\">\n",
    "    <div style=\"float: left; width: 80%;\">\n",
    "        <a id=\"36\"></a>\n",
    "        <font><b>Task 36:</b></font>\n",
    "        <br><br>\n",
    "        Random data\n",
    "    </div>\n",
    "    <div style=\"float: right;\">\n",
    "        <a href=\"#top\" class=\"btn btn-primary btn-sm\" role=\"button\" aria-pressed=\"true\" style=\"color:white\" data-toggle=\"popover\" title=\"go to Top\">Go to Top</a>\n",
    "    </div>\n",
    "    <br style=\"clear: left;\" />\n",
    "</div> "
   ]
  },
  {
   "cell_type": "code",
   "execution_count": 125,
   "metadata": {
    "tags": []
   },
   "outputs": [
    {
     "name": "stdout",
     "output_type": "stream",
     "text": [
      "Task 36:\n",
      "1000\n"
     ]
    },
    {
     "data": {
      "text/html": [
       "<div>\n",
       "<style scoped>\n",
       "    .dataframe tbody tr th:only-of-type {\n",
       "        vertical-align: middle;\n",
       "    }\n",
       "\n",
       "    .dataframe tbody tr th {\n",
       "        vertical-align: top;\n",
       "    }\n",
       "\n",
       "    .dataframe thead th {\n",
       "        text-align: right;\n",
       "    }\n",
       "</style>\n",
       "<table border=\"1\" class=\"dataframe\">\n",
       "  <thead>\n",
       "    <tr style=\"text-align: right;\">\n",
       "      <th></th>\n",
       "      <th>date</th>\n",
       "      <th>rnd_1</th>\n",
       "      <th>rnd_2</th>\n",
       "      <th>rnd_3</th>\n",
       "    </tr>\n",
       "  </thead>\n",
       "  <tbody>\n",
       "    <tr>\n",
       "      <th>0</th>\n",
       "      <td>2012-04-10</td>\n",
       "      <td>5</td>\n",
       "      <td>2</td>\n",
       "      <td>17</td>\n",
       "    </tr>\n",
       "    <tr>\n",
       "      <th>1</th>\n",
       "      <td>2012-04-11</td>\n",
       "      <td>11</td>\n",
       "      <td>13</td>\n",
       "      <td>8</td>\n",
       "    </tr>\n",
       "    <tr>\n",
       "      <th>2</th>\n",
       "      <td>2012-04-12</td>\n",
       "      <td>18</td>\n",
       "      <td>1</td>\n",
       "      <td>9</td>\n",
       "    </tr>\n",
       "    <tr>\n",
       "      <th>3</th>\n",
       "      <td>2012-04-13</td>\n",
       "      <td>8</td>\n",
       "      <td>4</td>\n",
       "      <td>5</td>\n",
       "    </tr>\n",
       "    <tr>\n",
       "      <th>4</th>\n",
       "      <td>2012-04-14</td>\n",
       "      <td>9</td>\n",
       "      <td>8</td>\n",
       "      <td>9</td>\n",
       "    </tr>\n",
       "  </tbody>\n",
       "</table>\n",
       "</div>"
      ],
      "text/plain": [
       "        date  rnd_1  rnd_2  rnd_3\n",
       "0 2012-04-10      5      2     17\n",
       "1 2012-04-11     11     13      8\n",
       "2 2012-04-12     18      1      9\n",
       "3 2012-04-13      8      4      5\n",
       "4 2012-04-14      9      8      9"
      ]
     },
     "execution_count": 125,
     "metadata": {},
     "output_type": "execute_result"
    }
   ],
   "source": [
    "print('Task 36:')  \n",
    "def xrange(x):\n",
    "    return iter(range(x))\n",
    "\n",
    "rnd_1  =  [ rn.randrange ( 1 , 20 )  for  x  in  xrange ( 1000 )] \n",
    "rnd_2  =  [ rn.randrange ( 1 , 20 )  for  x  in  xrange ( 1000 )] \n",
    "rnd_3  =  [ rn.randrange ( 1 , 20 )  for  x in  xrange ( 1000 )] \n",
    "date  =  pd.date_range ( '2012-4-10' ,  '2015-1-4' )\n",
    "print(len(date))\n",
    "data  =  pd . DataFrame ({ 'date' : date ,  'rnd_1' :  rnd_1 ,  'rnd_2' :  rnd_2 ,  'rnd_3' :  rnd_3 })\n",
    "\n",
    "data.head()"
   ]
  },
  {
   "cell_type": "markdown",
   "metadata": {},
   "source": [
    "<div style=\"\">\n",
    "    <div style=\"float: left; width: 80%;\">\n",
    "        <a id=\"37\"></a>\n",
    "        <font><b>Task 37:</b></font>\n",
    "        <br><br>\n",
    "        Filter with the value comparison\n",
    "    </div>\n",
    "    <div style=\"float: right;\">\n",
    "        <a href=\"#top\" class=\"btn btn-primary btn-sm\" role=\"button\" aria-pressed=\"true\" style=\"color:white\" data-toggle=\"popover\" title=\"go to Top\">Go to Top</a>\n",
    "    </div>\n",
    "    <br style=\"clear: left;\" />\n",
    "</div> "
   ]
  },
  {
   "cell_type": "code",
   "execution_count": 126,
   "metadata": {
    "tags": []
   },
   "outputs": [
    {
     "name": "stdout",
     "output_type": "stream",
     "text": [
      "Task 37:\n",
      "          date  rnd_1  rnd_2  rnd_3\n",
      "0   2012-04-10      5      2     17\n",
      "1   2012-04-11     11     13      8\n",
      "2   2012-04-12     18      1      9\n",
      "3   2012-04-13      8      4      5\n",
      "4   2012-04-14      9      8      9\n",
      "..         ...    ...    ...    ...\n",
      "995 2014-12-31     16     10     17\n",
      "996 2015-01-01     19      2     14\n",
      "997 2015-01-02      9     18     12\n",
      "998 2015-01-03     17      2      2\n",
      "999 2015-01-04      2     14     18\n",
      "\n",
      "[1000 rows x 4 columns]\n"
     ]
    }
   ],
   "source": [
    "print('Task 37:')\n",
    "below_20 = data[data['rnd_1'] < 20]    \n",
    "print(below_20)"
   ]
  },
  {
   "cell_type": "markdown",
   "metadata": {},
   "source": [
    "<div style=\"\">\n",
    "    <div style=\"float: left; width: 80%;\">\n",
    "        <a id=\"38\"></a>\n",
    "        <font><b>Task 38:</b></font>\n",
    "        <br><br>\n",
    "        Filter between 5 and 10 on col 1\n",
    "    </div>\n",
    "    <div style=\"float: right;\">\n",
    "        <a href=\"#top\" class=\"btn btn-primary btn-sm\" role=\"button\" aria-pressed=\"true\" style=\"color:white\" data-toggle=\"popover\" title=\"go to Top\">Go to Top</a>\n",
    "    </div>\n",
    "    <br style=\"clear: left;\" />\n",
    "</div> "
   ]
  },
  {
   "cell_type": "code",
   "execution_count": 127,
   "metadata": {
    "tags": []
   },
   "outputs": [
    {
     "name": "stdout",
     "output_type": "stream",
     "text": [
      "Task 38:\n",
      "1000\n"
     ]
    }
   ],
   "source": [
    "print('Task 38:') \n",
    "def xrange(x):\n",
    "    return iter(range(x))\n",
    "rnd_1  =  [ rn.randrange ( 1 , 20 )  for  x  in  xrange ( 1000 )] \n",
    "rnd_2  =  [ rn.randrange ( 1 , 20 )  for  x  in  xrange ( 1000 )] \n",
    "rnd_3  =  [ rn.randrange ( 1 , 20 )  for  x in  xrange ( 1000 )] \n",
    "date  =  pd . date_range ( '2012-4-10' ,  '2015-1-4' )\n",
    "print(len(date))\n",
    "data  =  pd . DataFrame ({ 'date' : date ,  'rnd_1' :  rnd_1 ,  'rnd_2' :  rnd_2 ,  'rnd_3' :  rnd_3 })\n",
    "below_20 = data[data['rnd_1'] < 20]\n",
    "ten_to_20 = data[(data['rnd_1'] >= 5) & (data['rnd_1'] < 10)]\n",
    "#print(ten_to_20)"
   ]
  },
  {
   "cell_type": "markdown",
   "metadata": {},
   "source": [
    "<div style=\"\">\n",
    "    <div style=\"float: left; width: 80%;\">\n",
    "        <a id=\"39\"></a>\n",
    "        <font><b>Task 39:</b></font>\n",
    "        <br><br>\n",
    "        Filter between 15 to 20\n",
    "    </div>\n",
    "    <div style=\"float: right;\">\n",
    "        <a href=\"#top\" class=\"btn btn-primary btn-sm\" role=\"button\" aria-pressed=\"true\" style=\"color:white\" data-toggle=\"popover\" title=\"go to Top\">Go to Top</a>\n",
    "    </div>\n",
    "    <br style=\"clear: left;\" />\n",
    "</div> "
   ]
  },
  {
   "cell_type": "code",
   "execution_count": 128,
   "metadata": {
    "tags": []
   },
   "outputs": [
    {
     "name": "stdout",
     "output_type": "stream",
     "text": [
      "Task 39:\n",
      "         date  rnd_1  rnd_2  rnd_3\n",
      "3  2018-08-04     19     12      6\n",
      "7  2018-08-08     19     18     12\n",
      "8  2018-08-09     15     15      2\n",
      "11 2018-08-12     15      8      8\n"
     ]
    }
   ],
   "source": [
    "print('Task 39:')      \n",
    "date  =  pd . date_range ( '2018-08-01' ,  '2018-08-15' )\n",
    "date_count = len(date)\n",
    "\n",
    "def fill_rand(start, end, count):\n",
    "    return [rn.randrange(1, 20 ) for x in xrange( count )]\n",
    "\n",
    "rnd_1 = fill_rand(1, 20, date_count) \n",
    "rnd_2 = fill_rand(1, 20, date_count) \n",
    "rnd_3 = fill_rand(1, 20, date_count)\n",
    "#print(len(date))\n",
    "data  =  pd . DataFrame ({ 'date' : date ,  'rnd_1' :  rnd_1 ,  'rnd_2' :  rnd_2 ,  'rnd_3' :  rnd_3 })\n",
    "#print(len(date))\n",
    "ten_to_20 = data[(data['rnd_1'] >= 15) & (data['rnd_1'] < 20)]\n",
    "print(ten_to_20)"
   ]
  },
  {
   "cell_type": "markdown",
   "metadata": {},
   "source": [
    "<div style=\"\">\n",
    "    <div style=\"float: left; width: 80%;\">\n",
    "        <a id=\"40\"></a>\n",
    "        <font><b>Task 40:</b></font>\n",
    "        <br><br>\n",
    "        15 to 33\n",
    "    </div>\n",
    "    <div style=\"float: right;\">\n",
    "        <a href=\"#top\" class=\"btn btn-primary btn-sm\" role=\"button\" aria-pressed=\"true\" style=\"color:white\" data-toggle=\"popover\" title=\"go to Top\">Go to Top</a>\n",
    "    </div>\n",
    "    <br style=\"clear: left;\" />\n",
    "</div>"
   ]
  },
  {
   "cell_type": "code",
   "execution_count": 129,
   "metadata": {
    "tags": []
   },
   "outputs": [
    {
     "name": "stdout",
     "output_type": "stream",
     "text": [
      "Task 40:\n",
      "         date  rnd_1  rnd_2  rnd_3\n",
      "0  2018-08-01     18      4     13\n",
      "4  2018-08-05     15      3     13\n",
      "7  2018-08-08     19     15      7\n",
      "9  2018-08-10     18     12      2\n",
      "12 2018-08-13     18      5      2\n"
     ]
    }
   ],
   "source": [
    "print('Task 40:')      \n",
    "date  =  pd . date_range ( '2018-08-01' ,  '2018-08-15' )\n",
    "date_count = len(date)\n",
    "\n",
    "def fill_rand(start, end, count):\n",
    "    return [rn.randrange(1, 20 ) for x in xrange( count )]\n",
    "\n",
    "rnd_1 = fill_rand(1, 20, date_count) \n",
    "rnd_2 = fill_rand(1, 20, date_count) \n",
    "rnd_3 = fill_rand(1, 20, date_count)\n",
    "\n",
    "data  =  pd . DataFrame ({ 'date' : date ,  'rnd_1' :  rnd_1 ,  'rnd_2' :  rnd_2 ,  'rnd_3' :  rnd_3 })\n",
    "\n",
    "ten_to_20 = data[(data['rnd_1'] >= 15) & (data['rnd_1'] < 33)]\n",
    "print(ten_to_20)"
   ]
  },
  {
   "cell_type": "markdown",
   "metadata": {},
   "source": [
    "<div style=\"\">\n",
    "    <div style=\"float: left; width: 80%;\">\n",
    "        <a id=\"41\"></a>\n",
    "        <font><b>Task 41:</b></font>\n",
    "        <br><br>\n",
    "        Custom method and xrnage on dataframe\n",
    "    </div>\n",
    "    <div style=\"float: right;\">\n",
    "        <a href=\"#top\" class=\"btn btn-primary btn-sm\" role=\"button\" aria-pressed=\"true\" style=\"color:white\" data-toggle=\"popover\" title=\"go to Top\">Go to Top</a>\n",
    "    </div>\n",
    "    <br style=\"clear: left;\" />\n",
    "</div> "
   ]
  },
  {
   "cell_type": "code",
   "execution_count": 130,
   "metadata": {
    "tags": []
   },
   "outputs": [
    {
     "name": "stdout",
     "output_type": "stream",
     "text": [
      "Task 41:\n",
      "   rnd_2       date\n",
      "2      3 2018-08-03\n",
      "3     17 2018-08-04\n",
      "4     11 2018-08-05\n"
     ]
    }
   ],
   "source": [
    "print('Task 41:')  \n",
    "date  =  pd . date_range ( '2018-08-01' ,  '2018-08-15' )\n",
    "date_count = len(date)\n",
    "\n",
    "def xrange(x):\n",
    "    return iter(range(x))\n",
    "\n",
    "def fill_rand(start, end, count):\n",
    "    return [rn.randrange(1, 20 ) for x in xrange( count )]\n",
    "\n",
    "rnd_1 = fill_rand(1, 20, date_count) \n",
    "rnd_2 = fill_rand(1, 20, date_count) \n",
    "rnd_3 = fill_rand(1, 20, date_count)\n",
    "\n",
    "data  =  pd . DataFrame ({ 'date' : date ,  'rnd_1' :  rnd_1 ,  'rnd_2' :  rnd_2 ,  'rnd_3' :  rnd_3 })\n",
    "filter_loc = data.loc[ 2 : 4 ,  [ 'rnd_2' ,  'date' ]]\n",
    "print(filter_loc)"
   ]
  },
  {
   "cell_type": "markdown",
   "metadata": {},
   "source": [
    "<div style=\"\">\n",
    "    <div style=\"float: left; width: 80%;\">\n",
    "        <a id=\"42\"></a>\n",
    "        <font><b>Task 42:</b></font>\n",
    "        <br><br>\n",
    "        Set index with date column\n",
    "    </div>\n",
    "    <div style=\"float: right;\">\n",
    "        <a href=\"#top\" class=\"btn btn-primary btn-sm\" role=\"button\" aria-pressed=\"true\" style=\"color:white\" data-toggle=\"popover\" title=\"go to Top\">Go to Top</a>\n",
    "    </div>\n",
    "    <br style=\"clear: left;\" />\n",
    "</div> "
   ]
  },
  {
   "cell_type": "code",
   "execution_count": 131,
   "metadata": {
    "tags": []
   },
   "outputs": [
    {
     "name": "stdout",
     "output_type": "stream",
     "text": [
      "Task 42:\n",
      "            rnd_1  rnd_2  rnd_3\n",
      "date                           \n",
      "2018-08-01      1     17      1\n",
      "2018-08-02     15      4      6\n",
      "2018-08-03      5      3     12\n",
      "2018-08-04      4     17      1\n",
      "2018-08-05     13     11      1\n"
     ]
    }
   ],
   "source": [
    "print('Task 42:')\n",
    "date_date = data.set_index( 'date' ) \n",
    "print(date_date.head())"
   ]
  },
  {
   "cell_type": "markdown",
   "metadata": {},
   "source": [
    "<div style=\"\">\n",
    "    <div style=\"float: left; width: 80%;\">\n",
    "        <a id=\"43\"></a>\n",
    "        <font><b>Task 43:</b></font>\n",
    "        <br><br>\n",
    "        Change columns based on other columns\n",
    "    </div>\n",
    "    <div style=\"float: right;\">\n",
    "        <a href=\"#top\" class=\"btn btn-primary btn-sm\" role=\"button\" aria-pressed=\"true\" style=\"color:white\" data-toggle=\"popover\" title=\"go to Top\">Go to Top</a>\n",
    "    </div>\n",
    "    <br style=\"clear: left;\" />\n",
    "</div> "
   ]
  },
  {
   "cell_type": "code",
   "execution_count": 132,
   "metadata": {
    "tags": []
   },
   "outputs": [
    {
     "name": "stdout",
     "output_type": "stream",
     "text": [
      "Task 43:\n",
      "   a  b   c\n",
      "0  1  5  11\n",
      "1  2  8  12\n",
      "2  3  7  13\n",
      "3  4  6  14\n",
      "changing on one column\n",
      "   a  b   c\n",
      "0  1  5  11\n",
      "1  2  9  12\n",
      "2  3  9  13\n",
      "3  4  9  14\n"
     ]
    }
   ],
   "source": [
    "print('Task 43:') \n",
    "df = pd.DataFrame({\n",
    "    'a' : [1,2,3,4], \n",
    "    'b' : [5,8,7,6],\n",
    "    'c' : [11,12,13,14]\n",
    "})\n",
    "print(df) \n",
    "\n",
    "print('changing on one column')\n",
    "# Change columns\n",
    "df.loc[df.a >= 2,'b'] = 9\n",
    "print(df)"
   ]
  },
  {
   "cell_type": "markdown",
   "metadata": {},
   "source": [
    "<div style=\"\">\n",
    "    <div style=\"float: left; width: 80%;\">\n",
    "        <a id=\"44\"></a>\n",
    "        <font><b>Task 44:</b></font>\n",
    "        <br><br>\n",
    "        Change multiple columns based on one column values\n",
    "    </div>\n",
    "    <div style=\"float: right;\">\n",
    "        <a href=\"#top\" class=\"btn btn-primary btn-sm\" role=\"button\" aria-pressed=\"true\" style=\"color:white\" data-toggle=\"popover\" title=\"go to Top\">Go to Top</a>\n",
    "    </div>\n",
    "    <br style=\"clear: left;\" />\n",
    "</div> "
   ]
  },
  {
   "cell_type": "code",
   "execution_count": 133,
   "metadata": {
    "tags": []
   },
   "outputs": [
    {
     "name": "stdout",
     "output_type": "stream",
     "text": [
      "Task 44:\n",
      "changing on multipe columns\n",
      "   a   b   c\n",
      "0  1   5  11\n",
      "1  2   9  12\n",
      "2  3  45  45\n",
      "3  4  45  45\n"
     ]
    }
   ],
   "source": [
    "print('Task 44:')  \n",
    "print('changing on multipe columns')\n",
    "df.loc[df.a > 2,['b', 'c']] = 45\n",
    "print(df)"
   ]
  },
  {
   "cell_type": "markdown",
   "metadata": {},
   "source": [
    "<div style=\"\">\n",
    "    <div style=\"float: left; width: 80%;\">\n",
    "        <a id=\"45\"></a>\n",
    "        <font><b>Task 45:</b></font>\n",
    "        <br><br>\n",
    "        Pandas Mask\n",
    "    </div>\n",
    "    <div style=\"float: right;\">\n",
    "        <a href=\"#top\" class=\"btn btn-primary btn-sm\" role=\"button\" aria-pressed=\"true\" style=\"color:white\" data-toggle=\"popover\" title=\"go to Top\">Go to Top</a>\n",
    "    </div>\n",
    "    <br style=\"clear: left;\" />\n",
    "</div>"
   ]
  },
  {
   "cell_type": "code",
   "execution_count": 136,
   "metadata": {
    "tags": []
   },
   "outputs": [
    {
     "name": "stdout",
     "output_type": "stream",
     "text": [
      "Task 45:\n",
      "   a   b   c\n",
      "0  1   5  11\n",
      "1  2   9  12\n",
      "2  3  45  45\n",
      "3  4  45  45\n",
      "      a      b      c\n",
      "0  True  False   True\n",
      "1  True  False  False\n",
      "2  True  False   True\n",
      "3  True  False  False\n",
      "   a     b     c\n",
      "0  1 -1000    11\n",
      "1  2 -1000 -1000\n",
      "2  3 -1000    45\n",
      "3  4 -1000 -1000\n"
     ]
    }
   ],
   "source": [
    "print('Task 45:')  \n",
    "print(df)\n",
    "df_mask = pd.DataFrame({\n",
    "    'a' : [True] * 4, \n",
    "    'b' : [False] * 4,\n",
    "    'c' : [True, False] * 2\n",
    "})\n",
    "print(df_mask)\n",
    "print(df.where(df_mask,-1000))"
   ]
  },
  {
   "cell_type": "markdown",
   "metadata": {},
   "source": [
    "<div style=\"\">\n",
    "    <div style=\"float: left; width: 80%;\">\n",
    "        <a id=\"46\"></a>\n",
    "        <font><b>Task 46:</b></font>\n",
    "        <br><br>\n",
    "        Check high or low comparing the column against 5\n",
    "    </div>\n",
    "    <div style=\"float: right;\">\n",
    "        <a href=\"#top\" class=\"btn btn-primary btn-sm\" role=\"button\" aria-pressed=\"true\" style=\"color:white\" data-toggle=\"popover\" title=\"go to Top\">Go to Top</a>\n",
    "    </div>\n",
    "    <br style=\"clear: left;\" />\n",
    "</div>"
   ]
  },
  {
   "cell_type": "code",
   "execution_count": 138,
   "metadata": {
    "tags": []
   },
   "outputs": [
    {
     "name": "stdout",
     "output_type": "stream",
     "text": [
      "Task 46:\n",
      "   a   b   c logic\n",
      "0  1   5  11   low\n",
      "1  2   9  12   low\n",
      "2  3  45  45   low\n",
      "3  4  45  45   low\n",
      "   a   b   c logic\n",
      "0  1   5  11   low\n",
      "1  2   9  12  high\n",
      "2  3  45  45  high\n",
      "3  4  45  45  high\n"
     ]
    }
   ],
   "source": [
    "print('Task 46:')\n",
    "print(df)  \n",
    "df['logic'] = np.where(df['b'] > 5, 'high', 'low')\n",
    "print(df)"
   ]
  },
  {
   "cell_type": "markdown",
   "metadata": {},
   "source": [
    "<div style=\"\">\n",
    "    <div style=\"float: left; width: 80%;\">\n",
    "        <a id=\"47\"></a>\n",
    "        <font><b>Task 47:</b></font>\n",
    "        <br><br>\n",
    "        Student Marks (Pass or Fail)\n",
    "    </div>\n",
    "    <div style=\"float: right;\">\n",
    "        <a href=\"#top\" class=\"btn btn-primary btn-sm\" role=\"button\" aria-pressed=\"true\" style=\"color:white\" data-toggle=\"popover\" title=\"go to Top\">Go to Top</a>\n",
    "    </div>\n",
    "    <br style=\"clear: left;\" />\n",
    "</div>"
   ]
  },
  {
   "cell_type": "code",
   "execution_count": 139,
   "metadata": {
    "tags": []
   },
   "outputs": [
    {
     "name": "stdout",
     "output_type": "stream",
     "text": [
      "Task 47:\n",
      "   Language  Math  Science\n",
      "0        60    90       45\n",
      "1        45    80       90\n",
      "2        78    23       95\n",
      "3         4    60       20\n",
      "   Language  Math  Science language_grade math_grade science_grade\n",
      "0        60    90       45           Pass       Pass          Fail\n",
      "1        45    80       90           Fail       Pass          Pass\n",
      "2        78    23       95           Pass       Fail          Pass\n",
      "3         4    60       20           Fail       Pass          Fail\n"
     ]
    }
   ],
   "source": [
    "print('Task 47:')\n",
    "marks_df = pd.DataFrame({\n",
    "    'Language' : [60, 45, 78, 4], \n",
    "    'Math' : [90, 80, 23, 60],\n",
    "    'Science' : [45, 90, 95, 20]\n",
    "});\n",
    "print(marks_df)\n",
    "marks_df['language_grade'] = np.where(marks_df['Language'] >= 50, 'Pass', 'Fail')\n",
    "marks_df['math_grade'] = np.where(marks_df['Math'] >= 50, 'Pass', 'Fail')\n",
    "marks_df['science_grade'] = np.where(marks_df['Science'] >= 50, 'Pass', 'Fail')\n",
    "print(marks_df)"
   ]
  },
  {
   "cell_type": "markdown",
   "metadata": {},
   "source": [
    "<div style=\"\">\n",
    "    <div style=\"float: left; width: 80%;\">\n",
    "        <a id=\"48\"></a>\n",
    "        <font><b>Task 48:</b></font>\n",
    "        <br><br>\n",
    "        Get passed grades\n",
    "    </div>\n",
    "    <div style=\"float: right;\">\n",
    "        <a href=\"#top\" class=\"btn btn-primary btn-sm\" role=\"button\" aria-pressed=\"true\" style=\"color:white\" data-toggle=\"popover\" title=\"go to Top\">Go to Top</a>\n",
    "    </div>\n",
    "    <br style=\"clear: left;\" />\n",
    "</div>"
   ]
  },
  {
   "cell_type": "code",
   "execution_count": 140,
   "metadata": {
    "tags": []
   },
   "outputs": [
    {
     "name": "stdout",
     "output_type": "stream",
     "text": [
      "Task 48:\n",
      "   Language  Math  Science\n",
      "0        60    90       45\n",
      "1        45    80       90\n",
      "2        78    23       95\n",
      "3         4    60       20\n",
      "   Language  Math  Science\n",
      "0        60    90       45\n",
      "2        78    23       95\n"
     ]
    }
   ],
   "source": [
    "print('Task 48:')  \n",
    "marks_df = pd.DataFrame({\n",
    "    'Language' : [60, 45, 78, 4], \n",
    "    'Math' : [90, 80, 23, 60],\n",
    "    'Science' : [45, 90, 95, 20]\n",
    "});\n",
    "print(marks_df)\n",
    "marks_df_passed_in_language = marks_df[marks_df.Language >=50 ]\n",
    "print(marks_df_passed_in_language)"
   ]
  },
  {
   "cell_type": "markdown",
   "metadata": {},
   "source": [
    "<div style=\"\">\n",
    "    <div style=\"float: left; width: 80%;\">\n",
    "        <a id=\"49\"></a>\n",
    "        <font><b>Task 49:</b></font>\n",
    "        <br><br>\n",
    "        Students passed in Language and Math\n",
    "    </div>\n",
    "    <div style=\"float: right;\">\n",
    "        <a href=\"#top\" class=\"btn btn-primary btn-sm\" role=\"button\" aria-pressed=\"true\" style=\"color:white\" data-toggle=\"popover\" title=\"go to Top\">Go to Top</a>\n",
    "    </div>\n",
    "    <br style=\"clear: left;\" />\n",
    "</div> "
   ]
  },
  {
   "cell_type": "code",
   "execution_count": 54,
   "metadata": {
    "tags": []
   },
   "outputs": [
    {
     "name": "stdout",
     "output_type": "stream",
     "text": [
      "Task 49:\n",
      "   Language  Math  Science\n",
      "0        60    90       45\n"
     ]
    }
   ],
   "source": [
    "print('Task 49:')  \n",
    "marks_df_passed_in_lang_math = marks_df[(marks_df.Language >=50) & (marks_df.Math >= 50)]\n",
    "print(marks_df_passed_in_lang_math)"
   ]
  },
  {
   "cell_type": "markdown",
   "metadata": {},
   "source": [
    "<div style=\"\">\n",
    "    <div style=\"float: left; width: 80%;\">\n",
    "        <a id=\"50\"></a>\n",
    "        <font><b>Task 50:</b></font>\n",
    "        <br><br>\n",
    "        Students passed in Language and Science\n",
    "    </div>\n",
    "    <div style=\"float: right;\">\n",
    "        <a href=\"#top\" class=\"btn btn-primary btn-sm\" role=\"button\" aria-pressed=\"true\" style=\"color:white\" data-toggle=\"popover\" title=\"go to Top\">Go to Top</a>\n",
    "    </div>\n",
    "    <br style=\"clear: left;\" />\n",
    "</div>"
   ]
  },
  {
   "cell_type": "code",
   "execution_count": 55,
   "metadata": {
    "tags": []
   },
   "outputs": [
    {
     "name": "stdout",
     "output_type": "stream",
     "text": [
      "Task 50:\n",
      "   Language  Math  Science\n",
      "2        78    23       95\n"
     ]
    }
   ],
   "source": [
    "print('Task 50:')  \n",
    "marks_df_passed_in_lang_and_sc = marks_df.loc[(marks_df.Language >=50) & (marks_df.Science >= 50)]\n",
    "print(marks_df_passed_in_lang_and_sc)"
   ]
  },
  {
   "cell_type": "markdown",
   "metadata": {},
   "source": [
    "<div style=\"\">\n",
    "    <div style=\"float: left; width: 80%;\">\n",
    "        <a id=\"51\"></a>\n",
    "        <font><b>Task 51:</b></font>\n",
    "        <br><br>\n",
    "        Loc with Label oriented slicing\n",
    "<br>possible error:\n",
    "<br>pandas.errors.UnsortedIndexError\n",
    "    </div>\n",
    "    <div style=\"float: right;\">\n",
    "        <a href=\"#top\" class=\"btn btn-primary btn-sm\" role=\"button\" aria-pressed=\"true\" style=\"color:white\" data-toggle=\"popover\" title=\"go to Top\">Go to Top</a>\n",
    "    </div>\n",
    "    <br style=\"clear: left;\" />\n",
    "</div> "
   ]
  },
  {
   "cell_type": "code",
   "execution_count": 142,
   "metadata": {
    "tags": []
   },
   "outputs": [
    {
     "name": "stdout",
     "output_type": "stream",
     "text": [
      "Task 51:\n",
      "         age  movies  awards\n",
      "dhanush   31      51      42\n",
      "simbu     23      23      12\n",
      "kamal     65      87       4\n",
      "vikram    50     200      78\n"
     ]
    }
   ],
   "source": [
    "print('Task 51:')\n",
    "stars = {\n",
    "    'age' : [31, 23, 65, 50],\n",
    "    'movies' : [51, 23, 87, 200],\n",
    "    'awards' : [42, 12, 4, 78]\n",
    "    }\n",
    "star_names = ['dhanush', 'simbu', 'kamal', 'vikram']\n",
    "stars_df = pd.DataFrame(data=stars, index=[star_names])\n",
    "print(stars_df)"
   ]
  },
  {
   "cell_type": "markdown",
   "metadata": {},
   "source": [
    "<div style=\"\">\n",
    "    <div style=\"float: left; width: 80%;\">\n",
    "        <a id=\"52\"></a>\n",
    "        <font><b>Task 52:</b></font>\n",
    "        <br><br>\n",
    "        iloc with positional slicing\n",
    "    </div>\n",
    "    <div style=\"float: right;\">\n",
    "        <a href=\"#top\" class=\"btn btn-primary btn-sm\" role=\"button\" aria-pressed=\"true\" style=\"color:white\" data-toggle=\"popover\" title=\"go to Top\">Go to Top</a>\n",
    "    </div>\n",
    "    <br style=\"clear: left;\" />\n",
    "</div> "
   ]
  },
  {
   "cell_type": "code",
   "execution_count": 143,
   "metadata": {
    "tags": []
   },
   "outputs": [
    {
     "name": "stdout",
     "output_type": "stream",
     "text": [
      "Task 52:\n",
      "       age  movies  awards\n",
      "simbu   23      23      12\n",
      "kamal   65      87       4\n"
     ]
    }
   ],
   "source": [
    "print('Task 52:')  \n",
    "print(stars_df.iloc[1:3]) # 1-3行"
   ]
  },
  {
   "cell_type": "markdown",
   "metadata": {},
   "source": [
    "<div style=\"\">\n",
    "    <div style=\"float: left; width: 80%;\">\n",
    "        <a id=\"53\"></a>\n",
    "        <font><b>Task 53:</b></font>\n",
    "        <br><br>\n",
    "        Label between numbers\n",
    "    </div>\n",
    "    <div style=\"float: right;\">\n",
    "        <a href=\"#top\" class=\"btn btn-primary btn-sm\" role=\"button\" aria-pressed=\"true\" style=\"color:white\" data-toggle=\"popover\" title=\"go to Top\">Go to Top</a>\n",
    "    </div>\n",
    "    <br style=\"clear: left;\" />\n",
    "</div>"
   ]
  },
  {
   "cell_type": "markdown",
   "metadata": {},
   "source": [
    "loc和iloc都是Pandas库中的数据选择方法，它们的区别主要体现在以下两个方面：\n",
    "\n",
    "    索引方式：loc使用标签（即行列名）来索引数据，而iloc使用整数位置来索引数据。因此，loc在定位数据时依赖于列的中文名和行的索引，而iloc仅依赖于行和列的整数位置。\n",
    "    行列标签类型：loc可以接受字符型的标签来索引数据，但行列名为数字时，它也可能使用数字来索引，但这里的数字不一定从0开始编号，是对应具体行列名的数字。而iloc则仅能使用顺序数字来索引数据，不能使用字符型的标签来索引。\n",
    "\n",
    "总结起来，loc和iloc的主要区别在于它们索引数据的方式和行列标签类型的使用上。loc更依赖于行列的标签，而iloc更依赖于数据在DataFrame中的位置。"
   ]
  },
  {
   "cell_type": "code",
   "execution_count": 144,
   "metadata": {
    "tags": []
   },
   "outputs": [
    {
     "name": "stdout",
     "output_type": "stream",
     "text": [
      "Task 53:\n",
      "    one  two\n",
      "12   10    2\n",
      "14   50    6\n",
      "16   80   56\n",
      "18   40   45\n",
      "label between 12 and 16\n",
      "    one  two\n",
      "12   10    2\n",
      "14   50    6\n",
      "16   80   56\n",
      "index between 1 and 3\n",
      "    one  two\n",
      "14   50    6\n",
      "16   80   56\n"
     ]
    }
   ],
   "source": [
    "print('Task 53:')  \n",
    "# 创建一个Pandas DataFrame，DataFrame是Pandas中的一个二维标签化数据结构  \n",
    "numbers = pd.DataFrame({  \n",
    "        # 'one'是一个列名，对应的值是一个列表，这个列表包含了四个元素：10，50，80，40  \n",
    "        'one' : [10, 50, 80, 40],  \n",
    "        # 'two'是另一个列名，对应的值也是一个列表，这个列表包含了四个元素：2，6，56，45  \n",
    "        'two' : [2, 6, 56, 45]  \n",
    "    },  \n",
    "    # index参数指定了DataFrame的索引，这个索引也是一个列表，包含了四个元素：12，14，16，18  \n",
    "index = [12, 14, 16, 18])  \n",
    "  \n",
    "# 打印整个DataFrame  \n",
    "print(numbers)  \n",
    "  \n",
    "# 打印出提示信息  \n",
    "print('label between 12 and 16')  \n",
    "  \n",
    "# .loc[]方法用于通过标签（也就是索引）来选取DataFrame中的部分数据，这里选取的是索引为12到16的部分，只有有索引的时候才可以使用\n",
    "print(numbers.loc[12:16])  \n",
    "  \n",
    "# 打印出提示信息  \n",
    "print('index between 1 and 3')  \n",
    "  \n",
    "# .iloc[]方法用于通过整数位置来选取DataFrame中的部分数据，这里选取的是第一行到第三行的部分（注意，Python中的索引是从0开始的）  \n",
    "print(numbers.iloc[1:3])"
   ]
  },
  {
   "cell_type": "markdown",
   "metadata": {},
   "source": [
    "<div style=\"\">\n",
    "    <div style=\"float: left; width: 80%;\">\n",
    "        <a id=\"54\"></a>\n",
    "        <font><b>Task 54:</b></font>\n",
    "        <br><br>\n",
    "        Stars with names\n",
    "    </div>\n",
    "    <div style=\"float: right;\">\n",
    "        <a href=\"#top\" class=\"btn btn-primary btn-sm\" role=\"button\" aria-pressed=\"true\" style=\"color:white\" data-toggle=\"popover\" title=\"go to Top\">Go to Top</a>\n",
    "    </div>\n",
    "    <br style=\"clear: left;\" />\n",
    "</div> "
   ]
  },
  {
   "cell_type": "code",
   "execution_count": 151,
   "metadata": {
    "tags": []
   },
   "outputs": [
    {
     "name": "stdout",
     "output_type": "stream",
     "text": [
      "Task 54:\n",
      "         one  two\n",
      "dhanush   10    2\n",
      "simbu     50    6\n",
      "kamal     80   56\n",
      "vikram    40   45\n"
     ]
    }
   ],
   "source": [
    "print('Task 54:') \n",
    "stars = {\n",
    "    'age' : [31, 23, 65, 50],\n",
    "    'movies' : [51, 23, 87, 200],\n",
    "    'awards' : [42, 12, 4, 78]\n",
    "    }\n",
    "star_names = ['dhanush', 'simbu', 'kamal', 'vikram']\n",
    "stars_df = pd.DataFrame(data=stars, index=[star_names])\n",
    "numbers = pd.DataFrame({\n",
    "        'one' : [10, 50, 80, 40],\n",
    "        'two' : [2, 6, 56, 45]\n",
    "    },\n",
    "    # index =  [12, 14, 16, 18])\n",
    "    index= star_names)\n",
    "print(numbers)"
   ]
  },
  {
   "cell_type": "markdown",
   "metadata": {},
   "source": [
    "<div style=\"\">\n",
    "    <div style=\"float: left; width: 80%;\">\n",
    "        <a id=\"55\"></a>\n",
    "        <font><b>Task 55:</b></font>\n",
    "        <br><br>\n",
    "        Row label selection\n",
    "        <br>Age is above 25 and movies above 25\n",
    "    </div>\n",
    "    <div style=\"float: right;\">\n",
    "        <a href=\"#top\" class=\"btn btn-primary btn-sm\" role=\"button\" aria-pressed=\"true\" style=\"color:white\" data-toggle=\"popover\" title=\"go to Top\">Go to Top</a>\n",
    "    </div>\n",
    "    <br style=\"clear: left;\" />\n",
    "</div>"
   ]
  },
  {
   "cell_type": "code",
   "execution_count": 60,
   "metadata": {
    "tags": []
   },
   "outputs": [
    {
     "name": "stdout",
     "output_type": "stream",
     "text": [
      "Task 55:\n",
      "         age  movies  awards\n",
      "dhanush   31      51      42\n",
      "kamal     65      87       4\n",
      "vikram    50     200      78\n"
     ]
    }
   ],
   "source": [
    "print('Task 55:')\n",
    "\n",
    "age_movies_25 = stars_df[(stars_df.movies > 25 ) & (stars_df.age > 25)]  \n",
    "print(age_movies_25)"
   ]
  },
  {
   "cell_type": "markdown",
   "metadata": {},
   "source": [
    "<div style=\"\">\n",
    "    <div style=\"float: left; width: 80%;\">\n",
    "        <a id=\"56\"></a>\n",
    "        <font><b>Task 56:</b></font>\n",
    "        <br><br>\n",
    "        Stars in in certain ages\n",
    "    </div>\n",
    "    <div style=\"float: right;\">\n",
    "        <a href=\"#top\" class=\"btn btn-primary btn-sm\" role=\"button\" aria-pressed=\"true\" style=\"color:white\" data-toggle=\"popover\" title=\"go to Top\">Go to Top</a>\n",
    "    </div>\n",
    "    <br style=\"clear: left;\" />\n",
    "</div> "
   ]
  },
  {
   "cell_type": "code",
   "execution_count": 61,
   "metadata": {
    "tags": []
   },
   "outputs": [
    {
     "name": "stdout",
     "output_type": "stream",
     "text": [
      "Task 56:\n",
      "         age  movies  awards\n",
      "dhanush   31      51      42\n",
      "kamal     65      87       4\n"
     ]
    }
   ],
   "source": [
    "print('Task 56:')  \n",
    "custom_stars = stars_df[stars_df.age.isin([31, 65])]\n",
    "print(custom_stars)"
   ]
  },
  {
   "cell_type": "markdown",
   "metadata": {},
   "source": [
    "<div style=\"\">\n",
    "    <div style=\"float: left; width: 80%;\">\n",
    "        <a id=\"57\"></a>\n",
    "        <font><b>Task 57:</b></font>\n",
    "        <br><br>\n",
    "        inverse opeartor\n",
    "         <br>!( above one.45 and below two.50 )\n",
    "    </div>\n",
    "    <div style=\"float: right;\">\n",
    "        <a href=\"#top\" class=\"btn btn-primary btn-sm\" role=\"button\" aria-pressed=\"true\" style=\"color:white\" data-toggle=\"popover\" title=\"go to Top\">Go to Top</a>\n",
    "    </div>\n",
    "    <br style=\"clear: left;\" />\n",
    "</div> "
   ]
  },
  {
   "cell_type": "code",
   "execution_count": 62,
   "metadata": {
    "tags": []
   },
   "outputs": [
    {
     "name": "stdout",
     "output_type": "stream",
     "text": [
      "Task 57:\n",
      "    one  two\n",
      "12   10    2\n",
      "14   50    6\n",
      "16   80   56\n",
      "18   40   45\n",
      "    one  two\n",
      "12   10    2\n",
      "16   80   56\n",
      "18   40   45\n"
     ]
    }
   ],
   "source": [
    "print('Task 57:')  \n",
    "print(numbers)\n",
    "print(numbers[~( (numbers.one > 45) & (numbers.two < 50) )])"
   ]
  },
  {
   "cell_type": "markdown",
   "metadata": {},
   "source": [
    "<div style=\"\">\n",
    "    <div style=\"float: left; width: 80%;\">\n",
    "        <a id=\"58\"></a>\n",
    "        <font><b>Task 58:</b></font>\n",
    "        <br><br>\n",
    "        Apply custom function\n",
    "    </div>\n",
    "    <div style=\"float: right;\">\n",
    "        <a href=\"#top\" class=\"btn btn-primary btn-sm\" role=\"button\" aria-pressed=\"true\" style=\"color:white\" data-toggle=\"popover\" title=\"go to Top\">Go to Top</a>\n",
    "    </div>\n",
    "    <br style=\"clear: left;\" />\n",
    "</div> "
   ]
  },
  {
   "cell_type": "code",
   "execution_count": 63,
   "metadata": {
    "tags": []
   },
   "outputs": [
    {
     "name": "stdout",
     "output_type": "stream",
     "text": [
      "Task 58:\n",
      "       size   weight  adult\n",
      "animal                     \n",
      "cat       L   9.4375   True\n",
      "dog       L  12.5000   True\n",
      "fish      L   1.2500   True\n"
     ]
    }
   ],
   "source": [
    "print('Task 58:')\n",
    "def GrowUp(x):\n",
    "    avg_weight =  sum(x[x['size'] == 'series1'].weight * 1.5)\n",
    "    avg_weight += sum(x[x['size'] == 'M'].weight * 1.25)\n",
    "    avg_weight += sum(x[x['size'] == 'L'].weight)\n",
    "    avg_weight /= len(x)\n",
    "    return pd.Series(['L',avg_weight,True], index=['size', 'weight', 'adult'])\n",
    "\n",
    "animals_df = pd.DataFrame({'animal': 'cat dog cat fish dog cat cat'.split(),\n",
    "                   'size': list('SSMMMLL'),\n",
    "                   'weight': [8, 10, 11, 1, 20, 12, 12],\n",
    "                   'adult' : [False] * 5 + [True] * 2})\n",
    "\n",
    "gb = animals_df.groupby(['animal'])\n",
    "\n",
    "expected_df = gb.apply(GrowUp)\n",
    "print(expected_df)"
   ]
  },
  {
   "cell_type": "markdown",
   "metadata": {},
   "source": [
    "<div style=\"\">\n",
    "    <div style=\"float: left; width: 80%;\">\n",
    "        <a id=\"59\"></a>\n",
    "        <font><b>Task 59:</b></font>\n",
    "        <br><br>\n",
    "        Group by single column\n",
    "    </div>\n",
    "    <div style=\"float: right;\">\n",
    "        <a href=\"#top\" class=\"btn btn-primary btn-sm\" role=\"button\" aria-pressed=\"true\" style=\"color:white\" data-toggle=\"popover\" title=\"go to Top\">Go to Top</a>\n",
    "    </div>\n",
    "    <br style=\"clear: left;\" />\n",
    "</div> "
   ]
  },
  {
   "cell_type": "code",
   "execution_count": 64,
   "metadata": {
    "tags": []
   },
   "outputs": [
    {
     "name": "stdout",
     "output_type": "stream",
     "text": [
      "Task 59:\n",
      "  animal size  weight  adult\n",
      "4    dog    M      20  False\n"
     ]
    }
   ],
   "source": [
    "print('Task 59:')\n",
    "weights = animals_df.groupby(['weight']).get_group(20)  \n",
    "print(weights)"
   ]
  },
  {
   "cell_type": "markdown",
   "metadata": {},
   "source": [
    "<div style=\"\">\n",
    "    <div style=\"float: left; width: 80%;\">\n",
    "        <a id=\"60\"></a>\n",
    "        <font><b>Task 60:</b></font>\n",
    "        <br><br>\n",
    "        Creating new Columns using Applymap\n",
    "        <br>Sides & applymap\n",
    "    </div>\n",
    "    <div style=\"float: right;\">\n",
    "        <a href=\"#top\" class=\"btn btn-primary btn-sm\" role=\"button\" aria-pressed=\"true\" style=\"color:white\" data-toggle=\"popover\" title=\"go to Top\">Go to Top</a>\n",
    "    </div>\n",
    "    <br style=\"clear: left;\" />\n",
    "</div>"
   ]
  },
  {
   "cell_type": "code",
   "execution_count": 65,
   "metadata": {
    "tags": []
   },
   "outputs": [
    {
     "name": "stdout",
     "output_type": "stream",
     "text": [
      "Task 60:\n",
      "   a  b\n",
      "0  1  2\n",
      "1  1  1\n",
      "2  2  3\n",
      "3  4  4\n",
      "Index(['a', 'b'], dtype='object')\n",
      "   a  b a_side b_side\n",
      "0  1  2  North   East\n",
      "1  1  1  North  North\n",
      "2  2  3   East  South\n",
      "3  4  4   West   West\n"
     ]
    }
   ],
   "source": [
    "print('Task 60:')\n",
    "sides_df = pd.DataFrame({\n",
    "    'a' : [1, 1, 2, 4],\n",
    "    'b' : [2, 1, 3, 4]\n",
    "    })  \n",
    "print(sides_df)\n",
    "source_cols = sides_df.columns\n",
    "print(source_cols)\n",
    "new_cols = [str(x)+\"_side\" for x in source_cols]\n",
    "side_category = {\n",
    "    1 : 'North',\n",
    "    2 : 'East',\n",
    "    3 : 'South', \n",
    "    4 : 'West'\n",
    "    }\n",
    "sides_df[new_cols] = sides_df[source_cols].applymap(side_category.get)\n",
    "print(sides_df)"
   ]
  },
  {
   "cell_type": "markdown",
   "metadata": {},
   "source": [
    "<div style=\"\">\n",
    "    <div style=\"float: left; width: 80%;\">\n",
    "        <a id=\"61\"></a>\n",
    "        <font><b>Task 61:</b></font>\n",
    "        <br><br>\n",
    "        Replacing some values with mean of the rest of a group\n",
    "    </div>\n",
    "    <div style=\"float: right;\">\n",
    "        <a href=\"#top\" class=\"btn btn-primary btn-sm\" role=\"button\" aria-pressed=\"true\" style=\"color:white\" data-toggle=\"popover\" title=\"go to Top\">Go to Top</a>\n",
    "    </div>\n",
    "    <br style=\"clear: left;\" />\n",
    "</div> "
   ]
  },
  {
   "cell_type": "code",
   "execution_count": 66,
   "metadata": {
    "tags": []
   },
   "outputs": [
    {
     "name": "stdout",
     "output_type": "stream",
     "text": [
      "Task 61:\n",
      "   A  B\n",
      "0  1  1\n",
      "1  1 -1\n",
      "2  2  1\n",
      "3  2  2\n",
      "     B\n",
      "0  1.0\n",
      "1  1.0\n",
      "2  1.0\n",
      "3  2.0\n"
     ]
    }
   ],
   "source": [
    "print('Task 61:')  \n",
    "df = pd.DataFrame({'A' : [1, 1, 2, 2], 'B' : [1, -1, 1, 2]})\n",
    "print(df)\n",
    "\n",
    "gb = df.groupby('A')\n",
    "\n",
    "def replace(g):\n",
    "    mask = g < 0\n",
    "    g.loc[mask] = g[~mask].mean()\n",
    "    return g\n",
    "\n",
    "gbt = gb.transform(replace)\n",
    "\n",
    "print(gbt)"
   ]
  },
  {
   "cell_type": "markdown",
   "metadata": {},
   "source": [
    "<div style=\"\">\n",
    "    <div style=\"float: left; width: 80%;\">\n",
    "        <a id=\"62\"></a>\n",
    "        <font><b>Task 62:</b></font>\n",
    "        <br><br>\n",
    "        Students passed in Language or Science (any one subject)\n",
    "    </div>\n",
    "    <div style=\"float: right;\">\n",
    "        <a href=\"#top\" class=\"btn btn-primary btn-sm\" role=\"button\" aria-pressed=\"true\" style=\"color:white\" data-toggle=\"popover\" title=\"go to Top\">Go to Top</a>\n",
    "    </div>\n",
    "    <br style=\"clear: left;\" />\n",
    "</div> "
   ]
  },
  {
   "cell_type": "code",
   "execution_count": 67,
   "metadata": {
    "tags": []
   },
   "outputs": [
    {
     "name": "stdout",
     "output_type": "stream",
     "text": [
      "Task 62:\n",
      "   Language  Math  Science\n",
      "0        60    90       45\n",
      "1        45    80       90\n",
      "2        78    23       95\n",
      "3         4    60       20\n",
      "   Language  Math  Science\n",
      "0        60    90       45\n",
      "1        45    80       90\n",
      "2        78    23       95\n"
     ]
    }
   ],
   "source": [
    "print('Task 62:') \n",
    "marks_df = pd.DataFrame({\n",
    "    'Language' : [60, 45, 78, 4], \n",
    "    'Math' : [90, 80, 23, 60],\n",
    "    'Science' : [45, 90, 95, 20]\n",
    "});\n",
    "print(marks_df)\n",
    "marks_df_passed_in_lang_or_sc = marks_df.loc[(marks_df.Language >=50) | (marks_df.Science >= 50)]\n",
    "print(marks_df_passed_in_lang_or_sc)"
   ]
  },
  {
   "cell_type": "markdown",
   "metadata": {},
   "source": [
    "<div style=\"\">\n",
    "    <div style=\"float: left; width: 80%;\">\n",
    "        <a id=\"\"></a>\n",
    "        <font><b>Task 63:</b></font>\n",
    "        <br><br>\n",
    "        possible errors:\n",
    "        <br>TypeError: 'Series' objects are mutable, thus they cannot be hashed\n",
    "    </div>\n",
    "    <div style=\"float: right;\">\n",
    "        <a href=\"#top\" class=\"btn btn-primary btn-sm\" role=\"button\" aria-pressed=\"true\" style=\"color:white\" data-toggle=\"popover\" title=\"go to Top\">Go to Top</a>\n",
    "    </div>\n",
    "    <br style=\"clear: left;\" />\n",
    "</div> "
   ]
  },
  {
   "cell_type": "code",
   "execution_count": 68,
   "metadata": {
    "tags": []
   },
   "outputs": [
    {
     "name": "stdout",
     "output_type": "stream",
     "text": [
      "Task 63:\n",
      "   Language  Math  Science passed_one_subject\n",
      "0        60    90       45               Pass\n",
      "1        45    80       90               Fail\n",
      "2        78    23       95               Pass\n",
      "3         4    60       20               Fail\n"
     ]
    }
   ],
   "source": [
    "print('Task 63:')  \n",
    "marks_df['passed_one_subject'] = 'Fail' \n",
    "marks_df.loc[(marks_df.Language >=50) , 'passed_one_subject'] = 'Pass'\n",
    "print(marks_df)"
   ]
  },
  {
   "cell_type": "markdown",
   "metadata": {},
   "source": [
    "<div style=\"\">\n",
    "    <div style=\"float: left; width: 80%;\">\n",
    "        <a id=\"64\"></a>\n",
    "        <font><b>Task 64:</b></font>\n",
    "        <br><br>\n",
    "        argsort\n",
    "        <br>Select rows with data closest to certain value using argsort\n",
    "    </div>\n",
    "    <div style=\"float: right;\">\n",
    "        <a href=\"#top\" class=\"btn btn-primary btn-sm\" role=\"button\" aria-pressed=\"true\" style=\"color:white\" data-toggle=\"popover\" title=\"go to Top\">Go to Top</a>\n",
    "    </div>\n",
    "    <br style=\"clear: left;\" />\n",
    "</div> "
   ]
  },
  {
   "cell_type": "code",
   "execution_count": 69,
   "metadata": {
    "tags": []
   },
   "outputs": [
    {
     "name": "stdout",
     "output_type": "stream",
     "text": [
      "Task 64:\n",
      "    a   b\n",
      "0  81  26\n",
      "1  75   9\n",
      "2  16  66\n",
      "3  95  64\n",
      "4  92  10\n",
      "with argsort\n",
      "    a   b\n",
      "1  75   9\n",
      "0  81  26\n",
      "4  92  10\n",
      "3  95  64\n",
      "2  16  66\n",
      "    a   b\n",
      "1  75   9\n",
      "4  92  10\n",
      "0  81  26\n",
      "3  95  64\n",
      "2  16  66\n"
     ]
    }
   ],
   "source": [
    "print('Task 64:')  \n",
    "df = pd.DataFrame({\n",
    "    \"a\": np.random.randint(0, 100, size=(5,)), \n",
    "    \"b\": np.random.randint(0, 70, size=(5,))\n",
    "})\n",
    "print(df)\n",
    "par = 65\n",
    "print('with argsort')\n",
    "df1 = df.loc[(df.a-par).abs().argsort()]\n",
    "print(df1)\n",
    "\n",
    "print(df.loc[(df.b-2).abs().argsort()])"
   ]
  },
  {
   "cell_type": "markdown",
   "metadata": {},
   "source": [
    "<div style=\"\">\n",
    "    <div style=\"float: left; width: 80%;\">\n",
    "        <a id=\"65\"></a>\n",
    "        <font><b>Task 65:</b></font>\n",
    "        <br><br>\n",
    "        argsort with stars        \n",
    "        <br>old stars (near by 50 age) argsort\n",
    "    </div>\n",
    "    <div style=\"float: right;\">\n",
    "        <a href=\"#top\" class=\"btn btn-primary btn-sm\" role=\"button\" aria-pressed=\"true\" style=\"color:white\" data-toggle=\"popover\" title=\"go to Top\">Go to Top</a>\n",
    "    </div>\n",
    "    <br style=\"clear: left;\" />\n",
    "</div>"
   ]
  },
  {
   "cell_type": "code",
   "execution_count": 70,
   "metadata": {
    "tags": []
   },
   "outputs": [
    {
     "name": "stdout",
     "output_type": "stream",
     "text": [
      "Task 65:\n",
      "   age  movies\n",
      "1   50       3\n",
      "3   45      45\n",
      "4   65      34\n",
      "2   24      90\n",
      "5   18       2\n",
      "0   17       2\n"
     ]
    }
   ],
   "source": [
    "print('Task 65:')  \n",
    "stars = pd.DataFrame({\n",
    "    \"age\": [17, 50, 24, 45, 65, 18], \n",
    "    \"movies\": [2, 3, 90, 45, 34, 2] \n",
    "})\n",
    "print(stars.loc[(stars.age - 50).abs().argsort()])"
   ]
  },
  {
   "cell_type": "markdown",
   "metadata": {},
   "source": [
    "<div style=\"\">\n",
    "    <div style=\"float: left; width: 80%;\">\n",
    "        <a id=\"66\"></a>\n",
    "        <font><b>Task 66:</b></font>\n",
    "        <br><br>\n",
    "        Argsort with actors\n",
    "\n",
    "        <br>young stars (near by 17)\n",
    "    </div>\n",
    "    <div style=\"float: right;\">\n",
    "        <a href=\"#top\" class=\"btn btn-primary btn-sm\" role=\"button\" aria-pressed=\"true\" style=\"color:white\" data-toggle=\"popover\" title=\"go to Top\">Go to Top</a>\n",
    "    </div>\n",
    "    <br style=\"clear: left;\" />\n",
    "</div> "
   ]
  },
  {
   "cell_type": "code",
   "execution_count": 71,
   "metadata": {
    "tags": []
   },
   "outputs": [
    {
     "name": "stdout",
     "output_type": "stream",
     "text": [
      "Task 66:\n",
      "   age  movies\n",
      "0   17       2\n",
      "5   18       2\n",
      "2   24      90\n",
      "3   45      45\n",
      "1   50       3\n",
      "4   65      34\n"
     ]
    }
   ],
   "source": [
    "print('Task 66:')  \n",
    "print(stars.loc[(stars.age - 17).abs().argsort()])"
   ]
  },
  {
   "cell_type": "markdown",
   "metadata": {},
   "source": [
    "<div style=\"\">\n",
    "    <div style=\"float: left; width: 80%;\">\n",
    "        <a id=\"67\"></a>\n",
    "        <font><b>Task 67:</b></font>\n",
    "        <br><br>\n",
    "        Binary operators\n",
    "\n",
    "        <br>Stars with\n",
    "\n",
    "        <br>younger than 19 - very young\n",
    "\n",
    "        <br>more movies acted**\n",
    "    </div>\n",
    "    <div style=\"float: right;\">\n",
    "        <a href=\"#top\" class=\"btn btn-primary btn-sm\" role=\"button\" aria-pressed=\"true\" style=\"color:white\" data-toggle=\"popover\" title=\"go to Top\">Go to Top</a>\n",
    "    </div>\n",
    "    <br style=\"clear: left;\" />\n",
    "</div> "
   ]
  },
  {
   "cell_type": "code",
   "execution_count": 72,
   "metadata": {
    "tags": []
   },
   "outputs": [
    {
     "name": "stdout",
     "output_type": "stream",
     "text": [
      "Task 67:\n",
      "   age  movies\n",
      "0   17      22\n",
      "1   50      33\n",
      "2   24      90\n",
      "3   45      75\n",
      "4   65      34\n",
      "5   18       2\n",
      "Young and more movies acted\n",
      "   age  movies\n",
      "2   24      90\n"
     ]
    }
   ],
   "source": [
    "print('Task 67:')\n",
    "stars = pd.DataFrame({\n",
    "    \"age\": [17, 50, 24, 45, 65, 18], \n",
    "    \"movies\": [22, 33, 90, 75, 34, 2] \n",
    "})  \n",
    "print(stars)\n",
    "print('Young and more movies acted')\n",
    "young = stars.age < 30    \n",
    "more_movies = stars.movies > 30\n",
    "young_more = [young, more_movies]\n",
    "young_more_Criteria = functools.reduce(lambda x, y : x & y, young_more)\n",
    "print(stars[young_more_Criteria])"
   ]
  },
  {
   "cell_type": "markdown",
   "metadata": {},
   "source": [
    "<div style=\"\">\n",
    "    <div style=\"float: left; width: 80%;\">\n",
    "        <a id=\"68\"></a>\n",
    "        <font><b>Task 68:</b></font>\n",
    "        <br><br>\n",
    "        Young, Higher Salary, and Higher Position\n",
    "    </div>\n",
    "    <div style=\"float: right;\">\n",
    "        <a href=\"#top\" class=\"btn btn-primary btn-sm\" role=\"button\" aria-pressed=\"true\" style=\"color:white\" data-toggle=\"popover\" title=\"go to Top\">Go to Top</a>\n",
    "    </div>\n",
    "    <br style=\"clear: left;\" />\n",
    "</div> "
   ]
  },
  {
   "cell_type": "code",
   "execution_count": 73,
   "metadata": {
    "tags": []
   },
   "outputs": [
    {
     "name": "stdout",
     "output_type": "stream",
     "text": [
      "Task 68:\n",
      "   age  salary  grade\n",
      "0   17      75      7\n",
      "1   50      33      8\n",
      "2   24      90      9\n",
      "3   45     175      2\n",
      "4   65     134      7\n",
      "5   18      78      8\n",
      "Young, Higher Salary, and Higher Position\n",
      "   age  salary  grade\n",
      "0   17      75      7\n",
      "2   24      90      9\n",
      "5   18      78      8\n"
     ]
    }
   ],
   "source": [
    "print('Task 68:')  \n",
    "employees = pd.DataFrame({\n",
    "    \"age\": [17, 50, 24, 45, 65, 18], \n",
    "    \"salary\": [75, 33, 90, 175, 134, 78],\n",
    "    \"grade\" : [7, 8, 9, 2, 7, 8] \n",
    "})  \n",
    "print(employees)\n",
    "print('Young, Higher Salary, and Higher Position')\n",
    "young = employees.age < 30\n",
    "high_salary = employees.salary > 60\n",
    "high_position = employees.grade > 6\n",
    "young_salary_position = [young, high_salary, high_position]\n",
    "young_salary_position_Criteria = functools.reduce(lambda x, y : x & y, young_salary_position)\n",
    "print(employees[young_salary_position_Criteria])"
   ]
  },
  {
   "cell_type": "markdown",
   "metadata": {},
   "source": [
    "<div style=\"\">\n",
    "    <div style=\"float: left; width: 80%;\">\n",
    "        <a id=\"69\"></a>\n",
    "        <font><b>Task 69:</b></font>\n",
    "        <br><br>\n",
    "        Rename columns\n",
    "    </div>\n",
    "    <div style=\"float: right;\">\n",
    "        <a href=\"#top\" class=\"btn btn-primary btn-sm\" role=\"button\" aria-pressed=\"true\" style=\"color:white\" data-toggle=\"popover\" title=\"go to Top\">Go to Top</a>\n",
    "    </div>\n",
    "    <br style=\"clear: left;\" />\n",
    "</div>"
   ]
  },
  {
   "cell_type": "code",
   "execution_count": 74,
   "metadata": {
    "tags": []
   },
   "outputs": [
    {
     "name": "stdout",
     "output_type": "stream",
     "text": [
      "Task 69:\n",
      "   age  salary  grade\n",
      "0   17      75      7\n",
      "1   50      33      8\n",
      "2   24      90      9\n",
      "3   45     175      2\n",
      "4   65     134      7\n",
      "5   18      78      8\n",
      "   User Age  Salary 2018  grade\n",
      "0        17           75      7\n",
      "1        50           33      8\n",
      "2        24           90      9\n",
      "3        45          175      2\n",
      "4        65          134      7\n",
      "5        18           78      8\n"
     ]
    }
   ],
   "source": [
    "print('Task 69:')  \n",
    "employees = pd.DataFrame({\n",
    "    \"age\": [17, 50, 24, 45, 65, 18], \n",
    "    \"salary\": [75, 33, 90, 175, 134, 78],\n",
    "    \"grade\" : [7, 8, 9, 2, 7, 8] \n",
    "})  \n",
    "print(employees)\n",
    "employees.rename(columns={'age': 'User Age', 'salary': 'Salary 2018'}, inplace=True)\n",
    "print(employees)"
   ]
  },
  {
   "cell_type": "markdown",
   "metadata": {},
   "source": [
    "<div style=\"\">\n",
    "    <div style=\"float: left; width: 80%;\">\n",
    "        <a id=\"70\"></a>\n",
    "        <font><b>Task 70:</b></font>\n",
    "        <br><br>\n",
    "        Add a new column\n",
    "    </div>\n",
    "    <div style=\"float: right;\">\n",
    "        <a href=\"#top\" class=\"btn btn-primary btn-sm\" role=\"button\" aria-pressed=\"true\" style=\"color:white\" data-toggle=\"popover\" title=\"go to Top\">Go to Top</a>\n",
    "    </div>\n",
    "    <br style=\"clear: left;\" />\n",
    "</div>"
   ]
  },
  {
   "cell_type": "code",
   "execution_count": 75,
   "metadata": {
    "tags": []
   },
   "outputs": [
    {
     "name": "stdout",
     "output_type": "stream",
     "text": [
      "Task 70:\n",
      "   age  salary  grade\n",
      "0   17      75      7\n",
      "1   50      33      8\n",
      "2   24      90      9\n",
      "3   45     175      2\n",
      "4   65     134      7\n",
      "5   18      78      8\n",
      "   age  salary  grade     group\n",
      "0   17      75      7 -0.496735\n",
      "1   50      33      8  0.789538\n",
      "2   24      90      9  1.335492\n",
      "3   45     175      2  0.799005\n",
      "4   65     134      7  1.832845\n",
      "5   18      78      8  0.046927\n"
     ]
    }
   ],
   "source": [
    "print('Task 70:')  \n",
    "employees = pd.DataFrame({\n",
    "    \"age\": [17, 50, 24, 45, 65, 18], \n",
    "    \"salary\": [75, 33, 90, 175, 134, 78],\n",
    "    \"grade\" : [7, 8, 9, 2, 7, 8] \n",
    "})  \n",
    "print(employees)\n",
    "employees['group'] = pd.Series(np.random.randn(len(employees)))\n",
    "print(employees)"
   ]
  },
  {
   "cell_type": "markdown",
   "metadata": {},
   "source": [
    "<div style=\"\">\n",
    "    <div style=\"float: left; width: 80%;\">\n",
    "        <a id=\"71\"></a>\n",
    "        <font><b>Task 71:</b></font>\n",
    "        <br><br>\n",
    "        Drop a column\n",
    "    </div>\n",
    "    <div style=\"float: right;\">\n",
    "        <a href=\"#top\" class=\"btn btn-primary btn-sm\" role=\"button\" aria-pressed=\"true\" style=\"color:white\" data-toggle=\"popover\" title=\"go to Top\">Go to Top</a>\n",
    "    </div>\n",
    "    <br style=\"clear: left;\" />\n",
    "</div> "
   ]
  },
  {
   "cell_type": "code",
   "execution_count": 76,
   "metadata": {
    "tags": []
   },
   "outputs": [
    {
     "name": "stdout",
     "output_type": "stream",
     "text": [
      "Task 71:\n",
      "   age  salary  grade\n",
      "0   17      75      7\n",
      "1   50      33      8\n",
      "2   24      90      9\n",
      "3   45     175      2\n",
      "4   65     134      7\n",
      "5   18      78      8\n",
      "   age  salary  grade     group\n",
      "0   17      75      7  0.035179\n",
      "1   50      33      8  0.099574\n",
      "2   24      90      9  0.110417\n",
      "3   45     175      2  0.429293\n",
      "4   65     134      7 -0.228974\n",
      "5   18      78      8 -0.273440\n",
      "   salary  grade     group\n",
      "0      75      7  0.035179\n",
      "1      33      8  0.099574\n",
      "2      90      9  0.110417\n",
      "3     175      2  0.429293\n",
      "4     134      7 -0.228974\n",
      "5      78      8 -0.273440\n"
     ]
    }
   ],
   "source": [
    "print('Task 71:')  \n",
    "employees = pd.DataFrame({\n",
    "    \"age\": [17, 50, 24, 45, 65, 18], \n",
    "    \"salary\": [75, 33, 90, 175, 134, 78],\n",
    "    \"grade\" : [7, 8, 9, 2, 7, 8] \n",
    "})  \n",
    "print(employees)\n",
    "employees['group'] = pd.Series(np.random.randn(len(employees)))\n",
    "print(employees)\n",
    "employees.drop(employees.columns[[0]], axis=1, inplace = True)\n",
    "print(employees)"
   ]
  },
  {
   "cell_type": "markdown",
   "metadata": {},
   "source": [
    "<div style=\"\">\n",
    "    <div style=\"float: left; width: 80%;\">\n",
    "        <a id=\"72\"></a>\n",
    "        <font><b>Task 72:</b></font>\n",
    "        <br><br>\n",
    "        Drop multiple columns\n",
    "    </div>\n",
    "    <div style=\"float: right;\">\n",
    "        <a href=\"#top\" class=\"btn btn-primary btn-sm\" role=\"button\" aria-pressed=\"true\" style=\"color:white\" data-toggle=\"popover\" title=\"go to Top\">Go to Top</a>\n",
    "    </div>\n",
    "    <br style=\"clear: left;\" />\n",
    "</div> "
   ]
  },
  {
   "cell_type": "code",
   "execution_count": 77,
   "metadata": {
    "tags": []
   },
   "outputs": [
    {
     "name": "stdout",
     "output_type": "stream",
     "text": [
      "Task 72:\n",
      "   age  salary  grade\n",
      "0   17      75      7\n",
      "1   50      33      8\n",
      "2   24      90      9\n",
      "3   45     175      2\n",
      "4   65     134      7\n",
      "5   18      78      8\n",
      "   age  salary  grade     group\n",
      "0   17      75      7  0.198074\n",
      "1   50      33      8 -1.778808\n",
      "2   24      90      9  0.825380\n",
      "3   45     175      2  1.304265\n",
      "4   65     134      7 -0.235640\n",
      "5   18      78      8 -0.913442\n",
      "   age     group\n",
      "0   17  0.198074\n",
      "1   50 -1.778808\n",
      "2   24  0.825380\n",
      "3   45  1.304265\n",
      "4   65 -0.235640\n",
      "5   18 -0.913442\n"
     ]
    }
   ],
   "source": [
    "print('Task 72:')  \n",
    "employees = pd.DataFrame({\n",
    "    \"age\": [17, 50, 24, 45, 65, 18], \n",
    "    \"salary\": [75, 33, 90, 175, 134, 78],\n",
    "    \"grade\" : [7, 8, 9, 2, 7, 8] \n",
    "})  \n",
    "print(employees)\n",
    "employees['group'] = pd.Series(np.random.randn(len(employees)))\n",
    "print(employees)\n",
    "employees.drop(employees.columns[[1, 2]], axis=1, inplace = True)\n",
    "print(employees)"
   ]
  },
  {
   "cell_type": "markdown",
   "metadata": {},
   "source": [
    "<div style=\"\">\n",
    "    <div style=\"float: left; width: 80%;\">\n",
    "        <a id=\"73\"></a>\n",
    "        <font><b>Task 73:</b></font>\n",
    "        <br><br>\n",
    "        Drop first and last column\n",
    "    </div>\n",
    "    <div style=\"float: right;\">\n",
    "        <a href=\"#top\" class=\"btn btn-primary btn-sm\" role=\"button\" aria-pressed=\"true\" style=\"color:white\" data-toggle=\"popover\" title=\"go to Top\">Go to Top</a>\n",
    "    </div>\n",
    "    <br style=\"clear: left;\" />\n",
    "</div> "
   ]
  },
  {
   "cell_type": "code",
   "execution_count": 78,
   "metadata": {
    "tags": []
   },
   "outputs": [
    {
     "name": "stdout",
     "output_type": "stream",
     "text": [
      "Task 73:\n",
      "   age  salary  grade  group\n",
      "0   17      75      7      1\n",
      "1   50      33      8      1\n",
      "2   24      90      9      2\n",
      "3   45     175      2      2\n",
      "4   65     134      7      2\n",
      "5   18      78      8      1\n",
      "   salary  grade\n",
      "0      75      7\n",
      "1      33      8\n",
      "2      90      9\n",
      "3     175      2\n",
      "4     134      7\n",
      "5      78      8\n"
     ]
    }
   ],
   "source": [
    "print('Task 73:')  \n",
    "employees = pd.DataFrame({\n",
    "    \"age\": [17, 50, 24, 45, 65, 18], \n",
    "    \"salary\": [75, 33, 90, 175, 134, 78],\n",
    "    \"grade\" : [7, 8, 9, 2, 7, 8],\n",
    "    \"group\" : [1, 1, 2, 2, 2, 1] \n",
    "    \n",
    "})  \n",
    "print(employees)\n",
    "employees.drop(employees.columns[[0, len(employees.columns)-1]], axis=1, inplace = True)\n",
    "print(employees)"
   ]
  },
  {
   "cell_type": "markdown",
   "metadata": {},
   "source": [
    "<div style=\"\">\n",
    "    <div style=\"float: left; width: 80%;\">\n",
    "        <a id=\"74\"></a>\n",
    "        <font><b>Task 74:</b></font>\n",
    "        <br><br>\n",
    "        Delete by pop function\n",
    "    </div>\n",
    "    <div style=\"float: right;\">\n",
    "        <a href=\"#top\" class=\"btn btn-primary btn-sm\" role=\"button\" aria-pressed=\"true\" style=\"color:white\" data-toggle=\"popover\" title=\"go to Top\">Go to Top</a>\n",
    "    </div>\n",
    "    <br style=\"clear: left;\" />\n",
    "</div>"
   ]
  },
  {
   "cell_type": "code",
   "execution_count": 79,
   "metadata": {},
   "outputs": [
    {
     "name": "stdout",
     "output_type": "stream",
     "text": [
      "Task 74:\n",
      "   age  salary  grade  group\n",
      "0   17      75      7      1\n",
      "1   50      33      8      1\n",
      "2   24      90      9      2\n",
      "3   45     175      2      2\n",
      "4   65     134      7      2\n",
      "5   18      78      8      1\n",
      "   age  salary  grade\n",
      "0   17      75      7\n",
      "1   50      33      8\n",
      "2   24      90      9\n",
      "3   45     175      2\n",
      "4   65     134      7\n",
      "5   18      78      8\n",
      "0    1\n",
      "1    1\n",
      "2    2\n",
      "3    2\n",
      "4    2\n",
      "5    1\n",
      "Name: group, dtype: int64\n"
     ]
    }
   ],
   "source": [
    "print('Task 74:')  \n",
    "employees = pd.DataFrame({\n",
    "    \"age\": [17, 50, 24, 45, 65, 18], \n",
    "    \"salary\": [75, 33, 90, 175, 134, 78],\n",
    "    \"grade\" : [7, 8, 9, 2, 7, 8],\n",
    "    \"group\" : [1, 1, 2, 2, 2, 1] \n",
    "    \n",
    "})  \n",
    "print(employees)\n",
    "group = employees.pop('group')\n",
    "print(employees)\n",
    "print(group)"
   ]
  },
  {
   "cell_type": "markdown",
   "metadata": {},
   "source": [
    "<div style=\"\">\n",
    "    <div style=\"float: left; width: 80%;\">\n",
    "        <a id=\"75\"></a>\n",
    "        <font><b>Task 75:</b></font>\n",
    "        <br><br>\n",
    "        DataFrame.from_items\n",
    "    </div>\n",
    "    <div style=\"float: right;\">\n",
    "        <a href=\"#top\" class=\"btn btn-primary btn-sm\" role=\"button\" aria-pressed=\"true\" style=\"color:white\" data-toggle=\"popover\" title=\"go to Top\">Go to Top</a>\n",
    "    </div>\n",
    "    <br style=\"clear: left;\" />\n",
    "</div>"
   ]
  },
  {
   "cell_type": "code",
   "execution_count": 80,
   "metadata": {},
   "outputs": [
    {
     "name": "stdout",
     "output_type": "stream",
     "text": [
      "Task 75:\n"
     ]
    }
   ],
   "source": [
    "print('Task 75:')  \n",
    "# df = pd.DataFrame.from_items([('A', [1, 2, 3]), ('B', [4, 5, 6]), ('C', [7,8, 9])], orient='index', columns=['one', 'two', 'three'])\n",
    "# print(df) # throwing error"
   ]
  },
  {
   "cell_type": "markdown",
   "metadata": {},
   "source": [
    "<div style=\"\">\n",
    "    <div style=\"float: left; width: 80%;\">\n",
    "        <a id=\"76\"></a>\n",
    "        <font><b>Task 76:</b></font>\n",
    "        <br><br>\n",
    "        Pandas to list\n",
    "    </div>\n",
    "    <div style=\"float: right;\">\n",
    "        <a href=\"#top\" class=\"btn btn-primary btn-sm\" role=\"button\" aria-pressed=\"true\" style=\"color:white\" data-toggle=\"popover\" title=\"go to Top\">Go to Top</a>\n",
    "    </div>\n",
    "    <br style=\"clear: left;\" />\n",
    "</div> "
   ]
  },
  {
   "cell_type": "code",
   "execution_count": 81,
   "metadata": {},
   "outputs": [
    {
     "name": "stdout",
     "output_type": "stream",
     "text": [
      "Task 76:\n",
      "   age  salary  grade  group\n",
      "0   17      75      7      1\n",
      "1   50      33      8      1\n",
      "2   24      90      9      2\n",
      "3   45     175      2      2\n",
      "4   65     134      7      2\n",
      "5   18      78      8      1\n",
      "['age', 'salary', 'grade', 'group']\n",
      "[[17, 75, 7, 1], [50, 33, 8, 1], [24, 90, 9, 2], [45, 175, 2, 2], [65, 134, 7, 2], [18, 78, 8, 1]]\n"
     ]
    }
   ],
   "source": [
    "print('Task 76:')\n",
    "employees = pd.DataFrame({\n",
    "    \"age\": [17, 50, 24, 45, 65, 18], \n",
    "    \"salary\": [75, 33, 90, 175, 134, 78],\n",
    "    \"grade\" : [7, 8, 9, 2, 7, 8],\n",
    "    \"group\" : [1, 1, 2, 2, 2, 1] \n",
    "    \n",
    "})  \n",
    "print(employees)  \n",
    "employees_list1 = list(employees.columns.values) \n",
    "employees_list2 = employees.values.tolist()\n",
    "#employees_list = list(employees)\n",
    "print(employees_list1)\n",
    "print(employees_list2)"
   ]
  },
  {
   "cell_type": "markdown",
   "metadata": {},
   "source": [
    "<div style=\"\">\n",
    "    <div style=\"float: left; width: 80%;\">\n",
    "        <a id=\"77\"></a>\n",
    "        <font><b>Task 77:</b></font>\n",
    "        <br><br>\n",
    "        Pandas rows to list\n",
    "    </div>\n",
    "    <div style=\"float: right;\">\n",
    "        <a href=\"#top\" class=\"btn btn-primary btn-sm\" role=\"button\" aria-pressed=\"true\" style=\"color:white\" data-toggle=\"popover\" title=\"go to Top\">Go to Top</a>\n",
    "    </div>\n",
    "    <br style=\"clear: left;\" />\n",
    "</div> "
   ]
  },
  {
   "cell_type": "code",
   "execution_count": 82,
   "metadata": {},
   "outputs": [
    {
     "name": "stdout",
     "output_type": "stream",
     "text": [
      "Task 77:\n",
      "   age  salary  grade  group\n",
      "0   17      75      7      1\n",
      "1   50      33      8      1\n",
      "2   24      90      9      2\n",
      "3   45     175      2      2\n",
      "4   65     134      7      2\n",
      "5   18      78      8      1\n",
      "[[17, 75, 7, 1], [50, 33, 8, 1], [24, 90, 9, 2], [45, 175, 2, 2], [65, 134, 7, 2], [18, 78, 8, 1]]\n",
      "<class 'list'>\n",
      "6\n"
     ]
    }
   ],
   "source": [
    "print('Task 77:')\n",
    "employees = pd.DataFrame({\n",
    "    \"age\": [17, 50, 24, 45, 65, 18], \n",
    "    \"salary\": [75, 33, 90, 175, 134, 78],\n",
    "    \"grade\" : [7, 8, 9, 2, 7, 8],\n",
    "    \"group\" : [1, 1, 2, 2, 2, 1] \n",
    "    \n",
    "})  \n",
    "print(employees)  \n",
    "employees_list2 = employees.values.tolist()\n",
    "print(employees_list2)\n",
    "print(type(employees_list2))\n",
    "print(len(employees_list2))"
   ]
  },
  {
   "cell_type": "markdown",
   "metadata": {},
   "source": [
    "<div style=\"\">\n",
    "    <div style=\"float: left; width: 80%;\">\n",
    "        <a id=\"78\"></a>\n",
    "        <font><b>Task 78:</b></font>\n",
    "        <br><br>\n",
    "        XPandas rows to array \n",
    "\n",
    "        <br>Note: as_matrix is deprecatedYZ\n",
    "    </div>\n",
    "    <div style=\"float: right;\">\n",
    "        <a href=\"#top\" class=\"btn btn-primary btn-sm\" role=\"button\" aria-pressed=\"true\" style=\"color:white\" data-toggle=\"popover\" title=\"go to Top\">Go to Top</a>\n",
    "    </div>\n",
    "    <br style=\"clear: left;\" />\n",
    "</div> "
   ]
  },
  {
   "cell_type": "code",
   "execution_count": 83,
   "metadata": {},
   "outputs": [
    {
     "name": "stdout",
     "output_type": "stream",
     "text": [
      "Task 78:\n",
      "   age  salary  grade  group\n",
      "0   17      75      7      1\n",
      "1   50      33      8      1\n",
      "2   24      90      9      2\n",
      "3   45     175      2      2\n",
      "4   65     134      7      2\n",
      "5   18      78      8      1\n",
      "[[ 17  75   7   1]\n",
      " [ 50  33   8   1]\n",
      " [ 24  90   9   2]\n",
      " [ 45 175   2   2]\n",
      " [ 65 134   7   2]\n",
      " [ 18  78   8   1]]\n",
      "<class 'numpy.ndarray'>\n",
      "(6, 4)\n"
     ]
    }
   ],
   "source": [
    "print('Task 78:')\n",
    "employees = pd.DataFrame({\n",
    "    \"age\": [17, 50, 24, 45, 65, 18], \n",
    "    \"salary\": [75, 33, 90, 175, 134, 78],\n",
    "    \"grade\" : [7, 8, 9, 2, 7, 8],\n",
    "    \"group\" : [1, 1, 2, 2, 2, 1] \n",
    "    \n",
    "})  \n",
    "print(employees)  \n",
    "employees_list2 = employees.values\n",
    "print(employees_list2)\n",
    "print(type(employees_list2))\n",
    "print(employees_list2.shape)"
   ]
  },
  {
   "cell_type": "markdown",
   "metadata": {},
   "source": [
    "<div style=\"\">\n",
    "    <div style=\"float: left; width: 80%;\">\n",
    "        <a id=\"79\"></a>\n",
    "        <font><b>Task 79:</b></font>\n",
    "        <br><br>\n",
    "        Pandas rows to map\n",
    "    </div>\n",
    "    <div style=\"float: right;\">\n",
    "        <a href=\"#top\" class=\"btn btn-primary btn-sm\" role=\"button\" aria-pressed=\"true\" style=\"color:white\" data-toggle=\"popover\" title=\"go to Top\">Go to Top</a>\n",
    "    </div>\n",
    "    <br style=\"clear: left;\" />\n",
    "</div> "
   ]
  },
  {
   "cell_type": "code",
   "execution_count": 84,
   "metadata": {},
   "outputs": [
    {
     "name": "stdout",
     "output_type": "stream",
     "text": [
      "Task 79:\n",
      "   age  salary  grade  group\n",
      "0   17      75      7      1\n",
      "1   50      33      8      1\n",
      "2   24      90      9      2\n",
      "3   45     175      2      2\n",
      "4   65     134      7      2\n",
      "5   18      78      8      1\n",
      "<map object at 0x0000018B60CA28C0>\n",
      "<class 'map'>\n"
     ]
    }
   ],
   "source": [
    "print('Task 79:')\n",
    "employees = pd.DataFrame({\n",
    "    \"age\": [17, 50, 24, 45, 65, 18], \n",
    "    \"salary\": [75, 33, 90, 175, 134, 78],\n",
    "    \"grade\" : [7, 8, 9, 2, 7, 8],\n",
    "    \"group\" : [1, 1, 2, 2, 2, 1] \n",
    "    \n",
    "})  \n",
    "print(employees)  \n",
    "employees_list2 = map(list, employees.values)\n",
    "print(employees_list2)\n",
    "print(type(employees_list2))"
   ]
  },
  {
   "cell_type": "markdown",
   "metadata": {},
   "source": [
    "<div style=\"\">\n",
    "    <div style=\"float: left; width: 80%;\">\n",
    "        <a id=\"80\"></a>\n",
    "        <font><b>Task 80:</b></font>\n",
    "        <br><br>\n",
    "        Pandas rows to map\n",
    "    </div>\n",
    "    <div style=\"float: right;\">\n",
    "        <a href=\"#top\" class=\"btn btn-primary btn-sm\" role=\"button\" aria-pressed=\"true\" style=\"color:white\" data-toggle=\"popover\" title=\"go to Top\">Go to Top</a>\n",
    "    </div>\n",
    "    <br style=\"clear: left;\" />\n",
    "</div>"
   ]
  },
  {
   "cell_type": "code",
   "execution_count": 85,
   "metadata": {},
   "outputs": [
    {
     "name": "stdout",
     "output_type": "stream",
     "text": [
      "Task 80:\n",
      "   age  salary  grade  group\n",
      "0   17      75      7      1\n",
      "1   50      33      8      1\n",
      "2   24      90      9      2\n",
      "3   45     175      2      2\n",
      "4   65     134      7      2\n",
      "5   18      78      8      1\n",
      "[[17, 75, 7, 1], [50, 33, 8, 1], [24, 90, 9, 2], [45, 175, 2, 2], [65, 134, 7, 2], [18, 78, 8, 1]]\n",
      "<class 'list'>\n"
     ]
    }
   ],
   "source": [
    "print('Task 80:')\n",
    "employees = pd.DataFrame({\n",
    "    \"age\": [17, 50, 24, 45, 65, 18], \n",
    "    \"salary\": [75, 33, 90, 175, 134, 78],\n",
    "    \"grade\" : [7, 8, 9, 2, 7, 8],\n",
    "    \"group\" : [1, 1, 2, 2, 2, 1] \n",
    "    \n",
    "})  \n",
    "print(employees)  \n",
    "employees_list2 = list(map(list, employees.values))\n",
    "print(employees_list2)\n",
    "print(type(employees_list2))"
   ]
  },
  {
   "cell_type": "markdown",
   "metadata": {},
   "source": [
    "<div style=\"\">\n",
    "    <div style=\"float: left; width: 80%;\">\n",
    "        <a id=\"81\"></a>\n",
    "        <font><b>Task 81:</b></font>\n",
    "        <br><br>\n",
    "        Drop duplicates\n",
    "    </div>\n",
    "    <div style=\"float: right;\">\n",
    "        <a href=\"#top\" class=\"btn btn-primary btn-sm\" role=\"button\" aria-pressed=\"true\" style=\"color:white\" data-toggle=\"popover\" title=\"go to Top\">Go to Top</a>\n",
    "    </div>\n",
    "    <br style=\"clear: left;\" />\n",
    "</div> "
   ]
  },
  {
   "cell_type": "code",
   "execution_count": 86,
   "metadata": {},
   "outputs": [
    {
     "name": "stdout",
     "output_type": "stream",
     "text": [
      "Task 81:\n",
      "   id      city  count\n",
      "0   1   Toronto      7\n",
      "1   1  Montreal      8\n",
      "2   2   Calgary      9\n",
      "3   2  Montreal      2\n",
      "4   3  Montreal      7\n",
      "5   3    Ottawa      8\n",
      "   id      city  count\n",
      "1   1  Montreal      8\n",
      "3   2  Montreal      2\n",
      "5   3    Ottawa      8\n"
     ]
    }
   ],
   "source": [
    "print('Task 81:')  \n",
    "users = pd.DataFrame({\n",
    "    \"id\": [1, 1, 2, 2, 3, 3], \n",
    "    \"city\": ['Toronto', 'Montreal', 'Calgary', 'Montreal', 'Montreal', 'Ottawa'],\n",
    "    \"count\" : [7, 8, 9, 2, 7, 8] \n",
    "    \n",
    "}) \n",
    "print(users)\n",
    "users.drop_duplicates('id', inplace=True, keep='last')\n",
    "print(users)"
   ]
  },
  {
   "cell_type": "markdown",
   "metadata": {},
   "source": [
    "<div style=\"\">\n",
    "    <div style=\"float: left; width: 80%;\">\n",
    "        <a id=\"82\"></a>\n",
    "        <font><b>Task 82:</b></font>\n",
    "        <br><br>\n",
    "        Selecting multiple columns\n",
    "    </div>\n",
    "    <div style=\"float: right;\">\n",
    "        <a href=\"#top\" class=\"btn btn-primary btn-sm\" role=\"button\" aria-pressed=\"true\" style=\"color:white\" data-toggle=\"popover\" title=\"go to Top\">Go to Top</a>\n",
    "    </div>\n",
    "    <br style=\"clear: left;\" />\n",
    "</div> "
   ]
  },
  {
   "cell_type": "code",
   "execution_count": 87,
   "metadata": {},
   "outputs": [
    {
     "name": "stdout",
     "output_type": "stream",
     "text": [
      "Task 82:\n",
      "   id      city  count\n",
      "0   1   Toronto      7\n",
      "1   1  Montreal      8\n",
      "2   2   Calgary      9\n",
      "3   2  Montreal      2\n",
      "4   3  Montreal      7\n",
      "5   3    Ottawa      8\n",
      "   id      city\n",
      "0   1   Toronto\n",
      "1   1  Montreal\n",
      "2   2   Calgary\n",
      "3   2  Montreal\n",
      "4   3  Montreal\n",
      "5   3    Ottawa\n"
     ]
    }
   ],
   "source": [
    "print('Task 82:')  \n",
    "users = pd.DataFrame({\n",
    "    \"id\": [1, 1, 2, 2, 3, 3], \n",
    "    \"city\": ['Toronto', 'Montreal', 'Calgary', 'Montreal', 'Montreal', 'Ottawa'],\n",
    "    \"count\" : [7, 8, 9, 2, 7, 8] \n",
    "    \n",
    "}) \n",
    "print(users)\n",
    "users1 = users[['id', 'city']]\n",
    "print(users1)"
   ]
  },
  {
   "cell_type": "markdown",
   "metadata": {},
   "source": [
    "<div style=\"\">\n",
    "    <div style=\"float: left; width: 80%;\">\n",
    "        <a id=\"83\"></a>\n",
    "        <font><b>Task 83:</b></font>\n",
    "        <br><br>\n",
    "        Selecting multiple columns\n",
    "    </div>\n",
    "    <div style=\"float: right;\">\n",
    "        <a href=\"#top\" class=\"btn btn-primary btn-sm\" role=\"button\" aria-pressed=\"true\" style=\"color:white\" data-toggle=\"popover\" title=\"go to Top\">Go to Top</a>\n",
    "    </div>\n",
    "    <br style=\"clear: left;\" />\n",
    "</div>"
   ]
  },
  {
   "cell_type": "code",
   "execution_count": 88,
   "metadata": {},
   "outputs": [
    {
     "name": "stdout",
     "output_type": "stream",
     "text": [
      "Task 83:\n",
      "   id      city  count\n",
      "0   1   Toronto      7\n",
      "1   1  Montreal      8\n",
      "2   2   Calgary      9\n",
      "3   2  Montreal      2\n",
      "4   3  Montreal      7\n",
      "5   3    Ottawa      8\n",
      "   id  count\n",
      "0   1      7\n",
      "1   1      8\n",
      "2   2      9\n",
      "3   2      2\n",
      "4   3      7\n",
      "5   3      8\n"
     ]
    }
   ],
   "source": [
    "print('Task 83:')  \n",
    "users = pd.DataFrame({\n",
    "    \"id\": [1, 1, 2, 2, 3, 3], \n",
    "    \"city\": ['Toronto', 'Montreal', 'Calgary', 'Montreal', 'Montreal', 'Ottawa'],\n",
    "    \"count\" : [7, 8, 9, 2, 7, 8] \n",
    "}) \n",
    "print(users)\n",
    "columns = ['id', 'count']\n",
    "users1 = pd.DataFrame(users, columns=columns)\n",
    "print(users1)"
   ]
  },
  {
   "cell_type": "markdown",
   "metadata": {},
   "source": [
    "<div style=\"\">\n",
    "    <div style=\"float: left; width: 80%;\">\n",
    "        <a id=\"84\"></a>\n",
    "        <font><b>Task 84:</b></font>\n",
    "        <br><br>\n",
    "        Row and Column Slicing\n",
    "    </div>\n",
    "    <div style=\"float: right;\">\n",
    "        <a href=\"#top\" class=\"btn btn-primary btn-sm\" role=\"button\" aria-pressed=\"true\" style=\"color:white\" data-toggle=\"popover\" title=\"go to Top\">Go to Top</a>\n",
    "    </div>\n",
    "    <br style=\"clear: left;\" />\n",
    "</div> "
   ]
  },
  {
   "cell_type": "code",
   "execution_count": 89,
   "metadata": {},
   "outputs": [
    {
     "name": "stdout",
     "output_type": "stream",
     "text": [
      "Task 84:\n",
      "   id      city  count\n",
      "0   1   Toronto      7\n",
      "1   1  Montreal      8\n",
      "2   2   Calgary      9\n",
      "3   2  Montreal      2\n",
      "4   3  Montreal      7\n",
      "5   3    Ottawa      8\n",
      "       city  count\n",
      "0   Toronto      7\n",
      "1  Montreal      8\n"
     ]
    }
   ],
   "source": [
    "print('Task 84:')  \n",
    "users = pd.DataFrame({\n",
    "    \"id\": [1, 1, 2, 2, 3, 3], \n",
    "    \"city\": ['Toronto', 'Montreal', 'Calgary', 'Montreal', 'Montreal', 'Ottawa'],\n",
    "    \"count\" : [7, 8, 9, 2, 7, 8] \n",
    "    \n",
    "}) \n",
    "print(users)    \n",
    "users1 = users.iloc[0:2, 1:3]\n",
    "print(users1)"
   ]
  },
  {
   "cell_type": "markdown",
   "metadata": {},
   "source": [
    "<div style=\"\">\n",
    "    <div style=\"float: left; width: 80%;\">\n",
    "        <a id=\"85\"></a>\n",
    "        <font><b>Task 85:</b></font>\n",
    "        <br><br>\n",
    "        Iterating rows\n",
    "    </div>\n",
    "    <div style=\"float: right;\">\n",
    "        <a href=\"#top\" class=\"btn btn-primary btn-sm\" role=\"button\" aria-pressed=\"true\" style=\"color:white\" data-toggle=\"popover\" title=\"go to Top\">Go to Top</a>\n",
    "    </div>\n",
    "    <br style=\"clear: left;\" />\n",
    "</div>"
   ]
  },
  {
   "cell_type": "code",
   "execution_count": 90,
   "metadata": {},
   "outputs": [
    {
     "name": "stdout",
     "output_type": "stream",
     "text": [
      "Task 85:\n",
      "   id      city  count\n",
      "0   1   Toronto      7\n",
      "1   1  Montreal      8\n",
      "2   2   Calgary      9\n",
      "3   2  Montreal      2\n",
      "4   3  Montreal      7\n",
      "5   3    Ottawa      8\n",
      "Toronto ==> 7\n",
      "Montreal ==> 8\n",
      "Calgary ==> 9\n",
      "Montreal ==> 2\n",
      "Montreal ==> 7\n",
      "Ottawa ==> 8\n"
     ]
    }
   ],
   "source": [
    "print('Task 85:')  \n",
    "users = pd.DataFrame({\n",
    "    \"id\": [1, 1, 2, 2, 3, 3], \n",
    "    \"city\": ['Toronto', 'Montreal', 'Calgary', 'Montreal', 'Montreal', 'Ottawa'],\n",
    "    \"count\" : [7, 8, 9, 2, 7, 8] \n",
    "    \n",
    "}) \n",
    "print(users)    \n",
    "for index, row in users.iterrows():\n",
    "    print(row['city'], \"==>\", row['count'])"
   ]
  },
  {
   "cell_type": "markdown",
   "metadata": {},
   "source": [
    "<div style=\"\">\n",
    "    <div style=\"float: left; width: 80%;\">\n",
    "        <a id=\"86\"></a>\n",
    "        <font><b>Task 86:</b></font>\n",
    "        <br><br>\n",
    "        Iterating tuples\n",
    "    </div>\n",
    "    <div style=\"float: right;\">\n",
    "        <a href=\"#top\" class=\"btn btn-primary btn-sm\" role=\"button\" aria-pressed=\"true\" style=\"color:white\" data-toggle=\"popover\" title=\"go to Top\">Go to Top</a>\n",
    "    </div>\n",
    "    <br style=\"clear: left;\" />\n",
    "</div> "
   ]
  },
  {
   "cell_type": "code",
   "execution_count": 91,
   "metadata": {},
   "outputs": [
    {
     "name": "stdout",
     "output_type": "stream",
     "text": [
      "Task 86:\n",
      "   id      city  count\n",
      "0   1   Toronto      7\n",
      "1   1  Montreal      8\n",
      "2   2   Calgary      9\n",
      "3   2  Montreal      2\n",
      "4   3  Montreal      7\n",
      "5   3    Ottawa      8\n",
      "Toronto\n",
      "Montreal\n",
      "Calgary\n",
      "Montreal\n",
      "Montreal\n",
      "Ottawa\n",
      "7\n",
      "8\n",
      "9\n",
      "2\n",
      "7\n",
      "8\n"
     ]
    }
   ],
   "source": [
    "print('Task 86:')  \n",
    "users = pd.DataFrame({\n",
    "    \"id\": [1, 1, 2, 2, 3, 3], \n",
    "    \"city\": ['Toronto', 'Montreal', 'Calgary', 'Montreal', 'Montreal', 'Ottawa'],\n",
    "    \"count\" : [7, 8, 9, 2, 7, 8] \n",
    "    \n",
    "}) \n",
    "print(users)    \n",
    "for row in users.itertuples(index=True, name='Pandas'):\n",
    "    print(getattr(row, 'city'))\n",
    "    \n",
    "for row in users.itertuples(index=True, name='Pandas'):\n",
    "    print(row.count)"
   ]
  },
  {
   "cell_type": "markdown",
   "metadata": {},
   "source": [
    "<div style=\"\">\n",
    "    <div style=\"float: left; width: 80%;\">\n",
    "        <a id=\"87\"></a>\n",
    "        <font><b>Task 87:</b></font>\n",
    "        <br><br>\n",
    "        Iterating rows and columns\n",
    "    </div>\n",
    "    <div style=\"float: right;\">\n",
    "        <a href=\"#top\" class=\"btn btn-primary btn-sm\" role=\"button\" aria-pressed=\"true\" style=\"color:white\" data-toggle=\"popover\" title=\"go to Top\">Go to Top</a>\n",
    "    </div>\n",
    "    <br style=\"clear: left;\" />\n",
    "</div> "
   ]
  },
  {
   "cell_type": "code",
   "execution_count": 92,
   "metadata": {},
   "outputs": [
    {
     "name": "stdout",
     "output_type": "stream",
     "text": [
      "Task 87:\n",
      "   id      city  count\n",
      "0   1   Toronto      7\n",
      "1   1  Montreal      8\n",
      "2   2   Calgary      9\n",
      "3   2  Montreal      2\n",
      "4   3  Montreal      7\n",
      "5   3    Ottawa      8\n",
      "1\n",
      "Toronto\n",
      "7\n",
      "1\n",
      "Montreal\n",
      "8\n",
      "2\n",
      "Calgary\n",
      "9\n",
      "2\n",
      "Montreal\n",
      "2\n",
      "3\n",
      "Montreal\n",
      "7\n",
      "3\n",
      "Ottawa\n",
      "8\n"
     ]
    }
   ],
   "source": [
    "print('Task 87:')  \n",
    "users = pd.DataFrame({\n",
    "    \"id\": [1, 1, 2, 2, 3, 3], \n",
    "    \"city\": ['Toronto', 'Montreal', 'Calgary', 'Montreal', 'Montreal', 'Ottawa'],\n",
    "    \"count\" : [7, 8, 9, 2, 7, 8] \n",
    "    \n",
    "}) \n",
    "print(users)    \n",
    "for i, row in users.iterrows():\n",
    "    for j, col in row.iteritems():    \n",
    "        print(col)"
   ]
  },
  {
   "cell_type": "markdown",
   "metadata": {},
   "source": [
    "<div style=\"\">\n",
    "    <div style=\"float: left; width: 80%;\">\n",
    "        <a id=\"88\"></a>\n",
    "        <font><b>Task 88:</b></font>\n",
    "        <br><br>\n",
    "        List of Dictionary to Dataframe\n",
    "    </div>\n",
    "    <div style=\"float: right;\">\n",
    "        <a href=\"#top\" class=\"btn btn-primary btn-sm\" role=\"button\" aria-pressed=\"true\" style=\"color:white\" data-toggle=\"popover\" title=\"go to Top\">Go to Top</a>\n",
    "    </div>\n",
    "    <br style=\"clear: left;\" />\n",
    "</div> "
   ]
  },
  {
   "cell_type": "code",
   "execution_count": 93,
   "metadata": {},
   "outputs": [
    {
     "name": "stdout",
     "output_type": "stream",
     "text": [
      "Task 88:\n",
      "[{'points': 50, 'time': '5:00', 'year': 2010}, {'points': 25, 'time': '6:00', 'month': 'february'}, {'points': 90, 'time': '9:00', 'month': 'january'}, {'points_h1': 20, 'month': 'june'}]\n",
      "   points  time    year     month  points_h1\n",
      "0    50.0  5:00  2010.0       NaN        NaN\n",
      "1    25.0  6:00     NaN  february        NaN\n",
      "2    90.0  9:00     NaN   january        NaN\n",
      "3     NaN   NaN     NaN      june       20.0\n",
      "   points  time    year     month  points_h1\n",
      "0    50.0  5:00  2010.0       NaN        NaN\n",
      "1    25.0  6:00     NaN  february        NaN\n",
      "2    90.0  9:00     NaN   january        NaN\n",
      "3     NaN   NaN     NaN      june       20.0\n"
     ]
    }
   ],
   "source": [
    "print('Task 88:')  \n",
    "pointlist = [\n",
    "                {'points': 50, 'time': '5:00', 'year': 2010}, \n",
    "                {'points': 25, 'time': '6:00', 'month': \"february\"}, \n",
    "                {'points':90, 'time': '9:00', 'month': 'january'}, \n",
    "                {'points_h1':20, 'month': 'june'}\n",
    "            ]\n",
    "print(pointlist)\n",
    "pointDf = pd.DataFrame(pointlist)\n",
    "print(pointDf)\n",
    "\n",
    "pointDf1 = pd.DataFrame.from_dict(pointlist)\n",
    "print(pointDf1)"
   ]
  },
  {
   "cell_type": "markdown",
   "metadata": {},
   "source": [
    "<div style=\"\">\n",
    "    <div style=\"float: left; width: 80%;\">\n",
    "        <a id=\"89\"></a>\n",
    "        <font><b>Task 89:</b></font>\n",
    "        <br><br>\n",
    "        NaN values\n",
    "    </div>\n",
    "    <div style=\"float: right;\">\n",
    "        <a href=\"#top\" class=\"btn btn-primary btn-sm\" role=\"button\" aria-pressed=\"true\" style=\"color:white\" data-toggle=\"popover\" title=\"go to Top\">Go to Top</a>\n",
    "    </div>\n",
    "    <br style=\"clear: left;\" />\n",
    "</div> "
   ]
  },
  {
   "cell_type": "code",
   "execution_count": 94,
   "metadata": {},
   "outputs": [
    {
     "name": "stdout",
     "output_type": "stream",
     "text": [
      "Task 89:\n",
      "          0         1         2         3         4         5\n",
      "0  0.130354  0.106679 -0.299341 -0.963970  0.706182  1.217025\n",
      "1  0.731164       NaN  0.302318 -1.059345 -1.047971  0.614850\n",
      "2  0.789546       NaN -1.953082  0.381798  1.527016 -0.034545\n",
      "3 -0.490663 -0.457461 -0.416587 -0.021667  0.901010 -0.420685\n",
      "4 -0.667614 -0.816298 -1.246486  0.758306  1.002499 -0.617635\n",
      "5 -1.443187 -0.531360 -0.651404       NaN  1.019671  0.981192\n",
      "6  1.337823  0.044202 -0.181519 -1.186613  0.870033  0.208204\n",
      "7  2.106702  0.854766 -0.368887 -0.983862 -0.270892       NaN\n",
      "8  0.753406  0.222927 -0.343223 -1.356634 -0.765654       NaN\n",
      "9 -0.805087  0.115484 -0.396651 -0.241331 -0.118920  0.631135\n",
      "       0      1      2      3      4      5\n",
      "0  False  False  False  False  False  False\n",
      "1  False   True  False  False  False  False\n",
      "2  False   True  False  False  False  False\n",
      "3  False  False  False  False  False  False\n",
      "4  False  False  False  False  False  False\n",
      "5  False  False  False   True  False  False\n",
      "6  False  False  False  False  False  False\n",
      "7  False  False  False  False  False   True\n",
      "8  False  False  False  False  False   True\n",
      "9  False  False  False  False  False  False\n"
     ]
    }
   ],
   "source": [
    "print('Task 89:')\n",
    "df = pd.DataFrame(np.random.randn(10,6))\n",
    "# Make a few areas have NaN values\n",
    "df.iloc[1:3,1] = np.nan\n",
    "df.iloc[5,3] = np.nan\n",
    "df.iloc[7:9,5] = np.nan\n",
    "print(df)\n",
    "df1 = df.isnull()\n",
    "print(df1)"
   ]
  },
  {
   "cell_type": "markdown",
   "metadata": {},
   "source": [
    "<div style=\"\">\n",
    "    <div style=\"float: left; width: 80%;\">\n",
    "        <a id=\"90\"></a>\n",
    "        <font><b>Task 90:</b></font>\n",
    "        <br><br>\n",
    "        Sum of all nan\n",
    "    </div>\n",
    "    <div style=\"float: right;\">\n",
    "        <a href=\"#top\" class=\"btn btn-primary btn-sm\" role=\"button\" aria-pressed=\"true\" style=\"color:white\" data-toggle=\"popover\" title=\"go to Top\">Go to Top</a>\n",
    "    </div>\n",
    "    <br style=\"clear: left;\" />\n",
    "</div>"
   ]
  },
  {
   "cell_type": "code",
   "execution_count": 95,
   "metadata": {},
   "outputs": [
    {
     "name": "stdout",
     "output_type": "stream",
     "text": [
      "Task 90:\n",
      "          0         1         2         3         4         5\n",
      "0 -0.326439  0.335099  1.303003  0.833904  0.241058 -1.256782\n",
      "1  0.333919       NaN  0.280606  1.946419  0.580717  0.008372\n",
      "2  1.328916       NaN  0.655368 -1.988306  0.298194 -1.163625\n",
      "3  0.949027 -0.240712 -0.627501 -0.073149  0.121817 -0.231446\n",
      "4  1.049310  0.431462  0.555402  1.501060  0.668152  0.108640\n",
      "5 -0.295490  0.154339 -0.417857       NaN -0.918956 -0.975316\n",
      "6 -0.248199  0.310107  0.533483  0.903278 -2.319967 -0.205494\n",
      "7 -2.187127  0.439360  2.431165  2.511396 -1.405449       NaN\n",
      "8  0.464895 -0.241406  2.088468 -0.140609  0.503427       NaN\n",
      "9  0.806884  0.786965  2.098700  0.304150  1.386190 -0.112084\n",
      "0    0\n",
      "1    2\n",
      "2    0\n",
      "3    1\n",
      "4    0\n",
      "5    2\n",
      "dtype: int64\n",
      "0    0\n",
      "1    1\n",
      "2    1\n",
      "3    0\n",
      "4    0\n",
      "5    1\n",
      "6    0\n",
      "7    1\n",
      "8    1\n",
      "9    0\n",
      "dtype: int64\n",
      "[0, 2, 0, 1, 0, 2]\n"
     ]
    }
   ],
   "source": [
    "print('Task 90:')  \n",
    "df = pd.DataFrame(np.random.randn(10,6))\n",
    "# Make a few areas have NaN values\n",
    "df.iloc[1:3,1] = np.nan\n",
    "df.iloc[5,3] = np.nan\n",
    "df.iloc[7:9,5] = np.nan\n",
    "print(df)\n",
    "print(df.isnull().sum())\n",
    "print(df.isnull().sum(axis=1))\n",
    "print(df.isnull().sum().tolist())"
   ]
  },
  {
   "cell_type": "markdown",
   "metadata": {},
   "source": [
    "<div style=\"\">\n",
    "    <div style=\"float: left; width: 80%;\">\n",
    "        <a id=\"91\"></a>\n",
    "        <font><b>Task 91:</b></font>\n",
    "        <br><br>\n",
    "        Sum of all nan rowwise\n",
    "    </div>\n",
    "    <div style=\"float: right;\">\n",
    "        <a href=\"#top\" class=\"btn btn-primary btn-sm\" role=\"button\" aria-pressed=\"true\" style=\"color:white\" data-toggle=\"popover\" title=\"go to Top\">Go to Top</a>\n",
    "    </div>\n",
    "    <br style=\"clear: left;\" />\n",
    "</div> "
   ]
  },
  {
   "cell_type": "code",
   "execution_count": 96,
   "metadata": {},
   "outputs": [
    {
     "name": "stdout",
     "output_type": "stream",
     "text": [
      "Task 91:\n",
      "          0         1         2         3         4         5\n",
      "0 -0.738993 -1.182478  0.358515 -1.451134 -0.137990 -0.353863\n",
      "1 -0.387031       NaN  1.170174  0.394993  1.689843  0.823035\n",
      "2 -3.535655       NaN  0.227239  1.650089  0.640555  0.941008\n",
      "3 -0.521116 -0.190795  0.704201 -0.238862 -0.114279 -0.102200\n",
      "4 -0.698284  0.605598 -0.853966  0.141219  1.354231 -0.810556\n",
      "5  1.265303  0.845737 -1.257325       NaN  0.299307 -0.174437\n",
      "6  0.677314  0.415087  0.356697  0.629378 -1.409526 -2.521040\n",
      "7  0.199565  0.473213 -2.558557  1.208676  0.151701       NaN\n",
      "8 -0.154761  0.224258 -0.671959  1.537883 -0.023181       NaN\n",
      "9  0.944080 -1.024475 -0.512691 -2.079797 -0.917218 -1.123813\n",
      "0    0\n",
      "1    1\n",
      "2    1\n",
      "3    0\n",
      "4    0\n",
      "5    1\n",
      "6    0\n",
      "7    1\n",
      "8    1\n",
      "9    0\n",
      "dtype: int64\n"
     ]
    }
   ],
   "source": [
    "print('Task 91:')  \n",
    "df = pd.DataFrame(np.random.randn(10,6))\n",
    "# Make a few areas have NaN values\n",
    "df.iloc[1:3,1] = np.nan\n",
    "df.iloc[5,3] = np.nan\n",
    "df.iloc[7:9,5] = np.nan\n",
    "print(df)\n",
    "print(df.isnull().sum(axis=1))"
   ]
  },
  {
   "cell_type": "markdown",
   "metadata": {},
   "source": [
    "<div style=\"\">\n",
    "    <div style=\"float: left; width: 80%;\">\n",
    "        <a id=\"92\"></a>\n",
    "        <font><b>Task 92:</b></font>\n",
    "        <br><br>\n",
    "        Sum of all nan as list\n",
    "    </div>\n",
    "    <div style=\"float: right;\">\n",
    "        <a href=\"#top\" class=\"btn btn-primary btn-sm\" role=\"button\" aria-pressed=\"true\" style=\"color:white\" data-toggle=\"popover\" title=\"go to Top\">Go to Top</a>\n",
    "    </div>\n",
    "    <br style=\"clear: left;\" />\n",
    "</div> "
   ]
  },
  {
   "cell_type": "code",
   "execution_count": 97,
   "metadata": {},
   "outputs": [
    {
     "name": "stdout",
     "output_type": "stream",
     "text": [
      "Task 92:\n",
      "          0         1         2         3         4         5\n",
      "0  0.663113  0.717720  0.145731 -0.668258 -1.183371 -1.086283\n",
      "1 -0.495986       NaN -0.609112  1.319118  0.459473 -0.504097\n",
      "2  1.547616       NaN -2.531599  0.177459 -0.856963 -0.829983\n",
      "3 -0.086327 -0.708009  0.665763 -1.003246 -2.573291  0.377031\n",
      "4  0.180062 -1.395211 -1.010923 -1.133360  0.702610 -0.225090\n",
      "5 -0.332845  0.573588  0.336738       NaN  0.603228  0.874052\n",
      "6  0.896152 -1.716992 -0.738723 -0.763202 -0.945765 -0.299718\n",
      "7  0.977746 -0.164133  1.518212  1.313338  0.055947       NaN\n",
      "8  1.231453 -0.253031  0.006292  1.257383 -0.069947       NaN\n",
      "9 -0.607003  0.259314 -0.665183  0.354912  0.520294  0.724067\n",
      "[0, 2, 0, 1, 0, 2]\n"
     ]
    }
   ],
   "source": [
    "print('Task 92:')  \n",
    "df = pd.DataFrame(np.random.randn(10,6))\n",
    "# Make a few areas have NaN values\n",
    "df.iloc[1:3,1] = np.nan\n",
    "df.iloc[5,3] = np.nan\n",
    "df.iloc[7:9,5] = np.nan\n",
    "print(df)\n",
    "print(df.isnull().sum().tolist())"
   ]
  },
  {
   "cell_type": "markdown",
   "metadata": {},
   "source": [
    "<div style=\"\">\n",
    "    <div style=\"float: left; width: 80%;\">\n",
    "        <a id=\"93\"></a>\n",
    "        <font><b>Task 93:</b></font>\n",
    "        <br><br>\n",
    "        Change the order of columns\n",
    "\n",
    "        Note:\n",
    "            FutureWarning: '.reindex_axis' is deprecated and will be removed in a future version \n",
    "    </div>\n",
    "    <div style=\"float: right;\">\n",
    "        <a href=\"#top\" class=\"btn btn-primary btn-sm\" role=\"button\" aria-pressed=\"true\" style=\"color:white\" data-toggle=\"popover\" title=\"go to Top\">Go to Top</a>\n",
    "    </div>\n",
    "    <br style=\"clear: left;\" />\n",
    "</div>"
   ]
  },
  {
   "cell_type": "code",
   "execution_count": 98,
   "metadata": {},
   "outputs": [
    {
     "name": "stdout",
     "output_type": "stream",
     "text": [
      "Task 93:\n",
      "   id      city  count\n",
      "0   1   Toronto      7\n",
      "1   1  Montreal      8\n",
      "2   2   Calgary      9\n",
      "3   2  Montreal      2\n",
      "4   3  Montreal      7\n",
      "5   3    Ottawa      8\n",
      "       city  id  count\n",
      "0   Toronto   1      7\n",
      "1  Montreal   1      8\n",
      "2   Calgary   2      9\n",
      "3  Montreal   2      2\n",
      "4  Montreal   3      7\n",
      "5    Ottawa   3      8\n"
     ]
    }
   ],
   "source": [
    "print('Task 93:')  \n",
    "users = pd.DataFrame({\n",
    "    \"id\": [1, 1, 2, 2, 3, 3], \n",
    "    \"city\": ['Toronto', 'Montreal', 'Calgary', 'Montreal', 'Montreal', 'Ottawa'],\n",
    "    \"count\" : [7, 8, 9, 2, 7, 8] \n",
    "    \n",
    "}) \n",
    "print(users)\n",
    "\n",
    "# below line throws error\n",
    "# users1 = users.reindex_axis(['city', 'count', 'id'], axis=1)\n",
    "# print(users1)\n",
    "\n",
    "users2 = users.reindex(columns=['city', 'id', 'count'])\n",
    "print(users2)"
   ]
  },
  {
   "cell_type": "markdown",
   "metadata": {},
   "source": [
    "<div style=\"\">\n",
    "    <div style=\"float: left; width: 80%;\">\n",
    "        <a id=\"94\"></a>\n",
    "        <font><b>Task 94:</b></font>\n",
    "        <br><br>\n",
    "        Drop multiple rows\n",
    "    </div>\n",
    "    <div style=\"float: right;\">\n",
    "        <a href=\"#top\" class=\"btn btn-primary btn-sm\" role=\"button\" aria-pressed=\"true\" style=\"color:white\" data-toggle=\"popover\" title=\"go to Top\">Go to Top</a>\n",
    "    </div>\n",
    "    <br style=\"clear: left;\" />\n",
    "</div> "
   ]
  },
  {
   "cell_type": "code",
   "execution_count": 99,
   "metadata": {},
   "outputs": [
    {
     "name": "stdout",
     "output_type": "stream",
     "text": [
      "Task 94:\n",
      "   id  number\n",
      "0   1      10\n",
      "1   2      20\n",
      "2   3      30\n",
      "3   4      30\n",
      "4   5      23\n",
      "5   6      12\n",
      "   id  number\n",
      "1   2      20\n",
      "2   3      30\n",
      "4   5      23\n"
     ]
    }
   ],
   "source": [
    "print('Task 94:')\n",
    "numbers = pd.DataFrame({\n",
    "    \"id\": [1, 2, 3, 4, 5, 6], \n",
    "    \"number\": [10, 20, 30, 30, 23, 12]\n",
    "    \n",
    "})  \n",
    "print(numbers)\n",
    "numbers.drop(numbers.index[[0, 3, 5]], inplace=True)\n",
    "print(numbers)"
   ]
  },
  {
   "cell_type": "markdown",
   "metadata": {},
   "source": [
    "<div style=\"\">\n",
    "    <div style=\"float: left; width: 80%;\">\n",
    "        <a id=\"95\"></a>\n",
    "        <font><b>Task 95:</b></font>\n",
    "        <br><br>\n",
    "        Drop multiple rows by row name\n",
    "    </div>\n",
    "    <div style=\"float: right;\">\n",
    "        <a href=\"#top\" class=\"btn btn-primary btn-sm\" role=\"button\" aria-pressed=\"true\" style=\"color:white\" data-toggle=\"popover\" title=\"go to Top\">Go to Top</a>\n",
    "    </div>\n",
    "    <br style=\"clear: left;\" />\n",
    "</div>"
   ]
  },
  {
   "cell_type": "code",
   "execution_count": 100,
   "metadata": {},
   "outputs": [
    {
     "name": "stdout",
     "output_type": "stream",
     "text": [
      "Task 95:\n",
      "       id  number\n",
      "one     1      10\n",
      "two     2      20\n",
      "three   3      30\n",
      "four    4      30\n",
      "five    5      23\n",
      "six     6      12\n",
      "       id  number\n",
      "one     1      10\n",
      "three   3      30\n",
      "four    4      30\n",
      "five    5      23\n",
      "       id  number\n",
      "one     1      10\n",
      "three   3      30\n",
      "four    4      30\n",
      "five    5      23\n",
      "six     6      12\n"
     ]
    }
   ],
   "source": [
    "print('Task 95:')  \n",
    "numbers = pd.DataFrame({\n",
    "    \"id\": [1, 2, 3, 4, 5, 6], \n",
    "    \"number\": [10, 20, 30, 30, 23, 12]\n",
    "    \n",
    "}, index=['one', 'two', 'three', 'four', 'five', 'six'])  \n",
    "print(numbers)\n",
    "numbers1 = numbers.drop(['two','six'])\n",
    "print(numbers1)\n",
    "numbers2 = numbers.drop('two')\n",
    "print(numbers2)"
   ]
  },
  {
   "cell_type": "markdown",
   "metadata": {},
   "source": [
    "<div style=\"\">\n",
    "    <div style=\"float: left; width: 80%;\">\n",
    "        <a id=\"96\"></a>\n",
    "        <font><b>Task :</b></font>\n",
    "        <br><br>\n",
    "        Get group\n",
    "    </div>\n",
    "    <div style=\"float: right;\">\n",
    "        <a href=\"#top\" class=\"btn btn-primary btn-sm\" role=\"button\" aria-pressed=\"true\" style=\"color:white\" data-toggle=\"popover\" title=\"go to Top\">Go to Top</a>\n",
    "    </div>\n",
    "    <br style=\"clear: left;\" />\n",
    "</div> "
   ]
  },
  {
   "cell_type": "code",
   "execution_count": 101,
   "metadata": {},
   "outputs": [
    {
     "name": "stdout",
     "output_type": "stream",
     "text": [
      "Task 96:\n",
      "  animal size  weight  adult\n",
      "0    cat    S       8  False\n",
      "2    cat    M      11  False\n",
      "5    cat    L      12   True\n",
      "6    cat    L      12   True\n"
     ]
    }
   ],
   "source": [
    "print('Task 96:')\n",
    "cats = animals_df.groupby(['animal']).get_group('cat')\n",
    "print(cats)"
   ]
  },
  {
   "cell_type": "markdown",
   "metadata": {},
   "source": []
  },
  {
   "cell_type": "markdown",
   "metadata": {},
   "source": [
    "<div style=\"\">\n",
    "    <div style=\"float: left; width: 80%;\">\n",
    "        <a id=\"97\"></a>\n",
    "        <font><b>Task 97:</b></font>\n",
    "        <br><br>\n",
    "        Get the the odd row\n",
    "    </div>\n",
    "    <div style=\"float: right;\">\n",
    "        <a href=\"#top\" class=\"btn btn-primary btn-sm\" role=\"button\" aria-pressed=\"true\" style=\"color:white\" data-toggle=\"popover\" title=\"go to Top\">Go to Top</a>\n",
    "    </div>\n",
    "    <br style=\"clear: left;\" />\n",
    "</div>"
   ]
  },
  {
   "cell_type": "code",
   "execution_count": 102,
   "metadata": {},
   "outputs": [
    {
     "name": "stdout",
     "output_type": "stream",
     "text": [
      "Task 97:\n",
      "[[ 1  2  3  4  5]\n",
      " [ 6  7  8  9 10]\n",
      " [11 12 13 14 15]\n",
      " [16 17 18 19 20]]\n",
      "[[ 1  2  3  4  5]\n",
      " [11 12 13 14 15]]\n"
     ]
    }
   ],
   "source": [
    "print('Task 97:')  \n",
    "x = numpy.array([\n",
    "                    [ 1,  2,  3,  4,  5],\n",
    "                    [ 6,  7,  8,  9, 10],\n",
    "                    [11, 12, 13, 14, 15],\n",
    "                    [16, 17, 18, 19, 20]\n",
    "                ]\n",
    "    )\n",
    "print(x)\n",
    "print(x[::2])"
   ]
  },
  {
   "cell_type": "markdown",
   "metadata": {},
   "source": [
    "<div style=\"\">\n",
    "    <div style=\"float: left; width: 80%;\">\n",
    "        <a id=\"98\"></a>\n",
    "        <font><b>Task 98:</b></font>\n",
    "        <br><br>\n",
    "        Get the even columns\n",
    "    </div>\n",
    "    <div style=\"float: right;\">\n",
    "        <a href=\"#top\" class=\"btn btn-primary btn-sm\" role=\"button\" aria-pressed=\"true\" style=\"color:white\" data-toggle=\"popover\" title=\"go to Top\">Go to Top</a>\n",
    "    </div>\n",
    "    <br style=\"clear: left;\" />\n",
    "</div> "
   ]
  },
  {
   "cell_type": "code",
   "execution_count": 103,
   "metadata": {},
   "outputs": [
    {
     "name": "stdout",
     "output_type": "stream",
     "text": [
      "Task 98:\n",
      "[[ 1  2  3  4  5]\n",
      " [ 6  7  8  9 10]\n",
      " [11 12 13 14 15]\n",
      " [16 17 18 19 20]]\n",
      "[[ 2  4]\n",
      " [ 7  9]\n",
      " [12 14]\n",
      " [17 19]]\n"
     ]
    }
   ],
   "source": [
    "print('Task 98:')  \n",
    "x = numpy.array([\n",
    "                    [ 1,  2,  3,  4,  5],\n",
    "                    [ 6,  7,  8,  9, 10],\n",
    "                    [11, 12, 13, 14, 15],\n",
    "                    [16, 17, 18, 19, 20]\n",
    "                ]\n",
    "    )\n",
    "print(x)\n",
    "print(x[:, 1::2])"
   ]
  },
  {
   "cell_type": "markdown",
   "metadata": {},
   "source": [
    "<div style=\"\">\n",
    "    <div style=\"float: left; width: 80%;\">\n",
    "        <a id=\"99\"></a>\n",
    "        <font><b>Task 99:</b></font>\n",
    "        <br><br>\n",
    "        Odd rows and even columns\n",
    "    </div>\n",
    "    <div style=\"float: right;\">\n",
    "        <a href=\"#top\" class=\"btn btn-primary btn-sm\" role=\"button\" aria-pressed=\"true\" style=\"color:white\" data-toggle=\"popover\" title=\"go to Top\">Go to Top</a>\n",
    "    </div>\n",
    "    <br style=\"clear: left;\" />\n",
    "</div> "
   ]
  },
  {
   "cell_type": "code",
   "execution_count": 104,
   "metadata": {},
   "outputs": [
    {
     "name": "stdout",
     "output_type": "stream",
     "text": [
      "Task 99:\n",
      "[[ 1  2  3  4  5]\n",
      " [ 6  7  8  9 10]\n",
      " [11 12 13 14 15]\n",
      " [16 17 18 19 20]]\n",
      "[[ 2  4]\n",
      " [12 14]]\n"
     ]
    }
   ],
   "source": [
    "print('Task 99:')  \n",
    "\n",
    "x = numpy.array([\n",
    "                    [ 1,  2,  3,  4,  5],\n",
    "                    [ 6,  7,  8,  9, 10],\n",
    "                    [11, 12, 13, 14, 15],\n",
    "                    [16, 17, 18, 19, 20]\n",
    "                ]\n",
    "    )\n",
    "print(x)\n",
    "print(x[::2, 1::2])"
   ]
  },
  {
   "cell_type": "markdown",
   "metadata": {},
   "source": [
    "<div style=\"\">\n",
    "    <div style=\"float: left; width: 80%;\">\n",
    "        <a id=\"100\"></a>\n",
    "        <font><b>Task 100:</b></font>\n",
    "        <br><br>\n",
    "        Drop duplicates\n",
    "    </div>\n",
    "    <div style=\"float: right;\">\n",
    "        <a href=\"#top\" class=\"btn btn-primary btn-sm\" role=\"button\" aria-pressed=\"true\" style=\"color:white\" data-toggle=\"popover\" title=\"go to Top\">Go to Top</a>\n",
    "    </div>\n",
    "    <br style=\"clear: left;\" />\n",
    "</div>"
   ]
  },
  {
   "cell_type": "code",
   "execution_count": 105,
   "metadata": {},
   "outputs": [
    {
     "name": "stdout",
     "output_type": "stream",
     "text": [
      "Task 100:\n",
      "   id      city  count\n",
      "0   1   Toronto      7\n",
      "1   1  Montreal      8\n",
      "2   2   Calgary      9\n",
      "3   2  Montreal      2\n",
      "4   3  Montreal      7\n",
      "5   3    Ottawa      8\n",
      "   id      city  count\n",
      "0   1   Toronto      7\n",
      "2   2   Calgary      9\n",
      "4   3  Montreal      7\n"
     ]
    }
   ],
   "source": [
    "print('Task 100:')  \n",
    "users = pd.DataFrame({\n",
    "    \"id\": [1, 1, 2, 2, 3, 3], \n",
    "    \"city\": ['Toronto', 'Montreal', 'Calgary', 'Montreal', 'Montreal', 'Ottawa'],\n",
    "    \"count\" : [7, 8, 9, 2, 7, 8] \n",
    "    \n",
    "}) \n",
    "print(users)\n",
    "users.drop_duplicates('id', inplace=True)\n",
    "print(users)"
   ]
  },
  {
   "cell_type": "markdown",
   "metadata": {},
   "source": [
    "<div style=\"\">\n",
    "    <div style=\"float: left; width: 80%;\">\n",
    "        <a id=\"101\"></a>\n",
    "        <font><b>Task 101:</b></font>\n",
    "        <br><br>\n",
    "        Drop all duplicates\n",
    "    </div>\n",
    "    <div style=\"float: right;\">\n",
    "        <a href=\"#top\" class=\"btn btn-primary btn-sm\" role=\"button\" aria-pressed=\"true\" style=\"color:white\" data-toggle=\"popover\" title=\"go to Top\">Go to Top</a>\n",
    "    </div>\n",
    "    <br style=\"clear: left;\" />\n",
    "</div>"
   ]
  },
  {
   "cell_type": "code",
   "execution_count": 106,
   "metadata": {},
   "outputs": [
    {
     "name": "stdout",
     "output_type": "stream",
     "text": [
      "Task 101:\n",
      "    name      city  count\n",
      "0  kevin   Toronto      7\n",
      "1  james  Montreal      8\n",
      "2  kumar   Calgary      9\n",
      "3  kevin  Montreal      2\n",
      "4  kevin  Montreal      7\n",
      "5  james    Ottawa      8\n",
      "    name      city  count\n",
      "2  kumar   Calgary      9\n",
      "4  kevin  Montreal      7\n",
      "5  james    Ottawa      8\n",
      "    name      city  count\n",
      "2  kumar   Calgary      9\n",
      "4  kevin  Montreal      7\n",
      "5  james    Ottawa      8\n"
     ]
    }
   ],
   "source": [
    "print('Task 101:')  \n",
    "users = pd.DataFrame({\n",
    "    \"name\": ['kevin', 'james', 'kumar', 'kevin', 'kevin', 'james'], \n",
    "    \"city\": ['Toronto', 'Montreal', 'Calgary', 'Montreal', 'Montreal', 'Ottawa'],\n",
    "    \"count\" : [7, 8, 9, 2, 7, 8] \n",
    "    \n",
    "}) \n",
    "print(users)\n",
    "users.drop_duplicates('name', inplace=True, keep='last')\n",
    "print(users)\n",
    "users1 = users.drop_duplicates('name', keep=False)\n",
    "print(users1)"
   ]
  },
  {
   "cell_type": "markdown",
   "metadata": {},
   "source": [
    "<div style=\"\">\n",
    "    <div style=\"float: left; width: 80%;\">\n",
    "        <a id=\"102\"></a>\n",
    "        <font><b>Task 102:</b></font>\n",
    "        <br><br>\n",
    "        Basic group by\n",
    "    </div>\n",
    "    <div style=\"float: right;\">\n",
    "        <a href=\"#top\" class=\"btn btn-primary btn-sm\" role=\"button\" aria-pressed=\"true\" style=\"color:white\" data-toggle=\"popover\" title=\"go to Top\">Go to Top</a>\n",
    "    </div>\n",
    "    <br style=\"clear: left;\" />\n",
    "</div> "
   ]
  },
  {
   "cell_type": "code",
   "execution_count": 107,
   "metadata": {},
   "outputs": [
    {
     "name": "stdout",
     "output_type": "stream",
     "text": [
      "Task 102:\n",
      "animal\n",
      "cat     L\n",
      "dog     M\n",
      "fish    M\n",
      "dtype: object\n"
     ]
    }
   ],
   "source": [
    "print('Task 102:')\n",
    "animals_df1 = animals_df.groupby('animal').apply(lambda x: x['size'][x['weight'].idxmax()])\n",
    "print(animals_df1)"
   ]
  },
  {
   "cell_type": "markdown",
   "metadata": {},
   "source": [
    "<div style=\"\">\n",
    "    <div style=\"float: left; width: 80%;\">\n",
    "        <a id=\"102\"></a>\n",
    "        <font><b>Task 103:</b></font>\n",
    "        <br><br>\n",
    "        Missing Data:\n",
    "        Make A'th 3rd coulmn Nan\n",
    "    </div>\n",
    "    <div style=\"float: right;\">\n",
    "        <a href=\"#top\" class=\"btn btn-primary btn-sm\" role=\"button\" aria-pressed=\"true\" style=\"color:white\" data-toggle=\"popover\" title=\"go to Top\">Go to Top</a>\n",
    "    </div>\n",
    "    <br style=\"clear: left;\" />\n",
    "</div> "
   ]
  },
  {
   "cell_type": "code",
   "execution_count": 108,
   "metadata": {},
   "outputs": [
    {
     "name": "stdout",
     "output_type": "stream",
     "text": [
      "Task 103:\n",
      "                   A\n",
      "2013-08-01 -1.596971\n",
      "2013-08-02 -0.859353\n",
      "2013-08-05  0.777551\n",
      "2013-08-06 -1.192422\n",
      "2013-08-07  0.693411\n",
      "2013-08-08  1.536339\n",
      "                   A\n",
      "2013-08-01 -1.596971\n",
      "2013-08-02 -0.859353\n",
      "2013-08-05  0.777551\n",
      "2013-08-06       NaN\n",
      "2013-08-07  0.693411\n",
      "2013-08-08  1.536339\n"
     ]
    }
   ],
   "source": [
    "print('Task 103:')  \n",
    "df = pd.DataFrame(np.random.randn(6,1), index=pd.date_range('2013-08-01', periods=6, freq='B'), columns=list('A'))\n",
    "print(df)\n",
    "df.loc[df.index[3], 'A'] = np.nan\n",
    "print(df)"
   ]
  },
  {
   "cell_type": "markdown",
   "metadata": {},
   "source": [
    "<div style=\"\">\n",
    "    <div style=\"float: left; width: 80%;\">\n",
    "        <a id=\"104\"></a>\n",
    "        <font><b>Task 104:</b></font>\n",
    "        <br><br>\n",
    "        reindex\n",
    "    </div>\n",
    "    <div style=\"float: right;\">\n",
    "        <a href=\"#top\" class=\"btn btn-primary btn-sm\" role=\"button\" aria-pressed=\"true\" style=\"color:white\" data-toggle=\"popover\" title=\"go to Top\">Go to Top</a>\n",
    "    </div>\n",
    "    <br style=\"clear: left;\" />\n",
    "</div> "
   ]
  },
  {
   "cell_type": "code",
   "execution_count": 109,
   "metadata": {},
   "outputs": [
    {
     "name": "stdout",
     "output_type": "stream",
     "text": [
      "Task 104:\n",
      "                   A\n",
      "2013-08-08  1.536339\n",
      "2013-08-07  0.693411\n",
      "2013-08-06  0.693411\n",
      "2013-08-05  0.777551\n",
      "2013-08-02 -0.859353\n",
      "2013-08-01 -1.596971\n"
     ]
    }
   ],
   "source": [
    "print('Task 104:')\n",
    "df1 = df.reindex(df.index[::-1]).ffill()\n",
    "print(df1)"
   ]
  },
  {
   "cell_type": "markdown",
   "metadata": {},
   "source": [
    "<div style=\"\">\n",
    "    <div style=\"float: left; width: 80%;\">\n",
    "        <a id=\"105\"></a>\n",
    "        <font><b>Task 105:</b></font>\n",
    "        <br><br>\n",
    "        Column reset Nan\n",
    "    </div>\n",
    "    <div style=\"float: right;\">\n",
    "        <a href=\"#top\" class=\"btn btn-primary btn-sm\" role=\"button\" aria-pressed=\"true\" style=\"color:white\" data-toggle=\"popover\" title=\"go to Top\">Go to Top</a>\n",
    "    </div>\n",
    "    <br style=\"clear: left;\" />\n",
    "</div>"
   ]
  },
  {
   "cell_type": "code",
   "execution_count": 110,
   "metadata": {},
   "outputs": [
    {
     "name": "stdout",
     "output_type": "stream",
     "text": [
      "Task 105:\n",
      "  animal size  weight  adult\n",
      "0    cat    S       8  False\n",
      "1    dog    S      10  False\n",
      "2    cat    M      11  False\n",
      "3   fish    M       1  False\n",
      "4    dog    M      20  False\n",
      "5    cat    L      12   True\n",
      "6    cat    L      12   True\n"
     ]
    }
   ],
   "source": [
    "print('Task 105:')\n",
    "animals_df = pd.DataFrame({'animal': 'cat dog cat fish dog cat cat'.split(),\n",
    "                   'size': list('SSMMMLL'),\n",
    "                   'weight': [8, 10, 11, 1, 20, 12, 12],\n",
    "                   'adult' : [False] * 5 + [True] * 2})\n",
    "print(animals_df)"
   ]
  },
  {
   "cell_type": "markdown",
   "metadata": {},
   "source": [
    "### Extras"
   ]
  },
  {
   "cell_type": "markdown",
   "metadata": {},
   "source": [
    "<div style=\"\">\n",
    "    <div style=\"float: left; width: 80%;\">\n",
    "        <a id=\"106\"></a>\n",
    "        <font><b>Task 106:</b></font>\n",
    "        <br><br>\n",
    "        Change columns\n",
    "    </div>\n",
    "    <div style=\"float: right;\">\n",
    "        <a href=\"#top\" class=\"btn btn-primary btn-sm\" role=\"button\" aria-pressed=\"true\" style=\"color:white\" data-toggle=\"popover\" title=\"go to Top\">Go to Top</a>\n",
    "    </div>\n",
    "    <br style=\"clear: left;\" />\n",
    "</div>"
   ]
  },
  {
   "cell_type": "code",
   "execution_count": 111,
   "metadata": {},
   "outputs": [
    {
     "name": "stdout",
     "output_type": "stream",
     "text": [
      "Task 106:\n",
      "Before changing columns : \n",
      "    name      city\n",
      "0  kevin   Toronto\n",
      "1  james  Montreal\n",
      "2  kumar   Calgary\n",
      "3  kevin  Montreal\n",
      "4  kevin  Montreal\n",
      "5  james    Ottawa\n",
      "\n",
      "After changing columns : \n",
      "  first_name current_city\n",
      "0      kevin      Toronto\n",
      "1      james     Montreal\n",
      "2      kumar      Calgary\n",
      "3      kevin     Montreal\n",
      "4      kevin     Montreal\n",
      "5      james       Ottawa\n"
     ]
    }
   ],
   "source": [
    "# 106. Change columns\n",
    "print('Task 106:')\n",
    "\n",
    "users = pd.DataFrame({\n",
    "    \"name\": ['kevin', 'james', 'kumar', 'kevin', 'kevin', 'james'], \n",
    "    \"city\": ['Toronto', 'Montreal', 'Calgary', 'Montreal', 'Montreal', 'Ottawa']\n",
    "}) \n",
    "\n",
    "print('Before changing columns : ')\n",
    "print(users)\n",
    "\n",
    "# change columns\n",
    "users_new = users.rename({'name': 'first_name', 'city': 'current_city'}, axis = 1)\n",
    "\n",
    "print('\\nAfter changing columns : ')\n",
    "print(users_new)"
   ]
  },
  {
   "cell_type": "markdown",
   "metadata": {},
   "source": [
    "<div style=\"\">\n",
    "    <div style=\"float: left; width: 80%;\">\n",
    "        <a id=\"107\"></a>\n",
    "        <font><b>Task 107:</b></font>\n",
    "        <br><br>\n",
    "        Match with isin function\n",
    "    </div>\n",
    "    <div style=\"float: right;\">\n",
    "        <a href=\"#top\" class=\"btn btn-primary btn-sm\" role=\"button\" aria-pressed=\"true\" style=\"color:white\" data-toggle=\"popover\" title=\"go to Top\">Go to Top</a>\n",
    "    </div>\n",
    "    <br style=\"clear: left;\" />\n",
    "</div>"
   ]
  },
  {
   "cell_type": "code",
   "execution_count": 112,
   "metadata": {},
   "outputs": [
    {
     "name": "stdout",
     "output_type": "stream",
     "text": [
      "Task 107:\n",
      "Original Dataframe:\n",
      "    name      city\n",
      "0  kevin   Toronto\n",
      "1  james  Montreal\n",
      "2  kumar   Calgary\n",
      "3  kevin  Montreal\n",
      "4  kevin  Montreal\n",
      "5  james    Ottawa\n",
      "\n",
      "Finding `Montreal` in by using isin function :\n"
     ]
    },
    {
     "data": {
      "text/plain": [
       "name    False\n",
       "city     True\n",
       "dtype: bool"
      ]
     },
     "execution_count": 112,
     "metadata": {},
     "output_type": "execute_result"
    }
   ],
   "source": [
    "# 107. Match with isin function\n",
    "\n",
    "print('Task 107:')\n",
    "\n",
    "users = pd.DataFrame({\n",
    "    \"name\": ['kevin', 'james', 'kumar', 'kevin', 'kevin', 'james'], \n",
    "    \"city\": ['Toronto', 'Montreal', 'Calgary', 'Montreal', 'Montreal', 'Ottawa']\n",
    "}) \n",
    "\n",
    "print('Original Dataframe:')\n",
    "print(users)\n",
    "\n",
    "print('\\nFinding `Montreal` in by using isin function :')\n",
    "\n",
    "users.isin(['Montreal']).any()"
   ]
  },
  {
   "cell_type": "markdown",
   "metadata": {},
   "source": [
    "<div style=\"\">\n",
    "    <div style=\"float: left; width: 80%;\">\n",
    "        <a id=\"108\"></a>\n",
    "        <font><b>Task 108:</b></font>\n",
    "        <br><br>\n",
    "        Finding specific items by using `isin` function\n",
    "    </div>\n",
    "    <div style=\"float: right;\">\n",
    "        <a href=\"#top\" class=\"btn btn-primary btn-sm\" role=\"button\" aria-pressed=\"true\" style=\"color:white\" data-toggle=\"popover\" title=\"go to Top\">Go to Top</a>\n",
    "    </div>\n",
    "    <br style=\"clear: left;\" />\n",
    "</div>"
   ]
  },
  {
   "cell_type": "code",
   "execution_count": 113,
   "metadata": {},
   "outputs": [
    {
     "name": "stdout",
     "output_type": "stream",
     "text": [
      "Task 108:\n",
      "Original Dataframe: \n",
      "    name      city\n",
      "0  kevin   Toronto\n",
      "1  james  Montreal\n",
      "2  kumar   Calgary\n",
      "3  kevin  Montreal\n",
      "4  kevin  Montreal\n",
      "5  james    Ottawa\n",
      "\n",
      "Finding `Montreal` in using isin and stack them: \n",
      "1  city    Montreal\n",
      "3  city    Montreal\n",
      "4  city    Montreal\n",
      "dtype: object\n"
     ]
    }
   ],
   "source": [
    "# 108. Finding specific items by using `isin` function\n",
    "\n",
    "print('Task 108:')\n",
    "\n",
    "users = pd.DataFrame({\n",
    "    \"name\": ['kevin', 'james', 'kumar', 'kevin', 'kevin', 'james'], \n",
    "    \"city\": ['Toronto', 'Montreal', 'Calgary', 'Montreal', 'Montreal', 'Ottawa']\n",
    "}) \n",
    "\n",
    "print('Original Dataframe: ')\n",
    "print(users)\n",
    "\n",
    "print('\\nFinding `Montreal` in using isin and stack them: ')\n",
    "print(users[users.isin(['Montreal'])].stack())"
   ]
  },
  {
   "cell_type": "markdown",
   "metadata": {},
   "source": [
    "<div style=\"\">\n",
    "    <div style=\"float: left; width: 80%;\">\n",
    "        <a id=\"109\"></a>\n",
    "        <font><b>Task 109:</b></font>\n",
    "        <br><br>\n",
    "        Exclude specific matching\n",
    "    </div>\n",
    "    <div style=\"float: right;\">\n",
    "        <a href=\"#top\" class=\"btn btn-primary btn-sm\" role=\"button\" aria-pressed=\"true\" style=\"color:white\" data-toggle=\"popover\" title=\"go to Top\">Go to Top</a>\n",
    "    </div>\n",
    "    <br style=\"clear: left;\" />\n",
    "</div>"
   ]
  },
  {
   "cell_type": "code",
   "execution_count": 114,
   "metadata": {},
   "outputs": [
    {
     "name": "stdout",
     "output_type": "stream",
     "text": [
      "Task 109:\n",
      "Original Dataframe: \n",
      "    name      city\n",
      "0  kevin   Toronto\n",
      "1  james  Montreal\n",
      "2  kumar   Calgary\n",
      "3  kevin  Montreal\n",
      "4  kevin  Montreal\n",
      "5  james    Ottawa\n",
      "\n",
      "Excluding `Montreal` in using isin and stack them: \n",
      "0  name      kevin\n",
      "   city    Toronto\n",
      "1  name      james\n",
      "2  name      kumar\n",
      "   city    Calgary\n",
      "3  name      kevin\n",
      "4  name      kevin\n",
      "5  name      james\n",
      "   city     Ottawa\n",
      "dtype: object\n"
     ]
    }
   ],
   "source": [
    "# 109. Exclude specific matching\n",
    "\n",
    "print('Task 109:')\n",
    "\n",
    "users = pd.DataFrame({\n",
    "    \"name\": ['kevin', 'james', 'kumar', 'kevin', 'kevin', 'james'], \n",
    "    \"city\": ['Toronto', 'Montreal', 'Calgary', 'Montreal', 'Montreal', 'Ottawa']\n",
    "}) \n",
    "\n",
    "print('Original Dataframe: ')\n",
    "print(users)\n",
    "\n",
    "print('\\nExcluding `Montreal` in using isin and stack them: ')\n",
    "print(users[~users.isin(['Montreal'])].stack())"
   ]
  },
  {
   "cell_type": "markdown",
   "metadata": {},
   "source": [
    "<div style=\"\">\n",
    "    <div style=\"float: left; width: 80%;\">\n",
    "        <a id=\"110\"></a>\n",
    "        <font><b>Task 110:</b></font>\n",
    "        <br><br>\n",
    "        Apply a custom function on multiple columns\n",
    "    </div>\n",
    "    <div style=\"float: right;\">\n",
    "        <a href=\"#top\" class=\"btn btn-primary btn-sm\" role=\"button\" aria-pressed=\"true\" style=\"color:white\" data-toggle=\"popover\" title=\"go to Top\">Go to Top</a>\n",
    "    </div>\n",
    "    <br style=\"clear: left;\" />\n",
    "</div>"
   ]
  },
  {
   "cell_type": "code",
   "execution_count": 115,
   "metadata": {},
   "outputs": [
    {
     "name": "stdout",
     "output_type": "stream",
     "text": [
      "Task 110:\n",
      "Original Dataframe: \n",
      "   CIBC    TD\n",
      "0   200  1200\n",
      "1  4200   800\n",
      "2   300  4000\n",
      "3   300  2000\n",
      "Dataframe after applying the custom function: \n",
      "   CIBC    TD  Total\n",
      "0   200  1200   1200\n",
      "1  4200   800   5000\n",
      "2   300  4000   4000\n",
      "3   300  2000   2000\n"
     ]
    }
   ],
   "source": [
    "# 110. Apply a custom function on multiple columns\n",
    "\n",
    "print('Task 110:')\n",
    "\n",
    "amounts = pd.DataFrame({\n",
    "    \"CIBC\": [200, 4200, 300, 300], \n",
    "    \"TD\": [1200, 800, 4000, 2000]\n",
    "})\n",
    "\n",
    "print('Original Dataframe: ')\n",
    "print(amounts)\n",
    "\n",
    "def get_total_amount(x):\n",
    "    \n",
    "    # if the amount is less than 500, skip it\n",
    "    total_amount = 0\n",
    "    \n",
    "    if(x['CIBC'] > 499):\n",
    "        total_amount += x['CIBC']\n",
    "        \n",
    "    if(x['TD'] > 499):\n",
    "        total_amount += x['TD']\n",
    "    \n",
    "    return total_amount\n",
    "\n",
    "amounts['Total'] = amounts.apply(get_total_amount, axis = 1)\n",
    "\n",
    "print('Dataframe after applying the custom function: ')\n",
    "print(amounts)"
   ]
  },
  {
   "cell_type": "markdown",
   "metadata": {},
   "source": [
    "<div style=\"\">\n",
    "    <div style=\"float: left; width: 80%;\">\n",
    "        <a id=\"111\"></a>\n",
    "        <font><b>Task 111:</b></font>\n",
    "        <br><br>\n",
    "        iterrows as tuples\n",
    "    </div>\n",
    "    <div style=\"float: right;\">\n",
    "        <a href=\"#top\" class=\"btn btn-primary btn-sm\" role=\"button\" aria-pressed=\"true\" style=\"color:white\" data-toggle=\"popover\" title=\"go to Top\">Go to Top</a>\n",
    "    </div>\n",
    "    <br style=\"clear: left;\" />\n",
    "</div>"
   ]
  },
  {
   "cell_type": "code",
   "execution_count": 7,
   "metadata": {},
   "outputs": [
    {
     "name": "stdout",
     "output_type": "stream",
     "text": [
      "原始数据：\n",
      "   id      city  count\n",
      "0   1   Toronto      7\n",
      "1   1  Montreal      8\n",
      "2   2   Calgary      9\n",
      "3   2  Montreal      2\n",
      "4   3  Montreal      7\n",
      "5   3    Ottawa      8\n",
      "\n",
      "遍历行作为元组：\n",
      "Toronto\n",
      "Montreal\n",
      "Calgary\n",
      "Montreal\n",
      "Montreal\n",
      "Ottawa\n"
     ]
    }
   ],
   "source": [
    "# 111. iterrows as tuples\n",
    "\n",
    "# 导入pandas库\n",
    "import pandas as pd\n",
    "\n",
    "# 创建一个DataFrame对象，包含id、city和count三列数据\n",
    "users = pd.DataFrame({\n",
    "    \"id\": [1, 1, 2, 2, 3, 3], \n",
    "    \"city\": ['Toronto', 'Montreal', 'Calgary', 'Montreal', 'Montreal', 'Ottawa'],\n",
    "    \"count\" : [7, 8, 9, 2, 7, 8] \n",
    "})\n",
    "\n",
    "# 打印原始的DataFrame对象\n",
    "print('原始数据：')\n",
    "print(users)\n",
    "\n",
    "# 打印注释：遍历DataFrame的行，将每一行作为元组进行迭代\n",
    "print('\\n遍历行作为元组：')\n",
    "for row in users.itertuples():\n",
    "    print(row.city)\n",
    "\n",
    "# itertuples()方法可以将DataFrame的每一行转换为一个命名元组，其中元组的命名属性对应着DataFrame的列名。\n",
    "# 使用itertuples()方法遍历DataFrame的行时，可以通过属性名来访问每个字段的值，而不需要通过列索引。这样可以更方便地处理和操作数据。"
   ]
  },
  {
   "cell_type": "markdown",
   "metadata": {},
   "source": [
    "<div style=\"\">\n",
    "    <div style=\"float: left; width: 80%;\">\n",
    "        <a id=\"112\"></a>\n",
    "        <font><b>Task 112:</b></font>\n",
    "        <br><br>\n",
    "        Dataframe with NaN\n",
    "    </div>\n",
    "    <div style=\"float: right;\">\n",
    "        <a href=\"#top\" class=\"btn btn-primary btn-sm\" role=\"button\" aria-pressed=\"true\" style=\"color:white\" data-toggle=\"popover\" title=\"go to Top\">Go to Top</a>\n",
    "    </div>\n",
    "    <br style=\"clear: left;\" />\n",
    "</div>"
   ]
  },
  {
   "cell_type": "code",
   "execution_count": 117,
   "metadata": {},
   "outputs": [
    {
     "name": "stdout",
     "output_type": "stream",
     "text": [
      "Task 112:\n",
      "    A   B   C\n",
      "0 NaN NaN NaN\n",
      "1 NaN NaN NaN\n",
      "2 NaN NaN NaN\n"
     ]
    }
   ],
   "source": [
    "# 112. Dataframe with NaN\n",
    "\n",
    "print('Task 112:')\n",
    "\n",
    "df = pd.DataFrame(np.nan, index = [0, 1, 2], columns = ['A', 'B', 'C'])\n",
    "\n",
    "print(df)"
   ]
  },
  {
   "cell_type": "markdown",
   "metadata": {},
   "source": [
    "<div style=\"\">\n",
    "    <div style=\"float: left; width: 80%;\">\n",
    "        <a id=\"113\"></a>\n",
    "        <font><b>Task 113:</b></font>\n",
    "        <br><br>\n",
    "        Simple Dataframe with NaN\n",
    "    </div>\n",
    "    <div style=\"float: right;\">\n",
    "        <a href=\"#top\" class=\"btn btn-primary btn-sm\" role=\"button\" aria-pressed=\"true\" style=\"color:white\" data-toggle=\"popover\" title=\"go to Top\">Go to Top</a>\n",
    "    </div>\n",
    "    <br style=\"clear: left;\" />\n",
    "</div>"
   ]
  },
  {
   "cell_type": "code",
   "execution_count": 5,
   "metadata": {},
   "outputs": [
    {
     "name": "stdout",
     "output_type": "stream",
     "text": [
      "Task 113:\n",
      "    0\n",
      "A NaN\n",
      "B NaN\n",
      "C NaN\n",
      "D NaN\n",
      "E NaN\n"
     ]
    }
   ],
   "source": [
    "# 113. Simple Dataframe with NaN\n",
    "\n",
    "print('Task 113:')\n",
    "index = ['A', 'B', 'C', 'D', 'E']\n",
    "df = pd.DataFrame([np.nan] * 5, index=index)\n",
    "\n",
    "print(df)"
   ]
  },
  {
   "cell_type": "markdown",
   "metadata": {},
   "source": [
    "<div style=\"\">\n",
    "    <div style=\"float: left; width: 80%;\">\n",
    "        <a id=\"114\"></a>\n",
    "        <font><b>Task 114:</b></font>\n",
    "        <br><br>\n",
    "        Pandas and Date with Range\n",
    "    </div>\n",
    "    <div style=\"float: right;\">\n",
    "        <a href=\"#top\" class=\"btn btn-primary btn-sm\" role=\"button\" aria-pressed=\"true\" style=\"color:white\" data-toggle=\"popover\" title=\"go to Top\">Go to Top</a>\n",
    "    </div>\n",
    "    <br style=\"clear: left;\" />\n",
    "</div>"
   ]
  },
  {
   "cell_type": "code",
   "execution_count": 119,
   "metadata": {},
   "outputs": [
    {
     "name": "stdout",
     "output_type": "stream",
     "text": [
      "Task 114:\n",
      "         date\n",
      "0  2012-01-01\n",
      "1  2012-02-01\n",
      "2  2012-03-01\n",
      "3  2012-04-01\n",
      "4  2012-05-01\n",
      "5  2012-06-01\n",
      "6  2012-07-01\n",
      "7  2012-08-01\n",
      "8  2012-09-01\n",
      "9  2012-10-01\n"
     ]
    }
   ],
   "source": [
    "# 114. Pandas and Date with Range\n",
    "\n",
    "import datetime as dt\n",
    "\n",
    "# 导入datetime模块，并将其重命名为dt\n",
    "\n",
    "pd.np.random.seed(0)\n",
    "\n",
    "# 设置随机数种子为0，以确保每次运行代码时生成的随机数序列相同\n",
    "\n",
    "df = pd.DataFrame({\n",
    "     \"date\" : [dt.date(2012, x, 1) for x in range(1, 11)]\n",
    "})\n",
    "\n",
    "# 创建一个包含日期的列表，其中每个日期的年、月、日由变量x指定\n",
    "# 使用dt.date(2012, x, 1)来创建日期对象，其中2012是年份，x是月份（从1到10），1是日期（假设每个月都有1号）\n",
    "# 将这个日期列表作为数据传递给pd.DataFrame()函数，创建一个名为df的DataFrame对象\n",
    "# DataFrame的每一列对应一个日期\n",
    "\n",
    "print(df)\n",
    "\n",
    "# 打印DataFrame对象df的内容，即包含10个日期的表格\n"
   ]
  },
  {
   "cell_type": "markdown",
   "metadata": {},
   "source": [
    "<div style=\"\">\n",
    "    <div style=\"float: left; width: 80%;\">\n",
    "        <a id=\"115\"></a>\n",
    "        <font><b>Task 115:</b></font>\n",
    "        <br><br>\n",
    "        Pandas and Numpy Repeat\n",
    "    </div>\n",
    "    <div style=\"float: right;\">\n",
    "        <a href=\"#top\" class=\"btn btn-primary btn-sm\" role=\"button\" aria-pressed=\"true\" style=\"color:white\" data-toggle=\"popover\" title=\"go to Top\">Go to Top</a>\n",
    "    </div>\n",
    "    <br style=\"clear: left;\" />\n",
    "</div>"
   ]
  },
  {
   "cell_type": "code",
   "execution_count": 8,
   "metadata": {},
   "outputs": [
    {
     "name": "stdout",
     "output_type": "stream",
     "text": [
      "Task 115:\n",
      "   entry\n",
      "0      3\n",
      "1      3\n",
      "2      3\n",
      "3      3\n",
      "4      3\n",
      "5      3\n",
      "6      3\n",
      "7      3\n"
     ]
    }
   ],
   "source": [
    "# 115. Pandas and Numpy Repeat\n",
    "\n",
    "print('Task 115:')\n",
    "\n",
    "df = pd.DataFrame({\n",
    "     \"entry\" : np.repeat(3, 8) # Repeat the number for 7 times\n",
    "})\n",
    "\n",
    "print(df)"
   ]
  },
  {
   "cell_type": "markdown",
   "metadata": {},
   "source": [
    "<div style=\"\">\n",
    "    <div style=\"float: left; width: 80%;\">\n",
    "        <a id=\"116\"></a>\n",
    "        <font><b>Task 116:</b></font>\n",
    "        <br><br>\n",
    "        read_sql in Pandas\n",
    "    </div>\n",
    "    <div style=\"float: right;\">\n",
    "        <a href=\"#top\" class=\"btn btn-primary btn-sm\" role=\"button\" aria-pressed=\"true\" style=\"color:white\" data-toggle=\"popover\" title=\"go to Top\">Go to Top</a>\n",
    "    </div>\n",
    "    <br style=\"clear: left;\" />\n",
    "</div>"
   ]
  },
  {
   "cell_type": "code",
   "execution_count": 11,
   "metadata": {
    "tags": []
   },
   "outputs": [
    {
     "name": "stdout",
     "output_type": "stream",
     "text": [
      "ID INTEGER\n",
      "Name varchar(20)\n",
      "Hint TEXT\n"
     ]
    }
   ],
   "source": [
    "import sqlite3\n",
    "\n",
    "# 连接到数据库\n",
    "conn = sqlite3.connect('./data/sample.db')\n",
    "cursor = conn.cursor()\n",
    "\n",
    "# 查询表的结构\n",
    "cursor.execute(\"PRAGMA table_info(DEMO)\")\n",
    "columns = cursor.fetchall()\n",
    "\n",
    "# 打印字段名和数据类型\n",
    "for column in columns:\n",
    "    print(column[1], column[2])\n",
    "\n",
    "# 关闭连接\n",
    "cursor.close()\n",
    "conn.close()"
   ]
  },
  {
   "cell_type": "code",
   "execution_count": 15,
   "metadata": {},
   "outputs": [
    {
     "name": "stdout",
     "output_type": "stream",
     "text": [
      "Task 116:\n",
      "    ID                Name                                               Hint\n",
      "0    1          SQL Online                                   for Data Science\n",
      "1    2               Chart      LINE-SELECT name, cos(id), sin(id) FROM demo;\n",
      "2    3          Short CODE  s* tableName => SELECT * FROM tableName\\r\\nsf ...\n",
      "3    4       SqLite 3.33.0                           SQL OnLine on JavaScript\n",
      "4    5        MultiVersion                  3.28.0 to Last (load on settings)\n",
      "5    6  [RightClick] mouse                     Opens many additional features\n",
      "6    7   Left-Panel, Table     [RightClick] mouse \"Context menu\" or [DbClick]\n",
      "7    8                Tabs  mouse: [RightClick] , [MiddleClick] , [Wheel] ...\n",
      "8    9          SQL Editor  autocomplete: [Ctrl-Space] or [Alt-Space]; run...\n",
      "9   10          Size table                           Fast scroll million rows\n",
      "10  11               Share                              Create public link DB\n",
      "11  12              ai.Url                https://twitter.com/SqliteOnlineCom\n",
      "12  13            ai.Color                                            #9393ad\n",
      "13  14            ai.Image  Blob - png, jpg, gif or String(base64) [DbClic...\n",
      "14  15                 SQL                             Syntax example library\n",
      "15  16              CREATE               CREATE TABLE table_name (col1, col2)\n",
      "16  17              SELECT                           SELECT * FROM table_name\n",
      "17  18              INSERT  INSERT INTO table_name (col1, col2) VALUES (\"e...\n",
      "18  19              UPDATE  UPDATE table_name SET col1=\"work\" WHERE col2=\"...\n",
      "19  20              DELETE                             DELETE FROM table_name\n"
     ]
    }
   ],
   "source": [
    "# 116. read_sql in Pandas\n",
    "\n",
    "print('Task 116:')\n",
    "\n",
    "import sqlite3 as sql\n",
    "\n",
    "conn = sql.connect('./data/sample.db')\n",
    "\n",
    "demo_df = pd.read_sql('SELECT ID, NAME FROM DEMO', conn)  # 所有列用*\n",
    "\n",
    "print(demo_df)\n",
    "\n",
    "# Note: online sqlite https://sqliteonline.com/"
   ]
  },
  {
   "cell_type": "code",
   "execution_count": 16,
   "metadata": {
    "tags": []
   },
   "outputs": [
    {
     "name": "stdout",
     "output_type": "stream",
     "text": [
      "    ID                Name                                               Hint\n",
      "0    1          SQL Online                                   for Data Science\n",
      "1    2               Chart      LINE-SELECT name, cos(id), sin(id) FROM demo;\n",
      "2    3          Short CODE  s* tableName => SELECT * FROM tableName\\r\\nsf ...\n",
      "3    4       SqLite 3.33.0                           SQL OnLine on JavaScript\n",
      "4    5        MultiVersion                  3.28.0 to Last (load on settings)\n",
      "5    6  [RightClick] mouse                     Opens many additional features\n",
      "6    7   Left-Panel, Table     [RightClick] mouse \"Context menu\" or [DbClick]\n",
      "7    8                Tabs  mouse: [RightClick] , [MiddleClick] , [Wheel] ...\n",
      "8    9          SQL Editor  autocomplete: [Ctrl-Space] or [Alt-Space]; run...\n",
      "9   10          Size table                           Fast scroll million rows\n",
      "10  11               Share                              Create public link DB\n",
      "11  12              ai.Url                https://twitter.com/SqliteOnlineCom\n",
      "12  13            ai.Color                                            #9393ad\n",
      "13  14            ai.Image  Blob - png, jpg, gif or String(base64) [DbClic...\n",
      "14  15                 SQL                             Syntax example library\n",
      "15  16              CREATE               CREATE TABLE table_name (col1, col2)\n",
      "16  17              SELECT                           SELECT * FROM table_name\n",
      "17  18              INSERT  INSERT INTO table_name (col1, col2) VALUES (\"e...\n",
      "18  19              UPDATE  UPDATE table_name SET col1=\"work\" WHERE col2=\"...\n",
      "19  20              DELETE                             DELETE FROM table_name\n"
     ]
    }
   ],
   "source": [
    "import pandas as pd\n",
    "import sqlite3 as sql\n",
    "\n",
    "conn = sql.connect('./data/sample.db')\n",
    "\n",
    "# 获取表的所有列名\n",
    "cursor = conn.cursor()\n",
    "cursor.execute(\"PRAGMA table_info(DEMO)\")\n",
    "columns = [column[1] for column in cursor.fetchall()]\n",
    "\n",
    "# 使用pandas的read_sql方法读取所有列的数据\n",
    "demo_df = pd.read_sql('SELECT * FROM DEMO', conn, columns=columns)\n",
    "\n",
    "print(demo_df)\n"
   ]
  },
  {
   "cell_type": "markdown",
   "metadata": {},
   "source": [
    "<div style=\"\">\n",
    "    <div style=\"float: left; width: 80%;\">\n",
    "        <a id=\"117\"></a>\n",
    "        <font><b>Task 117:</b></font>\n",
    "        <br><br>\n",
    "        Get a single value by iat\n",
    "    </div>\n",
    "    <div style=\"float: right;\">\n",
    "        <a href=\"#top\" class=\"btn btn-primary btn-sm\" role=\"button\" aria-pressed=\"true\" style=\"color:white\" data-toggle=\"popover\" title=\"go to Top\">Go to Top</a>\n",
    "    </div>\n",
    "    <br style=\"clear: left;\" />\n",
    "</div>"
   ]
  },
  {
   "cell_type": "code",
   "execution_count": 124,
   "metadata": {},
   "outputs": [
    {
     "name": "stdout",
     "output_type": "stream",
     "text": [
      "Task 117:\n",
      "\n",
      "Original Dataframe:\n",
      "    a   b\n",
      "0  44  47\n",
      "1  64  67\n",
      "2  67   9\n",
      "3  83  21\n",
      "4  36  87\n",
      "5  70  88\n",
      "6  88  12\n",
      "\n",
      "Getting value at 3rd row and first col:\n",
      "21\n"
     ]
    }
   ],
   "source": [
    "# 117. Get a single value by iat\n",
    "\n",
    "print('Task 117:')\n",
    "\n",
    "df = pd.DataFrame(np.random.randint(0, 100, size = (7, 2)), columns = list('ab'))\n",
    "\n",
    "print('\\nOriginal Dataframe:')\n",
    "print(df)\n",
    "\n",
    "val = df.iat[3, 1]\n",
    "\n",
    "print('\\nGetting value at 3rd row and first col:')\n",
    "print(val)"
   ]
  },
  {
   "cell_type": "markdown",
   "metadata": {},
   "source": [
    "<div style=\"\">\n",
    "    <div style=\"float: left; width: 80%;\">\n",
    "        <a id=\"118\"></a>\n",
    "        <font><b>Task 118:</b></font>\n",
    "        <br><br>\n",
    "        Get last n elements\n",
    "    </div>\n",
    "    <div style=\"float: right;\">\n",
    "        <a href=\"#top\" class=\"btn btn-primary btn-sm\" role=\"button\" aria-pressed=\"true\" style=\"color:white\" data-toggle=\"popover\" title=\"go to Top\">Go to Top</a>\n",
    "    </div>\n",
    "    <br style=\"clear: left;\" />\n",
    "</div>"
   ]
  },
  {
   "cell_type": "code",
   "execution_count": 125,
   "metadata": {},
   "outputs": [
    {
     "name": "stdout",
     "output_type": "stream",
     "text": [
      "Task 118:\n",
      "\n",
      "Original Dataframe:\n",
      "    a   b\n",
      "0  58  65\n",
      "1  39  87\n",
      "2  46  88\n",
      "3  81  37\n",
      "4  25  77\n",
      "5  72   9\n",
      "6  20  80\n",
      "\n",
      "Last 3 rows:\n",
      "    a   b\n",
      "4  25  77\n",
      "5  72   9\n",
      "6  20  80\n"
     ]
    }
   ],
   "source": [
    "# 118. Get last n elements\n",
    "\n",
    "print('Task 118:')\n",
    "\n",
    "df = pd.DataFrame(np.random.randint(0, 100, size = (7, 2)), columns = list('ab'))\n",
    "\n",
    "print('\\nOriginal Dataframe:')\n",
    "print(df)\n",
    "\n",
    "tail_df = df.tail(3)\n",
    "\n",
    "print('\\nLast 3 rows:')\n",
    "print(tail_df)"
   ]
  },
  {
   "cell_type": "markdown",
   "metadata": {},
   "source": [
    "<div style=\"\">\n",
    "    <div style=\"float: left; width: 80%;\">\n",
    "        <a id=\"119\"></a>\n",
    "        <font><b>Task 119:</b></font>\n",
    "        <br><br>\n",
    "        Add data one by one by using loc function\n",
    "    </div>\n",
    "    <div style=\"float: right;\">\n",
    "        <a href=\"#top\" class=\"btn btn-primary btn-sm\" role=\"button\" aria-pressed=\"true\" style=\"color:white\" data-toggle=\"popover\" title=\"go to Top\">Go to Top</a>\n",
    "    </div>\n",
    "    <br style=\"clear: left;\" />\n",
    "</div>"
   ]
  },
  {
   "cell_type": "code",
   "execution_count": 152,
   "metadata": {},
   "outputs": [
    {
     "data": {
      "text/html": [
       "<div>\n",
       "<style scoped>\n",
       "    .dataframe tbody tr th:only-of-type {\n",
       "        vertical-align: middle;\n",
       "    }\n",
       "\n",
       "    .dataframe tbody tr th {\n",
       "        vertical-align: top;\n",
       "    }\n",
       "\n",
       "    .dataframe thead th {\n",
       "        text-align: right;\n",
       "    }\n",
       "</style>\n",
       "<table border=\"1\" class=\"dataframe\">\n",
       "  <thead>\n",
       "    <tr style=\"text-align: right;\">\n",
       "      <th></th>\n",
       "      <th>rows</th>\n",
       "      <th>cols</th>\n",
       "      <th>time taken</th>\n",
       "    </tr>\n",
       "  </thead>\n",
       "  <tbody>\n",
       "    <tr>\n",
       "      <th>Dataset1 - Dask</th>\n",
       "      <td>1000</td>\n",
       "      <td>20</td>\n",
       "      <td>10</td>\n",
       "    </tr>\n",
       "    <tr>\n",
       "      <th>Dataset1 - Pandas</th>\n",
       "      <td>1000</td>\n",
       "      <td>20</td>\n",
       "      <td>15</td>\n",
       "    </tr>\n",
       "  </tbody>\n",
       "</table>\n",
       "</div>"
      ],
      "text/plain": [
       "                   rows  cols  time taken\n",
       "Dataset1 - Dask    1000    20          10\n",
       "Dataset1 - Pandas  1000    20          15"
      ]
     },
     "execution_count": 152,
     "metadata": {},
     "output_type": "execute_result"
    }
   ],
   "source": [
    "# 119. Add data one by one by using loc function\n",
    "\n",
    "df = pd.DataFrame(columns = ['rows', 'cols', 'time taken'])\n",
    "\n",
    "df.loc['Dataset1 - Dask'] = (1000, 20, 10)\n",
    "df.loc['Dataset1 - Pandas'] = (1000, 20, 15)\n",
    "\n",
    "df"
   ]
  },
  {
   "cell_type": "code",
   "execution_count": 153,
   "metadata": {},
   "outputs": [
    {
     "name": "stdout",
     "output_type": "stream",
     "text": [
      "Requirement already satisfied: country_converter in e:\\geo_data\\venv\\lib\\site-packages (1.0.0)\n",
      "Requirement already satisfied: pandas>=1.0 in e:\\geo_data\\venv\\lib\\site-packages (from country_converter) (1.5.3)\n",
      "Requirement already satisfied: python-dateutil>=2.8.1 in e:\\geo_data\\venv\\lib\\site-packages (from pandas>=1.0->country_converter) (2.8.2)\n",
      "Requirement already satisfied: pytz>=2020.1 in e:\\geo_data\\venv\\lib\\site-packages (from pandas>=1.0->country_converter) (2023.3)\n",
      "Requirement already satisfied: numpy>=1.21.0 in e:\\geo_data\\venv\\lib\\site-packages (from pandas>=1.0->country_converter) (1.24.3)\n",
      "Requirement already satisfied: six>=1.5 in e:\\geo_data\\venv\\lib\\site-packages (from python-dateutil>=2.8.1->pandas>=1.0->country_converter) (1.16.0)\n"
     ]
    },
    {
     "name": "stderr",
     "output_type": "stream",
     "text": [
      "WARNING: Ignoring invalid distribution -yproj (e:\\geo_data\\venv\\lib\\site-packages)\n",
      "WARNING: Ignoring invalid distribution -yproj (e:\\geo_data\\venv\\lib\\site-packages)\n"
     ]
    }
   ],
   "source": [
    "!pip install country_converter"
   ]
  },
  {
   "cell_type": "markdown",
   "metadata": {},
   "source": [
    "<div style=\"\">\n",
    "    <div style=\"float: left; width: 80%;\">\n",
    "        <a id=\"120\"></a>\n",
    "        <font><b>Task 120:</b></font>\n",
    "        <br><br>\n",
    "        Convert country in Dataframe\n",
    "    </div>\n",
    "    <div style=\"float: right;\">\n",
    "        <a href=\"#top\" class=\"btn btn-primary btn-sm\" role=\"button\" aria-pressed=\"true\" style=\"color:white\" data-toggle=\"popover\" title=\"go to Top\">Go to Top</a>\n",
    "    </div>\n",
    "    <br style=\"clear: left;\" />\n",
    "</div>"
   ]
  },
  {
   "cell_type": "code",
   "execution_count": 154,
   "metadata": {},
   "outputs": [
    {
     "name": "stdout",
     "output_type": "stream",
     "text": [
      "Before:\n",
      "  code\n",
      "0   IN\n",
      "1  USA\n",
      "2   BR\n",
      "3  CAN\n",
      "\n",
      "After:\n",
      "  code        country\n",
      "0   IN          India\n",
      "1  USA  United States\n",
      "2   BR         Brazil\n",
      "3  CAN         Canada\n"
     ]
    }
   ],
   "source": [
    "# 120. Convert country in Dataframe \n",
    "\n",
    "import country_converter as coco\n",
    "import pandas as pd\n",
    "\n",
    "df = pd.DataFrame({'code': ['IN', 'USA', 'BR', 'CAN']})\n",
    "\n",
    "print('Before:')\n",
    "print(df)\n",
    "\n",
    "df['country'] = df.code.apply(lambda x: coco.convert(names = x, to = 'name_short', not_found = None))\n",
    "\n",
    "print('\\nAfter:')\n",
    "print(df)"
   ]
  },
  {
   "cell_type": "markdown",
   "metadata": {},
   "source": [
    "<div style=\"\">\n",
    "    <div style=\"float: left; width: 80%;\">\n",
    "        <a id=\"121\"></a>\n",
    "        <font><b>Task 121:</b></font>\n",
    "        <br><br>\n",
    "        Group by multiple columns\n",
    "    </div>\n",
    "    <div style=\"float: right;\">\n",
    "        <a href=\"#top\" class=\"btn btn-primary btn-sm\" role=\"button\" aria-pressed=\"true\" style=\"color:white\" data-toggle=\"popover\" title=\"go to Top\">Go to Top</a>\n",
    "    </div>\n",
    "    <br style=\"clear: left;\" />\n",
    "</div>"
   ]
  },
  {
   "cell_type": "code",
   "execution_count": 155,
   "metadata": {},
   "outputs": [
    {
     "data": {
      "text/html": [
       "<div>\n",
       "<style scoped>\n",
       "    .dataframe tbody tr th:only-of-type {\n",
       "        vertical-align: middle;\n",
       "    }\n",
       "\n",
       "    .dataframe tbody tr th {\n",
       "        vertical-align: top;\n",
       "    }\n",
       "\n",
       "    .dataframe thead th {\n",
       "        text-align: right;\n",
       "    }\n",
       "</style>\n",
       "<table border=\"1\" class=\"dataframe\">\n",
       "  <thead>\n",
       "    <tr style=\"text-align: right;\">\n",
       "      <th></th>\n",
       "      <th></th>\n",
       "      <th>last_name</th>\n",
       "      <th>company_name</th>\n",
       "      <th>address</th>\n",
       "      <th>city</th>\n",
       "      <th>postal</th>\n",
       "      <th>phone1</th>\n",
       "      <th>phone2</th>\n",
       "      <th>email</th>\n",
       "      <th>web</th>\n",
       "    </tr>\n",
       "    <tr>\n",
       "      <th>county</th>\n",
       "      <th>first_name</th>\n",
       "      <th></th>\n",
       "      <th></th>\n",
       "      <th></th>\n",
       "      <th></th>\n",
       "      <th></th>\n",
       "      <th></th>\n",
       "      <th></th>\n",
       "      <th></th>\n",
       "      <th></th>\n",
       "    </tr>\n",
       "  </thead>\n",
       "  <tbody>\n",
       "    <tr>\n",
       "      <th>Stockton-on-Tees</th>\n",
       "      <th>Destiny</th>\n",
       "      <td>Madlem</td>\n",
       "      <td>Diesel Recon</td>\n",
       "      <td>421 Monument Place #44</td>\n",
       "      <td>Hartburn Ward</td>\n",
       "      <td>TS21 1BA</td>\n",
       "      <td>01421-624966</td>\n",
       "      <td>01819-393510</td>\n",
       "      <td>destiny@yahoo.com</td>\n",
       "      <td>http://www.dieselrecon.co.uk</td>\n",
       "    </tr>\n",
       "    <tr>\n",
       "      <th>West Midlands</th>\n",
       "      <th>Jerlene</th>\n",
       "      <td>Holtgrewe</td>\n",
       "      <td>Granite Construction Co</td>\n",
       "      <td>33 Fonthill Rd</td>\n",
       "      <td>Hodge Hill Ward</td>\n",
       "      <td>B36 8JE</td>\n",
       "      <td>01993-956208</td>\n",
       "      <td>01993-323238</td>\n",
       "      <td>jholtgrewe@yahoo.com</td>\n",
       "      <td>http://www.graniteconstructionco.co.uk</td>\n",
       "    </tr>\n",
       "    <tr>\n",
       "      <th>Warwickshire</th>\n",
       "      <th>Sunshine</th>\n",
       "      <td>Senechal</td>\n",
       "      <td>Dale, George F Esq</td>\n",
       "      <td>40 Cairo St</td>\n",
       "      <td>Warwick</td>\n",
       "      <td>CV34 5LQ</td>\n",
       "      <td>01416-686933</td>\n",
       "      <td>01839-700945</td>\n",
       "      <td>sunshine.senechal@hotmail.com</td>\n",
       "      <td>http://www.dalegeorgefesq.co.uk</td>\n",
       "    </tr>\n",
       "    <tr>\n",
       "      <th>Greater London</th>\n",
       "      <th>Amina</th>\n",
       "      <td>Goulbourne</td>\n",
       "      <td>Poag Grain Inc</td>\n",
       "      <td>684 Cotswold St</td>\n",
       "      <td>Victoria Ward</td>\n",
       "      <td>E9 7NG</td>\n",
       "      <td>01536-114519</td>\n",
       "      <td>01830-969710</td>\n",
       "      <td>amina@yahoo.com</td>\n",
       "      <td>http://www.poaggraininc.co.uk</td>\n",
       "    </tr>\n",
       "    <tr>\n",
       "      <th>Dunbartonshire</th>\n",
       "      <th>Nina</th>\n",
       "      <td>Yaklin</td>\n",
       "      <td>Ramm Metals Inc</td>\n",
       "      <td>5679 Gloucester Pl</td>\n",
       "      <td>Calton Ward</td>\n",
       "      <td>G40 4BH</td>\n",
       "      <td>01434-621318</td>\n",
       "      <td>01370-171283</td>\n",
       "      <td>nyaklin@hotmail.com</td>\n",
       "      <td>http://www.rammmetalsinc.co.uk</td>\n",
       "    </tr>\n",
       "  </tbody>\n",
       "</table>\n",
       "</div>"
      ],
      "text/plain": [
       "                              last_name             company_name  \\\n",
       "county           first_name                                        \n",
       "Stockton-on-Tees Destiny         Madlem             Diesel Recon   \n",
       "West Midlands    Jerlene      Holtgrewe  Granite Construction Co   \n",
       "Warwickshire     Sunshine      Senechal       Dale, George F Esq   \n",
       "Greater London   Amina       Goulbourne           Poag Grain Inc   \n",
       "Dunbartonshire   Nina            Yaklin          Ramm Metals Inc   \n",
       "\n",
       "                                            address             city  \\\n",
       "county           first_name                                            \n",
       "Stockton-on-Tees Destiny     421 Monument Place #44    Hartburn Ward   \n",
       "West Midlands    Jerlene             33 Fonthill Rd  Hodge Hill Ward   \n",
       "Warwickshire     Sunshine               40 Cairo St          Warwick   \n",
       "Greater London   Amina              684 Cotswold St    Victoria Ward   \n",
       "Dunbartonshire   Nina            5679 Gloucester Pl      Calton Ward   \n",
       "\n",
       "                               postal        phone1        phone2  \\\n",
       "county           first_name                                         \n",
       "Stockton-on-Tees Destiny     TS21 1BA  01421-624966  01819-393510   \n",
       "West Midlands    Jerlene      B36 8JE  01993-956208  01993-323238   \n",
       "Warwickshire     Sunshine    CV34 5LQ  01416-686933  01839-700945   \n",
       "Greater London   Amina         E9 7NG  01536-114519  01830-969710   \n",
       "Dunbartonshire   Nina         G40 4BH  01434-621318  01370-171283   \n",
       "\n",
       "                                                     email  \\\n",
       "county           first_name                                  \n",
       "Stockton-on-Tees Destiny                 destiny@yahoo.com   \n",
       "West Midlands    Jerlene              jholtgrewe@yahoo.com   \n",
       "Warwickshire     Sunshine    sunshine.senechal@hotmail.com   \n",
       "Greater London   Amina                     amina@yahoo.com   \n",
       "Dunbartonshire   Nina                  nyaklin@hotmail.com   \n",
       "\n",
       "                                                                web  \n",
       "county           first_name                                          \n",
       "Stockton-on-Tees Destiny               http://www.dieselrecon.co.uk  \n",
       "West Midlands    Jerlene     http://www.graniteconstructionco.co.uk  \n",
       "Warwickshire     Sunshine           http://www.dalegeorgefesq.co.uk  \n",
       "Greater London   Amina                http://www.poaggraininc.co.uk  \n",
       "Dunbartonshire   Nina                http://www.rammmetalsinc.co.uk  "
      ]
     },
     "execution_count": 155,
     "metadata": {},
     "output_type": "execute_result"
    }
   ],
   "source": [
    "# 121. Group by multiple columns\n",
    "\n",
    "df = pd.read_csv('uk-500.csv')\n",
    "\n",
    "df.groupby(['county', 'first_name']).sum().sample(5)"
   ]
  },
  {
   "cell_type": "markdown",
   "metadata": {},
   "source": [
    "<div style=\"\">\n",
    "    <div style=\"float: left; width: 80%;\">\n",
    "        <a id=\"122\"></a>\n",
    "        <font><b>Task 122:</b></font>\n",
    "        <br><br>\n",
    "        Compare two dataframes\n",
    "    </div>\n",
    "    <div style=\"float: right;\">\n",
    "        <a href=\"#top\" class=\"btn btn-primary btn-sm\" role=\"button\" aria-pressed=\"true\" style=\"color:white\" data-toggle=\"popover\" title=\"go to Top\">Go to Top</a>\n",
    "    </div>\n",
    "    <br style=\"clear: left;\" />\n",
    "</div>"
   ]
  },
  {
   "cell_type": "code",
   "execution_count": 131,
   "metadata": {},
   "outputs": [
    {
     "name": "stdout",
     "output_type": "stream",
     "text": [
      "     a          b      \n",
      "  self other self other\n",
      "0  NaN   NaN  9.0  12.0\n",
      "1  2.0   1.0  NaN   NaN\n",
      "2  NaN   NaN  7.0  12.0\n"
     ]
    }
   ],
   "source": [
    "# 122. Compare two dataframes\n",
    "\n",
    "df1 = pd.DataFrame({\n",
    "    'a' : [1,2,3], \n",
    "    'b' : [9,8,7]\n",
    "})\n",
    "\n",
    "df2 = pd.DataFrame({\n",
    "    'a' : [1,1,3], \n",
    "    'b' : [12,8,12]\n",
    "})\n",
    "\n",
    "print(df1.compare(df2))"
   ]
  },
  {
   "cell_type": "markdown",
   "metadata": {},
   "source": [
    "<div style=\"\">\n",
    "    <div style=\"float: left; width: 80%;\">\n",
    "        <a id=\"123\"></a>\n",
    "        <font><b>Task 123:</b></font>\n",
    "        <br><br>\n",
    "        Difference between datetime by only seconds or dates\n",
    "    </div>\n",
    "    <div style=\"float: right;\">\n",
    "        <a href=\"#top\" class=\"btn btn-primary btn-sm\" role=\"button\" aria-pressed=\"true\" style=\"color:white\" data-toggle=\"popover\" title=\"go to Top\">Go to Top</a>\n",
    "    </div>\n",
    "    <br style=\"clear: left;\" />\n",
    "</div>"
   ]
  },
  {
   "cell_type": "code",
   "execution_count": 132,
   "metadata": {},
   "outputs": [
    {
     "name": "stdout",
     "output_type": "stream",
     "text": [
      "days   :  4\n",
      "seconds:  3949\n"
     ]
    }
   ],
   "source": [
    "# 123. Difference between datetime by only seconds or dates\n",
    "\n",
    "df1 = pd.to_datetime('2020-10-14 14:52:21')\n",
    "df2 = pd.to_datetime('2020-10-18 15:58:10')\n",
    "\n",
    "delta = (df2 - df1)\n",
    "\n",
    "print('days   : ', delta.days)\n",
    "print('seconds: ', delta.seconds)"
   ]
  },
  {
   "cell_type": "markdown",
   "metadata": {},
   "source": [
    "<div style=\"\">\n",
    "    <div style=\"float: left; width: 80%;\">\n",
    "        <a id=\"124\"></a>\n",
    "        <font><b>Task 124:</b></font>\n",
    "        <br><br>\n",
    "        Get dates and delta days in Dataframe\n",
    "    </div>\n",
    "    <div style=\"float: right;\">\n",
    "        <a href=\"#top\" class=\"btn btn-primary btn-sm\" role=\"button\" aria-pressed=\"true\" style=\"color:white\" data-toggle=\"popover\" title=\"go to Top\">Go to Top</a>\n",
    "    </div>\n",
    "    <br style=\"clear: left;\" />\n",
    "</div>"
   ]
  },
  {
   "cell_type": "code",
   "execution_count": 133,
   "metadata": {},
   "outputs": [
    {
     "name": "stdout",
     "output_type": "stream",
     "text": [
      "  entry_date\n",
      "0 2020-09-01\n",
      "1 2020-09-02\n",
      "2 2020-09-03\n",
      "3 2020-09-04\n",
      "4 2020-09-05\n",
      "5 2020-09-06\n"
     ]
    }
   ],
   "source": [
    "# 124. Get dates and delta days in Dataframe\n",
    "\n",
    "entries_count = 6\n",
    "\n",
    "date_series = pd.Series(pd.date_range('2020-09-01', periods = entries_count, freq = 'D'))\n",
    "\n",
    "df = pd.DataFrame({'entry_date': date_series})\n",
    "\n",
    "print(df)"
   ]
  },
  {
   "cell_type": "markdown",
   "metadata": {},
   "source": [
    "<div style=\"\">\n",
    "    <div style=\"float: left; width: 80%;\">\n",
    "        <a id=\"125\"></a>\n",
    "        <font><b>Task 125:</b></font>\n",
    "        <br><br>\n",
    "        Get dates and delta days in Dataframe\n",
    "    </div>\n",
    "    <div style=\"float: right;\">\n",
    "        <a href=\"#top\" class=\"btn btn-primary btn-sm\" role=\"button\" aria-pressed=\"true\" style=\"color:white\" data-toggle=\"popover\" title=\"go to Top\">Go to Top</a>\n",
    "    </div>\n",
    "    <br style=\"clear: left;\" />\n",
    "</div>"
   ]
  },
  {
   "cell_type": "code",
   "execution_count": 134,
   "metadata": {},
   "outputs": [
    {
     "name": "stdout",
     "output_type": "stream",
     "text": [
      "  entry_date delta_days\n",
      "0 2020-09-01     0 days\n",
      "1 2020-09-02     1 days\n",
      "2 2020-09-03     2 days\n",
      "3 2020-09-04     3 days\n",
      "4 2020-09-05     4 days\n"
     ]
    }
   ],
   "source": [
    "# 125. Get dates and delta days in Dataframe\n",
    "\n",
    "entries_count = 5\n",
    "\n",
    "date_series = pd.Series(pd.date_range('2020-09-01', periods = entries_count, freq = 'D'))\n",
    "\n",
    "time_delta_series = pd.Series([pd.Timedelta(days = i) for i in range(entries_count)])\n",
    "\n",
    "df = pd.DataFrame({'entry_date': date_series, 'delta_days': time_delta_series})\n",
    "\n",
    "print(df)"
   ]
  },
  {
   "cell_type": "markdown",
   "metadata": {},
   "source": [
    "<div style=\"\">\n",
    "    <div style=\"float: left; width: 80%;\">\n",
    "        <a id=\"126\"></a>\n",
    "        <font><b>Task 126:</b></font>\n",
    "        <br><br>\n",
    "        Date addition with time delta\n",
    "    </div>\n",
    "    <div style=\"float: right;\">\n",
    "        <a href=\"#top\" class=\"btn btn-primary btn-sm\" role=\"button\" aria-pressed=\"true\" style=\"color:white\" data-toggle=\"popover\" title=\"go to Top\">Go to Top</a>\n",
    "    </div>\n",
    "    <br style=\"clear: left;\" />\n",
    "</div>"
   ]
  },
  {
   "cell_type": "code",
   "execution_count": 135,
   "metadata": {},
   "outputs": [
    {
     "name": "stdout",
     "output_type": "stream",
     "text": [
      "\n",
      "Before:\n",
      "  entry_date delta_days\n",
      "0 2020-09-01     0 days\n",
      "1 2020-09-02     1 days\n",
      "2 2020-09-03     2 days\n",
      "\n",
      "After:\n",
      "  entry_date delta_days new_entry_date\n",
      "0 2020-09-01     0 days     2020-09-01\n",
      "1 2020-09-02     1 days     2020-09-03\n",
      "2 2020-09-03     2 days     2020-09-05\n",
      "\n",
      "Data types:\n",
      "entry_date         datetime64[ns]\n",
      "delta_days        timedelta64[ns]\n",
      "new_entry_date     datetime64[ns]\n",
      "dtype: object\n"
     ]
    }
   ],
   "source": [
    "# 126. Date addition with time delta\n",
    "\n",
    "entries_count = 3\n",
    "\n",
    "date_series = pd.Series(pd.date_range('2020-09-01', periods = entries_count, freq = 'D'))\n",
    "\n",
    "time_delta_series = pd.Series([pd.Timedelta(days = i) for i in range(entries_count)])\n",
    "\n",
    "df = pd.DataFrame({'entry_date': date_series, 'delta_days': time_delta_series})\n",
    "\n",
    "print('\\nBefore:')\n",
    "print(df)\n",
    "\n",
    "\n",
    "df['new_entry_date'] = df['entry_date'] + df['delta_days']\n",
    "print('\\nAfter:')\n",
    "print(df)\n",
    "\n",
    "print('\\nData types:')\n",
    "print(df.dtypes)"
   ]
  },
  {
   "cell_type": "markdown",
   "metadata": {},
   "source": [
    "<div style=\"\">\n",
    "    <div style=\"float: left; width: 80%;\">\n",
    "        <a id=\"127\"></a>\n",
    "        <font><b>Task 127:</b></font>\n",
    "        <br><br>\n",
    "        Converting Pandas innner list to numpy array without the word `list`\n",
    "    </div>\n",
    "    <div style=\"float: right;\">\n",
    "        <a href=\"#top\" class=\"btn btn-primary btn-sm\" role=\"button\" aria-pressed=\"true\" style=\"color:white\" data-toggle=\"popover\" title=\"go to Top\">Go to Top</a>\n",
    "    </div>\n",
    "    <br style=\"clear: left;\" />\n",
    "</div>"
   ]
  },
  {
   "cell_type": "code",
   "execution_count": 136,
   "metadata": {},
   "outputs": [
    {
     "name": "stdout",
     "output_type": "stream",
     "text": [
      "Original Series:\n",
      "0    [1, 2, 3]\n",
      "1    [1, 2, 3]\n",
      "dtype: object\n",
      "\n",
      "Series to Array:\n",
      "[list([1, 2, 3]) array([1, 2, 3])]\n",
      "\n",
      "After converting inner elements to list:\n",
      "[[1 2 3]\n",
      " [1 2 3]]\n"
     ]
    }
   ],
   "source": [
    "# 127. Converting Pandas innner list to numpy array without the word `list`\n",
    "\n",
    "s = pd.Series([[1, 2, 3], np.array([1, 2, 3])])\n",
    "    \n",
    "print('Original Series:')\n",
    "print(s)  \n",
    "\n",
    "arr = np.array(s)\n",
    "print('\\nSeries to Array:')\n",
    "print(arr)\n",
    "\n",
    "print('\\nAfter converting inner elements to list:')\n",
    "x = np.array(s[:].tolist())\n",
    "print(x)\n",
    "\n",
    "# Source: https://stackoverflow.com/questions/64089218/how-to-convert-data-frame-pandas-into-list-in-numpy-without-word-list-in-array"
   ]
  },
  {
   "cell_type": "markdown",
   "metadata": {},
   "source": [
    "<div style=\"\">\n",
    "    <div style=\"float: left; width: 80%;\">\n",
    "        <a id=\"128\"></a>\n",
    "        <font><b>Task 128:</b></font>\n",
    "        <br><br>\n",
    "        Append series to existing Dataframe\n",
    "    </div>\n",
    "    <div style=\"float: right;\">\n",
    "        <a href=\"#top\" class=\"btn btn-primary btn-sm\" role=\"button\" aria-pressed=\"true\" style=\"color:white\" data-toggle=\"popover\" title=\"go to Top\">Go to Top</a>\n",
    "    </div>\n",
    "    <br style=\"clear: left;\" />\n",
    "</div>"
   ]
  },
  {
   "cell_type": "code",
   "execution_count": 137,
   "metadata": {},
   "outputs": [
    {
     "name": "stdout",
     "output_type": "stream",
     "text": [
      "Before:\n",
      "   id\n",
      "0   1\n",
      "1   3\n",
      "2   4\n",
      "3   5\n",
      "\n",
      "After:\n",
      "   id  marks\n",
      "0   1     79\n",
      "1   3     20\n",
      "2   4     45\n",
      "3   5     99\n"
     ]
    }
   ],
   "source": [
    "# 128. Append series to existing Dataframe\n",
    "\n",
    "df = pd.DataFrame([1, 3, 4, 5], columns=[\"id\"])\n",
    "df.set_index(\"id\")\n",
    "print('Before:')\n",
    "print(df)\n",
    "\n",
    "marks = pd.Series([79, 20, 45, 99])\n",
    "df[\"marks\"] = marks\n",
    "print('\\nAfter:')\n",
    "print(df)"
   ]
  },
  {
   "cell_type": "markdown",
   "metadata": {},
   "source": [
    "<div style=\"\">\n",
    "    <div style=\"float: left; width: 80%;\">\n",
    "        <a id=\"129\"></a>\n",
    "        <font><b>Task 129:</b></font>\n",
    "        <br><br>\n",
    "        Cumulative sum with group by with multiple values\n",
    "    </div>\n",
    "    <div style=\"float: right;\">\n",
    "        <a href=\"#top\" class=\"btn btn-primary btn-sm\" role=\"button\" aria-pressed=\"true\" style=\"color:white\" data-toggle=\"popover\" title=\"go to Top\">Go to Top</a>\n",
    "    </div>\n",
    "    <br style=\"clear: left;\" />\n",
    "</div>"
   ]
  },
  {
   "cell_type": "code",
   "execution_count": 138,
   "metadata": {},
   "outputs": [
    {
     "name": "stdout",
     "output_type": "stream",
     "text": [
      "Before:\n",
      "       City  Year  Points\n",
      "0   Toronto  2020    1000\n",
      "1   Toronto  2020    2000\n",
      "2   Toronto  2018    3000\n",
      "3  Montreal  2018    3000\n",
      "4  Montreal  2018    2000\n",
      "5  Montreal  2012    1500\n",
      "6  New York  2012    1500\n",
      "7   Toronto  2012     500\n",
      "8  New York  2016     500\n",
      "9  New York  2018     300\n",
      "\n",
      "After Sorting:\n",
      "       City  Year  Points\n",
      "5  Montreal  2012    1500\n",
      "3  Montreal  2018    3000\n",
      "4  Montreal  2018    2000\n",
      "6  New York  2012    1500\n",
      "8  New York  2016     500\n",
      "9  New York  2018     300\n",
      "7   Toronto  2012     500\n",
      "2   Toronto  2018    3000\n",
      "0   Toronto  2020    1000\n",
      "1   Toronto  2020    2000\n",
      "\n",
      "After Cumulative Sum:\n",
      "       City  Year  Points  Points_cum\n",
      "5  Montreal  2012    1500        1500\n",
      "3  Montreal  2018    3000        3000\n",
      "4  Montreal  2018    2000        5000\n",
      "6  New York  2012    1500        1500\n",
      "8  New York  2016     500         500\n",
      "9  New York  2018     300         300\n",
      "7   Toronto  2012     500         500\n",
      "2   Toronto  2018    3000        3000\n",
      "0   Toronto  2020    1000        1000\n",
      "1   Toronto  2020    2000        3000\n"
     ]
    }
   ],
   "source": [
    "# 129. Cumulative sum with group by with multiple values\n",
    "\n",
    "df = pd.DataFrame({\n",
    "    'City': ['Toronto', 'Toronto', 'Toronto', 'Montreal', 'Montreal', 'Montreal', 'New York', 'Toronto', 'New York', 'New York'], \n",
    "    'Year': [2020, 2020, 2018, 2018, 2018, 2012, 2012, 2012, 2016, 2018], \n",
    "    'Points': [1000, 2000, 3000, 3000, 2000, 1500, 1500, 500, 500, 300]\n",
    "})\n",
    "\n",
    "print('Before:')\n",
    "print(df)\n",
    "\n",
    "df.sort_values(['City', 'Year'], inplace=True)\n",
    "print('\\nAfter Sorting:')\n",
    "print(df)\n",
    "\n",
    "df['Points_cum'] = df.groupby(['City', 'Year'])['Points'].cumsum()\n",
    "print('\\nAfter Cumulative Sum:')\n",
    "print(df)"
   ]
  },
  {
   "cell_type": "markdown",
   "metadata": {},
   "source": [
    "<div style=\"\">\n",
    "    <div style=\"float: left; width: 80%;\">\n",
    "        <a id=\"130\"></a>\n",
    "        <font><b>Task 130:</b></font>\n",
    "        <br><br>\n",
    "        Clean URL in Pandas String (remove string after specific item)\n",
    "    </div>\n",
    "    <div style=\"float: right;\">\n",
    "        <a href=\"#top\" class=\"btn btn-primary btn-sm\" role=\"button\" aria-pressed=\"true\" style=\"color:white\" data-toggle=\"popover\" title=\"go to Top\">Go to Top</a>\n",
    "    </div>\n",
    "    <br style=\"clear: left;\" />\n",
    "</div>"
   ]
  },
  {
   "cell_type": "code",
   "execution_count": 156,
   "metadata": {},
   "outputs": [
    {
     "name": "stdout",
     "output_type": "stream",
     "text": [
      "Original:\n",
      "                                  url\n",
      "0  https://www.abc.com/page/2/unit234\n",
      "1   https://www.abc.com/page/3/unit34\n",
      "2   https://www.abc.com/page/4/unit89\n",
      "\n",
      "Afer removing unit and future chars:\n",
      "                           url\n",
      "0  https://www.abc.com/page/2/\n",
      "1  https://www.abc.com/page/3/\n",
      "2  https://www.abc.com/page/4/\n"
     ]
    }
   ],
   "source": [
    "# 130. Clean URL in Pandas String (remove string after specific item)\n",
    "\n",
    "df = pd.DataFrame({\n",
    "    'url': ['https://www.abc.com/page/2/unit234', 'https://www.abc.com/page/3/unit34', 'https://www.abc.com/page/4/unit89']\n",
    "})\n",
    "\n",
    "print('Original:')\n",
    "print(df)\n",
    "\n",
    "df['url'] = df['url'].str.replace('\\/unit.*', '/', regex=True)\n",
    "print('\\nAfer removing unit and future chars:')\n",
    "print(df)"
   ]
  },
  {
   "cell_type": "markdown",
   "metadata": {},
   "source": [
    "<div style=\"\">\n",
    "    <div style=\"float: left; width: 80%;\">\n",
    "        <a id=\"131\"></a>\n",
    "        <font><b>Task 131:</b></font>\n",
    "        <br><br>\n",
    "        Find any matching value\n",
    "    </div>\n",
    "    <div style=\"float: right;\">\n",
    "        <a href=\"#top\" class=\"btn btn-primary btn-sm\" role=\"button\" aria-pressed=\"true\" style=\"color:white\" data-toggle=\"popover\" title=\"go to Top\">Go to Top</a>\n",
    "    </div>\n",
    "    <br style=\"clear: left;\" />\n",
    "</div>"
   ]
  },
  {
   "cell_type": "code",
   "execution_count": 157,
   "metadata": {},
   "outputs": [
    {
     "name": "stdout",
     "output_type": "stream",
     "text": [
      "Task 131:\n",
      "Original Dataframe:\n",
      "    name      city\n",
      "0  kevin   Toronto\n",
      "1  james  Montreal\n",
      "2  kumar   Calgary\n",
      "3  kevin  Montreal\n",
      "4  kevin  Montreal\n",
      "5  james    Ottawa\n",
      "\n",
      "Finding `Montreal` in any cell :\n",
      "    name      city\n",
      "1  james  Montreal\n",
      "3  kevin  Montreal\n",
      "4  kevin  Montreal\n"
     ]
    },
    {
     "name": "stderr",
     "output_type": "stream",
     "text": [
      "C:\\Users\\xyt55\\AppData\\Local\\Temp\\ipykernel_59632\\3564057914.py:14: FutureWarning: In a future version of pandas all arguments of DataFrame.any and Series.any will be keyword-only.\n",
      "  print(users[users.eq('Montreal').any(1)])\n"
     ]
    }
   ],
   "source": [
    "# 131. Find any matching value\n",
    "\n",
    "print('Task 131:')\n",
    "\n",
    "users = pd.DataFrame({\n",
    "    \"name\": ['kevin', 'james', 'kumar', 'kevin', 'kevin', 'james'], \n",
    "    \"city\": ['Toronto', 'Montreal', 'Calgary', 'Montreal', 'Montreal', 'Ottawa']\n",
    "}) \n",
    "\n",
    "print('Original Dataframe:')\n",
    "print(users)\n",
    "\n",
    "print('\\nFinding `Montreal` in any cell :')\n",
    "print(users[users.eq('Montreal').any(1)])"
   ]
  },
  {
   "cell_type": "code",
   "execution_count": 158,
   "metadata": {},
   "outputs": [
    {
     "name": "stdout",
     "output_type": "stream",
     "text": [
      "    feature_0  feature_1  feature_2  feature_3  feature_4  year\n",
      "0    0.038562   0.780100   0.092704   0.632893   0.013891  2012\n",
      "1    0.936159   0.426574   0.253086   0.189965   0.414825  2012\n",
      "2    0.013421   0.648473   0.869369   0.609036   0.807993  2012\n",
      "3    0.826511   0.271683   0.836476   0.282541   0.138309  2012\n",
      "4    0.714720   0.472537   0.556588   0.385576   0.941147  2012\n",
      "5    0.081191   0.917267   0.156934   0.444147   0.212106  2012\n",
      "6    0.174693   0.514798   0.892898   0.923681   0.835979  2012\n",
      "7    0.499657   0.820964   0.934388   0.794812   0.461585  2012\n",
      "8    0.352690   0.108592   0.984777   0.151058   0.278412  2012\n",
      "9    0.699130   0.647703   0.223537   0.801849   0.512112  2012\n",
      "10   0.078662   0.034160   0.566151   0.149674   0.241233  2013\n",
      "11   0.033486   0.655924   0.854428   0.199754   0.807052  2013\n",
      "12   0.075446   0.636034   0.830843   0.291522   0.475695  2013\n",
      "13   0.174024   0.952968   0.041096   0.851403   0.839402  2013\n",
      "14   0.961240   0.091023   0.963310   0.112117   0.044457  2013\n",
      "15   0.744782   0.865384   0.935801   0.629927   0.331384  2013\n",
      "16   0.470720   0.802129   0.942804   0.163826   0.618682  2013\n",
      "17   0.023327   0.078734   0.860111   0.971391   0.892087  2013\n",
      "18   0.611041   0.223863   0.498863   0.971355   0.187606  2013\n",
      "19   0.782740   0.613603   0.586165   0.459982   0.277432  2013\n",
      "20   0.821482   0.929448   0.394712   0.903081   0.640560  2014\n",
      "21   0.069432   0.499684   0.765085   0.806767   0.481238  2014\n",
      "22   0.883974   0.995528   0.935719   0.413784   0.949852  2014\n",
      "23   0.329118   0.652217   0.448831   0.670976   0.567053  2014\n",
      "24   0.029312   0.958076   0.070909   0.322138   0.003801  2014\n",
      "25   0.168971   0.113278   0.074798   0.074438   0.469351  2014\n",
      "26   0.205986   0.260161   0.003203   0.133732   0.179490  2014\n",
      "27   0.117845   0.917136   0.732169   0.222832   0.013398  2014\n",
      "28   0.158973   0.012568   0.770380   0.049939   0.763212  2014\n",
      "29   0.845988   0.032227   0.975079   0.834185   0.448001  2014\n",
      "30\n"
     ]
    }
   ],
   "source": [
    "# 132. Add prefix on column lables\n",
    "\n",
    "import pandas as pd\n",
    "import numpy as np\n",
    "\n",
    "np.random.seed(34)\n",
    "\n",
    "df = pd.DataFrame(np.random.rand(30, 5)).add_prefix(\"feature_\")\n",
    "df[\"year\"] = np.repeat([\"2012\", \"2013\", \"2014\"], 10)\n",
    "\n",
    "print(df)\n",
    "print(len(df))"
   ]
  },
  {
   "cell_type": "code",
   "execution_count": 159,
   "metadata": {},
   "outputs": [
    {
     "name": "stdout",
     "output_type": "stream",
     "text": [
      "Original;\n",
      "       city  Year\n",
      "0   Toronto  2017\n",
      "1   Toronto  2018\n",
      "2  Montreal  2019\n",
      "3  Montreal  2020\n",
      "4  Montreal  2021\n",
      "\n",
      "After:\n",
      "       city  Year               airport\n",
      "0   Toronto  2017  {'airport_count': 2}\n",
      "1   Toronto  2018  {'airport_count': 2}\n",
      "2  Montreal  2019                  None\n",
      "3  Montreal  2020                  None\n",
      "4  Montreal  2021                  None\n"
     ]
    }
   ],
   "source": [
    "# 133. Set values on where condition\n",
    "\n",
    "df = pd.DataFrame({'city': ['Toronto', 'Toronto', 'Montreal', 'Montreal', 'Montreal'], 'Year': [2017, 2018, 2019, 2020, 2021]})\n",
    "\n",
    "print('Original;')\n",
    "print(df)\n",
    "\n",
    "df['airport'] = None\n",
    "df['airport'] = np.where(df['city'] == 'Toronto', {'airport_count': 2}, df['airport'])\n",
    "\n",
    "print('\\nAfter:')\n",
    "print(df)"
   ]
  },
  {
   "cell_type": "code",
   "execution_count": 143,
   "metadata": {},
   "outputs": [
    {
     "name": "stdout",
     "output_type": "stream",
     "text": [
      "  country.canada.code country.canada.city.name country.canada.city.population\n",
      "0                  CA                  Toronto                             6M\n"
     ]
    }
   ],
   "source": [
    "# 134. Flatten Dictionary to Dataframe\n",
    "\n",
    "d = {\n",
    "    \"country\" : {\n",
    "        \"canada\": {\n",
    "            \"code\": 'CA',\n",
    "            \"city\": {\n",
    "                \"name\": \"Toronto\",\n",
    "                \"population\": \"6M\"\n",
    "            }\n",
    "        }\n",
    "    }\n",
    "}\n",
    "\n",
    "df = pd.json_normalize(d)\n",
    "\n",
    "print(df)"
   ]
  },
  {
   "cell_type": "code",
   "execution_count": 144,
   "metadata": {},
   "outputs": [
    {
     "name": "stdout",
     "output_type": "stream",
     "text": [
      "   ID  Value  Count\n",
      "0   1     10      1\n",
      "1   2      5      2\n",
      "2   2      5      2\n",
      "3   3     10      2\n",
      "4   3      4      2\n",
      "5   4     11      2\n",
      "6   4     12      2\n"
     ]
    }
   ],
   "source": [
    "# 135. Using transform\n",
    "\n",
    "df = pd.DataFrame({\n",
    "        'ID': [1, 2, 2, 3, 3, 4, 4],\n",
    "        'Value': [10, 5, 5, 10, 4, 11, 12]\n",
    "    })\n",
    "\n",
    "df['Count'] = df.groupby('ID')['Value'].transform('count')\n",
    "print(df)"
   ]
  },
  {
   "cell_type": "code",
   "execution_count": 162,
   "metadata": {},
   "outputs": [
    {
     "name": "stdout",
     "output_type": "stream",
     "text": [
      "0  ID        1\n",
      "   Value    10\n",
      "1  ID        2\n",
      "   Value     5\n",
      "2  ID        2\n",
      "   Value     5\n",
      "3  ID        3\n",
      "   Value    10\n",
      "4  ID        3\n",
      "   Value     4\n",
      "5  ID        4\n",
      "   Value    11\n",
      "6  ID        4\n",
      "   Value    12\n",
      "dtype: int64\n",
      "76\n",
      "[[ 1 10]\n",
      " [ 2  5]\n",
      " [ 2  5]\n",
      " [ 3 10]\n",
      " [ 3  4]\n",
      " [ 4 11]\n",
      " [ 4 12]]\n",
      "76\n"
     ]
    }
   ],
   "source": [
    "# 136. Summing all elements\n",
    "\n",
    "df = pd.DataFrame({  # 创建一个DataFrame，包含两列：'ID'和'Value'  \n",
    "    'ID': [1, 2, 2, 3, 3, 4, 4],  # 'ID'列的值  \n",
    "    'Value': [10, 5, 5, 10, 4, 11, 12]  # 'Value'列的值  \n",
    "})  \n",
    "print(df.stack())\n",
    "sum1 = df.stack().sum()  # 将DataFrame转换为堆叠格式，然后计算所有值的总和  \n",
    "print(sum1)  # 打印总和  \n",
    "  \n",
    "sum2 = df.to_numpy().sum()  # 将DataFrame转换为NumPy数组，然后计算所有值的总和  \n",
    "print(df.to_numpy())\n",
    "print(sum2)  # 打印总和"
   ]
  },
  {
   "cell_type": "code",
   "execution_count": 164,
   "metadata": {},
   "outputs": [
    {
     "data": {
      "text/html": [
       "<div><strong>Dask DataFrame Structure:</strong></div>\n",
       "<div>\n",
       "<style scoped>\n",
       "    .dataframe tbody tr th:only-of-type {\n",
       "        vertical-align: middle;\n",
       "    }\n",
       "\n",
       "    .dataframe tbody tr th {\n",
       "        vertical-align: top;\n",
       "    }\n",
       "\n",
       "    .dataframe thead th {\n",
       "        text-align: right;\n",
       "    }\n",
       "</style>\n",
       "<table border=\"1\" class=\"dataframe\">\n",
       "  <thead>\n",
       "    <tr style=\"text-align: right;\">\n",
       "      <th></th>\n",
       "      <th>0</th>\n",
       "      <th>1</th>\n",
       "      <th>2</th>\n",
       "    </tr>\n",
       "    <tr>\n",
       "      <th>npartitions=2</th>\n",
       "      <th></th>\n",
       "      <th></th>\n",
       "      <th></th>\n",
       "    </tr>\n",
       "  </thead>\n",
       "  <tbody>\n",
       "    <tr>\n",
       "      <th></th>\n",
       "      <td>object</td>\n",
       "      <td>object</td>\n",
       "      <td>float64</td>\n",
       "    </tr>\n",
       "    <tr>\n",
       "      <th></th>\n",
       "      <td>...</td>\n",
       "      <td>...</td>\n",
       "      <td>...</td>\n",
       "    </tr>\n",
       "    <tr>\n",
       "      <th></th>\n",
       "      <td>...</td>\n",
       "      <td>...</td>\n",
       "      <td>...</td>\n",
       "    </tr>\n",
       "  </tbody>\n",
       "</table>\n",
       "</div>\n",
       "<div>Dask Name: read-csv, 1 graph layer</div>"
      ],
      "text/plain": [
       "Dask DataFrame Structure:\n",
       "                    0       1        2\n",
       "npartitions=2                         \n",
       "               object  object  float64\n",
       "                  ...     ...      ...\n",
       "                  ...     ...      ...\n",
       "Dask Name: read-csv, 1 graph layer"
      ]
     },
     "execution_count": 164,
     "metadata": {},
     "output_type": "execute_result"
    }
   ],
   "source": [
    "# 137. Combine multiple CSV files by using Dask\n",
    "\n",
    "import dask.dataframe as dd\n",
    "\n",
    "df = dd.read_csv('transaction-*.csv', header=None)\n",
    "df\n"
   ]
  },
  {
   "cell_type": "code",
   "execution_count": 165,
   "metadata": {},
   "outputs": [
    {
     "data": {
      "text/html": [
       "<div>\n",
       "<style scoped>\n",
       "    .dataframe tbody tr th:only-of-type {\n",
       "        vertical-align: middle;\n",
       "    }\n",
       "\n",
       "    .dataframe tbody tr th {\n",
       "        vertical-align: top;\n",
       "    }\n",
       "\n",
       "    .dataframe thead th {\n",
       "        text-align: right;\n",
       "    }\n",
       "</style>\n",
       "<table border=\"1\" class=\"dataframe\">\n",
       "  <thead>\n",
       "    <tr style=\"text-align: right;\">\n",
       "      <th></th>\n",
       "      <th>0</th>\n",
       "      <th>1</th>\n",
       "      <th>2</th>\n",
       "    </tr>\n",
       "  </thead>\n",
       "  <tbody>\n",
       "    <tr>\n",
       "      <th>0</th>\n",
       "      <td>08/04/2020</td>\n",
       "      <td>GOOGLE *GSUITE_   _V</td>\n",
       "      <td>21.06</td>\n",
       "    </tr>\n",
       "    <tr>\n",
       "      <th>1</th>\n",
       "      <td>08/04/2020</td>\n",
       "      <td>GOOGLE *GSUITE_   _V</td>\n",
       "      <td>7.80</td>\n",
       "    </tr>\n",
       "    <tr>\n",
       "      <th>2</th>\n",
       "      <td>08/04/2020</td>\n",
       "      <td>GOOGLE *GSUITE_   _V</td>\n",
       "      <td>15.60</td>\n",
       "    </tr>\n",
       "    <tr>\n",
       "      <th>3</th>\n",
       "      <td>08/04/2020</td>\n",
       "      <td>GOOGLE *Google    _V</td>\n",
       "      <td>2.79</td>\n",
       "    </tr>\n",
       "    <tr>\n",
       "      <th>0</th>\n",
       "      <td>09/01/2020</td>\n",
       "      <td>GOOGLE CC    21.06_V</td>\n",
       "      <td>21.06</td>\n",
       "    </tr>\n",
       "    <tr>\n",
       "      <th>1</th>\n",
       "      <td>09/02/2020</td>\n",
       "      <td>GOOGLE CC     7.80_V</td>\n",
       "      <td>7.80</td>\n",
       "    </tr>\n",
       "    <tr>\n",
       "      <th>2</th>\n",
       "      <td>09/03/2020</td>\n",
       "      <td>GOOGLE CC    15.60_V</td>\n",
       "      <td>15.60</td>\n",
       "    </tr>\n",
       "  </tbody>\n",
       "</table>\n",
       "</div>"
      ],
      "text/plain": [
       "            0                     1      2\n",
       "0  08/04/2020  GOOGLE *GSUITE_   _V  21.06\n",
       "1  08/04/2020  GOOGLE *GSUITE_   _V   7.80\n",
       "2  08/04/2020  GOOGLE *GSUITE_   _V  15.60\n",
       "3  08/04/2020  GOOGLE *Google    _V   2.79\n",
       "0  09/01/2020  GOOGLE CC    21.06_V  21.06\n",
       "1  09/02/2020  GOOGLE CC     7.80_V   7.80\n",
       "2  09/03/2020  GOOGLE CC    15.60_V  15.60"
      ]
     },
     "execution_count": 165,
     "metadata": {},
     "output_type": "execute_result"
    }
   ],
   "source": [
    "df = df.compute() #将Dask DataFrame对象转换为Pandas DataFrame对象，并计算结果\n",
    "df"
   ]
  },
  {
   "cell_type": "code",
   "execution_count": 167,
   "metadata": {},
   "outputs": [
    {
     "data": {
      "text/html": [
       "<div>\n",
       "<style scoped>\n",
       "    .dataframe tbody tr th:only-of-type {\n",
       "        vertical-align: middle;\n",
       "    }\n",
       "\n",
       "    .dataframe tbody tr th {\n",
       "        vertical-align: top;\n",
       "    }\n",
       "\n",
       "    .dataframe thead th {\n",
       "        text-align: right;\n",
       "    }\n",
       "</style>\n",
       "<table border=\"1\" class=\"dataframe\">\n",
       "  <thead>\n",
       "    <tr style=\"text-align: right;\">\n",
       "      <th></th>\n",
       "      <th>Date</th>\n",
       "      <th>Description</th>\n",
       "      <th>Spent</th>\n",
       "    </tr>\n",
       "  </thead>\n",
       "  <tbody>\n",
       "    <tr>\n",
       "      <th>0</th>\n",
       "      <td>08/04/2020</td>\n",
       "      <td>GOOGLE *GSUITE_   _V</td>\n",
       "      <td>21.06</td>\n",
       "    </tr>\n",
       "    <tr>\n",
       "      <th>1</th>\n",
       "      <td>08/04/2020</td>\n",
       "      <td>GOOGLE *GSUITE_   _V</td>\n",
       "      <td>7.80</td>\n",
       "    </tr>\n",
       "    <tr>\n",
       "      <th>2</th>\n",
       "      <td>08/04/2020</td>\n",
       "      <td>GOOGLE *GSUITE_   _V</td>\n",
       "      <td>15.60</td>\n",
       "    </tr>\n",
       "    <tr>\n",
       "      <th>3</th>\n",
       "      <td>08/04/2020</td>\n",
       "      <td>GOOGLE *Google    _V</td>\n",
       "      <td>2.79</td>\n",
       "    </tr>\n",
       "    <tr>\n",
       "      <th>0</th>\n",
       "      <td>09/01/2020</td>\n",
       "      <td>GOOGLE CC    21.06_V</td>\n",
       "      <td>21.06</td>\n",
       "    </tr>\n",
       "    <tr>\n",
       "      <th>1</th>\n",
       "      <td>09/02/2020</td>\n",
       "      <td>GOOGLE CC     7.80_V</td>\n",
       "      <td>7.80</td>\n",
       "    </tr>\n",
       "    <tr>\n",
       "      <th>2</th>\n",
       "      <td>09/03/2020</td>\n",
       "      <td>GOOGLE CC    15.60_V</td>\n",
       "      <td>15.60</td>\n",
       "    </tr>\n",
       "  </tbody>\n",
       "</table>\n",
       "</div>"
      ],
      "text/plain": [
       "         Date           Description  Spent\n",
       "0  08/04/2020  GOOGLE *GSUITE_   _V  21.06\n",
       "1  08/04/2020  GOOGLE *GSUITE_   _V   7.80\n",
       "2  08/04/2020  GOOGLE *GSUITE_   _V  15.60\n",
       "3  08/04/2020  GOOGLE *Google    _V   2.79\n",
       "0  09/01/2020  GOOGLE CC    21.06_V  21.06\n",
       "1  09/02/2020  GOOGLE CC     7.80_V   7.80\n",
       "2  09/03/2020  GOOGLE CC    15.60_V  15.60"
      ]
     },
     "execution_count": 167,
     "metadata": {},
     "output_type": "execute_result"
    }
   ],
   "source": [
    "df.columns = ['Date', 'Description', 'Spent']\n",
    "\n",
    "df"
   ]
  },
  {
   "cell_type": "code",
   "execution_count": 168,
   "metadata": {},
   "outputs": [
    {
     "name": "stdout",
     "output_type": "stream",
     "text": [
      "Original:\n",
      "   number\n",
      "0      80\n",
      "1      81\n",
      "2      38\n",
      "3      83\n",
      "4      47\n",
      "\n",
      "After pandas cut:\n",
      "   number       bins\n",
      "0      80   (60, 80]\n",
      "1      81  (80, 100]\n",
      "2      38   (20, 40]\n",
      "3      83  (80, 100]\n",
      "4      47   (40, 60]\n"
     ]
    }
   ],
   "source": [
    "# 138. Separate Elements into Bins\n",
    "\n",
    "df = pd.DataFrame({'number': np.random.randint(1, 100, 5)}) \n",
    "print('Original:')\n",
    "print(df)\n",
    "\n",
    "df['bins'] = pd.cut(x = df['number'], bins = [1, 20, 40, 60, 80, 100]) \n",
    "print('\\nAfter pandas cut:')\n",
    "print(df)"
   ]
  },
  {
   "cell_type": "code",
   "execution_count": 169,
   "metadata": {},
   "outputs": [
    {
     "name": "stdout",
     "output_type": "stream",
     "text": [
      "[3 2 0 1 0 2]\n",
      "['CA' 'MNT' 'NY' 'TO']\n"
     ]
    }
   ],
   "source": [
    "# 139. Encode the object as enumerated or categorical\n",
    "\n",
    "codes, uniques = pd.factorize(['TO', 'NY', 'CA', 'MNT', 'CA', 'NY'], sort = True)\n",
    "\n",
    "print(codes)\n",
    "print(uniques)"
   ]
  },
  {
   "cell_type": "code",
   "execution_count": 171,
   "metadata": {},
   "outputs": [
    {
     "name": "stdout",
     "output_type": "stream",
     "text": [
      "           date           description   spent spentGroup\n",
      "0    08/01/2019  SSV TO:  11686447909    6.00        low\n",
      "1    08/01/2019  GOOGLE *GSUITE_   _V   21.06        low\n",
      "2    08/01/2019  PYT TO:  19764085822   50.00        low\n",
      "3    08/01/2019  PYT TO:  11683291109   53.72        low\n",
      "4    08/01/2019  SEND E-TFR CA***YGw   700.00        low\n",
      "..          ...                   ...     ...        ...\n",
      "110  08/30/2019  AROMA ESPRESSO    _F    2.68        low\n",
      "111  08/30/2019  BAKERY ON THE G   _F   18.00        low\n",
      "112  08/30/2019  SSV TO:  11686447909    6.00        low\n",
      "113  08/30/2019  TD MUTUAL FUNDS       125.00        low\n",
      "114  08/30/2019  MONTHLY ACCOUNT FEE    15.95        low\n",
      "\n",
      "[115 rows x 4 columns]\n"
     ]
    }
   ],
   "source": [
    "# 140. \n",
    "\n",
    "\n",
    "df = pd.read_csv(\"sample-transaction.csv\", names = ['date', 'description', 'spent'])\n",
    "\n",
    "# df\n",
    "\n",
    "bins = np.linspace(min(df['spent']), max(df['spent']), 4)\n",
    "# print(bins)\n",
    "groupNames = [\"low\", \"med\", \"high\"]\n",
    "\n",
    "df['spentGroup'] = pd.cut(df['spent'], bins, labels = groupNames, include_lowest = True)\n",
    "print(df)"
   ]
  },
  {
   "cell_type": "code",
   "execution_count": 172,
   "metadata": {},
   "outputs": [
    {
     "data": {
      "text/html": [
       "<div>\n",
       "<style scoped>\n",
       "    .dataframe tbody tr th:only-of-type {\n",
       "        vertical-align: middle;\n",
       "    }\n",
       "\n",
       "    .dataframe tbody tr th {\n",
       "        vertical-align: top;\n",
       "    }\n",
       "\n",
       "    .dataframe thead th {\n",
       "        text-align: right;\n",
       "    }\n",
       "</style>\n",
       "<table border=\"1\" class=\"dataframe\">\n",
       "  <thead>\n",
       "    <tr style=\"text-align: right;\">\n",
       "      <th></th>\n",
       "      <th>Accuracy</th>\n",
       "    </tr>\n",
       "  </thead>\n",
       "  <tbody>\n",
       "    <tr>\n",
       "      <th>Random Classifier</th>\n",
       "      <td>98.893</td>\n",
       "    </tr>\n",
       "    <tr>\n",
       "      <th>KNN</th>\n",
       "      <td>99.343</td>\n",
       "    </tr>\n",
       "  </tbody>\n",
       "</table>\n",
       "</div>"
      ],
      "text/plain": [
       "                   Accuracy\n",
       "Random Classifier    98.893\n",
       "KNN                  99.343"
      ]
     },
     "execution_count": 172,
     "metadata": {},
     "output_type": "execute_result"
    }
   ],
   "source": [
    "# 141. Simple result table with Pandas\n",
    "\n",
    "results = pd.DataFrame(columns = ['Accuracy'])\n",
    "\n",
    "results.loc['Random Classifier'] = 98.893\n",
    "results.loc['KNN'] = 99.343\n",
    "\n",
    "results"
   ]
  },
  {
   "cell_type": "code",
   "execution_count": 173,
   "metadata": {},
   "outputs": [
    {
     "name": "stdout",
     "output_type": "stream",
     "text": [
      "Original:\n",
      "     order_id  year month   item_type\n",
      "0  LEhOc7XSE0  2020    03         car\n",
      "1  LEhOc7XSE0  2020    03       truck\n",
      "2  LEhOc7XSE0  2020    03        bike\n",
      "3  LEhOc7XSE0  2020    03   insurance\n",
      "4  LEhOc7XSE0  2020    03  inspection\n",
      "5  iXC5AfJMox  2020    04         car\n",
      "6  iXC5AfJMox  2020    04       truck\n",
      "7  iXC5AfJMox  2020    04  inspection\n",
      "8  XpLLAySojz  2020    01        bike\n",
      "\n",
      "After:\n",
      "     order_id  year month   item_type  bike_or_car\n",
      "0  LEhOc7XSE0  2020    03         car         True\n",
      "1  LEhOc7XSE0  2020    03       truck        False\n",
      "2  LEhOc7XSE0  2020    03        bike         True\n",
      "3  LEhOc7XSE0  2020    03   insurance        False\n",
      "4  LEhOc7XSE0  2020    03  inspection        False\n",
      "5  iXC5AfJMox  2020    04         car         True\n",
      "6  iXC5AfJMox  2020    04       truck        False\n",
      "7  iXC5AfJMox  2020    04  inspection        False\n",
      "8  XpLLAySojz  2020    01        bike         True\n"
     ]
    }
   ],
   "source": [
    "# 142. isin with multiple conditions\n",
    "\n",
    "df = pd.DataFrame([\n",
    "        ['LEhOc7XSE0','2020', '03', 'car'],\n",
    "        ['LEhOc7XSE0','2020', '03', 'truck'],\n",
    "        ['LEhOc7XSE0','2020', '03', 'bike'],\n",
    "        ['LEhOc7XSE0','2020', '03', 'insurance'],\n",
    "        ['LEhOc7XSE0','2020', '03', 'inspection'],\n",
    "        ['iXC5AfJMox','2020', '04', 'car'],\n",
    "        ['iXC5AfJMox','2020', '04', 'truck'],\n",
    "        ['iXC5AfJMox','2020', '04', 'inspection'],\n",
    "        ['XpLLAySojz','2020', '01', 'bike'],\n",
    "    ], columns=['order_id','year', 'month', 'item_type'])\n",
    "print('Original:')\n",
    "print(df)\n",
    "\n",
    "df['bike_or_car'] = df['item_type'].isin({'bike', 'car'})\n",
    "print('\\nAfter:')\n",
    "print(df)\n",
    "\n",
    "# source: https://stackoverflow.com/questions/64248872/python-pandas-count-columns-with-multiple-conditions-and-groupby"
   ]
  },
  {
   "cell_type": "code",
   "execution_count": 174,
   "metadata": {},
   "outputs": [
    {
     "name": "stdout",
     "output_type": "stream",
     "text": [
      "   student  science  maths  history\n",
      "0    David       90    100       89\n",
      "20   Kevin       98     97       90\n"
     ]
    }
   ],
   "source": [
    "# 143. String to Pandas with python engine and separator\n",
    "\n",
    "from io import StringIO\n",
    "import pandas as pd\n",
    "\n",
    "data = '''            student       science   maths  history\n",
    "0     David       90          100  89\n",
    "20    Kevin       98          97  90\n",
    "'''\n",
    "df = pd.read_csv(StringIO(data), sep='\\s\\s+', engine='python')\n",
    "\n",
    "print(df)\n",
    "\n",
    "# source: https://stackoverflow.com/questions/64268344/pandas-consolidate-two-rows-in-one"
   ]
  },
  {
   "cell_type": "code",
   "execution_count": 175,
   "metadata": {},
   "outputs": [
    {
     "data": {
      "text/html": [
       "<div>\n",
       "<style scoped>\n",
       "    .dataframe tbody tr th:only-of-type {\n",
       "        vertical-align: middle;\n",
       "    }\n",
       "\n",
       "    .dataframe tbody tr th {\n",
       "        vertical-align: top;\n",
       "    }\n",
       "\n",
       "    .dataframe thead th {\n",
       "        text-align: right;\n",
       "    }\n",
       "</style>\n",
       "<table border=\"1\" class=\"dataframe\">\n",
       "  <thead>\n",
       "    <tr style=\"text-align: right;\">\n",
       "      <th></th>\n",
       "      <th>name</th>\n",
       "      <th>city</th>\n",
       "      <th>count</th>\n",
       "    </tr>\n",
       "  </thead>\n",
       "  <tbody>\n",
       "    <tr>\n",
       "      <th>0</th>\n",
       "      <td>kevin</td>\n",
       "      <td>Toronto</td>\n",
       "      <td>7</td>\n",
       "    </tr>\n",
       "    <tr>\n",
       "      <th>1</th>\n",
       "      <td>james</td>\n",
       "      <td>Montreal</td>\n",
       "      <td>8</td>\n",
       "    </tr>\n",
       "    <tr>\n",
       "      <th>2</th>\n",
       "      <td>kumar</td>\n",
       "      <td>Calgary</td>\n",
       "      <td>9</td>\n",
       "    </tr>\n",
       "    <tr>\n",
       "      <th>3</th>\n",
       "      <td>-</td>\n",
       "      <td>Ottawa</td>\n",
       "      <td>2</td>\n",
       "    </tr>\n",
       "  </tbody>\n",
       "</table>\n",
       "</div>"
      ],
      "text/plain": [
       "    name      city  count\n",
       "0  kevin   Toronto      7\n",
       "1  james  Montreal      8\n",
       "2  kumar   Calgary      9\n",
       "3      -    Ottawa      2"
      ]
     },
     "execution_count": 175,
     "metadata": {},
     "output_type": "execute_result"
    }
   ],
   "source": [
    "# 144.\n",
    "\n",
    "def get_unique_items(df):\n",
    "    \n",
    "    # how many cols are there\n",
    "    cols = df.columns\n",
    "    cols_count = len(df.columns)\n",
    "    # print(cols_count)\n",
    "\n",
    "    unique_max_count = 0\n",
    "    for _col in cols:\n",
    "#         print(_col)\n",
    "        current_col_unique_values = list(df[_col].unique())\n",
    "        list_len = len(current_col_unique_values) \n",
    "        \n",
    "        if(list_len > unique_max_count):\n",
    "            unique_max_count = list_len\n",
    "    \n",
    "    # list of each_cols and unique values\n",
    "    col_unique_values = {}\n",
    "    \n",
    "    for _col in cols:\n",
    "#         print(_col)\n",
    "        current_col_unique_values = list(df[_col].unique())\n",
    "        list_len = len(current_col_unique_values) \n",
    "        \n",
    "        fill_count = 0\n",
    "        if(list_len < unique_max_count):\n",
    "            fill_count = unique_max_count - list_len\n",
    "            \n",
    "            for _ in range(fill_count):\n",
    "                current_col_unique_values.append('-')\n",
    "        \n",
    "        col_unique_values[_col] = current_col_unique_values\n",
    "        \n",
    "    df_new = pd.DataFrame(col_unique_values)\n",
    "    \n",
    "    return df_new\n",
    "\n",
    "users = pd.DataFrame({\n",
    "    \"name\": ['kevin', 'james', 'kumar', 'kevin', 'kevin', 'james'], \n",
    "    \"city\": ['Toronto', 'Montreal', 'Calgary', 'Montreal', 'Montreal', 'Ottawa'],\n",
    "    \"count\" : [7, 8, 9, 2, 7, 8] \n",
    "    \n",
    "}) \n",
    "\n",
    "unique_user_items = get_unique_items(users)\n",
    "\n",
    "unique_user_items"
   ]
  },
  {
   "cell_type": "markdown",
   "metadata": {},
   "source": [
    "To do:\n",
    "\n",
    "* Clean up some buggy exercises\n",
    "* Remove duplicate exercises\n",
    "* Add more documentation"
   ]
  },
  {
   "cell_type": "markdown",
   "metadata": {},
   "source": [
    "**Final Notes:**\n",
    "\n",
    "I am adding things still. You can come back and check for more information.\n",
    "\n",
    "Also, if you **like my notebook**, <font style=\"color:blue;size:14px;\">please upvote it</font> as it will motivate me to come up with better approach in the upcoming notebooks."
   ]
  },
  {
   "cell_type": "markdown",
   "metadata": {},
   "source": [
    "<font color=\"blue\" size=+1.5><b>Check out my other kernels</b></font>\n",
    "\n",
    "<table style=\"font-family: 'Trebuchet MS', Arial, Helvetica, sans-serif;border-collapse: collapse;width: 100%;\">\t\n",
    "  <tr>\n",
    "    <th style=\"border: 1px solid #ddd;padding: 8px; padding-top: 12px;padding-bottom: 12px;text-align: left;background-color: #2987E7;color: white;\">Notebook</th>\n",
    "    <th style=\"border: 1px solid #ddd;padding: 8px; padding-top: 12px;padding-bottom: 12px;text-align: left;background-color: #2987E7;color: white;\">Tags</th>\n",
    "  </tr>\n",
    "  <tr>\n",
    "    <td style=\"text-align: left\"><a href=\"https://www.kaggle.com/rajacsp/reviews-with-nlp-wip\">Amazon Alexa Reviews with NLP</a> </td>\n",
    "    <td style=\"text-align: left\">NLP, Spacy</td>\n",
    "  </tr>\n",
    "  <tr>\n",
    "    <td style=\"text-align: left\"><a href=\"https://www.kaggle.com/rajacsp/sof-questions-eda-and-visual\">SOF Questions - EDA and Visual</a> </td>\n",
    "    <td style=\"text-align: left\">Data Visual, Plotly</td>\n",
    "  </tr>\n",
    "  <tr>\n",
    "    <td style=\"background-color: #f2f2f2;text-align: left\"><a href=\"https://www.kaggle.com/rajacsp/netflix-visualization-plotly-plots-treemap\">Netflix - Visualization, Plotly, Plots, and Treemap</a> </td>\n",
    "    <td style=\"background-color: #f2f2f2;text-align: left\">Data Visual, Data Cleaning, Plotly</td>\n",
    "  </tr>\n",
    "  <tr>\n",
    "    <td style=\"text-align: left\"><a href=\"https://www.kaggle.com/rajacsp/prediction-with-various-algorithms\">Prediction with various Algorithms</a> </td>\n",
    "    <td style=\"text-align: left\">Random Forest, Logistic Regression</td>\n",
    "  </tr>\n",
    "  <tr>\n",
    "    <td style=\"background-color: #f2f2f2;text-align: left\"><a href=\"https://www.kaggle.com/rajacsp/eda-and-visualization\">EDA and Visualization</a> </td>\n",
    "    <td style=\"background-color: #f2f2f2;text-align: left\">Data Cleaning, Data Visual</td>\n",
    "  </tr>\n",
    "  <tr>\n",
    "    <td style=\"text-align: left\"><a href=\"https://www.kaggle.com/rajacsp/job-analysis-eda-visual\">Job Analysis - EDA and Visual</a> </td>\n",
    "    <td style=\"text-align: left\">Data Visual, EDA, Plotly</td>\n",
    "  </tr>   \n",
    "  <tr>\n",
    "    <td style=\"background-color: #f2f2f2;text-align: left\"><a href=\"https://www.kaggle.com/rajacsp/estonia-disaster-visualization\">Estonia Disaster - Visualization</a> </td>\n",
    "    <td style=\"background-color: #f2f2f2;text-align: left\">Data Visual, EDA, Data Cleaning</td>\n",
    "  </tr>\n",
    "    \n",
    "  <tr>\n",
    "    <td style=\"text-align: left\"><a href=\"https://www.kaggle.com/rajacsp/pandas-dundas-challenge-100\" >Pandas 100+ exercises collection</a></td>\n",
    "    <td style=\"text-align: left\">Pandas, Data Manipulation</td>\n",
    "  </tr>   \n",
    "  <tr>\n",
    "    <td style=\"background-color: #f2f2f2;text-align: left\"><a href=\"https://www.kaggle.com/rajacsp/prediction-with-various-algorithms\">Credit Card Fraud - Prediction with various algorithms</a></td>\n",
    "    <td style=\"background-color: #f2f2f2;text-align: left\">Various ML Algorithms</td>\n",
    "  </tr>  \n",
    "  <tr>\n",
    "    <td style=\"text-align: left\"><a href=\"https://www.kaggle.com/rajacsp/linear-equations-real-time\">Linear Equations - Real Time</a> </td>\n",
    "    <td style=\"text-align: left\">Linear Equation</td>\n",
    "  </tr>  \n",
    "</table>\n",
    "\n"
   ]
  },
  {
   "cell_type": "code",
   "execution_count": null,
   "metadata": {},
   "outputs": [],
   "source": []
  }
 ],
 "metadata": {
  "kernelspec": {
   "display_name": "Python 3 (ipykernel)",
   "language": "python",
   "name": "python3"
  },
  "language_info": {
   "codemirror_mode": {
    "name": "ipython",
    "version": 3
   },
   "file_extension": ".py",
   "mimetype": "text/x-python",
   "name": "python",
   "nbconvert_exporter": "python",
   "pygments_lexer": "ipython3",
   "version": "3.10.11"
  }
 },
 "nbformat": 4,
 "nbformat_minor": 4
}
