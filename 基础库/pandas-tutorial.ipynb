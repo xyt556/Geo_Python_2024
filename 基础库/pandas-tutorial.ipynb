{
 "metadata": {
  "kernelspec": {
   "language": "python",
   "display_name": "Python 3",
   "name": "python3"
  },
  "language_info": {
   "name": "python",
   "version": "3.7.12",
   "mimetype": "text/x-python",
   "codemirror_mode": {
    "name": "ipython",
    "version": 3
   },
   "pygments_lexer": "ipython3",
   "nbconvert_exporter": "python",
   "file_extension": ".py"
  }
 },
 "nbformat_minor": 4,
 "nbformat": 4,
 "cells": [
  {
   "cell_type": "markdown",
   "source": [
    "# Pandas Tutorial"
   ],
   "metadata": {}
  },
  {
   "cell_type": "code",
   "source": [
    "import numpy as np\n",
    "import pandas as pd\n",
    "import matplotlib.pyplot as plt\n",
    "pd.read_csv()"
   ],
   "metadata": {
    "execution": {
     "iopub.status.busy": "2023-09-20T01:19:51.462898Z",
     "iopub.execute_input": "2023-09-20T01:19:51.463439Z",
     "iopub.status.idle": "2023-09-20T01:19:51.469796Z",
     "shell.execute_reply.started": "2023-09-20T01:19:51.463395Z",
     "shell.execute_reply": "2023-09-20T01:19:51.468557Z"
    },
    "trusted": true
   },
   "execution_count": null,
   "outputs": []
  },
  {
   "cell_type": "code",
   "source": [
    "import pandas as pd\n",
    "pd.read_excel('data',sheet_name=0,index_col='a',usecols=[],skiprows=2,skipfooter=)"
   ],
   "metadata": {
    "execution": {
     "iopub.status.busy": "2023-09-20T01:16:14.419359Z",
     "iopub.execute_input": "2023-09-20T01:16:14.421304Z",
     "iopub.status.idle": "2023-09-20T01:16:14.427327Z",
     "shell.execute_reply.started": "2023-09-20T01:16:14.421240Z",
     "shell.execute_reply": "2023-09-20T01:16:14.426223Z"
    },
    "trusted": true
   },
   "execution_count": null,
   "outputs": []
  },
  {
   "cell_type": "code",
   "source": [
    "df = pd.read_csv('../input/stack-overflow-developing-survey-2019/survey_results_public.csv',\n",
    "                 index_col='MainBranch') #importing our data and setting the index to 'ResponseId'\n",
    "df = pd.DataFrame(df)                                 #creat dataframe with data\n",
    "df"
   ],
   "metadata": {
    "execution": {
     "iopub.status.busy": "2023-09-20T00:31:23.198307Z",
     "iopub.execute_input": "2023-09-20T00:31:23.199288Z",
     "iopub.status.idle": "2023-09-20T00:31:26.607006Z",
     "shell.execute_reply.started": "2023-09-20T00:31:23.199247Z",
     "shell.execute_reply": "2023-09-20T00:31:26.605654Z"
    },
    "trusted": true
   },
   "execution_count": null,
   "outputs": []
  },
  {
   "cell_type": "code",
   "source": [
    "df.loc[:,'OpenSourcer']"
   ],
   "metadata": {
    "execution": {
     "iopub.status.busy": "2023-09-20T00:34:10.805095Z",
     "iopub.execute_input": "2023-09-20T00:34:10.805566Z",
     "iopub.status.idle": "2023-09-20T00:34:10.815663Z",
     "shell.execute_reply.started": "2023-09-20T00:34:10.805521Z",
     "shell.execute_reply": "2023-09-20T00:34:10.814494Z"
    },
    "trusted": true
   },
   "execution_count": null,
   "outputs": []
  },
  {
   "cell_type": "code",
   "source": [
    "df.shape                        # number of the rows and columns of dataframe"
   ],
   "metadata": {
    "execution": {
     "iopub.status.busy": "2023-09-20T00:07:23.197261Z",
     "iopub.execute_input": "2023-09-20T00:07:23.197778Z",
     "iopub.status.idle": "2023-09-20T00:07:23.207255Z",
     "shell.execute_reply.started": "2023-09-20T00:07:23.197731Z",
     "shell.execute_reply": "2023-09-20T00:07:23.205738Z"
    },
    "trusted": true
   },
   "execution_count": null,
   "outputs": []
  },
  {
   "cell_type": "code",
   "source": [
    "df.info()                       # information of dataframe"
   ],
   "metadata": {
    "execution": {
     "iopub.status.busy": "2023-09-20T00:07:25.793992Z",
     "iopub.execute_input": "2023-09-20T00:07:25.795272Z",
     "iopub.status.idle": "2023-09-20T00:07:26.185468Z",
     "shell.execute_reply.started": "2023-09-20T00:07:25.795210Z",
     "shell.execute_reply": "2023-09-20T00:07:26.184206Z"
    },
    "trusted": true
   },
   "execution_count": null,
   "outputs": []
  },
  {
   "cell_type": "code",
   "source": [
    "pd.set_option('display.max_columns', 85)    #displaying all columns"
   ],
   "metadata": {
    "execution": {
     "iopub.status.busy": "2023-09-20T00:07:38.830361Z",
     "iopub.execute_input": "2023-09-20T00:07:38.831943Z",
     "iopub.status.idle": "2023-09-20T00:07:38.838002Z",
     "shell.execute_reply.started": "2023-09-20T00:07:38.831870Z",
     "shell.execute_reply": "2023-09-20T00:07:38.836605Z"
    },
    "trusted": true
   },
   "execution_count": null,
   "outputs": []
  },
  {
   "cell_type": "code",
   "source": [
    "df"
   ],
   "metadata": {
    "execution": {
     "iopub.status.busy": "2023-09-20T00:07:42.906539Z",
     "iopub.execute_input": "2023-09-20T00:07:42.906962Z",
     "iopub.status.idle": "2023-09-20T00:07:43.031639Z",
     "shell.execute_reply.started": "2023-09-20T00:07:42.906925Z",
     "shell.execute_reply": "2023-09-20T00:07:43.030411Z"
    },
    "trusted": true
   },
   "execution_count": null,
   "outputs": []
  },
  {
   "cell_type": "code",
   "source": [
    "schema_df = pd.read_csv('../input/stack-overflow-developing-survey-2019/survey_results_schema.csv', index_col='Column')"
   ],
   "metadata": {
    "execution": {
     "iopub.status.busy": "2023-09-20T00:08:33.305032Z",
     "iopub.execute_input": "2023-09-20T00:08:33.305968Z",
     "iopub.status.idle": "2023-09-20T00:08:33.318873Z",
     "shell.execute_reply.started": "2023-09-20T00:08:33.305911Z",
     "shell.execute_reply": "2023-09-20T00:08:33.317757Z"
    },
    "trusted": true
   },
   "execution_count": null,
   "outputs": []
  },
  {
   "cell_type": "code",
   "source": [
    "schema_df"
   ],
   "metadata": {
    "execution": {
     "iopub.status.busy": "2023-09-20T00:08:35.930611Z",
     "iopub.execute_input": "2023-09-20T00:08:35.931483Z",
     "iopub.status.idle": "2023-09-20T00:08:35.945475Z",
     "shell.execute_reply.started": "2023-09-20T00:08:35.931428Z",
     "shell.execute_reply": "2023-09-20T00:08:35.944104Z"
    },
    "trusted": true
   },
   "execution_count": null,
   "outputs": []
  },
  {
   "cell_type": "code",
   "source": [
    "#we can also use this code to see all rows of our dataframe:\n",
    "pd.set_option('display.max_rows', 85)"
   ],
   "metadata": {
    "execution": {
     "iopub.status.busy": "2023-09-20T00:08:42.387051Z",
     "iopub.execute_input": "2023-09-20T00:08:42.387451Z",
     "iopub.status.idle": "2023-09-20T00:08:42.392668Z",
     "shell.execute_reply.started": "2023-09-20T00:08:42.387417Z",
     "shell.execute_reply": "2023-09-20T00:08:42.391306Z"
    },
    "trusted": true
   },
   "execution_count": null,
   "outputs": []
  },
  {
   "cell_type": "code",
   "source": [
    "df.head(8)                     #display first 8 rows"
   ],
   "metadata": {
    "execution": {
     "iopub.status.busy": "2023-09-20T00:08:45.647901Z",
     "iopub.execute_input": "2023-09-20T00:08:45.648327Z",
     "iopub.status.idle": "2023-09-20T00:08:45.732083Z",
     "shell.execute_reply.started": "2023-09-20T00:08:45.648291Z",
     "shell.execute_reply": "2023-09-20T00:08:45.730767Z"
    },
    "trusted": true
   },
   "execution_count": null,
   "outputs": []
  },
  {
   "cell_type": "code",
   "source": [
    "df.tail(8)                     #display last 8 rows"
   ],
   "metadata": {
    "execution": {
     "iopub.status.busy": "2022-09-13T12:27:57.234221Z",
     "iopub.execute_input": "2022-09-13T12:27:57.236617Z",
     "iopub.status.idle": "2022-09-13T12:27:57.34957Z",
     "shell.execute_reply.started": "2022-09-13T12:27:57.236568Z",
     "shell.execute_reply": "2022-09-13T12:27:57.348673Z"
    },
    "trusted": true
   },
   "execution_count": null,
   "outputs": []
  },
  {
   "cell_type": "markdown",
   "source": [
    "# small example"
   ],
   "metadata": {}
  },
  {
   "cell_type": "code",
   "source": [
    "people = {'first' : ['Kourosh', 'Shahin', 'Rostam'], #creat a dictionary \n",
    "         'last' : ['Najar', 'Najar', 'Moghani'], \n",
    "         'email' : ['KouroshTambrchi@email.com', 'ShahinNajar@email.com', 'RostamMoghani@gmail.com']}"
   ],
   "metadata": {
    "execution": {
     "iopub.status.busy": "2023-09-20T00:08:57.622734Z",
     "iopub.execute_input": "2023-09-20T00:08:57.623139Z",
     "iopub.status.idle": "2023-09-20T00:08:57.628342Z",
     "shell.execute_reply.started": "2023-09-20T00:08:57.623106Z",
     "shell.execute_reply": "2023-09-20T00:08:57.627463Z"
    },
    "trusted": true
   },
   "execution_count": null,
   "outputs": []
  },
  {
   "cell_type": "code",
   "source": [
    "df2 = pd.DataFrame(people)                    # creat a dataframe with our dictionary"
   ],
   "metadata": {
    "execution": {
     "iopub.status.busy": "2023-09-20T00:09:00.692704Z",
     "iopub.execute_input": "2023-09-20T00:09:00.693083Z",
     "iopub.status.idle": "2023-09-20T00:09:00.699168Z",
     "shell.execute_reply.started": "2023-09-20T00:09:00.693053Z",
     "shell.execute_reply": "2023-09-20T00:09:00.698203Z"
    },
    "trusted": true
   },
   "execution_count": null,
   "outputs": []
  },
  {
   "cell_type": "code",
   "source": [
    "df2"
   ],
   "metadata": {
    "execution": {
     "iopub.status.busy": "2023-09-20T00:09:04.104860Z",
     "iopub.execute_input": "2023-09-20T00:09:04.105291Z",
     "iopub.status.idle": "2023-09-20T00:09:04.117300Z",
     "shell.execute_reply.started": "2023-09-20T00:09:04.105255Z",
     "shell.execute_reply": "2023-09-20T00:09:04.116198Z"
    },
    "trusted": true
   },
   "execution_count": null,
   "outputs": []
  },
  {
   "cell_type": "code",
   "source": [
    "df2['email']                              # displaying a specific column"
   ],
   "metadata": {
    "execution": {
     "iopub.status.busy": "2023-09-20T00:09:09.313154Z",
     "iopub.execute_input": "2023-09-20T00:09:09.313590Z",
     "iopub.status.idle": "2023-09-20T00:09:09.322476Z",
     "shell.execute_reply.started": "2023-09-20T00:09:09.313552Z",
     "shell.execute_reply": "2023-09-20T00:09:09.321305Z"
    },
    "trusted": true
   },
   "execution_count": null,
   "outputs": []
  },
  {
   "cell_type": "code",
   "source": [
    "type(df2['email'])                        #type of a specific column"
   ],
   "metadata": {
    "execution": {
     "iopub.status.busy": "2023-09-20T00:09:15.595522Z",
     "iopub.execute_input": "2023-09-20T00:09:15.595949Z",
     "iopub.status.idle": "2023-09-20T00:09:15.603922Z",
     "shell.execute_reply.started": "2023-09-20T00:09:15.595915Z",
     "shell.execute_reply": "2023-09-20T00:09:15.602573Z"
    },
    "trusted": true
   },
   "execution_count": null,
   "outputs": []
  },
  {
   "cell_type": "code",
   "source": [
    "df2.columns                               # display the list of dataframe's columns"
   ],
   "metadata": {
    "execution": {
     "iopub.status.busy": "2023-09-20T00:09:20.634636Z",
     "iopub.execute_input": "2023-09-20T00:09:20.635131Z",
     "iopub.status.idle": "2023-09-20T00:09:20.642516Z",
     "shell.execute_reply.started": "2023-09-20T00:09:20.635090Z",
     "shell.execute_reply": "2023-09-20T00:09:20.641365Z"
    },
    "trusted": true
   },
   "execution_count": null,
   "outputs": []
  },
  {
   "cell_type": "code",
   "source": [
    "df2[['first', 'email']]                  # display the first and email column"
   ],
   "metadata": {
    "execution": {
     "iopub.status.busy": "2023-09-20T00:09:27.438196Z",
     "iopub.execute_input": "2023-09-20T00:09:27.438643Z",
     "iopub.status.idle": "2023-09-20T00:09:27.451918Z",
     "shell.execute_reply.started": "2023-09-20T00:09:27.438607Z",
     "shell.execute_reply": "2023-09-20T00:09:27.450492Z"
    },
    "trusted": true
   },
   "execution_count": null,
   "outputs": []
  },
  {
   "cell_type": "code",
   "source": [
    "df2.iloc[[1, 2], 1]                     # display last 2 rows of 'last' column"
   ],
   "metadata": {
    "execution": {
     "iopub.status.busy": "2023-09-20T00:09:31.024259Z",
     "iopub.execute_input": "2023-09-20T00:09:31.025204Z",
     "iopub.status.idle": "2023-09-20T00:09:31.034163Z",
     "shell.execute_reply.started": "2023-09-20T00:09:31.025153Z",
     "shell.execute_reply": "2023-09-20T00:09:31.033222Z"
    },
    "trusted": true
   },
   "execution_count": null,
   "outputs": []
  },
  {
   "cell_type": "code",
   "source": [
    "df2.loc[[0, 1], ['email', 'last']]     # display first 2 rows of 'email' and 'last' columns"
   ],
   "metadata": {
    "execution": {
     "iopub.status.busy": "2023-09-20T00:09:54.755947Z",
     "iopub.execute_input": "2023-09-20T00:09:54.756392Z",
     "iopub.status.idle": "2023-09-20T00:09:54.768976Z",
     "shell.execute_reply.started": "2023-09-20T00:09:54.756354Z",
     "shell.execute_reply": "2023-09-20T00:09:54.767798Z"
    },
    "trusted": true
   },
   "execution_count": null,
   "outputs": []
  },
  {
   "cell_type": "markdown",
   "source": [
    "# back to big dataframe"
   ],
   "metadata": {}
  },
  {
   "cell_type": "code",
   "source": [
    "df.head()"
   ],
   "metadata": {
    "execution": {
     "iopub.status.busy": "2023-09-20T00:10:14.802668Z",
     "iopub.execute_input": "2023-09-20T00:10:14.803080Z",
     "iopub.status.idle": "2023-09-20T00:10:14.883804Z",
     "shell.execute_reply.started": "2023-09-20T00:10:14.803045Z",
     "shell.execute_reply": "2023-09-20T00:10:14.882577Z"
    },
    "trusted": true
   },
   "execution_count": null,
   "outputs": []
  },
  {
   "cell_type": "code",
   "source": [
    "df.columns"
   ],
   "metadata": {
    "execution": {
     "iopub.status.busy": "2023-09-20T00:10:19.040726Z",
     "iopub.execute_input": "2023-09-20T00:10:19.041131Z",
     "iopub.status.idle": "2023-09-20T00:10:19.048672Z",
     "shell.execute_reply.started": "2023-09-20T00:10:19.041095Z",
     "shell.execute_reply": "2023-09-20T00:10:19.047563Z"
    },
    "trusted": true
   },
   "execution_count": null,
   "outputs": []
  },
  {
   "cell_type": "code",
   "source": [
    "df['Hobbyist'].value_counts()         # display the number of specific values of 'OpSys' column"
   ],
   "metadata": {
    "execution": {
     "iopub.status.busy": "2023-09-20T00:10:25.790747Z",
     "iopub.execute_input": "2023-09-20T00:10:25.791951Z",
     "iopub.status.idle": "2023-09-20T00:10:25.806673Z",
     "shell.execute_reply.started": "2023-09-20T00:10:25.791909Z",
     "shell.execute_reply": "2023-09-20T00:10:25.805480Z"
    },
    "trusted": true
   },
   "execution_count": null,
   "outputs": []
  },
  {
   "cell_type": "code",
   "source": [
    "df.loc[1:4, 'OpenSource':'EdLevel']    # display four first rows of 'Age' to 'Ethnicity' columns"
   ],
   "metadata": {
    "execution": {
     "iopub.status.busy": "2023-09-20T00:10:44.346472Z",
     "iopub.execute_input": "2023-09-20T00:10:44.347485Z",
     "iopub.status.idle": "2023-09-20T00:10:44.368175Z",
     "shell.execute_reply.started": "2023-09-20T00:10:44.347434Z",
     "shell.execute_reply": "2023-09-20T00:10:44.367008Z"
    },
    "trusted": true
   },
   "execution_count": null,
   "outputs": []
  },
  {
   "cell_type": "markdown",
   "source": [
    "# Work with indexes"
   ],
   "metadata": {}
  },
  {
   "cell_type": "code",
   "source": [
    "df2"
   ],
   "metadata": {
    "execution": {
     "iopub.status.busy": "2023-09-20T00:10:54.283571Z",
     "iopub.execute_input": "2023-09-20T00:10:54.283996Z",
     "iopub.status.idle": "2023-09-20T00:10:54.296170Z",
     "shell.execute_reply.started": "2023-09-20T00:10:54.283958Z",
     "shell.execute_reply": "2023-09-20T00:10:54.294813Z"
    },
    "trusted": true
   },
   "execution_count": null,
   "outputs": []
  },
  {
   "cell_type": "code",
   "source": [
    "df2.set_index('email', inplace=True)      #setting a column as index of the dataframe"
   ],
   "metadata": {
    "execution": {
     "iopub.status.busy": "2023-09-20T00:11:01.201357Z",
     "iopub.execute_input": "2023-09-20T00:11:01.201769Z",
     "iopub.status.idle": "2023-09-20T00:11:01.226197Z",
     "shell.execute_reply.started": "2023-09-20T00:11:01.201733Z",
     "shell.execute_reply": "2023-09-20T00:11:01.223574Z"
    },
    "trusted": true
   },
   "execution_count": null,
   "outputs": []
  },
  {
   "cell_type": "code",
   "source": [
    "df2"
   ],
   "metadata": {
    "execution": {
     "iopub.status.busy": "2023-09-20T00:11:24.722345Z",
     "iopub.execute_input": "2023-09-20T00:11:24.722815Z",
     "iopub.status.idle": "2023-09-20T00:11:24.734653Z",
     "shell.execute_reply.started": "2023-09-20T00:11:24.722779Z",
     "shell.execute_reply": "2023-09-20T00:11:24.733341Z"
    },
    "trusted": true
   },
   "execution_count": null,
   "outputs": []
  },
  {
   "cell_type": "code",
   "source": [
    "df2.loc['ShahinNajar@email.com']       "
   ],
   "metadata": {
    "execution": {
     "iopub.status.busy": "2023-09-20T00:11:34.579863Z",
     "iopub.execute_input": "2023-09-20T00:11:34.580262Z",
     "iopub.status.idle": "2023-09-20T00:11:34.588956Z",
     "shell.execute_reply.started": "2023-09-20T00:11:34.580231Z",
     "shell.execute_reply": "2023-09-20T00:11:34.587783Z"
    },
    "trusted": true
   },
   "execution_count": null,
   "outputs": []
  },
  {
   "cell_type": "code",
   "source": [
    "df2.loc['ShahinNajar@email.com', 'last']  "
   ],
   "metadata": {
    "execution": {
     "iopub.status.busy": "2023-09-20T00:11:45.889495Z",
     "iopub.execute_input": "2023-09-20T00:11:45.889916Z",
     "iopub.status.idle": "2023-09-20T00:11:45.897167Z",
     "shell.execute_reply.started": "2023-09-20T00:11:45.889882Z",
     "shell.execute_reply": "2023-09-20T00:11:45.896041Z"
    },
    "trusted": true
   },
   "execution_count": null,
   "outputs": []
  },
  {
   "cell_type": "code",
   "source": [
    "df2.iloc[0]                              #iloc method still work with numbers even we change the indexes"
   ],
   "metadata": {
    "execution": {
     "iopub.status.busy": "2023-09-20T00:12:02.299435Z",
     "iopub.execute_input": "2023-09-20T00:12:02.299846Z",
     "iopub.status.idle": "2023-09-20T00:12:02.308893Z",
     "shell.execute_reply.started": "2023-09-20T00:12:02.299814Z",
     "shell.execute_reply": "2023-09-20T00:12:02.307705Z"
    },
    "trusted": true
   },
   "execution_count": null,
   "outputs": []
  },
  {
   "cell_type": "code",
   "source": [
    "df2.reset_index(inplace=True)           #reset index of the data frame to defult\n",
    "df2"
   ],
   "metadata": {
    "execution": {
     "iopub.status.busy": "2023-09-20T00:12:15.178928Z",
     "iopub.execute_input": "2023-09-20T00:12:15.179404Z",
     "iopub.status.idle": "2023-09-20T00:12:15.193713Z",
     "shell.execute_reply.started": "2023-09-20T00:12:15.179363Z",
     "shell.execute_reply": "2023-09-20T00:12:15.192529Z"
    },
    "trusted": true
   },
   "execution_count": null,
   "outputs": []
  },
  {
   "cell_type": "markdown",
   "source": [
    "# -------"
   ],
   "metadata": {}
  },
  {
   "cell_type": "code",
   "source": [
    "schema_df"
   ],
   "metadata": {
    "execution": {
     "iopub.status.busy": "2023-09-20T00:12:23.636937Z",
     "iopub.execute_input": "2023-09-20T00:12:23.637351Z",
     "iopub.status.idle": "2023-09-20T00:12:23.652770Z",
     "shell.execute_reply.started": "2023-09-20T00:12:23.637318Z",
     "shell.execute_reply": "2023-09-20T00:12:23.651244Z"
    },
    "trusted": true
   },
   "execution_count": null,
   "outputs": []
  },
  {
   "cell_type": "code",
   "source": [
    "schema_df.loc['OpSys']          # call the index to see the question"
   ],
   "metadata": {
    "execution": {
     "iopub.status.busy": "2023-09-20T00:12:33.546614Z",
     "iopub.execute_input": "2023-09-20T00:12:33.547055Z",
     "iopub.status.idle": "2023-09-20T00:12:33.556518Z",
     "shell.execute_reply.started": "2023-09-20T00:12:33.547011Z",
     "shell.execute_reply": "2023-09-20T00:12:33.555395Z"
    },
    "trusted": true
   },
   "execution_count": null,
   "outputs": []
  },
  {
   "cell_type": "code",
   "source": [
    "schema_df.loc['OpSys', 'QuestionText']  #call the index and column"
   ],
   "metadata": {
    "execution": {
     "iopub.status.busy": "2023-09-20T00:12:37.840994Z",
     "iopub.execute_input": "2023-09-20T00:12:37.841424Z",
     "iopub.status.idle": "2023-09-20T00:12:37.853075Z",
     "shell.execute_reply.started": "2023-09-20T00:12:37.841387Z",
     "shell.execute_reply": "2023-09-20T00:12:37.851628Z"
    },
    "trusted": true
   },
   "execution_count": null,
   "outputs": []
  },
  {
   "cell_type": "code",
   "source": [
    "schema_df.sort_index()            #sorting the indexes alphabaticly"
   ],
   "metadata": {
    "execution": {
     "iopub.status.busy": "2023-09-20T00:13:21.827744Z",
     "iopub.execute_input": "2023-09-20T00:13:21.828327Z",
     "iopub.status.idle": "2023-09-20T00:13:21.853006Z",
     "shell.execute_reply.started": "2023-09-20T00:13:21.828277Z",
     "shell.execute_reply": "2023-09-20T00:13:21.851581Z"
    },
    "trusted": true
   },
   "execution_count": null,
   "outputs": []
  },
  {
   "cell_type": "code",
   "source": [
    "schema_df.sort_index(ascending=False, inplace=True)       #sorting the indexes reverse alphabaticly and save to dataframe"
   ],
   "metadata": {
    "execution": {
     "iopub.status.busy": "2023-09-20T00:13:41.321849Z",
     "iopub.execute_input": "2023-09-20T00:13:41.322441Z",
     "iopub.status.idle": "2023-09-20T00:13:41.329246Z",
     "shell.execute_reply.started": "2023-09-20T00:13:41.322396Z",
     "shell.execute_reply": "2023-09-20T00:13:41.327734Z"
    },
    "trusted": true
   },
   "execution_count": null,
   "outputs": []
  },
  {
   "cell_type": "code",
   "source": [
    "schema_df"
   ],
   "metadata": {
    "execution": {
     "iopub.status.busy": "2023-09-20T00:13:44.569327Z",
     "iopub.execute_input": "2023-09-20T00:13:44.570564Z",
     "iopub.status.idle": "2023-09-20T00:13:44.586880Z",
     "shell.execute_reply.started": "2023-09-20T00:13:44.570489Z",
     "shell.execute_reply": "2023-09-20T00:13:44.585556Z"
    },
    "trusted": true
   },
   "execution_count": null,
   "outputs": []
  },
  {
   "cell_type": "markdown",
   "source": [
    "# filtering:"
   ],
   "metadata": {}
  },
  {
   "cell_type": "code",
   "source": [
    "df2"
   ],
   "metadata": {
    "execution": {
     "iopub.status.busy": "2023-09-20T00:14:18.738770Z",
     "iopub.execute_input": "2023-09-20T00:14:18.739240Z",
     "iopub.status.idle": "2023-09-20T00:14:18.751839Z",
     "shell.execute_reply.started": "2023-09-20T00:14:18.739203Z",
     "shell.execute_reply": "2023-09-20T00:14:18.750368Z"
    },
    "trusted": true
   },
   "execution_count": null,
   "outputs": []
  },
  {
   "cell_type": "code",
   "source": [
    "filt = (df2['last'] == 'Najar') & (df2['first'] == 'Kourosh') #filter the column by a specific name"
   ],
   "metadata": {
    "execution": {
     "iopub.status.busy": "2023-09-20T00:14:29.694956Z",
     "iopub.execute_input": "2023-09-20T00:14:29.695363Z",
     "iopub.status.idle": "2023-09-20T00:14:29.701870Z",
     "shell.execute_reply.started": "2023-09-20T00:14:29.695332Z",
     "shell.execute_reply": "2023-09-20T00:14:29.700466Z"
    },
    "trusted": true
   },
   "execution_count": null,
   "outputs": []
  },
  {
   "cell_type": "code",
   "source": [
    "df2[filt]"
   ],
   "metadata": {
    "execution": {
     "iopub.status.busy": "2023-09-20T00:14:36.982744Z",
     "iopub.execute_input": "2023-09-20T00:14:36.983289Z",
     "iopub.status.idle": "2023-09-20T00:14:36.999864Z",
     "shell.execute_reply.started": "2023-09-20T00:14:36.983239Z",
     "shell.execute_reply": "2023-09-20T00:14:36.998407Z"
    },
    "trusted": true
   },
   "execution_count": null,
   "outputs": []
  },
  {
   "cell_type": "code",
   "source": [
    "df2.loc[~filt, 'email']           # the rows that 'last' isn't Najar and 'first' isn't Kourosh"
   ],
   "metadata": {
    "execution": {
     "iopub.status.busy": "2023-09-20T00:14:47.787476Z",
     "iopub.execute_input": "2023-09-20T00:14:47.787890Z",
     "iopub.status.idle": "2023-09-20T00:14:47.796337Z",
     "shell.execute_reply.started": "2023-09-20T00:14:47.787857Z",
     "shell.execute_reply": "2023-09-20T00:14:47.795480Z"
    },
    "trusted": true
   },
   "execution_count": null,
   "outputs": []
  },
  {
   "cell_type": "markdown",
   "source": [
    "# ------"
   ],
   "metadata": {}
  },
  {
   "cell_type": "code",
   "source": [
    "df.head()"
   ],
   "metadata": {
    "execution": {
     "iopub.status.busy": "2022-09-13T12:27:57.933978Z",
     "iopub.execute_input": "2022-09-13T12:27:57.934316Z",
     "iopub.status.idle": "2022-09-13T12:27:58.012957Z",
     "shell.execute_reply.started": "2022-09-13T12:27:57.934288Z",
     "shell.execute_reply": "2022-09-13T12:27:58.011588Z"
    },
    "trusted": true
   },
   "execution_count": null,
   "outputs": []
  },
  {
   "cell_type": "code",
   "source": [
    "high_salary = (df['ConvertedComp'] > 70000) "
   ],
   "metadata": {
    "execution": {
     "iopub.status.busy": "2022-09-13T12:27:58.015302Z",
     "iopub.execute_input": "2022-09-13T12:27:58.015957Z",
     "iopub.status.idle": "2022-09-13T12:27:58.024522Z",
     "shell.execute_reply.started": "2022-09-13T12:27:58.015901Z",
     "shell.execute_reply": "2022-09-13T12:27:58.023153Z"
    },
    "trusted": true
   },
   "execution_count": null,
   "outputs": []
  },
  {
   "cell_type": "code",
   "source": [
    "df.loc[high_salary, ['Country', 'LanguageWorkedWith', 'ConvertedComp']] #high slaries in special columns"
   ],
   "metadata": {
    "execution": {
     "iopub.status.busy": "2022-09-13T12:27:58.026338Z",
     "iopub.execute_input": "2022-09-13T12:27:58.027122Z",
     "iopub.status.idle": "2022-09-13T12:27:58.086465Z",
     "shell.execute_reply.started": "2022-09-13T12:27:58.027072Z",
     "shell.execute_reply": "2022-09-13T12:27:58.085189Z"
    },
    "trusted": true
   },
   "execution_count": null,
   "outputs": []
  },
  {
   "cell_type": "code",
   "source": [
    "countries = ['United States', 'Canada', 'India', 'United Kingdom', 'Germany']\n",
    "filtr = df['Country'].isin(countries)  #defining a filter that contains special countries in 'Country' column"
   ],
   "metadata": {
    "execution": {
     "iopub.status.busy": "2022-09-13T12:27:58.088135Z",
     "iopub.execute_input": "2022-09-13T12:27:58.089017Z",
     "iopub.status.idle": "2022-09-13T12:27:58.099519Z",
     "shell.execute_reply.started": "2022-09-13T12:27:58.088981Z",
     "shell.execute_reply": "2022-09-13T12:27:58.098352Z"
    },
    "trusted": true
   },
   "execution_count": null,
   "outputs": []
  },
  {
   "cell_type": "code",
   "source": [
    "df.loc[filtr, ['Country', 'LanguageWorkedWith', 'ConvertedComp']] #filetring data with above filter in special coolumns"
   ],
   "metadata": {
    "execution": {
     "iopub.status.busy": "2022-09-13T12:27:58.100997Z",
     "iopub.execute_input": "2022-09-13T12:27:58.101329Z",
     "iopub.status.idle": "2022-09-13T12:27:58.191234Z",
     "shell.execute_reply.started": "2022-09-13T12:27:58.1013Z",
     "shell.execute_reply": "2022-09-13T12:27:58.190358Z"
    },
    "trusted": true
   },
   "execution_count": null,
   "outputs": []
  },
  {
   "cell_type": "code",
   "source": [
    "filtr2 = df['LanguageWorkedWith'].str.contains('Python', na=False)"
   ],
   "metadata": {
    "execution": {
     "iopub.status.busy": "2022-09-13T12:27:58.192273Z",
     "iopub.execute_input": "2022-09-13T12:27:58.193191Z",
     "iopub.status.idle": "2022-09-13T12:27:58.257506Z",
     "shell.execute_reply.started": "2022-09-13T12:27:58.193144Z",
     "shell.execute_reply": "2022-09-13T12:27:58.256053Z"
    },
    "trusted": true
   },
   "execution_count": null,
   "outputs": []
  },
  {
   "cell_type": "code",
   "source": [
    "df.loc[filtr2, 'LanguageWorkedWith']"
   ],
   "metadata": {
    "execution": {
     "iopub.status.busy": "2022-09-13T12:27:58.259146Z",
     "iopub.execute_input": "2022-09-13T12:27:58.259486Z",
     "iopub.status.idle": "2022-09-13T12:27:58.272061Z",
     "shell.execute_reply.started": "2022-09-13T12:27:58.259457Z",
     "shell.execute_reply": "2022-09-13T12:27:58.270565Z"
    },
    "trusted": true
   },
   "execution_count": null,
   "outputs": []
  },
  {
   "cell_type": "markdown",
   "source": [
    "#  Updating Rows and Columns - Modifying Data Within DataFrames"
   ],
   "metadata": {}
  },
  {
   "cell_type": "code",
   "source": [
    "df2"
   ],
   "metadata": {
    "execution": {
     "iopub.status.busy": "2022-09-13T12:27:58.275293Z",
     "iopub.execute_input": "2022-09-13T12:27:58.275824Z",
     "iopub.status.idle": "2022-09-13T12:27:58.290931Z",
     "shell.execute_reply.started": "2022-09-13T12:27:58.275761Z",
     "shell.execute_reply": "2022-09-13T12:27:58.289509Z"
    },
    "trusted": true
   },
   "execution_count": null,
   "outputs": []
  },
  {
   "cell_type": "code",
   "source": [
    "df2.columns = ['email', 'first name', 'last name'] #updating columns name"
   ],
   "metadata": {
    "execution": {
     "iopub.status.busy": "2022-09-13T12:27:58.292575Z",
     "iopub.execute_input": "2022-09-13T12:27:58.292968Z",
     "iopub.status.idle": "2022-09-13T12:27:58.304294Z",
     "shell.execute_reply.started": "2022-09-13T12:27:58.292935Z",
     "shell.execute_reply": "2022-09-13T12:27:58.302755Z"
    },
    "trusted": true
   },
   "execution_count": null,
   "outputs": []
  },
  {
   "cell_type": "code",
   "source": [
    "df2"
   ],
   "metadata": {
    "execution": {
     "iopub.status.busy": "2022-09-13T12:27:58.305835Z",
     "iopub.execute_input": "2022-09-13T12:27:58.306187Z",
     "iopub.status.idle": "2022-09-13T12:27:58.323823Z",
     "shell.execute_reply.started": "2022-09-13T12:27:58.306157Z",
     "shell.execute_reply": "2022-09-13T12:27:58.322356Z"
    },
    "trusted": true
   },
   "execution_count": null,
   "outputs": []
  },
  {
   "cell_type": "code",
   "source": [
    "df2.columns = [x.upper() for x in df2.columns]  #updating columns name\n",
    "df2"
   ],
   "metadata": {
    "execution": {
     "iopub.status.busy": "2022-09-13T12:27:58.325529Z",
     "iopub.execute_input": "2022-09-13T12:27:58.325909Z",
     "iopub.status.idle": "2022-09-13T12:27:58.345923Z",
     "shell.execute_reply.started": "2022-09-13T12:27:58.325877Z",
     "shell.execute_reply": "2022-09-13T12:27:58.344663Z"
    },
    "trusted": true
   },
   "execution_count": null,
   "outputs": []
  },
  {
   "cell_type": "code",
   "source": [
    "df2.columns = df2.columns.str.replace(' ', '_')  #updating columns name\n",
    "df2"
   ],
   "metadata": {
    "execution": {
     "iopub.status.busy": "2022-09-13T12:27:58.34805Z",
     "iopub.execute_input": "2022-09-13T12:27:58.348494Z",
     "iopub.status.idle": "2022-09-13T12:27:58.361145Z",
     "shell.execute_reply.started": "2022-09-13T12:27:58.348461Z",
     "shell.execute_reply": "2022-09-13T12:27:58.360149Z"
    },
    "trusted": true
   },
   "execution_count": null,
   "outputs": []
  },
  {
   "cell_type": "code",
   "source": [
    "df2.rename(columns = {'FIRST_NAME': 'first', 'LAST_NAME': 'last', 'EMAIL': 'email'}, inplace = True) #rename columns"
   ],
   "metadata": {
    "execution": {
     "iopub.status.busy": "2022-09-13T12:27:58.362291Z",
     "iopub.execute_input": "2022-09-13T12:27:58.362701Z",
     "iopub.status.idle": "2022-09-13T12:27:58.370505Z",
     "shell.execute_reply.started": "2022-09-13T12:27:58.362667Z",
     "shell.execute_reply": "2022-09-13T12:27:58.369007Z"
    },
    "trusted": true
   },
   "execution_count": null,
   "outputs": []
  },
  {
   "cell_type": "code",
   "source": [
    "df2"
   ],
   "metadata": {
    "execution": {
     "iopub.status.busy": "2022-09-13T12:27:58.372628Z",
     "iopub.execute_input": "2022-09-13T12:27:58.373941Z",
     "iopub.status.idle": "2022-09-13T12:27:58.391812Z",
     "shell.execute_reply.started": "2022-09-13T12:27:58.373875Z",
     "shell.execute_reply": "2022-09-13T12:27:58.39016Z"
    },
    "trusted": true
   },
   "execution_count": null,
   "outputs": []
  },
  {
   "cell_type": "code",
   "source": [
    "df2 = pd.DataFrame(df2, columns=['first', 'last', 'email'])\n",
    "df2"
   ],
   "metadata": {
    "execution": {
     "iopub.status.busy": "2022-09-13T12:27:58.393605Z",
     "iopub.execute_input": "2022-09-13T12:27:58.394314Z",
     "iopub.status.idle": "2022-09-13T12:27:58.413151Z",
     "shell.execute_reply.started": "2022-09-13T12:27:58.394168Z",
     "shell.execute_reply": "2022-09-13T12:27:58.411429Z"
    },
    "trusted": true
   },
   "execution_count": null,
   "outputs": []
  },
  {
   "cell_type": "code",
   "source": [
    "df2.loc[2] = ['Rostam', 'Ahmadi', 'RostamAhmadi@gmail.com'] #changing the row value\n",
    "df2"
   ],
   "metadata": {
    "execution": {
     "iopub.status.busy": "2022-09-13T12:27:58.415482Z",
     "iopub.execute_input": "2022-09-13T12:27:58.416325Z",
     "iopub.status.idle": "2022-09-13T12:27:58.433292Z",
     "shell.execute_reply.started": "2022-09-13T12:27:58.416264Z",
     "shell.execute_reply": "2022-09-13T12:27:58.431733Z"
    },
    "trusted": true
   },
   "execution_count": null,
   "outputs": []
  },
  {
   "cell_type": "code",
   "source": [
    "df2.loc[2, ['first', 'last']] = ['Gholam', 'Ahmadi']\n",
    "df2"
   ],
   "metadata": {
    "execution": {
     "iopub.status.busy": "2022-09-13T12:27:58.435426Z",
     "iopub.execute_input": "2022-09-13T12:27:58.436348Z",
     "iopub.status.idle": "2022-09-13T12:27:58.451107Z",
     "shell.execute_reply.started": "2022-09-13T12:27:58.4363Z",
     "shell.execute_reply": "2022-09-13T12:27:58.449342Z"
    },
    "trusted": true
   },
   "execution_count": null,
   "outputs": []
  },
  {
   "cell_type": "code",
   "source": [
    "df2.loc[2, 'first'] = 'Poupak'\n",
    "df2"
   ],
   "metadata": {
    "execution": {
     "iopub.status.busy": "2022-09-13T12:27:58.453323Z",
     "iopub.execute_input": "2022-09-13T12:27:58.453977Z",
     "iopub.status.idle": "2022-09-13T12:27:58.466791Z",
     "shell.execute_reply.started": "2022-09-13T12:27:58.453939Z",
     "shell.execute_reply": "2022-09-13T12:27:58.465127Z"
    },
    "trusted": true
   },
   "execution_count": null,
   "outputs": []
  },
  {
   "cell_type": "code",
   "source": [
    "df2.at[2, 'first'] = 'JabarSing'\n",
    "df2"
   ],
   "metadata": {
    "execution": {
     "iopub.status.busy": "2022-09-13T12:27:58.468475Z",
     "iopub.execute_input": "2022-09-13T12:27:58.469589Z",
     "iopub.status.idle": "2022-09-13T12:27:58.486362Z",
     "shell.execute_reply.started": "2022-09-13T12:27:58.469544Z",
     "shell.execute_reply": "2022-09-13T12:27:58.484678Z"
    },
    "trusted": true
   },
   "execution_count": null,
   "outputs": []
  },
  {
   "cell_type": "code",
   "source": [
    "filt3 = (df2['email'] == 'ShahinNajar@email.com')\n",
    "df2.loc[filt, 'last'] = 'Baghi'\n",
    "df2"
   ],
   "metadata": {
    "execution": {
     "iopub.status.busy": "2022-09-13T12:27:58.48789Z",
     "iopub.execute_input": "2022-09-13T12:27:58.488257Z",
     "iopub.status.idle": "2022-09-13T12:27:58.50218Z",
     "shell.execute_reply.started": "2022-09-13T12:27:58.488227Z",
     "shell.execute_reply": "2022-09-13T12:27:58.500715Z"
    },
    "trusted": true
   },
   "execution_count": null,
   "outputs": []
  },
  {
   "cell_type": "code",
   "source": [
    "df2['email'] = df2['email'].str.lower()\n",
    "df2"
   ],
   "metadata": {
    "execution": {
     "iopub.status.busy": "2022-09-13T12:27:58.504124Z",
     "iopub.execute_input": "2022-09-13T12:27:58.504942Z",
     "iopub.status.idle": "2022-09-13T12:27:58.520323Z",
     "shell.execute_reply.started": "2022-09-13T12:27:58.504902Z",
     "shell.execute_reply": "2022-09-13T12:27:58.519293Z"
    },
    "trusted": true
   },
   "execution_count": null,
   "outputs": []
  },
  {
   "cell_type": "code",
   "source": [
    "#apply method"
   ],
   "metadata": {
    "execution": {
     "iopub.status.busy": "2022-09-13T12:27:58.521797Z",
     "iopub.execute_input": "2022-09-13T12:27:58.523001Z",
     "iopub.status.idle": "2022-09-13T12:27:58.528176Z",
     "shell.execute_reply.started": "2022-09-13T12:27:58.52296Z",
     "shell.execute_reply": "2022-09-13T12:27:58.527076Z"
    },
    "trusted": true
   },
   "execution_count": null,
   "outputs": []
  },
  {
   "cell_type": "code",
   "source": [
    "df2['email'].apply(len)        # length of each email adress"
   ],
   "metadata": {
    "execution": {
     "iopub.status.busy": "2022-09-13T12:27:58.529707Z",
     "iopub.execute_input": "2022-09-13T12:27:58.53093Z",
     "iopub.status.idle": "2022-09-13T12:27:58.546246Z",
     "shell.execute_reply.started": "2022-09-13T12:27:58.530884Z",
     "shell.execute_reply": "2022-09-13T12:27:58.544904Z"
    },
    "trusted": true
   },
   "execution_count": null,
   "outputs": []
  },
  {
   "cell_type": "code",
   "source": [
    "def update_email(email):\n",
    "    return email.upper()"
   ],
   "metadata": {
    "execution": {
     "iopub.status.busy": "2022-09-13T12:27:58.547703Z",
     "iopub.execute_input": "2022-09-13T12:27:58.548863Z",
     "iopub.status.idle": "2022-09-13T12:27:58.555637Z",
     "shell.execute_reply.started": "2022-09-13T12:27:58.548816Z",
     "shell.execute_reply": "2022-09-13T12:27:58.55485Z"
    },
    "trusted": true
   },
   "execution_count": null,
   "outputs": []
  },
  {
   "cell_type": "code",
   "source": [
    "df2['email'] = df2['email'].apply(update_email)\n",
    "df2"
   ],
   "metadata": {
    "execution": {
     "iopub.status.busy": "2022-09-13T12:27:58.557251Z",
     "iopub.execute_input": "2022-09-13T12:27:58.557754Z",
     "iopub.status.idle": "2022-09-13T12:27:58.574641Z",
     "shell.execute_reply.started": "2022-09-13T12:27:58.557701Z",
     "shell.execute_reply": "2022-09-13T12:27:58.57367Z"
    },
    "trusted": true
   },
   "execution_count": null,
   "outputs": []
  },
  {
   "cell_type": "code",
   "source": [
    "df2['email'] = df2['email'].apply(lambda x: x.lower()) #apply a lambda function that return lower case of string, to 'email'\n",
    "df2"
   ],
   "metadata": {
    "execution": {
     "iopub.status.busy": "2022-09-13T12:27:58.575915Z",
     "iopub.execute_input": "2022-09-13T12:27:58.576398Z",
     "iopub.status.idle": "2022-09-13T12:27:58.58835Z",
     "shell.execute_reply.started": "2022-09-13T12:27:58.576368Z",
     "shell.execute_reply": "2022-09-13T12:27:58.586914Z"
    },
    "trusted": true
   },
   "execution_count": null,
   "outputs": []
  },
  {
   "cell_type": "code",
   "source": [
    "df2.apply(len, axis='rows') #length of rows"
   ],
   "metadata": {
    "execution": {
     "iopub.status.busy": "2022-09-13T12:27:58.589715Z",
     "iopub.execute_input": "2022-09-13T12:27:58.59025Z",
     "iopub.status.idle": "2022-09-13T12:27:58.60309Z",
     "shell.execute_reply.started": "2022-09-13T12:27:58.590219Z",
     "shell.execute_reply": "2022-09-13T12:27:58.602067Z"
    },
    "trusted": true
   },
   "execution_count": null,
   "outputs": []
  },
  {
   "cell_type": "code",
   "source": [
    "df2.apply(len, axis='columns') # length of columns"
   ],
   "metadata": {
    "execution": {
     "iopub.status.busy": "2022-09-13T12:27:58.604328Z",
     "iopub.execute_input": "2022-09-13T12:27:58.606235Z",
     "iopub.status.idle": "2022-09-13T12:27:58.619699Z",
     "shell.execute_reply.started": "2022-09-13T12:27:58.606168Z",
     "shell.execute_reply": "2022-09-13T12:27:58.618785Z"
    },
    "trusted": true
   },
   "execution_count": null,
   "outputs": []
  },
  {
   "cell_type": "code",
   "source": [
    "df2.apply(pd.Series.min) # return minimum by alphabet in each column"
   ],
   "metadata": {
    "execution": {
     "iopub.status.busy": "2022-09-13T12:27:58.620909Z",
     "iopub.execute_input": "2022-09-13T12:27:58.621688Z",
     "iopub.status.idle": "2022-09-13T12:27:58.639095Z",
     "shell.execute_reply.started": "2022-09-13T12:27:58.621645Z",
     "shell.execute_reply": "2022-09-13T12:27:58.637842Z"
    },
    "trusted": true
   },
   "execution_count": null,
   "outputs": []
  },
  {
   "cell_type": "code",
   "source": [
    "df2.apply(lambda x: x.min())  # return minimum by alphabet in each column"
   ],
   "metadata": {
    "execution": {
     "iopub.status.busy": "2022-09-13T12:27:58.641421Z",
     "iopub.execute_input": "2022-09-13T12:27:58.642245Z",
     "iopub.status.idle": "2022-09-13T12:27:58.65537Z",
     "shell.execute_reply.started": "2022-09-13T12:27:58.642193Z",
     "shell.execute_reply": "2022-09-13T12:27:58.6545Z"
    },
    "trusted": true
   },
   "execution_count": null,
   "outputs": []
  },
  {
   "cell_type": "code",
   "source": [
    "df2.applymap(len) #length of each string in each column"
   ],
   "metadata": {
    "execution": {
     "iopub.status.busy": "2022-09-13T12:27:58.657212Z",
     "iopub.execute_input": "2022-09-13T12:27:58.657581Z",
     "iopub.status.idle": "2022-09-13T12:27:58.674555Z",
     "shell.execute_reply.started": "2022-09-13T12:27:58.65755Z",
     "shell.execute_reply": "2022-09-13T12:27:58.672679Z"
    },
    "trusted": true
   },
   "execution_count": null,
   "outputs": []
  },
  {
   "cell_type": "code",
   "source": [
    "df2.applymap(str.lower) #lower case all dataframe strings"
   ],
   "metadata": {
    "execution": {
     "iopub.status.busy": "2022-09-13T12:27:58.676609Z",
     "iopub.execute_input": "2022-09-13T12:27:58.678016Z",
     "iopub.status.idle": "2022-09-13T12:27:58.690485Z",
     "shell.execute_reply.started": "2022-09-13T12:27:58.677977Z",
     "shell.execute_reply": "2022-09-13T12:27:58.689483Z"
    },
    "trusted": true
   },
   "execution_count": null,
   "outputs": []
  },
  {
   "cell_type": "code",
   "source": [
    "df2['first'].map({'Kourosh': 'Rostam', 'JabarSing': 'Sohrab'})  #changing values in 'first' with map function"
   ],
   "metadata": {
    "execution": {
     "iopub.status.busy": "2022-09-13T12:27:58.69197Z",
     "iopub.execute_input": "2022-09-13T12:27:58.693347Z",
     "iopub.status.idle": "2022-09-13T12:27:58.702764Z",
     "shell.execute_reply.started": "2022-09-13T12:27:58.693308Z",
     "shell.execute_reply": "2022-09-13T12:27:58.701597Z"
    },
    "trusted": true
   },
   "execution_count": null,
   "outputs": []
  },
  {
   "cell_type": "code",
   "source": [
    "df2['first'].replace({'Kourosh': 'Rostam', 'JabarSing': 'Sohrab'}) #changing values in 'first' with replace function"
   ],
   "metadata": {
    "execution": {
     "iopub.status.busy": "2022-09-13T12:27:58.703947Z",
     "iopub.execute_input": "2022-09-13T12:27:58.704893Z",
     "iopub.status.idle": "2022-09-13T12:27:58.720274Z",
     "shell.execute_reply.started": "2022-09-13T12:27:58.704848Z",
     "shell.execute_reply": "2022-09-13T12:27:58.718463Z"
    },
    "trusted": true
   },
   "execution_count": null,
   "outputs": []
  },
  {
   "cell_type": "code",
   "source": [
    "df"
   ],
   "metadata": {
    "execution": {
     "iopub.status.busy": "2022-09-13T12:27:58.723179Z",
     "iopub.execute_input": "2022-09-13T12:27:58.724233Z",
     "iopub.status.idle": "2022-09-13T12:27:58.827573Z",
     "shell.execute_reply.started": "2022-09-13T12:27:58.724178Z",
     "shell.execute_reply": "2022-09-13T12:27:58.825942Z"
    },
    "trusted": true
   },
   "execution_count": null,
   "outputs": []
  },
  {
   "cell_type": "code",
   "source": [
    "df.rename(columns= {'ConvertedComp': 'SalaryUSD'}, inplace = True) #rename 'ConvertedComp' to 'SalaryUSD'\n",
    "df['SalaryUSD']"
   ],
   "metadata": {
    "execution": {
     "iopub.status.busy": "2022-09-13T12:27:58.829452Z",
     "iopub.execute_input": "2022-09-13T12:27:58.829899Z",
     "iopub.status.idle": "2022-09-13T12:27:58.841436Z",
     "shell.execute_reply.started": "2022-09-13T12:27:58.829865Z",
     "shell.execute_reply": "2022-09-13T12:27:58.840037Z"
    },
    "trusted": true
   },
   "execution_count": null,
   "outputs": []
  },
  {
   "cell_type": "code",
   "source": [
    "df['Hobbyist']"
   ],
   "metadata": {
    "execution": {
     "iopub.status.busy": "2022-09-13T12:27:58.843782Z",
     "iopub.execute_input": "2022-09-13T12:27:58.844513Z",
     "iopub.status.idle": "2022-09-13T12:27:58.857306Z",
     "shell.execute_reply.started": "2022-09-13T12:27:58.844472Z",
     "shell.execute_reply": "2022-09-13T12:27:58.856042Z"
    },
    "trusted": true
   },
   "execution_count": null,
   "outputs": []
  },
  {
   "cell_type": "code",
   "source": [
    "df['Hobbyist'].map({'Yes': True, 'No': False})  #this method replace anything besides Yes and No to NaN"
   ],
   "metadata": {
    "execution": {
     "iopub.status.busy": "2022-09-13T12:27:58.858462Z",
     "iopub.execute_input": "2022-09-13T12:27:58.859017Z",
     "iopub.status.idle": "2022-09-13T12:27:58.880161Z",
     "shell.execute_reply.started": "2022-09-13T12:27:58.858974Z",
     "shell.execute_reply": "2022-09-13T12:27:58.878576Z"
    },
    "trusted": true
   },
   "execution_count": null,
   "outputs": []
  },
  {
   "cell_type": "code",
   "source": [
    "df['Hobbyist'].replace({'Yes': True, 'No': False})"
   ],
   "metadata": {
    "execution": {
     "iopub.status.busy": "2022-09-13T12:27:58.882138Z",
     "iopub.execute_input": "2022-09-13T12:27:58.883627Z",
     "iopub.status.idle": "2022-09-13T12:27:58.915316Z",
     "shell.execute_reply.started": "2022-09-13T12:27:58.883578Z",
     "shell.execute_reply": "2022-09-13T12:27:58.913912Z"
    },
    "trusted": true
   },
   "execution_count": null,
   "outputs": []
  },
  {
   "cell_type": "markdown",
   "source": [
    "# add/remove rows and columns: "
   ],
   "metadata": {}
  },
  {
   "cell_type": "code",
   "source": [
    "df2"
   ],
   "metadata": {
    "execution": {
     "iopub.status.busy": "2022-09-13T12:27:58.917664Z",
     "iopub.execute_input": "2022-09-13T12:27:58.918233Z",
     "iopub.status.idle": "2022-09-13T12:27:58.932317Z",
     "shell.execute_reply.started": "2022-09-13T12:27:58.918186Z",
     "shell.execute_reply": "2022-09-13T12:27:58.931084Z"
    },
    "trusted": true
   },
   "execution_count": null,
   "outputs": []
  },
  {
   "cell_type": "code",
   "source": [
    "df2['first'] + \" \" + df2['last']   #plusing columns"
   ],
   "metadata": {
    "execution": {
     "iopub.status.busy": "2022-09-13T12:27:58.934411Z",
     "iopub.execute_input": "2022-09-13T12:27:58.934961Z",
     "iopub.status.idle": "2022-09-13T12:27:58.947148Z",
     "shell.execute_reply.started": "2022-09-13T12:27:58.934896Z",
     "shell.execute_reply": "2022-09-13T12:27:58.945825Z"
    },
    "trusted": true
   },
   "execution_count": null,
   "outputs": []
  },
  {
   "cell_type": "code",
   "source": [
    "df2['full_name'] = df2['first'] + \" \" + df2['last']   #add new column to our dataframe"
   ],
   "metadata": {
    "execution": {
     "iopub.status.busy": "2022-09-13T12:27:58.966125Z",
     "iopub.execute_input": "2022-09-13T12:27:58.966549Z",
     "iopub.status.idle": "2022-09-13T12:27:58.974051Z",
     "shell.execute_reply.started": "2022-09-13T12:27:58.966514Z",
     "shell.execute_reply": "2022-09-13T12:27:58.972482Z"
    },
    "trusted": true
   },
   "execution_count": null,
   "outputs": []
  },
  {
   "cell_type": "code",
   "source": [
    "df2"
   ],
   "metadata": {
    "execution": {
     "iopub.status.busy": "2022-09-13T12:27:58.975348Z",
     "iopub.execute_input": "2022-09-13T12:27:58.975702Z",
     "iopub.status.idle": "2022-09-13T12:27:58.995131Z",
     "shell.execute_reply.started": "2022-09-13T12:27:58.975671Z",
     "shell.execute_reply": "2022-09-13T12:27:58.993835Z"
    },
    "trusted": true
   },
   "execution_count": null,
   "outputs": []
  },
  {
   "cell_type": "code",
   "source": [
    "df2.drop(columns=['first', 'last'], inplace=True) #remove columns"
   ],
   "metadata": {
    "execution": {
     "iopub.status.busy": "2022-09-13T12:27:58.997021Z",
     "iopub.execute_input": "2022-09-13T12:27:58.99738Z",
     "iopub.status.idle": "2022-09-13T12:27:59.007111Z",
     "shell.execute_reply.started": "2022-09-13T12:27:58.997348Z",
     "shell.execute_reply": "2022-09-13T12:27:59.003998Z"
    },
    "trusted": true
   },
   "execution_count": null,
   "outputs": []
  },
  {
   "cell_type": "code",
   "source": [
    "df2"
   ],
   "metadata": {
    "execution": {
     "iopub.status.busy": "2022-09-13T12:27:59.009324Z",
     "iopub.execute_input": "2022-09-13T12:27:59.009998Z",
     "iopub.status.idle": "2022-09-13T12:27:59.025871Z",
     "shell.execute_reply.started": "2022-09-13T12:27:59.009943Z",
     "shell.execute_reply": "2022-09-13T12:27:59.02486Z"
    },
    "trusted": true
   },
   "execution_count": null,
   "outputs": []
  },
  {
   "cell_type": "code",
   "source": [
    "df2['full_name'].str.split(' ')  #split values of a column"
   ],
   "metadata": {
    "execution": {
     "iopub.status.busy": "2022-09-13T12:27:59.02743Z",
     "iopub.execute_input": "2022-09-13T12:27:59.02781Z",
     "iopub.status.idle": "2022-09-13T12:27:59.040759Z",
     "shell.execute_reply.started": "2022-09-13T12:27:59.027778Z",
     "shell.execute_reply": "2022-09-13T12:27:59.039048Z"
    },
    "trusted": true
   },
   "execution_count": null,
   "outputs": []
  },
  {
   "cell_type": "code",
   "source": [
    "df2['full_name'].str.split(' ', expand=True) #split values of a column and put them into new columns"
   ],
   "metadata": {
    "execution": {
     "iopub.status.busy": "2022-09-13T12:27:59.042763Z",
     "iopub.execute_input": "2022-09-13T12:27:59.043174Z",
     "iopub.status.idle": "2022-09-13T12:27:59.060942Z",
     "shell.execute_reply.started": "2022-09-13T12:27:59.043142Z",
     "shell.execute_reply": "2022-09-13T12:27:59.059541Z"
    },
    "trusted": true
   },
   "execution_count": null,
   "outputs": []
  },
  {
   "cell_type": "code",
   "source": [
    "df2[['first', 'last']] = df2['full_name'].str.split(' ', expand=True) #put the columns we splited into our dataframe"
   ],
   "metadata": {
    "execution": {
     "iopub.status.busy": "2022-09-13T12:27:59.062718Z",
     "iopub.execute_input": "2022-09-13T12:27:59.063166Z",
     "iopub.status.idle": "2022-09-13T12:27:59.073354Z",
     "shell.execute_reply.started": "2022-09-13T12:27:59.063122Z",
     "shell.execute_reply": "2022-09-13T12:27:59.071857Z"
    },
    "trusted": true
   },
   "execution_count": null,
   "outputs": []
  },
  {
   "cell_type": "code",
   "source": [
    "df2"
   ],
   "metadata": {
    "execution": {
     "iopub.status.busy": "2022-09-13T12:27:59.075684Z",
     "iopub.execute_input": "2022-09-13T12:27:59.076878Z",
     "iopub.status.idle": "2022-09-13T12:27:59.091961Z",
     "shell.execute_reply.started": "2022-09-13T12:27:59.076838Z",
     "shell.execute_reply": "2022-09-13T12:27:59.090854Z"
    },
    "trusted": true
   },
   "execution_count": null,
   "outputs": []
  },
  {
   "cell_type": "code",
   "source": [
    "df2.append({'first': 'Manzar'}, ignore_index=True)"
   ],
   "metadata": {
    "execution": {
     "iopub.status.busy": "2022-09-13T12:27:59.09295Z",
     "iopub.execute_input": "2022-09-13T12:27:59.093275Z",
     "iopub.status.idle": "2022-09-13T12:27:59.116498Z",
     "shell.execute_reply.started": "2022-09-13T12:27:59.093246Z",
     "shell.execute_reply": "2022-09-13T12:27:59.114848Z"
    },
    "trusted": true
   },
   "execution_count": null,
   "outputs": []
  },
  {
   "cell_type": "code",
   "source": [
    "people2 = {'first' : ['Jamal', 'Abbas'], #creat a dictionary \n",
    "         'last' : ['Dohezar', 'Sahraei'], \n",
    "         'email' : ['Jamal@lat.com', 'Abbas@lat.com']}\n",
    "df3 = pd.DataFrame(people2)\n",
    "df3"
   ],
   "metadata": {
    "execution": {
     "iopub.status.busy": "2023-09-20T06:11:17.716473Z",
     "iopub.execute_input": "2023-09-20T06:11:17.718139Z",
     "iopub.status.idle": "2023-09-20T06:11:17.832884Z",
     "shell.execute_reply.started": "2023-09-20T06:11:17.717951Z",
     "shell.execute_reply": "2023-09-20T06:11:17.831083Z"
    },
    "trusted": true
   },
   "execution_count": null,
   "outputs": []
  },
  {
   "cell_type": "code",
   "source": [
    "df2 = df2.append(df3, ignore_index=True, sort=False) #add a dataframe to our dataframe"
   ],
   "metadata": {
    "execution": {
     "iopub.status.busy": "2022-09-13T12:27:59.132882Z",
     "iopub.execute_input": "2022-09-13T12:27:59.134042Z",
     "iopub.status.idle": "2022-09-13T12:27:59.150811Z",
     "shell.execute_reply.started": "2022-09-13T12:27:59.133994Z",
     "shell.execute_reply": "2022-09-13T12:27:59.149271Z"
    },
    "trusted": true
   },
   "execution_count": null,
   "outputs": []
  },
  {
   "cell_type": "code",
   "source": [
    "import pandas as pd\n",
    "\n",
    "# 创建两个DataFrame\n",
    "dfA = pd.DataFrame({'A': ['A0', 'A1', 'A2'],\n",
    "                    'B': ['B0', 'B1', 'B2']},\n",
    "                   index=[0, 1, 2])\n",
    "print(dfA)\n",
    "dfB = pd.DataFrame({'A1': ['A3', 'A4', 'A5'],\n",
    "                    'B1': ['B3', 'B4', 'B5']},\n",
    "                   index=[3, 4, 5])\n",
    "print(dfB)\n",
    "# 使用append()函数将dfB附加到dfA的末尾\n",
    "dfC = dfA.append(dfB, ignore_index=True, sort=False)\n",
    "print(dfC)"
   ],
   "metadata": {
    "execution": {
     "iopub.status.busy": "2023-09-20T06:14:49.334422Z",
     "iopub.execute_input": "2023-09-20T06:14:49.335750Z",
     "iopub.status.idle": "2023-09-20T06:14:49.360080Z",
     "shell.execute_reply.started": "2023-09-20T06:14:49.335702Z",
     "shell.execute_reply": "2023-09-20T06:14:49.358835Z"
    },
    "trusted": true
   },
   "execution_count": null,
   "outputs": []
  },
  {
   "cell_type": "code",
   "source": [
    "df2"
   ],
   "metadata": {
    "execution": {
     "iopub.status.busy": "2022-09-13T12:27:59.153246Z",
     "iopub.execute_input": "2022-09-13T12:27:59.153704Z",
     "iopub.status.idle": "2022-09-13T12:27:59.171588Z",
     "shell.execute_reply.started": "2022-09-13T12:27:59.153669Z",
     "shell.execute_reply": "2022-09-13T12:27:59.170315Z"
    },
    "trusted": true
   },
   "execution_count": null,
   "outputs": []
  },
  {
   "cell_type": "code",
   "source": [
    "df2.drop(index=2, inplace=True) #remove a row"
   ],
   "metadata": {
    "execution": {
     "iopub.status.busy": "2022-09-13T12:27:59.173037Z",
     "iopub.execute_input": "2022-09-13T12:27:59.173372Z",
     "iopub.status.idle": "2022-09-13T12:27:59.184562Z",
     "shell.execute_reply.started": "2022-09-13T12:27:59.173341Z",
     "shell.execute_reply": "2022-09-13T12:27:59.183301Z"
    },
    "trusted": true
   },
   "execution_count": null,
   "outputs": []
  },
  {
   "cell_type": "code",
   "source": [
    "df2"
   ],
   "metadata": {
    "execution": {
     "iopub.status.busy": "2022-09-13T12:27:59.186253Z",
     "iopub.execute_input": "2022-09-13T12:27:59.186583Z",
     "iopub.status.idle": "2022-09-13T12:27:59.205631Z",
     "shell.execute_reply.started": "2022-09-13T12:27:59.186554Z",
     "shell.execute_reply": "2022-09-13T12:27:59.204067Z"
    },
    "trusted": true
   },
   "execution_count": null,
   "outputs": []
  },
  {
   "cell_type": "code",
   "source": [
    "flt = df2['last'] == 'Najar'\n",
    "df2.drop(index=df2[flt].index) "
   ],
   "metadata": {
    "execution": {
     "iopub.status.busy": "2022-09-13T12:27:59.207191Z",
     "iopub.execute_input": "2022-09-13T12:27:59.207596Z",
     "iopub.status.idle": "2022-09-13T12:27:59.225377Z",
     "shell.execute_reply.started": "2022-09-13T12:27:59.207481Z",
     "shell.execute_reply": "2022-09-13T12:27:59.222063Z"
    },
    "trusted": true
   },
   "execution_count": null,
   "outputs": []
  },
  {
   "cell_type": "markdown",
   "source": [
    "# Sorting Data:"
   ],
   "metadata": {}
  },
  {
   "cell_type": "code",
   "source": [
    "people = {'first' : ['Kourosh', 'Shahin', 'Rostam'], #creat a dictionary \n",
    "         'last' : ['Najar', 'Najar', 'Moghani'], \n",
    "         'email' : ['KouroshTambrchi@email.com', 'ShahinNajar@email.com', 'RostamMoghani@gmail.com']}\n",
    "df2 = pd.DataFrame(people)\n",
    "df2"
   ],
   "metadata": {
    "execution": {
     "iopub.status.busy": "2022-09-13T12:27:59.227091Z",
     "iopub.execute_input": "2022-09-13T12:27:59.227678Z",
     "iopub.status.idle": "2022-09-13T12:27:59.247364Z",
     "shell.execute_reply.started": "2022-09-13T12:27:59.227644Z",
     "shell.execute_reply": "2022-09-13T12:27:59.245573Z"
    },
    "trusted": true
   },
   "execution_count": null,
   "outputs": []
  },
  {
   "cell_type": "code",
   "source": [
    "df2.sort_values(by='last', ascending=True)  #sorting the data by last name in ascending order"
   ],
   "metadata": {
    "execution": {
     "iopub.status.busy": "2022-09-13T12:27:59.249162Z",
     "iopub.execute_input": "2022-09-13T12:27:59.249492Z",
     "iopub.status.idle": "2022-09-13T12:27:59.261511Z",
     "shell.execute_reply.started": "2022-09-13T12:27:59.249463Z",
     "shell.execute_reply": "2022-09-13T12:27:59.260542Z"
    },
    "trusted": true
   },
   "execution_count": null,
   "outputs": []
  },
  {
   "cell_type": "code",
   "source": [
    "df2.sort_values(by=['last', 'first'], ascending=False)  #sorting the data by last name and first name in descending order"
   ],
   "metadata": {
    "execution": {
     "iopub.status.busy": "2022-09-13T12:27:59.262793Z",
     "iopub.execute_input": "2022-09-13T12:27:59.263901Z",
     "iopub.status.idle": "2022-09-13T12:27:59.278987Z",
     "shell.execute_reply.started": "2022-09-13T12:27:59.263867Z",
     "shell.execute_reply": "2022-09-13T12:27:59.277163Z"
    },
    "trusted": true
   },
   "execution_count": null,
   "outputs": []
  },
  {
   "cell_type": "code",
   "source": [
    "df2.sort_values(by=['first', 'last'], ascending=[False, True], inplace=True) #sorting the data by last name in ascending order and\n",
    "                                                               #first name in descending order"
   ],
   "metadata": {
    "execution": {
     "iopub.status.busy": "2022-09-13T12:27:59.280595Z",
     "iopub.execute_input": "2022-09-13T12:27:59.281731Z",
     "iopub.status.idle": "2022-09-13T12:27:59.292666Z",
     "shell.execute_reply.started": "2022-09-13T12:27:59.281693Z",
     "shell.execute_reply": "2022-09-13T12:27:59.29124Z"
    },
    "trusted": true
   },
   "execution_count": null,
   "outputs": []
  },
  {
   "cell_type": "code",
   "source": [
    "df2"
   ],
   "metadata": {
    "execution": {
     "iopub.status.busy": "2022-09-13T12:27:59.294753Z",
     "iopub.execute_input": "2022-09-13T12:27:59.295161Z",
     "iopub.status.idle": "2022-09-13T12:27:59.312575Z",
     "shell.execute_reply.started": "2022-09-13T12:27:59.295129Z",
     "shell.execute_reply": "2022-09-13T12:27:59.31094Z"
    },
    "trusted": true
   },
   "execution_count": null,
   "outputs": []
  },
  {
   "cell_type": "code",
   "source": [
    "df2.sort_index() #sorting the indexes"
   ],
   "metadata": {
    "execution": {
     "iopub.status.busy": "2022-09-13T12:27:59.314355Z",
     "iopub.execute_input": "2022-09-13T12:27:59.315832Z",
     "iopub.status.idle": "2022-09-13T12:27:59.328196Z",
     "shell.execute_reply.started": "2022-09-13T12:27:59.315788Z",
     "shell.execute_reply": "2022-09-13T12:27:59.326963Z"
    },
    "trusted": true
   },
   "execution_count": null,
   "outputs": []
  },
  {
   "cell_type": "code",
   "source": [
    "df2['last'].sort_values()"
   ],
   "metadata": {
    "execution": {
     "iopub.status.busy": "2022-09-13T12:27:59.329818Z",
     "iopub.execute_input": "2022-09-13T12:27:59.331087Z",
     "iopub.status.idle": "2022-09-13T12:27:59.343358Z",
     "shell.execute_reply.started": "2022-09-13T12:27:59.331051Z",
     "shell.execute_reply": "2022-09-13T12:27:59.342432Z"
    },
    "trusted": true
   },
   "execution_count": null,
   "outputs": []
  },
  {
   "cell_type": "code",
   "source": [
    "df"
   ],
   "metadata": {
    "scrolled": true,
    "execution": {
     "iopub.status.busy": "2022-09-13T12:27:59.344702Z",
     "iopub.execute_input": "2022-09-13T12:27:59.346026Z",
     "iopub.status.idle": "2022-09-13T12:27:59.446674Z",
     "shell.execute_reply.started": "2022-09-13T12:27:59.34599Z",
     "shell.execute_reply": "2022-09-13T12:27:59.445559Z"
    },
    "trusted": true
   },
   "execution_count": null,
   "outputs": []
  },
  {
   "cell_type": "code",
   "source": [
    "df = df.dropna()"
   ],
   "metadata": {
    "execution": {
     "iopub.status.busy": "2022-09-13T12:27:59.448196Z",
     "iopub.execute_input": "2022-09-13T12:27:59.449305Z",
     "iopub.status.idle": "2022-09-13T12:27:59.797423Z",
     "shell.execute_reply.started": "2022-09-13T12:27:59.449269Z",
     "shell.execute_reply": "2022-09-13T12:27:59.796096Z"
    },
    "trusted": true
   },
   "execution_count": null,
   "outputs": []
  },
  {
   "cell_type": "code",
   "source": [
    "df.sort_values(by=['Country', 'SalaryUSD'], ascending=[True, False], inplace=True)\n",
    "df[['Country', 'SalaryUSD']].head(50)"
   ],
   "metadata": {
    "execution": {
     "iopub.status.busy": "2022-09-13T12:27:59.798865Z",
     "iopub.execute_input": "2022-09-13T12:27:59.79922Z",
     "iopub.status.idle": "2022-09-13T12:27:59.840066Z",
     "shell.execute_reply.started": "2022-09-13T12:27:59.799188Z",
     "shell.execute_reply": "2022-09-13T12:27:59.839027Z"
    },
    "trusted": true
   },
   "execution_count": null,
   "outputs": []
  },
  {
   "cell_type": "code",
   "source": [
    "df['SalaryUSD'].nlargest(20)"
   ],
   "metadata": {
    "execution": {
     "iopub.status.busy": "2022-09-13T12:27:59.841761Z",
     "iopub.execute_input": "2022-09-13T12:27:59.843235Z",
     "iopub.status.idle": "2022-09-13T12:27:59.855513Z",
     "shell.execute_reply.started": "2022-09-13T12:27:59.843181Z",
     "shell.execute_reply": "2022-09-13T12:27:59.854042Z"
    },
    "trusted": true
   },
   "execution_count": null,
   "outputs": []
  },
  {
   "cell_type": "code",
   "source": [
    "df.nlargest(20, 'SalaryUSD')"
   ],
   "metadata": {
    "execution": {
     "iopub.status.busy": "2022-09-13T12:27:59.857337Z",
     "iopub.execute_input": "2022-09-13T12:27:59.859056Z",
     "iopub.status.idle": "2022-09-13T12:27:59.977347Z",
     "shell.execute_reply.started": "2022-09-13T12:27:59.858999Z",
     "shell.execute_reply": "2022-09-13T12:27:59.975803Z"
    },
    "trusted": true
   },
   "execution_count": null,
   "outputs": []
  },
  {
   "cell_type": "code",
   "source": [
    "df.nsmallest(20, 'SalaryUSD')"
   ],
   "metadata": {
    "execution": {
     "iopub.status.busy": "2022-09-13T12:27:59.980141Z",
     "iopub.execute_input": "2022-09-13T12:27:59.980562Z",
     "iopub.status.idle": "2022-09-13T12:28:00.115252Z",
     "shell.execute_reply.started": "2022-09-13T12:27:59.980519Z",
     "shell.execute_reply": "2022-09-13T12:28:00.113726Z"
    },
    "trusted": true
   },
   "execution_count": null,
   "outputs": []
  },
  {
   "cell_type": "markdown",
   "source": [
    "# Grouping and Aggregating :"
   ],
   "metadata": {}
  },
  {
   "cell_type": "code",
   "source": [
    "df['SalaryUSD'].median()    #get the median value"
   ],
   "metadata": {
    "execution": {
     "iopub.status.busy": "2022-09-13T12:28:00.117312Z",
     "iopub.execute_input": "2022-09-13T12:28:00.117788Z",
     "iopub.status.idle": "2022-09-13T12:28:00.128606Z",
     "shell.execute_reply.started": "2022-09-13T12:28:00.11775Z",
     "shell.execute_reply": "2022-09-13T12:28:00.127284Z"
    },
    "trusted": true
   },
   "execution_count": null,
   "outputs": []
  },
  {
   "cell_type": "code",
   "source": [
    "df.median()"
   ],
   "metadata": {
    "execution": {
     "iopub.status.busy": "2022-09-13T12:28:00.130479Z",
     "iopub.execute_input": "2022-09-13T12:28:00.130872Z",
     "iopub.status.idle": "2022-09-13T12:28:00.169832Z",
     "shell.execute_reply.started": "2022-09-13T12:28:00.130839Z",
     "shell.execute_reply": "2022-09-13T12:28:00.168074Z"
    },
    "trusted": true
   },
   "execution_count": null,
   "outputs": []
  },
  {
   "cell_type": "code",
   "source": [
    "df.describe()     #describe our data"
   ],
   "metadata": {
    "execution": {
     "iopub.status.busy": "2022-09-13T12:28:00.172357Z",
     "iopub.execute_input": "2022-09-13T12:28:00.172765Z",
     "iopub.status.idle": "2022-09-13T12:28:00.211268Z",
     "shell.execute_reply.started": "2022-09-13T12:28:00.172716Z",
     "shell.execute_reply": "2022-09-13T12:28:00.209948Z"
    },
    "trusted": true
   },
   "execution_count": null,
   "outputs": []
  },
  {
   "cell_type": "code",
   "source": [
    "df['SalaryUSD'].count()          #number of the values in the column"
   ],
   "metadata": {
    "execution": {
     "iopub.status.busy": "2022-09-13T12:28:00.213272Z",
     "iopub.execute_input": "2022-09-13T12:28:00.213722Z",
     "iopub.status.idle": "2022-09-13T12:28:00.222723Z",
     "shell.execute_reply.started": "2022-09-13T12:28:00.213686Z",
     "shell.execute_reply": "2022-09-13T12:28:00.221253Z"
    },
    "trusted": true
   },
   "execution_count": null,
   "outputs": []
  },
  {
   "cell_type": "code",
   "source": [
    "df['Hobbyist'].value_counts()    #number of eaach specific value in the column"
   ],
   "metadata": {
    "execution": {
     "iopub.status.busy": "2022-09-13T12:28:00.224236Z",
     "iopub.execute_input": "2022-09-13T12:28:00.225488Z",
     "iopub.status.idle": "2022-09-13T12:28:00.238043Z",
     "shell.execute_reply.started": "2022-09-13T12:28:00.225448Z",
     "shell.execute_reply": "2022-09-13T12:28:00.23645Z"
    },
    "trusted": true
   },
   "execution_count": null,
   "outputs": []
  },
  {
   "cell_type": "code",
   "source": [
    "df['SocialMedia']"
   ],
   "metadata": {
    "execution": {
     "iopub.status.busy": "2022-09-13T12:28:00.241306Z",
     "iopub.execute_input": "2022-09-13T12:28:00.242593Z",
     "iopub.status.idle": "2022-09-13T12:28:00.25168Z",
     "shell.execute_reply.started": "2022-09-13T12:28:00.242557Z",
     "shell.execute_reply": "2022-09-13T12:28:00.25084Z"
    },
    "trusted": true
   },
   "execution_count": null,
   "outputs": []
  },
  {
   "cell_type": "code",
   "source": [
    "df['SocialMedia'].value_counts()"
   ],
   "metadata": {
    "execution": {
     "iopub.status.busy": "2022-09-13T12:28:00.252961Z",
     "iopub.execute_input": "2022-09-13T12:28:00.254253Z",
     "iopub.status.idle": "2022-09-13T12:28:00.266503Z",
     "shell.execute_reply.started": "2022-09-13T12:28:00.254215Z",
     "shell.execute_reply": "2022-09-13T12:28:00.26521Z"
    },
    "trusted": true
   },
   "execution_count": null,
   "outputs": []
  },
  {
   "cell_type": "code",
   "source": [
    "df['SocialMedia'].value_counts(normalize=True)  #show by persentage"
   ],
   "metadata": {
    "execution": {
     "iopub.status.busy": "2022-09-13T12:28:00.268354Z",
     "iopub.execute_input": "2022-09-13T12:28:00.271247Z",
     "iopub.status.idle": "2022-09-13T12:28:00.282401Z",
     "shell.execute_reply.started": "2022-09-13T12:28:00.271199Z",
     "shell.execute_reply": "2022-09-13T12:28:00.280914Z"
    },
    "trusted": true
   },
   "execution_count": null,
   "outputs": []
  },
  {
   "cell_type": "markdown",
   "source": [
    "# GroupBy"
   ],
   "metadata": {}
  },
  {
   "cell_type": "code",
   "source": [
    "country_grp = df.groupby(['Country'])    #group the data by country names"
   ],
   "metadata": {
    "execution": {
     "iopub.status.busy": "2022-09-13T12:28:00.283971Z",
     "iopub.execute_input": "2022-09-13T12:28:00.285083Z",
     "iopub.status.idle": "2022-09-13T12:28:00.290174Z",
     "shell.execute_reply.started": "2022-09-13T12:28:00.285046Z",
     "shell.execute_reply": "2022-09-13T12:28:00.2892Z"
    },
    "trusted": true
   },
   "execution_count": null,
   "outputs": []
  },
  {
   "cell_type": "code",
   "source": [
    "country_grp.get_group('Iran')       #getting the specific group"
   ],
   "metadata": {
    "execution": {
     "iopub.status.busy": "2022-09-13T12:28:00.291237Z",
     "iopub.execute_input": "2022-09-13T12:28:00.29228Z",
     "iopub.status.idle": "2022-09-13T12:28:00.423271Z",
     "shell.execute_reply.started": "2022-09-13T12:28:00.292249Z",
     "shell.execute_reply": "2022-09-13T12:28:00.421842Z"
    },
    "trusted": true
   },
   "execution_count": null,
   "outputs": []
  },
  {
   "cell_type": "code",
   "source": [
    "filtrr = df['Country'] == 'Iran'    #doing the same without groupby\n",
    "df.loc[filtrr]"
   ],
   "metadata": {
    "execution": {
     "iopub.status.busy": "2022-09-13T12:28:00.425693Z",
     "iopub.execute_input": "2022-09-13T12:28:00.426229Z",
     "iopub.status.idle": "2022-09-13T12:28:00.554257Z",
     "shell.execute_reply.started": "2022-09-13T12:28:00.426184Z",
     "shell.execute_reply": "2022-09-13T12:28:00.552829Z"
    },
    "trusted": true
   },
   "execution_count": null,
   "outputs": []
  },
  {
   "cell_type": "code",
   "source": [
    "filtrr = df['Country'] == 'Iran'             \n",
    "df.loc[filtrr]['SocialMedia'].value_counts()   #counting the number of social medias "
   ],
   "metadata": {
    "execution": {
     "iopub.status.busy": "2022-09-13T12:28:00.555975Z",
     "iopub.execute_input": "2022-09-13T12:28:00.556616Z",
     "iopub.status.idle": "2022-09-13T12:28:00.566974Z",
     "shell.execute_reply.started": "2022-09-13T12:28:00.556553Z",
     "shell.execute_reply": "2022-09-13T12:28:00.566091Z"
    },
    "trusted": true
   },
   "execution_count": null,
   "outputs": []
  },
  {
   "cell_type": "code",
   "source": [
    "country_grp['SocialMedia'].value_counts().head(50)      #counting the number of social medias in each country"
   ],
   "metadata": {
    "execution": {
     "iopub.status.busy": "2022-09-13T12:28:00.568334Z",
     "iopub.execute_input": "2022-09-13T12:28:00.568868Z",
     "iopub.status.idle": "2022-09-13T12:28:00.584666Z",
     "shell.execute_reply.started": "2022-09-13T12:28:00.568834Z",
     "shell.execute_reply": "2022-09-13T12:28:00.583416Z"
    },
    "trusted": true
   },
   "execution_count": null,
   "outputs": []
  },
  {
   "cell_type": "code",
   "source": [
    "country_grp['SocialMedia'].value_counts().loc['Iran']"
   ],
   "metadata": {
    "execution": {
     "iopub.status.busy": "2022-09-13T12:28:00.586273Z",
     "iopub.execute_input": "2022-09-13T12:28:00.587419Z",
     "iopub.status.idle": "2022-09-13T12:28:00.600291Z",
     "shell.execute_reply.started": "2022-09-13T12:28:00.587375Z",
     "shell.execute_reply": "2022-09-13T12:28:00.59903Z"
    },
    "trusted": true
   },
   "execution_count": null,
   "outputs": []
  },
  {
   "cell_type": "code",
   "source": [
    "country_grp['SocialMedia'].value_counts(normalize=True).loc['United States']"
   ],
   "metadata": {
    "execution": {
     "iopub.status.busy": "2022-09-13T12:28:00.601921Z",
     "iopub.execute_input": "2022-09-13T12:28:00.602684Z",
     "iopub.status.idle": "2022-09-13T12:28:00.617465Z",
     "shell.execute_reply.started": "2022-09-13T12:28:00.602644Z",
     "shell.execute_reply": "2022-09-13T12:28:00.615927Z"
    },
    "trusted": true
   },
   "execution_count": null,
   "outputs": []
  },
  {
   "cell_type": "code",
   "source": [
    "country_grp['SalaryUSD'].median()     #get median salary of each country"
   ],
   "metadata": {
    "execution": {
     "iopub.status.busy": "2022-09-13T12:28:00.61927Z",
     "iopub.execute_input": "2022-09-13T12:28:00.620726Z",
     "iopub.status.idle": "2022-09-13T12:28:00.634108Z",
     "shell.execute_reply.started": "2022-09-13T12:28:00.620674Z",
     "shell.execute_reply": "2022-09-13T12:28:00.632769Z"
    },
    "trusted": true
   },
   "execution_count": null,
   "outputs": []
  },
  {
   "cell_type": "code",
   "source": [
    "country_grp['SalaryUSD'].median().loc['Iran']"
   ],
   "metadata": {
    "execution": {
     "iopub.status.busy": "2022-09-13T12:28:00.63603Z",
     "iopub.execute_input": "2022-09-13T12:28:00.637351Z",
     "iopub.status.idle": "2022-09-13T12:28:00.647413Z",
     "shell.execute_reply.started": "2022-09-13T12:28:00.637283Z",
     "shell.execute_reply": "2022-09-13T12:28:00.645965Z"
    },
    "trusted": true
   },
   "execution_count": null,
   "outputs": []
  },
  {
   "cell_type": "code",
   "source": [
    "country_grp['SalaryUSD'].agg(['median', 'mean'])   #get median and mean of salary in each country"
   ],
   "metadata": {
    "execution": {
     "iopub.status.busy": "2022-09-13T12:28:00.648708Z",
     "iopub.execute_input": "2022-09-13T12:28:00.649702Z",
     "iopub.status.idle": "2022-09-13T12:28:00.670138Z",
     "shell.execute_reply.started": "2022-09-13T12:28:00.649598Z",
     "shell.execute_reply": "2022-09-13T12:28:00.668732Z"
    },
    "trusted": true
   },
   "execution_count": null,
   "outputs": []
  },
  {
   "cell_type": "code",
   "source": [
    "country_grp['SalaryUSD'].agg(['median', 'mean']).loc['Iran']"
   ],
   "metadata": {
    "execution": {
     "iopub.status.busy": "2022-09-13T12:28:00.672046Z",
     "iopub.execute_input": "2022-09-13T12:28:00.673168Z",
     "iopub.status.idle": "2022-09-13T12:28:00.684356Z",
     "shell.execute_reply.started": "2022-09-13T12:28:00.673077Z",
     "shell.execute_reply": "2022-09-13T12:28:00.683057Z"
    },
    "trusted": true
   },
   "execution_count": null,
   "outputs": []
  },
  {
   "cell_type": "code",
   "source": [
    "filtrr = df['Country'] == 'Iran'             \n",
    "df.loc[filtrr]['LanguageWorkedWith'].str.contains('Python').sum() #counting the number of programmers who use python in Iran"
   ],
   "metadata": {
    "execution": {
     "iopub.status.busy": "2022-09-13T12:28:00.685836Z",
     "iopub.execute_input": "2022-09-13T12:28:00.6862Z",
     "iopub.status.idle": "2022-09-13T12:28:00.698118Z",
     "shell.execute_reply.started": "2022-09-13T12:28:00.68617Z",
     "shell.execute_reply": "2022-09-13T12:28:00.696511Z"
    },
    "trusted": true
   },
   "execution_count": null,
   "outputs": []
  },
  {
   "cell_type": "markdown",
   "source": [
    "country_grp['LanguageWorkedWith'].str.contains('Python').sum() #we can't use str method for doing this instead we use aplly method"
   ],
   "metadata": {}
  },
  {
   "cell_type": "code",
   "source": [
    "country_grp['LanguageWorkedWith'].apply(lambda x: x.str.contains('Python').sum()) #counting the number of programmers who use python in each country"
   ],
   "metadata": {
    "execution": {
     "iopub.status.busy": "2022-09-13T12:28:00.700284Z",
     "iopub.execute_input": "2022-09-13T12:28:00.701661Z",
     "iopub.status.idle": "2022-09-13T12:28:00.761911Z",
     "shell.execute_reply.started": "2022-09-13T12:28:00.701613Z",
     "shell.execute_reply": "2022-09-13T12:28:00.761009Z"
    },
    "trusted": true
   },
   "execution_count": null,
   "outputs": []
  },
  {
   "cell_type": "code",
   "source": [
    "### get the percentage of people who know python in each country\n",
    "country_respondents = df['Country'].value_counts()\n",
    "country_uses_python = country_grp['LanguageWorkedWith'].apply(lambda x: x.str.contains('Python').sum())\n",
    "python_df = pd.concat([country_respondents, country_uses_python], axis='columns', sort=False)\n",
    "python_df"
   ],
   "metadata": {
    "execution": {
     "iopub.status.busy": "2022-09-13T12:28:00.763545Z",
     "iopub.execute_input": "2022-09-13T12:28:00.763901Z",
     "iopub.status.idle": "2022-09-13T12:28:00.83304Z",
     "shell.execute_reply.started": "2022-09-13T12:28:00.76387Z",
     "shell.execute_reply": "2022-09-13T12:28:00.831427Z"
    },
    "trusted": true
   },
   "execution_count": null,
   "outputs": []
  },
  {
   "cell_type": "code",
   "source": [
    "python_df.rename(columns={'Country': 'NumRespondents', 'LanguageWorkedWith': 'NumKnowsPython'}, inplace=True)\n",
    "python_df"
   ],
   "metadata": {
    "execution": {
     "iopub.status.busy": "2022-09-13T12:28:00.834595Z",
     "iopub.execute_input": "2022-09-13T12:28:00.835116Z",
     "iopub.status.idle": "2022-09-13T12:28:00.853398Z",
     "shell.execute_reply.started": "2022-09-13T12:28:00.835073Z",
     "shell.execute_reply": "2022-09-13T12:28:00.851772Z"
    },
    "trusted": true
   },
   "execution_count": null,
   "outputs": []
  },
  {
   "cell_type": "code",
   "source": [
    "python_df['PctKnowsPython'] = (python_df['NumKnowsPython']/python_df['NumRespondents']) * 100\n",
    "python_df.sort_values(by='PctKnowsPython', ascending=False, inplace=True)\n",
    "python_df.head(50)"
   ],
   "metadata": {
    "execution": {
     "iopub.status.busy": "2022-09-13T12:28:00.855759Z",
     "iopub.execute_input": "2022-09-13T12:28:00.85639Z",
     "iopub.status.idle": "2022-09-13T12:28:00.879063Z",
     "shell.execute_reply.started": "2022-09-13T12:28:00.856341Z",
     "shell.execute_reply": "2022-09-13T12:28:00.877857Z"
    },
    "trusted": true
   },
   "execution_count": null,
   "outputs": []
  },
  {
   "cell_type": "code",
   "source": [
    "python_df.loc['Iran']"
   ],
   "metadata": {
    "execution": {
     "iopub.status.busy": "2022-09-13T12:28:00.881059Z",
     "iopub.execute_input": "2022-09-13T12:28:00.881415Z",
     "iopub.status.idle": "2022-09-13T12:28:00.891613Z",
     "shell.execute_reply.started": "2022-09-13T12:28:00.881384Z",
     "shell.execute_reply": "2022-09-13T12:28:00.890664Z"
    },
    "trusted": true
   },
   "execution_count": null,
   "outputs": []
  },
  {
   "cell_type": "markdown",
   "source": [
    "# Cleaning Data - Casting Datatypes and Handling Missing Values:"
   ],
   "metadata": {}
  },
  {
   "cell_type": "code",
   "source": [
    "people = {'first': ['Kourosh', 'Shahin', 'Rostam', 'Kiarash', np.nan, None, 'NA'], #creat a dictionary of data\n",
    "         'last': ['Ahmadi', 'Najar', 'Najar', 'Fazli', np.nan, np.nan, 'Missing'], \n",
    "         'email': ['KouroshAhmadi@email.com', 'ShahinNajar@email.com', 'RostamNajar@gmail.com', None, np.nan, 'Anonymous@email.com', 'NA'], \n",
    "         'age': ['33', '55', '63', '36', None, None, 'Missing']}\n",
    "people_df = pd.DataFrame(people)\n",
    "people_df"
   ],
   "metadata": {
    "execution": {
     "iopub.status.busy": "2022-09-13T12:28:00.892923Z",
     "iopub.execute_input": "2022-09-13T12:28:00.893238Z",
     "iopub.status.idle": "2022-09-13T12:28:00.911429Z",
     "shell.execute_reply.started": "2022-09-13T12:28:00.893209Z",
     "shell.execute_reply": "2022-09-13T12:28:00.910376Z"
    },
    "trusted": true
   },
   "execution_count": null,
   "outputs": []
  },
  {
   "cell_type": "code",
   "source": [
    "#handle custom missing values:\n",
    "people_df.replace('NA', np.nan, inplace=True)\n",
    "people_df.replace('Missing', np.nan, inplace=True)"
   ],
   "metadata": {
    "execution": {
     "iopub.status.busy": "2022-09-13T12:28:00.912486Z",
     "iopub.execute_input": "2022-09-13T12:28:00.913118Z",
     "iopub.status.idle": "2022-09-13T12:28:00.923575Z",
     "shell.execute_reply.started": "2022-09-13T12:28:00.913086Z",
     "shell.execute_reply": "2022-09-13T12:28:00.921954Z"
    },
    "trusted": true
   },
   "execution_count": null,
   "outputs": []
  },
  {
   "cell_type": "code",
   "source": [
    "people_df"
   ],
   "metadata": {
    "execution": {
     "iopub.status.busy": "2022-09-13T12:28:00.926396Z",
     "iopub.execute_input": "2022-09-13T12:28:00.927131Z",
     "iopub.status.idle": "2022-09-13T12:28:00.944708Z",
     "shell.execute_reply.started": "2022-09-13T12:28:00.927046Z",
     "shell.execute_reply": "2022-09-13T12:28:00.942752Z"
    },
    "trusted": true
   },
   "execution_count": null,
   "outputs": []
  },
  {
   "cell_type": "code",
   "source": [
    "people_df.dropna() #remove missing values"
   ],
   "metadata": {
    "execution": {
     "iopub.status.busy": "2022-09-13T12:28:00.946378Z",
     "iopub.execute_input": "2022-09-13T12:28:00.946797Z",
     "iopub.status.idle": "2022-09-13T12:28:00.968511Z",
     "shell.execute_reply.started": "2022-09-13T12:28:00.946735Z",
     "shell.execute_reply": "2022-09-13T12:28:00.967494Z"
    },
    "trusted": true
   },
   "execution_count": null,
   "outputs": []
  },
  {
   "cell_type": "code",
   "source": [
    "people_df.dropna(axis='index', how='any') #background of top cell: drop whole rows that contains missing values\n",
    "# if we set 'how' to 'all' it will drops the rows that all of values in those are missing values"
   ],
   "metadata": {
    "execution": {
     "iopub.status.busy": "2022-09-13T12:28:00.969596Z",
     "iopub.execute_input": "2022-09-13T12:28:00.97005Z",
     "iopub.status.idle": "2022-09-13T12:28:00.986101Z",
     "shell.execute_reply.started": "2022-09-13T12:28:00.970006Z",
     "shell.execute_reply": "2022-09-13T12:28:00.98454Z"
    },
    "trusted": true
   },
   "execution_count": null,
   "outputs": []
  },
  {
   "cell_type": "code",
   "source": [
    "people_df.dropna(axis='index', how='any', subset=['email'])  #if email column has value it doesn't drop that row"
   ],
   "metadata": {
    "execution": {
     "iopub.status.busy": "2022-09-13T12:28:00.987362Z",
     "iopub.execute_input": "2022-09-13T12:28:00.987824Z",
     "iopub.status.idle": "2022-09-13T12:28:01.006493Z",
     "shell.execute_reply.started": "2022-09-13T12:28:00.987779Z",
     "shell.execute_reply": "2022-09-13T12:28:01.005161Z"
    },
    "trusted": true
   },
   "execution_count": null,
   "outputs": []
  },
  {
   "cell_type": "code",
   "source": [
    "#where we have missing values:\n",
    "print(people_df.isna())\n",
    "#number of missing values in each column:\n",
    "print(f'number of missing values in each column:\\n {people_df.isna().sum()}')"
   ],
   "metadata": {
    "execution": {
     "iopub.status.busy": "2022-09-13T12:28:01.008728Z",
     "iopub.execute_input": "2022-09-13T12:28:01.009497Z",
     "iopub.status.idle": "2022-09-13T12:28:01.023101Z",
     "shell.execute_reply.started": "2022-09-13T12:28:01.009456Z",
     "shell.execute_reply": "2022-09-13T12:28:01.021807Z"
    },
    "trusted": true
   },
   "execution_count": null,
   "outputs": []
  },
  {
   "cell_type": "code",
   "source": [
    "#fill missing values with custom values:\n",
    "people_df.fillna('Miss Values')"
   ],
   "metadata": {
    "execution": {
     "iopub.status.busy": "2022-09-13T12:28:01.025253Z",
     "iopub.execute_input": "2022-09-13T12:28:01.025643Z",
     "iopub.status.idle": "2022-09-13T12:28:01.046203Z",
     "shell.execute_reply.started": "2022-09-13T12:28:01.025612Z",
     "shell.execute_reply": "2022-09-13T12:28:01.045096Z"
    },
    "trusted": true
   },
   "execution_count": null,
   "outputs": []
  },
  {
   "cell_type": "code",
   "source": [
    "#type of each column:\n",
    "people_df.dtypes"
   ],
   "metadata": {
    "execution": {
     "iopub.status.busy": "2022-09-13T12:28:01.048163Z",
     "iopub.execute_input": "2022-09-13T12:28:01.048593Z",
     "iopub.status.idle": "2022-09-13T12:28:01.064209Z",
     "shell.execute_reply.started": "2022-09-13T12:28:01.048556Z",
     "shell.execute_reply": "2022-09-13T12:28:01.062837Z"
    },
    "trusted": true
   },
   "execution_count": null,
   "outputs": []
  },
  {
   "cell_type": "code",
   "source": [
    "#change type of 'age' column to float:\n",
    "people_df['age'] = people_df['age'].astype(float)"
   ],
   "metadata": {
    "execution": {
     "iopub.status.busy": "2022-09-13T12:28:01.065555Z",
     "iopub.execute_input": "2022-09-13T12:28:01.065991Z",
     "iopub.status.idle": "2022-09-13T12:28:01.076724Z",
     "shell.execute_reply.started": "2022-09-13T12:28:01.065943Z",
     "shell.execute_reply": "2022-09-13T12:28:01.075074Z"
    },
    "trusted": true
   },
   "execution_count": null,
   "outputs": []
  },
  {
   "cell_type": "code",
   "source": [
    "people_df.dtypes"
   ],
   "metadata": {
    "execution": {
     "iopub.status.busy": "2022-09-13T12:28:01.078877Z",
     "iopub.execute_input": "2022-09-13T12:28:01.07954Z",
     "iopub.status.idle": "2022-09-13T12:28:01.094931Z",
     "shell.execute_reply.started": "2022-09-13T12:28:01.079481Z",
     "shell.execute_reply": "2022-09-13T12:28:01.093326Z"
    },
    "trusted": true
   },
   "execution_count": null,
   "outputs": []
  },
  {
   "cell_type": "code",
   "source": [
    "na_vals = ['NA', 'Missing'] #creat a list of our custom missing values\n",
    "df = pd.read_csv('../input/stack-overflow-developing-survey-2019/survey_results_public.csv',\n",
    "                 index_col='Respondent', na_values=na_vals) #importing our data and setting the index to 'ResponseId' and handling custom missing values\n",
    "df = pd.DataFrame(df)                                 #creat dataframe with data\n",
    "df.head()"
   ],
   "metadata": {
    "execution": {
     "iopub.status.busy": "2022-09-13T12:28:01.097091Z",
     "iopub.execute_input": "2022-09-13T12:28:01.097544Z",
     "iopub.status.idle": "2022-09-13T12:28:03.855926Z",
     "shell.execute_reply.started": "2022-09-13T12:28:01.097488Z",
     "shell.execute_reply": "2022-09-13T12:28:03.855016Z"
    },
    "trusted": true
   },
   "execution_count": null,
   "outputs": []
  },
  {
   "cell_type": "code",
   "source": [
    "df['YearsCode'].head(10)"
   ],
   "metadata": {
    "execution": {
     "iopub.status.busy": "2022-09-13T12:28:03.857165Z",
     "iopub.execute_input": "2022-09-13T12:28:03.857661Z",
     "iopub.status.idle": "2022-09-13T12:28:03.867043Z",
     "shell.execute_reply.started": "2022-09-13T12:28:03.85763Z",
     "shell.execute_reply": "2022-09-13T12:28:03.865445Z"
    },
    "trusted": true
   },
   "execution_count": null,
   "outputs": []
  },
  {
   "cell_type": "code",
   "source": [
    "df['YearsCode'].unique()"
   ],
   "metadata": {
    "execution": {
     "iopub.status.busy": "2022-09-13T12:28:03.869069Z",
     "iopub.execute_input": "2022-09-13T12:28:03.869647Z",
     "iopub.status.idle": "2022-09-13T12:28:03.887424Z",
     "shell.execute_reply.started": "2022-09-13T12:28:03.869587Z",
     "shell.execute_reply": "2022-09-13T12:28:03.885986Z"
    },
    "trusted": true
   },
   "execution_count": null,
   "outputs": []
  },
  {
   "cell_type": "code",
   "source": [
    "df['YearsCode'].replace('Less than 1 year', 0, inplace=True)\n",
    "df['YearsCode'].replace('More than 50 years', 0, inplace=True)"
   ],
   "metadata": {
    "execution": {
     "iopub.status.busy": "2022-09-13T12:28:03.890166Z",
     "iopub.execute_input": "2022-09-13T12:28:03.891803Z",
     "iopub.status.idle": "2022-09-13T12:28:03.903851Z",
     "shell.execute_reply.started": "2022-09-13T12:28:03.891725Z",
     "shell.execute_reply": "2022-09-13T12:28:03.902596Z"
    },
    "trusted": true
   },
   "execution_count": null,
   "outputs": []
  },
  {
   "cell_type": "code",
   "source": [
    "df['YearsCode'] = df['YearsCode'].astype(float)"
   ],
   "metadata": {
    "execution": {
     "iopub.status.busy": "2022-09-13T12:28:03.905925Z",
     "iopub.execute_input": "2022-09-13T12:28:03.906458Z",
     "iopub.status.idle": "2022-09-13T12:28:04.047754Z",
     "shell.execute_reply.started": "2022-09-13T12:28:03.906363Z",
     "shell.execute_reply": "2022-09-13T12:28:04.04651Z"
    },
    "trusted": true
   },
   "execution_count": null,
   "outputs": []
  },
  {
   "cell_type": "code",
   "source": [
    "#average years of codeing:\n",
    "df['YearsCode'].mean()"
   ],
   "metadata": {
    "execution": {
     "iopub.status.busy": "2022-09-13T12:28:04.049362Z",
     "iopub.execute_input": "2022-09-13T12:28:04.049704Z",
     "iopub.status.idle": "2022-09-13T12:28:04.057953Z",
     "shell.execute_reply.started": "2022-09-13T12:28:04.049673Z",
     "shell.execute_reply": "2022-09-13T12:28:04.057093Z"
    },
    "trusted": true
   },
   "execution_count": null,
   "outputs": []
  },
  {
   "cell_type": "markdown",
   "source": [
    "# Working with Dates and Time Series Data:"
   ],
   "metadata": {}
  },
  {
   "cell_type": "code",
   "source": [
    "ETH_data = pd.read_csv(r'../input/stock-market-eth-1h-data/ETH_1h.csv')\n",
    "print(ETH_data)\n",
    "df = pd.DataFrame(ETH_data)\n",
    "df"
   ],
   "metadata": {
    "execution": {
     "iopub.status.busy": "2023-09-20T00:24:54.281721Z",
     "iopub.execute_input": "2023-09-20T00:24:54.282209Z",
     "iopub.status.idle": "2023-09-20T00:24:54.348567Z",
     "shell.execute_reply.started": "2023-09-20T00:24:54.282173Z",
     "shell.execute_reply": "2023-09-20T00:24:54.347431Z"
    },
    "trusted": true
   },
   "execution_count": null,
   "outputs": []
  },
  {
   "cell_type": "code",
   "source": [
    "#change the format of 'Date' column from string to datetime:\n",
    "df['Date'] = pd.to_datetime(df['Date'], format='%Y-%m-%d %I-%p')"
   ],
   "metadata": {
    "execution": {
     "iopub.status.busy": "2023-09-20T00:25:20.450294Z",
     "iopub.execute_input": "2023-09-20T00:25:20.450749Z",
     "iopub.status.idle": "2023-09-20T00:25:20.467721Z",
     "shell.execute_reply.started": "2023-09-20T00:25:20.450712Z",
     "shell.execute_reply": "2023-09-20T00:25:20.466259Z"
    },
    "trusted": true
   },
   "execution_count": null,
   "outputs": []
  },
  {
   "cell_type": "code",
   "source": [
    "df['Date']"
   ],
   "metadata": {
    "execution": {
     "iopub.status.busy": "2023-09-20T00:25:25.495155Z",
     "iopub.execute_input": "2023-09-20T00:25:25.495788Z",
     "iopub.status.idle": "2023-09-20T00:25:25.503735Z",
     "shell.execute_reply.started": "2023-09-20T00:25:25.495753Z",
     "shell.execute_reply": "2023-09-20T00:25:25.502658Z"
    },
    "trusted": true
   },
   "execution_count": null,
   "outputs": []
  },
  {
   "cell_type": "code",
   "source": [
    "#knowing the day of specific date:\n",
    "df.loc[0, 'Date'].day_name()"
   ],
   "metadata": {
    "execution": {
     "iopub.status.busy": "2023-09-20T00:25:49.802000Z",
     "iopub.execute_input": "2023-09-20T00:25:49.802418Z",
     "iopub.status.idle": "2023-09-20T00:25:49.810213Z",
     "shell.execute_reply.started": "2023-09-20T00:25:49.802384Z",
     "shell.execute_reply": "2023-09-20T00:25:49.808917Z"
    },
    "trusted": true
   },
   "execution_count": null,
   "outputs": []
  },
  {
   "cell_type": "code",
   "source": [
    "#also we can change the format of 'Date' column from string to datetime when we read our csv file:\n",
    "d_parser = lambda x: pd.datetime.strptime(x, '%Y-%m-%d %I-%p') #creat the 'string to date time' lambda function\n",
    "ETH_data = pd.read_csv(r'../input/stock-market-eth-1h-data/ETH_1h.csv', parse_dates=['Date'], date_parser=d_parser) #give the column name to 'parse_dates' and the lambda function to 'date_parser'\n",
    "df = pd.DataFrame(ETH_data)\n",
    "df"
   ],
   "metadata": {
    "execution": {
     "iopub.status.busy": "2023-09-20T00:17:38.419691Z",
     "iopub.execute_input": "2023-09-20T00:17:38.420098Z",
     "iopub.status.idle": "2023-09-20T00:17:38.920413Z",
     "shell.execute_reply.started": "2023-09-20T00:17:38.420066Z",
     "shell.execute_reply": "2023-09-20T00:17:38.919315Z"
    },
    "trusted": true
   },
   "execution_count": null,
   "outputs": []
  },
  {
   "cell_type": "code",
   "source": [
    "#get all day names and put it in our dataframe:\n",
    "df['DayOfWeek'] = df['Date'].dt.day_name()\n",
    "df"
   ],
   "metadata": {
    "execution": {
     "iopub.status.busy": "2023-09-20T00:17:45.653712Z",
     "iopub.execute_input": "2023-09-20T00:17:45.654141Z",
     "iopub.status.idle": "2023-09-20T00:17:45.688648Z",
     "shell.execute_reply.started": "2023-09-20T00:17:45.654105Z",
     "shell.execute_reply": "2023-09-20T00:17:45.687255Z"
    },
    "trusted": true
   },
   "execution_count": null,
   "outputs": []
  },
  {
   "cell_type": "code",
   "source": [
    "df['Date'].min()"
   ],
   "metadata": {
    "execution": {
     "iopub.status.busy": "2023-09-20T00:18:06.093844Z",
     "iopub.execute_input": "2023-09-20T00:18:06.094272Z",
     "iopub.status.idle": "2023-09-20T00:18:06.102542Z",
     "shell.execute_reply.started": "2023-09-20T00:18:06.094240Z",
     "shell.execute_reply": "2023-09-20T00:18:06.101577Z"
    },
    "trusted": true
   },
   "execution_count": null,
   "outputs": []
  },
  {
   "cell_type": "code",
   "source": [
    "df['Date'].max()"
   ],
   "metadata": {
    "execution": {
     "iopub.status.busy": "2023-09-20T00:18:16.868656Z",
     "iopub.execute_input": "2023-09-20T00:18:16.869073Z",
     "iopub.status.idle": "2023-09-20T00:18:16.877252Z",
     "shell.execute_reply.started": "2023-09-20T00:18:16.869042Z",
     "shell.execute_reply": "2023-09-20T00:18:16.876200Z"
    },
    "trusted": true
   },
   "execution_count": null,
   "outputs": []
  },
  {
   "cell_type": "code",
   "source": [
    "df['Date'].max() - df['Date'].min()"
   ],
   "metadata": {
    "execution": {
     "iopub.status.busy": "2023-09-20T00:18:19.203534Z",
     "iopub.execute_input": "2023-09-20T00:18:19.203948Z",
     "iopub.status.idle": "2023-09-20T00:18:19.212161Z",
     "shell.execute_reply.started": "2023-09-20T00:18:19.203912Z",
     "shell.execute_reply": "2023-09-20T00:18:19.211108Z"
    },
    "trusted": true
   },
   "execution_count": null,
   "outputs": []
  },
  {
   "cell_type": "code",
   "source": [
    "filt = (df['Date'] >= '2019') & (df['Date'] < '2020')\n",
    "df.loc[filt]"
   ],
   "metadata": {
    "execution": {
     "iopub.status.busy": "2023-09-20T00:18:32.351802Z",
     "iopub.execute_input": "2023-09-20T00:18:32.352224Z",
     "iopub.status.idle": "2023-09-20T00:18:32.379955Z",
     "shell.execute_reply.started": "2023-09-20T00:18:32.352187Z",
     "shell.execute_reply": "2023-09-20T00:18:32.379088Z"
    },
    "trusted": true
   },
   "execution_count": null,
   "outputs": []
  },
  {
   "cell_type": "code",
   "source": [
    "#same as above cell\n",
    "filt = (df['Date'] >= pd.to_datetime('2019-01-01')) & (df['Date'] < pd.to_datetime('2020-01-01'))\n",
    "df.loc[filt]"
   ],
   "metadata": {
    "execution": {
     "iopub.status.busy": "2022-09-13T12:28:46.862311Z",
     "iopub.execute_input": "2022-09-13T12:28:46.86293Z",
     "iopub.status.idle": "2022-09-13T12:28:46.899089Z",
     "shell.execute_reply.started": "2022-09-13T12:28:46.862883Z",
     "shell.execute_reply": "2022-09-13T12:28:46.897255Z"
    },
    "trusted": true
   },
   "execution_count": null,
   "outputs": []
  },
  {
   "cell_type": "code",
   "source": [
    "# we can also do above things with this way:\n",
    "df.set_index('Date', inplace=True)"
   ],
   "metadata": {
    "execution": {
     "iopub.status.busy": "2023-09-20T00:19:03.899533Z",
     "iopub.execute_input": "2023-09-20T00:19:03.900099Z",
     "iopub.status.idle": "2023-09-20T00:19:03.906723Z",
     "shell.execute_reply.started": "2023-09-20T00:19:03.900052Z",
     "shell.execute_reply": "2023-09-20T00:19:03.905312Z"
    },
    "trusted": true
   },
   "execution_count": null,
   "outputs": []
  },
  {
   "cell_type": "code",
   "source": [
    "df.loc['2019']"
   ],
   "metadata": {
    "execution": {
     "iopub.status.busy": "2023-09-20T00:19:07.162826Z",
     "iopub.execute_input": "2023-09-20T00:19:07.163374Z",
     "iopub.status.idle": "2023-09-20T00:19:07.197522Z",
     "shell.execute_reply.started": "2023-09-20T00:19:07.163323Z",
     "shell.execute_reply": "2023-09-20T00:19:07.196590Z"
    },
    "trusted": true
   },
   "execution_count": null,
   "outputs": []
  },
  {
   "cell_type": "code",
   "source": [
    "df.loc['2020-01':'2020-02']"
   ],
   "metadata": {
    "execution": {
     "iopub.status.busy": "2023-09-20T00:19:18.153853Z",
     "iopub.execute_input": "2023-09-20T00:19:18.154260Z",
     "iopub.status.idle": "2023-09-20T00:19:18.182698Z",
     "shell.execute_reply.started": "2023-09-20T00:19:18.154225Z",
     "shell.execute_reply": "2023-09-20T00:19:18.181547Z"
    },
    "trusted": true
   },
   "execution_count": null,
   "outputs": []
  },
  {
   "cell_type": "code",
   "source": [
    "#average Close price of specific date:\n",
    "df.loc['2020-01':'2020-02']['Close'].mean()"
   ],
   "metadata": {
    "execution": {
     "iopub.status.busy": "2023-09-20T00:19:23.075652Z",
     "iopub.execute_input": "2023-09-20T00:19:23.076072Z",
     "iopub.status.idle": "2023-09-20T00:19:23.087634Z",
     "shell.execute_reply.started": "2023-09-20T00:19:23.076038Z",
     "shell.execute_reply": "2023-09-20T00:19:23.086456Z"
    },
    "trusted": true
   },
   "execution_count": null,
   "outputs": []
  },
  {
   "cell_type": "code",
   "source": [
    "#max high price of specific day:\n",
    "df.loc['2020-01-01']['High'].max()"
   ],
   "metadata": {
    "execution": {
     "iopub.status.busy": "2023-09-20T00:19:33.915937Z",
     "iopub.execute_input": "2023-09-20T00:19:33.916339Z",
     "iopub.status.idle": "2023-09-20T00:19:33.926052Z",
     "shell.execute_reply.started": "2023-09-20T00:19:33.916306Z",
     "shell.execute_reply": "2023-09-20T00:19:33.925011Z"
    },
    "trusted": true
   },
   "execution_count": null,
   "outputs": []
  },
  {
   "cell_type": "code",
   "source": [
    "#resample 'High' collumn to daily shape and get maximum:\n",
    "highs = df['High'].resample('D').max()\n",
    "highs"
   ],
   "metadata": {
    "execution": {
     "iopub.status.busy": "2023-09-20T00:19:37.809820Z",
     "iopub.execute_input": "2023-09-20T00:19:37.810229Z",
     "iopub.status.idle": "2023-09-20T00:19:37.837818Z",
     "shell.execute_reply.started": "2023-09-20T00:19:37.810196Z",
     "shell.execute_reply": "2023-09-20T00:19:37.836491Z"
    },
    "trusted": true
   },
   "execution_count": null,
   "outputs": []
  },
  {
   "cell_type": "code",
   "source": [
    "highs['2020-01-01']"
   ],
   "metadata": {
    "execution": {
     "iopub.status.busy": "2023-09-20T00:19:41.187908Z",
     "iopub.execute_input": "2023-09-20T00:19:41.188361Z",
     "iopub.status.idle": "2023-09-20T00:19:41.197058Z",
     "shell.execute_reply.started": "2023-09-20T00:19:41.188322Z",
     "shell.execute_reply": "2023-09-20T00:19:41.195977Z"
    },
    "trusted": true
   },
   "execution_count": null,
   "outputs": []
  },
  {
   "cell_type": "code",
   "source": [
    "#ploting:\n",
    "%matplotlib inline"
   ],
   "metadata": {
    "execution": {
     "iopub.status.busy": "2023-09-20T00:19:52.258478Z",
     "iopub.execute_input": "2023-09-20T00:19:52.258899Z",
     "iopub.status.idle": "2023-09-20T00:19:52.264599Z",
     "shell.execute_reply.started": "2023-09-20T00:19:52.258863Z",
     "shell.execute_reply": "2023-09-20T00:19:52.263746Z"
    },
    "trusted": true
   },
   "execution_count": null,
   "outputs": []
  },
  {
   "cell_type": "code",
   "source": [
    "highs.plot()"
   ],
   "metadata": {
    "execution": {
     "iopub.status.busy": "2023-09-20T00:19:54.021423Z",
     "iopub.execute_input": "2023-09-20T00:19:54.021989Z",
     "iopub.status.idle": "2023-09-20T00:19:54.479840Z",
     "shell.execute_reply.started": "2023-09-20T00:19:54.021939Z",
     "shell.execute_reply": "2023-09-20T00:19:54.478562Z"
    },
    "trusted": true
   },
   "execution_count": null,
   "outputs": []
  },
  {
   "cell_type": "code",
   "source": [
    "df.resample('W').mean()"
   ],
   "metadata": {
    "execution": {
     "iopub.status.busy": "2023-09-20T00:20:00.030113Z",
     "iopub.execute_input": "2023-09-20T00:20:00.030591Z",
     "iopub.status.idle": "2023-09-20T00:20:00.063745Z",
     "shell.execute_reply.started": "2023-09-20T00:20:00.030551Z",
     "shell.execute_reply": "2023-09-20T00:20:00.062754Z"
    },
    "trusted": true
   },
   "execution_count": null,
   "outputs": []
  },
  {
   "cell_type": "code",
   "source": [
    "#resample specific columns by specific calculation:\n",
    "df.resample('W').agg({'Close': 'mean', 'High': 'max', 'Low': 'min', 'Volume': 'sum'})"
   ],
   "metadata": {
    "scrolled": true,
    "execution": {
     "iopub.status.busy": "2023-09-20T00:20:13.987977Z",
     "iopub.execute_input": "2023-09-20T00:20:13.988380Z",
     "iopub.status.idle": "2023-09-20T00:20:14.019769Z",
     "shell.execute_reply.started": "2023-09-20T00:20:13.988346Z",
     "shell.execute_reply": "2023-09-20T00:20:14.018686Z"
    },
    "trusted": true
   },
   "execution_count": null,
   "outputs": []
  },
  {
   "cell_type": "markdown",
   "source": [
    "# The End!!\n",
    "# if it's usefull for you please voteup\n",
    "# Hossein Ahmadi"
   ],
   "metadata": {}
  }
 ]
}
