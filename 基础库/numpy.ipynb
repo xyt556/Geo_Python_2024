{
 "cells": [
  {
   "cell_type": "markdown",
   "id": "ebff438e-fa2d-40e6-95b3-c273e7f2d3f7",
   "metadata": {},
   "source": [
    "NumPy，全称Numerical Python，是Python科学计算的基础包²。它是一个Python库，提供多维数组对象，各种派生对象（如掩码数组和矩阵），以及用于数组快速操作的各种API，有包括数学、逻辑、形状操作、排序、选择、输入输出、离散傅立叶变换、基本线性代数，基本统计运算和随机模拟等等²。\n",
    "\n",
    "NumPy的核心是ndarray对象。这个对象封装了同数据类型的n维数组。许多操作都是在代码本地进行编译后执行的，以保证其性能优良²。NumPy数组在创建时具有固定的大小，与Python的原生数组对象（可以动态增长）不同。更改ndarray的大小将创建一个新数组并删除原来的数组²。\n",
    "\n",
    "以下是一些NumPy的使用实例⁵：\n",
    "\n",
    "1. 创建一个长度为10的零向量："
   ]
  },
  {
   "cell_type": "code",
   "execution_count": 2,
   "id": "7f485275-250b-402b-9eb3-b8f34272c960",
   "metadata": {
    "tags": []
   },
   "outputs": [
    {
     "name": "stdout",
     "output_type": "stream",
     "text": [
      "[0. 0. 0. 0. 0. 0. 0. 0. 0. 0.]\n"
     ]
    }
   ],
   "source": [
    "import numpy as np\n",
    "Z = np.zeros(10)\n",
    "print(Z)\n"
   ]
  },
  {
   "cell_type": "code",
   "execution_count": 7,
   "id": "fc5d24f0-d17b-45a1-b0ed-8cd16688df30",
   "metadata": {
    "tags": []
   },
   "outputs": [
    {
     "name": "stdout",
     "output_type": "stream",
     "text": [
      "[[False False False False False False False False False False]\n",
      " [False False False False False False False False False False]\n",
      " [False False False False False False False False False False]\n",
      " [False False False False False False False False False False]\n",
      " [False False False False False False False False False False]\n",
      " [False False False False False False False False False False]\n",
      " [False False False False False False False False False False]\n",
      " [False False False False False False False False False False]\n",
      " [False False False False False False False False False False]\n",
      " [False False False False False False False False False False]]\n"
     ]
    }
   ],
   "source": [
    "import numpy as np\n",
    "# 创建一个10*10的值为0的二维数组\n",
    "Z = np.zeros((10, 10),dtype=bool)\n",
    "print(Z)\n"
   ]
  },
  {
   "cell_type": "markdown",
   "id": "866e5ebf-3dd4-49b8-bcc2-bf60dff8460a",
   "metadata": {},
   "source": [
    "2. 计算每一列的总和：\n"
   ]
  },
  {
   "cell_type": "code",
   "execution_count": 9,
   "id": "621f8f09-c861-4b77-8ce7-375e5d122eb1",
   "metadata": {
    "tags": []
   },
   "outputs": [
    {
     "name": "stdout",
     "output_type": "stream",
     "text": [
      "[[1 2 3]\n",
      " [4 5 6]\n",
      " [7 8 9]]\n",
      "--------\n",
      "[12 15 18]\n"
     ]
    }
   ],
   "source": [
    "# 创建一个 3x3 的 NumPy 数组\n",
    "Z = np.array([[1, 2, 3], [4, 5, 6], [7, 8, 9]])\n",
    "print(Z)\n",
    "print(\"--------\")\n",
    "# 使用 `np.sum()` 函数沿着列求和\n",
    "print(np.sum(Z, axis=0))\n"
   ]
  },
  {
   "cell_type": "markdown",
   "id": "cf1d452b-81f5-4994-97ad-6166d5b96a0d",
   "metadata": {},
   "source": [
    "参数\n",
    "\n",
    "Z : 要求和的数组\n",
    "axis : 求和的轴，0 表示沿着行求和，1 表示沿着列求和\n",
    "返回值\n",
    "\n",
    "一个新数组，其中包含沿着指定轴求和的结果\n",
    "解释\n",
    "\n",
    "该代码首先创建一个 3x3 的 NumPy 数组 Z。\n",
    "然后使用 np.sum() 函数沿着行求和 Z。\n",
    "由于 axis 为 0，因此 np.sum() 函数将 Z 的每一列求和，并将结果返回为一个新数组。"
   ]
  },
  {
   "cell_type": "markdown",
   "id": "ab3fb917-199e-4622-a47d-5b491ab7e27a",
   "metadata": {},
   "source": [
    "np.sum(Z, axis=0)会沿着列（axis=0）方向对数组进行求和操作。\n",
    "想沿着行方向求和，可以使用np.sum(Z, axis=1)。\n",
    "想对整个数组求和，可以使用np.sum(Z)"
   ]
  },
  {
   "cell_type": "code",
   "execution_count": 14,
   "id": "ee3855e9-981e-4ff4-8d17-16f0a64f63ce",
   "metadata": {
    "tags": []
   },
   "outputs": [
    {
     "name": "stdout",
     "output_type": "stream",
     "text": [
      "[[1 2 3]\n",
      " [4 5 6]\n",
      " [7 8 9]]\n",
      "[ 6 15 24]\n"
     ]
    }
   ],
   "source": [
    "# 创建一个 3x3 的 NumPy 数组\n",
    "Z = np.array([[1, 2, 3], [4, 5, 6], [7, 8, 9]])\n",
    "print(Z)\n",
    "# 使用 `np.sum()` 函数沿着行求和\n",
    "print(np.sum(Z, axis=1))\n"
   ]
  },
  {
   "cell_type": "markdown",
   "id": "99cbe311-20b4-45d0-951d-f0cce82aceca",
   "metadata": {},
   "source": [
    "3. 将所有大于30的元素替换为0："
   ]
  },
  {
   "cell_type": "code",
   "execution_count": 15,
   "id": "64ecfa1f-20de-42db-8998-65396edc9686",
   "metadata": {
    "tags": []
   },
   "outputs": [
    {
     "name": "stdout",
     "output_type": "stream",
     "text": [
      "[ 0 -1  0 -1 -1  0  0]\n"
     ]
    }
   ],
   "source": [
    "the_array = np.array([49, 7, 44, 27, 13, 35, 71])\n",
    "an_array = np.where(the_array > 30, 0, the_array)\n",
    "print(an_array)"
   ]
  },
  {
   "cell_type": "markdown",
   "id": "afce44f7-b462-46ce-a015-dd8eb6d82f1c",
   "metadata": {},
   "source": [
    "4. 将一维数组重塑为一列的二维数组："
   ]
  },
  {
   "cell_type": "code",
   "execution_count": 21,
   "id": "e0c07123-6945-46d3-9d03-d03dd1c32c54",
   "metadata": {
    "tags": []
   },
   "outputs": [
    {
     "name": "stdout",
     "output_type": "stream",
     "text": [
      "[0 1 2 3 4 5 6 7]\n",
      "[[0 1 2 3]\n",
      " [4 5 6 7]]\n"
     ]
    }
   ],
   "source": [
    "Z = np.arange(8)\n",
    "print(Z)\n",
    "Z = Z.reshape(-1,4)\n",
    "print(Z)"
   ]
  },
  {
   "cell_type": "markdown",
   "id": "72916176-deec-421f-9c25-61eda198933c",
   "metadata": {},
   "source": [
    "以上只是NumPy库中功能的一部分，实际上NumPy有许多其他强大且有用的功能供你选择和使用。\n",
    "\n",
    "源: 与必应的对话， 2023/9/10\n",
    "(1) NumPy 介绍 | NumPy. https://www.numpy.org.cn/user/setting-up.html.\n",
    "(2) 90个NumPy案例，建议收藏！ - 知乎 - 知乎专栏. https://zhuanlan.zhihu.com/p/457284372.\n",
    "(3) NumPy 教程 | 菜鸟教程. https://www.runoob.com/numpy/numpy-tutorial.html.\n",
    "(4) 全网最全的Numpy开发入门教程（详细案例版） - CSDN博客. https://blog.csdn.net/sinat_28371057/article/details/113813753.\n",
    "(5) Python科学计算和数据分析（NumPy详细介绍） - 知乎. https://zhuanlan.zhihu.com/p/337456511.\n",
    "(6) Numpy的使用(超详细，有代码示例) - CSDN博客. https://blog.csdn.net/VariatioZbw/article/details/104765365.\n",
    "(7) 这100个小案例，带你玩转 Numpy！ - 知乎 - 知乎专栏. https://zhuanlan.zhihu.com/p/402452690.\n",
    "(8) undefined. http://www.numpy.org/.\n",
    "(9) undefined. https://github.com/numpy/numpy.\n",
    "(10) undefined. https://www.scipy.org/.\n",
    "(11) undefined. https://github.com/scipy/scipy.\n",
    "(12) undefined. https://matplotlib.org/.\n",
    "(13) undefined. https://github.com/matplotlib/matplotlib."
   ]
  },
  {
   "cell_type": "markdown",
   "id": "79164d62-3a5c-4c99-964f-28ba9f0a22b8",
   "metadata": {},
   "source": [
    "NumPy库中有许多其他有用的函数，以下是一些例子：\n",
    "\n",
    "1. **add()**：此函数用于数组元素的加法运算²。\n",
    "2. **subtract()**：此函数用于数组元素的减法运算²。\n",
    "3. **multiply()**：此函数用于数组元素的乘法运算²。\n",
    "4. **divide()**：此函数用于数组元素的除法运算²。\n",
    "5. **power()**：此函数将第一个输入数组中的元素作为底数，计算它与第二个输入数组中相应元素的幂²。\n",
    "6. **mod()**或**remainder()**：这两个函数都用于计算输入数组中相应元素相除后的余数²。\n",
    "7. **reciprocal()**：此函数返回参数逐元素的倒数²。\n",
    "\n",
    "以上只是NumPy库中功能的一部分，实际上NumPy有许多其他强大且有用的功能供你选择和使用。你可以根据你的具体需求来选择合适的函数。¹\n",
    "\n",
    "源: 与必应的对话， 2023/9/10\n",
    "(1) NumPy 算术函数 | 菜鸟教程. https://www.runoob.com/numpy/numpy-arithmetic-operations.html.\n",
    "(2) NumPy 教程 | 菜鸟教程. https://www.runoob.com/numpy/numpy-tutorial.html.\n",
    "(3) 50个常用的 Numpy 函数详解！ - 知乎 - 知乎专栏. https://zhuanlan.zhihu.com/p/562082459.\n",
    "(4) undefined. http://www.numpy.org/.\n",
    "(5) undefined. https://github.com/numpy/numpy.\n",
    "(6) undefined. https://www.scipy.org/.\n",
    "(7) undefined. https://github.com/scipy/scipy.\n",
    "(8) undefined. https://matplotlib.org/.\n",
    "(9) undefined. https://github.com/matplotlib/matplotlib."
   ]
  },
  {
   "cell_type": "markdown",
   "id": "a47e52a8-ab29-4054-8fc0-859edd55dae5",
   "metadata": {},
   "source": [
    "在NumPy中，`multiply()`和`dot()`两个函数的作用不同。`multiply()`函数用于对应位置元素相乘（点乘），而`dot()`函数用于矩阵乘法¹。\n",
    "\n",
    "例如，假设我们有两个矩阵a和v：\n",
    "```python\n",
    "import numpy as np\n",
    "a = np.matrix([[1,2], [4,5]])\n",
    "v = np.matrix([[7], [8]])\n",
    "```\n",
    "使用`multiply()`函数进行点乘：\n",
    "```python\n",
    "d = np.multiply(a,v)\n",
    "print(d)\n",
    "```\n",
    "输出结果为：\n",
    "```\n",
    "[[ 7 14]\n",
    " [32 40]]\n",
    "```\n",
    "使用`dot()`函数进行矩阵乘法：\n",
    "```python\n",
    "c = np.dot(a,v)\n",
    "print(c)\n",
    "```\n",
    "输出结果为：\n",
    "```\n",
    "[[23]\n",
    " [68]]\n",
    "```\n",
    "需要注意的是，运算符重载“*”、“@”并不完全等于`dot()`、`multiply()`，在不同类型之间的行为有所区别¹。例如，在matrix之间使用“*”时，优先执行矩阵乘法，使用`multiply()`则始终先广播后对位相乘¹。因此，在使用这些函数时，需要注意数据类型和运算符的选择。\n",
    "\n",
    "源: 与必应的对话， 2023/9/10\n",
    "(1) Python NumPy中 dot() / multiply() / @ / * 之间的区别 - 知乎. https://zhuanlan.zhihu.com/p/480960607.\n",
    "(2) Numpy数据的操作 * dot() multiply() 的区别 - 我是小随 - 博客园. https://www.cnblogs.com/AlvinSui/p/8733470.html.\n",
    "(3) numpy中dot()、outer()、multiply()以及matmul()的区别 - 简书. https://www.jianshu.com/p/42b0b6ffcf97."
   ]
  },
  {
   "cell_type": "markdown",
   "id": "0a639103-1dfa-4910-98c6-b399df84f804",
   "metadata": {},
   "source": [
    "`multiply()` 和 `dot()` 是两个不同的数学操作，通常用于处理向量和矩阵。\n",
    "\n",
    "1. **`multiply()`：**\n",
    "   - `multiply()` 是一个元素级别的操作，用于对两个数组（可以是向量、矩阵或多维数组）中的对应元素进行相乘。它会将两个输入数组中相同位置的元素相乘，生成一个具有相同形状的输出数组。\n",
    "   - 这意味着 `multiply()` 不执行矩阵乘法（矩阵的点积），而只是执行逐元素的乘法。这对于执行逐元素操作（如元素级别的乘法、加法等）很有用。\n",
    "\n",
    "   例如，在Python中使用NumPy库，您可以执行以下操作：\n",
    "\n",
    "   ```python\n",
    "   import numpy as np\n",
    "\n",
    "   a = np.array([1, 2, 3])\n",
    "   b = np.array([4, 5, 6])\n",
    "   result = np.multiply(a, b)\n",
    "   # 结果是 [4, 10, 18]\n",
    "   ```\n",
    "\n",
    "2. **`dot()`：**\n",
    "   - `dot()` 是矩阵的点积或向量的内积运算。对于两个一维数组，它计算它们的内积（数量积）。对于两个多维数组（矩阵），它执行矩阵乘法，返回一个新的矩阵。\n",
    "   - 矩阵乘法是一种线性代数运算，它涉及到将一个矩阵的行与另一个矩阵的列相乘，并将结果累加起来以生成新的矩阵。\n",
    "\n",
    "   例如，在Python中使用NumPy库，您可以执行以下操作：\n",
    "\n",
    "   ```python\n",
    "   import numpy as np\n",
    "\n",
    "   A = np.array([[1, 2], [3, 4]])\n",
    "   B = np.array([[5, 6], [7, 8]])\n",
    "   result = np.dot(A, B)\n",
    "   # 结果是 [[19, 22], [43, 50]]\n",
    "   ```\n",
    "\n",
    "总之，`multiply()` 和 `dot()` 用于不同的数学操作。`multiply()` 执行逐元素的乘法，而 `dot()` 执行矩阵乘法或向量的内积运算，具体取决于输入的数组的维度和形状。"
   ]
  },
  {
   "cell_type": "code",
   "execution_count": 22,
   "id": "50c16d99-ab27-4394-a23b-1e8af88759fb",
   "metadata": {
    "tags": []
   },
   "outputs": [
    {
     "data": {
      "text/plain": [
       "array([ 4, 10, 18])"
      ]
     },
     "execution_count": 22,
     "metadata": {},
     "output_type": "execute_result"
    }
   ],
   "source": [
    "import numpy as np\n",
    "\n",
    "a = np.array([1, 2, 3])\n",
    "b = np.array([4, 5, 6])\n",
    "result = np.multiply(a, b)\n",
    "# 结果是 [4, 10, 18]\n",
    "result"
   ]
  },
  {
   "cell_type": "code",
   "execution_count": 23,
   "id": "4c7e5116-2063-41d9-8a8a-167a834f991b",
   "metadata": {
    "tags": []
   },
   "outputs": [
    {
     "name": "stdout",
     "output_type": "stream",
     "text": [
      "[[1 2 3]\n",
      " [1 2 3]]\n",
      "[[3 2 1]\n",
      " [4 5 6]]\n",
      "[[ 3  4  3]\n",
      " [ 4 10 18]]\n"
     ]
    }
   ],
   "source": [
    "import numpy as np\n",
    "\n",
    "a = np.array([[1, 2, 3],[1, 2, 3]])\n",
    "print(a)\n",
    "b = np.array([[3, 2, 1],[4, 5, 6]])\n",
    "print(b)\n",
    "result = np.multiply(a, b)\n",
    "# 结果是 [4, 10, 18]\n",
    "print(result)"
   ]
  },
  {
   "cell_type": "code",
   "execution_count": 24,
   "id": "a9734fd8-8c71-4813-9fdb-22ee512b0e4d",
   "metadata": {
    "tags": []
   },
   "outputs": [
    {
     "data": {
      "text/plain": [
       "array([[19, 22],\n",
       "       [43, 50]])"
      ]
     },
     "execution_count": 24,
     "metadata": {},
     "output_type": "execute_result"
    }
   ],
   "source": [
    "import numpy as np\n",
    "\n",
    "A = np.array([[1, 2], [3, 4]])\n",
    "B = np.array([[5, 6], [7, 8]])\n",
    "result = np.dot(A, B)\n",
    "# 结果是 [[19, 22], [43, 50]]\n",
    "result"
   ]
  },
  {
   "cell_type": "code",
   "execution_count": 26,
   "id": "8069587a-a27e-46f2-9d56-3f6ece8d20bd",
   "metadata": {
    "tags": []
   },
   "outputs": [
    {
     "name": "stdout",
     "output_type": "stream",
     "text": [
      "[[ 5 12]\n",
      " [21 32]]\n"
     ]
    }
   ],
   "source": [
    "import numpy as np\n",
    "\n",
    "A = np.array([[1, 2], [3, 4]])\n",
    "B = np.array([[5, 6], [7, 8]])\n",
    "result = np.multiply(A, B)\n",
    "print(result)\n",
    "# 应输出：\n",
    "# [[19 22]\n",
    "#  [43 50]]\n"
   ]
  },
  {
   "cell_type": "code",
   "execution_count": 27,
   "id": "91f7f25a-1d3f-4c44-a61b-ee5383c53f01",
   "metadata": {
    "tags": []
   },
   "outputs": [
    {
     "name": "stdout",
     "output_type": "stream",
     "text": [
      "(8, 7, 12)\n"
     ]
    }
   ],
   "source": [
    "import numpy as np\n",
    "\n",
    "def find_closest_values(arr, target):\n",
    "    # 对数组中的元素与目标值的差值进行排序\n",
    "    sorted_indices = np.argsort(np.abs(arr - target))\n",
    "    \n",
    "    # 返回距离最小的两个元素\n",
    "    closest_indices = sorted_indices[:2]\n",
    "    closest_values = arr[closest_indices]\n",
    "    \n",
    "    return tuple(closest_values)\n",
    "\n",
    "arr = np.array([1, 3, 5, 7, 8, 12, 15])\n",
    "target = 9\n",
    "result = find_closest_values(arr, target)\n",
    "print(result)\n"
   ]
  },
  {
   "cell_type": "markdown",
   "id": "1cf5b368-0579-4e6a-8ec9-4db3f8d5fe69",
   "metadata": {},
   "source": [
    "NumPy中的随机函数常常用于按照某种概率统计规则来产生随机数，在机器学习和深度学习中，我们常常需要使用随机函数对一些参数进行初始化¹。以下是一些NumPy中常用的随机函数：\n",
    "\n",
    "1. **random.rand(d0, d1, ..., dn)**：产生 [0, 1)范围的浮点随机数。rand函数用于产生 [0, 1)范围内的浮点随机数，其中参数dn表示第n个维度的长度¹。\n",
    "\n",
    "```python\n",
    "import numpy as np\n",
    "# 产生shape为 (d0, d1,..., dn), 值为 [0, 1) 范围内的浮点随机数\n",
    "# 默认d0 = 1, 产生 [0, 1)范围内的一个浮点随机数\n",
    "a = np.random.rand()\n",
    "# d0 = 2, 产生 [0, 1)范围内的一维数组（向量）的浮点随机数\n",
    "b = np.random.rand(2)\n",
    "# d0 = 2, d1 = 3, 产生 [0, 1)范围内的二维数组（矩阵）的浮点随机数\n",
    "c = np.random.rand(2,3)\n",
    "print(a)\n",
    "print(b)\n",
    "print(c)\n",
    "```\n",
    "\n",
    "2. **random.random_sample(size)**：产生 [0, 1)范围内的浮点随机数。random_sample函数用于产生 [0, 1)范围的浮点随机数，其中参数size为产生数组的大小，如果不指定则会产生一个随机数¹。\n",
    "\n",
    "```python\n",
    "import numpy as np\n",
    "# 产生shape为size, 值为 [0, 1) 范围内的浮点随机数\n",
    "# 不指定size参数, 产生 [0, 1)范围内的浮点随机数\n",
    "a = np.random.random_sample()\n",
    "# 指定size参数,产生 [0, 1)范围内的二维数组（矩阵）的浮点随机数​\n",
    "b = np.random.random_sample(size = (2, 3))\n",
    "print(a)\n",
    "print(b)\n",
    "```\n",
    "\n",
    "3. **random.randint(low, high=None, size=None)**：产生 [low, high)范围内的整型随机数。random.randint随机函数用于产生 [low, high)范围的随机整数，需要注意范围是\"包左不包右\"，包含low但是不包含high。size为产生数组的大小¹。\n",
    "\n",
    "```python\n",
    "import numpy as np\n",
    "# 产生shape为size, 值为 [low, high) 范围内的整型随机数\n",
    "# low = 0, high = 3, 产生 [0, 3)范围内的一个整型随机数\n",
    "a = np.random.randint(0, 3)\n",
    "# low = 3, 产生 [0, 3)范围内的一维数组（向量）的整型随机数\n",
    "b = np.random.randint(3, size = 4)\n",
    "# low = 0, high = 3, 产生 [0, 3)范围内的二维数组（矩阵）的整型随机数\n",
    "c = np.random.randint(0, 3, size = (2, 3))\n",
    "print(a)\n",
    "print(b)\n",
    "print(c)\n",
    "```\n",
    "\n",
    "以上只是NumPy库中功能的一部分，实际上NumPy有许多其他强大且有用的功能供你选择和使用。你可以根据你的具体需求来选择合适的函数¹。\n",
    "\n",
    "源: 与必应的对话， 2023/9/10\n",
    "(1) Numpy中常用随机函数的总结 - 知乎 - 知乎专栏. https://zhuanlan.zhihu.com/p/146021617.\n",
    "(2) numpy.random.rand — NumPy v1.25 Manual. https://numpy.org/doc/stable/reference/random/generated/numpy.random.rand.html.\n",
    "(3) Numpy的随机函数_shmilyam的博客-CSDN博客. https://blog.csdn.net/shmilyam/article/details/105902561.\n",
    "(4) numpy中生成随机数的几种常用函数 - 华为云社区. https://bbs.huaweicloud.com/blogs/267789."
   ]
  },
  {
   "cell_type": "code",
   "execution_count": 28,
   "id": "388a57c0-8de8-46dd-b665-34842a2bc3e4",
   "metadata": {
    "tags": []
   },
   "outputs": [
    {
     "name": "stdout",
     "output_type": "stream",
     "text": [
      "0.9825015446705124\n",
      "[0.56914325 0.09995357]\n",
      "[[[0.42457578 0.19114038 0.83703472]\n",
      "  [0.3867655  0.05576654 0.94529947]\n",
      "  [0.58172593 0.68561758 0.61086025]]\n",
      "\n",
      " [[0.80724834 0.18841389 0.97147661]\n",
      "  [0.01446803 0.25764995 0.68310819]\n",
      "  [0.55492852 0.77484206 0.51943727]]]\n"
     ]
    }
   ],
   "source": [
    "import numpy as np\n",
    "# 产生shape为 (d0, d1,..., dn), 值为 [0, 1) 范围内的浮点随机数\n",
    "# 默认d0 = 1, 产生 [0, 1)范围内的一个浮点随机数\n",
    "a = np.random.rand()\n",
    "# d0 = 2, 产生 [0, 1)范围内的一维数组（向量）的浮点随机数\n",
    "b = np.random.rand(2)\n",
    "# d0 = 2, d1 = 3, 产生 [0, 1)范围内的二维数组（矩阵）的浮点随机数\n",
    "c = np.random.rand(2,3,3)\n",
    "print(a)\n",
    "print(b)\n",
    "print(c)"
   ]
  },
  {
   "cell_type": "code",
   "execution_count": 23,
   "id": "c785cd6f-ad97-41dc-b2a5-0b247c542423",
   "metadata": {
    "tags": []
   },
   "outputs": [
    {
     "name": "stdout",
     "output_type": "stream",
     "text": [
      "0.9237377905835453\n",
      "[[0.58626397 0.22042523 0.17689784]\n",
      " [0.56759178 0.78923237 0.22995826]]\n"
     ]
    }
   ],
   "source": [
    "import numpy as np\n",
    "# 产生shape为size, 值为 [0, 1) 范围内的浮点随机数\n",
    "# 不指定size参数, 产生 [0, 1)范围内的浮点随机数\n",
    "a = np.random.random_sample()\n",
    "# 指定size参数,产生 [0, 1)范围内的二维数组（矩阵）的浮点随机数​\n",
    "b = np.random.random_sample(size = (2, 3))\n",
    "print(a)\n",
    "print(b)"
   ]
  },
  {
   "cell_type": "code",
   "execution_count": 24,
   "id": "295d3d93-9ff7-41f9-b536-78f261878495",
   "metadata": {
    "tags": []
   },
   "outputs": [
    {
     "name": "stdout",
     "output_type": "stream",
     "text": [
      "2\n",
      "[0 1 0 1]\n",
      "[[1 2 1]\n",
      " [0 1 1]]\n"
     ]
    }
   ],
   "source": [
    "import numpy as np\n",
    "# 产生shape为size, 值为 [low, high) 范围内的整型随机数\n",
    "# low = 0, high = 3, 产生 [0, 3)范围内的一个整型随机数\n",
    "a = np.random.randint(0, 3)\n",
    "# low = 3, 产生 [0, 3)范围内的一维数组（向量）的整型随机数\n",
    "b = np.random.randint(3, size = 4)\n",
    "# low = 0, high = 3, 产生 [0, 3)范围内的二维数组（矩阵）的整型随机数\n",
    "c = np.random.randint(0, 3, size = (2, 3))\n",
    "print(a)\n",
    "print(b)\n",
    "print(c)"
   ]
  },
  {
   "cell_type": "code",
   "execution_count": 31,
   "id": "e0449f36-687f-42e8-8168-7b8f33543ba8",
   "metadata": {
    "tags": []
   },
   "outputs": [
    {
     "name": "stdout",
     "output_type": "stream",
     "text": [
      "nan\n",
      "0\n",
      "[-2.14748365e+09]\n"
     ]
    },
    {
     "name": "stderr",
     "output_type": "stream",
     "text": [
      "C:\\Users\\xyt55\\AppData\\Local\\Temp\\ipykernel_24028\\3912170336.py:1: RuntimeWarning: invalid value encountered in divide\n",
      "  print(np.array(0) / np.array(0))\n",
      "C:\\Users\\xyt55\\AppData\\Local\\Temp\\ipykernel_24028\\3912170336.py:2: RuntimeWarning: divide by zero encountered in floor_divide\n",
      "  print(np.array(0) // np.array(0))\n",
      "C:\\Users\\xyt55\\AppData\\Local\\Temp\\ipykernel_24028\\3912170336.py:3: RuntimeWarning: invalid value encountered in cast\n",
      "  print(np.array([np.nan]).astype(int).astype(float))\n"
     ]
    }
   ],
   "source": [
    "print(np.array(0) / np.array(0))\n",
    "print(np.array(0) // np.array(0))\n",
    "print(np.array([np.nan]).astype(int).astype(float))"
   ]
  },
  {
   "cell_type": "markdown",
   "id": "8857fc5e-4472-4eb2-8026-b7e26f5e5e1d",
   "metadata": {},
   "source": [
    "`df.drop()` 是Pandas中用于删除DataFrame中行或列的函数。它允许您根据标签或索引删除指定的行或列，同时可以选择是否在原始DataFrame上执行删除操作（默认情况下不会在原地执行，除非设置了`inplace=True`参数）。\n",
    "\n",
    "以下是 `df.drop()` 函数的主要参数和用法：\n",
    "\n",
    "```python\n",
    "df.drop(labels, axis=0, index=None, columns=None, inplace=False)\n",
    "```\n",
    "\n",
    "- `labels`：要删除的行或列的标签（可以是单个标签或标签列表）。\n",
    "- `axis`：指定删除的轴，可以是0（默认）表示删除行，或1 表示删除列。\n",
    "- `index`：可选参数，与`labels`相同，用于删除行。\n",
    "- `columns`：可选参数，与`labels`相同，用于删除列。\n",
    "- `inplace`：可选参数，如果设置为True，将在原始DataFrame上执行删除操作，而不是返回一个新的DataFrame。默认为False。\n",
    "\n",
    "示例：\n",
    "\n",
    "```python\n",
    "import pandas as pd\n",
    "\n",
    "data = {'A': [1, 2, 3], 'B': [4, 5, 6], 'C': [7, 8, 9]}\n",
    "df = pd.DataFrame(data)\n",
    "\n",
    "# 删除一行（使用标签）\n",
    "df = df.drop(0)  # 删除第一行\n",
    "# 或者\n",
    "df = df.drop(index=0)\n",
    "\n",
    "# 删除一列（使用标签）\n",
    "df = df.drop('B', axis=1)  # 删除列 'B'\n",
    "# 或者\n",
    "df = df.drop(columns='B')\n",
    "\n",
    "# 在原地执行删除操作\n",
    "df.drop(0, inplace=True)  # 删除第一行，并在原地执行删除\n",
    "df.drop('B', axis=1, inplace=True)  # 删除列 'B'，并在原地执行删除\n",
    "```\n",
    "\n",
    "请注意，`df.drop()` 默认情况下不会更改原始DataFrame，而是返回一个新的DataFrame。如果要在原地执行删除操作，可以将`inplace`参数设置为True。"
   ]
  },
  {
   "cell_type": "markdown",
   "id": "0e3511be-8154-45b6-b7eb-426d5d8a367d",
   "metadata": {},
   "source": [
    "`inplace` 参数用于指示是否在原始DataFrame上执行操作。它是一个布尔值，如果设置为True，将在原地（原始DataFrame上）执行操作，如果设置为False（默认值），则返回一个新的DataFrame，而不更改原始DataFrame。\n",
    "\n",
    "具体来说，`inplace=True` 的作用是在原始DataFrame上执行操作，并将结果直接修改原始DataFrame。这意味着原始DataFrame将被更改，不会返回一个新的DataFrame。使用 `inplace=True` 可以节省内存，因为不需要为结果创建一个新的DataFrame，但请谨慎使用，因为操作是不可逆的，可能会导致数据丢失。\n",
    "\n",
    "例如，如果您有一个名为`df`的DataFrame，并希望删除其中的一列，您可以使用 `inplace=True` 来在原地执行删除操作：\n",
    "\n",
    "```python\n",
    "df.drop('Column_Name', axis=1, inplace=True)\n",
    "```\n",
    "\n",
    "如果将 `inplace` 设置为False或不指定，删除操作将返回一个新的DataFrame，并且原始的`df`将保持不变：\n",
    "\n",
    "```python\n",
    "new_df = df.drop('Column_Name', axis=1)  # 原始的 df 不受影响\n",
    "```\n",
    "\n",
    "总之，`inplace` 参数的作用是控制是否在原始DataFrame上执行操作，以及是否返回一个新的DataFrame。根据需求选择合适的设置。如果不确定，建议首先创建一个新的DataFrame，以免意外更改原始数据。"
   ]
  },
  {
   "cell_type": "code",
   "execution_count": null,
   "id": "bfabe6e1-62ef-40a4-83a6-8057e871903e",
   "metadata": {},
   "outputs": [],
   "source": []
  }
 ],
 "metadata": {
  "kernelspec": {
   "display_name": "Python 3 (ipykernel)",
   "language": "python",
   "name": "python3"
  },
  "language_info": {
   "codemirror_mode": {
    "name": "ipython",
    "version": 3
   },
   "file_extension": ".py",
   "mimetype": "text/x-python",
   "name": "python",
   "nbconvert_exporter": "python",
   "pygments_lexer": "ipython3",
   "version": "3.10.11"
  }
 },
 "nbformat": 4,
 "nbformat_minor": 5
}
