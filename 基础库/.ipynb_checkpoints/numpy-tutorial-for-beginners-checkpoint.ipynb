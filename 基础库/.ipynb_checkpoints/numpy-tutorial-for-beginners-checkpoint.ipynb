{
 "metadata": {
  "kernelspec": {
   "display_name": "Python 3",
   "language": "python",
   "name": "python3"
  },
  "language_info": {
   "name": "python",
   "version": "3.6.6",
   "mimetype": "text/x-python",
   "codemirror_mode": {
    "name": "ipython",
    "version": 3
   },
   "pygments_lexer": "ipython3",
   "nbconvert_exporter": "python",
   "file_extension": ".py"
  }
 },
 "nbformat_minor": 4,
 "nbformat": 4,
 "cells": [
  {
   "cell_type": "markdown",
   "source": [
    "<img src=\"https://upload.wikimedia.org/wikipedia/commons/thumb/1/1a/NumPy_logo.svg/1200px-NumPy_logo.svg.png\" alt=\"cce\" border=\"0\">"
   ],
   "metadata": {}
  },
  {
   "cell_type": "markdown",
   "source": [
    "### Resources that help me prepare this kernel:\n",
    "\n",
    "* https://www.oreilly.com/library/view/python-data-science/9781491912126/"
   ],
   "metadata": {}
  },
  {
   "cell_type": "markdown",
   "source": [
    "\n",
    "### In this kernel, we will cover NumPy in detail.\n",
    "\n",
    "**Content:**\n",
    "\n",
    "1. [Introduction to NumPy](#1)\n",
    "2. [Understanding Data Types in Python](#2)\n",
    "      * [Creating Arrays from Scratch](#3)\n",
    "      * [NumPy Standard Data Types](#4)\n",
    "3. [The Basics of NumPy Arrays](#5)\n",
    "      * [NumPy Array Attributes](#6)\n",
    "      * [Array Indexing: Accessing Single Elements](#7)\n",
    "      * [Array Slicing: Accessing Subarrays](#8)\n",
    "         * 1- [One-dimensional subarrays](#43)  \n",
    "         * 2- [Multidimensional subarrays](#44)\n",
    "         * 3- [Accessing array rows and columns](#45)\n",
    "         * 4- [Subarrays as no-copy views](#46)\n",
    "         * 5- [Creating copies of arrays](#47)\n",
    "      * [Reshaping of Arrays](#9)\n",
    "      * [Array Concatenation and Splitting](#10)\n",
    "4. [Computation on NumPy Arrays: Universal Functions](#11)\n",
    "      * [Exploring NumPy’s UFuncs](#12)\n",
    "         * 1- [Array arithmetic](#13)  \n",
    "         * 2- [Exponents and logarithms](#14)\n",
    "         * 3- [Absolute value](#15)\n",
    "         * 4- [Trigonometric functions](#16)\n",
    "      * [Advanced Ufunc Features](#17)\n",
    "         * 1- [Specifying output](#18)  \n",
    "         * 2- [Aggregates](#19)\n",
    "         * 3- [Outer products](#20)\n",
    "5. [Aggregations: Min, Max, and Everything in Between](#21)\n",
    "      * [Summing the Values in an Array](#22)\n",
    "      * [Minimum and Maximum](#23)\n",
    "      * [Multidimensional aggregates](#24)\n",
    "6. [Computation on Arrays: Broadcasting](#25)\n",
    "      * [Introducing Broadcasting](#26)\n",
    "      * [Visualization of NumPy broadcasting](#27)\n",
    "      * [Broadcasting example 1](#28)\n",
    "      * [Broadcasting example 2](#29)\n",
    "      * [Broadcasting example 3](#30)\n",
    "7. [Comparisons, Masks, and Boolean Logic](#31)\n",
    "      * [Comparison Operators as ufuncs](#32)\n",
    "      * [Working with Boolean Arrays ](#33)\n",
    "8. [Fancy Indexing](#34)\n",
    "      * [Exploring Fancy Indexing](#35)   \n",
    "      * [Combined Indexing](#36) \n",
    "      * [Modifying Values with Fancy Indexing](#37)\n",
    "9. [Fancy Indexing](#38)\n",
    "      * [Fast Sorting in NumPy: np.sort and np.argsort](#39)   \n",
    "      * [Sorting along rows or columns](#40) \n",
    "      * [Partial Sorts: Partitioning](#41)\n",
    "10. [Conclusion](#42)   "
   ],
   "metadata": {}
  },
  {
   "cell_type": "markdown",
   "source": [
    "<a id=\"1\"></a> <br>\n",
    "# Introduction to NumPy\n",
    "\n",
    "* NumPy is the fundamental package for scientific computing in Python"
   ],
   "metadata": {}
  },
  {
   "cell_type": "code",
   "source": [
    "import numpy as np"
   ],
   "metadata": {
    "execution": {
     "iopub.status.busy": "2023-09-14T02:41:54.028993Z",
     "iopub.execute_input": "2023-09-14T02:41:54.029332Z",
     "iopub.status.idle": "2023-09-14T02:41:54.037023Z",
     "shell.execute_reply.started": "2023-09-14T02:41:54.029282Z",
     "shell.execute_reply": "2023-09-14T02:41:54.035902Z"
    },
    "trusted": true,
    "ExecuteTime": {
     "start_time": "2023-09-20T19:01:16.380995Z",
     "end_time": "2023-09-20T19:01:16.469412Z"
    }
   },
   "execution_count": 1,
   "outputs": []
  },
  {
   "cell_type": "code",
   "source": [
    "np.array([3.2,4,6,5])"
   ],
   "metadata": {
    "execution": {
     "iopub.status.busy": "2023-09-14T02:41:54.039719Z",
     "iopub.execute_input": "2023-09-14T02:41:54.040376Z",
     "iopub.status.idle": "2023-09-14T02:41:54.053168Z",
     "shell.execute_reply.started": "2023-09-14T02:41:54.040292Z",
     "shell.execute_reply": "2023-09-14T02:41:54.052313Z"
    },
    "trusted": true,
    "ExecuteTime": {
     "start_time": "2023-09-20T19:07:43.174841Z",
     "end_time": "2023-09-20T19:07:43.292568Z"
    }
   },
   "execution_count": 2,
   "outputs": [
    {
     "data": {
      "text/plain": "array([3.2, 4. , 6. , 5. ])"
     },
     "execution_count": 2,
     "metadata": {},
     "output_type": "execute_result"
    }
   ]
  },
  {
   "cell_type": "code",
   "source": [
    "np.array([1,4,2,5,3]) ## integer array:"
   ],
   "metadata": {
    "execution": {
     "iopub.status.busy": "2023-09-14T02:41:54.054489Z",
     "iopub.execute_input": "2023-09-14T02:41:54.054866Z",
     "iopub.status.idle": "2023-09-14T02:41:54.065766Z",
     "shell.execute_reply.started": "2023-09-14T02:41:54.054826Z",
     "shell.execute_reply": "2023-09-14T02:41:54.065089Z"
    },
    "trusted": true,
    "ExecuteTime": {
     "start_time": "2023-09-20T19:07:48.244304Z",
     "end_time": "2023-09-20T19:07:48.354966Z"
    }
   },
   "execution_count": 3,
   "outputs": [
    {
     "data": {
      "text/plain": "array([1, 4, 2, 5, 3])"
     },
     "execution_count": 3,
     "metadata": {},
     "output_type": "execute_result"
    }
   ]
  },
  {
   "cell_type": "markdown",
   "source": [
    "<a id=\"2\"></a> <br>\n",
    "# Understanding Data Types in Python"
   ],
   "metadata": {}
  },
  {
   "cell_type": "code",
   "source": [
    "np.array([1,2,3,4], dtype=\"str\")"
   ],
   "metadata": {
    "execution": {
     "iopub.status.busy": "2023-09-14T02:41:54.067243Z",
     "iopub.execute_input": "2023-09-14T02:41:54.067889Z",
     "iopub.status.idle": "2023-09-14T02:41:54.079315Z",
     "shell.execute_reply.started": "2023-09-14T02:41:54.067824Z",
     "shell.execute_reply": "2023-09-14T02:41:54.078360Z"
    },
    "trusted": true
   },
   "execution_count": 4,
   "outputs": [
    {
     "execution_count": 4,
     "output_type": "execute_result",
     "data": {
      "text/plain": "array(['1', '2', '3', '4'], dtype='<U1')"
     },
     "metadata": {}
    }
   ]
  },
  {
   "cell_type": "code",
   "source": [
    "np.array([3,6,2,3], dtype=\"float32\")"
   ],
   "metadata": {
    "execution": {
     "iopub.status.busy": "2023-09-14T02:41:54.084555Z",
     "iopub.execute_input": "2023-09-14T02:41:54.084890Z",
     "iopub.status.idle": "2023-09-14T02:41:54.092004Z",
     "shell.execute_reply.started": "2023-09-14T02:41:54.084827Z",
     "shell.execute_reply": "2023-09-14T02:41:54.091060Z"
    },
    "trusted": true
   },
   "execution_count": 5,
   "outputs": [
    {
     "execution_count": 5,
     "output_type": "execute_result",
     "data": {
      "text/plain": "array([3., 6., 2., 3.], dtype=float32)"
     },
     "metadata": {}
    }
   ]
  },
  {
   "cell_type": "code",
   "source": [
    "# nested lists result in multidimensional arrays\n",
    "\n",
    "np.array([range(i,i+3) for i in [2,4,6]])"
   ],
   "metadata": {
    "execution": {
     "iopub.status.busy": "2023-09-14T02:41:54.095257Z",
     "iopub.execute_input": "2023-09-14T02:41:54.095710Z",
     "iopub.status.idle": "2023-09-14T02:41:54.103920Z",
     "shell.execute_reply.started": "2023-09-14T02:41:54.095530Z",
     "shell.execute_reply": "2023-09-14T02:41:54.103177Z"
    },
    "trusted": true
   },
   "execution_count": 6,
   "outputs": [
    {
     "execution_count": 6,
     "output_type": "execute_result",
     "data": {
      "text/plain": "array([[2, 3, 4],\n       [4, 5, 6],\n       [6, 7, 8]])"
     },
     "metadata": {}
    }
   ]
  },
  {
   "cell_type": "markdown",
   "source": [
    "<a id=\"3\"></a> <br>\n",
    "### Creating Arrays from Scratch"
   ],
   "metadata": {}
  },
  {
   "cell_type": "code",
   "source": [
    "# Create a length-10 integer array filled with zeros\n",
    "\n",
    "np.zeros(10, dtype=\"int\") "
   ],
   "metadata": {
    "execution": {
     "iopub.status.busy": "2023-09-14T02:41:54.105089Z",
     "iopub.execute_input": "2023-09-14T02:41:54.105635Z",
     "iopub.status.idle": "2023-09-14T02:41:54.117440Z",
     "shell.execute_reply.started": "2023-09-14T02:41:54.105445Z",
     "shell.execute_reply": "2023-09-14T02:41:54.116378Z"
    },
    "trusted": true
   },
   "execution_count": 7,
   "outputs": [
    {
     "execution_count": 7,
     "output_type": "execute_result",
     "data": {
      "text/plain": "array([0, 0, 0, 0, 0, 0, 0, 0, 0, 0])"
     },
     "metadata": {}
    }
   ]
  },
  {
   "cell_type": "code",
   "source": [
    "np.zeros((5,6), dtype=\"float\")"
   ],
   "metadata": {
    "execution": {
     "iopub.status.busy": "2023-09-14T02:41:54.118944Z",
     "iopub.execute_input": "2023-09-14T02:41:54.119261Z",
     "iopub.status.idle": "2023-09-14T02:41:54.128421Z",
     "shell.execute_reply.started": "2023-09-14T02:41:54.119214Z",
     "shell.execute_reply": "2023-09-14T02:41:54.127599Z"
    },
    "trusted": true
   },
   "execution_count": 8,
   "outputs": [
    {
     "execution_count": 8,
     "output_type": "execute_result",
     "data": {
      "text/plain": "array([[0., 0., 0., 0., 0., 0.],\n       [0., 0., 0., 0., 0., 0.],\n       [0., 0., 0., 0., 0., 0.],\n       [0., 0., 0., 0., 0., 0.],\n       [0., 0., 0., 0., 0., 0.]])"
     },
     "metadata": {}
    }
   ]
  },
  {
   "cell_type": "code",
   "source": [
    "# Create a 3x5 floating-point array filled with 1s\n",
    "\n",
    "np.ones((3,5), dtype=\"float\")"
   ],
   "metadata": {
    "execution": {
     "iopub.status.busy": "2023-09-14T02:41:54.129664Z",
     "iopub.execute_input": "2023-09-14T02:41:54.130218Z",
     "iopub.status.idle": "2023-09-14T02:41:54.140346Z",
     "shell.execute_reply.started": "2023-09-14T02:41:54.130114Z",
     "shell.execute_reply": "2023-09-14T02:41:54.139448Z"
    },
    "trusted": true
   },
   "execution_count": 9,
   "outputs": [
    {
     "execution_count": 9,
     "output_type": "execute_result",
     "data": {
      "text/plain": "array([[1., 1., 1., 1., 1.],\n       [1., 1., 1., 1., 1.],\n       [1., 1., 1., 1., 1.]])"
     },
     "metadata": {}
    }
   ]
  },
  {
   "cell_type": "code",
   "source": [
    "# Create a 3x5 array filled with 3.14\n",
    "\n",
    "np.full((3,5), 3.14)"
   ],
   "metadata": {
    "execution": {
     "iopub.status.busy": "2023-09-14T02:41:54.142111Z",
     "iopub.execute_input": "2023-09-14T02:41:54.142779Z",
     "iopub.status.idle": "2023-09-14T02:41:54.155241Z",
     "shell.execute_reply.started": "2023-09-14T02:41:54.142721Z",
     "shell.execute_reply": "2023-09-14T02:41:54.154198Z"
    },
    "trusted": true
   },
   "execution_count": 10,
   "outputs": [
    {
     "execution_count": 10,
     "output_type": "execute_result",
     "data": {
      "text/plain": "array([[3.14, 3.14, 3.14, 3.14, 3.14],\n       [3.14, 3.14, 3.14, 3.14, 3.14],\n       [3.14, 3.14, 3.14, 3.14, 3.14]])"
     },
     "metadata": {}
    }
   ]
  },
  {
   "cell_type": "code",
   "source": [
    "# Create an array filled with a linear sequence\n",
    "# Starting at 0, ending at 20, stepping by 2\n",
    "# (this is similar to the built-in range() function)\n",
    "\n",
    "np.arange(0,20,2)"
   ],
   "metadata": {
    "execution": {
     "iopub.status.busy": "2023-09-14T02:41:54.156744Z",
     "iopub.execute_input": "2023-09-14T02:41:54.157163Z",
     "iopub.status.idle": "2023-09-14T02:41:54.169690Z",
     "shell.execute_reply.started": "2023-09-14T02:41:54.157089Z",
     "shell.execute_reply": "2023-09-14T02:41:54.168676Z"
    },
    "trusted": true
   },
   "execution_count": 11,
   "outputs": [
    {
     "execution_count": 11,
     "output_type": "execute_result",
     "data": {
      "text/plain": "array([ 0,  2,  4,  6,  8, 10, 12, 14, 16, 18])"
     },
     "metadata": {}
    }
   ]
  },
  {
   "cell_type": "code",
   "source": [
    "# Create an array of five values evenly spaced between 0 and 1\n",
    "\n",
    "np.linspace(0,1,5)"
   ],
   "metadata": {
    "execution": {
     "iopub.status.busy": "2023-09-14T02:41:54.171543Z",
     "iopub.execute_input": "2023-09-14T02:41:54.171927Z",
     "iopub.status.idle": "2023-09-14T02:41:54.181118Z",
     "shell.execute_reply.started": "2023-09-14T02:41:54.171842Z",
     "shell.execute_reply": "2023-09-14T02:41:54.180077Z"
    },
    "trusted": true
   },
   "execution_count": 12,
   "outputs": [
    {
     "execution_count": 12,
     "output_type": "execute_result",
     "data": {
      "text/plain": "array([0.  , 0.25, 0.5 , 0.75, 1.  ])"
     },
     "metadata": {}
    }
   ]
  },
  {
   "cell_type": "code",
   "source": [
    "# Create a 3x3 array of uniformly distributed\n",
    "# random values between 0 and 1\n",
    "np.random.seed(123)\n",
    "np.random.random((3,3))"
   ],
   "metadata": {
    "execution": {
     "iopub.status.busy": "2023-09-14T02:41:54.182978Z",
     "iopub.execute_input": "2023-09-14T02:41:54.183347Z",
     "iopub.status.idle": "2023-09-14T02:41:54.196333Z",
     "shell.execute_reply.started": "2023-09-14T02:41:54.183280Z",
     "shell.execute_reply": "2023-09-14T02:41:54.195248Z"
    },
    "trusted": true,
    "ExecuteTime": {
     "start_time": "2023-09-20T19:08:15.830752Z",
     "end_time": "2023-09-20T19:08:15.937437Z"
    }
   },
   "execution_count": 8,
   "outputs": [
    {
     "data": {
      "text/plain": "array([[0.69646919, 0.28613933, 0.22685145],\n       [0.55131477, 0.71946897, 0.42310646],\n       [0.9807642 , 0.68482974, 0.4809319 ]])"
     },
     "execution_count": 8,
     "metadata": {},
     "output_type": "execute_result"
    }
   ]
  },
  {
   "cell_type": "code",
   "source": [
    "# Create a 3x3 array of normally distributed random values\n",
    "# with mean 0 and standard deviation 1\n",
    "\n",
    "np.random.normal(0,1,(3,3))"
   ],
   "metadata": {
    "execution": {
     "iopub.status.busy": "2023-09-14T02:41:54.198248Z",
     "iopub.execute_input": "2023-09-14T02:41:54.198793Z",
     "iopub.status.idle": "2023-09-14T02:41:54.207855Z",
     "shell.execute_reply.started": "2023-09-14T02:41:54.198736Z",
     "shell.execute_reply": "2023-09-14T02:41:54.206884Z"
    },
    "trusted": true,
    "ExecuteTime": {
     "start_time": "2023-09-20T19:08:13.879211Z",
     "end_time": "2023-09-20T19:08:14.010355Z"
    }
   },
   "execution_count": 7,
   "outputs": [
    {
     "data": {
      "text/plain": "array([[-1.61930007, -1.11396442, -0.44744072],\n       [ 1.66840161, -0.14337247, -0.6191909 ],\n       [-0.76943347,  0.57674602,  0.12652592]])"
     },
     "execution_count": 7,
     "metadata": {},
     "output_type": "execute_result"
    }
   ]
  },
  {
   "cell_type": "code",
   "source": [
    "# Create a 3x3 array of random integers in the interval [0, 10)\n",
    "\n",
    "np.random.randint(0,10,(3,3))"
   ],
   "metadata": {
    "execution": {
     "iopub.status.busy": "2023-09-14T02:41:54.209766Z",
     "iopub.execute_input": "2023-09-14T02:41:54.210078Z",
     "iopub.status.idle": "2023-09-14T02:41:54.220660Z",
     "shell.execute_reply.started": "2023-09-14T02:41:54.210025Z",
     "shell.execute_reply": "2023-09-14T02:41:54.219771Z"
    },
    "trusted": true
   },
   "execution_count": 15,
   "outputs": [
    {
     "execution_count": 15,
     "output_type": "execute_result",
     "data": {
      "text/plain": "array([[3, 3, 7],\n       [6, 9, 6],\n       [0, 2, 4]])"
     },
     "metadata": {}
    }
   ]
  },
  {
   "cell_type": "code",
   "source": [
    "# Create a 3x3 identity matrix\n",
    "\n",
    "np.eye(3)"
   ],
   "metadata": {
    "execution": {
     "iopub.status.busy": "2023-09-14T02:41:54.221868Z",
     "iopub.execute_input": "2023-09-14T02:41:54.222227Z",
     "iopub.status.idle": "2023-09-14T02:41:54.238995Z",
     "shell.execute_reply.started": "2023-09-14T02:41:54.222169Z",
     "shell.execute_reply": "2023-09-14T02:41:54.238049Z"
    },
    "trusted": true
   },
   "execution_count": 16,
   "outputs": [
    {
     "execution_count": 16,
     "output_type": "execute_result",
     "data": {
      "text/plain": "array([[1., 0., 0.],\n       [0., 1., 0.],\n       [0., 0., 1.]])"
     },
     "metadata": {}
    }
   ]
  },
  {
   "cell_type": "markdown",
   "source": [
    "<a id=\"4\"></a> <br>\n",
    "### NumPy Standard Data Types"
   ],
   "metadata": {}
  },
  {
   "cell_type": "code",
   "source": [
    "#Return a new array of given shape and type, with random values\n",
    "\n",
    "np.empty((3,3),dtype=\"int\")"
   ],
   "metadata": {
    "execution": {
     "iopub.status.busy": "2023-09-14T02:41:54.240735Z",
     "iopub.execute_input": "2023-09-14T02:41:54.241052Z",
     "iopub.status.idle": "2023-09-14T02:41:54.250264Z",
     "shell.execute_reply.started": "2023-09-14T02:41:54.240999Z",
     "shell.execute_reply": "2023-09-14T02:41:54.249223Z"
    },
    "trusted": true
   },
   "execution_count": 17,
   "outputs": [
    {
     "execution_count": 17,
     "output_type": "execute_result",
     "data": {
      "text/plain": "array([[4607182418800017408,                   0,                   0],\n       [                  0, 4607182418800017408,                   0],\n       [                  0,                   0, 4607182418800017408]])"
     },
     "metadata": {}
    }
   ]
  },
  {
   "cell_type": "code",
   "source": [
    "np.zeros(10,dtype=\"int16\")"
   ],
   "metadata": {
    "execution": {
     "iopub.status.busy": "2023-09-14T02:41:54.251562Z",
     "iopub.execute_input": "2023-09-14T02:41:54.251830Z",
     "iopub.status.idle": "2023-09-14T02:41:54.264299Z",
     "shell.execute_reply.started": "2023-09-14T02:41:54.251786Z",
     "shell.execute_reply": "2023-09-14T02:41:54.263448Z"
    },
    "trusted": true
   },
   "execution_count": 18,
   "outputs": [
    {
     "execution_count": 18,
     "output_type": "execute_result",
     "data": {
      "text/plain": "array([0, 0, 0, 0, 0, 0, 0, 0, 0, 0], dtype=int16)"
     },
     "metadata": {}
    }
   ]
  },
  {
   "cell_type": "code",
   "source": [
    "#or using the associated NumPy object:\n",
    "\n",
    "np.zeros(10,dtype=np.int16)"
   ],
   "metadata": {
    "execution": {
     "iopub.status.busy": "2023-09-14T02:41:54.265724Z",
     "iopub.execute_input": "2023-09-14T02:41:54.266043Z",
     "iopub.status.idle": "2023-09-14T02:41:54.279835Z",
     "shell.execute_reply.started": "2023-09-14T02:41:54.265994Z",
     "shell.execute_reply": "2023-09-14T02:41:54.278747Z"
    },
    "trusted": true
   },
   "execution_count": 19,
   "outputs": [
    {
     "execution_count": 19,
     "output_type": "execute_result",
     "data": {
      "text/plain": "array([0, 0, 0, 0, 0, 0, 0, 0, 0, 0], dtype=int16)"
     },
     "metadata": {}
    }
   ]
  },
  {
   "cell_type": "markdown",
   "source": [
    "<img src=\"https://1.bp.blogspot.com/-xrnk-4zD2Ac/W1LCbjrSjjI/AAAAAAAAXUY/8QJ0AZBxsQ0h6BgUV4kml0NqIO_hOs2KwCLcBGAs/s1600/4212_t2-1.PNG\" alt=\"cce\" border=\"0\">"
   ],
   "metadata": {}
  },
  {
   "cell_type": "markdown",
   "source": [
    "<a id=\"5\"></a> <br>\n",
    "# The Basics of NumPy Arrays"
   ],
   "metadata": {}
  },
  {
   "cell_type": "markdown",
   "source": [
    "* **We’ll cover a few categories of basic array manipulations here:**\n",
    "* Attributes of arrays\n",
    "   * Determining the size, shape, memory consumption, and data types of arrays\n",
    "* Indexing of arrays\n",
    "   * Getting and setting the value of individual array elements\n",
    "* Slicing of arrays\n",
    "   * Getting and setting smaller subarrays within a larger array\n",
    "* Reshaping of arrays\n",
    "   * Changing the shape of a given array\n",
    "* Joining and splitting of arrays\n",
    "   * Combining multiple arrays into one, and splitting one array into many"
   ],
   "metadata": {}
  },
  {
   "cell_type": "markdown",
   "source": [
    "<a id=\"6\"></a> <br>\n",
    "### NumPy Array Attributes"
   ],
   "metadata": {}
  },
  {
   "cell_type": "code",
   "source": [
    "#NumPy Array Attributes\n",
    "#We’ll use NumPy’s random number generator, which we will seed with a set value in order to ensure that the same random arrays are generated each time this code is run:\n",
    "\n",
    "np.random.seed(0) # seed for reproducibility\n",
    "x1 = np.random.randint(10, size=6) # One-dimensional array\n",
    "x1"
   ],
   "metadata": {
    "execution": {
     "iopub.status.busy": "2023-09-14T02:41:54.281332Z",
     "iopub.execute_input": "2023-09-14T02:41:54.281698Z",
     "iopub.status.idle": "2023-09-14T02:41:54.293151Z",
     "shell.execute_reply.started": "2023-09-14T02:41:54.281637Z",
     "shell.execute_reply": "2023-09-14T02:41:54.292004Z"
    },
    "trusted": true,
    "ExecuteTime": {
     "start_time": "2023-09-20T19:09:09.251858Z",
     "end_time": "2023-09-20T19:09:09.305894Z"
    }
   },
   "execution_count": 10,
   "outputs": [
    {
     "data": {
      "text/plain": "array([5, 0, 3, 3, 7, 9])"
     },
     "execution_count": 10,
     "metadata": {},
     "output_type": "execute_result"
    }
   ]
  },
  {
   "cell_type": "code",
   "source": [
    "#Each array has attributes ndim (the number of dimensions), shape (the size of each dimension), and size (the total size of the array):\n",
    "\n",
    "np.random.seed(0) # seed for reproducibility\n",
    "x1 = np.random.randint(10, size=6) #it's same ((np.random.randint((0,10), size=6))) # One-dimensional array\n",
    "x2 = np.random.randint(10, size=(3,4)) # Two-dimensional array\n",
    "x3 = np.random.randint(10, size=(3,4,5)) # Three-dimensional array\n",
    "\n",
    "print(\"x1 ndim: \",x1.ndim)\n",
    "print(\"x1 shape: \",x1.shape)\n",
    "print(\"x1 size: \",x1.size) #totaly,6 elements\n",
    "\n",
    "print(\"x1 ndim: \",x2.ndim)\n",
    "print(\"x1 shape: \",x2.shape)\n",
    "print(\"x1 size: \",x2.size) #totaly,12 elements\n",
    "\n",
    "print(\"x1 ndim: \",x3.ndim)\n",
    "print(\"x1 shape: \",x3.shape)\n",
    "print(\"x1 size: \",x3.size)#totaly,60 elements\n",
    "\n",
    "print(\"dtype: \",x1.dtype) #the data type of the array\n",
    "# Other attributes include itemsize, which lists the size (in bytes) of each array element,\n",
    "# and nbytes, which lists the total size (in bytes) of the array:\n",
    "print(\"itemsize:\",x1.itemsize,\"bytes\")\n",
    "print(\"nbytes:\",x1.nbytes,\"bytes\")\n",
    "\n",
    "print(\"dtype: \",x2.dtype) #the data type of the array\n",
    "print(\"itemsize:\",x2.itemsize,\"bytes\")\n",
    "print(\"nbytes:\",x2.nbytes,\"bytes\")\n",
    "\n",
    "print(\"dtype: \",x3.dtype) #the data type of the array\n",
    "print(\"itemsize:\",x3.itemsize,\"bytes\")\n",
    "print(\"nbytes:\",x3.nbytes,\"bytes\") \n",
    "\n",
    "#In general, we expect that nbytes is equal to itemsize times size."
   ],
   "metadata": {
    "execution": {
     "iopub.status.busy": "2023-09-14T02:41:54.295148Z",
     "iopub.execute_input": "2023-09-14T02:41:54.295562Z",
     "iopub.status.idle": "2023-09-14T02:41:54.322025Z",
     "shell.execute_reply.started": "2023-09-14T02:41:54.295473Z",
     "shell.execute_reply": "2023-09-14T02:41:54.321104Z"
    },
    "trusted": true,
    "ExecuteTime": {
     "start_time": "2023-09-20T19:09:17.406080Z",
     "end_time": "2023-09-20T19:09:17.499926Z"
    }
   },
   "execution_count": 11,
   "outputs": [
    {
     "name": "stdout",
     "output_type": "stream",
     "text": [
      "x1 ndim:  1\n",
      "x1 shape:  (6,)\n",
      "x1 size:  6\n",
      "x1 ndim:  2\n",
      "x1 shape:  (3, 4)\n",
      "x1 size:  12\n",
      "x1 ndim:  3\n",
      "x1 shape:  (3, 4, 5)\n",
      "x1 size:  60\n",
      "dtype:  int32\n",
      "itemsize: 4 bytes\n",
      "nbytes: 24 bytes\n",
      "dtype:  int32\n",
      "itemsize: 4 bytes\n",
      "nbytes: 48 bytes\n",
      "dtype:  int32\n",
      "itemsize: 4 bytes\n",
      "nbytes: 240 bytes\n"
     ]
    }
   ]
  },
  {
   "cell_type": "markdown",
   "source": [
    "<a id=\"7\"></a> <br>\n",
    "### Array Indexing: Accessing Single Elements"
   ],
   "metadata": {}
  },
  {
   "cell_type": "markdown",
   "source": [
    "* If you are familiar with Python’s standard list indexing, indexing in NumPy will feel\n",
    "quite familiar. In a one-dimensional array, you can access the ith value (counting from\n",
    "zero) by specifying the desired index in square brackets, just as with Python lists:"
   ],
   "metadata": {}
  },
  {
   "cell_type": "code",
   "source": [
    "x1"
   ],
   "metadata": {
    "execution": {
     "iopub.status.busy": "2023-09-14T02:41:54.323691Z",
     "iopub.execute_input": "2023-09-14T02:41:54.324132Z",
     "iopub.status.idle": "2023-09-14T02:41:54.332177Z",
     "shell.execute_reply.started": "2023-09-14T02:41:54.324072Z",
     "shell.execute_reply": "2023-09-14T02:41:54.331099Z"
    },
    "trusted": true
   },
   "execution_count": 22,
   "outputs": [
    {
     "execution_count": 22,
     "output_type": "execute_result",
     "data": {
      "text/plain": "array([5, 0, 3, 3, 7, 9])"
     },
     "metadata": {}
    }
   ]
  },
  {
   "cell_type": "code",
   "source": [
    "x1[0]"
   ],
   "metadata": {
    "execution": {
     "iopub.status.busy": "2023-09-14T02:41:54.333561Z",
     "iopub.execute_input": "2023-09-14T02:41:54.333898Z",
     "iopub.status.idle": "2023-09-14T02:41:54.343777Z",
     "shell.execute_reply.started": "2023-09-14T02:41:54.333838Z",
     "shell.execute_reply": "2023-09-14T02:41:54.342715Z"
    },
    "trusted": true
   },
   "execution_count": 23,
   "outputs": [
    {
     "execution_count": 23,
     "output_type": "execute_result",
     "data": {
      "text/plain": "5"
     },
     "metadata": {}
    }
   ]
  },
  {
   "cell_type": "code",
   "source": [
    "x1[4]"
   ],
   "metadata": {
    "execution": {
     "iopub.status.busy": "2023-09-14T02:41:54.345309Z",
     "iopub.execute_input": "2023-09-14T02:41:54.346013Z",
     "iopub.status.idle": "2023-09-14T02:41:54.354950Z",
     "shell.execute_reply.started": "2023-09-14T02:41:54.345953Z",
     "shell.execute_reply": "2023-09-14T02:41:54.354084Z"
    },
    "trusted": true
   },
   "execution_count": 24,
   "outputs": [
    {
     "execution_count": 24,
     "output_type": "execute_result",
     "data": {
      "text/plain": "7"
     },
     "metadata": {}
    }
   ]
  },
  {
   "cell_type": "code",
   "source": [
    "#To index from the end of the array, you can use negative indices:\n",
    "\n",
    "x1[-1]"
   ],
   "metadata": {
    "execution": {
     "iopub.status.busy": "2023-09-14T02:41:54.356373Z",
     "iopub.execute_input": "2023-09-14T02:41:54.356957Z",
     "iopub.status.idle": "2023-09-14T02:41:54.369449Z",
     "shell.execute_reply.started": "2023-09-14T02:41:54.356883Z",
     "shell.execute_reply": "2023-09-14T02:41:54.368387Z"
    },
    "trusted": true
   },
   "execution_count": 25,
   "outputs": [
    {
     "execution_count": 25,
     "output_type": "execute_result",
     "data": {
      "text/plain": "9"
     },
     "metadata": {}
    }
   ]
  },
  {
   "cell_type": "code",
   "source": [
    "x1[-2]"
   ],
   "metadata": {
    "execution": {
     "iopub.status.busy": "2023-09-14T02:41:54.370985Z",
     "iopub.execute_input": "2023-09-14T02:41:54.371556Z",
     "iopub.status.idle": "2023-09-14T02:41:54.381287Z",
     "shell.execute_reply.started": "2023-09-14T02:41:54.371475Z",
     "shell.execute_reply": "2023-09-14T02:41:54.380525Z"
    },
    "trusted": true
   },
   "execution_count": 26,
   "outputs": [
    {
     "execution_count": 26,
     "output_type": "execute_result",
     "data": {
      "text/plain": "7"
     },
     "metadata": {}
    }
   ]
  },
  {
   "cell_type": "markdown",
   "source": [
    "* In a multidimensional array, you access items using a comma-separated tuple of indices:"
   ],
   "metadata": {}
  },
  {
   "cell_type": "code",
   "source": [
    "x2"
   ],
   "metadata": {
    "execution": {
     "iopub.status.busy": "2023-09-14T02:41:54.382464Z",
     "iopub.execute_input": "2023-09-14T02:41:54.382888Z",
     "iopub.status.idle": "2023-09-14T02:41:54.393847Z",
     "shell.execute_reply.started": "2023-09-14T02:41:54.382844Z",
     "shell.execute_reply": "2023-09-14T02:41:54.393085Z"
    },
    "trusted": true
   },
   "execution_count": 27,
   "outputs": [
    {
     "execution_count": 27,
     "output_type": "execute_result",
     "data": {
      "text/plain": "array([[3, 5, 2, 4],\n       [7, 6, 8, 8],\n       [1, 6, 7, 7]])"
     },
     "metadata": {}
    }
   ]
  },
  {
   "cell_type": "code",
   "source": [
    "x2[2,1]"
   ],
   "metadata": {
    "execution": {
     "iopub.status.busy": "2023-09-14T02:41:54.395421Z",
     "iopub.execute_input": "2023-09-14T02:41:54.395991Z",
     "iopub.status.idle": "2023-09-14T02:41:54.404742Z",
     "shell.execute_reply.started": "2023-09-14T02:41:54.395931Z",
     "shell.execute_reply": "2023-09-14T02:41:54.403821Z"
    },
    "trusted": true
   },
   "execution_count": 28,
   "outputs": [
    {
     "execution_count": 28,
     "output_type": "execute_result",
     "data": {
      "text/plain": "6"
     },
     "metadata": {}
    }
   ]
  },
  {
   "cell_type": "code",
   "source": [
    "x2[2,0]"
   ],
   "metadata": {
    "execution": {
     "iopub.status.busy": "2023-09-14T02:41:54.406790Z",
     "iopub.execute_input": "2023-09-14T02:41:54.407423Z",
     "iopub.status.idle": "2023-09-14T02:41:54.417556Z",
     "shell.execute_reply.started": "2023-09-14T02:41:54.407363Z",
     "shell.execute_reply": "2023-09-14T02:41:54.416669Z"
    },
    "trusted": true
   },
   "execution_count": 29,
   "outputs": [
    {
     "execution_count": 29,
     "output_type": "execute_result",
     "data": {
      "text/plain": "1"
     },
     "metadata": {}
    }
   ]
  },
  {
   "cell_type": "code",
   "source": [
    "x2[2,-4]"
   ],
   "metadata": {
    "execution": {
     "iopub.status.busy": "2023-09-14T02:41:54.419490Z",
     "iopub.execute_input": "2023-09-14T02:41:54.419943Z",
     "iopub.status.idle": "2023-09-14T02:41:54.430208Z",
     "shell.execute_reply.started": "2023-09-14T02:41:54.419798Z",
     "shell.execute_reply": "2023-09-14T02:41:54.428961Z"
    },
    "trusted": true
   },
   "execution_count": 30,
   "outputs": [
    {
     "execution_count": 30,
     "output_type": "execute_result",
     "data": {
      "text/plain": "1"
     },
     "metadata": {}
    }
   ]
  },
  {
   "cell_type": "code",
   "source": [
    "x2[-2,-3]"
   ],
   "metadata": {
    "execution": {
     "iopub.status.busy": "2023-09-14T02:41:54.431894Z",
     "iopub.execute_input": "2023-09-14T02:41:54.432290Z",
     "iopub.status.idle": "2023-09-14T02:41:54.441514Z",
     "shell.execute_reply.started": "2023-09-14T02:41:54.432214Z",
     "shell.execute_reply": "2023-09-14T02:41:54.440564Z"
    },
    "trusted": true
   },
   "execution_count": 31,
   "outputs": [
    {
     "execution_count": 31,
     "output_type": "execute_result",
     "data": {
      "text/plain": "6"
     },
     "metadata": {}
    }
   ]
  },
  {
   "cell_type": "code",
   "source": [
    "#You can also modify values using any of the above index notation:\n",
    "\n",
    "x2[0,0]=12\n",
    "x2"
   ],
   "metadata": {
    "execution": {
     "iopub.status.busy": "2023-09-14T02:41:54.456533Z",
     "iopub.execute_input": "2023-09-14T02:41:54.457089Z",
     "iopub.status.idle": "2023-09-14T02:41:54.464835Z",
     "shell.execute_reply.started": "2023-09-14T02:41:54.457035Z",
     "shell.execute_reply": "2023-09-14T02:41:54.463943Z"
    },
    "trusted": true
   },
   "execution_count": 32,
   "outputs": [
    {
     "execution_count": 32,
     "output_type": "execute_result",
     "data": {
      "text/plain": "array([[12,  5,  2,  4],\n       [ 7,  6,  8,  8],\n       [ 1,  6,  7,  7]])"
     },
     "metadata": {}
    }
   ]
  },
  {
   "cell_type": "code",
   "source": [
    "x1"
   ],
   "metadata": {
    "execution": {
     "iopub.status.busy": "2023-09-14T02:41:54.471598Z",
     "iopub.execute_input": "2023-09-14T02:41:54.471987Z",
     "iopub.status.idle": "2023-09-14T02:41:54.478023Z",
     "shell.execute_reply.started": "2023-09-14T02:41:54.471887Z",
     "shell.execute_reply": "2023-09-14T02:41:54.477161Z"
    },
    "trusted": true
   },
   "execution_count": 33,
   "outputs": [
    {
     "execution_count": 33,
     "output_type": "execute_result",
     "data": {
      "text/plain": "array([5, 0, 3, 3, 7, 9])"
     },
     "metadata": {}
    }
   ]
  },
  {
   "cell_type": "code",
   "source": [
    "x1[0] = 3.14159 # this will be truncated!\n",
    "x1"
   ],
   "metadata": {
    "execution": {
     "iopub.status.busy": "2023-09-14T02:41:54.479377Z",
     "iopub.execute_input": "2023-09-14T02:41:54.479791Z",
     "iopub.status.idle": "2023-09-14T02:41:54.490507Z",
     "shell.execute_reply.started": "2023-09-14T02:41:54.479609Z",
     "shell.execute_reply": "2023-09-14T02:41:54.489713Z"
    },
    "trusted": true
   },
   "execution_count": 34,
   "outputs": [
    {
     "execution_count": 34,
     "output_type": "execute_result",
     "data": {
      "text/plain": "array([3, 0, 3, 3, 7, 9])"
     },
     "metadata": {}
    }
   ]
  },
  {
   "cell_type": "markdown",
   "source": [
    "<a id=\"8\"></a> <br>\n",
    "### Array Slicing: Accessing Subarrays"
   ],
   "metadata": {}
  },
  {
   "cell_type": "markdown",
   "source": [
    "* Just as we can use square brackets to access individual array elements, we can also use\n",
    "them to access subarrays with the slice notation, marked by the colon (:) character.\n",
    "The NumPy slicing syntax follows that of the standard Python list; to access a slice of\n",
    "an array x, use this:\n",
    "* x[start:stop:step]\n",
    "* If any of these are unspecified, they default to the values start=0, stop=size of\n",
    "dimension, step=1. We’ll take a look at accessing subarrays in one dimension and in\n",
    "multiple dimensions."
   ],
   "metadata": {}
  },
  {
   "cell_type": "markdown",
   "source": [
    "<a id=\"43\"></a> <br>\n",
    "#### One-dimensional subarrays"
   ],
   "metadata": {}
  },
  {
   "cell_type": "code",
   "source": [
    "x = np.arange(10)\n",
    "x"
   ],
   "metadata": {
    "execution": {
     "iopub.status.busy": "2023-09-14T02:41:54.491896Z",
     "iopub.execute_input": "2023-09-14T02:41:54.492492Z",
     "iopub.status.idle": "2023-09-14T02:41:54.505126Z",
     "shell.execute_reply.started": "2023-09-14T02:41:54.492424Z",
     "shell.execute_reply": "2023-09-14T02:41:54.503557Z"
    },
    "trusted": true
   },
   "execution_count": 35,
   "outputs": [
    {
     "execution_count": 35,
     "output_type": "execute_result",
     "data": {
      "text/plain": "array([0, 1, 2, 3, 4, 5, 6, 7, 8, 9])"
     },
     "metadata": {}
    }
   ]
  },
  {
   "cell_type": "code",
   "source": [
    "x[:5] # first five elements"
   ],
   "metadata": {
    "execution": {
     "iopub.status.busy": "2023-09-14T02:41:54.506888Z",
     "iopub.execute_input": "2023-09-14T02:41:54.507489Z",
     "iopub.status.idle": "2023-09-14T02:41:54.516939Z",
     "shell.execute_reply.started": "2023-09-14T02:41:54.507220Z",
     "shell.execute_reply": "2023-09-14T02:41:54.516076Z"
    },
    "trusted": true
   },
   "execution_count": 36,
   "outputs": [
    {
     "execution_count": 36,
     "output_type": "execute_result",
     "data": {
      "text/plain": "array([0, 1, 2, 3, 4])"
     },
     "metadata": {}
    }
   ]
  },
  {
   "cell_type": "code",
   "source": [
    "x[5:] # elements after index 5"
   ],
   "metadata": {
    "execution": {
     "iopub.status.busy": "2023-09-14T02:41:54.518542Z",
     "iopub.execute_input": "2023-09-14T02:41:54.519129Z",
     "iopub.status.idle": "2023-09-14T02:41:54.527372Z",
     "shell.execute_reply.started": "2023-09-14T02:41:54.519080Z",
     "shell.execute_reply": "2023-09-14T02:41:54.526429Z"
    },
    "trusted": true
   },
   "execution_count": 37,
   "outputs": [
    {
     "execution_count": 37,
     "output_type": "execute_result",
     "data": {
      "text/plain": "array([5, 6, 7, 8, 9])"
     },
     "metadata": {}
    }
   ]
  },
  {
   "cell_type": "code",
   "source": [
    "x[4:7]# middle subarray"
   ],
   "metadata": {
    "execution": {
     "iopub.status.busy": "2023-09-14T02:41:54.528794Z",
     "iopub.execute_input": "2023-09-14T02:41:54.529279Z",
     "iopub.status.idle": "2023-09-14T02:41:54.541151Z",
     "shell.execute_reply.started": "2023-09-14T02:41:54.529235Z",
     "shell.execute_reply": "2023-09-14T02:41:54.540075Z"
    },
    "trusted": true
   },
   "execution_count": 38,
   "outputs": [
    {
     "execution_count": 38,
     "output_type": "execute_result",
     "data": {
      "text/plain": "array([4, 5, 6])"
     },
     "metadata": {}
    }
   ]
  },
  {
   "cell_type": "code",
   "source": [
    "x[::2] # every other element"
   ],
   "metadata": {
    "execution": {
     "iopub.status.busy": "2023-09-14T02:41:54.542887Z",
     "iopub.execute_input": "2023-09-14T02:41:54.543483Z",
     "iopub.status.idle": "2023-09-14T02:41:54.553498Z",
     "shell.execute_reply.started": "2023-09-14T02:41:54.543217Z",
     "shell.execute_reply": "2023-09-14T02:41:54.552397Z"
    },
    "trusted": true
   },
   "execution_count": 39,
   "outputs": [
    {
     "execution_count": 39,
     "output_type": "execute_result",
     "data": {
      "text/plain": "array([0, 2, 4, 6, 8])"
     },
     "metadata": {}
    }
   ]
  },
  {
   "cell_type": "code",
   "source": [
    "x[1::2] #every other element, starting at index 1"
   ],
   "metadata": {
    "execution": {
     "iopub.status.busy": "2023-09-14T02:41:54.555242Z",
     "iopub.execute_input": "2023-09-14T02:41:54.555787Z",
     "iopub.status.idle": "2023-09-14T02:41:54.565037Z",
     "shell.execute_reply.started": "2023-09-14T02:41:54.555729Z",
     "shell.execute_reply": "2023-09-14T02:41:54.564237Z"
    },
    "trusted": true
   },
   "execution_count": 40,
   "outputs": [
    {
     "execution_count": 40,
     "output_type": "execute_result",
     "data": {
      "text/plain": "array([1, 3, 5, 7, 9])"
     },
     "metadata": {}
    }
   ]
  },
  {
   "cell_type": "code",
   "source": [
    "x[-7:-2:2]"
   ],
   "metadata": {
    "execution": {
     "iopub.status.busy": "2023-09-14T02:41:54.566612Z",
     "iopub.execute_input": "2023-09-14T02:41:54.566990Z",
     "iopub.status.idle": "2023-09-14T02:41:54.578221Z",
     "shell.execute_reply.started": "2023-09-14T02:41:54.566924Z",
     "shell.execute_reply": "2023-09-14T02:41:54.577167Z"
    },
    "trusted": true
   },
   "execution_count": 41,
   "outputs": [
    {
     "execution_count": 41,
     "output_type": "execute_result",
     "data": {
      "text/plain": "array([3, 5, 7])"
     },
     "metadata": {}
    }
   ]
  },
  {
   "cell_type": "code",
   "source": [
    "x[-4:-2:1]"
   ],
   "metadata": {
    "execution": {
     "iopub.status.busy": "2023-09-14T02:41:54.579780Z",
     "iopub.execute_input": "2023-09-14T02:41:54.580378Z",
     "iopub.status.idle": "2023-09-14T02:41:54.590668Z",
     "shell.execute_reply.started": "2023-09-14T02:41:54.580086Z",
     "shell.execute_reply": "2023-09-14T02:41:54.589533Z"
    },
    "trusted": true
   },
   "execution_count": 42,
   "outputs": [
    {
     "execution_count": 42,
     "output_type": "execute_result",
     "data": {
      "text/plain": "array([6, 7])"
     },
     "metadata": {}
    }
   ]
  },
  {
   "cell_type": "code",
   "source": [
    "# A potentially confusing case is when the step value is negative. In this case, the\n",
    "# defaults for start and stop are swapped. This becomes a convenient way to reverse\n",
    "# an array:\n",
    "\n",
    "x[::-1] # all elements, reversed"
   ],
   "metadata": {
    "execution": {
     "iopub.status.busy": "2023-09-14T02:41:54.592152Z",
     "iopub.execute_input": "2023-09-14T02:41:54.592474Z",
     "iopub.status.idle": "2023-09-14T02:41:54.603720Z",
     "shell.execute_reply.started": "2023-09-14T02:41:54.592411Z",
     "shell.execute_reply": "2023-09-14T02:41:54.602932Z"
    },
    "trusted": true
   },
   "execution_count": 43,
   "outputs": [
    {
     "execution_count": 43,
     "output_type": "execute_result",
     "data": {
      "text/plain": "array([9, 8, 7, 6, 5, 4, 3, 2, 1, 0])"
     },
     "metadata": {}
    }
   ]
  },
  {
   "cell_type": "code",
   "source": [
    "x[5::-2]# reversed every other from index 5"
   ],
   "metadata": {
    "execution": {
     "iopub.status.busy": "2023-09-14T02:41:54.605482Z",
     "iopub.execute_input": "2023-09-14T02:41:54.606060Z",
     "iopub.status.idle": "2023-09-14T02:41:54.622060Z",
     "shell.execute_reply.started": "2023-09-14T02:41:54.605986Z",
     "shell.execute_reply": "2023-09-14T02:41:54.620607Z"
    },
    "trusted": true
   },
   "execution_count": 44,
   "outputs": [
    {
     "execution_count": 44,
     "output_type": "execute_result",
     "data": {
      "text/plain": "array([5, 3, 1])"
     },
     "metadata": {}
    }
   ]
  },
  {
   "cell_type": "code",
   "source": [
    "x[5:1:-2]"
   ],
   "metadata": {
    "execution": {
     "iopub.status.busy": "2023-09-14T02:41:54.623473Z",
     "iopub.execute_input": "2023-09-14T02:41:54.624018Z",
     "iopub.status.idle": "2023-09-14T02:41:54.633553Z",
     "shell.execute_reply.started": "2023-09-14T02:41:54.623959Z",
     "shell.execute_reply": "2023-09-14T02:41:54.632565Z"
    },
    "trusted": true
   },
   "execution_count": 45,
   "outputs": [
    {
     "execution_count": 45,
     "output_type": "execute_result",
     "data": {
      "text/plain": "array([5, 3])"
     },
     "metadata": {}
    }
   ]
  },
  {
   "cell_type": "code",
   "source": [
    "x[5:-8:-1]"
   ],
   "metadata": {
    "execution": {
     "iopub.status.busy": "2023-09-14T02:41:54.634936Z",
     "iopub.execute_input": "2023-09-14T02:41:54.635312Z",
     "iopub.status.idle": "2023-09-14T02:41:54.648258Z",
     "shell.execute_reply.started": "2023-09-14T02:41:54.635250Z",
     "shell.execute_reply": "2023-09-14T02:41:54.647322Z"
    },
    "trusted": true
   },
   "execution_count": 46,
   "outputs": [
    {
     "execution_count": 46,
     "output_type": "execute_result",
     "data": {
      "text/plain": "array([5, 4, 3])"
     },
     "metadata": {}
    }
   ]
  },
  {
   "cell_type": "code",
   "source": [
    "x[7:-6:-1]"
   ],
   "metadata": {
    "execution": {
     "iopub.status.busy": "2023-09-14T02:41:54.649695Z",
     "iopub.execute_input": "2023-09-14T02:41:54.650171Z",
     "iopub.status.idle": "2023-09-14T02:41:54.661141Z",
     "shell.execute_reply.started": "2023-09-14T02:41:54.650102Z",
     "shell.execute_reply": "2023-09-14T02:41:54.660379Z"
    },
    "trusted": true
   },
   "execution_count": 47,
   "outputs": [
    {
     "execution_count": 47,
     "output_type": "execute_result",
     "data": {
      "text/plain": "array([7, 6, 5])"
     },
     "metadata": {}
    }
   ]
  },
  {
   "cell_type": "code",
   "source": [
    "x[-7:-8:-1]"
   ],
   "metadata": {
    "execution": {
     "iopub.status.busy": "2023-09-14T02:41:54.662484Z",
     "iopub.execute_input": "2023-09-14T02:41:54.662961Z",
     "iopub.status.idle": "2023-09-14T02:41:54.677398Z",
     "shell.execute_reply.started": "2023-09-14T02:41:54.662860Z",
     "shell.execute_reply": "2023-09-14T02:41:54.676614Z"
    },
    "trusted": true
   },
   "execution_count": 48,
   "outputs": [
    {
     "execution_count": 48,
     "output_type": "execute_result",
     "data": {
      "text/plain": "array([3])"
     },
     "metadata": {}
    }
   ]
  },
  {
   "cell_type": "markdown",
   "source": [
    "<a id=\"44\"></a> <br>\n",
    "#### Multidimensional subarrays"
   ],
   "metadata": {}
  },
  {
   "cell_type": "code",
   "source": [
    "# Multidimensional slices work in the same way, with multiple slices separated by commas.\n",
    "# For example:\n",
    "\n",
    "x2"
   ],
   "metadata": {
    "execution": {
     "iopub.status.busy": "2023-09-14T02:41:54.678479Z",
     "iopub.execute_input": "2023-09-14T02:41:54.678854Z",
     "iopub.status.idle": "2023-09-14T02:41:54.688729Z",
     "shell.execute_reply.started": "2023-09-14T02:41:54.678814Z",
     "shell.execute_reply": "2023-09-14T02:41:54.688065Z"
    },
    "trusted": true
   },
   "execution_count": 49,
   "outputs": [
    {
     "execution_count": 49,
     "output_type": "execute_result",
     "data": {
      "text/plain": "array([[12,  5,  2,  4],\n       [ 7,  6,  8,  8],\n       [ 1,  6,  7,  7]])"
     },
     "metadata": {}
    }
   ]
  },
  {
   "cell_type": "code",
   "source": [
    "# two rows, three columns\n",
    "\n",
    "x2[:2, :3]"
   ],
   "metadata": {
    "execution": {
     "iopub.status.busy": "2023-09-14T02:41:54.689789Z",
     "iopub.execute_input": "2023-09-14T02:41:54.690333Z",
     "iopub.status.idle": "2023-09-14T02:41:54.702340Z",
     "shell.execute_reply.started": "2023-09-14T02:41:54.690289Z",
     "shell.execute_reply": "2023-09-14T02:41:54.701374Z"
    },
    "trusted": true
   },
   "execution_count": 50,
   "outputs": [
    {
     "execution_count": 50,
     "output_type": "execute_result",
     "data": {
      "text/plain": "array([[12,  5,  2],\n       [ 7,  6,  8]])"
     },
     "metadata": {}
    }
   ]
  },
  {
   "cell_type": "code",
   "source": [
    "# all rows, every other column\n",
    "\n",
    "x2[:3,::2]"
   ],
   "metadata": {
    "execution": {
     "iopub.status.busy": "2023-09-14T02:41:54.703503Z",
     "iopub.execute_input": "2023-09-14T02:41:54.703869Z",
     "iopub.status.idle": "2023-09-14T02:41:54.714031Z",
     "shell.execute_reply.started": "2023-09-14T02:41:54.703829Z",
     "shell.execute_reply": "2023-09-14T02:41:54.713321Z"
    },
    "trusted": true
   },
   "execution_count": 51,
   "outputs": [
    {
     "execution_count": 51,
     "output_type": "execute_result",
     "data": {
      "text/plain": "array([[12,  2],\n       [ 7,  8],\n       [ 1,  7]])"
     },
     "metadata": {}
    }
   ]
  },
  {
   "cell_type": "code",
   "source": [
    "#Finally, subarray dimensions can even be reversed together:\n",
    "\n",
    "x2[::-1,::-1]"
   ],
   "metadata": {
    "execution": {
     "iopub.status.busy": "2023-09-14T02:41:54.715251Z",
     "iopub.execute_input": "2023-09-14T02:41:54.715632Z",
     "iopub.status.idle": "2023-09-14T02:41:54.726655Z",
     "shell.execute_reply.started": "2023-09-14T02:41:54.715592Z",
     "shell.execute_reply": "2023-09-14T02:41:54.725982Z"
    },
    "trusted": true
   },
   "execution_count": 52,
   "outputs": [
    {
     "execution_count": 52,
     "output_type": "execute_result",
     "data": {
      "text/plain": "array([[ 7,  7,  6,  1],\n       [ 8,  8,  6,  7],\n       [ 4,  2,  5, 12]])"
     },
     "metadata": {}
    }
   ]
  },
  {
   "cell_type": "markdown",
   "source": [
    "<a id=\"45\"></a> <br>\n",
    "#### Accessing array rows and columns"
   ],
   "metadata": {}
  },
  {
   "cell_type": "code",
   "source": [
    "# One commonly needed routine is accessing single\n",
    "# rows or columns of an array. You can do this by combining indexing and slicing,\n",
    "# using an empty slice marked by a single colon (:):\n",
    "\n",
    "print(x2[:, 0]) # first column of x2"
   ],
   "metadata": {
    "execution": {
     "iopub.status.busy": "2023-09-14T02:41:54.727720Z",
     "iopub.execute_input": "2023-09-14T02:41:54.728097Z",
     "iopub.status.idle": "2023-09-14T02:41:54.738805Z",
     "shell.execute_reply.started": "2023-09-14T02:41:54.728056Z",
     "shell.execute_reply": "2023-09-14T02:41:54.738108Z"
    },
    "trusted": true
   },
   "execution_count": 53,
   "outputs": [
    {
     "name": "stdout",
     "text": "[12  7  1]\n",
     "output_type": "stream"
    }
   ]
  },
  {
   "cell_type": "code",
   "source": [
    "print(x2[0,:]) # first row of x2"
   ],
   "metadata": {
    "execution": {
     "iopub.status.busy": "2023-09-14T02:41:54.740346Z",
     "iopub.execute_input": "2023-09-14T02:41:54.740826Z",
     "iopub.status.idle": "2023-09-14T02:41:54.752665Z",
     "shell.execute_reply.started": "2023-09-14T02:41:54.740613Z",
     "shell.execute_reply": "2023-09-14T02:41:54.751817Z"
    },
    "trusted": true
   },
   "execution_count": 54,
   "outputs": [
    {
     "name": "stdout",
     "text": "[12  5  2  4]\n",
     "output_type": "stream"
    }
   ]
  },
  {
   "cell_type": "code",
   "source": [
    "#In the case of row access, the empty slice can be omitted for a more compact syntax:\n",
    "\n",
    "print(x2[0]) # equivalent to x2[0, :]"
   ],
   "metadata": {
    "execution": {
     "iopub.status.busy": "2023-09-14T02:41:54.754322Z",
     "iopub.execute_input": "2023-09-14T02:41:54.754893Z",
     "iopub.status.idle": "2023-09-14T02:41:54.766607Z",
     "shell.execute_reply.started": "2023-09-14T02:41:54.754831Z",
     "shell.execute_reply": "2023-09-14T02:41:54.765498Z"
    },
    "trusted": true
   },
   "execution_count": 55,
   "outputs": [
    {
     "name": "stdout",
     "text": "[12  5  2  4]\n",
     "output_type": "stream"
    }
   ]
  },
  {
   "cell_type": "markdown",
   "source": [
    "<a id=\"46\"></a> <br>\n",
    "#### Subarrays as no-copy views"
   ],
   "metadata": {}
  },
  {
   "cell_type": "markdown",
   "source": [
    "* One important—and extremely useful—thing to know about array slices is that they\n",
    "return views rather than copies of the array data. This is one area in which NumPy\n",
    "array slicing differs from Python list slicing: in lists, slices will be copies. Consider our\n",
    "two-dimensional array from before:"
   ],
   "metadata": {}
  },
  {
   "cell_type": "code",
   "source": [
    "print(x2)"
   ],
   "metadata": {
    "execution": {
     "iopub.status.busy": "2023-09-14T02:41:54.768256Z",
     "iopub.execute_input": "2023-09-14T02:41:54.768876Z",
     "iopub.status.idle": "2023-09-14T02:41:54.779565Z",
     "shell.execute_reply.started": "2023-09-14T02:41:54.768809Z",
     "shell.execute_reply": "2023-09-14T02:41:54.778535Z"
    },
    "trusted": true
   },
   "execution_count": 56,
   "outputs": [
    {
     "name": "stdout",
     "text": "[[12  5  2  4]\n [ 7  6  8  8]\n [ 1  6  7  7]]\n",
     "output_type": "stream"
    }
   ]
  },
  {
   "cell_type": "code",
   "source": [
    "#Let’s extract a 2×2 subarray from this:\n",
    "\n",
    "x2_sub = x2[:2,:2]\n",
    "print(x2_sub)"
   ],
   "metadata": {
    "execution": {
     "iopub.status.busy": "2023-09-14T02:41:54.781279Z",
     "iopub.execute_input": "2023-09-14T02:41:54.781848Z",
     "iopub.status.idle": "2023-09-14T02:41:54.795401Z",
     "shell.execute_reply.started": "2023-09-14T02:41:54.781787Z",
     "shell.execute_reply": "2023-09-14T02:41:54.794263Z"
    },
    "trusted": true
   },
   "execution_count": 57,
   "outputs": [
    {
     "name": "stdout",
     "text": "[[12  5]\n [ 7  6]]\n",
     "output_type": "stream"
    }
   ]
  },
  {
   "cell_type": "code",
   "source": [
    "#Now if we modify this subarray, we’ll see that the original array is changed! Observe:\n",
    "\n",
    "x2_sub[0,0] = 99\n",
    "print(x2_sub)"
   ],
   "metadata": {
    "execution": {
     "iopub.status.busy": "2023-09-14T02:41:54.796961Z",
     "iopub.execute_input": "2023-09-14T02:41:54.797450Z",
     "iopub.status.idle": "2023-09-14T02:41:54.808740Z",
     "shell.execute_reply.started": "2023-09-14T02:41:54.797405Z",
     "shell.execute_reply": "2023-09-14T02:41:54.807497Z"
    },
    "trusted": true
   },
   "execution_count": 58,
   "outputs": [
    {
     "name": "stdout",
     "text": "[[99  5]\n [ 7  6]]\n",
     "output_type": "stream"
    }
   ]
  },
  {
   "cell_type": "code",
   "source": [
    "print(x2)"
   ],
   "metadata": {
    "execution": {
     "iopub.status.busy": "2023-09-14T02:41:54.810553Z",
     "iopub.execute_input": "2023-09-14T02:41:54.810994Z",
     "iopub.status.idle": "2023-09-14T02:41:54.821737Z",
     "shell.execute_reply.started": "2023-09-14T02:41:54.810941Z",
     "shell.execute_reply": "2023-09-14T02:41:54.820991Z"
    },
    "trusted": true
   },
   "execution_count": 59,
   "outputs": [
    {
     "name": "stdout",
     "text": "[[99  5  2  4]\n [ 7  6  8  8]\n [ 1  6  7  7]]\n",
     "output_type": "stream"
    }
   ]
  },
  {
   "cell_type": "markdown",
   "source": [
    "* This default behavior is actually quite useful: it means that when we work with large\n",
    "datasets, we can access and process pieces of these datasets without the need to copy\n",
    "the underlying data buffer."
   ],
   "metadata": {}
  },
  {
   "cell_type": "markdown",
   "source": [
    "<a id=\"47\"></a> <br>\n",
    "#### Creating copies of arrays"
   ],
   "metadata": {}
  },
  {
   "cell_type": "markdown",
   "source": [
    "* Despite the nice features of array views, it is sometimes useful to instead explicitly\n",
    "copy the data within an array or a subarray. This can be most easily done with the\n",
    "copy() method:"
   ],
   "metadata": {}
  },
  {
   "cell_type": "code",
   "source": [
    "x2_sub_copy = x2[:2,:2].copy()\n",
    "print(x2_sub_copy)"
   ],
   "metadata": {
    "execution": {
     "iopub.status.busy": "2023-09-14T02:41:54.823087Z",
     "iopub.execute_input": "2023-09-14T02:41:54.823524Z",
     "iopub.status.idle": "2023-09-14T02:41:54.834981Z",
     "shell.execute_reply.started": "2023-09-14T02:41:54.823479Z",
     "shell.execute_reply": "2023-09-14T02:41:54.834207Z"
    },
    "trusted": true
   },
   "execution_count": 60,
   "outputs": [
    {
     "name": "stdout",
     "text": "[[99  5]\n [ 7  6]]\n",
     "output_type": "stream"
    }
   ]
  },
  {
   "cell_type": "code",
   "source": [
    "#If we now modify this subarray, the original array is not touched:\n",
    "\n",
    "x2_sub_copy[0,0] = 42\n",
    "print(x2_sub_copy)"
   ],
   "metadata": {
    "execution": {
     "iopub.status.busy": "2023-09-14T02:41:54.836370Z",
     "iopub.execute_input": "2023-09-14T02:41:54.836666Z",
     "iopub.status.idle": "2023-09-14T02:41:54.846922Z",
     "shell.execute_reply.started": "2023-09-14T02:41:54.836620Z",
     "shell.execute_reply": "2023-09-14T02:41:54.846096Z"
    },
    "trusted": true
   },
   "execution_count": 61,
   "outputs": [
    {
     "name": "stdout",
     "text": "[[42  5]\n [ 7  6]]\n",
     "output_type": "stream"
    }
   ]
  },
  {
   "cell_type": "code",
   "source": [
    "print(x2)"
   ],
   "metadata": {
    "execution": {
     "iopub.status.busy": "2023-09-14T02:41:54.848401Z",
     "iopub.execute_input": "2023-09-14T02:41:54.848831Z",
     "iopub.status.idle": "2023-09-14T02:41:54.861123Z",
     "shell.execute_reply.started": "2023-09-14T02:41:54.848761Z",
     "shell.execute_reply": "2023-09-14T02:41:54.860052Z"
    },
    "trusted": true
   },
   "execution_count": 62,
   "outputs": [
    {
     "name": "stdout",
     "text": "[[99  5  2  4]\n [ 7  6  8  8]\n [ 1  6  7  7]]\n",
     "output_type": "stream"
    }
   ]
  },
  {
   "cell_type": "markdown",
   "source": [
    "<a id=\"9\"></a> <br>\n",
    "### Reshaping of Arrays"
   ],
   "metadata": {}
  },
  {
   "cell_type": "code",
   "source": [
    "# Another useful type of operation is reshaping of arrays. The most flexible way of\n",
    "# doing this is with the reshape() method. For example, if you want to put the numbers\n",
    "# 1 through 9 in a 3×3 grid, you can do the following:\n",
    "\n",
    "grid = np.arange(1,10,1).reshape(3,3)\n",
    "print(grid)"
   ],
   "metadata": {
    "execution": {
     "iopub.status.busy": "2023-09-14T02:41:54.862601Z",
     "iopub.execute_input": "2023-09-14T02:41:54.863091Z",
     "iopub.status.idle": "2023-09-14T02:41:54.875651Z",
     "shell.execute_reply.started": "2023-09-14T02:41:54.863043Z",
     "shell.execute_reply": "2023-09-14T02:41:54.874561Z"
    },
    "trusted": true
   },
   "execution_count": 63,
   "outputs": [
    {
     "name": "stdout",
     "text": "[[1 2 3]\n [4 5 6]\n [7 8 9]]\n",
     "output_type": "stream"
    }
   ]
  },
  {
   "cell_type": "markdown",
   "source": [
    "* Where possible, the reshape method will use a no-copy view of the\n",
    "initial array, but with noncontiguous memory buffers this is not always the case.\n",
    "\n",
    "* Another common reshaping pattern is the conversion of a one-dimensional array\n",
    "into a two-dimensional row or column matrix. You can do this with the reshape\n",
    "method, or more easily by making use of the newaxis keyword within a slice operation:"
   ],
   "metadata": {}
  },
  {
   "cell_type": "code",
   "source": [
    "x = np.array([1, 2, 3])\n",
    "x.shape # x is a vector (3,)"
   ],
   "metadata": {
    "execution": {
     "iopub.status.busy": "2023-09-14T02:41:54.877213Z",
     "iopub.execute_input": "2023-09-14T02:41:54.877548Z",
     "iopub.status.idle": "2023-09-14T02:41:54.892203Z",
     "shell.execute_reply.started": "2023-09-14T02:41:54.877466Z",
     "shell.execute_reply": "2023-09-14T02:41:54.890622Z"
    },
    "trusted": true
   },
   "execution_count": 64,
   "outputs": [
    {
     "execution_count": 64,
     "output_type": "execute_result",
     "data": {
      "text/plain": "(3,)"
     },
     "metadata": {}
    }
   ]
  },
  {
   "cell_type": "code",
   "source": [
    "# row vector via reshape\n",
    "\n",
    "x.reshape(1,3).shape"
   ],
   "metadata": {
    "execution": {
     "iopub.status.busy": "2023-09-14T02:41:54.893519Z",
     "iopub.execute_input": "2023-09-14T02:41:54.894100Z",
     "iopub.status.idle": "2023-09-14T02:41:54.905694Z",
     "shell.execute_reply.started": "2023-09-14T02:41:54.894050Z",
     "shell.execute_reply": "2023-09-14T02:41:54.904727Z"
    },
    "trusted": true
   },
   "execution_count": 65,
   "outputs": [
    {
     "execution_count": 65,
     "output_type": "execute_result",
     "data": {
      "text/plain": "(1, 3)"
     },
     "metadata": {}
    }
   ]
  },
  {
   "cell_type": "code",
   "source": [
    "# row vector via newaxis\n",
    "\n",
    "x[np.newaxis, :].shape"
   ],
   "metadata": {
    "execution": {
     "iopub.status.busy": "2023-09-14T02:41:54.907294Z",
     "iopub.execute_input": "2023-09-14T02:41:54.907872Z",
     "iopub.status.idle": "2023-09-14T02:41:54.917884Z",
     "shell.execute_reply.started": "2023-09-14T02:41:54.907814Z",
     "shell.execute_reply": "2023-09-14T02:41:54.916585Z"
    },
    "trusted": true
   },
   "execution_count": 66,
   "outputs": [
    {
     "execution_count": 66,
     "output_type": "execute_result",
     "data": {
      "text/plain": "(1, 3)"
     },
     "metadata": {}
    }
   ]
  },
  {
   "cell_type": "code",
   "source": [
    "x.reshape(1,-1).shape"
   ],
   "metadata": {
    "execution": {
     "iopub.status.busy": "2023-09-14T02:41:54.919199Z",
     "iopub.execute_input": "2023-09-14T02:41:54.919586Z",
     "iopub.status.idle": "2023-09-14T02:41:54.930132Z",
     "shell.execute_reply.started": "2023-09-14T02:41:54.919545Z",
     "shell.execute_reply": "2023-09-14T02:41:54.928756Z"
    },
    "trusted": true
   },
   "execution_count": 67,
   "outputs": [
    {
     "execution_count": 67,
     "output_type": "execute_result",
     "data": {
      "text/plain": "(1, 3)"
     },
     "metadata": {}
    }
   ]
  },
  {
   "cell_type": "code",
   "source": [
    "# column vector via reshape\n",
    "\n",
    "x.reshape((3, 1))"
   ],
   "metadata": {
    "execution": {
     "iopub.status.busy": "2023-09-14T02:41:54.931594Z",
     "iopub.execute_input": "2023-09-14T02:41:54.931887Z",
     "iopub.status.idle": "2023-09-14T02:41:54.943319Z",
     "shell.execute_reply.started": "2023-09-14T02:41:54.931835Z",
     "shell.execute_reply": "2023-09-14T02:41:54.942587Z"
    },
    "trusted": true
   },
   "execution_count": 68,
   "outputs": [
    {
     "execution_count": 68,
     "output_type": "execute_result",
     "data": {
      "text/plain": "array([[1],\n       [2],\n       [3]])"
     },
     "metadata": {}
    }
   ]
  },
  {
   "cell_type": "code",
   "source": [
    "# column vector via newaxis\n",
    "\n",
    "x[:, np.newaxis]"
   ],
   "metadata": {
    "execution": {
     "iopub.status.busy": "2023-09-14T02:41:54.945154Z",
     "iopub.execute_input": "2023-09-14T02:41:54.945708Z",
     "iopub.status.idle": "2023-09-14T02:41:54.955735Z",
     "shell.execute_reply.started": "2023-09-14T02:41:54.945648Z",
     "shell.execute_reply": "2023-09-14T02:41:54.955042Z"
    },
    "trusted": true
   },
   "execution_count": 69,
   "outputs": [
    {
     "execution_count": 69,
     "output_type": "execute_result",
     "data": {
      "text/plain": "array([[1],\n       [2],\n       [3]])"
     },
     "metadata": {}
    }
   ]
  },
  {
   "cell_type": "code",
   "source": [
    "x.reshape(-1,1).shape"
   ],
   "metadata": {
    "execution": {
     "iopub.status.busy": "2023-09-14T02:41:54.956806Z",
     "iopub.execute_input": "2023-09-14T02:41:54.957210Z",
     "iopub.status.idle": "2023-09-14T02:41:54.968676Z",
     "shell.execute_reply.started": "2023-09-14T02:41:54.957169Z",
     "shell.execute_reply": "2023-09-14T02:41:54.967719Z"
    },
    "trusted": true
   },
   "execution_count": 70,
   "outputs": [
    {
     "execution_count": 70,
     "output_type": "execute_result",
     "data": {
      "text/plain": "(3, 1)"
     },
     "metadata": {}
    }
   ]
  },
  {
   "cell_type": "markdown",
   "source": [
    "<img src=\"https://i.stack.imgur.com/zkMBy.png\" alt=\"cce\" border=\"0\">"
   ],
   "metadata": {}
  },
  {
   "cell_type": "markdown",
   "source": [
    "<a id=\"10\"></a> <br>\n",
    "### Array Concatenation and Splitting"
   ],
   "metadata": {}
  },
  {
   "cell_type": "markdown",
   "source": [
    "#### Concatenation of arrays"
   ],
   "metadata": {}
  },
  {
   "cell_type": "code",
   "source": [
    "x = np.array([1,2,3])\n",
    "y = np.array([3,2,1])\n",
    "np.concatenate((x, y))\n"
   ],
   "metadata": {
    "execution": {
     "iopub.status.busy": "2023-09-14T02:41:54.969827Z",
     "iopub.execute_input": "2023-09-14T02:41:54.970264Z",
     "iopub.status.idle": "2023-09-14T02:41:54.988152Z",
     "shell.execute_reply.started": "2023-09-14T02:41:54.970221Z",
     "shell.execute_reply": "2023-09-14T02:41:54.986958Z"
    },
    "trusted": true
   },
   "execution_count": 71,
   "outputs": [
    {
     "execution_count": 71,
     "output_type": "execute_result",
     "data": {
      "text/plain": "array([1, 2, 3, 3, 2, 1])"
     },
     "metadata": {}
    }
   ]
  },
  {
   "cell_type": "markdown",
   "source": [
    "* You can also concatenate more than two arrays at once:"
   ],
   "metadata": {}
  },
  {
   "cell_type": "code",
   "source": [
    "z = np.array([99,99,99]) #z =[99,99,99]\n",
    "\n",
    "print(np.concatenate((x,y,z)))"
   ],
   "metadata": {
    "execution": {
     "iopub.status.busy": "2023-09-14T02:41:54.989564Z",
     "iopub.execute_input": "2023-09-14T02:41:54.990065Z",
     "iopub.status.idle": "2023-09-14T02:41:54.999845Z",
     "shell.execute_reply.started": "2023-09-14T02:41:54.990018Z",
     "shell.execute_reply": "2023-09-14T02:41:54.998834Z"
    },
    "trusted": true
   },
   "execution_count": 72,
   "outputs": [
    {
     "name": "stdout",
     "text": "[ 1  2  3  3  2  1 99 99 99]\n",
     "output_type": "stream"
    }
   ]
  },
  {
   "cell_type": "markdown",
   "source": [
    "* np.concatenate can also be used for two-dimensional arrays:"
   ],
   "metadata": {}
  },
  {
   "cell_type": "code",
   "source": [
    "grid = np.array([[1,2,3],\n",
    "                [4,5,6]])"
   ],
   "metadata": {
    "execution": {
     "iopub.status.busy": "2023-09-14T02:41:55.001033Z",
     "iopub.execute_input": "2023-09-14T02:41:55.001295Z",
     "iopub.status.idle": "2023-09-14T02:41:55.011060Z",
     "shell.execute_reply.started": "2023-09-14T02:41:55.001250Z",
     "shell.execute_reply": "2023-09-14T02:41:55.010025Z"
    },
    "trusted": true
   },
   "execution_count": 73,
   "outputs": []
  },
  {
   "cell_type": "code",
   "source": [
    "# concatenate along the first axis\n",
    "\n",
    "np.concatenate((grid,grid))"
   ],
   "metadata": {
    "execution": {
     "iopub.status.busy": "2023-09-14T02:41:55.012624Z",
     "iopub.execute_input": "2023-09-14T02:41:55.012929Z",
     "iopub.status.idle": "2023-09-14T02:41:55.027254Z",
     "shell.execute_reply.started": "2023-09-14T02:41:55.012860Z",
     "shell.execute_reply": "2023-09-14T02:41:55.026088Z"
    },
    "trusted": true
   },
   "execution_count": 74,
   "outputs": [
    {
     "execution_count": 74,
     "output_type": "execute_result",
     "data": {
      "text/plain": "array([[1, 2, 3],\n       [4, 5, 6],\n       [1, 2, 3],\n       [4, 5, 6]])"
     },
     "metadata": {}
    }
   ]
  },
  {
   "cell_type": "code",
   "source": [
    "# concatenate along the second axis (zero-indexed)\n",
    "\n",
    "np.concatenate((grid, grid), axis=1)"
   ],
   "metadata": {
    "execution": {
     "iopub.status.busy": "2023-09-14T02:41:55.028729Z",
     "iopub.execute_input": "2023-09-14T02:41:55.029045Z",
     "iopub.status.idle": "2023-09-14T02:41:55.040703Z",
     "shell.execute_reply.started": "2023-09-14T02:41:55.028992Z",
     "shell.execute_reply": "2023-09-14T02:41:55.039474Z"
    },
    "trusted": true
   },
   "execution_count": 75,
   "outputs": [
    {
     "execution_count": 75,
     "output_type": "execute_result",
     "data": {
      "text/plain": "array([[1, 2, 3, 1, 2, 3],\n       [4, 5, 6, 4, 5, 6]])"
     },
     "metadata": {}
    }
   ]
  },
  {
   "cell_type": "code",
   "source": [
    "# For working with arrays of mixed dimensions, it can be clearer to use the np.vstack\n",
    "# (vertical stack) and np.hstack (horizontal stack) functions:\n",
    "\n",
    "x = np.array([1,2,3])\n",
    "grid = np.array([[9,8,7],\n",
    "                 [6,5,4]])\n",
    "\n",
    "\n",
    "# vertically stack the arrays\n",
    "np.vstack([x,grid])"
   ],
   "metadata": {
    "execution": {
     "iopub.status.busy": "2023-09-14T02:41:55.042297Z",
     "iopub.execute_input": "2023-09-14T02:41:55.042649Z",
     "iopub.status.idle": "2023-09-14T02:41:55.053013Z",
     "shell.execute_reply.started": "2023-09-14T02:41:55.042589Z",
     "shell.execute_reply": "2023-09-14T02:41:55.052096Z"
    },
    "trusted": true
   },
   "execution_count": 76,
   "outputs": [
    {
     "execution_count": 76,
     "output_type": "execute_result",
     "data": {
      "text/plain": "array([[1, 2, 3],\n       [9, 8, 7],\n       [6, 5, 4]])"
     },
     "metadata": {}
    }
   ]
  },
  {
   "cell_type": "code",
   "source": [
    "#horizontally stack the arrays\n",
    "\n",
    "y = np.array([[99],\n",
    "            [99]])\n",
    "np.hstack([grid,y])"
   ],
   "metadata": {
    "execution": {
     "iopub.status.busy": "2023-09-14T02:41:55.054364Z",
     "iopub.execute_input": "2023-09-14T02:41:55.054602Z",
     "iopub.status.idle": "2023-09-14T02:41:55.064685Z",
     "shell.execute_reply.started": "2023-09-14T02:41:55.054566Z",
     "shell.execute_reply": "2023-09-14T02:41:55.063846Z"
    },
    "trusted": true
   },
   "execution_count": 77,
   "outputs": [
    {
     "execution_count": 77,
     "output_type": "execute_result",
     "data": {
      "text/plain": "array([[ 9,  8,  7, 99],\n       [ 6,  5,  4, 99]])"
     },
     "metadata": {}
    }
   ]
  },
  {
   "cell_type": "markdown",
   "source": [
    "* Similarly, np.dstack will stack arrays along the third axis."
   ],
   "metadata": {}
  },
  {
   "cell_type": "markdown",
   "source": [
    "### Splitting of arrays"
   ],
   "metadata": {}
  },
  {
   "cell_type": "markdown",
   "source": [
    "* The opposite of concatenation is splitting, which is implemented by the functions\n",
    "np.split, np.hsplit, and np.vsplit. For each of these, we can pass a list of indices\n",
    "giving the split points:"
   ],
   "metadata": {}
  },
  {
   "cell_type": "code",
   "source": [
    "x = [1,2,3,99,99,3,2,1]\n",
    "x1, x2, x3 = np.split(x, [3,5])\n",
    "print(x1, x2, x3)"
   ],
   "metadata": {
    "execution": {
     "iopub.status.busy": "2023-09-14T02:41:55.065735Z",
     "iopub.execute_input": "2023-09-14T02:41:55.066008Z",
     "iopub.status.idle": "2023-09-14T02:41:55.078234Z",
     "shell.execute_reply.started": "2023-09-14T02:41:55.065959Z",
     "shell.execute_reply": "2023-09-14T02:41:55.077383Z"
    },
    "trusted": true
   },
   "execution_count": 78,
   "outputs": [
    {
     "name": "stdout",
     "text": "[1 2 3] [99 99] [3 2 1]\n",
     "output_type": "stream"
    }
   ]
  },
  {
   "cell_type": "code",
   "source": [
    "x = np.array([1,2,3,99,99,3,2,1])\n",
    "x1, x2, x3, x4 = np.split(x, [3,4,5])\n",
    "print(x1, x2, x3,x4)"
   ],
   "metadata": {
    "execution": {
     "iopub.status.busy": "2023-09-14T02:41:55.079562Z",
     "iopub.execute_input": "2023-09-14T02:41:55.079886Z",
     "iopub.status.idle": "2023-09-14T02:41:55.091115Z",
     "shell.execute_reply.started": "2023-09-14T02:41:55.079816Z",
     "shell.execute_reply": "2023-09-14T02:41:55.090272Z"
    },
    "trusted": true
   },
   "execution_count": 79,
   "outputs": [
    {
     "name": "stdout",
     "text": "[1 2 3] [99] [99] [3 2 1]\n",
     "output_type": "stream"
    }
   ]
  },
  {
   "cell_type": "markdown",
   "source": [
    "* Notice that N split points lead to N + 1 subarrays. The related functions np.hsplit\n",
    "and np.vsplit are similar:"
   ],
   "metadata": {}
  },
  {
   "cell_type": "code",
   "source": [
    "grid = np.arange(36,dtype=np.float).reshape((6,6))\n",
    "grid"
   ],
   "metadata": {
    "execution": {
     "iopub.status.busy": "2023-09-14T02:41:55.092526Z",
     "iopub.execute_input": "2023-09-14T02:41:55.092805Z",
     "iopub.status.idle": "2023-09-14T02:41:55.104166Z",
     "shell.execute_reply.started": "2023-09-14T02:41:55.092764Z",
     "shell.execute_reply": "2023-09-14T02:41:55.103240Z"
    },
    "trusted": true
   },
   "execution_count": 80,
   "outputs": [
    {
     "execution_count": 80,
     "output_type": "execute_result",
     "data": {
      "text/plain": "array([[ 0.,  1.,  2.,  3.,  4.,  5.],\n       [ 6.,  7.,  8.,  9., 10., 11.],\n       [12., 13., 14., 15., 16., 17.],\n       [18., 19., 20., 21., 22., 23.],\n       [24., 25., 26., 27., 28., 29.],\n       [30., 31., 32., 33., 34., 35.]])"
     },
     "metadata": {}
    }
   ]
  },
  {
   "cell_type": "code",
   "source": [
    "upper, lower = np.vsplit(grid, [2])\n",
    "print(upper)\n",
    "print(lower)"
   ],
   "metadata": {
    "execution": {
     "iopub.status.busy": "2023-09-14T02:41:55.105587Z",
     "iopub.execute_input": "2023-09-14T02:41:55.106139Z",
     "iopub.status.idle": "2023-09-14T02:41:55.115120Z",
     "shell.execute_reply.started": "2023-09-14T02:41:55.106081Z",
     "shell.execute_reply": "2023-09-14T02:41:55.114111Z"
    },
    "trusted": true
   },
   "execution_count": 81,
   "outputs": [
    {
     "name": "stdout",
     "text": "[[ 0.  1.  2.  3.  4.  5.]\n [ 6.  7.  8.  9. 10. 11.]]\n[[12. 13. 14. 15. 16. 17.]\n [18. 19. 20. 21. 22. 23.]\n [24. 25. 26. 27. 28. 29.]\n [30. 31. 32. 33. 34. 35.]]\n",
     "output_type": "stream"
    }
   ]
  },
  {
   "cell_type": "code",
   "source": [
    "upper,middle, lower = np.vsplit(grid, [2,3])\n",
    "print(\"upper: \",upper)\n",
    "print(\"middle: \",middle)\n",
    "print(\"lower: \",lower)"
   ],
   "metadata": {
    "execution": {
     "iopub.status.busy": "2023-09-14T02:41:55.116553Z",
     "iopub.execute_input": "2023-09-14T02:41:55.116958Z",
     "iopub.status.idle": "2023-09-14T02:41:55.130572Z",
     "shell.execute_reply.started": "2023-09-14T02:41:55.116870Z",
     "shell.execute_reply": "2023-09-14T02:41:55.129841Z"
    },
    "trusted": true
   },
   "execution_count": 82,
   "outputs": [
    {
     "name": "stdout",
     "text": "upper:  [[ 0.  1.  2.  3.  4.  5.]\n [ 6.  7.  8.  9. 10. 11.]]\nmiddle:  [[12. 13. 14. 15. 16. 17.]]\nlower:  [[18. 19. 20. 21. 22. 23.]\n [24. 25. 26. 27. 28. 29.]\n [30. 31. 32. 33. 34. 35.]]\n",
     "output_type": "stream"
    }
   ]
  },
  {
   "cell_type": "code",
   "source": [
    "left, right = np.hsplit(grid, [2])\n",
    "print(left)\n",
    "print(right)"
   ],
   "metadata": {
    "execution": {
     "iopub.status.busy": "2023-09-14T02:41:55.131868Z",
     "iopub.execute_input": "2023-09-14T02:41:55.132425Z",
     "iopub.status.idle": "2023-09-14T02:41:55.144279Z",
     "shell.execute_reply.started": "2023-09-14T02:41:55.132368Z",
     "shell.execute_reply": "2023-09-14T02:41:55.143047Z"
    },
    "trusted": true
   },
   "execution_count": 83,
   "outputs": [
    {
     "name": "stdout",
     "text": "[[ 0.  1.]\n [ 6.  7.]\n [12. 13.]\n [18. 19.]\n [24. 25.]\n [30. 31.]]\n[[ 2.  3.  4.  5.]\n [ 8.  9. 10. 11.]\n [14. 15. 16. 17.]\n [20. 21. 22. 23.]\n [26. 27. 28. 29.]\n [32. 33. 34. 35.]]\n",
     "output_type": "stream"
    }
   ]
  },
  {
   "cell_type": "code",
   "source": [
    "left, right = np.hsplit(grid, 2)\n",
    "print(left)\n",
    "print(right)"
   ],
   "metadata": {
    "execution": {
     "iopub.status.busy": "2023-09-14T02:41:55.145784Z",
     "iopub.execute_input": "2023-09-14T02:41:55.146469Z",
     "iopub.status.idle": "2023-09-14T02:41:55.156044Z",
     "shell.execute_reply.started": "2023-09-14T02:41:55.146284Z",
     "shell.execute_reply": "2023-09-14T02:41:55.154790Z"
    },
    "trusted": true
   },
   "execution_count": 84,
   "outputs": [
    {
     "name": "stdout",
     "text": "[[ 0.  1.  2.]\n [ 6.  7.  8.]\n [12. 13. 14.]\n [18. 19. 20.]\n [24. 25. 26.]\n [30. 31. 32.]]\n[[ 3.  4.  5.]\n [ 9. 10. 11.]\n [15. 16. 17.]\n [21. 22. 23.]\n [27. 28. 29.]\n [33. 34. 35.]]\n",
     "output_type": "stream"
    }
   ]
  },
  {
   "cell_type": "markdown",
   "source": [
    "* Similarly, np.dsplit will split arrays along the third axis."
   ],
   "metadata": {}
  },
  {
   "cell_type": "markdown",
   "source": [
    "<a id=\"11\"></a> <br>\n",
    "# Computation on NumPy Arrays: Universal Functions"
   ],
   "metadata": {}
  },
  {
   "cell_type": "markdown",
   "source": [
    "<a id=\"12\"></a> <br>\n",
    "### Exploring NumPy’s UFuncs"
   ],
   "metadata": {}
  },
  {
   "cell_type": "markdown",
   "source": [
    "* Ufuncs exist in two flavors: unary ufuncs, which operate on a single input, and binary\n",
    "ufuncs, which operate on two inputs. We’ll see examples of both these types of functions here."
   ],
   "metadata": {}
  },
  {
   "cell_type": "markdown",
   "source": [
    "<a id=\"13\"></a> <br>\n",
    "#### Array arithmetic"
   ],
   "metadata": {}
  },
  {
   "cell_type": "code",
   "source": [
    "# NumPy’s ufuncs feel very natural to use because they make use of Python’s native\n",
    "# arithmetic operators. The standard addition, subtraction, multiplication, and division\n",
    "# can all be used:\n",
    "\n",
    "x = np.arange(4)\n",
    "print(\"x =\", x)\n",
    "print(\"x + 5 =\", x + 5)\n",
    "print(\"x - 5 =\", x - 5)\n",
    "print(\"x * 2 =\", x * 2)\n",
    "print(\"x / 2 =\", x / 2)\n",
    "print(\"x // 2 =\", x // 2) # floor division"
   ],
   "metadata": {
    "execution": {
     "iopub.status.busy": "2023-09-14T02:41:55.157471Z",
     "iopub.execute_input": "2023-09-14T02:41:55.157767Z",
     "iopub.status.idle": "2023-09-14T02:41:55.171375Z",
     "shell.execute_reply.started": "2023-09-14T02:41:55.157710Z",
     "shell.execute_reply": "2023-09-14T02:41:55.169535Z"
    },
    "trusted": true
   },
   "execution_count": 85,
   "outputs": [
    {
     "name": "stdout",
     "text": "x = [0 1 2 3]\nx + 5 = [5 6 7 8]\nx - 5 = [-5 -4 -3 -2]\nx * 2 = [0 2 4 6]\nx / 2 = [0.  0.5 1.  1.5]\nx // 2 = [0 0 1 1]\n",
     "output_type": "stream"
    }
   ]
  },
  {
   "cell_type": "code",
   "source": [
    "#There is also a unary ufunc for negation, a ** operator for exponentiation, and a %\n",
    "#operator for modulus:\n",
    "\n",
    "print(\"-x = \", -x)\n",
    "print(\"x ** 2 = \", x ** 2)\n",
    "print(\"x % 2 = \", x % 2)"
   ],
   "metadata": {
    "execution": {
     "iopub.status.busy": "2023-09-14T02:41:55.172752Z",
     "iopub.execute_input": "2023-09-14T02:41:55.173261Z",
     "iopub.status.idle": "2023-09-14T02:41:55.182674Z",
     "shell.execute_reply.started": "2023-09-14T02:41:55.173172Z",
     "shell.execute_reply": "2023-09-14T02:41:55.181762Z"
    },
    "trusted": true
   },
   "execution_count": 86,
   "outputs": [
    {
     "name": "stdout",
     "text": "-x =  [ 0 -1 -2 -3]\nx ** 2 =  [0 1 4 9]\nx % 2 =  [0 1 0 1]\n",
     "output_type": "stream"
    }
   ]
  },
  {
   "cell_type": "code",
   "source": [
    "# In addition, these can be strung together however you wish, and the standard order\n",
    "# of operations is respected:\n",
    "\n",
    "-(0.5*x+1) ** 2"
   ],
   "metadata": {
    "execution": {
     "iopub.status.busy": "2023-09-14T02:41:55.185417Z",
     "iopub.execute_input": "2023-09-14T02:41:55.185751Z",
     "iopub.status.idle": "2023-09-14T02:41:55.199530Z",
     "shell.execute_reply.started": "2023-09-14T02:41:55.185687Z",
     "shell.execute_reply": "2023-09-14T02:41:55.198463Z"
    },
    "trusted": true
   },
   "execution_count": 87,
   "outputs": [
    {
     "execution_count": 87,
     "output_type": "execute_result",
     "data": {
      "text/plain": "array([-1.  , -2.25, -4.  , -6.25])"
     },
     "metadata": {}
    }
   ]
  },
  {
   "cell_type": "code",
   "source": [
    "# All of these arithmetic operations are simply convenient wrappers around specific\n",
    "# functions built into NumPy; for example, the + operator is a wrapper for the add\n",
    "# function:\n",
    "\n",
    "print(np.add(3,2))\n",
    "\n",
    "print(np.add(x,2)) #Addition +\n",
    "print(np.subtract(x,5)) #Subtraction -\n",
    "print(np.negative(x)) #Unary negation -\n",
    "print(np.multiply(x,3)) #Multiplication *\n",
    "print(np.divide(x,2)) #Division /\n",
    "print(np.floor_divide(x,2)) #Floor division //\n",
    "print(np.power(x,2)) #Exponentiation **\n",
    "print(np.mod(x,2)) #Modulus/remainder **\n",
    "\n",
    "print(np.multiply(x, x))"
   ],
   "metadata": {
    "execution": {
     "iopub.status.busy": "2023-09-14T02:41:55.201243Z",
     "iopub.execute_input": "2023-09-14T02:41:55.201575Z",
     "iopub.status.idle": "2023-09-14T02:41:55.217967Z",
     "shell.execute_reply.started": "2023-09-14T02:41:55.201517Z",
     "shell.execute_reply": "2023-09-14T02:41:55.217091Z"
    },
    "trusted": true
   },
   "execution_count": 88,
   "outputs": [
    {
     "name": "stdout",
     "text": "5\n[2 3 4 5]\n[-5 -4 -3 -2]\n[ 0 -1 -2 -3]\n[0 3 6 9]\n[0.  0.5 1.  1.5]\n[0 0 1 1]\n[0 1 4 9]\n[0 1 0 1]\n[0 1 4 9]\n",
     "output_type": "stream"
    }
   ]
  },
  {
   "cell_type": "markdown",
   "source": [
    "<a id=\"14\"></a> <br>\n",
    "#### Absolute value"
   ],
   "metadata": {}
  },
  {
   "cell_type": "code",
   "source": [
    "# Just as NumPy understands Python’s built-in arithmetic operators, it also understands\n",
    "# Python’s built-in absolute value function:\n",
    "\n",
    "x = np.array([-2,-1,0,1,2])\n",
    "abs(x)"
   ],
   "metadata": {
    "execution": {
     "iopub.status.busy": "2023-09-14T02:41:55.219264Z",
     "iopub.execute_input": "2023-09-14T02:41:55.219528Z",
     "iopub.status.idle": "2023-09-14T02:41:55.229329Z",
     "shell.execute_reply.started": "2023-09-14T02:41:55.219491Z",
     "shell.execute_reply": "2023-09-14T02:41:55.228110Z"
    },
    "trusted": true
   },
   "execution_count": 89,
   "outputs": [
    {
     "execution_count": 89,
     "output_type": "execute_result",
     "data": {
      "text/plain": "array([2, 1, 0, 1, 2])"
     },
     "metadata": {}
    }
   ]
  },
  {
   "cell_type": "code",
   "source": [
    "# The corresponding NumPy ufunc is np.absolute, which is also available under the\n",
    "# alias np.abs:\n",
    "\n",
    "print(np.absolute(x))\n",
    "print(np.abs(x))"
   ],
   "metadata": {
    "execution": {
     "iopub.status.busy": "2023-09-14T02:41:55.231001Z",
     "iopub.execute_input": "2023-09-14T02:41:55.231560Z",
     "iopub.status.idle": "2023-09-14T02:41:55.240747Z",
     "shell.execute_reply.started": "2023-09-14T02:41:55.231487Z",
     "shell.execute_reply": "2023-09-14T02:41:55.239838Z"
    },
    "trusted": true
   },
   "execution_count": 90,
   "outputs": [
    {
     "name": "stdout",
     "text": "[2 1 0 1 2]\n[2 1 0 1 2]\n",
     "output_type": "stream"
    }
   ]
  },
  {
   "cell_type": "code",
   "source": [
    "# This ufunc can also handle complex data, in which the absolute value returns the\n",
    "# magnitude:\n",
    "\n",
    "x = np.array([7-24j,4-3j,2+0j,1+3j])\n",
    "np.abs(x)"
   ],
   "metadata": {
    "execution": {
     "iopub.status.busy": "2023-09-14T02:41:55.242019Z",
     "iopub.execute_input": "2023-09-14T02:41:55.242376Z",
     "iopub.status.idle": "2023-09-14T02:41:55.253235Z",
     "shell.execute_reply.started": "2023-09-14T02:41:55.242319Z",
     "shell.execute_reply": "2023-09-14T02:41:55.252224Z"
    },
    "trusted": true
   },
   "execution_count": 91,
   "outputs": [
    {
     "execution_count": 91,
     "output_type": "execute_result",
     "data": {
      "text/plain": "array([25.        ,  5.        ,  2.        ,  3.16227766])"
     },
     "metadata": {}
    }
   ]
  },
  {
   "cell_type": "markdown",
   "source": [
    "<a id=\"15\"></a> <br>\n",
    "#### Trigonometric functions"
   ],
   "metadata": {}
  },
  {
   "cell_type": "code",
   "source": [
    "# NumPy provides a large number of useful ufuncs, and some of the most useful for the\n",
    "# data scientist are the trigonometric functions. We’ll start by defining an array of\n",
    "# angles:\n",
    "\n",
    "theta = np.linspace(0,np.pi,3)\n",
    "\n",
    "\n",
    "#Now we can compute some trigonometric fuctions on these values:\n",
    "print(\"theta      =\",theta)\n",
    "print(\"sin(theta) =\",np.sin(theta))\n",
    "print(\"cos(theta) =\",np.cos(theta))\n",
    "print(\"tan(theta) =\",np.tan(theta))"
   ],
   "metadata": {
    "execution": {
     "iopub.status.busy": "2023-09-14T02:41:55.255173Z",
     "iopub.execute_input": "2023-09-14T02:41:55.255622Z",
     "iopub.status.idle": "2023-09-14T02:41:55.268056Z",
     "shell.execute_reply.started": "2023-09-14T02:41:55.255490Z",
     "shell.execute_reply": "2023-09-14T02:41:55.266998Z"
    },
    "trusted": true
   },
   "execution_count": 92,
   "outputs": [
    {
     "name": "stdout",
     "text": "theta      = [0.         1.57079633 3.14159265]\nsin(theta) = [0.0000000e+00 1.0000000e+00 1.2246468e-16]\ncos(theta) = [ 1.000000e+00  6.123234e-17 -1.000000e+00]\ntan(theta) = [ 0.00000000e+00  1.63312394e+16 -1.22464680e-16]\n",
     "output_type": "stream"
    }
   ]
  },
  {
   "cell_type": "code",
   "source": [
    "x = [-1, 0, 1]\n",
    "\n",
    "print(\"x = \", x)\n",
    "print(\"arcsin(x) = \", np.arcsin(x))\n",
    "print(\"arccos(x) = \", np.arccos(x))\n",
    "print(\"arctan(x) = \", np.arctan(x))"
   ],
   "metadata": {
    "execution": {
     "iopub.status.busy": "2023-09-14T02:41:55.269765Z",
     "iopub.execute_input": "2023-09-14T02:41:55.270165Z",
     "iopub.status.idle": "2023-09-14T02:41:55.281376Z",
     "shell.execute_reply.started": "2023-09-14T02:41:55.270095Z",
     "shell.execute_reply": "2023-09-14T02:41:55.280456Z"
    },
    "trusted": true
   },
   "execution_count": 93,
   "outputs": [
    {
     "name": "stdout",
     "text": "x =  [-1, 0, 1]\narcsin(x) =  [-1.57079633  0.          1.57079633]\narccos(x) =  [3.14159265 1.57079633 0.        ]\narctan(x) =  [-0.78539816  0.          0.78539816]\n",
     "output_type": "stream"
    }
   ]
  },
  {
   "cell_type": "markdown",
   "source": [
    "<a id=\"16\"></a> <br>\n",
    "#### Exponents and logarithms"
   ],
   "metadata": {}
  },
  {
   "cell_type": "markdown",
   "source": [
    "* Another common type of operation available in a NumPy ufunc are the exponentials:"
   ],
   "metadata": {}
  },
  {
   "cell_type": "code",
   "source": [
    "x = [1,2,3]\n",
    "print(\"x      =\",x)\n",
    "print(\"e^x    =\",np.exp(x))\n",
    "print(\"2^x    =\",np.exp2(x))\n",
    "print(\"3^x    =\",np.power(3,x))"
   ],
   "metadata": {
    "execution": {
     "iopub.status.busy": "2023-09-14T02:41:55.283601Z",
     "iopub.execute_input": "2023-09-14T02:41:55.283972Z",
     "iopub.status.idle": "2023-09-14T02:41:55.296058Z",
     "shell.execute_reply.started": "2023-09-14T02:41:55.283898Z",
     "shell.execute_reply": "2023-09-14T02:41:55.295271Z"
    },
    "trusted": true
   },
   "execution_count": 94,
   "outputs": [
    {
     "name": "stdout",
     "text": "x      = [1, 2, 3]\ne^x    = [ 2.71828183  7.3890561  20.08553692]\n2^x    = [2. 4. 8.]\n3^x    = [ 3  9 27]\n",
     "output_type": "stream"
    }
   ]
  },
  {
   "cell_type": "code",
   "source": [
    "# The inverse of the exponentials, the logarithms, are also available. The basic np.log\n",
    "# gives the natural logarithm; if you prefer to compute the base-2 logarithm or the\n",
    "# base-10 logarithm, these are available as well:\n",
    "\n",
    "x = [1, 2, 4, 10]\n",
    "print(\"x        =\", x)\n",
    "print(\"ln(x)    =\", np.log(x))\n",
    "print(\"log2(x)  =\", np.log2(x))\n",
    "print(\"log10(x) =\", np.log10(x))"
   ],
   "metadata": {
    "execution": {
     "iopub.status.busy": "2023-09-14T02:41:55.297335Z",
     "iopub.execute_input": "2023-09-14T02:41:55.297709Z",
     "iopub.status.idle": "2023-09-14T02:41:55.312413Z",
     "shell.execute_reply.started": "2023-09-14T02:41:55.297649Z",
     "shell.execute_reply": "2023-09-14T02:41:55.311303Z"
    },
    "trusted": true
   },
   "execution_count": 95,
   "outputs": [
    {
     "name": "stdout",
     "text": "x        = [1, 2, 4, 10]\nln(x)    = [0.         0.69314718 1.38629436 2.30258509]\nlog2(x)  = [0.         1.         2.         3.32192809]\nlog10(x) = [0.         0.30103    0.60205999 1.        ]\n",
     "output_type": "stream"
    }
   ]
  },
  {
   "cell_type": "code",
   "source": [
    "# There are also some specialized versions that are useful for maintaining precision\n",
    "# with very small input:\n",
    "\n",
    "x = [0, 0.001, 0.01, 0.1]\n",
    "print(\"exp(x) - 1 =\", np.expm1(x))\n",
    "print(\"log(1 + x) =\", np.log1p(x))"
   ],
   "metadata": {
    "execution": {
     "iopub.status.busy": "2023-09-14T02:41:55.313668Z",
     "iopub.execute_input": "2023-09-14T02:41:55.314009Z",
     "iopub.status.idle": "2023-09-14T02:41:55.324819Z",
     "shell.execute_reply.started": "2023-09-14T02:41:55.313943Z",
     "shell.execute_reply": "2023-09-14T02:41:55.324095Z"
    },
    "trusted": true
   },
   "execution_count": 96,
   "outputs": [
    {
     "name": "stdout",
     "text": "exp(x) - 1 = [0.         0.0010005  0.01005017 0.10517092]\nlog(1 + x) = [0.         0.0009995  0.00995033 0.09531018]\n",
     "output_type": "stream"
    }
   ]
  },
  {
   "cell_type": "markdown",
   "source": [
    "<a id=\"17\"></a> <br>\n",
    "### Advanced Ufunc Features"
   ],
   "metadata": {}
  },
  {
   "cell_type": "markdown",
   "source": [
    "<a id=\"18\"></a> <br>\n",
    "#### Specifying output"
   ],
   "metadata": {}
  },
  {
   "cell_type": "markdown",
   "source": [
    "* For large calculations, it is sometimes useful to be able to specify the array where the\n",
    "result of the calculation will be stored. Rather than creating a temporary array, you\n",
    "can use this to write computation results directly to the memory location where you’d\n",
    "like them to be. For all ufuncs, you can do this using the out argument of the\n",
    "function:"
   ],
   "metadata": {}
  },
  {
   "cell_type": "code",
   "source": [
    "x = np.arange(5)\n",
    "y = np.empty(5)\n",
    "np.multiply(x, 10, out=y)\n",
    "print(y)"
   ],
   "metadata": {
    "execution": {
     "iopub.status.busy": "2023-09-14T02:41:55.326465Z",
     "iopub.execute_input": "2023-09-14T02:41:55.326791Z",
     "iopub.status.idle": "2023-09-14T02:41:55.339637Z",
     "shell.execute_reply.started": "2023-09-14T02:41:55.326716Z",
     "shell.execute_reply": "2023-09-14T02:41:55.338295Z"
    },
    "trusted": true
   },
   "execution_count": 97,
   "outputs": [
    {
     "name": "stdout",
     "text": "[ 0. 10. 20. 30. 40.]\n",
     "output_type": "stream"
    }
   ]
  },
  {
   "cell_type": "code",
   "source": [
    "#This can even be used with array views. For example, we can write the results of a\n",
    "#computation to every other element of a specified array:\n",
    "\n",
    "y = np.zeros(10)\n",
    "np.power(2, x, out=y[::2])\n",
    "print(y)\n",
    "\n",
    "# If we had instead written y[::2] = 2 ** x, this would have resulted in the creation\n",
    "# of a temporary array to hold the results of 2 ** x, followed by a second operation\n",
    "# copying those values into the y array. This doesn’t make much of a difference for such\n",
    "# a small computation, but for very large arrays the memory savings from careful use of\n",
    "# the out argument can be significant."
   ],
   "metadata": {
    "execution": {
     "iopub.status.busy": "2023-09-14T02:41:55.340940Z",
     "iopub.execute_input": "2023-09-14T02:41:55.341334Z",
     "iopub.status.idle": "2023-09-14T02:41:55.354675Z",
     "shell.execute_reply.started": "2023-09-14T02:41:55.341291Z",
     "shell.execute_reply": "2023-09-14T02:41:55.353531Z"
    },
    "trusted": true
   },
   "execution_count": 98,
   "outputs": [
    {
     "name": "stdout",
     "text": "[ 1.  0.  2.  0.  4.  0.  8.  0. 16.  0.]\n",
     "output_type": "stream"
    }
   ]
  },
  {
   "cell_type": "code",
   "source": [
    "y = np.zeros(10)\n",
    "y[::2] = 2 ** x\n",
    "print(y)"
   ],
   "metadata": {
    "execution": {
     "iopub.status.busy": "2023-09-14T02:41:55.355845Z",
     "iopub.execute_input": "2023-09-14T02:41:55.356135Z",
     "iopub.status.idle": "2023-09-14T02:41:55.370315Z",
     "shell.execute_reply.started": "2023-09-14T02:41:55.356095Z",
     "shell.execute_reply": "2023-09-14T02:41:55.369450Z"
    },
    "trusted": true
   },
   "execution_count": 99,
   "outputs": [
    {
     "name": "stdout",
     "text": "[ 1.  0.  2.  0.  4.  0.  8.  0. 16.  0.]\n",
     "output_type": "stream"
    }
   ]
  },
  {
   "cell_type": "markdown",
   "source": [
    "<a id=\"19\"></a> <br>\n",
    "#### Aggregates"
   ],
   "metadata": {}
  },
  {
   "cell_type": "markdown",
   "source": [
    "* For binary ufuncs, there are some interesting aggregates that can be computed\n",
    "directly from the object. For example, if we’d like to reduce an array with a particular\n",
    "operation, we can use the reduce method of any ufunc. A reduce repeatedly applies a\n",
    "given operation to the elements of an array until only a single result remains.\n",
    "For example, calling reduce on the add ufunc returns the sum of all elements in the\n",
    "array:"
   ],
   "metadata": {}
  },
  {
   "cell_type": "code",
   "source": [
    "x = np.arange(1,6)\n",
    "print(np.add.reduce(x))\n",
    "print(np.subtract.reduce(x))\n",
    "print(np.multiply.reduce(x))"
   ],
   "metadata": {
    "execution": {
     "iopub.status.busy": "2023-09-14T02:41:55.371619Z",
     "iopub.execute_input": "2023-09-14T02:41:55.372205Z",
     "iopub.status.idle": "2023-09-14T02:41:55.381661Z",
     "shell.execute_reply.started": "2023-09-14T02:41:55.372133Z",
     "shell.execute_reply": "2023-09-14T02:41:55.380799Z"
    },
    "trusted": true
   },
   "execution_count": 100,
   "outputs": [
    {
     "name": "stdout",
     "text": "15\n-13\n120\n",
     "output_type": "stream"
    }
   ]
  },
  {
   "cell_type": "code",
   "source": [
    "#If we’d like to store all the intermediate results of the computation, we can instead use\n",
    "#accumulate:\n",
    "\n",
    "print(np.add.accumulate(x))\n",
    "print(np.subtract.accumulate(x))\n",
    "print(np.multiply.accumulate(x))\n",
    "print(np.divide.accumulate(x))\n",
    "print(np.floor_divide.accumulate(x))"
   ],
   "metadata": {
    "execution": {
     "iopub.status.busy": "2023-09-14T02:41:55.383093Z",
     "iopub.execute_input": "2023-09-14T02:41:55.383398Z",
     "iopub.status.idle": "2023-09-14T02:41:55.395594Z",
     "shell.execute_reply.started": "2023-09-14T02:41:55.383356Z",
     "shell.execute_reply": "2023-09-14T02:41:55.394649Z"
    },
    "trusted": true
   },
   "execution_count": 101,
   "outputs": [
    {
     "name": "stdout",
     "text": "[ 1  3  6 10 15]\n[  1  -1  -4  -8 -13]\n[  1   2   6  24 120]\n[1.         0.5        0.16666667 0.04166667 0.00833333]\n[1 0 0 0 0]\n",
     "output_type": "stream"
    }
   ]
  },
  {
   "cell_type": "markdown",
   "source": [
    "<a id=\"20\"></a> <br>\n",
    "#### Outer products"
   ],
   "metadata": {}
  },
  {
   "cell_type": "markdown",
   "source": [
    "* Finally, any ufunc can compute the output of all pairs of two different inputs using\n",
    "the outer method. This allows you, in one line, to do things like create a multiplica‐\n",
    "tion table:"
   ],
   "metadata": {}
  },
  {
   "cell_type": "code",
   "source": [
    "x = np.arange(1,6)\n",
    "np.multiply.outer(x, x)"
   ],
   "metadata": {
    "execution": {
     "iopub.status.busy": "2023-09-14T02:41:55.397052Z",
     "iopub.execute_input": "2023-09-14T02:41:55.397339Z",
     "iopub.status.idle": "2023-09-14T02:41:55.410344Z",
     "shell.execute_reply.started": "2023-09-14T02:41:55.397291Z",
     "shell.execute_reply": "2023-09-14T02:41:55.409307Z"
    },
    "trusted": true
   },
   "execution_count": 102,
   "outputs": [
    {
     "execution_count": 102,
     "output_type": "execute_result",
     "data": {
      "text/plain": "array([[ 1,  2,  3,  4,  5],\n       [ 2,  4,  6,  8, 10],\n       [ 3,  6,  9, 12, 15],\n       [ 4,  8, 12, 16, 20],\n       [ 5, 10, 15, 20, 25]])"
     },
     "metadata": {}
    }
   ]
  },
  {
   "cell_type": "markdown",
   "source": [
    "<a id=\"21\"></a> <br>\n",
    "# Aggregations: Min, Max, and Everything in Between"
   ],
   "metadata": {}
  },
  {
   "cell_type": "markdown",
   "source": [
    "* NumPy has fast built-in aggregation functions for working on arrays; we’ll discuss\n",
    "and demonstrate some of them here."
   ],
   "metadata": {}
  },
  {
   "cell_type": "markdown",
   "source": [
    "<a id=\"22\"></a> <br>\n",
    "### Summing the Values in an Array"
   ],
   "metadata": {}
  },
  {
   "cell_type": "code",
   "source": [
    "# As a quick example, consider computing the sum of all values in an array. Python\n",
    "# itself can do this using the built-in sum function:\n",
    "\n",
    "L = np.random.random(100)\n",
    "sum(L)"
   ],
   "metadata": {
    "execution": {
     "iopub.status.busy": "2023-09-14T02:41:55.411664Z",
     "iopub.execute_input": "2023-09-14T02:41:55.412104Z",
     "iopub.status.idle": "2023-09-14T02:41:55.421890Z",
     "shell.execute_reply.started": "2023-09-14T02:41:55.412033Z",
     "shell.execute_reply": "2023-09-14T02:41:55.421104Z"
    },
    "trusted": true
   },
   "execution_count": 103,
   "outputs": [
    {
     "execution_count": 103,
     "output_type": "execute_result",
     "data": {
      "text/plain": "52.12818058833704"
     },
     "metadata": {}
    }
   ]
  },
  {
   "cell_type": "code",
   "source": [
    "#The syntax is quite similar to that of NumPy’s sum function, and the result is the same\n",
    "#in the simplest case:\n",
    "\n",
    "np.sum(L)"
   ],
   "metadata": {
    "execution": {
     "iopub.status.busy": "2023-09-14T02:41:55.423713Z",
     "iopub.execute_input": "2023-09-14T02:41:55.424392Z",
     "iopub.status.idle": "2023-09-14T02:41:55.433818Z",
     "shell.execute_reply.started": "2023-09-14T02:41:55.424334Z",
     "shell.execute_reply": "2023-09-14T02:41:55.432826Z"
    },
    "trusted": true
   },
   "execution_count": 104,
   "outputs": [
    {
     "execution_count": 104,
     "output_type": "execute_result",
     "data": {
      "text/plain": "52.12818058833702"
     },
     "metadata": {}
    }
   ]
  },
  {
   "cell_type": "code",
   "source": [
    "# However, because it executes the operation in compiled code, NumPy’s version of the\n",
    "# operation is computed much more quickly:\n",
    "\n",
    "big_array = np.random.rand(1000000)\n",
    "%timeit sum(big_array)\n",
    "%timeit np.sum(big_array)"
   ],
   "metadata": {
    "execution": {
     "iopub.status.busy": "2023-09-14T02:41:55.435738Z",
     "iopub.execute_input": "2023-09-14T02:41:55.436133Z",
     "iopub.status.idle": "2023-09-14T02:42:00.487382Z",
     "shell.execute_reply.started": "2023-09-14T02:41:55.436067Z",
     "shell.execute_reply": "2023-09-14T02:42:00.486205Z"
    },
    "trusted": true
   },
   "execution_count": 105,
   "outputs": [
    {
     "name": "stdout",
     "text": "238 ms ± 7.51 ms per loop (mean ± std. dev. of 7 runs, 1 loop each)\n384 µs ± 3.76 µs per loop (mean ± std. dev. of 7 runs, 1000 loops each)\n",
     "output_type": "stream"
    }
   ]
  },
  {
   "cell_type": "markdown",
   "source": [
    "<a id=\"23\"></a> <br>\n",
    "### Minimum and Maximum"
   ],
   "metadata": {}
  },
  {
   "cell_type": "code",
   "source": [
    "#Similarly, Python has built-in min and max functions, used to find the minimum value\n",
    "#and maximum value of any given array:\n",
    "\n",
    "min(big_array),max(big_array)"
   ],
   "metadata": {
    "execution": {
     "iopub.status.busy": "2023-09-14T02:42:00.488978Z",
     "iopub.execute_input": "2023-09-14T02:42:00.489338Z",
     "iopub.status.idle": "2023-09-14T02:42:00.861816Z",
     "shell.execute_reply.started": "2023-09-14T02:42:00.489278Z",
     "shell.execute_reply": "2023-09-14T02:42:00.860725Z"
    },
    "trusted": true
   },
   "execution_count": 106,
   "outputs": [
    {
     "execution_count": 106,
     "output_type": "execute_result",
     "data": {
      "text/plain": "(1.4057692298008462e-06, 0.9999994392723005)"
     },
     "metadata": {}
    }
   ]
  },
  {
   "cell_type": "code",
   "source": [
    "#NumPy’s corresponding functions have similar syntax, and again operate much more\n",
    "#quickly:\n",
    "\n",
    "np.min(big_array),np.max(big_array)"
   ],
   "metadata": {
    "execution": {
     "iopub.status.busy": "2023-09-14T02:42:00.863167Z",
     "iopub.execute_input": "2023-09-14T02:42:00.863431Z",
     "iopub.status.idle": "2023-09-14T02:42:00.884433Z",
     "shell.execute_reply.started": "2023-09-14T02:42:00.863384Z",
     "shell.execute_reply": "2023-09-14T02:42:00.883539Z"
    },
    "trusted": true
   },
   "execution_count": 107,
   "outputs": [
    {
     "execution_count": 107,
     "output_type": "execute_result",
     "data": {
      "text/plain": "(1.4057692298008462e-06, 0.9999994392723005)"
     },
     "metadata": {}
    }
   ]
  },
  {
   "cell_type": "code",
   "source": [
    "%timeit min(big_array)\n",
    "%timeit np.min(big_array)"
   ],
   "metadata": {
    "execution": {
     "iopub.status.busy": "2023-09-14T02:42:00.886036Z",
     "iopub.execute_input": "2023-09-14T02:42:00.886313Z",
     "iopub.status.idle": "2023-09-14T02:42:19.174890Z",
     "shell.execute_reply.started": "2023-09-14T02:42:00.886268Z",
     "shell.execute_reply": "2023-09-14T02:42:19.173922Z"
    },
    "trusted": true
   },
   "execution_count": 108,
   "outputs": [
    {
     "name": "stdout",
     "text": "182 ms ± 1.6 ms per loop (mean ± std. dev. of 7 runs, 10 loops each)\n437 µs ± 4.47 µs per loop (mean ± std. dev. of 7 runs, 1000 loops each)\n",
     "output_type": "stream"
    }
   ]
  },
  {
   "cell_type": "code",
   "source": [
    "# For min, max, sum, and several other NumPy aggregates, a shorter syntax is to use\n",
    "# methods of the array object itself:\n",
    "\n",
    "print(big_array.min(), big_array.max(), big_array.sum())\n",
    "# Whenever possible, make sure that you are using the NumPy version of these aggre‐\n",
    "#gates when operating on NumPy arrays!\n",
    "%timeit np.min(big_array)\n",
    "%timeit big_array.min()"
   ],
   "metadata": {
    "execution": {
     "iopub.status.busy": "2023-09-14T02:42:19.176677Z",
     "iopub.execute_input": "2023-09-14T02:42:19.177123Z"
    },
    "trusted": true
   },
   "execution_count": null,
   "outputs": []
  },
  {
   "cell_type": "markdown",
   "source": [
    "<a id=\"24\"></a> <br>\n",
    "### Multidimensional aggregates"
   ],
   "metadata": {}
  },
  {
   "cell_type": "code",
   "source": [
    "# One common type of aggregation operation is an aggregate along a row or column.\n",
    "# Say you have some data stored in a two-dimensional array:\n",
    "\n",
    "M = np.random.random((3,4))\n",
    "print(M)\n",
    "\n",
    "M.sum()"
   ],
   "metadata": {
    "trusted": true
   },
   "execution_count": null,
   "outputs": []
  },
  {
   "cell_type": "code",
   "source": [
    "# Aggregation functions take an additional argument specifying the axis along which\n",
    "# the aggregate is computed. For example, we can find the minimum value within each\n",
    "# column by specifying axis=0:\n",
    "\n",
    "print(M.min(axis=0))\n",
    "#or use that way\n",
    "print(np.min(M,axis=0))\n",
    "M"
   ],
   "metadata": {
    "trusted": true
   },
   "execution_count": null,
   "outputs": []
  },
  {
   "cell_type": "code",
   "source": [
    "# Similarly, we can find the maximum value within each row:\n",
    "\n",
    "M.max(axis=1)"
   ],
   "metadata": {
    "trusted": true
   },
   "execution_count": null,
   "outputs": []
  },
  {
   "cell_type": "code",
   "source": [
    "# Note that some of these NaN-safe functions were not added until\n",
    "# NumPy 1.8, so they will not be available in older NumPy versions.\n",
    "\n",
    "x = np.array([1,2,np.nan,4,5])\n",
    "\n",
    "print(\"np.sum       =\",np.sum(x))\n",
    "print(\"np.nansum    =\",np.nansum(x))\n",
    "\n",
    "print(\"np.mean      =\",np.mean(x))\n",
    "print(\"np.nanmean   =\",np.nanmean(x))\n",
    "\n",
    "print(\"np.std       =\",np.std(x))\n",
    "print(\"np.nanstd    =\",np.nanstd(x))\n",
    "\n",
    "\n",
    "#Be careful that this is not a real index of minimum value.\n",
    "print(\"np.argmin    =\",np.argmin(x)) \n",
    "#if there is a nan value in an array, it returns index of nan value.\n",
    "\n",
    "\n",
    "print(\"np.nanargmin =\",np.nanargmin(x))\n"
   ],
   "metadata": {
    "trusted": true
   },
   "execution_count": null,
   "outputs": []
  },
  {
   "cell_type": "markdown",
   "source": [
    "<img src=\"https://3.bp.blogspot.com/-2pjqt9Ga6IM/W20-sIVK0II/AAAAAAAAXVM/BB74tRGTiwgcYTgezVLD3LKH7NFj4pjpgCLcBGAs/s1600/4214_t2-3.PNG\" alt=\"cce\" border=\"0\">"
   ],
   "metadata": {}
  },
  {
   "cell_type": "markdown",
   "source": [
    "<a id=\"25\"></a> <br>\n",
    "# Computation on Arrays: Broadcasting"
   ],
   "metadata": {}
  },
  {
   "cell_type": "markdown",
   "source": [
    "* Broadcasting is simply a\n",
    "set of rules for applying binary ufuncs (addition, subtraction, multiplication, etc.) on\n",
    "arrays of different sizes."
   ],
   "metadata": {}
  },
  {
   "cell_type": "markdown",
   "source": [
    "<a id=\"26\"></a> <br>\n",
    "### Introducing Broadcasting"
   ],
   "metadata": {}
  },
  {
   "cell_type": "code",
   "source": [
    "import numpy as np\n",
    "\n",
    "a = np.array([0,1,2])\n",
    "b = np.array([5,5,5])\n",
    "a+b"
   ],
   "metadata": {
    "trusted": true
   },
   "execution_count": null,
   "outputs": []
  },
  {
   "cell_type": "code",
   "source": [
    "a+5"
   ],
   "metadata": {
    "trusted": true
   },
   "execution_count": null,
   "outputs": []
  },
  {
   "cell_type": "code",
   "source": [
    "# We can similarly extend this to arrays of higher dimension. Observe the result when\n",
    "# we add a one-dimensional array to a two-dimensional array:\n",
    "\n",
    "M = np.ones((3,3))\n",
    "M"
   ],
   "metadata": {
    "trusted": true
   },
   "execution_count": null,
   "outputs": []
  },
  {
   "cell_type": "code",
   "source": [
    "M+a\n",
    "\n",
    "# Here the one-dimensional array a is stretched, or broadcast, across the second\n",
    "# dimension in order to match the shape of M ."
   ],
   "metadata": {
    "trusted": true
   },
   "execution_count": null,
   "outputs": []
  },
  {
   "cell_type": "code",
   "source": [
    "# here we’ve stretched both a and b to match a common shape, and the result is a two-\n",
    "# dimensional array!\n",
    "\n",
    "a = np.arange(3) #(3,) 1 dimensional\n",
    "b = np.arange(3)[:,np.newaxis] #(3,1) 2 dimensional\n",
    "print(a)\n",
    "print(b)"
   ],
   "metadata": {
    "trusted": true
   },
   "execution_count": null,
   "outputs": []
  },
  {
   "cell_type": "code",
   "source": [
    "a+b"
   ],
   "metadata": {
    "trusted": true
   },
   "execution_count": null,
   "outputs": []
  },
  {
   "cell_type": "markdown",
   "source": [
    "<a id=\"27\"></a> <br>\n",
    "### Visualization of NumPy broadcasting\n",
    "\n",
    "<img src=\"https://jakevdp.github.io/PythonDataScienceHandbook/figures/02.05-broadcasting.png\" alt=\"broadcasting\" border=\"0\">"
   ],
   "metadata": {}
  },
  {
   "cell_type": "markdown",
   "source": [
    "#### Rules of Broadcasting"
   ],
   "metadata": {}
  },
  {
   "cell_type": "markdown",
   "source": [
    "* **Broadcasting in NumPy follows a strict set of rules to determine the interaction\n",
    "between the two arrays:**\n",
    "    \n",
    "* Rule 1: If the two arrays differ in their number of dimensions, the shape of the\n",
    "one with fewer dimensions is padded with ones on its leading (left) side.\n",
    "* Rule 2: If the shape of the two arrays does not match in any dimension, the array\n",
    "with shape equal to 1 in that dimension is stretched to match the other shape.\n",
    "* Rule 3: If in any dimension the sizes disagree and neither is equal to 1, an error is\n",
    "raised."
   ],
   "metadata": {}
  },
  {
   "cell_type": "markdown",
   "source": [
    "<a id=\"28\"></a> <br>\n",
    "### Broadcasting example 1"
   ],
   "metadata": {}
  },
  {
   "cell_type": "code",
   "source": [
    "#Let’s look at adding a two-dimensional array to a one-dimensional array:\n",
    "M = np.ones((2,3))\n",
    "a = np.arange(3)\n",
    "\n",
    "# Let’s consider an operation on these two arrays. The shapes of the arrays are:\n",
    "# M.shape = (2, 3)\n",
    "# a.shape = (3,)\n",
    "# We see by rule 1 that the array a has fewer dimensions, so we pad it on the left with\n",
    "# ones:\n",
    "# M.shape -> (2, 3)\n",
    "# a.shape -> (1, 3)\n",
    "# By rule 2, we now see that the first dimension disagrees, so we stretch this dimension\n",
    "# to match:\n",
    "# M.shape -> (2, 3)\n",
    "# a.shape -> (2, 3)\n",
    "# The shapes match, and we see that the final shape will be (2, 3) :\n",
    "\n",
    "M+a"
   ],
   "metadata": {
    "trusted": true
   },
   "execution_count": null,
   "outputs": []
  },
  {
   "cell_type": "markdown",
   "source": [
    "<a id=\"29\"></a> <br>\n",
    "### Broadcasting example 2"
   ],
   "metadata": {}
  },
  {
   "cell_type": "code",
   "source": [
    "# Let’s take a look at an example where both arrays need to be broadcast:\n",
    "a = np.arange(3).reshape((3,1))\n",
    "b = np.arange(3)\n",
    "# Again, we’ll start by writing out the shape of the arrays:\n",
    "\n",
    "# a.shape = (3, 1)\n",
    "# b.shape = (3,)\n",
    "# |\n",
    "# Rule 1 says we must pad the shape of b with ones:\n",
    "# a.shape -> (3, 1)\n",
    "# b.shape -> (1, 3)\n",
    "# And rule 2 tells us that we upgrade each of these ones to match the corresponding\n",
    "# size of the other array:\n",
    "# a.shape -> (3, 3)\n",
    "# b.shape -> (3, 3)\n",
    "# Because the result matches, these shapes are compatible. We can see this here:\n",
    "a+b"
   ],
   "metadata": {
    "trusted": true
   },
   "execution_count": null,
   "outputs": []
  },
  {
   "cell_type": "markdown",
   "source": [
    "<a id=\"30\"></a> <br>\n",
    "### Broadcasting example 3"
   ],
   "metadata": {}
  },
  {
   "cell_type": "code",
   "source": [
    "# Now let’s take a look at an example in which the two arrays are not compatible:\n",
    "\n",
    "M = np.ones((3,2))\n",
    "a = np.arange(3)\n",
    "\n",
    "# This is just a slightly different situation than in the first example: the matrix M is\n",
    "# transposed. How does this affect the calculation? The shapes of the arrays are:\n",
    "# M.shape = (3, 2)\n",
    "# a.shape = (3,)\n",
    "# Again, rule 1 tells us that we must pad the shape of a with ones:\n",
    "# M.shape -> (3, 2)\n",
    "# a.shape -> (1, 3)\n",
    "# By rule 2, the first dimension of a is stretched to match that of M :\n",
    "# M.shape -> (3, 2)\n",
    "# a.shape -> (3, 3)\n",
    "# Now we hit rule 3—the final shapes do not match, so these two arrays are incompati‐\n",
    "# ble, as we can observe by attempting this operation:\n",
    "\n",
    "# print(M+a) #ERROR! operands could not be broadcast together with shapes"
   ],
   "metadata": {
    "trusted": true
   },
   "execution_count": null,
   "outputs": []
  },
  {
   "cell_type": "code",
   "source": [
    "print(a[:, np.newaxis].shape)\n",
    "M + a[:, np.newaxis]"
   ],
   "metadata": {
    "trusted": true
   },
   "execution_count": null,
   "outputs": []
  },
  {
   "cell_type": "markdown",
   "source": [
    "<a id=\"31\"></a> <br>\n",
    "# Comparisons, Masks, and Boolean Logic"
   ],
   "metadata": {}
  },
  {
   "cell_type": "markdown",
   "source": [
    "<a id=\"32\"></a> <br>\n",
    "### Comparison Operators as ufuncs"
   ],
   "metadata": {}
  },
  {
   "cell_type": "markdown",
   "source": [
    "* The result of these comparison operators is always an array with a Boolean data type.\n",
    "All six of the standard comparison operations are available:\n",
    "\n",
    "* for example, you might wish to count all values greater than a certain value,\n",
    "or perhaps remove all outliers that are above some threshold. In NumPy,\n",
    "Boolean masking is often the most efficient way to accomplish these types of tasks."
   ],
   "metadata": {}
  },
  {
   "cell_type": "code",
   "source": [
    "x = np.array([1,2,3,4,5])\n",
    "\n",
    "print(x<3)  # less than\n",
    "print(x>3)  # greater than\n",
    "print(x<=3) #less than or equal\n",
    "print(x>=3) #greater than or equal\n",
    "print(x!=3) #not equal\n",
    "print(x==3) #equal"
   ],
   "metadata": {
    "trusted": true
   },
   "execution_count": null,
   "outputs": []
  },
  {
   "cell_type": "code",
   "source": [
    "# It is also possible to do an element-by-element comparison of two arrays, and to\n",
    "# include compound expressions:\n",
    "\n",
    "(2*x) == (2**x)"
   ],
   "metadata": {
    "trusted": true
   },
   "execution_count": null,
   "outputs": []
  },
  {
   "cell_type": "code",
   "source": [
    "# As in the case of arithmetic operators, the comparison operators are implemented as\n",
    "# ufuncs in NumPy; for example, when you write x < 3 , internally NumPy uses\n",
    "# np.less(x, 3) . A summary of the comparison operators and their equivalent ufunc\n",
    "# is shown here:"
   ],
   "metadata": {
    "trusted": true
   },
   "execution_count": null,
   "outputs": []
  },
  {
   "cell_type": "markdown",
   "source": [
    "<a id=\"33\"></a> <br>\n",
    "### Comparison operators and their equivalent\n",
    "\n",
    "<img src=\"https://3.bp.blogspot.com/-ePv8m0F9BaI/W4nwyN2vb2I/AAAAAAAAXWs/zF0LYfQGYzI4u4JILeHSnH4-jRoUgk-TwCLcBGAs/s1600/4229_2.PNG\" alt=\"Comparison operators and their equivalent\" border=\"0\">"
   ],
   "metadata": {}
  },
  {
   "cell_type": "code",
   "source": [
    "rng = np.random.RandomState(seed=0)\n",
    "x = rng.randint(10, size=(3,4))\n",
    "print(x)\n",
    "\n",
    "x<6"
   ],
   "metadata": {
    "trusted": true
   },
   "execution_count": null,
   "outputs": []
  },
  {
   "cell_type": "markdown",
   "source": [
    "<a id=\"34\"></a> <br>\n",
    "### Working with Boolean Arrays "
   ],
   "metadata": {}
  },
  {
   "cell_type": "code",
   "source": [
    "print(x)\n",
    "\n",
    "# To count the number of True entries in a Boolean array, np.count_nonzero is useful:\n",
    "\n",
    "# how many values less than 6?\n",
    "print(\"1-: \",np.count_nonzero(x<6))\n",
    "\n",
    "# We see that there are eight array entries that are less than 6. Another way to get at this\n",
    "# information is to use np.sum ; in this case, False is interpreted as 0 , and True is inter‐\n",
    "# preted as 1 :\n",
    "\n",
    "print(\"2-: \",np.sum(x<6))\n",
    "\n",
    "print(\"3-: \",np.sum(x!=np.nan))\n",
    "print(\"4-: \",np.count_nonzero(x!=np.nan))"
   ],
   "metadata": {
    "trusted": true
   },
   "execution_count": null,
   "outputs": []
  },
  {
   "cell_type": "code",
   "source": [
    "# how many values less than 6 in each row?\n",
    "print(np.sum(x < 6, axis=1))\n",
    "\n",
    "# how many values less than 6 in each column?\n",
    "print(np.sum(x < 6, axis=0))"
   ],
   "metadata": {
    "trusted": true
   },
   "execution_count": null,
   "outputs": []
  },
  {
   "cell_type": "code",
   "source": [
    "# If we’re interested in quickly checking whether any or all the values are true, we can\n",
    "# use (you guessed it) np.any() or np.all() :\n",
    "\n",
    "# are there any values greater than 8?\n",
    "print(np.any(x>8))\n",
    "\n",
    "# are there any values less than zero?\n",
    "print(np.any(x<0))\n",
    "\n",
    "# are all values less than 10?\n",
    "print(np.all(x<10))\n",
    "\n",
    "# are all values equal to 6?\n",
    "print(np.all(x==6))"
   ],
   "metadata": {
    "trusted": true
   },
   "execution_count": null,
   "outputs": []
  },
  {
   "cell_type": "code",
   "source": [
    "# are all values in each row less than 8?\n",
    "print(np.all(x<8, axis=1))\n",
    "\n",
    "# are all values in each column less than 3?\n",
    "print(np.all(x<3, axis=0))"
   ],
   "metadata": {
    "trusted": true
   },
   "execution_count": null,
   "outputs": []
  },
  {
   "cell_type": "code",
   "source": [
    "print(x)\n",
    "print(x<5)\n",
    "print(x[x<5])"
   ],
   "metadata": {
    "trusted": true
   },
   "execution_count": null,
   "outputs": []
  },
  {
   "cell_type": "code",
   "source": [
    "# In Python, all nonzero integers will evaluate as True .\n",
    "bool(42), bool(0), bool(-1)"
   ],
   "metadata": {
    "trusted": true
   },
   "execution_count": null,
   "outputs": []
  },
  {
   "cell_type": "code",
   "source": [
    "bool(42 and 0)"
   ],
   "metadata": {
    "trusted": true
   },
   "execution_count": null,
   "outputs": []
  },
  {
   "cell_type": "code",
   "source": [
    "bool(42 or 0)"
   ],
   "metadata": {
    "trusted": true
   },
   "execution_count": null,
   "outputs": []
  },
  {
   "cell_type": "code",
   "source": [
    "# When you have an array of Boolean values in NumPy, this can be thought of as a\n",
    "# string of bits where 1 = True and 0 = False , and the result of & and | operates in a\n",
    "# similar manner as before:\n",
    "\n",
    "A = np.array([1, 0, 1, 0, 1, 0], dtype=bool)\n",
    "B = np.array([1, 1, 1, 0, 1, 1], dtype=bool)\n",
    "A | B"
   ],
   "metadata": {
    "trusted": true
   },
   "execution_count": null,
   "outputs": []
  },
  {
   "cell_type": "code",
   "source": [
    "x = np.arange(10)\n",
    "(x > 4) & (x < 8)"
   ],
   "metadata": {
    "trusted": true
   },
   "execution_count": null,
   "outputs": []
  },
  {
   "cell_type": "markdown",
   "source": [
    "<a id=\"35\"></a> <br>\n",
    "# Fancy Indexing"
   ],
   "metadata": {}
  },
  {
   "cell_type": "markdown",
   "source": [
    "<a id=\"36\"></a> <br>\n",
    "### Exploring Fancy Indexing"
   ],
   "metadata": {}
  },
  {
   "cell_type": "code",
   "source": [
    "import numpy as np\n",
    "\n",
    "rand = np.random.RandomState(42)\n",
    "x = rand.randint(100, size=10)\n",
    "print(x)"
   ],
   "metadata": {
    "trusted": true
   },
   "execution_count": null,
   "outputs": []
  },
  {
   "cell_type": "code",
   "source": [
    "[x[3],x[7],x[2]]"
   ],
   "metadata": {
    "trusted": true
   },
   "execution_count": null,
   "outputs": []
  },
  {
   "cell_type": "code",
   "source": [
    "ind = [3,7,4]\n",
    "x[ind]"
   ],
   "metadata": {
    "trusted": true
   },
   "execution_count": null,
   "outputs": []
  },
  {
   "cell_type": "code",
   "source": [
    "ind = np.array([[3, 7],\n",
    "                [4, 5]])\n",
    "x[ind]"
   ],
   "metadata": {
    "trusted": true
   },
   "execution_count": null,
   "outputs": []
  },
  {
   "cell_type": "code",
   "source": [
    "X = np.arange(12).reshape((3,4))\n",
    "X"
   ],
   "metadata": {
    "trusted": true
   },
   "execution_count": null,
   "outputs": []
  },
  {
   "cell_type": "code",
   "source": [
    "row = np.array([0,1,2])\n",
    "col = np.array([2,1,3])\n",
    "X[row,col]"
   ],
   "metadata": {
    "trusted": true
   },
   "execution_count": null,
   "outputs": []
  },
  {
   "cell_type": "code",
   "source": [
    "X[row[:, np.newaxis], col] #row[:, np.newaxis].shape (3,1)"
   ],
   "metadata": {
    "trusted": true
   },
   "execution_count": null,
   "outputs": []
  },
  {
   "cell_type": "code",
   "source": [
    "# Here, each row value is matched with each column vector, exactly as we saw in broad‐\n",
    "# casting of arithmetic operations. For example:\n",
    "\n",
    "row[:, np.newaxis] * col"
   ],
   "metadata": {
    "trusted": true
   },
   "execution_count": null,
   "outputs": []
  },
  {
   "cell_type": "markdown",
   "source": [
    "<a id=\"37\"></a> <br>\n",
    "### Combined Indexing"
   ],
   "metadata": {}
  },
  {
   "cell_type": "code",
   "source": [
    "print(X)"
   ],
   "metadata": {
    "trusted": true
   },
   "execution_count": null,
   "outputs": []
  },
  {
   "cell_type": "code",
   "source": [
    "X[2,[2,0,1]]"
   ],
   "metadata": {
    "trusted": true
   },
   "execution_count": null,
   "outputs": []
  },
  {
   "cell_type": "code",
   "source": [
    "X[1:, [2, 0, 1]]"
   ],
   "metadata": {
    "trusted": true
   },
   "execution_count": null,
   "outputs": []
  },
  {
   "cell_type": "code",
   "source": [
    "mask = np.array([1, 0, 1, 0], dtype=bool)\n",
    "X[row[:, np.newaxis], mask]  # mask 0 and 2 indixes are true!"
   ],
   "metadata": {
    "trusted": true
   },
   "execution_count": null,
   "outputs": []
  },
  {
   "cell_type": "markdown",
   "source": [
    "<a id=\"38\"></a> <br>\n",
    "### Modifying Values with Fancy Indexing"
   ],
   "metadata": {}
  },
  {
   "cell_type": "code",
   "source": [
    "x = np.arange(10)\n",
    "i = np.array([2,1,8,4])\n",
    "x[i] = 99\n",
    "print(x)"
   ],
   "metadata": {
    "trusted": true
   },
   "execution_count": null,
   "outputs": []
  },
  {
   "cell_type": "code",
   "source": [
    "x[i] -= 10\n",
    "print(x)"
   ],
   "metadata": {
    "trusted": true
   },
   "execution_count": null,
   "outputs": []
  },
  {
   "cell_type": "code",
   "source": [
    "x = np.zeros(10)\n",
    "x[[0, 2]] = [4, 6]\n",
    "print(x)"
   ],
   "metadata": {
    "trusted": true
   },
   "execution_count": null,
   "outputs": []
  },
  {
   "cell_type": "code",
   "source": [
    "x = np.zeros(10)\n",
    "x[[0, 0]] = [4, 6]\n",
    "print(x)\n",
    "\n",
    "# Where did the 4 go? The result of this operation is to first assign x[0] = 4 , followed\n",
    "# by x[0] = 6 . The result, of course, is that x[0] contains the value 6."
   ],
   "metadata": {
    "trusted": true
   },
   "execution_count": null,
   "outputs": []
  },
  {
   "cell_type": "code",
   "source": [
    "i = [2, 3, 3, 4, 4, 4]\n",
    "x[i] += 1\n",
    "x"
   ],
   "metadata": {
    "trusted": true
   },
   "execution_count": null,
   "outputs": []
  },
  {
   "cell_type": "code",
   "source": [
    "x = np.zeros(10)\n",
    "np.add.at(x, i, 1)\n",
    "print(x)"
   ],
   "metadata": {
    "trusted": true
   },
   "execution_count": null,
   "outputs": []
  },
  {
   "cell_type": "markdown",
   "source": [
    "<a id=\"39\"></a> <br>\n",
    "# Sorting Arrays"
   ],
   "metadata": {}
  },
  {
   "cell_type": "markdown",
   "source": [
    "<a id=\"40\"></a> <br>\n",
    "### Fast Sorting in NumPy: np.sort and np.argsort"
   ],
   "metadata": {}
  },
  {
   "cell_type": "code",
   "source": [
    "x = np.array([2,1,4,3,5])\n",
    "np.sort(x)"
   ],
   "metadata": {
    "trusted": true
   },
   "execution_count": null,
   "outputs": []
  },
  {
   "cell_type": "code",
   "source": [
    "x.sort()\n",
    "print(x)"
   ],
   "metadata": {
    "trusted": true
   },
   "execution_count": null,
   "outputs": []
  },
  {
   "cell_type": "code",
   "source": [
    "#return indices\n",
    "x = np.array([2,1,4,3,5])\n",
    "i = np.argsort(x)\n",
    "print(i)\n",
    "\n",
    "x[i]"
   ],
   "metadata": {
    "trusted": true
   },
   "execution_count": null,
   "outputs": []
  },
  {
   "cell_type": "markdown",
   "source": [
    "<a id=\"41\"></a> <br>\n",
    "### Sorting along rows or columns"
   ],
   "metadata": {}
  },
  {
   "cell_type": "code",
   "source": [
    "# A useful feature of NumPy’s sorting algorithms is the ability to sort along specific\n",
    "# rows or columns of a multidimensional array using the axis argument. For example:\n",
    "\n",
    "rand = np.random.RandomState(42)\n",
    "X = rand.randint(0,10,(4,6))\n",
    "print(X)"
   ],
   "metadata": {
    "trusted": true
   },
   "execution_count": null,
   "outputs": []
  },
  {
   "cell_type": "code",
   "source": [
    "# sort each column of X\n",
    "\n",
    "np.sort(X, axis=0)"
   ],
   "metadata": {
    "trusted": true
   },
   "execution_count": null,
   "outputs": []
  },
  {
   "cell_type": "code",
   "source": [
    "# sort each row of X\n",
    "\n",
    "np.sort(X, axis=1)"
   ],
   "metadata": {
    "trusted": true
   },
   "execution_count": null,
   "outputs": []
  },
  {
   "cell_type": "markdown",
   "source": [
    "<a id=\"42\"></a> <br>\n",
    "### Partial Sorts: Partitioning"
   ],
   "metadata": {}
  },
  {
   "cell_type": "code",
   "source": [
    "# Note that the first three values in the resulting array are the three smallest in the\n",
    "# array, and the remaining array positions contain the remaining values. Within the\n",
    "# two partitions, the elements have arbitrary order.\n",
    "\n",
    "x = np.array([7, 2, 1, 3, 6, 5, 4])\n",
    "np.partition(x, 3)"
   ],
   "metadata": {
    "trusted": true
   },
   "execution_count": null,
   "outputs": []
  },
  {
   "cell_type": "code",
   "source": [
    "# The result is an array where the first two slots in each row contain the smallest values\n",
    "# from that row, with the remaining values filling the remaining slots.\n",
    "\n",
    "np.partition(X, 2, axis=1)"
   ],
   "metadata": {
    "trusted": true
   },
   "execution_count": null,
   "outputs": []
  },
  {
   "cell_type": "code",
   "source": [
    "np.partition(X, 2, axis=0)"
   ],
   "metadata": {
    "trusted": true
   },
   "execution_count": null,
   "outputs": []
  },
  {
   "cell_type": "code",
   "source": [
    "np.argpartition(X, 2, axis=1)"
   ],
   "metadata": {
    "trusted": true
   },
   "execution_count": null,
   "outputs": []
  },
  {
   "cell_type": "code",
   "source": [
    "np.argpartition(X, 2, axis=0)"
   ],
   "metadata": {
    "trusted": true
   },
   "execution_count": null,
   "outputs": []
  },
  {
   "cell_type": "markdown",
   "source": [
    "# This kernel will be updated regularly."
   ],
   "metadata": {}
  },
  {
   "cell_type": "markdown",
   "source": [
    "<a id=\"42\"></a>\n",
    "# Conclusion\n",
    "* **If you like it, please upvote   :)**\n",
    "* **If you have any question, I will be appreciate to hear it   :)**"
   ],
   "metadata": {}
  }
 ]
}
