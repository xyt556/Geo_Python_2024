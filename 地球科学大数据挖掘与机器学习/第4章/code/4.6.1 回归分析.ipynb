{
 "cells": [
  {
   "cell_type": "code",
   "execution_count": null,
   "id": "8650293a-9f8b-480c-90e6-6bbc5f74db59",
   "metadata": {
    "tags": []
   },
   "outputs": [],
   "source": [
    "# %load 4.6.1 回归分析.py\n",
    "\n",
    "\n",
    "import pandas as pd\n",
    "import numpy as np\n",
    "from sklearn.linear_model import LogisticRegression\n",
    "from sklearn.model_selection import train_test_split\n",
    "\n",
    "\n",
    "basalt = pd.read_csv('../data/basalt.csv')\n",
    "\n",
    "# 删除无用数据\n",
    "df = basalt.drop(basalt.columns[1:5], axis=1)\n",
    "print('转化为布尔值前数据的前5行为：\\n', df.head())"
   ]
  },
  {
   "cell_type": "code",
   "execution_count": null,
   "id": "0f615371-eae6-45c2-afd7-f6ad3b1cc1bc",
   "metadata": {
    "tags": []
   },
   "outputs": [],
   "source": [
    "df['TECTONIC SETTING'].value_counts()"
   ]
  },
  {
   "cell_type": "code",
   "execution_count": null,
   "id": "172eced1-6cbb-405a-ae7b-0907ae215ef0",
   "metadata": {
    "tags": []
   },
   "outputs": [],
   "source": [
    "# 使用np.where将\"INTRAPLATE VOLCANICS\"替换为1，其余替换为0\n",
    "df['TECTONIC SETTING'] = np.where(df['TECTONIC SETTING'] == 'INTRAPLATE VOLCANICS', 1, 0)\n",
    "\n",
    "print('转化为布尔值后数据的前5行为：\\n', df.head())"
   ]
  },
  {
   "cell_type": "code",
   "execution_count": null,
   "id": "622611e5-e0af-4bbd-8626-11a93ced140f",
   "metadata": {
    "tags": []
   },
   "outputs": [],
   "source": [
    "# 删除包含NaN的行\n",
    "df = df.dropna()\n",
    "df"
   ]
  },
  {
   "cell_type": "code",
   "execution_count": null,
   "id": "0627c620-0b24-472b-b9f5-910d66c5fa95",
   "metadata": {
    "tags": []
   },
   "outputs": [],
   "source": [
    "# 使用 iloc 获取训练和测试数据\n",
    "X = df.iloc[:, 1:]  # 特征\n",
    "y = df.iloc[:, 0]  # 标签\n",
    "\n",
    "X_train, X_test, y_train, y_test = train_test_split(X, y, test_size=.1, random_state=520)\n",
    "lr = LogisticRegression()  # 建立LR模型\n",
    "lr.fit(X_train, y_train)  # 用处理好的数据训练模型\n",
    "print('逻辑回归的准确率为：{0:.2f}%'.format(lr.score(X_test, y_test) * 100))"
   ]
  },
  {
   "cell_type": "code",
   "execution_count": null,
   "id": "f154a21a-ee5b-4d8c-962d-4e17dd7448d2",
   "metadata": {},
   "outputs": [],
   "source": []
  },
  {
   "cell_type": "code",
   "execution_count": null,
   "id": "21699957-beb0-4170-a11b-b8c11e3f9550",
   "metadata": {},
   "outputs": [],
   "source": []
  }
 ],
 "metadata": {
  "kernelspec": {
   "display_name": "Python 3 (ipykernel)",
   "language": "python",
   "name": "python3"
  },
  "language_info": {
   "codemirror_mode": {
    "name": "ipython",
    "version": 3
   },
   "file_extension": ".py",
   "mimetype": "text/x-python",
   "name": "python",
   "nbconvert_exporter": "python",
   "pygments_lexer": "ipython3",
   "version": "3.10.11"
  }
 },
 "nbformat": 4,
 "nbformat_minor": 5
}
