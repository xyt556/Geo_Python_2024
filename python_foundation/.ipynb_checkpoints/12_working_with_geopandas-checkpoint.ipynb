{
 "cells": [
  {
   "cell_type": "markdown",
   "metadata": {
    "id": "b9mNP6M_cs7e"
   },
   "source": [
    "# Working with Geopandas"
   ]
  },
  {
   "cell_type": "markdown",
   "metadata": {
    "id": "QWZBMrG9cs7j"
   },
   "source": [
    "![](images/python_foundation/geopandas.png)\n",
    "\n",
    "\n",
    "GeoPandas extends the Pandas library to enable spatial operations. It provides new data types such as **GeoDataFrame** and **GeoSeries** which are subclasses of Pandas **DataFrame** and **Series** and enables efficient vector data processing in Python.\n",
    "\n",
    "\n",
    "GeoPandas make use of many other widely used spatial libraries - but it provides an interface similar to Pandas that make it intuitive to use it with spatial analysis. GeoPandas is built on top of the following libraries that allow it to be spatially aware.\n",
    "\n",
    "- [Shapely](https://shapely.readthedocs.io/en/latest/manual.html) for geometric operations (i.e. buffer, intersections etc.)\n",
    "- [PyProj](https://pyproj4.github.io/pyproj/stable/index.html) for working with projections\n",
    "- [Fiona](https://pypi.org/project/Fiona/) for file input and output, which itself is based on the widely used [GDAL/OGR](https://gdal.org/) library\n",
    "\n",
    "We will carry out a geoprocessing task that shows various features of this library and show how to do geo data processing in Python. The task is to take a roads data layer from OpenStreetMap and compute the total length of National Highways for each district in a state. The problem is described in detail in my [Advanced QGIS](https://courses.spatialthoughts.com/advanced-qgis.html#exercise-find-the-length-of-national-highways-in-a-state) course and show the steps needed to perform this analysis in QGIS. We will replicate this example in Python.\n",
    "\n",
    "![](images/python_foundation/karnataka.png)\n"
   ]
  },
  {
   "cell_type": "markdown",
   "metadata": {
    "id": "4HAFqKL3cs7k"
   },
   "source": [
    "By convention, `geopandas` is commonly imported as `gpd`"
   ]
  },
  {
   "cell_type": "code",
   "execution_count": 1,
   "metadata": {
    "id": "n9H4fCijcs7l",
    "tags": []
   },
   "outputs": [],
   "source": [
    "import geopandas as gpd"
   ]
  },
  {
   "cell_type": "markdown",
   "metadata": {
    "id": "-I8UKrjUcs7l"
   },
   "source": [
    "## Reading Spatial Data"
   ]
  },
  {
   "cell_type": "code",
   "execution_count": 2,
   "metadata": {
    "id": "FkfBmKMXcs7m",
    "tags": []
   },
   "outputs": [],
   "source": [
    "import os\n",
    "data_pkg_path = 'data'\n",
    "filename = 'karnataka.gpkg'\n",
    "path = os.path.join(data_pkg_path, filename)"
   ]
  },
  {
   "cell_type": "markdown",
   "metadata": {
    "id": "lwRkxhPJcs7m"
   },
   "source": [
    "GeoPandas has a `read_file()` method that is able to open a wide variety of vector datasets, including zip files. Here we will open the GeoPackage `karnataka.gpkg` and read a layer called `karnataka_major_roads`. The result of the read method is a **GeoDataFrame**. "
   ]
  },
  {
   "cell_type": "code",
   "execution_count": 3,
   "metadata": {
    "id": "HsjIess7cs7m",
    "tags": []
   },
   "outputs": [
    {
     "name": "stdout",
     "output_type": "stream",
     "text": [
      "<class 'geopandas.geodataframe.GeoDataFrame'>\n",
      "RangeIndex: 44606 entries, 0 to 44605\n",
      "Data columns (total 11 columns):\n",
      " #   Column    Non-Null Count  Dtype   \n",
      "---  ------    --------------  -----   \n",
      " 0   osm_id    44606 non-null  object  \n",
      " 1   code      44606 non-null  int64   \n",
      " 2   fclass    44606 non-null  object  \n",
      " 3   name      7018 non-null   object  \n",
      " 4   ref       7702 non-null   object  \n",
      " 5   oneway    44606 non-null  object  \n",
      " 6   maxspeed  44606 non-null  int64   \n",
      " 7   layer     44606 non-null  int64   \n",
      " 8   bridge    44606 non-null  object  \n",
      " 9   tunnel    44606 non-null  object  \n",
      " 10  geometry  44606 non-null  geometry\n",
      "dtypes: geometry(1), int64(3), object(7)\n",
      "memory usage: 3.7+ MB\n",
      "None\n"
     ]
    }
   ],
   "source": [
    "roads_gdf = gpd.read_file(path, layer='karnataka_major_roads')\n",
    "print(roads_gdf.info())"
   ]
  },
  {
   "cell_type": "markdown",
   "metadata": {
    "id": "yo2EWL0Acs7n"
   },
   "source": [
    "A GeoDataFrame contains a special column called *geometry*. All spatial operations on the GeoDataFrame are applied to the geomety column. The geometry column can be accessed using the `geometry` attribute."
   ]
  },
  {
   "cell_type": "code",
   "execution_count": 4,
   "metadata": {
    "id": "1MT7qDymcs7n",
    "tags": []
   },
   "outputs": [
    {
     "name": "stdout",
     "output_type": "stream",
     "text": [
      "0        MULTILINESTRING ((77.59928 12.97672, 77.59950 ...\n",
      "1        MULTILINESTRING ((76.65944 12.31809, 76.65904 ...\n",
      "2        MULTILINESTRING ((76.65906 12.31389, 76.65912 ...\n",
      "3        MULTILINESTRING ((76.65600 12.30895, 76.65646 ...\n",
      "4        MULTILINESTRING ((76.65615 12.30989, 76.65600 ...\n",
      "                               ...                        \n",
      "44601    MULTILINESTRING ((77.60806 12.97517, 77.60797 ...\n",
      "44602    MULTILINESTRING ((77.60798 12.97519, 77.60806 ...\n",
      "44603    MULTILINESTRING ((77.57115 13.00849, 77.57156 ...\n",
      "44604    MULTILINESTRING ((77.70140 12.95693, 77.70164 ...\n",
      "44605    MULTILINESTRING ((77.61040 12.97360, 77.61052 ...\n",
      "Name: geometry, Length: 44606, dtype: geometry\n"
     ]
    }
   ],
   "source": [
    "print(roads_gdf.geometry)"
   ]
  },
  {
   "cell_type": "markdown",
   "metadata": {
    "id": "A31wEP7Tcs7n"
   },
   "source": [
    "## Filtering Data\n",
    "\n",
    "One can use the standard Pandas filtering methods to select a subset of the GeoDataFrame. In addition, GeoPandas also provide way to subset the data based on a bounding box with the [`cx[]` indexer](https://geopandas.readthedocs.io/en/latest/indexing.html).\n",
    "\n",
    "For our analysis, we need to apply a filter to extract only the road segments where the `ref` attribute starts with **'NH'** - indicating a national highway. We can apply boolean filtering using Panda's `str.match()` method with a regular expression."
   ]
  },
  {
   "cell_type": "code",
   "execution_count": 5,
   "metadata": {
    "id": "8Wznn0g5cs7o",
    "tags": []
   },
   "outputs": [
    {
     "name": "stdout",
     "output_type": "stream",
     "text": [
      "      osm_id  code fclass                        name    ref oneway  maxspeed  \\\n",
      "17   8684837  5112  trunk  Bengaluru - Mangaluru Road  NH373      F         0   \n",
      "26   9951034  5112  trunk                         NaN  NH948      B        50   \n",
      "54  22838314  5112  trunk   Solapur-Mangalore Highway  NH169      B         0   \n",
      "55  22838318  5112  trunk                         NaN   NH66      B         0   \n",
      "56  22838318  5112  trunk                         NaN   NH66      B         0   \n",
      "\n",
      "    layer bridge tunnel                                           geometry  \n",
      "17      0      F      F  MULTILINESTRING ((76.10024 13.00326, 76.09950 ...  \n",
      "26      0      F      F  MULTILINESTRING ((77.16472 12.24774, 77.16416 ...  \n",
      "54      0      F      F  MULTILINESTRING ((74.86387 12.88387, 74.86419 ...  \n",
      "55      0      F      F  MULTILINESTRING ((74.78756 13.09142, 74.78744 ...  \n",
      "56      0      F      F  MULTILINESTRING ((74.78767 13.09723, 74.78767 ...  \n"
     ]
    }
   ],
   "source": [
    "filtered = roads_gdf[roads_gdf['ref'].str.match('^NH') == True]\n",
    "print(filtered.head())"
   ]
  },
  {
   "cell_type": "markdown",
   "metadata": {
    "id": "5PVTzguucs7o"
   },
   "source": [
    "## Working with Projections\n",
    "\n",
    "Dealing with projetions is a key aspect of working with spatial data. GeoPandas uses the `pyproj` library to assign and manage projections. Each GeoDataFrame as a `crs` attribute that contains the projection info. Our source dataset is in EPSG:4326 WGS84 CRS."
   ]
  },
  {
   "cell_type": "code",
   "execution_count": 6,
   "metadata": {
    "id": "d8MxEIlZcs7o",
    "tags": []
   },
   "outputs": [
    {
     "name": "stdout",
     "output_type": "stream",
     "text": [
      "EPSG:4326\n"
     ]
    }
   ],
   "source": [
    "print(filtered.crs)"
   ]
  },
  {
   "cell_type": "markdown",
   "metadata": {
    "id": "ki7gfot-cs7o"
   },
   "source": [
    "Since our task is to compute line lengths, we need to use a Projected CRS. We can use the `to_crs()` method to reproject the GeoDataFrame."
   ]
  },
  {
   "cell_type": "code",
   "execution_count": 7,
   "metadata": {
    "id": "bE5CQktGcs7o",
    "tags": []
   },
   "outputs": [
    {
     "name": "stdout",
     "output_type": "stream",
     "text": [
      "EPSG:32643\n"
     ]
    }
   ],
   "source": [
    "roads_reprojected = filtered.to_crs('EPSG:32643')\n",
    "print(roads_reprojected.crs)"
   ]
  },
  {
   "cell_type": "markdown",
   "metadata": {
    "id": "nMQDPwZ4cs7o"
   },
   "source": [
    "Now that the layer has been reprojected, we can calculate the length of each geometry using the `length` attribute. The result would be in meters. We can add the line lengths in a new column named `length`."
   ]
  },
  {
   "cell_type": "code",
   "execution_count": 8,
   "metadata": {
    "id": "dZX8M3jycs7p",
    "tags": []
   },
   "outputs": [],
   "source": [
    "roads_reprojected['length'] = roads_reprojected['geometry'].length"
   ]
  },
  {
   "cell_type": "markdown",
   "metadata": {
    "id": "Gq7UD5fvcs7p"
   },
   "source": [
    "We can apply statistical operations on a DataFrame columns. Here we can compute the total length of national highways in the state by calling the `sum()` method."
   ]
  },
  {
   "cell_type": "code",
   "execution_count": 9,
   "metadata": {
    "id": "THlc2M7zcs7p",
    "tags": []
   },
   "outputs": [
    {
     "name": "stdout",
     "output_type": "stream",
     "text": [
      "Total length of national highways in the state is 8616.166058402969 KM\n"
     ]
    }
   ],
   "source": [
    "total_length = roads_reprojected['length'].sum()\n",
    "print('Total length of national highways in the state is {} KM'.format(total_length/1000))"
   ]
  },
  {
   "cell_type": "markdown",
   "metadata": {
    "id": "P-q89v6ecs7q"
   },
   "source": [
    "## Performing Spatial joins\n",
    "\n",
    "There are two ways to combine datasets in geopandas – table joins and spatial joins. For our task, we need information about which district each road segments belongs to. This can be achived using another spatial layer for the districts and doing a spatial join to transfer the attributes of the district layer to the matching road segment.\n",
    "\n",
    "The `karnataka.gpkg` contains a layer called `karnataka_districts` with the district boundaries and names."
   ]
  },
  {
   "cell_type": "code",
   "execution_count": 10,
   "metadata": {
    "id": "etI1ZkWzcs7q",
    "tags": []
   },
   "outputs": [
    {
     "name": "stdout",
     "output_type": "stream",
     "text": [
      "          DISTRICT      ST_NM  ST_CEN_CD  DT_CEN_CD  censuscode  \\\n",
      "0         Bagalkot  Karnataka         29          2         556   \n",
      "1  Bangalore Rural  Karnataka         29         29         583   \n",
      "2        Bangalore  Karnataka         29         18         572   \n",
      "3          Belgaum  Karnataka         29          1         555   \n",
      "4          Bellary  Karnataka         29         11         565   \n",
      "\n",
      "                                            geometry  \n",
      "0  MULTIPOLYGON (((76.24100 16.16531, 76.23538 16...  \n",
      "1  MULTIPOLYGON (((77.38701 13.50002, 77.40099 13...  \n",
      "2  MULTIPOLYGON (((77.83549 12.86809, 77.83213 12...  \n",
      "3  MULTIPOLYGON (((75.02647 16.93264, 75.02827 16...  \n",
      "4  MULTIPOLYGON (((77.15757 15.13706, 77.15887 15...  \n"
     ]
    }
   ],
   "source": [
    "districts_gdf = gpd.read_file(path, layer='karnataka_districts')\n",
    "print(districts_gdf.head())"
   ]
  },
  {
   "cell_type": "markdown",
   "metadata": {
    "id": "kC3kY_Nxcs7q"
   },
   "source": [
    "Before joining this layer to the roads, we must reproject it to match the CRS of the roads layer."
   ]
  },
  {
   "cell_type": "code",
   "execution_count": 11,
   "metadata": {
    "id": "iHzr4Pqrcs7q",
    "tags": []
   },
   "outputs": [],
   "source": [
    "districts_reprojected = districts_gdf.to_crs('EPSG:32643')"
   ]
  },
  {
   "cell_type": "markdown",
   "metadata": {
    "id": "fL4mzFc-cs7q"
   },
   "source": [
    "A spatial join is performed using the `sjoin()` method. It takes 2 core arguments.\n",
    "\n",
    "- `predicate`: The spatial predicate to decdie which objects to join. Options are *intersects*, *within* and *contains*.\n",
    "- `how`: The type of join to perform. Options are *left*, *right* and *inner*.\n",
    "\n",
    "For our task, we can do a *left* join and add attributes of the district that *intersect* the road.\n"
   ]
  },
  {
   "cell_type": "code",
   "execution_count": 12,
   "metadata": {
    "id": "7L59ChDvcs7q",
    "tags": []
   },
   "outputs": [
    {
     "name": "stdout",
     "output_type": "stream",
     "text": [
      "      osm_id  code fclass                        name    ref oneway  maxspeed  \\\n",
      "17   8684837  5112  trunk  Bengaluru - Mangaluru Road  NH373      F         0   \n",
      "26   9951034  5112  trunk                         NaN  NH948      B        50   \n",
      "54  22838314  5112  trunk   Solapur-Mangalore Highway  NH169      B         0   \n",
      "55  22838318  5112  trunk                         NaN   NH66      B         0   \n",
      "55  22838318  5112  trunk                         NaN   NH66      B         0   \n",
      "\n",
      "    layer bridge tunnel                                           geometry  \\\n",
      "17      0      F      F  MULTILINESTRING ((619317.005 1437753.696, 6192...   \n",
      "26      0      F      F  MULTILINESTRING ((735483.761 1354892.067, 7354...   \n",
      "54      0      F      F  MULTILINESTRING ((485231.162 1424297.721, 4852...   \n",
      "55      0      F      F  MULTILINESTRING ((476971.413 1447255.675, 4769...   \n",
      "55      0      F      F  MULTILINESTRING ((476971.413 1447255.675, 4769...   \n",
      "\n",
      "          length  index_right          DISTRICT      ST_NM  ST_CEN_CD  \\\n",
      "17   2352.939132         16.0            Hassan  Karnataka       29.0   \n",
      "26  12876.925507          7.0      Chamrajnagar  Karnataka       29.0   \n",
      "54    822.021433         11.0  Dakshina Kannada  Karnataka       29.0   \n",
      "55    648.925208         11.0  Dakshina Kannada  Karnataka       29.0   \n",
      "55    648.925208         27.0             Udupi  Karnataka       29.0   \n",
      "\n",
      "    DT_CEN_CD  censuscode  \n",
      "17       20.0       574.0  \n",
      "26       24.0       578.0  \n",
      "54       21.0       575.0  \n",
      "55       21.0       575.0  \n",
      "55       15.0       569.0  \n"
     ]
    }
   ],
   "source": [
    "joined = gpd.sjoin(roads_reprojected, districts_reprojected, how='left', predicate='intersects')\n",
    "print(joined.head())"
   ]
  },
  {
   "cell_type": "markdown",
   "metadata": {
    "id": "ZdSzQg3Rcs7q"
   },
   "source": [
    "## Group Statistics\n",
    "\n",
    "The resulting geodataframe now has the matching column from the intersecting district feature. We can now sum the length of the roads and group them by districts. This type of *Group Statistics* is performed using Panda's `group_by()` method."
   ]
  },
  {
   "cell_type": "code",
   "execution_count": 13,
   "metadata": {
    "id": "iXq7sD40cs7r",
    "tags": []
   },
   "outputs": [
    {
     "name": "stdout",
     "output_type": "stream",
     "text": [
      "DISTRICT\n",
      "Bagalkot            258.449475\n",
      "Bangalore           314.170539\n",
      "Bangalore Rural     319.965959\n",
      "Belgaum             528.922541\n",
      "Bellary             304.789522\n",
      "Bidar               247.348300\n",
      "Bijapur             424.197281\n",
      "Chamrajnagar        217.737255\n",
      "Chikkaballapura     211.957819\n",
      "Chikmagalur         334.423573\n",
      "Chitradurga         531.932443\n",
      "Dakshina Kannada    316.339566\n",
      "Davanagere          177.877407\n",
      "Dharwad             314.978752\n",
      "Gadag               111.548768\n",
      "Gulbarga            294.551578\n",
      "Hassan              436.231356\n",
      "Haveri              306.582730\n",
      "Kodagu               63.806864\n",
      "Kolar               221.598406\n",
      "Koppal              288.358711\n",
      "Mandya              337.555904\n",
      "Mysore              361.510005\n",
      "Raichur             167.746669\n",
      "Ramanagara          199.426362\n",
      "Shimoga             479.140995\n",
      "Tumkur              613.177564\n",
      "Udupi               277.331577\n",
      "Uttara Kannada      424.184040\n",
      "Yadgir              144.858328\n",
      "Name: length, dtype: float64\n"
     ]
    }
   ],
   "source": [
    "results = joined.groupby('DISTRICT')['length'].sum()/1000\n",
    "print(results)"
   ]
  },
  {
   "cell_type": "markdown",
   "metadata": {
    "id": "zVh9G8i1cs7r"
   },
   "source": [
    "The result of the `group_by()` method is a Pandas *Series*. It can be saved to a CSV file using the `to_csv()` method."
   ]
  },
  {
   "cell_type": "code",
   "execution_count": 14,
   "metadata": {
    "id": "ed0laY41cs7r",
    "tags": []
   },
   "outputs": [
    {
     "name": "stdout",
     "output_type": "stream",
     "text": [
      "Successfully written output file at output\\national_highways_by_districts.csv\n"
     ]
    }
   ],
   "source": [
    "output_filename = 'national_highways_by_districts.csv'\n",
    "output_dir = 'output'\n",
    "output_path = os.path.join(output_dir, output_filename)\n",
    "results.to_csv(output_path)\n",
    "print('Successfully written output file at {}'.format(output_path))"
   ]
  },
  {
   "cell_type": "markdown",
   "metadata": {
    "id": "yxiEmqgNcs7r"
   },
   "source": [
    "## Exercise\n",
    "\n",
    "Before writing the output to the file, round the distance numbers to a whole number."
   ]
  },
  {
   "cell_type": "markdown",
   "metadata": {
    "id": "1moMVRh5cs7r"
   },
   "source": [
    "----"
   ]
  }
 ],
 "metadata": {
  "colab": {
   "provenance": []
  },
  "kernelspec": {
   "display_name": "Python 3 (ipykernel)",
   "language": "python",
   "name": "python3"
  },
  "language_info": {
   "codemirror_mode": {
    "name": "ipython",
    "version": 3
   },
   "file_extension": ".py",
   "mimetype": "text/x-python",
   "name": "python",
   "nbconvert_exporter": "python",
   "pygments_lexer": "ipython3",
   "version": "3.10.7"
  }
 },
 "nbformat": 4,
 "nbformat_minor": 4
}
