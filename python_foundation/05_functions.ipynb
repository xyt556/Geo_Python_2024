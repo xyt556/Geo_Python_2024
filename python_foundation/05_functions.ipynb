{
 "cells": [
  {
   "cell_type": "markdown",
   "metadata": {},
   "source": [
    "# Functions\n",
    "\n",
    "A function is a block of code that takes one or more *inputs*, does some processing on them and returns one or more *outputs*. The code within the function runs only when it is called.\n",
    "\n",
    "A funtion is defined using the `def` keyword\n",
    "\n",
    "```\n",
    "def my_function():\n",
    "    ....\n",
    "    ....\n",
    "    return something\n",
    "```\n",
    "\n",
    "Functions are useful because they allow us to capture the logic of our code and we can run it with differnt inputs without having to write the same code again and again."
   ]
  },
  {
   "cell_type": "code",
   "execution_count": null,
   "metadata": {},
   "outputs": [],
   "source": [
    "def greet(name):\n",
    "    return 'Hello ' + name\n",
    "\n",
    "print(greet('World'))"
   ]
  },
  {
   "cell_type": "markdown",
   "metadata": {},
   "source": [
    "Functions can take multiple arguments. Let's write a function to convert coordinates from degrees, minutes, seconds to decimal degrees. This conversion is needed quite often when working with data collected from GPS devices.\n",
    "\n",
    "- 1 degree is equal to 60 minutes\n",
    "- 1 minute is equal to 60 seconds (3600 seconds)\n",
    "\n",
    "To calculate decimal degrees, we can use the formula below:\n",
    "\n",
    "If degrees are positive:\n",
    "\n",
    "`Decimal Degrees = degrees + (minutes/60) + (seconds/3600)`\n",
    "\n",
    "If degrees are negative\n",
    "\n",
    "`Decimal Degrees = degrees - (minutes/60) - (seconds/3600)`"
   ]
  },
  {
   "cell_type": "code",
   "execution_count": null,
   "metadata": {},
   "outputs": [],
   "source": [
    "def dms_to_decimal(degrees, minutes, seconds):\n",
    "    if degrees < 0:\n",
    "        result = degrees - minutes/60 - seconds/3600\n",
    "    else:\n",
    "        result = degrees + minutes/60 + seconds/3600\n",
    "    return result"
   ]
  },
  {
   "cell_type": "code",
   "execution_count": null,
   "metadata": {},
   "outputs": [],
   "source": [
    "output = dms_to_decimal(10, 10, 10)\n",
    "print(output)"
   ]
  },
  {
   "cell_type": "markdown",
   "metadata": {},
   "source": [
    "## Exercise\n",
    "\n",
    "Given a coordinate string with value in degree, minutes and seconds, convert it to decimal degrees by calling the `dms_to_decimal` function."
   ]
  },
  {
   "cell_type": "code",
   "execution_count": 1,
   "metadata": {
    "tags": []
   },
   "outputs": [],
   "source": [
    "def dms_to_decimal(degrees, minutes, seconds):\n",
    "    if degrees < 0:\n",
    "        result = degrees - minutes/60 - seconds/3600\n",
    "    else:\n",
    "        result = degrees + minutes/60 + seconds/3600\n",
    "    return result\n",
    "\n",
    "coordinate = '''37° 46' 26.2992\"'''\n",
    "\n",
    "# Add the code below to extract the parts from the coordinate string,\n",
    "# call the function to convert to decimal degrees and print the result\n",
    "# The expected answer is 37.773972"
   ]
  },
  {
   "cell_type": "code",
   "execution_count": 3,
   "metadata": {
    "tags": []
   },
   "outputs": [
    {
     "name": "stdout",
     "output_type": "stream",
     "text": [
      "37.773972\n"
     ]
    }
   ],
   "source": [
    "import re\n",
    "\n",
    "coordinate = '''37° 46' 26.2992\"'''\n",
    "\n",
    "# 使用正则表达式提取度、分、秒部分\n",
    "pattern = r'(\\d+)° (\\d+)'+\"' (\\d+\\.\\d+)\\\"\"\n",
    "match = re.match(pattern, coordinate)\n",
    "\n",
    "if match:\n",
    "    degrees = int(match.group(1))\n",
    "    minutes = int(match.group(2))\n",
    "    seconds = float(match.group(3))\n",
    "\n",
    "    # 调用函数进行转换\n",
    "    decimal_coordinate = dms_to_decimal(degrees, minutes, seconds)\n",
    "\n",
    "    # 打印结果\n",
    "    print(decimal_coordinate)\n",
    "else:\n",
    "    print(\"坐标字符串格式不正确\")"
   ]
  },
  {
   "cell_type": "code",
   "execution_count": 4,
   "metadata": {
    "tags": []
   },
   "outputs": [
    {
     "name": "stdout",
     "output_type": "stream",
     "text": [
      "25 <class 'str'>\n",
      "25 <class 'int'>\n"
     ]
    }
   ],
   "source": [
    "# Hint: Converting strings to numbers\n",
    "# When you extract the parts from the coordinate string, they are strings\n",
    "# You will need to use the built-in int() / float() functions to\n",
    "# convert them to numbers\n",
    "x = '25'\n",
    "print(x, type(x))\n",
    "y = int(x)\n",
    "print(y, type(y))"
   ]
  },
  {
   "cell_type": "markdown",
   "metadata": {},
   "source": [
    "----"
   ]
  },
  {
   "cell_type": "code",
   "execution_count": 8,
   "metadata": {
    "tags": []
   },
   "outputs": [
    {
     "name": "stdout",
     "output_type": "stream",
     "text": [
      "25.20 <class 'str'>\n",
      "25.2 <class 'float'>\n"
     ]
    }
   ],
   "source": [
    "def string_to_number(s):\n",
    "    \"\"\"\n",
    "    将字符串转换为数字（整数或浮点数）\n",
    "    \n",
    "    参数：\n",
    "        s：要转换的字符串\n",
    "    \n",
    "    返回值：\n",
    "        转换后的数字（整数或浮点数），如果转换失败则返回None\n",
    "    \"\"\"\n",
    "    try:\n",
    "        # 尝试将字符串转换为整数\n",
    "        return int(s)\n",
    "    except ValueError:\n",
    "        try:\n",
    "            # 如果转换为整数失败，则尝试转换为浮点数\n",
    "            return float(s)\n",
    "        except ValueError:\n",
    "            # 如果转换为浮点数失败，则打印错误提示并返回None\n",
    "            print(f\"无法将字符串'{s}'转换为数字\")\n",
    "            return None\n",
    "\n",
    "# 示例用法\n",
    "x = '25.20'\n",
    "print(x, type(x))\n",
    "\n",
    "# 使用string_to_number函数将字符串转换为数字\n",
    "y = string_to_number(x)\n",
    "if y is not None:\n",
    "    print(y, type(y))\n"
   ]
  },
  {
   "cell_type": "code",
   "execution_count": null,
   "metadata": {},
   "outputs": [],
   "source": []
  }
 ],
 "metadata": {
  "kernelspec": {
   "display_name": "Python 3 (ipykernel)",
   "language": "python",
   "name": "python3"
  },
  "language_info": {
   "codemirror_mode": {
    "name": "ipython",
    "version": 3
   },
   "file_extension": ".py",
   "mimetype": "text/x-python",
   "name": "python",
   "nbconvert_exporter": "python",
   "pygments_lexer": "ipython3",
   "version": "3.10.7"
  }
 },
 "nbformat": 4,
 "nbformat_minor": 4
}
