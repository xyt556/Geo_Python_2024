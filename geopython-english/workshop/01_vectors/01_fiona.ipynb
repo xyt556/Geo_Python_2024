{
 "cells": [
  {
   "cell_type": "markdown",
   "metadata": {},
   "source": [
    "# Fiona and Shapely\n",
    "\n",
    "[Fiona](http://toblerity.org/fiona/) is build on top of OGR and it introduces the object-oriented approach to the work with vector data. The data are re-mapped in to [GeoJSON](http://geojson.org) structure. The interaction is more straight-forward compared to OGR.\n",
    "\n",
    "Fiona is not suited to be the best for all tasks - simplicity is buyed back by the fact, all data need to be loaded in memmory. Also speed can be lower, when dealing with larger amounts of data. Where OGR uses pointers, Fiona has to deal with whole python objects. Generally: if you need to filter vector features, OGR should be faster, if you need to work with features sequentially, Fiona should be better.\n",
    "\n",
    "**Note**:\n",
    "> Fiona is great for binary data formats. For JSON, use the `json` python package. For data stored in database, use standard Python database interface.\n",
    "\n",
    "[Shapely](http://toblerity.org/shapely/manual.html) is a Python package for set-theoretic analysis and manipulation of planar features using (via Python’s ctypes module) functions from the well known and widely deployed GEOS library. \n",
    "\n",
    "**Short version:** \n",
    "> Fiona is here for attribute and whole data source manipulation, Shapely just manupulates vector data geometries.\n",
    "-----\n",
    "\n",
    "[Fiona](http://toblerity.org/fiona/)是建立在OGR之上的，它引入了面向对象的方法来处理矢量数据。数据被重新映射为[GeoJSON](http://geojson.org)结构。与OGR相比，交互更加直观。\n",
    "\n",
    "Fiona并不适用于所有任务 - 简单性是通过所有数据需要加载到内存中来实现的。此外，处理较大数量的数据时速度可能较慢。与OGR使用指针不同，Fiona必须处理整个Python对象。一般来说：如果您需要过滤矢量要素，OGR应该更快；如果您需要按顺序处理要素，Fiona应该更好。\n",
    "\n",
    "**注意**：\n",
    "> Fiona非常适合二进制数据格式。对于JSON，请使用`json` Python包。对于存储在数据库中的数据，请使用标准的Python数据库接口。\n",
    "\n",
    "[Shapely](http://toblerity.org/shapely/manual.html)是一个用于进行平面要素的集合论分析和操作的Python包，它使用了（通过Python的ctypes模块）来自著名且广泛部署的GEOS库的函数。\n",
    "\n",
    "**简短版本**：\n",
    "> Fiona用于属性和整个数据源的操作，而Shapely仅操作矢量数据的几何形状。¹²\n",
    "\n",
    "源: 与必应的对话， 2024/3/4\n",
    "(1) GIS with Python, Shapely, and Fiona - macwright.com. https://macwright.com/2012/10/31/gis-with-python-shapely-fiona.\n",
    "(2) Accessing Geospatial Data with PyShp, Shapely and Fiona. https://geospatialtraining.com/accessing-geospatial-data-with-pyshp-shapely-and-fiona/.\n",
    "(3) Shapely and Fiona - Mastering Geospatial Analysis with Python [Book]. https://www.oreilly.com/library/view/mastering-geospatial-analysis/9781788293334/a5d338e9-8f18-402b-836d-2fe7e0623cd3.xhtml.\n",
    "(4) Analyze Geospatial Data in Python: GeoPandas and Shapely. https://www.learndatasci.com/tutorials/geospatial-data-python-geopandas-shapely/."
   ]
  },
  {
   "cell_type": "markdown",
   "metadata": {},
   "source": [
    "## Our task"
   ]
  },
  {
   "cell_type": "markdown",
   "metadata": {},
   "source": [
    "Our task is to *create map of protected areas regions, which will be affected by new highway, being build from Prague (The Czech Republic) to Dresden (Germany)*.\n",
    "\n",
    "As input data, we shall have\n",
    "\n",
    "* Protected areas polygons downloaded from [the Nature Conservation Agency of the Czech Republic](http://www.ochranaprirody.cz/en/)\n",
    "* Map of highways downloaded from [OpenStreetMap](http://openstreetmap.org) project\n",
    "\n",
    "Data are stored in files: [data/protected_areas.gpkg](data/protected_areas.gpkg) and [data/highways.geojson](data/highways.geojson) (in fact, you can see our highways [on GitHub](https://github.com/GISMentors/geopython-english/blob/master/workshop/01_vectors/data/highways.geojson)).\n",
    "\n",
    "----\n",
    "我们的任务是*创建受到正在从布拉格（捷克共和国）修建到德累斯顿（德国）的新高速公路影响的受保护区域地图*。\n",
    "\n",
    "作为输入数据，我们将使用以下数据：\n",
    "\n",
    "* 从[捷克共和国自然保护局](http://www.ochranaprirody.cz/en/)下载的受保护区多边形\n",
    "* 从[OpenStreetMap](http://openstreetmap.org)项目下载的高速公路地图\n",
    "\n",
    "数据存储在文件中：[data/protected_areas.gpkg](data/protected_areas.gpkg)和[data/highways.geojson](data/highways.geojson)（实际上，您可以在[GitHub](https://github.com/GISMentors/geopython-english/blob/master/workshop/01_vectors/data/highways.geojson)上查看我们的高速公路）。\n",
    "\n",
    "源: 与必应的对话， 2024/3/4\n",
    "(1) Protected areas - Nature Conservation Agency of the Czech Republic .... https://www.nature.cz/web/en/protected-areas.\n",
    "(2) Explore the World's Protected Areas. https://www.protectedplanet.net/country/CZE.\n",
    "(3) Best protected landscape areas in Czech Republic | AllTrails. https://www.alltrails.com/czech-republic/state-parks.\n",
    "(4) Category : Protected areas in the Czech Republic by region. https://en.wikipedia.org/wiki/Category:Protected_areas_in_the_Czech_Republic_by_region.\n",
    "(5) Protected areas of the Czech Republic - Wikipedia. https://en.wikipedia.org/wiki/Protected_Areas_of_the_Czech_Republic.\n",
    "(6) . https://bing.com/search?q=map+of+highways+Prague+to+Dresden.\n",
    "(7) Prague to Dresden - 4 ways to travel via train, bus ... - Rome2rio. https://www.rome2rio.com/s/Prague/Dresden.\n",
    "(8) The Route - dresden-praha.eu. https://www.dresden-praha.eu/en/the-route.\n",
    "(9) Dresden - Prague driving directions - journey, distance, time and costs .... https://www.viamichelin.com/web/Routes/Route-Dresden-01001-Sachsen-Germany-to-Prague-_-Hlavni_mesto_Praha-Czechia.\n",
    "(10) Prague - Dresden driving directions - journey, distance, time and costs .... https://www.viamichelin.com/web/Routes/Route-Prague-_-Hlavni_mesto_Praha-Czechia-to-Dresden-01001-Sachsen-Germany.\n"
   ]
  },
  {
   "cell_type": "markdown",
   "metadata": {},
   "source": [
    "---\n",
    "[<- Introduction to vectors](00_introduction.ipynb) | [Working with data source ->](02_working_with_datasource.ipynb)"
   ]
  }
 ],
 "metadata": {
  "kernelspec": {
   "display_name": "Python 3 (ipykernel)",
   "language": "python",
   "name": "python3"
  },
  "language_info": {
   "codemirror_mode": {
    "name": "ipython",
    "version": 3
   },
   "file_extension": ".py",
   "mimetype": "text/x-python",
   "name": "python",
   "nbconvert_exporter": "python",
   "pygments_lexer": "ipython3",
   "version": "3.10.7"
  }
 },
 "nbformat": 4,
 "nbformat_minor": 4
}
