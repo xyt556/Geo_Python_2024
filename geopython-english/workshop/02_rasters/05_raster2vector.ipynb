{
 "cells": [
  {
   "cell_type": "markdown",
   "metadata": {},
   "source": [
    "## Raster to vector\n",
    "\n",
    "For transformation of `Numpy` structures to vector data, we can use several tools. Simpliest is to use RasterIO interal tool.\n",
    "\n",
    "### RasterIO-based vectorisation\n",
    "\n",
    "Modul `rasterio.features` contains tools for raster to vector transformation. Output format of the `shapes()` function, is GeoJSON.\n",
    "\n",
    "Another useful function is `sieve()`, which helps to remove too small areas.\n",
    "\n",
    "One of the importat inputs for the output vectors is Affine transformation parameter. It will help to identify pixel position in the coordinate reference system on Earth.\n"
   ]
  },
  {
   "cell_type": "code",
   "execution_count": 2,
   "metadata": {
    "tags": []
   },
   "outputs": [],
   "source": [
    "import rasterio\n",
    "import rasterio.features\n",
    "from affine import Affine\n",
    "import json\n",
    "\n",
    "with rasterio.open(\"../outputs/water.tif\") as src:\n",
    "\n",
    "    data = src.read(1)"
   ]
  },
  {
   "cell_type": "markdown",
   "metadata": {},
   "source": [
    "Next step, we will clean the input data from small areas"
   ]
  },
  {
   "cell_type": "code",
   "execution_count": 3,
   "metadata": {
    "tags": []
   },
   "outputs": [],
   "source": [
    "cleaned = rasterio.features.sieve(data, 10)"
   ]
  },
  {
   "cell_type": "markdown",
   "metadata": {},
   "source": [
    "As next step, we will convert data from raster to vector using transformation matrix of the source file"
   ]
  },
  {
   "cell_type": "code",
   "execution_count": 4,
   "metadata": {
    "tags": []
   },
   "outputs": [],
   "source": [
    "shapes = rasterio.features.shapes(cleaned, transform=src.transform)"
   ]
  },
  {
   "cell_type": "markdown",
   "metadata": {},
   "source": [
    "Create empty GeoJSON structure"
   ]
  },
  {
   "cell_type": "code",
   "execution_count": 5,
   "metadata": {
    "tags": []
   },
   "outputs": [],
   "source": [
    "features = {\n",
    "    \"type\": \"FeatureCollection\",\n",
    "    \"features\": []\n",
    "}"
   ]
  },
  {
   "cell_type": "code",
   "execution_count": 6,
   "metadata": {
    "tags": []
   },
   "outputs": [],
   "source": [
    "for (geom, val) in shapes:\n",
    "    val = int(val)\n",
    "    if val == 1:\n",
    "        feature = {\n",
    "            \"type\": \"Feature\",\n",
    "            \"properties\": {\n",
    "                \"class\": val,\n",
    "            },\n",
    "            \"geometry\": geom\n",
    "        }\n",
    "\n",
    "        features[\"features\"].append(feature)\n",
    "\n",
    "with open(\"../../outputs/water.geojson\", \"w\") as out:\n",
    "    json.dump(features, out)"
   ]
  },
  {
   "cell_type": "markdown",
   "metadata": {},
   "source": [
    "Final vector data [water.geojson](../../outputs/water.geojson) can be opend in QGIS\n",
    "\n",
    "![](images/water-vector.png)\n",
    "OpenStreetMap as backound for our Water vector\n"
   ]
  },
  {
   "cell_type": "markdown",
   "metadata": {},
   "source": [
    "## Vector to raster\n",
    "\n",
    "For the other way around - burning vector values into raster file - we use `rasterize()` function\n",
    "\n",
    "Let's write water vector as raster again:"
   ]
  },
  {
   "cell_type": "code",
   "execution_count": 7,
   "metadata": {
    "tags": []
   },
   "outputs": [
    {
     "data": {
      "image/png": "[encoded data removed]",
      "text/plain": [
       "<PIL.Image.Image image mode=L size=1119x3102>"
      ]
     },
     "execution_count": 7,
     "metadata": {},
     "output_type": "execute_result"
    }
   ],
   "source": [
    "import rasterio\n",
    "import rasterio.features\n",
    "import fiona\n",
    "from affine import Affine\n",
    "import PIL.Image\n",
    "\n",
    "resolution = 0.0001796\n",
    "\n",
    "with fiona.open(\"../../outputs/water.geojson\") as water:\n",
    "    geotransform = (\n",
    "        water.bounds[0], # left-bound\n",
    "        resolution,      # X-resolution\n",
    "        0.0,             # X-rotation\n",
    "        water.bounds[3], # top-bound\n",
    "        0.0,             # Y-rotation\n",
    "        -1*resolution    # Y-resolution\n",
    "    )\n",
    "    transform = Affine.from_gdal(*geotransform)\n",
    "    \n",
    "    image = rasterio.features.rasterize(\n",
    "            ((feature[\"geometry\"], 255) for feature in water),\n",
    "            out_shape=[int((water.bounds[2]-water.bounds[0])/resolution),\n",
    "                       int((water.bounds[3]-water.bounds[1])/resolution)],\n",
    "            transform=transform)\n",
    "\n",
    "PIL.Image.fromarray(image.astype(\"uint8\"), \"L\")"
   ]
  },
  {
   "cell_type": "markdown",
   "metadata": {},
   "source": [
    "---\n",
    "[<- Windowed reading and writing](04_windows.ipynb) | [Open Web Services (OWS) ->](../03_ows/00_intro.ipynb)"
   ]
  }
 ],
 "metadata": {
  "kernelspec": {
   "display_name": "Python 3 (ipykernel)",
   "language": "python",
   "name": "python3"
  },
  "language_info": {
   "codemirror_mode": {
    "name": "ipython",
    "version": 3
   },
   "file_extension": ".py",
   "mimetype": "text/x-python",
   "name": "python",
   "nbconvert_exporter": "python",
   "pygments_lexer": "ipython3",
   "version": "3.10.7"
  }
 },
 "nbformat": 4,
 "nbformat_minor": 4
}
